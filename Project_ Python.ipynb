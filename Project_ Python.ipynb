{
 "cells": [
  {
   "cell_type": "markdown",
   "metadata": {
    "id": "E0vqbgi9ay0H"
   },
   "source": [
    "# Yandex.Music"
   ]
  },
  {
   "cell_type": "markdown",
   "metadata": {
    "id": "fhq_eyov_Zcs"
   },
   "source": [
    "# Contents <a id='back'></a>\n",
    "\n",
    "* [Introduction](#intro)\n",
    "* [Stage 1. Data overview](#data_review)\n",
    "    * [Conclusions](#data_review_conclusions)\n",
    "* [Stage 2. Data preprocessing](#data_preprocessing)\n",
    "    * [2.1 Header style](#header_style)\n",
    "    * [2.2 Missing values](#missing_values)\n",
    "    * [2.3 Duplicates](#duplicates)\n",
    "    * [2.4 Conclusions](#data_preprocessing_conclusions)\n",
    "* [Stage 3. Testing the hypotheses](#hypotheses)\n",
    "    * [3.1 Hypothesis 1: user activity in the two cities](#activity)\n",
    "    * [3.2 Hypothesis 2: music preferences on Monday and Friday](#week)\n",
    "    * [3.3 Hypothesis 3: genre preferences in Springfield and Shelbyville](#genre)\n",
    "* [Findings](#end)"
   ]
  },
  {
   "cell_type": "markdown",
   "metadata": {
    "id": "VUC88oWjTJw2"
   },
   "source": [
    "## Introduction <a id='intro'></a>\n",
    "Whenever we're doing research, we need to formulate hypotheses that we can then test. Sometimes we accept these hypotheses; other times, we reject them. To make the right decisions, a business must be able to understand whether or not it's making the right assumptions.\n",
    "\n",
    "In this project, you'll compare the music preferences of the cities of Springfield and Shelbyville. You'll study real Yandex.Music data to test the hypotheses below and compare user behavior for these two cities.\n",
    "\n",
    "### Goal: \n",
    "Test three hypotheses:\n",
    "1. User activity differs depending on the day of the week and from city to city. \n",
    "2. On Monday mornings, Springfield and Shelbyville residents listen to different genres. This is also true for Friday evenings. \n",
    "3. Springfield and Shelbyville listeners have different preferences. In Springfield, they prefer pop, while Shelbyville has more rap fans.\n",
    "\n",
    "### Stages \n",
    "Data on user behavior is stored in the file `/datasets/music_project_en.csv`. There is no information about the quality of the data, so you will need to explore it before testing the hypotheses. \n",
    "\n",
    "First, you'll evaluate the quality of the data and see whether its issues are significant. Then, during data preprocessing, you will try to account for the most critical problems.\n",
    " \n",
    "Your project will consist of three stages:\n",
    " 1. Data overview\n",
    " 2. Data preprocessing\n",
    " 3. Testing the hypotheses\n",
    " \n",
    "[Back to Contents](#back)"
   ]
  },
  {
   "cell_type": "markdown",
   "metadata": {
    "id": "Ml1hmfXC_Zcs"
   },
   "source": [
    "## Stage 1. Data overview <a id='data_review'></a>\n",
    "\n",
    "Open the data on Yandex.Music and explore it."
   ]
  },
  {
   "cell_type": "markdown",
   "metadata": {
    "id": "57eAOGIz_Zcs"
   },
   "source": [
    "You'll need `pandas`, so import it."
   ]
  },
  {
   "cell_type": "code",
   "execution_count": 58,
   "metadata": {
    "id": "AXN7PHPN_Zcs"
   },
   "outputs": [],
   "source": [
    "# importing pandas\n",
    "import pandas as pd\n",
    "\n",
    "import warnings\n",
    "warnings.filterwarnings('ignore')"
   ]
  },
  {
   "cell_type": "markdown",
   "metadata": {
    "id": "SG23P8tt_Zcs"
   },
   "source": [
    "Read the file `music_project_en.csv` from the `/datasets/` folder and save it in the `df` variable:"
   ]
  },
  {
   "cell_type": "code",
   "execution_count": 59,
   "metadata": {},
   "outputs": [],
   "source": [
    "df = pd.read_csv('https://code.s3.yandex.net/datasets/music_project_en.csv')"
   ]
  },
  {
   "cell_type": "code",
   "execution_count": 60,
   "metadata": {
    "id": "fFVu7vqh_Zct",
    "scrolled": false
   },
   "outputs": [
    {
     "data": {
      "text/html": [
       "<div>\n",
       "<style scoped>\n",
       "    .dataframe tbody tr th:only-of-type {\n",
       "        vertical-align: middle;\n",
       "    }\n",
       "\n",
       "    .dataframe tbody tr th {\n",
       "        vertical-align: top;\n",
       "    }\n",
       "\n",
       "    .dataframe thead th {\n",
       "        text-align: right;\n",
       "    }\n",
       "</style>\n",
       "<table border=\"1\" class=\"dataframe\">\n",
       "  <thead>\n",
       "    <tr style=\"text-align: right;\">\n",
       "      <th></th>\n",
       "      <th>userID</th>\n",
       "      <th>Track</th>\n",
       "      <th>artist</th>\n",
       "      <th>genre</th>\n",
       "      <th>City</th>\n",
       "      <th>time</th>\n",
       "      <th>Day</th>\n",
       "    </tr>\n",
       "  </thead>\n",
       "  <tbody>\n",
       "    <tr>\n",
       "      <th>count</th>\n",
       "      <td>65079</td>\n",
       "      <td>63736</td>\n",
       "      <td>57512</td>\n",
       "      <td>63881</td>\n",
       "      <td>65079</td>\n",
       "      <td>65079</td>\n",
       "      <td>65079</td>\n",
       "    </tr>\n",
       "    <tr>\n",
       "      <th>unique</th>\n",
       "      <td>41748</td>\n",
       "      <td>39666</td>\n",
       "      <td>37806</td>\n",
       "      <td>268</td>\n",
       "      <td>2</td>\n",
       "      <td>20392</td>\n",
       "      <td>3</td>\n",
       "    </tr>\n",
       "    <tr>\n",
       "      <th>top</th>\n",
       "      <td>A8AE9169</td>\n",
       "      <td>Brand</td>\n",
       "      <td>Kartvelli</td>\n",
       "      <td>pop</td>\n",
       "      <td>Springfield</td>\n",
       "      <td>08:14:07</td>\n",
       "      <td>Friday</td>\n",
       "    </tr>\n",
       "    <tr>\n",
       "      <th>freq</th>\n",
       "      <td>76</td>\n",
       "      <td>136</td>\n",
       "      <td>136</td>\n",
       "      <td>8850</td>\n",
       "      <td>45360</td>\n",
       "      <td>14</td>\n",
       "      <td>23149</td>\n",
       "    </tr>\n",
       "  </tbody>\n",
       "</table>\n",
       "</div>"
      ],
      "text/plain": [
       "          userID  Track     artist  genre       City        time     Day\n",
       "count      65079  63736      57512  63881        65079     65079   65079\n",
       "unique     41748  39666      37806    268            2     20392       3\n",
       "top     A8AE9169  Brand  Kartvelli    pop  Springfield  08:14:07  Friday\n",
       "freq          76    136        136   8850        45360        14   23149"
      ]
     },
     "execution_count": 60,
     "metadata": {},
     "output_type": "execute_result"
    }
   ],
   "source": [
    "# reading the file and storing it to df\n",
    "df.describe()"
   ]
  },
  {
   "cell_type": "markdown",
   "metadata": {
    "id": "rDoOMd3uTqnZ"
   },
   "source": [
    "Print the first 10 table rows:"
   ]
  },
  {
   "cell_type": "code",
   "execution_count": 61,
   "metadata": {
    "id": "oWTVX3gW_Zct",
    "scrolled": true
   },
   "outputs": [
    {
     "data": {
      "text/html": [
       "<div>\n",
       "<style scoped>\n",
       "    .dataframe tbody tr th:only-of-type {\n",
       "        vertical-align: middle;\n",
       "    }\n",
       "\n",
       "    .dataframe tbody tr th {\n",
       "        vertical-align: top;\n",
       "    }\n",
       "\n",
       "    .dataframe thead th {\n",
       "        text-align: right;\n",
       "    }\n",
       "</style>\n",
       "<table border=\"1\" class=\"dataframe\">\n",
       "  <thead>\n",
       "    <tr style=\"text-align: right;\">\n",
       "      <th></th>\n",
       "      <th>userID</th>\n",
       "      <th>Track</th>\n",
       "      <th>artist</th>\n",
       "      <th>genre</th>\n",
       "      <th>City</th>\n",
       "      <th>time</th>\n",
       "      <th>Day</th>\n",
       "    </tr>\n",
       "  </thead>\n",
       "  <tbody>\n",
       "    <tr>\n",
       "      <th>0</th>\n",
       "      <td>FFB692EC</td>\n",
       "      <td>Kamigata To Boots</td>\n",
       "      <td>The Mass Missile</td>\n",
       "      <td>rock</td>\n",
       "      <td>Shelbyville</td>\n",
       "      <td>20:28:33</td>\n",
       "      <td>Wednesday</td>\n",
       "    </tr>\n",
       "    <tr>\n",
       "      <th>1</th>\n",
       "      <td>55204538</td>\n",
       "      <td>Delayed Because of Accident</td>\n",
       "      <td>Andreas Rönnberg</td>\n",
       "      <td>rock</td>\n",
       "      <td>Springfield</td>\n",
       "      <td>14:07:09</td>\n",
       "      <td>Friday</td>\n",
       "    </tr>\n",
       "    <tr>\n",
       "      <th>2</th>\n",
       "      <td>20EC38</td>\n",
       "      <td>Funiculì funiculà</td>\n",
       "      <td>Mario Lanza</td>\n",
       "      <td>pop</td>\n",
       "      <td>Shelbyville</td>\n",
       "      <td>20:58:07</td>\n",
       "      <td>Wednesday</td>\n",
       "    </tr>\n",
       "    <tr>\n",
       "      <th>3</th>\n",
       "      <td>A3DD03C9</td>\n",
       "      <td>Dragons in the Sunset</td>\n",
       "      <td>Fire + Ice</td>\n",
       "      <td>folk</td>\n",
       "      <td>Shelbyville</td>\n",
       "      <td>08:37:09</td>\n",
       "      <td>Monday</td>\n",
       "    </tr>\n",
       "    <tr>\n",
       "      <th>4</th>\n",
       "      <td>E2DC1FAE</td>\n",
       "      <td>Soul People</td>\n",
       "      <td>Space Echo</td>\n",
       "      <td>dance</td>\n",
       "      <td>Springfield</td>\n",
       "      <td>08:34:34</td>\n",
       "      <td>Monday</td>\n",
       "    </tr>\n",
       "    <tr>\n",
       "      <th>5</th>\n",
       "      <td>842029A1</td>\n",
       "      <td>Chains</td>\n",
       "      <td>Obladaet</td>\n",
       "      <td>rusrap</td>\n",
       "      <td>Shelbyville</td>\n",
       "      <td>13:09:41</td>\n",
       "      <td>Friday</td>\n",
       "    </tr>\n",
       "    <tr>\n",
       "      <th>6</th>\n",
       "      <td>4CB90AA5</td>\n",
       "      <td>True</td>\n",
       "      <td>Roman Messer</td>\n",
       "      <td>dance</td>\n",
       "      <td>Springfield</td>\n",
       "      <td>13:00:07</td>\n",
       "      <td>Wednesday</td>\n",
       "    </tr>\n",
       "    <tr>\n",
       "      <th>7</th>\n",
       "      <td>F03E1C1F</td>\n",
       "      <td>Feeling This Way</td>\n",
       "      <td>Polina Griffith</td>\n",
       "      <td>dance</td>\n",
       "      <td>Springfield</td>\n",
       "      <td>20:47:49</td>\n",
       "      <td>Wednesday</td>\n",
       "    </tr>\n",
       "    <tr>\n",
       "      <th>8</th>\n",
       "      <td>8FA1D3BE</td>\n",
       "      <td>L’estate</td>\n",
       "      <td>Julia Dalia</td>\n",
       "      <td>ruspop</td>\n",
       "      <td>Springfield</td>\n",
       "      <td>09:17:40</td>\n",
       "      <td>Friday</td>\n",
       "    </tr>\n",
       "    <tr>\n",
       "      <th>9</th>\n",
       "      <td>E772D5C0</td>\n",
       "      <td>Pessimist</td>\n",
       "      <td>NaN</td>\n",
       "      <td>dance</td>\n",
       "      <td>Shelbyville</td>\n",
       "      <td>21:20:49</td>\n",
       "      <td>Wednesday</td>\n",
       "    </tr>\n",
       "  </tbody>\n",
       "</table>\n",
       "</div>"
      ],
      "text/plain": [
       "     userID                        Track            artist   genre  \\\n",
       "0  FFB692EC            Kamigata To Boots  The Mass Missile    rock   \n",
       "1  55204538  Delayed Because of Accident  Andreas Rönnberg    rock   \n",
       "2    20EC38            Funiculì funiculà       Mario Lanza     pop   \n",
       "3  A3DD03C9        Dragons in the Sunset        Fire + Ice    folk   \n",
       "4  E2DC1FAE                  Soul People        Space Echo   dance   \n",
       "5  842029A1                       Chains          Obladaet  rusrap   \n",
       "6  4CB90AA5                         True      Roman Messer   dance   \n",
       "7  F03E1C1F             Feeling This Way   Polina Griffith   dance   \n",
       "8  8FA1D3BE                     L’estate       Julia Dalia  ruspop   \n",
       "9  E772D5C0                    Pessimist               NaN   dance   \n",
       "\n",
       "        City        time        Day  \n",
       "0  Shelbyville  20:28:33  Wednesday  \n",
       "1  Springfield  14:07:09     Friday  \n",
       "2  Shelbyville  20:58:07  Wednesday  \n",
       "3  Shelbyville  08:37:09     Monday  \n",
       "4  Springfield  08:34:34     Monday  \n",
       "5  Shelbyville  13:09:41     Friday  \n",
       "6  Springfield  13:00:07  Wednesday  \n",
       "7  Springfield  20:47:49  Wednesday  \n",
       "8  Springfield  09:17:40     Friday  \n",
       "9  Shelbyville  21:20:49  Wednesday  "
      ]
     },
     "execution_count": 61,
     "metadata": {},
     "output_type": "execute_result"
    }
   ],
   "source": [
    "# obtaining the first 10 rows from the df tabdf.head(10)\n",
    "df.head(10)"
   ]
  },
  {
   "cell_type": "markdown",
   "metadata": {
    "id": "EO73Kwic_Zct"
   },
   "source": [
    "Obtaining the general information about the table with one command:"
   ]
  },
  {
   "cell_type": "code",
   "execution_count": 62,
   "metadata": {
    "id": "DSf2kIb-_Zct"
   },
   "outputs": [
    {
     "name": "stdout",
     "output_type": "stream",
     "text": [
      "<class 'pandas.core.frame.DataFrame'>\n",
      "RangeIndex: 65079 entries, 0 to 65078\n",
      "Data columns (total 7 columns):\n",
      " #   Column    Non-Null Count  Dtype \n",
      "---  ------    --------------  ----- \n",
      " 0     userID  65079 non-null  object\n",
      " 1   Track     63736 non-null  object\n",
      " 2   artist    57512 non-null  object\n",
      " 3   genre     63881 non-null  object\n",
      " 4     City    65079 non-null  object\n",
      " 5   time      65079 non-null  object\n",
      " 6   Day       65079 non-null  object\n",
      "dtypes: object(7)\n",
      "memory usage: 3.5+ MB\n"
     ]
    }
   ],
   "source": [
    "# obtaining general information about the data in df\n",
    "df.info()"
   ]
  },
  {
   "cell_type": "markdown",
   "metadata": {
    "id": "TaQ2Iwbr_Zct"
   },
   "source": [
    "The table contains seven columns. They all store the same data type: `object`.\n",
    "\n",
    "According to the documentation:\n",
    "- `'userID'` — user identifier\n",
    "- `'Track'` — track title\n",
    "- `'artist'` — artist's name\n",
    "- `'genre'`\n",
    "- `'City'` — user's city\n",
    "- `'time'` — the exact time the track was played\n",
    "- `'Day'` — day of the week\n",
    "\n",
    "We can see three issues with style in the column names:\n",
    "1. Some names are uppercase, some are lowercase.\n",
    "2. There are spaces in some names.\n",
    "3. `Detect the third issue yourself and describe it here`. The first 10 Tracks were only heard in the city of Shelbyville\n",
    "4. No music or Track was heard on Tuesday and Thursday from the first 10 rows\n",
    "5. The Artist name for Track number 10 is missing or NAN\n",
    "\n",
    "\n",
    "The number of column values is different. This means the data contains missing values.\n"
   ]
  },
  {
   "cell_type": "markdown",
   "metadata": {
    "id": "MCB6-dXG_Zct"
   },
   "source": [
    "### Conclusions <a id='data_review_conclusions'></a> \n",
    "\n",
    "Each row in the table stores data on a track that was played. Some columns describe the track itself: its title, artist and genre. The rest convey information about the user: the city they come from, the time they played the track. \n",
    "\n",
    "It's clear that the data is sufficient to test the hypotheses. However, there are missing values.\n",
    "\n",
    "To move forward, we need to preprocess the data."
   ]
  },
  {
   "cell_type": "markdown",
   "metadata": {
    "id": "3eL__vcwViOi"
   },
   "source": [
    "[Back to Contents](#back)"
   ]
  },
  {
   "cell_type": "markdown",
   "metadata": {
    "id": "SjYF6Ub9_Zct"
   },
   "source": [
    "## Stage 2. Data preprocessing <a id='data_preprocessing'></a>\n",
    "Correct the formatting in the column headers and deal with the missing values. Then, check whether there are duplicates in the data."
   ]
  },
  {
   "cell_type": "markdown",
   "metadata": {
    "id": "dIaKXr29_Zct"
   },
   "source": [
    "### Header style <a id='header_style'></a>\n",
    "Print the column header:"
   ]
  },
  {
   "cell_type": "code",
   "execution_count": 63,
   "metadata": {
    "id": "oKOTdF_Q_Zct",
    "scrolled": true
   },
   "outputs": [
    {
     "data": {
      "text/plain": [
       "Index(['  userID', 'Track', 'artist', 'genre', '  City  ', 'time', 'Day'], dtype='object')"
      ]
     },
     "execution_count": 63,
     "metadata": {},
     "output_type": "execute_result"
    }
   ],
   "source": [
    "# the list of column names in the df table\n",
    "df.columns"
   ]
  },
  {
   "cell_type": "markdown",
   "metadata": {
    "id": "zj5534cv_Zct"
   },
   "source": [
    "Change column names according to the rules of good style:\n",
    "* If the name has several words, use snake_case\n",
    "* All characters must be lowercase\n",
    "* Delete spaces"
   ]
  },
  {
   "cell_type": "code",
   "execution_count": 64,
   "metadata": {
    "id": "ISlFqs5y_Zct",
    "scrolled": false
   },
   "outputs": [
    {
     "data": {
      "text/html": [
       "<div>\n",
       "<style scoped>\n",
       "    .dataframe tbody tr th:only-of-type {\n",
       "        vertical-align: middle;\n",
       "    }\n",
       "\n",
       "    .dataframe tbody tr th {\n",
       "        vertical-align: top;\n",
       "    }\n",
       "\n",
       "    .dataframe thead th {\n",
       "        text-align: right;\n",
       "    }\n",
       "</style>\n",
       "<table border=\"1\" class=\"dataframe\">\n",
       "  <thead>\n",
       "    <tr style=\"text-align: right;\">\n",
       "      <th></th>\n",
       "      <th>user_id</th>\n",
       "      <th>track</th>\n",
       "      <th>artist</th>\n",
       "      <th>genre</th>\n",
       "      <th>city</th>\n",
       "      <th>time</th>\n",
       "      <th>day</th>\n",
       "    </tr>\n",
       "  </thead>\n",
       "  <tbody>\n",
       "    <tr>\n",
       "      <th>0</th>\n",
       "      <td>FFB692EC</td>\n",
       "      <td>Kamigata To Boots</td>\n",
       "      <td>The Mass Missile</td>\n",
       "      <td>rock</td>\n",
       "      <td>Shelbyville</td>\n",
       "      <td>20:28:33</td>\n",
       "      <td>Wednesday</td>\n",
       "    </tr>\n",
       "    <tr>\n",
       "      <th>1</th>\n",
       "      <td>55204538</td>\n",
       "      <td>Delayed Because of Accident</td>\n",
       "      <td>Andreas Rönnberg</td>\n",
       "      <td>rock</td>\n",
       "      <td>Springfield</td>\n",
       "      <td>14:07:09</td>\n",
       "      <td>Friday</td>\n",
       "    </tr>\n",
       "    <tr>\n",
       "      <th>2</th>\n",
       "      <td>20EC38</td>\n",
       "      <td>Funiculì funiculà</td>\n",
       "      <td>Mario Lanza</td>\n",
       "      <td>pop</td>\n",
       "      <td>Shelbyville</td>\n",
       "      <td>20:58:07</td>\n",
       "      <td>Wednesday</td>\n",
       "    </tr>\n",
       "    <tr>\n",
       "      <th>3</th>\n",
       "      <td>A3DD03C9</td>\n",
       "      <td>Dragons in the Sunset</td>\n",
       "      <td>Fire + Ice</td>\n",
       "      <td>folk</td>\n",
       "      <td>Shelbyville</td>\n",
       "      <td>08:37:09</td>\n",
       "      <td>Monday</td>\n",
       "    </tr>\n",
       "    <tr>\n",
       "      <th>4</th>\n",
       "      <td>E2DC1FAE</td>\n",
       "      <td>Soul People</td>\n",
       "      <td>Space Echo</td>\n",
       "      <td>dance</td>\n",
       "      <td>Springfield</td>\n",
       "      <td>08:34:34</td>\n",
       "      <td>Monday</td>\n",
       "    </tr>\n",
       "    <tr>\n",
       "      <th>...</th>\n",
       "      <td>...</td>\n",
       "      <td>...</td>\n",
       "      <td>...</td>\n",
       "      <td>...</td>\n",
       "      <td>...</td>\n",
       "      <td>...</td>\n",
       "      <td>...</td>\n",
       "    </tr>\n",
       "    <tr>\n",
       "      <th>65074</th>\n",
       "      <td>729CBB09</td>\n",
       "      <td>My Name</td>\n",
       "      <td>McLean</td>\n",
       "      <td>rnb</td>\n",
       "      <td>Springfield</td>\n",
       "      <td>13:32:28</td>\n",
       "      <td>Wednesday</td>\n",
       "    </tr>\n",
       "    <tr>\n",
       "      <th>65075</th>\n",
       "      <td>D08D4A55</td>\n",
       "      <td>Maybe One Day (feat. Black Spade)</td>\n",
       "      <td>Blu &amp; Exile</td>\n",
       "      <td>hip</td>\n",
       "      <td>Shelbyville</td>\n",
       "      <td>10:00:00</td>\n",
       "      <td>Monday</td>\n",
       "    </tr>\n",
       "    <tr>\n",
       "      <th>65076</th>\n",
       "      <td>C5E3A0D5</td>\n",
       "      <td>Jalopiina</td>\n",
       "      <td>NaN</td>\n",
       "      <td>industrial</td>\n",
       "      <td>Springfield</td>\n",
       "      <td>20:09:26</td>\n",
       "      <td>Friday</td>\n",
       "    </tr>\n",
       "    <tr>\n",
       "      <th>65077</th>\n",
       "      <td>321D0506</td>\n",
       "      <td>Freight Train</td>\n",
       "      <td>Chas McDevitt</td>\n",
       "      <td>rock</td>\n",
       "      <td>Springfield</td>\n",
       "      <td>21:43:59</td>\n",
       "      <td>Friday</td>\n",
       "    </tr>\n",
       "    <tr>\n",
       "      <th>65078</th>\n",
       "      <td>3A64EF84</td>\n",
       "      <td>Tell Me Sweet Little Lies</td>\n",
       "      <td>Monica Lopez</td>\n",
       "      <td>country</td>\n",
       "      <td>Springfield</td>\n",
       "      <td>21:59:46</td>\n",
       "      <td>Friday</td>\n",
       "    </tr>\n",
       "  </tbody>\n",
       "</table>\n",
       "<p>65079 rows × 7 columns</p>\n",
       "</div>"
      ],
      "text/plain": [
       "        user_id                              track            artist  \\\n",
       "0      FFB692EC                  Kamigata To Boots  The Mass Missile   \n",
       "1      55204538        Delayed Because of Accident  Andreas Rönnberg   \n",
       "2        20EC38                  Funiculì funiculà       Mario Lanza   \n",
       "3      A3DD03C9              Dragons in the Sunset        Fire + Ice   \n",
       "4      E2DC1FAE                        Soul People        Space Echo   \n",
       "...         ...                                ...               ...   \n",
       "65074  729CBB09                            My Name            McLean   \n",
       "65075  D08D4A55  Maybe One Day (feat. Black Spade)       Blu & Exile   \n",
       "65076  C5E3A0D5                          Jalopiina               NaN   \n",
       "65077  321D0506                      Freight Train     Chas McDevitt   \n",
       "65078  3A64EF84          Tell Me Sweet Little Lies      Monica Lopez   \n",
       "\n",
       "            genre         city      time        day  \n",
       "0            rock  Shelbyville  20:28:33  Wednesday  \n",
       "1            rock  Springfield  14:07:09     Friday  \n",
       "2             pop  Shelbyville  20:58:07  Wednesday  \n",
       "3            folk  Shelbyville  08:37:09     Monday  \n",
       "4           dance  Springfield  08:34:34     Monday  \n",
       "...           ...          ...       ...        ...  \n",
       "65074         rnb  Springfield  13:32:28  Wednesday  \n",
       "65075         hip  Shelbyville  10:00:00     Monday  \n",
       "65076  industrial  Springfield  20:09:26     Friday  \n",
       "65077        rock  Springfield  21:43:59     Friday  \n",
       "65078     country  Springfield  21:59:46     Friday  \n",
       "\n",
       "[65079 rows x 7 columns]"
      ]
     },
     "execution_count": 64,
     "metadata": {},
     "output_type": "execute_result"
    }
   ],
   "source": [
    "# renaming columns\n",
    "df.columns=df.columns.str.strip()\n",
    "df.rename(columns={'userID':'user_id', 'Track':'track', 'City':'city', 'Day':'day'}, inplace=True)\n",
    "df"
   ]
  },
  {
   "cell_type": "markdown",
   "metadata": {
    "id": "1dqbh00J_Zct"
   },
   "source": [
    "Check the result. Print the names of the columns once more:"
   ]
  },
  {
   "cell_type": "code",
   "execution_count": 65,
   "metadata": {
    "id": "d4NOAmTW_Zct"
   },
   "outputs": [
    {
     "data": {
      "text/plain": [
       "Index(['user_id', 'track', 'artist', 'genre', 'city', 'time', 'day'], dtype='object')"
      ]
     },
     "execution_count": 65,
     "metadata": {},
     "output_type": "execute_result"
    }
   ],
   "source": [
    "# checking result: the list of column names\n",
    "df.columns"
   ]
  },
  {
   "cell_type": "markdown",
   "metadata": {
    "id": "xYJk6ksJVpOl"
   },
   "source": [
    "[Back to Contents](#back)"
   ]
  },
  {
   "cell_type": "markdown",
   "metadata": {
    "id": "5ISfbcfY_Zct"
   },
   "source": [
    "### Missing values <a id='missing_values'></a>\n",
    "First, find the number of missing values in the table. To do so, use two `pandas` methods:"
   ]
  },
  {
   "cell_type": "code",
   "execution_count": 66,
   "metadata": {
    "id": "RskX29qr_Zct",
    "scrolled": false
   },
   "outputs": [
    {
     "data": {
      "text/plain": [
       "user_id       0\n",
       "track      1343\n",
       "artist     7567\n",
       "genre      1198\n",
       "city          0\n",
       "time          0\n",
       "day           0\n",
       "dtype: int64"
      ]
     },
     "execution_count": 66,
     "metadata": {},
     "output_type": "execute_result"
    }
   ],
   "source": [
    "# calculating missing values\n",
    "df.isna().sum()"
   ]
  },
  {
   "cell_type": "code",
   "execution_count": 67,
   "metadata": {
    "scrolled": true
   },
   "outputs": [
    {
     "data": {
      "text/plain": [
       "user_id    0.000000\n",
       "track      0.020636\n",
       "artist     0.116274\n",
       "genre      0.018408\n",
       "city       0.000000\n",
       "time       0.000000\n",
       "day        0.000000\n",
       "dtype: float64"
      ]
     },
     "execution_count": 67,
     "metadata": {},
     "output_type": "execute_result"
    }
   ],
   "source": [
    "# calculating missing values (second method)\n",
    "df.isnull().sum()/len(df)"
   ]
  },
  {
   "cell_type": "markdown",
   "metadata": {
    "id": "qubhgnlO_Zct"
   },
   "source": [
    "Not all missing values affect the research. For instance, the missing values in `track` and `artist` are not critical. You can simply replace them with clear markers.\n",
    "\n",
    "But missing values in `'genre'` can affect the comparison of music preferences in Springfield and Shelbyville. In real life, it would be useful to learn the reasons why the data is missing and try to make up for them. But we do not have that opportunity in this project. So you will have to:\n",
    "* Fill in these missing values with markers\n",
    "* Evaluate how much the missing values may affect your computations"
   ]
  },
  {
   "cell_type": "markdown",
   "metadata": {
    "id": "fSv2laPA_Zct"
   },
   "source": [
    "Replace the missing values in `'track'`, `'artist'`, and `'genre'` with the string `'unknown'`. To do this, create the `columns_to_replace` list, loop over it with `for`, and replace the missing values in each of the columns:"
   ]
  },
  {
   "cell_type": "code",
   "execution_count": 68,
   "metadata": {
    "id": "KplB5qWs_Zct",
    "scrolled": false
   },
   "outputs": [
    {
     "data": {
      "text/html": [
       "<div>\n",
       "<style scoped>\n",
       "    .dataframe tbody tr th:only-of-type {\n",
       "        vertical-align: middle;\n",
       "    }\n",
       "\n",
       "    .dataframe tbody tr th {\n",
       "        vertical-align: top;\n",
       "    }\n",
       "\n",
       "    .dataframe thead th {\n",
       "        text-align: right;\n",
       "    }\n",
       "</style>\n",
       "<table border=\"1\" class=\"dataframe\">\n",
       "  <thead>\n",
       "    <tr style=\"text-align: right;\">\n",
       "      <th></th>\n",
       "      <th>track</th>\n",
       "      <th>artist</th>\n",
       "      <th>genre</th>\n",
       "    </tr>\n",
       "  </thead>\n",
       "  <tbody>\n",
       "    <tr>\n",
       "      <th>0</th>\n",
       "      <td>Kamigata To Boots</td>\n",
       "      <td>The Mass Missile</td>\n",
       "      <td>rock</td>\n",
       "    </tr>\n",
       "    <tr>\n",
       "      <th>1</th>\n",
       "      <td>Delayed Because of Accident</td>\n",
       "      <td>Andreas Rönnberg</td>\n",
       "      <td>rock</td>\n",
       "    </tr>\n",
       "    <tr>\n",
       "      <th>2</th>\n",
       "      <td>Funiculì funiculà</td>\n",
       "      <td>Mario Lanza</td>\n",
       "      <td>pop</td>\n",
       "    </tr>\n",
       "    <tr>\n",
       "      <th>3</th>\n",
       "      <td>Dragons in the Sunset</td>\n",
       "      <td>Fire + Ice</td>\n",
       "      <td>folk</td>\n",
       "    </tr>\n",
       "    <tr>\n",
       "      <th>4</th>\n",
       "      <td>Soul People</td>\n",
       "      <td>Space Echo</td>\n",
       "      <td>dance</td>\n",
       "    </tr>\n",
       "    <tr>\n",
       "      <th>...</th>\n",
       "      <td>...</td>\n",
       "      <td>...</td>\n",
       "      <td>...</td>\n",
       "    </tr>\n",
       "    <tr>\n",
       "      <th>65074</th>\n",
       "      <td>My Name</td>\n",
       "      <td>McLean</td>\n",
       "      <td>rnb</td>\n",
       "    </tr>\n",
       "    <tr>\n",
       "      <th>65075</th>\n",
       "      <td>Maybe One Day (feat. Black Spade)</td>\n",
       "      <td>Blu &amp; Exile</td>\n",
       "      <td>hip</td>\n",
       "    </tr>\n",
       "    <tr>\n",
       "      <th>65076</th>\n",
       "      <td>Jalopiina</td>\n",
       "      <td>NaN</td>\n",
       "      <td>industrial</td>\n",
       "    </tr>\n",
       "    <tr>\n",
       "      <th>65077</th>\n",
       "      <td>Freight Train</td>\n",
       "      <td>Chas McDevitt</td>\n",
       "      <td>rock</td>\n",
       "    </tr>\n",
       "    <tr>\n",
       "      <th>65078</th>\n",
       "      <td>Tell Me Sweet Little Lies</td>\n",
       "      <td>Monica Lopez</td>\n",
       "      <td>country</td>\n",
       "    </tr>\n",
       "  </tbody>\n",
       "</table>\n",
       "<p>65079 rows × 3 columns</p>\n",
       "</div>"
      ],
      "text/plain": [
       "                                   track            artist       genre\n",
       "0                      Kamigata To Boots  The Mass Missile        rock\n",
       "1            Delayed Because of Accident  Andreas Rönnberg        rock\n",
       "2                      Funiculì funiculà       Mario Lanza         pop\n",
       "3                  Dragons in the Sunset        Fire + Ice        folk\n",
       "4                            Soul People        Space Echo       dance\n",
       "...                                  ...               ...         ...\n",
       "65074                            My Name            McLean         rnb\n",
       "65075  Maybe One Day (feat. Black Spade)       Blu & Exile         hip\n",
       "65076                          Jalopiina               NaN  industrial\n",
       "65077                      Freight Train     Chas McDevitt        rock\n",
       "65078          Tell Me Sweet Little Lies      Monica Lopez     country\n",
       "\n",
       "[65079 rows x 3 columns]"
      ]
     },
     "execution_count": 68,
     "metadata": {},
     "output_type": "execute_result"
    }
   ],
   "source": [
    "# looping over column names and replacing missing values with 'unknown'\n",
    "\n",
    "columns_to_replace = df.loc[:, ['track', 'artist', 'genre']]\n",
    "                            \n",
    "for column in columns_to_replace:\n",
    "    df[column]=columns_to_replace[column].fillna('unknown')\n",
    "    \n",
    "columns_to_replace\n",
    "\n"
   ]
  },
  {
   "cell_type": "markdown",
   "metadata": {
    "id": "Ilsm-MZo_Zct"
   },
   "source": [
    "Make sure the table contains no more missing values. Count the missing values again."
   ]
  },
  {
   "cell_type": "code",
   "execution_count": 69,
   "metadata": {
    "id": "Tq4nYRX4_Zct"
   },
   "outputs": [
    {
     "data": {
      "text/plain": [
       "user_id    0\n",
       "track      0\n",
       "artist     0\n",
       "genre      0\n",
       "city       0\n",
       "time       0\n",
       "day        0\n",
       "dtype: int64"
      ]
     },
     "execution_count": 69,
     "metadata": {},
     "output_type": "execute_result"
    }
   ],
   "source": [
    "# counting missing values\n",
    "df.isna().sum()"
   ]
  },
  {
   "cell_type": "markdown",
   "metadata": {
    "id": "74ZIBmq9VrsK"
   },
   "source": [
    "[Back to Contents](#back)"
   ]
  },
  {
   "cell_type": "markdown",
   "metadata": {
    "id": "BWKRtBJ3_Zct"
   },
   "source": [
    "### Duplicates <a id='duplicates'></a>\n",
    "Find the number of obvious duplicates in the table using one command:"
   ]
  },
  {
   "cell_type": "code",
   "execution_count": 70,
   "metadata": {
    "id": "36eES_S0_Zct"
   },
   "outputs": [
    {
     "data": {
      "text/plain": [
       "3826"
      ]
     },
     "execution_count": 70,
     "metadata": {},
     "output_type": "execute_result"
    }
   ],
   "source": [
    "# counting clear duplicates\n",
    "df.duplicated().sum()"
   ]
  },
  {
   "cell_type": "markdown",
   "metadata": {
    "id": "Ot25h6XR_Zct"
   },
   "source": [
    "Call the `pandas` method for getting rid of obvious duplicates:"
   ]
  },
  {
   "cell_type": "code",
   "execution_count": 71,
   "metadata": {
    "id": "exFHq6tt_Zct",
    "scrolled": true
   },
   "outputs": [
    {
     "data": {
      "text/html": [
       "<div>\n",
       "<style scoped>\n",
       "    .dataframe tbody tr th:only-of-type {\n",
       "        vertical-align: middle;\n",
       "    }\n",
       "\n",
       "    .dataframe tbody tr th {\n",
       "        vertical-align: top;\n",
       "    }\n",
       "\n",
       "    .dataframe thead th {\n",
       "        text-align: right;\n",
       "    }\n",
       "</style>\n",
       "<table border=\"1\" class=\"dataframe\">\n",
       "  <thead>\n",
       "    <tr style=\"text-align: right;\">\n",
       "      <th></th>\n",
       "      <th>user_id</th>\n",
       "      <th>track</th>\n",
       "      <th>artist</th>\n",
       "      <th>genre</th>\n",
       "      <th>city</th>\n",
       "      <th>time</th>\n",
       "      <th>day</th>\n",
       "    </tr>\n",
       "  </thead>\n",
       "  <tbody>\n",
       "    <tr>\n",
       "      <th>0</th>\n",
       "      <td>FFB692EC</td>\n",
       "      <td>Kamigata To Boots</td>\n",
       "      <td>The Mass Missile</td>\n",
       "      <td>rock</td>\n",
       "      <td>Shelbyville</td>\n",
       "      <td>20:28:33</td>\n",
       "      <td>Wednesday</td>\n",
       "    </tr>\n",
       "    <tr>\n",
       "      <th>1</th>\n",
       "      <td>55204538</td>\n",
       "      <td>Delayed Because of Accident</td>\n",
       "      <td>Andreas Rönnberg</td>\n",
       "      <td>rock</td>\n",
       "      <td>Springfield</td>\n",
       "      <td>14:07:09</td>\n",
       "      <td>Friday</td>\n",
       "    </tr>\n",
       "    <tr>\n",
       "      <th>2</th>\n",
       "      <td>20EC38</td>\n",
       "      <td>Funiculì funiculà</td>\n",
       "      <td>Mario Lanza</td>\n",
       "      <td>pop</td>\n",
       "      <td>Shelbyville</td>\n",
       "      <td>20:58:07</td>\n",
       "      <td>Wednesday</td>\n",
       "    </tr>\n",
       "    <tr>\n",
       "      <th>3</th>\n",
       "      <td>A3DD03C9</td>\n",
       "      <td>Dragons in the Sunset</td>\n",
       "      <td>Fire + Ice</td>\n",
       "      <td>folk</td>\n",
       "      <td>Shelbyville</td>\n",
       "      <td>08:37:09</td>\n",
       "      <td>Monday</td>\n",
       "    </tr>\n",
       "    <tr>\n",
       "      <th>4</th>\n",
       "      <td>E2DC1FAE</td>\n",
       "      <td>Soul People</td>\n",
       "      <td>Space Echo</td>\n",
       "      <td>dance</td>\n",
       "      <td>Springfield</td>\n",
       "      <td>08:34:34</td>\n",
       "      <td>Monday</td>\n",
       "    </tr>\n",
       "    <tr>\n",
       "      <th>...</th>\n",
       "      <td>...</td>\n",
       "      <td>...</td>\n",
       "      <td>...</td>\n",
       "      <td>...</td>\n",
       "      <td>...</td>\n",
       "      <td>...</td>\n",
       "      <td>...</td>\n",
       "    </tr>\n",
       "    <tr>\n",
       "      <th>61248</th>\n",
       "      <td>729CBB09</td>\n",
       "      <td>My Name</td>\n",
       "      <td>McLean</td>\n",
       "      <td>rnb</td>\n",
       "      <td>Springfield</td>\n",
       "      <td>13:32:28</td>\n",
       "      <td>Wednesday</td>\n",
       "    </tr>\n",
       "    <tr>\n",
       "      <th>61249</th>\n",
       "      <td>D08D4A55</td>\n",
       "      <td>Maybe One Day (feat. Black Spade)</td>\n",
       "      <td>Blu &amp; Exile</td>\n",
       "      <td>hip</td>\n",
       "      <td>Shelbyville</td>\n",
       "      <td>10:00:00</td>\n",
       "      <td>Monday</td>\n",
       "    </tr>\n",
       "    <tr>\n",
       "      <th>61250</th>\n",
       "      <td>C5E3A0D5</td>\n",
       "      <td>Jalopiina</td>\n",
       "      <td>unknown</td>\n",
       "      <td>industrial</td>\n",
       "      <td>Springfield</td>\n",
       "      <td>20:09:26</td>\n",
       "      <td>Friday</td>\n",
       "    </tr>\n",
       "    <tr>\n",
       "      <th>61251</th>\n",
       "      <td>321D0506</td>\n",
       "      <td>Freight Train</td>\n",
       "      <td>Chas McDevitt</td>\n",
       "      <td>rock</td>\n",
       "      <td>Springfield</td>\n",
       "      <td>21:43:59</td>\n",
       "      <td>Friday</td>\n",
       "    </tr>\n",
       "    <tr>\n",
       "      <th>61252</th>\n",
       "      <td>3A64EF84</td>\n",
       "      <td>Tell Me Sweet Little Lies</td>\n",
       "      <td>Monica Lopez</td>\n",
       "      <td>country</td>\n",
       "      <td>Springfield</td>\n",
       "      <td>21:59:46</td>\n",
       "      <td>Friday</td>\n",
       "    </tr>\n",
       "  </tbody>\n",
       "</table>\n",
       "<p>61253 rows × 7 columns</p>\n",
       "</div>"
      ],
      "text/plain": [
       "        user_id                              track            artist  \\\n",
       "0      FFB692EC                  Kamigata To Boots  The Mass Missile   \n",
       "1      55204538        Delayed Because of Accident  Andreas Rönnberg   \n",
       "2        20EC38                  Funiculì funiculà       Mario Lanza   \n",
       "3      A3DD03C9              Dragons in the Sunset        Fire + Ice   \n",
       "4      E2DC1FAE                        Soul People        Space Echo   \n",
       "...         ...                                ...               ...   \n",
       "61248  729CBB09                            My Name            McLean   \n",
       "61249  D08D4A55  Maybe One Day (feat. Black Spade)       Blu & Exile   \n",
       "61250  C5E3A0D5                          Jalopiina           unknown   \n",
       "61251  321D0506                      Freight Train     Chas McDevitt   \n",
       "61252  3A64EF84          Tell Me Sweet Little Lies      Monica Lopez   \n",
       "\n",
       "            genre         city      time        day  \n",
       "0            rock  Shelbyville  20:28:33  Wednesday  \n",
       "1            rock  Springfield  14:07:09     Friday  \n",
       "2             pop  Shelbyville  20:58:07  Wednesday  \n",
       "3            folk  Shelbyville  08:37:09     Monday  \n",
       "4           dance  Springfield  08:34:34     Monday  \n",
       "...           ...          ...       ...        ...  \n",
       "61248         rnb  Springfield  13:32:28  Wednesday  \n",
       "61249         hip  Shelbyville  10:00:00     Monday  \n",
       "61250  industrial  Springfield  20:09:26     Friday  \n",
       "61251        rock  Springfield  21:43:59     Friday  \n",
       "61252     country  Springfield  21:59:46     Friday  \n",
       "\n",
       "[61253 rows x 7 columns]"
      ]
     },
     "execution_count": 71,
     "metadata": {},
     "output_type": "execute_result"
    }
   ],
   "source": [
    "# removing obvious duplicates\n",
    "df = df.drop_duplicates()\n",
    "df.reset_index(drop=True)\n"
   ]
  },
  {
   "cell_type": "markdown",
   "metadata": {
    "id": "Im2YwBEG_Zct"
   },
   "source": [
    "Count obvious duplicates once more to make sure you have removed all of them:"
   ]
  },
  {
   "cell_type": "code",
   "execution_count": 72,
   "metadata": {
    "id": "-8PuNWQ0_Zct"
   },
   "outputs": [
    {
     "data": {
      "text/plain": [
       "0"
      ]
     },
     "execution_count": 72,
     "metadata": {},
     "output_type": "execute_result"
    }
   ],
   "source": [
    "# checking for duplicates\n",
    "df.duplicated().sum()"
   ]
  },
  {
   "cell_type": "markdown",
   "metadata": {
    "id": "QlFBsxAr_Zct"
   },
   "source": [
    "Now get rid of implicit duplicates in the `genre` column. For example, the name of a genre can be written in different ways. Such errors will also affect the result."
   ]
  },
  {
   "cell_type": "markdown",
   "metadata": {
    "id": "eSjWwsOh_Zct"
   },
   "source": [
    "Print a list of unique genre names, sorted in alphabetical order. To do so:\n",
    "* Retrieve the intended DataFrame column \n",
    "* Apply a sorting method to it\n",
    "* For the sorted column, call the method that will return all unique column values"
   ]
  },
  {
   "cell_type": "code",
   "execution_count": 73,
   "metadata": {
    "id": "JIUcqzZN_Zct",
    "scrolled": true
   },
   "outputs": [
    {
     "data": {
      "text/plain": [
       "array(['acid', 'acoustic', 'action', 'adult', 'africa', 'afrikaans',\n",
       "       'alternative', 'ambient', 'americana', 'animated', 'anime',\n",
       "       'arabesk', 'arabic', 'arena', 'argentinetango', 'art', 'audiobook',\n",
       "       'avantgarde', 'axé', 'baile', 'balkan', 'beats', 'bigroom',\n",
       "       'black', 'bluegrass', 'blues', 'bollywood', 'bossa', 'brazilian',\n",
       "       'breakbeat', 'breaks', 'broadway', 'cantautori', 'cantopop',\n",
       "       'canzone', 'caribbean', 'caucasian', 'celtic', 'chamber',\n",
       "       'children', 'chill', 'chinese', 'choral', 'christian', 'christmas',\n",
       "       'classical', 'classicmetal', 'club', 'colombian', 'comedy',\n",
       "       'conjazz', 'contemporary', 'country', 'cuban', 'dance',\n",
       "       'dancehall', 'dancepop', 'dark', 'death', 'deep', 'deutschrock',\n",
       "       'deutschspr', 'dirty', 'disco', 'dnb', 'documentary', 'downbeat',\n",
       "       'downtempo', 'drum', 'dub', 'dubstep', 'eastern', 'easy',\n",
       "       'electronic', 'electropop', 'emo', 'entehno', 'epicmetal',\n",
       "       'estrada', 'ethnic', 'eurofolk', 'european', 'experimental',\n",
       "       'extrememetal', 'fado', 'film', 'fitness', 'flamenco', 'folk',\n",
       "       'folklore', 'folkmetal', 'folkrock', 'folktronica', 'forró',\n",
       "       'frankreich', 'französisch', 'french', 'funk', 'future', 'gangsta',\n",
       "       'garage', 'german', 'ghazal', 'gitarre', 'glitch', 'gospel',\n",
       "       'gothic', 'grime', 'grunge', 'gypsy', 'handsup', \"hard'n'heavy\",\n",
       "       'hardcore', 'hardstyle', 'hardtechno', 'hip', 'hip-hop', 'hiphop',\n",
       "       'historisch', 'holiday', 'hop', 'horror', 'house', 'idm',\n",
       "       'independent', 'indian', 'indie', 'indipop', 'industrial',\n",
       "       'inspirational', 'instrumental', 'international', 'irish', 'jam',\n",
       "       'japanese', 'jazz', 'jewish', 'jpop', 'jungle', 'k-pop',\n",
       "       'karadeniz', 'karaoke', 'kayokyoku', 'korean', 'laiko', 'latin',\n",
       "       'latino', 'leftfield', 'local', 'lounge', 'loungeelectronic',\n",
       "       'lovers', 'malaysian', 'mandopop', 'marschmusik', 'meditative',\n",
       "       'mediterranean', 'melodic', 'metal', 'metalcore', 'mexican',\n",
       "       'middle', 'minimal', 'miscellaneous', 'modern', 'mood', 'mpb',\n",
       "       'muslim', 'native', 'neoklassik', 'neue', 'new', 'newage',\n",
       "       'newwave', 'nu', 'nujazz', 'numetal', 'oceania', 'old', 'opera',\n",
       "       'orchestral', 'other', 'piano', 'pop', 'popelectronic',\n",
       "       'popeurodance', 'post', 'posthardcore', 'postrock', 'power',\n",
       "       'progmetal', 'progressive', 'psychedelic', 'punjabi', 'punk',\n",
       "       'quebecois', 'ragga', 'ram', 'rancheras', 'rap', 'rave', 'reggae',\n",
       "       'reggaeton', 'regional', 'relax', 'religious', 'retro', 'rhythm',\n",
       "       'rnb', 'rnr', 'rock', 'rockabilly', 'romance', 'roots', 'ruspop',\n",
       "       'rusrap', 'rusrock', 'salsa', 'samba', 'schlager', 'self',\n",
       "       'sertanejo', 'shoegazing', 'showtunes', 'singer', 'ska', 'slow',\n",
       "       'smooth', 'soul', 'soulful', 'sound', 'soundtrack', 'southern',\n",
       "       'specialty', 'speech', 'spiritual', 'sport', 'stonerrock', 'surf',\n",
       "       'swing', 'synthpop', 'sängerportrait', 'tango', 'tanzorchester',\n",
       "       'taraftar', 'tech', 'techno', 'thrash', 'top', 'traditional',\n",
       "       'tradjazz', 'trance', 'tribal', 'trip', 'triphop', 'tropical',\n",
       "       'türk', 'türkçe', 'unknown', 'urban', 'uzbek', 'variété', 'vi',\n",
       "       'videogame', 'vocal', 'western', 'world', 'worldbeat', 'ïîï'],\n",
       "      dtype=object)"
      ]
     },
     "execution_count": 73,
     "metadata": {},
     "output_type": "execute_result"
    }
   ],
   "source": [
    "# viewing unique genre names\n",
    "#df=pd.DataFrame(data, column=genre)\n",
    "df.sort_values('genre', ascending=True)\n",
    "df['genre'].unique()\n",
    "df['genre'].sort_values().unique() # helps to sort alphabetically\n"
   ]
  },
  {
   "cell_type": "markdown",
   "metadata": {
    "id": "qej-Qmuo_Zct"
   },
   "source": [
    "Look through the list to find implicit duplicates of the genre `hiphop`. These could be names written incorrectly or alternative names of the same genre.\n",
    "\n",
    "You will see the following implicit duplicates:\n",
    "* `hip`\n",
    "* `hop`\n",
    "* `hip-hop`\n",
    "\n",
    "To get rid of them, declare the function `replace_wrong_genres()` with two parameters: \n",
    "* `wrong_genres=` — the list of duplicates\n",
    "* `correct_genre=` — the string with the correct value\n",
    "\n",
    "The function should correct the names in the `'genre'` column from the `df` table, i.e. replace each value from the `wrong_genres` list with the value in `correct_genre`."
   ]
  },
  {
   "cell_type": "code",
   "execution_count": 74,
   "metadata": {
    "id": "ErNDkmns_Zct",
    "scrolled": true
   },
   "outputs": [
    {
     "data": {
      "text/html": [
       "<div>\n",
       "<style scoped>\n",
       "    .dataframe tbody tr th:only-of-type {\n",
       "        vertical-align: middle;\n",
       "    }\n",
       "\n",
       "    .dataframe tbody tr th {\n",
       "        vertical-align: top;\n",
       "    }\n",
       "\n",
       "    .dataframe thead th {\n",
       "        text-align: right;\n",
       "    }\n",
       "</style>\n",
       "<table border=\"1\" class=\"dataframe\">\n",
       "  <thead>\n",
       "    <tr style=\"text-align: right;\">\n",
       "      <th></th>\n",
       "      <th>user_id</th>\n",
       "      <th>track</th>\n",
       "      <th>artist</th>\n",
       "      <th>genre</th>\n",
       "      <th>city</th>\n",
       "      <th>time</th>\n",
       "      <th>day</th>\n",
       "    </tr>\n",
       "  </thead>\n",
       "  <tbody>\n",
       "    <tr>\n",
       "      <th>0</th>\n",
       "      <td>FFB692EC</td>\n",
       "      <td>Kamigata To Boots</td>\n",
       "      <td>The Mass Missile</td>\n",
       "      <td>rock</td>\n",
       "      <td>Shelbyville</td>\n",
       "      <td>20:28:33</td>\n",
       "      <td>Wednesday</td>\n",
       "    </tr>\n",
       "    <tr>\n",
       "      <th>1</th>\n",
       "      <td>55204538</td>\n",
       "      <td>Delayed Because of Accident</td>\n",
       "      <td>Andreas Rönnberg</td>\n",
       "      <td>rock</td>\n",
       "      <td>Springfield</td>\n",
       "      <td>14:07:09</td>\n",
       "      <td>Friday</td>\n",
       "    </tr>\n",
       "    <tr>\n",
       "      <th>2</th>\n",
       "      <td>20EC38</td>\n",
       "      <td>Funiculì funiculà</td>\n",
       "      <td>Mario Lanza</td>\n",
       "      <td>pop</td>\n",
       "      <td>Shelbyville</td>\n",
       "      <td>20:58:07</td>\n",
       "      <td>Wednesday</td>\n",
       "    </tr>\n",
       "    <tr>\n",
       "      <th>3</th>\n",
       "      <td>A3DD03C9</td>\n",
       "      <td>Dragons in the Sunset</td>\n",
       "      <td>Fire + Ice</td>\n",
       "      <td>folk</td>\n",
       "      <td>Shelbyville</td>\n",
       "      <td>08:37:09</td>\n",
       "      <td>Monday</td>\n",
       "    </tr>\n",
       "    <tr>\n",
       "      <th>4</th>\n",
       "      <td>E2DC1FAE</td>\n",
       "      <td>Soul People</td>\n",
       "      <td>Space Echo</td>\n",
       "      <td>dance</td>\n",
       "      <td>Springfield</td>\n",
       "      <td>08:34:34</td>\n",
       "      <td>Monday</td>\n",
       "    </tr>\n",
       "    <tr>\n",
       "      <th>...</th>\n",
       "      <td>...</td>\n",
       "      <td>...</td>\n",
       "      <td>...</td>\n",
       "      <td>...</td>\n",
       "      <td>...</td>\n",
       "      <td>...</td>\n",
       "      <td>...</td>\n",
       "    </tr>\n",
       "    <tr>\n",
       "      <th>65074</th>\n",
       "      <td>729CBB09</td>\n",
       "      <td>My Name</td>\n",
       "      <td>McLean</td>\n",
       "      <td>rnb</td>\n",
       "      <td>Springfield</td>\n",
       "      <td>13:32:28</td>\n",
       "      <td>Wednesday</td>\n",
       "    </tr>\n",
       "    <tr>\n",
       "      <th>65075</th>\n",
       "      <td>D08D4A55</td>\n",
       "      <td>Maybe One Day (feat. Black Spade)</td>\n",
       "      <td>Blu &amp; Exile</td>\n",
       "      <td>hiphop</td>\n",
       "      <td>Shelbyville</td>\n",
       "      <td>10:00:00</td>\n",
       "      <td>Monday</td>\n",
       "    </tr>\n",
       "    <tr>\n",
       "      <th>65076</th>\n",
       "      <td>C5E3A0D5</td>\n",
       "      <td>Jalopiina</td>\n",
       "      <td>unknown</td>\n",
       "      <td>industrial</td>\n",
       "      <td>Springfield</td>\n",
       "      <td>20:09:26</td>\n",
       "      <td>Friday</td>\n",
       "    </tr>\n",
       "    <tr>\n",
       "      <th>65077</th>\n",
       "      <td>321D0506</td>\n",
       "      <td>Freight Train</td>\n",
       "      <td>Chas McDevitt</td>\n",
       "      <td>rock</td>\n",
       "      <td>Springfield</td>\n",
       "      <td>21:43:59</td>\n",
       "      <td>Friday</td>\n",
       "    </tr>\n",
       "    <tr>\n",
       "      <th>65078</th>\n",
       "      <td>3A64EF84</td>\n",
       "      <td>Tell Me Sweet Little Lies</td>\n",
       "      <td>Monica Lopez</td>\n",
       "      <td>country</td>\n",
       "      <td>Springfield</td>\n",
       "      <td>21:59:46</td>\n",
       "      <td>Friday</td>\n",
       "    </tr>\n",
       "  </tbody>\n",
       "</table>\n",
       "<p>61253 rows × 7 columns</p>\n",
       "</div>"
      ],
      "text/plain": [
       "        user_id                              track            artist  \\\n",
       "0      FFB692EC                  Kamigata To Boots  The Mass Missile   \n",
       "1      55204538        Delayed Because of Accident  Andreas Rönnberg   \n",
       "2        20EC38                  Funiculì funiculà       Mario Lanza   \n",
       "3      A3DD03C9              Dragons in the Sunset        Fire + Ice   \n",
       "4      E2DC1FAE                        Soul People        Space Echo   \n",
       "...         ...                                ...               ...   \n",
       "65074  729CBB09                            My Name            McLean   \n",
       "65075  D08D4A55  Maybe One Day (feat. Black Spade)       Blu & Exile   \n",
       "65076  C5E3A0D5                          Jalopiina           unknown   \n",
       "65077  321D0506                      Freight Train     Chas McDevitt   \n",
       "65078  3A64EF84          Tell Me Sweet Little Lies      Monica Lopez   \n",
       "\n",
       "            genre         city      time        day  \n",
       "0            rock  Shelbyville  20:28:33  Wednesday  \n",
       "1            rock  Springfield  14:07:09     Friday  \n",
       "2             pop  Shelbyville  20:58:07  Wednesday  \n",
       "3            folk  Shelbyville  08:37:09     Monday  \n",
       "4           dance  Springfield  08:34:34     Monday  \n",
       "...           ...          ...       ...        ...  \n",
       "65074         rnb  Springfield  13:32:28  Wednesday  \n",
       "65075      hiphop  Shelbyville  10:00:00     Monday  \n",
       "65076  industrial  Springfield  20:09:26     Friday  \n",
       "65077        rock  Springfield  21:43:59     Friday  \n",
       "65078     country  Springfield  21:59:46     Friday  \n",
       "\n",
       "[61253 rows x 7 columns]"
      ]
     },
     "execution_count": 74,
     "metadata": {},
     "output_type": "execute_result"
    }
   ],
   "source": [
    "# function for replacing implicit duplicates\n",
    "def replace_wrong_genres(wrong_genres, correct_genre):\n",
    "    for wrong_genre in wrong_genres:\n",
    "        df['genre']=df['genre'].replace(wrong_genre, correct_genre)\n",
    "        \n",
    "duplicates = ['hip', 'hop', 'hip-hop']\n",
    "genre = 'hiphop'\n",
    "replace_wrong_genres(duplicates, genre)\n",
    "\n",
    "df\n"
   ]
  },
  {
   "cell_type": "markdown",
   "metadata": {
    "id": "aDoBJxbA_Zct"
   },
   "source": [
    "Call `replace_wrong_genres()` and pass it arguments so that it clears implicit duplcates (`hip`, `hop`, and `hip-hop`) and replaces them with `hiphop`:"
   ]
  },
  {
   "cell_type": "code",
   "execution_count": 75,
   "metadata": {
    "id": "YN5i2hpmSo09"
   },
   "outputs": [
    {
     "data": {
      "text/html": [
       "<div>\n",
       "<style scoped>\n",
       "    .dataframe tbody tr th:only-of-type {\n",
       "        vertical-align: middle;\n",
       "    }\n",
       "\n",
       "    .dataframe tbody tr th {\n",
       "        vertical-align: top;\n",
       "    }\n",
       "\n",
       "    .dataframe thead th {\n",
       "        text-align: right;\n",
       "    }\n",
       "</style>\n",
       "<table border=\"1\" class=\"dataframe\">\n",
       "  <thead>\n",
       "    <tr style=\"text-align: right;\">\n",
       "      <th></th>\n",
       "      <th>user_id</th>\n",
       "      <th>track</th>\n",
       "      <th>artist</th>\n",
       "      <th>genre</th>\n",
       "      <th>city</th>\n",
       "      <th>time</th>\n",
       "      <th>day</th>\n",
       "    </tr>\n",
       "  </thead>\n",
       "  <tbody>\n",
       "    <tr>\n",
       "      <th>0</th>\n",
       "      <td>FFB692EC</td>\n",
       "      <td>Kamigata To Boots</td>\n",
       "      <td>The Mass Missile</td>\n",
       "      <td>rock</td>\n",
       "      <td>Shelbyville</td>\n",
       "      <td>20:28:33</td>\n",
       "      <td>Wednesday</td>\n",
       "    </tr>\n",
       "    <tr>\n",
       "      <th>1</th>\n",
       "      <td>55204538</td>\n",
       "      <td>Delayed Because of Accident</td>\n",
       "      <td>Andreas Rönnberg</td>\n",
       "      <td>rock</td>\n",
       "      <td>Springfield</td>\n",
       "      <td>14:07:09</td>\n",
       "      <td>Friday</td>\n",
       "    </tr>\n",
       "    <tr>\n",
       "      <th>2</th>\n",
       "      <td>20EC38</td>\n",
       "      <td>Funiculì funiculà</td>\n",
       "      <td>Mario Lanza</td>\n",
       "      <td>pop</td>\n",
       "      <td>Shelbyville</td>\n",
       "      <td>20:58:07</td>\n",
       "      <td>Wednesday</td>\n",
       "    </tr>\n",
       "    <tr>\n",
       "      <th>3</th>\n",
       "      <td>A3DD03C9</td>\n",
       "      <td>Dragons in the Sunset</td>\n",
       "      <td>Fire + Ice</td>\n",
       "      <td>folk</td>\n",
       "      <td>Shelbyville</td>\n",
       "      <td>08:37:09</td>\n",
       "      <td>Monday</td>\n",
       "    </tr>\n",
       "    <tr>\n",
       "      <th>4</th>\n",
       "      <td>E2DC1FAE</td>\n",
       "      <td>Soul People</td>\n",
       "      <td>Space Echo</td>\n",
       "      <td>dance</td>\n",
       "      <td>Springfield</td>\n",
       "      <td>08:34:34</td>\n",
       "      <td>Monday</td>\n",
       "    </tr>\n",
       "    <tr>\n",
       "      <th>...</th>\n",
       "      <td>...</td>\n",
       "      <td>...</td>\n",
       "      <td>...</td>\n",
       "      <td>...</td>\n",
       "      <td>...</td>\n",
       "      <td>...</td>\n",
       "      <td>...</td>\n",
       "    </tr>\n",
       "    <tr>\n",
       "      <th>65074</th>\n",
       "      <td>729CBB09</td>\n",
       "      <td>My Name</td>\n",
       "      <td>McLean</td>\n",
       "      <td>rnb</td>\n",
       "      <td>Springfield</td>\n",
       "      <td>13:32:28</td>\n",
       "      <td>Wednesday</td>\n",
       "    </tr>\n",
       "    <tr>\n",
       "      <th>65075</th>\n",
       "      <td>D08D4A55</td>\n",
       "      <td>Maybe One Day (feat. Black Spade)</td>\n",
       "      <td>Blu &amp; Exile</td>\n",
       "      <td>hiphop</td>\n",
       "      <td>Shelbyville</td>\n",
       "      <td>10:00:00</td>\n",
       "      <td>Monday</td>\n",
       "    </tr>\n",
       "    <tr>\n",
       "      <th>65076</th>\n",
       "      <td>C5E3A0D5</td>\n",
       "      <td>Jalopiina</td>\n",
       "      <td>unknown</td>\n",
       "      <td>industrial</td>\n",
       "      <td>Springfield</td>\n",
       "      <td>20:09:26</td>\n",
       "      <td>Friday</td>\n",
       "    </tr>\n",
       "    <tr>\n",
       "      <th>65077</th>\n",
       "      <td>321D0506</td>\n",
       "      <td>Freight Train</td>\n",
       "      <td>Chas McDevitt</td>\n",
       "      <td>rock</td>\n",
       "      <td>Springfield</td>\n",
       "      <td>21:43:59</td>\n",
       "      <td>Friday</td>\n",
       "    </tr>\n",
       "    <tr>\n",
       "      <th>65078</th>\n",
       "      <td>3A64EF84</td>\n",
       "      <td>Tell Me Sweet Little Lies</td>\n",
       "      <td>Monica Lopez</td>\n",
       "      <td>country</td>\n",
       "      <td>Springfield</td>\n",
       "      <td>21:59:46</td>\n",
       "      <td>Friday</td>\n",
       "    </tr>\n",
       "  </tbody>\n",
       "</table>\n",
       "<p>61253 rows × 7 columns</p>\n",
       "</div>"
      ],
      "text/plain": [
       "        user_id                              track            artist  \\\n",
       "0      FFB692EC                  Kamigata To Boots  The Mass Missile   \n",
       "1      55204538        Delayed Because of Accident  Andreas Rönnberg   \n",
       "2        20EC38                  Funiculì funiculà       Mario Lanza   \n",
       "3      A3DD03C9              Dragons in the Sunset        Fire + Ice   \n",
       "4      E2DC1FAE                        Soul People        Space Echo   \n",
       "...         ...                                ...               ...   \n",
       "65074  729CBB09                            My Name            McLean   \n",
       "65075  D08D4A55  Maybe One Day (feat. Black Spade)       Blu & Exile   \n",
       "65076  C5E3A0D5                          Jalopiina           unknown   \n",
       "65077  321D0506                      Freight Train     Chas McDevitt   \n",
       "65078  3A64EF84          Tell Me Sweet Little Lies      Monica Lopez   \n",
       "\n",
       "            genre         city      time        day  \n",
       "0            rock  Shelbyville  20:28:33  Wednesday  \n",
       "1            rock  Springfield  14:07:09     Friday  \n",
       "2             pop  Shelbyville  20:58:07  Wednesday  \n",
       "3            folk  Shelbyville  08:37:09     Monday  \n",
       "4           dance  Springfield  08:34:34     Monday  \n",
       "...           ...          ...       ...        ...  \n",
       "65074         rnb  Springfield  13:32:28  Wednesday  \n",
       "65075      hiphop  Shelbyville  10:00:00     Monday  \n",
       "65076  industrial  Springfield  20:09:26     Friday  \n",
       "65077        rock  Springfield  21:43:59     Friday  \n",
       "65078     country  Springfield  21:59:46     Friday  \n",
       "\n",
       "[61253 rows x 7 columns]"
      ]
     },
     "execution_count": 75,
     "metadata": {},
     "output_type": "execute_result"
    }
   ],
   "source": [
    "# removing implicit duplicates\n",
    "df = df.drop_duplicates()\n",
    "df"
   ]
  },
  {
   "cell_type": "markdown",
   "metadata": {
    "id": "zQKF16_RG15m"
   },
   "source": [
    "Make sure the duplicate names were removed. Print the list of unique values from the `'genre'` column:"
   ]
  },
  {
   "cell_type": "code",
   "execution_count": 76,
   "metadata": {
    "id": "wvixALnFG15m",
    "scrolled": true
   },
   "outputs": [
    {
     "data": {
      "text/plain": [
       "0"
      ]
     },
     "execution_count": 76,
     "metadata": {},
     "output_type": "execute_result"
    }
   ],
   "source": [
    "# checking for implicit duplicates\n",
    "df.duplicated().sum()"
   ]
  },
  {
   "cell_type": "markdown",
   "metadata": {
    "id": "ALgNbvF3VtPA"
   },
   "source": [
    "[Back to Contents](#back)"
   ]
  },
  {
   "cell_type": "markdown",
   "metadata": {
    "id": "jz6a9-7HQUDd"
   },
   "source": [
    "### Conclusions <a id='data_preprocessing_conclusions'></a>\n",
    "We detected three issues with the data:\n",
    "\n",
    "- Incorrect header styles\n",
    "- Missing values\n",
    "- Obvious and implicit duplicates\n",
    "\n",
    "The headers have been cleaned up to make processing the table simpler.\n",
    "\n",
    "All missing values have been replaced with `'unknown'`. But we still have to see whether the missing values in `'genre'` will affect our calculations.\n",
    "\n",
    "The absence of duplicates will make the results more precise and easier to understand.\n",
    "\n",
    "Now we can move on to testing hypotheses. "
   ]
  },
  {
   "cell_type": "markdown",
   "metadata": {
    "id": "eK1es74rVujj"
   },
   "source": [
    "[Back to Contents](#back)"
   ]
  },
  {
   "cell_type": "markdown",
   "metadata": {
    "id": "WttZHXH0SqKk"
   },
   "source": [
    "## Stage 3. Testing hypotheses <a id='hypotheses'></a>"
   ]
  },
  {
   "cell_type": "markdown",
   "metadata": {
    "id": "Im936VVi_Zcu"
   },
   "source": [
    "### Hypothesis 1: comparing user behavior in two cities <a id='activity'></a>"
   ]
  },
  {
   "cell_type": "markdown",
   "metadata": {
    "id": "nwt_MuaL_Zcu"
   },
   "source": [
    "According to the first hypothesis, users from Springfield and Shelbyville listen to music differently. Test this using the data on three days of the week: Monday, Wednesday, and Friday.\n",
    "\n",
    "* Divide the users into groups by city.\n",
    "* Compare how many tracks each group played on Monday, Wednesday, and Friday.\n"
   ]
  },
  {
   "cell_type": "markdown",
   "metadata": {
    "id": "8Dw_YMmT_Zcu"
   },
   "source": [
    "For the sake of practice, perform each computation separately. \n",
    "\n",
    "Evaluate user activity in each city. Group the data by city and find the number of songs played in each group.\n",
    "\n"
   ]
  },
  {
   "cell_type": "code",
   "execution_count": 77,
   "metadata": {
    "id": "0_Qs96oh_Zcu",
    "scrolled": true
   },
   "outputs": [
    {
     "name": "stdout",
     "output_type": "stream",
     "text": [
      "city\n",
      "Shelbyville    18512\n",
      "Springfield    42741\n",
      "Name: track, dtype: int64\n"
     ]
    }
   ],
   "source": [
    "# Counting up the tracks played in each city\n",
    "print(df.groupby('city')['track'].count())\n",
    "\n"
   ]
  },
  {
   "cell_type": "markdown",
   "metadata": {
    "id": "dzli3w8o_Zcu"
   },
   "source": [
    "Springfield has more tracks played than Shelbyville. But that does not imply that citizens of Springfield listen to music more often. This city is simply bigger, and there are more users.\n",
    "\n",
    "Now group the data by day of the week and find the number of tracks played on Monday, Wednesday, and Friday.\n"
   ]
  },
  {
   "cell_type": "code",
   "execution_count": 78,
   "metadata": {
    "id": "uZMKjiJz_Zcu",
    "scrolled": true
   },
   "outputs": [
    {
     "name": "stdout",
     "output_type": "stream",
     "text": [
      "day\n",
      "Friday       21840\n",
      "Monday       21354\n",
      "Wednesday    18059\n",
      "Name: track, dtype: int64\n"
     ]
    }
   ],
   "source": [
    "# Calculating tracks played on each of the three days\n",
    "\n",
    "print(df.groupby('day')['track'].count())\n"
   ]
  },
  {
   "cell_type": "markdown",
   "metadata": {
    "id": "cC2tNrlL_Zcu"
   },
   "source": [
    "Wednesday is the quietest day overall. But if we consider the two cities separately, we might come to a different conclusion."
   ]
  },
  {
   "cell_type": "markdown",
   "metadata": {
    "id": "POzs8bGa_Zcu"
   },
   "source": [
    "You have seen how grouping by city or day works. Now write a function that will group by both.\n",
    "\n",
    "Create the `number_tracks()` function to calculate the number of songs played for a given day and city. It will require two parameters:\n",
    "* day of the week\n",
    "* name of the city\n",
    "\n",
    "In the function, use a variable to store the rows from the original table, where:\n",
    "  * `'day'` column value is equal to the `day` parameter\n",
    "  * `'city'` column value is equal to the `city` parameter\n",
    "\n",
    "Apply consecutive filtering with logical indexing.\n",
    "\n",
    "Then calculate the `'user_id'` column values in the resulting table. Store the result to a new variable. Return this variable from the function."
   ]
  },
  {
   "cell_type": "code",
   "execution_count": 79,
   "metadata": {
    "id": "Nz3GdQB1_Zcu",
    "scrolled": true
   },
   "outputs": [],
   "source": [
    "# <creating the function number_tracks()> \n",
    "# We'll declare a function with two parameters: day=, city=.\n",
    "# Let the track_list variable store the df rows where\n",
    "# the value in the 'day' column is equal to the day= parameter and, at the same time, \n",
    "# the value in the 'city' column is equal to the city= parameter (apply consecutive filtering \n",
    "# with logical indexing).\n",
    "# Let the track_list_count variable store the number of 'user_id' column values in track_list\n",
    "# (found with the count() method).\n",
    "# Let the function return a number: the value of track_list_count.\n",
    "\n",
    "# The function counts tracked played for a certain city and day.\n",
    "# It first retrieves the rows with the intended day from the table,\n",
    "# then filters out the rows with the intended city from the result,\n",
    "# then finds the number of 'user_id' values in the filtered table,\n",
    "# then returns that number.\n",
    "# To see what it returns, wrap the function call in print()."
   ]
  },
  {
   "cell_type": "code",
   "execution_count": 80,
   "metadata": {
    "scrolled": true
   },
   "outputs": [],
   "source": [
    "\n",
    "def number_tracks(day, city):\n",
    "    \n",
    "    track_list = df[df['day']==day]\n",
    "    track_list = track_list[track_list['city']==city]\n",
    "    track_list_count = track_list['user_id'].count()\n",
    "    \n",
    "    return track_list_count\n",
    "\n",
    "\n"
   ]
  },
  {
   "cell_type": "markdown",
   "metadata": {
    "id": "ytf7xFrFJQ2r"
   },
   "source": [
    "Call `number_tracks()` six times, changing the parameter values, so that you retrieve the data on both cities for each of the three days."
   ]
  },
  {
   "cell_type": "code",
   "execution_count": 81,
   "metadata": {
    "id": "rJcRATNQ_Zcu",
    "scrolled": true
   },
   "outputs": [
    {
     "data": {
      "text/plain": [
       "15740"
      ]
     },
     "execution_count": 81,
     "metadata": {},
     "output_type": "execute_result"
    }
   ],
   "source": [
    "# the number of songs played in Springfield on Monday\n",
    "number_tracks('Monday', 'Springfield')\n"
   ]
  },
  {
   "cell_type": "code",
   "execution_count": 82,
   "metadata": {
    "id": "hq_ncZ5T_Zcu",
    "scrolled": true
   },
   "outputs": [
    {
     "data": {
      "text/plain": [
       "5614"
      ]
     },
     "execution_count": 82,
     "metadata": {},
     "output_type": "execute_result"
    }
   ],
   "source": [
    "# the number of songs played in Shelbyville on Monday\n",
    "number_tracks('Monday', 'Shelbyville')"
   ]
  },
  {
   "cell_type": "code",
   "execution_count": 83,
   "metadata": {
    "id": "_NTy2VPU_Zcu",
    "scrolled": true
   },
   "outputs": [
    {
     "data": {
      "text/plain": [
       "11056"
      ]
     },
     "execution_count": 83,
     "metadata": {},
     "output_type": "execute_result"
    }
   ],
   "source": [
    "# the number of songs played in Springfield on Wednesday\n",
    "number_tracks('Wednesday', 'Springfield')"
   ]
  },
  {
   "cell_type": "code",
   "execution_count": 84,
   "metadata": {
    "id": "j2y3TAwo_Zcu",
    "scrolled": true
   },
   "outputs": [
    {
     "data": {
      "text/plain": [
       "7003"
      ]
     },
     "execution_count": 84,
     "metadata": {},
     "output_type": "execute_result"
    }
   ],
   "source": [
    "# the number of songs played in Shelbyville on Wednesday\n",
    "number_tracks('Wednesday', 'Shelbyville')"
   ]
  },
  {
   "cell_type": "code",
   "execution_count": 85,
   "metadata": {
    "id": "vYDw5u_K_Zcu",
    "scrolled": true
   },
   "outputs": [
    {
     "data": {
      "text/plain": [
       "15945"
      ]
     },
     "execution_count": 85,
     "metadata": {},
     "output_type": "execute_result"
    }
   ],
   "source": [
    "# the number of songs played in Springfield on Friday\n",
    "number_tracks('Friday', 'Springfield')"
   ]
  },
  {
   "cell_type": "code",
   "execution_count": 86,
   "metadata": {
    "id": "8_yzFtW3_Zcu",
    "scrolled": true
   },
   "outputs": [
    {
     "data": {
      "text/plain": [
       "5895"
      ]
     },
     "execution_count": 86,
     "metadata": {},
     "output_type": "execute_result"
    }
   ],
   "source": [
    "# the number of songs played in Shelbyville on Friday\n",
    "number_tracks('Friday', 'Shelbyville')"
   ]
  },
  {
   "cell_type": "markdown",
   "metadata": {
    "id": "7QXffbO-_Zcu"
   },
   "source": [
    "Use `pd.DataFrame` to create a table, where\n",
    "* Column names are: `['city', 'monday', 'wednesday', 'friday']`\n",
    "* The data is the results you got from `number_tracks()`"
   ]
  },
  {
   "cell_type": "code",
   "execution_count": 87,
   "metadata": {
    "id": "APAcLpOr_Zcu",
    "scrolled": true
   },
   "outputs": [
    {
     "name": "stdout",
     "output_type": "stream",
     "text": [
      "          city  monday  wednesday  friday\n",
      "0  Springfield   15740      11056   15945\n",
      "1  Shelbyville    5614       7003    5895\n"
     ]
    }
   ],
   "source": [
    "# table with results\n",
    "import pandas as pd\n",
    "\n",
    "number_tracks = [\n",
    "    ['Springfield', 15740, 11056, 15945],\n",
    "    ['Shelbyville', 5614, 7003, 5895]\n",
    "]\n",
    "hh=pd.DataFrame(number_tracks, \n",
    "                columns=['city', 'monday', 'wednesday', 'friday'])\n",
    "\n",
    "print(hh)"
   ]
  },
  {
   "cell_type": "markdown",
   "metadata": {
    "id": "-EgPIHYu_Zcu"
   },
   "source": [
    "**Conclusions**\n",
    "\n",
    "The data reveals differences in user behavior:\n",
    "\n",
    "- In Springfield, the number of songs played peaks on Mondays and Fridays, while on Wednesday there is a decrease in activity.\n",
    "- In Shelbyville, on the contrary, users listen to music more on Wednesday. User activity on Monday and Friday is smaller.\n",
    "\n",
    "So the first hypothesis seems to be correct."
   ]
  },
  {
   "cell_type": "markdown",
   "metadata": {
    "id": "p7nFQajCVw5B"
   },
   "source": [
    "[Back to Contents](#back)"
   ]
  },
  {
   "cell_type": "markdown",
   "metadata": {
    "id": "atZAxtq4_Zcu"
   },
   "source": [
    "### Hypothesis 2: music at the beginning and end of the week <a id='week'></a>"
   ]
  },
  {
   "cell_type": "markdown",
   "metadata": {
    "id": "eXrQqXFH_Zcu"
   },
   "source": [
    "According to the second hypothesis, on Monday morning and Friday night, citizens of Springfield listen to genres that differ from ones users from Shelbyville enjoy."
   ]
  },
  {
   "cell_type": "markdown",
   "metadata": {
    "id": "S8UcW6Hw_Zcu"
   },
   "source": [
    "Get tables (make sure that the name of your combined table matches the DataFrame given in the two code blocks below):\n",
    "* For Springfield — `spr_general`\n",
    "* For Shelbyville — `shel_general`"
   ]
  },
  {
   "cell_type": "code",
   "execution_count": 88,
   "metadata": {
    "id": "qeaFfM_P_Zcu",
    "pycharm": {
     "is_executing": true
    },
    "scrolled": false
   },
   "outputs": [
    {
     "data": {
      "text/html": [
       "<div>\n",
       "<style scoped>\n",
       "    .dataframe tbody tr th:only-of-type {\n",
       "        vertical-align: middle;\n",
       "    }\n",
       "\n",
       "    .dataframe tbody tr th {\n",
       "        vertical-align: top;\n",
       "    }\n",
       "\n",
       "    .dataframe thead th {\n",
       "        text-align: right;\n",
       "    }\n",
       "</style>\n",
       "<table border=\"1\" class=\"dataframe\">\n",
       "  <thead>\n",
       "    <tr style=\"text-align: right;\">\n",
       "      <th></th>\n",
       "      <th>user_id</th>\n",
       "      <th>track</th>\n",
       "      <th>artist</th>\n",
       "      <th>genre</th>\n",
       "      <th>city</th>\n",
       "      <th>time</th>\n",
       "      <th>day</th>\n",
       "    </tr>\n",
       "  </thead>\n",
       "  <tbody>\n",
       "    <tr>\n",
       "      <th>1</th>\n",
       "      <td>55204538</td>\n",
       "      <td>Delayed Because of Accident</td>\n",
       "      <td>Andreas Rönnberg</td>\n",
       "      <td>rock</td>\n",
       "      <td>Springfield</td>\n",
       "      <td>14:07:09</td>\n",
       "      <td>Friday</td>\n",
       "    </tr>\n",
       "    <tr>\n",
       "      <th>4</th>\n",
       "      <td>E2DC1FAE</td>\n",
       "      <td>Soul People</td>\n",
       "      <td>Space Echo</td>\n",
       "      <td>dance</td>\n",
       "      <td>Springfield</td>\n",
       "      <td>08:34:34</td>\n",
       "      <td>Monday</td>\n",
       "    </tr>\n",
       "    <tr>\n",
       "      <th>6</th>\n",
       "      <td>4CB90AA5</td>\n",
       "      <td>True</td>\n",
       "      <td>Roman Messer</td>\n",
       "      <td>dance</td>\n",
       "      <td>Springfield</td>\n",
       "      <td>13:00:07</td>\n",
       "      <td>Wednesday</td>\n",
       "    </tr>\n",
       "    <tr>\n",
       "      <th>7</th>\n",
       "      <td>F03E1C1F</td>\n",
       "      <td>Feeling This Way</td>\n",
       "      <td>Polina Griffith</td>\n",
       "      <td>dance</td>\n",
       "      <td>Springfield</td>\n",
       "      <td>20:47:49</td>\n",
       "      <td>Wednesday</td>\n",
       "    </tr>\n",
       "    <tr>\n",
       "      <th>8</th>\n",
       "      <td>8FA1D3BE</td>\n",
       "      <td>L’estate</td>\n",
       "      <td>Julia Dalia</td>\n",
       "      <td>ruspop</td>\n",
       "      <td>Springfield</td>\n",
       "      <td>09:17:40</td>\n",
       "      <td>Friday</td>\n",
       "    </tr>\n",
       "    <tr>\n",
       "      <th>...</th>\n",
       "      <td>...</td>\n",
       "      <td>...</td>\n",
       "      <td>...</td>\n",
       "      <td>...</td>\n",
       "      <td>...</td>\n",
       "      <td>...</td>\n",
       "      <td>...</td>\n",
       "    </tr>\n",
       "    <tr>\n",
       "      <th>65073</th>\n",
       "      <td>83A474E7</td>\n",
       "      <td>I Worship Only What You Bleed</td>\n",
       "      <td>The Black Dahlia Murder</td>\n",
       "      <td>extrememetal</td>\n",
       "      <td>Springfield</td>\n",
       "      <td>21:07:12</td>\n",
       "      <td>Monday</td>\n",
       "    </tr>\n",
       "    <tr>\n",
       "      <th>65074</th>\n",
       "      <td>729CBB09</td>\n",
       "      <td>My Name</td>\n",
       "      <td>McLean</td>\n",
       "      <td>rnb</td>\n",
       "      <td>Springfield</td>\n",
       "      <td>13:32:28</td>\n",
       "      <td>Wednesday</td>\n",
       "    </tr>\n",
       "    <tr>\n",
       "      <th>65076</th>\n",
       "      <td>C5E3A0D5</td>\n",
       "      <td>Jalopiina</td>\n",
       "      <td>unknown</td>\n",
       "      <td>industrial</td>\n",
       "      <td>Springfield</td>\n",
       "      <td>20:09:26</td>\n",
       "      <td>Friday</td>\n",
       "    </tr>\n",
       "    <tr>\n",
       "      <th>65077</th>\n",
       "      <td>321D0506</td>\n",
       "      <td>Freight Train</td>\n",
       "      <td>Chas McDevitt</td>\n",
       "      <td>rock</td>\n",
       "      <td>Springfield</td>\n",
       "      <td>21:43:59</td>\n",
       "      <td>Friday</td>\n",
       "    </tr>\n",
       "    <tr>\n",
       "      <th>65078</th>\n",
       "      <td>3A64EF84</td>\n",
       "      <td>Tell Me Sweet Little Lies</td>\n",
       "      <td>Monica Lopez</td>\n",
       "      <td>country</td>\n",
       "      <td>Springfield</td>\n",
       "      <td>21:59:46</td>\n",
       "      <td>Friday</td>\n",
       "    </tr>\n",
       "  </tbody>\n",
       "</table>\n",
       "<p>42741 rows × 7 columns</p>\n",
       "</div>"
      ],
      "text/plain": [
       "        user_id                          track                   artist  \\\n",
       "1      55204538    Delayed Because of Accident         Andreas Rönnberg   \n",
       "4      E2DC1FAE                    Soul People               Space Echo   \n",
       "6      4CB90AA5                           True             Roman Messer   \n",
       "7      F03E1C1F               Feeling This Way          Polina Griffith   \n",
       "8      8FA1D3BE                       L’estate              Julia Dalia   \n",
       "...         ...                            ...                      ...   \n",
       "65073  83A474E7  I Worship Only What You Bleed  The Black Dahlia Murder   \n",
       "65074  729CBB09                        My Name                   McLean   \n",
       "65076  C5E3A0D5                      Jalopiina                  unknown   \n",
       "65077  321D0506                  Freight Train            Chas McDevitt   \n",
       "65078  3A64EF84      Tell Me Sweet Little Lies             Monica Lopez   \n",
       "\n",
       "              genre         city      time        day  \n",
       "1              rock  Springfield  14:07:09     Friday  \n",
       "4             dance  Springfield  08:34:34     Monday  \n",
       "6             dance  Springfield  13:00:07  Wednesday  \n",
       "7             dance  Springfield  20:47:49  Wednesday  \n",
       "8            ruspop  Springfield  09:17:40     Friday  \n",
       "...             ...          ...       ...        ...  \n",
       "65073  extrememetal  Springfield  21:07:12     Monday  \n",
       "65074           rnb  Springfield  13:32:28  Wednesday  \n",
       "65076    industrial  Springfield  20:09:26     Friday  \n",
       "65077          rock  Springfield  21:43:59     Friday  \n",
       "65078       country  Springfield  21:59:46     Friday  \n",
       "\n",
       "[42741 rows x 7 columns]"
      ]
     },
     "execution_count": 88,
     "metadata": {},
     "output_type": "execute_result"
    }
   ],
   "source": [
    "# create the spr_general table from the df rows, \n",
    "# where the value in the 'city' column is 'Springfield'\n",
    "#spr_general = df[df['city']=='Springfield']\n",
    "\n",
    "spr_general = df.loc[df.loc[:,'city'] == 'Springfield']\n",
    "\n",
    "#spr_general = df.query('city == \"Springfield\"')\n",
    "\n",
    "spr_general\n",
    "\n"
   ]
  },
  {
   "cell_type": "code",
   "execution_count": 89,
   "metadata": {
    "id": "ORaVRKto_Zcu",
    "scrolled": false
   },
   "outputs": [
    {
     "data": {
      "text/html": [
       "<div>\n",
       "<style scoped>\n",
       "    .dataframe tbody tr th:only-of-type {\n",
       "        vertical-align: middle;\n",
       "    }\n",
       "\n",
       "    .dataframe tbody tr th {\n",
       "        vertical-align: top;\n",
       "    }\n",
       "\n",
       "    .dataframe thead th {\n",
       "        text-align: right;\n",
       "    }\n",
       "</style>\n",
       "<table border=\"1\" class=\"dataframe\">\n",
       "  <thead>\n",
       "    <tr style=\"text-align: right;\">\n",
       "      <th></th>\n",
       "      <th>user_id</th>\n",
       "      <th>track</th>\n",
       "      <th>artist</th>\n",
       "      <th>genre</th>\n",
       "      <th>city</th>\n",
       "      <th>time</th>\n",
       "      <th>day</th>\n",
       "    </tr>\n",
       "  </thead>\n",
       "  <tbody>\n",
       "    <tr>\n",
       "      <th>0</th>\n",
       "      <td>FFB692EC</td>\n",
       "      <td>Kamigata To Boots</td>\n",
       "      <td>The Mass Missile</td>\n",
       "      <td>rock</td>\n",
       "      <td>Shelbyville</td>\n",
       "      <td>20:28:33</td>\n",
       "      <td>Wednesday</td>\n",
       "    </tr>\n",
       "    <tr>\n",
       "      <th>2</th>\n",
       "      <td>20EC38</td>\n",
       "      <td>Funiculì funiculà</td>\n",
       "      <td>Mario Lanza</td>\n",
       "      <td>pop</td>\n",
       "      <td>Shelbyville</td>\n",
       "      <td>20:58:07</td>\n",
       "      <td>Wednesday</td>\n",
       "    </tr>\n",
       "    <tr>\n",
       "      <th>3</th>\n",
       "      <td>A3DD03C9</td>\n",
       "      <td>Dragons in the Sunset</td>\n",
       "      <td>Fire + Ice</td>\n",
       "      <td>folk</td>\n",
       "      <td>Shelbyville</td>\n",
       "      <td>08:37:09</td>\n",
       "      <td>Monday</td>\n",
       "    </tr>\n",
       "    <tr>\n",
       "      <th>5</th>\n",
       "      <td>842029A1</td>\n",
       "      <td>Chains</td>\n",
       "      <td>Obladaet</td>\n",
       "      <td>rusrap</td>\n",
       "      <td>Shelbyville</td>\n",
       "      <td>13:09:41</td>\n",
       "      <td>Friday</td>\n",
       "    </tr>\n",
       "    <tr>\n",
       "      <th>9</th>\n",
       "      <td>E772D5C0</td>\n",
       "      <td>Pessimist</td>\n",
       "      <td>unknown</td>\n",
       "      <td>dance</td>\n",
       "      <td>Shelbyville</td>\n",
       "      <td>21:20:49</td>\n",
       "      <td>Wednesday</td>\n",
       "    </tr>\n",
       "    <tr>\n",
       "      <th>...</th>\n",
       "      <td>...</td>\n",
       "      <td>...</td>\n",
       "      <td>...</td>\n",
       "      <td>...</td>\n",
       "      <td>...</td>\n",
       "      <td>...</td>\n",
       "      <td>...</td>\n",
       "    </tr>\n",
       "    <tr>\n",
       "      <th>65063</th>\n",
       "      <td>D94F810B</td>\n",
       "      <td>Theme from the Walking Dead</td>\n",
       "      <td>Proyecto Halloween</td>\n",
       "      <td>film</td>\n",
       "      <td>Shelbyville</td>\n",
       "      <td>21:14:40</td>\n",
       "      <td>Monday</td>\n",
       "    </tr>\n",
       "    <tr>\n",
       "      <th>65064</th>\n",
       "      <td>BC8EC5CF</td>\n",
       "      <td>Red Lips: Gta (Rover Rework)</td>\n",
       "      <td>Rover</td>\n",
       "      <td>electronic</td>\n",
       "      <td>Shelbyville</td>\n",
       "      <td>21:06:50</td>\n",
       "      <td>Monday</td>\n",
       "    </tr>\n",
       "    <tr>\n",
       "      <th>65065</th>\n",
       "      <td>29E04611</td>\n",
       "      <td>Bre Petrunko</td>\n",
       "      <td>Perunika Trio</td>\n",
       "      <td>world</td>\n",
       "      <td>Shelbyville</td>\n",
       "      <td>13:56:00</td>\n",
       "      <td>Monday</td>\n",
       "    </tr>\n",
       "    <tr>\n",
       "      <th>65066</th>\n",
       "      <td>1B91C621</td>\n",
       "      <td>(Hello) Cloud Mountain</td>\n",
       "      <td>sleepmakeswaves</td>\n",
       "      <td>postrock</td>\n",
       "      <td>Shelbyville</td>\n",
       "      <td>09:22:13</td>\n",
       "      <td>Monday</td>\n",
       "    </tr>\n",
       "    <tr>\n",
       "      <th>65075</th>\n",
       "      <td>D08D4A55</td>\n",
       "      <td>Maybe One Day (feat. Black Spade)</td>\n",
       "      <td>Blu &amp; Exile</td>\n",
       "      <td>hiphop</td>\n",
       "      <td>Shelbyville</td>\n",
       "      <td>10:00:00</td>\n",
       "      <td>Monday</td>\n",
       "    </tr>\n",
       "  </tbody>\n",
       "</table>\n",
       "<p>18512 rows × 7 columns</p>\n",
       "</div>"
      ],
      "text/plain": [
       "        user_id                              track              artist  \\\n",
       "0      FFB692EC                  Kamigata To Boots    The Mass Missile   \n",
       "2        20EC38                  Funiculì funiculà         Mario Lanza   \n",
       "3      A3DD03C9              Dragons in the Sunset          Fire + Ice   \n",
       "5      842029A1                             Chains            Obladaet   \n",
       "9      E772D5C0                          Pessimist             unknown   \n",
       "...         ...                                ...                 ...   \n",
       "65063  D94F810B        Theme from the Walking Dead  Proyecto Halloween   \n",
       "65064  BC8EC5CF       Red Lips: Gta (Rover Rework)               Rover   \n",
       "65065  29E04611                       Bre Petrunko       Perunika Trio   \n",
       "65066  1B91C621             (Hello) Cloud Mountain     sleepmakeswaves   \n",
       "65075  D08D4A55  Maybe One Day (feat. Black Spade)         Blu & Exile   \n",
       "\n",
       "            genre         city      time        day  \n",
       "0            rock  Shelbyville  20:28:33  Wednesday  \n",
       "2             pop  Shelbyville  20:58:07  Wednesday  \n",
       "3            folk  Shelbyville  08:37:09     Monday  \n",
       "5          rusrap  Shelbyville  13:09:41     Friday  \n",
       "9           dance  Shelbyville  21:20:49  Wednesday  \n",
       "...           ...          ...       ...        ...  \n",
       "65063        film  Shelbyville  21:14:40     Monday  \n",
       "65064  electronic  Shelbyville  21:06:50     Monday  \n",
       "65065       world  Shelbyville  13:56:00     Monday  \n",
       "65066    postrock  Shelbyville  09:22:13     Monday  \n",
       "65075      hiphop  Shelbyville  10:00:00     Monday  \n",
       "\n",
       "[18512 rows x 7 columns]"
      ]
     },
     "execution_count": 89,
     "metadata": {},
     "output_type": "execute_result"
    }
   ],
   "source": [
    "# create the shel_general from the df rows,\n",
    "# where the value in the 'city' column is 'Shelbyville'\n",
    "\n",
    "shel_general = df[df['city']=='Shelbyville']\n",
    "\n",
    "shel_general\n",
    "\n"
   ]
  },
  {
   "cell_type": "markdown",
   "metadata": {
    "id": "MEJV-CX2_Zcu"
   },
   "source": [
    "Write the `genre_weekday()` function with four parameters:\n",
    "* A table for data (`df`)\n",
    "* The day of the week (`day`)\n",
    "* The first timestamp, in 'hh:mm' format (`time1`)\n",
    "* The last timestamp, in 'hh:mm' format (`time2`)\n",
    "\n",
    "The function should return info on the 15 most popular genres on a given day within the period between the two timestamps."
   ]
  },
  {
   "cell_type": "code",
   "execution_count": 90,
   "metadata": {
    "id": "laJT9BYl_Zcu",
    "scrolled": false
   },
   "outputs": [],
   "source": [
    "# 1) Let the genre_df variable store the rows that meet several conditions:\n",
    "#    - the value in the 'day' column is equal to the value of the day= argument\n",
    "#    - the value in the 'time' column is greater than the value of the time1= argument\n",
    "#    - the value in the 'time' column is smaller than the value of the time2= argument\n",
    "#    Use consecutive filtering with logical indexing.\n",
    "\n",
    "# 2) Group genre_df by the 'genre' column, take one of its columns, \n",
    "#    and use the count() method to find the number of entries for each of \n",
    "#    the represented genres; store the resulting Series to the\n",
    "#    genre_df_count variable\n",
    "\n",
    "# 3) Sort genre_df_count in descending order of frequency and store the result\n",
    "#    to the genre_df_sorted variable\n",
    "\n",
    "# 4) Return a Series object with the first 15 genre_df_sorted value - the 15 most\n",
    "#    popular genres (on a given day, within a certain timeframe)\n",
    "\n",
    "# Write your function here\n",
    "#def genre_weekday(day, time1, time2):\n",
    "\n",
    "    # consecutive filtering\n",
    "    # Create the variable genre_df which will store only those df rows where the day is equal to day=\n",
    "    #genre_df = df[df['day']==day] # write your code here\n",
    "\n",
    "    # filter again so that genre_df will store only those rows where the time is smaller than time2=\n",
    "    #genre_df = genre_df[genre_df['time']>time1] # write your code here\n",
    "\n",
    "    # filter once more so that genre_df will store only rows where the time is greater than time1=\n",
    "    #genre_df = genre_df[genre_df['time']<time2] '# write your code here\n",
    "\n",
    "    # group the filtered DataFrame by the column with the names of genres, take the genre column, and find the number of rows for each genre with the count() method\n",
    "    #genre_df_count = genre_df.groupby('genre').count() # write your code here\n",
    "\n",
    "    # sort the result in descending order (so that the most popular genres come first in the Series object)\n",
    "    #genre_df_sorted = genre_df.sort_values(by='genre', ascending=False)  # write your code here\n",
    "\n",
    "    # we will return the Series object storing the 15 most popular genres on a given day in a given timeframe\n",
    "    #return genre_df_sorted[:15]"
   ]
  },
  {
   "cell_type": "markdown",
   "metadata": {
    "id": "la2s2_PF_Zcu"
   },
   "source": [
    "Compare the results of the `genre_weekday()` function for Springfield and Shelbyville on Monday morning (from 7AM to 11AM) and on Friday evening (from 17:00 to 23:00):"
   ]
  },
  {
   "cell_type": "code",
   "execution_count": 91,
   "metadata": {
    "id": "yz7itPUQ_Zcu",
    "scrolled": true
   },
   "outputs": [],
   "source": [
    "# calling the function for Monday morning in Springfield (use spr_general instead of the df table)\n",
    "def genre_weekday(spr_general, day, time1, time2):\n",
    "    genre_df = spr_general[spr_general['day']==day]\n",
    "    genre_df = genre_df[genre_df['time']>time1]\n",
    "    genre_df = genre_df[genre_df['time']<time2]\n",
    "    genre_df_count = genre_df.groupby('genre')['genre'].count()\n",
    "    genre_df_sorted = genre_df_count.sort_values(ascending=False)\n",
    "    return genre_df_sorted[:15]\n",
    "    "
   ]
  },
  {
   "cell_type": "code",
   "execution_count": 92,
   "metadata": {
    "scrolled": false
   },
   "outputs": [
    {
     "name": "stdout",
     "output_type": "stream",
     "text": [
      "genre\n",
      "pop            781\n",
      "dance          549\n",
      "electronic     480\n",
      "rock           474\n",
      "hiphop         286\n",
      "ruspop         186\n",
      "world          181\n",
      "rusrap         175\n",
      "alternative    164\n",
      "unknown        161\n",
      "classical      157\n",
      "metal          120\n",
      "jazz           100\n",
      "folk            97\n",
      "soundtrack      95\n",
      "Name: genre, dtype: int64\n"
     ]
    }
   ],
   "source": [
    "print(genre_weekday(spr_general,'Monday','07:00','11:00'))    "
   ]
  },
  {
   "cell_type": "code",
   "execution_count": 93,
   "metadata": {
    "id": "kwUcHPdy_Zcu",
    "scrolled": true
   },
   "outputs": [
    {
     "name": "stdout",
     "output_type": "stream",
     "text": [
      "genre\n",
      "pop            218\n",
      "dance          182\n",
      "rock           162\n",
      "electronic     147\n",
      "hiphop          80\n",
      "ruspop          64\n",
      "alternative     58\n",
      "rusrap          55\n",
      "jazz            44\n",
      "classical       40\n",
      "world           36\n",
      "rap             32\n",
      "soundtrack      31\n",
      "rnb             27\n",
      "metal           27\n",
      "Name: genre, dtype: int64\n"
     ]
    }
   ],
   "source": [
    "# calling the function for Monday morning in Shelbyville (use shel_general instead of the df table)\n",
    "def genre_weekday(shel_general , day, time1, time2):\n",
    "    genre_df = shel_general [shel_general ['day']==day]\n",
    "    genre_df = genre_df[genre_df['time']>time1]\n",
    "    genre_df = genre_df[genre_df['time']<time2]\n",
    "    genre_df_count = genre_df.groupby('genre')['genre'].count()\n",
    "    genre_df_sorted = genre_df_count.sort_values(ascending=False)\n",
    "    return genre_df_sorted[:15]\n",
    "\n",
    "print(genre_weekday(shel_general,'Monday','07:00','11:00'))\n"
   ]
  },
  {
   "cell_type": "code",
   "execution_count": 94,
   "metadata": {
    "id": "EzXVRE1o_Zcu",
    "scrolled": true
   },
   "outputs": [
    {
     "name": "stdout",
     "output_type": "stream",
     "text": [
      "genre\n",
      "pop            713\n",
      "rock           517\n",
      "dance          495\n",
      "electronic     482\n",
      "hiphop         273\n",
      "world          208\n",
      "ruspop         170\n",
      "classical      163\n",
      "alternative    163\n",
      "rusrap         142\n",
      "jazz           111\n",
      "unknown        110\n",
      "soundtrack     105\n",
      "rnb             90\n",
      "metal           88\n",
      "Name: genre, dtype: int64\n"
     ]
    }
   ],
   "source": [
    "# calling the function for Friday evening in Springfield\n",
    "print(genre_weekday(spr_general,'Friday','17:00','23:00'))    \n"
   ]
  },
  {
   "cell_type": "code",
   "execution_count": 95,
   "metadata": {
    "id": "JZaEKu5v_Zcu"
   },
   "outputs": [
    {
     "name": "stdout",
     "output_type": "stream",
     "text": [
      "genre\n",
      "pop            256\n",
      "rock           216\n",
      "electronic     216\n",
      "dance          210\n",
      "hiphop          97\n",
      "alternative     63\n",
      "jazz            61\n",
      "classical       60\n",
      "rusrap          59\n",
      "world           54\n",
      "unknown         47\n",
      "ruspop          47\n",
      "soundtrack      40\n",
      "metal           39\n",
      "rap             36\n",
      "Name: genre, dtype: int64\n"
     ]
    }
   ],
   "source": [
    "# calling the function for Friday evening in Shelbyville\n",
    "print(genre_weekday(shel_general,'Friday','17:00','23:00'))\n"
   ]
  },
  {
   "cell_type": "markdown",
   "metadata": {
    "id": "wrCe4MNX_Zcu"
   },
   "source": [
    "**Conclusion**\n",
    "\n",
    "Having compared the top 15 genres on Monday morning, we can draw the following conclusions:\n",
    "\n",
    "1. Users from Springfield and Shelbyville listen to similar music. The top five genres are the same, only rock and electronic have switched places.\n",
    "\n",
    "2. In Springfield, the number of missing values turned out to be so big that the value `'unknown'` came in 10th. This means that missing values make up a considerable portion of the data, which may be a basis for questioning the reliability of our conclusions.\n",
    "\n",
    "For Friday evening, the situation is similar. Individual genres vary somewhat, but on the whole, the top 15 is similar for the two cities.\n",
    "\n",
    "Thus, the second hypothesis has been partially proven true:\n",
    "* Users listen to similar music at the beginning and end of the week.\n",
    "* There is no major difference between Springfield and Shelbyville. In both cities, pop is the most popular genre.\n",
    "\n",
    "However, the number of missing values makes this result questionable. In Springfield, there are so many that they affect our top 15. Were we not missing these values, things might look different."
   ]
  },
  {
   "cell_type": "markdown",
   "metadata": {
    "id": "jLmXgdanVyhP"
   },
   "source": [
    "[Back to Contents](#back)"
   ]
  },
  {
   "cell_type": "markdown",
   "metadata": {
    "id": "JolODAqr_Zcu"
   },
   "source": [
    "### Hypothesis 3: genre preferences in Springfield and Shelbyville <a id='genre'></a>\n",
    "\n",
    "Hypothesis: Shelbyville loves rap music. Springfield's citizens are more into pop."
   ]
  },
  {
   "cell_type": "markdown",
   "metadata": {
    "id": "DlegSvaT_Zcu"
   },
   "source": [
    "Group the `spr_general` table by genre and find the number of songs played for each genre with the `count()` method. Then sort the result in descending order and store it to `spr_genres`."
   ]
  },
  {
   "cell_type": "code",
   "execution_count": 96,
   "metadata": {
    "id": "r19lIPke_Zcu",
    "scrolled": false
   },
   "outputs": [],
   "source": [
    "# on one line: group the spr_general table by the 'genre' column, \n",
    "# count the 'genre' values with count() in the grouping, \n",
    "# sort the resulting Series in descending order, and store it to spr_genres\n",
    "spr_general.groupby('genre')\n",
    "spr_general.groupby('genre').count()\n",
    "spr_genres = spr_general.sort_values(by='genre', ascending = False)\n"
   ]
  },
  {
   "cell_type": "markdown",
   "metadata": {
    "id": "6kMuomxTiIr8"
   },
   "source": [
    "Print the first 10 rows from `spr_genres`:"
   ]
  },
  {
   "cell_type": "code",
   "execution_count": 97,
   "metadata": {
    "id": "WhCSooF8_Zcv",
    "scrolled": true
   },
   "outputs": [
    {
     "data": {
      "text/html": [
       "<div>\n",
       "<style scoped>\n",
       "    .dataframe tbody tr th:only-of-type {\n",
       "        vertical-align: middle;\n",
       "    }\n",
       "\n",
       "    .dataframe tbody tr th {\n",
       "        vertical-align: top;\n",
       "    }\n",
       "\n",
       "    .dataframe thead th {\n",
       "        text-align: right;\n",
       "    }\n",
       "</style>\n",
       "<table border=\"1\" class=\"dataframe\">\n",
       "  <thead>\n",
       "    <tr style=\"text-align: right;\">\n",
       "      <th></th>\n",
       "      <th>user_id</th>\n",
       "      <th>track</th>\n",
       "      <th>artist</th>\n",
       "      <th>genre</th>\n",
       "      <th>city</th>\n",
       "      <th>time</th>\n",
       "      <th>day</th>\n",
       "    </tr>\n",
       "  </thead>\n",
       "  <tbody>\n",
       "    <tr>\n",
       "      <th>8514</th>\n",
       "      <td>A439123F</td>\n",
       "      <td>Flip It</td>\n",
       "      <td>unknown</td>\n",
       "      <td>ïîï</td>\n",
       "      <td>Springfield</td>\n",
       "      <td>09:08:51</td>\n",
       "      <td>Friday</td>\n",
       "    </tr>\n",
       "    <tr>\n",
       "      <th>28665</th>\n",
       "      <td>D7FB50DA</td>\n",
       "      <td>Drumming Circle</td>\n",
       "      <td>Professor Trance</td>\n",
       "      <td>worldbeat</td>\n",
       "      <td>Springfield</td>\n",
       "      <td>09:30:47</td>\n",
       "      <td>Monday</td>\n",
       "    </tr>\n",
       "    <tr>\n",
       "      <th>15337</th>\n",
       "      <td>F1AFA4BA</td>\n",
       "      <td>Mae Pa Fidje</td>\n",
       "      <td>Teofilo Chantre</td>\n",
       "      <td>world</td>\n",
       "      <td>Springfield</td>\n",
       "      <td>14:45:29</td>\n",
       "      <td>Friday</td>\n",
       "    </tr>\n",
       "    <tr>\n",
       "      <th>26052</th>\n",
       "      <td>6B799FBC</td>\n",
       "      <td>Eba</td>\n",
       "      <td>Tamaley</td>\n",
       "      <td>world</td>\n",
       "      <td>Springfield</td>\n",
       "      <td>21:45:47</td>\n",
       "      <td>Monday</td>\n",
       "    </tr>\n",
       "    <tr>\n",
       "      <th>44838</th>\n",
       "      <td>54F93A25</td>\n",
       "      <td>Franc Jeu</td>\n",
       "      <td>Medhy Custos</td>\n",
       "      <td>world</td>\n",
       "      <td>Springfield</td>\n",
       "      <td>21:41:11</td>\n",
       "      <td>Friday</td>\n",
       "    </tr>\n",
       "    <tr>\n",
       "      <th>44811</th>\n",
       "      <td>4C122665</td>\n",
       "      <td>Masha Allah Allah Allah</td>\n",
       "      <td>DJ Nabil</td>\n",
       "      <td>world</td>\n",
       "      <td>Springfield</td>\n",
       "      <td>09:07:44</td>\n",
       "      <td>Wednesday</td>\n",
       "    </tr>\n",
       "    <tr>\n",
       "      <th>5920</th>\n",
       "      <td>382BE6A7</td>\n",
       "      <td>Yerazoum</td>\n",
       "      <td>Mihran Tsarukyan</td>\n",
       "      <td>world</td>\n",
       "      <td>Springfield</td>\n",
       "      <td>08:57:02</td>\n",
       "      <td>Monday</td>\n",
       "    </tr>\n",
       "    <tr>\n",
       "      <th>58178</th>\n",
       "      <td>12B1B81D</td>\n",
       "      <td>Nós e o Mar</td>\n",
       "      <td>Tamba Trio</td>\n",
       "      <td>world</td>\n",
       "      <td>Springfield</td>\n",
       "      <td>13:46:20</td>\n",
       "      <td>Monday</td>\n",
       "    </tr>\n",
       "    <tr>\n",
       "      <th>18897</th>\n",
       "      <td>9097998C</td>\n",
       "      <td>Sandy Beach</td>\n",
       "      <td>Broque</td>\n",
       "      <td>world</td>\n",
       "      <td>Springfield</td>\n",
       "      <td>21:12:05</td>\n",
       "      <td>Friday</td>\n",
       "    </tr>\n",
       "    <tr>\n",
       "      <th>5925</th>\n",
       "      <td>7FB00AC8</td>\n",
       "      <td>'74 '75</td>\n",
       "      <td>The Luc</td>\n",
       "      <td>world</td>\n",
       "      <td>Springfield</td>\n",
       "      <td>09:05:33</td>\n",
       "      <td>Friday</td>\n",
       "    </tr>\n",
       "  </tbody>\n",
       "</table>\n",
       "</div>"
      ],
      "text/plain": [
       "        user_id                    track            artist      genre  \\\n",
       "8514   A439123F                  Flip It           unknown        ïîï   \n",
       "28665  D7FB50DA          Drumming Circle  Professor Trance  worldbeat   \n",
       "15337  F1AFA4BA             Mae Pa Fidje   Teofilo Chantre      world   \n",
       "26052  6B799FBC                      Eba           Tamaley      world   \n",
       "44838  54F93A25                Franc Jeu      Medhy Custos      world   \n",
       "44811  4C122665  Masha Allah Allah Allah          DJ Nabil      world   \n",
       "5920   382BE6A7                 Yerazoum  Mihran Tsarukyan      world   \n",
       "58178  12B1B81D              Nós e o Mar        Tamba Trio      world   \n",
       "18897  9097998C              Sandy Beach            Broque      world   \n",
       "5925   7FB00AC8                  '74 '75           The Luc      world   \n",
       "\n",
       "              city      time        day  \n",
       "8514   Springfield  09:08:51     Friday  \n",
       "28665  Springfield  09:30:47     Monday  \n",
       "15337  Springfield  14:45:29     Friday  \n",
       "26052  Springfield  21:45:47     Monday  \n",
       "44838  Springfield  21:41:11     Friday  \n",
       "44811  Springfield  09:07:44  Wednesday  \n",
       "5920   Springfield  08:57:02     Monday  \n",
       "58178  Springfield  13:46:20     Monday  \n",
       "18897  Springfield  21:12:05     Friday  \n",
       "5925   Springfield  09:05:33     Friday  "
      ]
     },
     "execution_count": 97,
     "metadata": {},
     "output_type": "execute_result"
    }
   ],
   "source": [
    "# printing the first 10 rows of spr_genres\n",
    "\n",
    "spr_genres.head(10)"
   ]
  },
  {
   "cell_type": "markdown",
   "metadata": {
    "id": "cnPG2vnN_Zcv"
   },
   "source": [
    "Now do the same with the data on Shelbyville.\n",
    "\n",
    "Group the `shel_general` table by genre and find the number of songs played for each genre. Then sort the result in descending order and store it to the `shel_genres` table:\n"
   ]
  },
  {
   "cell_type": "code",
   "execution_count": 98,
   "metadata": {
    "id": "gluLIpE7_Zcv"
   },
   "outputs": [],
   "source": [
    "# on one line: group the shel_general table by the 'genre' column, \n",
    "# count the 'genre' values in the grouping with count(), \n",
    "# sort the resulting Series in descending order and store it to shel_genres\n",
    "shel_general.groupby('genre')\n",
    "shel_general.groupby('genre').count()\n",
    "shel_genres = shel_general.sort_values(by='genre', ascending = False)\n"
   ]
  },
  {
   "cell_type": "markdown",
   "metadata": {
    "id": "5Doha_ODgyQ8"
   },
   "source": [
    "Print the first 10 rows of `shel_genres`:"
   ]
  },
  {
   "cell_type": "code",
   "execution_count": 99,
   "metadata": {
    "id": "uaGJHjVU_Zcv",
    "scrolled": true
   },
   "outputs": [
    {
     "data": {
      "text/html": [
       "<div>\n",
       "<style scoped>\n",
       "    .dataframe tbody tr th:only-of-type {\n",
       "        vertical-align: middle;\n",
       "    }\n",
       "\n",
       "    .dataframe tbody tr th {\n",
       "        vertical-align: top;\n",
       "    }\n",
       "\n",
       "    .dataframe thead th {\n",
       "        text-align: right;\n",
       "    }\n",
       "</style>\n",
       "<table border=\"1\" class=\"dataframe\">\n",
       "  <thead>\n",
       "    <tr style=\"text-align: right;\">\n",
       "      <th></th>\n",
       "      <th>user_id</th>\n",
       "      <th>track</th>\n",
       "      <th>artist</th>\n",
       "      <th>genre</th>\n",
       "      <th>city</th>\n",
       "      <th>time</th>\n",
       "      <th>day</th>\n",
       "    </tr>\n",
       "  </thead>\n",
       "  <tbody>\n",
       "    <tr>\n",
       "      <th>40493</th>\n",
       "      <td>AA1730E8</td>\n",
       "      <td>Anu</td>\n",
       "      <td>Kailash Kokopelli</td>\n",
       "      <td>worldbeat</td>\n",
       "      <td>Shelbyville</td>\n",
       "      <td>20:16:34</td>\n",
       "      <td>Wednesday</td>\n",
       "    </tr>\n",
       "    <tr>\n",
       "      <th>31420</th>\n",
       "      <td>4F773441</td>\n",
       "      <td>Tibet</td>\n",
       "      <td>Furunkulus</td>\n",
       "      <td>world</td>\n",
       "      <td>Shelbyville</td>\n",
       "      <td>21:07:29</td>\n",
       "      <td>Wednesday</td>\n",
       "    </tr>\n",
       "    <tr>\n",
       "      <th>13204</th>\n",
       "      <td>BA0FE104</td>\n",
       "      <td>Ride</td>\n",
       "      <td>Elji Beatzkilla</td>\n",
       "      <td>world</td>\n",
       "      <td>Shelbyville</td>\n",
       "      <td>13:53:55</td>\n",
       "      <td>Wednesday</td>\n",
       "    </tr>\n",
       "    <tr>\n",
       "      <th>39937</th>\n",
       "      <td>38EF7CEB</td>\n",
       "      <td>El Forga Moura</td>\n",
       "      <td>Haim</td>\n",
       "      <td>world</td>\n",
       "      <td>Shelbyville</td>\n",
       "      <td>13:43:19</td>\n",
       "      <td>Monday</td>\n",
       "    </tr>\n",
       "    <tr>\n",
       "      <th>20014</th>\n",
       "      <td>58EA4E8A</td>\n",
       "      <td>King Of The Fairies</td>\n",
       "      <td>Tom McHaile</td>\n",
       "      <td>world</td>\n",
       "      <td>Shelbyville</td>\n",
       "      <td>14:47:52</td>\n",
       "      <td>Wednesday</td>\n",
       "    </tr>\n",
       "    <tr>\n",
       "      <th>39996</th>\n",
       "      <td>2297CBFB</td>\n",
       "      <td>Minor Swing</td>\n",
       "      <td>International String Trio</td>\n",
       "      <td>world</td>\n",
       "      <td>Shelbyville</td>\n",
       "      <td>14:58:22</td>\n",
       "      <td>Wednesday</td>\n",
       "    </tr>\n",
       "    <tr>\n",
       "      <th>1229</th>\n",
       "      <td>47E5088</td>\n",
       "      <td>Massachussetts</td>\n",
       "      <td>Cover Masters</td>\n",
       "      <td>world</td>\n",
       "      <td>Shelbyville</td>\n",
       "      <td>21:02:08</td>\n",
       "      <td>Friday</td>\n",
       "    </tr>\n",
       "    <tr>\n",
       "      <th>13201</th>\n",
       "      <td>F0F48477</td>\n",
       "      <td>Mustt Mustt</td>\n",
       "      <td>unknown</td>\n",
       "      <td>world</td>\n",
       "      <td>Shelbyville</td>\n",
       "      <td>13:18:22</td>\n",
       "      <td>Friday</td>\n",
       "    </tr>\n",
       "    <tr>\n",
       "      <th>5412</th>\n",
       "      <td>1FE0862E</td>\n",
       "      <td>Sakura Shamisen</td>\n",
       "      <td>Kensei</td>\n",
       "      <td>world</td>\n",
       "      <td>Shelbyville</td>\n",
       "      <td>08:51:08</td>\n",
       "      <td>Friday</td>\n",
       "    </tr>\n",
       "    <tr>\n",
       "      <th>61034</th>\n",
       "      <td>CAB3F3A</td>\n",
       "      <td>Dovdu</td>\n",
       "      <td>Angelit</td>\n",
       "      <td>world</td>\n",
       "      <td>Shelbyville</td>\n",
       "      <td>08:59:59</td>\n",
       "      <td>Wednesday</td>\n",
       "    </tr>\n",
       "  </tbody>\n",
       "</table>\n",
       "</div>"
      ],
      "text/plain": [
       "        user_id                track                     artist      genre  \\\n",
       "40493  AA1730E8                  Anu          Kailash Kokopelli  worldbeat   \n",
       "31420  4F773441                Tibet                 Furunkulus      world   \n",
       "13204  BA0FE104                 Ride            Elji Beatzkilla      world   \n",
       "39937  38EF7CEB       El Forga Moura                       Haim      world   \n",
       "20014  58EA4E8A  King Of The Fairies                Tom McHaile      world   \n",
       "39996  2297CBFB          Minor Swing  International String Trio      world   \n",
       "1229    47E5088       Massachussetts              Cover Masters      world   \n",
       "13201  F0F48477          Mustt Mustt                    unknown      world   \n",
       "5412   1FE0862E      Sakura Shamisen                     Kensei      world   \n",
       "61034   CAB3F3A                Dovdu                    Angelit      world   \n",
       "\n",
       "              city      time        day  \n",
       "40493  Shelbyville  20:16:34  Wednesday  \n",
       "31420  Shelbyville  21:07:29  Wednesday  \n",
       "13204  Shelbyville  13:53:55  Wednesday  \n",
       "39937  Shelbyville  13:43:19     Monday  \n",
       "20014  Shelbyville  14:47:52  Wednesday  \n",
       "39996  Shelbyville  14:58:22  Wednesday  \n",
       "1229   Shelbyville  21:02:08     Friday  \n",
       "13201  Shelbyville  13:18:22     Friday  \n",
       "5412   Shelbyville  08:51:08     Friday  \n",
       "61034  Shelbyville  08:59:59  Wednesday  "
      ]
     },
     "execution_count": 99,
     "metadata": {},
     "output_type": "execute_result"
    }
   ],
   "source": [
    "# printing the first 10 rows from shel_genres\n",
    "shel_genres.head(10)"
   ]
  },
  {
   "cell_type": "markdown",
   "metadata": {
    "id": "RY51YJYu_Zcv"
   },
   "source": [
    "**Conclusion**"
   ]
  },
  {
   "cell_type": "markdown",
   "metadata": {
    "id": "nVhnJEm__Zcv"
   },
   "source": [
    "The hypothesis has been partially proven true:\n",
    "* Pop music is the most popular genre in Springfield, as expected.\n",
    "* However, pop music turned out to be equally popular in Springfield and Shelbyville, and rap wasn't in the top 5 for either city.\n"
   ]
  },
  {
   "cell_type": "markdown",
   "metadata": {
    "id": "Byr0RfpPVz14"
   },
   "source": [
    "[Back to Contents](#back)"
   ]
  },
  {
   "cell_type": "markdown",
   "metadata": {
    "id": "ykKQ0N65_Zcv"
   },
   "source": [
    "# Findings <a id='end'></a>"
   ]
  },
  {
   "cell_type": "markdown",
   "metadata": {
    "id": "tjUwbHb3_Zcv"
   },
   "source": [
    "We have tested the following three hypotheses:\n",
    "\n",
    "1. User activity differs depending on the day of the week and from city to city. \n",
    "2. On Monday mornings, Springfield and Shelbyville residents listen to different genres. This is also true for Friday evenings. \n",
    "3. Springfield and Shelbyville listeners have different preferences. In both Springfield and Shelbyville, they prefer pop.\n",
    "\n",
    "After analyzing the data, we concluded:\n",
    "\n",
    "1. User activity in Springfield and Shelbyville depends on the day of the week, though the cities vary in different ways. \n",
    "\n",
    "The first hypothesis is fully accepted.\n",
    "\n",
    "2. Musical preferences do not vary significantly over the course of the week in both Springfield and Shelbyville. We can see small differences in order on Mondays, but:\n",
    "* In Springfield and Shelbyville, people listen to pop music most.\n",
    "\n",
    "So we can't accept this hypothesis. We must also keep in mind that the result could have been different if not for the missing values.\n",
    "\n",
    "3. It turns out that the musical preferences of users from Springfield and Shelbyville are quite similar.\n",
    "\n",
    "The third hypothesis is rejected. If there is any difference in preferences, it cannot be seen from this data.\n",
    "\n",
    "### Note \n",
    "In real projects, research involves statistical hypothesis testing, which is more precise and more quantitative. Also note that you cannot always draw conclusions about an entire city based on the data from just one source.\n",
    "\n",
    "You will study hypothesis testing in the sprint on statistical data analysis."
   ]
  },
  {
   "cell_type": "markdown",
   "metadata": {
    "id": "Ju4AHDSgV1FE"
   },
   "source": [
    "[Back to Contents](#back)"
   ]
  }
 ],
 "metadata": {
  "ExecuteTimeLog": [
   {
    "duration": 57,
    "start_time": "2022-05-07T00:49:11.881Z"
   },
   {
    "duration": 59,
    "start_time": "2022-05-07T00:50:56.773Z"
   },
   {
    "duration": 7,
    "start_time": "2022-05-07T00:51:16.301Z"
   },
   {
    "duration": 6,
    "start_time": "2022-05-07T00:51:38.327Z"
   },
   {
    "duration": 6,
    "start_time": "2022-05-07T00:51:50.461Z"
   },
   {
    "duration": 6,
    "start_time": "2022-05-07T00:54:40.234Z"
   },
   {
    "duration": 7,
    "start_time": "2022-05-07T00:56:01.192Z"
   },
   {
    "duration": 7,
    "start_time": "2022-05-07T00:59:15.677Z"
   },
   {
    "duration": 6,
    "start_time": "2022-05-07T00:59:50.915Z"
   },
   {
    "duration": 6,
    "start_time": "2022-05-07T01:06:48.239Z"
   },
   {
    "duration": 6,
    "start_time": "2022-05-07T01:07:26.874Z"
   },
   {
    "duration": 6,
    "start_time": "2022-05-07T01:08:43.701Z"
   },
   {
    "duration": 6,
    "start_time": "2022-05-07T01:11:17.824Z"
   },
   {
    "duration": 6,
    "start_time": "2022-05-07T01:11:57.537Z"
   },
   {
    "duration": 6,
    "start_time": "2022-05-07T01:12:09.805Z"
   },
   {
    "duration": 5,
    "start_time": "2022-05-07T01:21:32.904Z"
   },
   {
    "duration": 6,
    "start_time": "2022-05-07T01:24:08.370Z"
   },
   {
    "duration": 6,
    "start_time": "2022-05-07T01:25:15.180Z"
   },
   {
    "duration": 6,
    "start_time": "2022-05-07T01:27:50.166Z"
   },
   {
    "duration": 6,
    "start_time": "2022-05-07T01:28:08.284Z"
   },
   {
    "duration": 6,
    "start_time": "2022-05-07T01:28:24.625Z"
   },
   {
    "duration": 6,
    "start_time": "2022-05-07T01:29:11.925Z"
   },
   {
    "duration": 5,
    "start_time": "2022-05-07T01:29:28.158Z"
   },
   {
    "duration": 6,
    "start_time": "2022-05-07T01:29:41.795Z"
   },
   {
    "duration": 6,
    "start_time": "2022-05-07T01:30:19.568Z"
   },
   {
    "duration": 429,
    "start_time": "2022-05-07T01:32:04.008Z"
   },
   {
    "duration": 161,
    "start_time": "2022-05-07T01:32:04.439Z"
   },
   {
    "duration": 19,
    "start_time": "2022-05-07T01:32:04.602Z"
   },
   {
    "duration": 141,
    "start_time": "2022-05-07T01:32:04.623Z"
   },
   {
    "duration": 2,
    "start_time": "2022-05-07T01:32:04.767Z"
   },
   {
    "duration": 13,
    "start_time": "2022-05-07T01:32:04.771Z"
   },
   {
    "duration": 10,
    "start_time": "2022-05-07T01:32:04.786Z"
   },
   {
    "duration": 11,
    "start_time": "2022-05-07T01:32:04.797Z"
   },
   {
    "duration": 4,
    "start_time": "2022-05-07T01:32:04.809Z"
   },
   {
    "duration": 4,
    "start_time": "2022-05-07T01:32:04.815Z"
   },
   {
    "duration": 5,
    "start_time": "2022-05-07T01:32:04.820Z"
   },
   {
    "duration": 4,
    "start_time": "2022-05-07T01:32:04.826Z"
   },
   {
    "duration": 2,
    "start_time": "2022-05-07T01:32:04.834Z"
   },
   {
    "duration": 3,
    "start_time": "2022-05-07T01:32:04.840Z"
   },
   {
    "duration": 5,
    "start_time": "2022-05-07T01:32:04.845Z"
   },
   {
    "duration": 5,
    "start_time": "2022-05-07T01:32:04.851Z"
   },
   {
    "duration": 4,
    "start_time": "2022-05-07T01:32:04.858Z"
   },
   {
    "duration": 5,
    "start_time": "2022-05-07T01:32:04.863Z"
   },
   {
    "duration": 39,
    "start_time": "2022-05-07T01:32:04.869Z"
   },
   {
    "duration": 2,
    "start_time": "2022-05-07T01:32:04.910Z"
   },
   {
    "duration": 4,
    "start_time": "2022-05-07T01:32:04.914Z"
   },
   {
    "duration": 5,
    "start_time": "2022-05-07T01:32:04.920Z"
   },
   {
    "duration": 6,
    "start_time": "2022-05-07T01:32:04.926Z"
   },
   {
    "duration": 4,
    "start_time": "2022-05-07T01:32:04.934Z"
   },
   {
    "duration": 5,
    "start_time": "2022-05-07T01:32:04.939Z"
   },
   {
    "duration": 6,
    "start_time": "2022-05-07T01:32:04.945Z"
   },
   {
    "duration": 4,
    "start_time": "2022-05-07T01:32:04.952Z"
   },
   {
    "duration": 4,
    "start_time": "2022-05-07T01:32:04.958Z"
   },
   {
    "duration": 5,
    "start_time": "2022-05-07T01:32:04.963Z"
   },
   {
    "duration": 3,
    "start_time": "2022-05-07T01:32:04.970Z"
   },
   {
    "duration": 3,
    "start_time": "2022-05-07T01:32:05.008Z"
   },
   {
    "duration": 78,
    "start_time": "2022-05-07T01:32:05.012Z"
   },
   {
    "duration": 0,
    "start_time": "2022-05-07T01:32:05.092Z"
   },
   {
    "duration": 0,
    "start_time": "2022-05-07T01:32:05.093Z"
   },
   {
    "duration": 0,
    "start_time": "2022-05-07T01:32:05.095Z"
   },
   {
    "duration": 0,
    "start_time": "2022-05-07T01:32:05.096Z"
   },
   {
    "duration": 0,
    "start_time": "2022-05-07T01:32:05.097Z"
   },
   {
    "duration": 0,
    "start_time": "2022-05-07T01:32:05.098Z"
   },
   {
    "duration": 0,
    "start_time": "2022-05-07T01:32:05.099Z"
   },
   {
    "duration": 0,
    "start_time": "2022-05-07T01:32:05.100Z"
   },
   {
    "duration": 2,
    "start_time": "2022-05-07T01:35:34.194Z"
   },
   {
    "duration": 149,
    "start_time": "2022-05-07T01:35:34.198Z"
   },
   {
    "duration": 12,
    "start_time": "2022-05-07T01:35:34.349Z"
   },
   {
    "duration": 7,
    "start_time": "2022-05-07T01:44:15.035Z"
   },
   {
    "duration": 7,
    "start_time": "2022-05-07T01:44:56.195Z"
   },
   {
    "duration": 7,
    "start_time": "2022-05-07T01:48:08.219Z"
   },
   {
    "duration": 2,
    "start_time": "2022-05-07T02:30:37.193Z"
   },
   {
    "duration": 4,
    "start_time": "2022-05-07T02:47:07.005Z"
   },
   {
    "duration": 46,
    "start_time": "2022-05-07T05:51:51.437Z"
   },
   {
    "duration": 6,
    "start_time": "2022-05-07T05:52:45.355Z"
   },
   {
    "duration": 0,
    "start_time": "2022-05-07T05:52:45.362Z"
   },
   {
    "duration": 396,
    "start_time": "2022-05-07T05:53:20.852Z"
   },
   {
    "duration": 187,
    "start_time": "2022-05-07T05:53:21.250Z"
   },
   {
    "duration": 129,
    "start_time": "2022-05-07T05:53:21.438Z"
   },
   {
    "duration": 6,
    "start_time": "2022-05-07T05:53:21.569Z"
   },
   {
    "duration": 5,
    "start_time": "2022-05-07T05:53:21.577Z"
   },
   {
    "duration": 7,
    "start_time": "2022-05-07T05:53:21.584Z"
   },
   {
    "duration": 14,
    "start_time": "2022-05-07T05:53:21.592Z"
   },
   {
    "duration": 3,
    "start_time": "2022-05-07T05:53:50.856Z"
   },
   {
    "duration": 213,
    "start_time": "2022-05-07T05:53:50.861Z"
   },
   {
    "duration": 210,
    "start_time": "2022-05-07T05:53:51.076Z"
   },
   {
    "duration": 8,
    "start_time": "2022-05-07T05:53:51.288Z"
   },
   {
    "duration": 3,
    "start_time": "2022-05-07T05:53:51.298Z"
   },
   {
    "duration": 5,
    "start_time": "2022-05-07T05:53:51.303Z"
   },
   {
    "duration": 19,
    "start_time": "2022-05-07T05:53:51.309Z"
   },
   {
    "duration": 2,
    "start_time": "2022-05-07T05:56:48.373Z"
   },
   {
    "duration": 137,
    "start_time": "2022-05-07T05:56:48.377Z"
   },
   {
    "duration": 122,
    "start_time": "2022-05-07T05:56:48.515Z"
   },
   {
    "duration": 9,
    "start_time": "2022-05-07T05:56:48.639Z"
   },
   {
    "duration": 4,
    "start_time": "2022-05-07T05:56:48.650Z"
   },
   {
    "duration": 6,
    "start_time": "2022-05-07T05:56:48.656Z"
   },
   {
    "duration": 9,
    "start_time": "2022-05-07T05:56:48.663Z"
   },
   {
    "duration": 2,
    "start_time": "2022-05-07T05:57:07.523Z"
   },
   {
    "duration": 138,
    "start_time": "2022-05-07T05:57:07.527Z"
   },
   {
    "duration": 123,
    "start_time": "2022-05-07T05:57:07.667Z"
   },
   {
    "duration": 6,
    "start_time": "2022-05-07T05:57:07.792Z"
   },
   {
    "duration": 6,
    "start_time": "2022-05-07T05:57:07.799Z"
   },
   {
    "duration": 7,
    "start_time": "2022-05-07T05:57:07.806Z"
   },
   {
    "duration": 9,
    "start_time": "2022-05-07T05:57:07.815Z"
   },
   {
    "duration": 3,
    "start_time": "2022-05-07T05:57:26.193Z"
   },
   {
    "duration": 138,
    "start_time": "2022-05-07T05:57:26.198Z"
   },
   {
    "duration": 121,
    "start_time": "2022-05-07T05:57:26.338Z"
   },
   {
    "duration": 6,
    "start_time": "2022-05-07T05:57:26.461Z"
   },
   {
    "duration": 4,
    "start_time": "2022-05-07T05:57:26.470Z"
   },
   {
    "duration": 5,
    "start_time": "2022-05-07T05:57:26.476Z"
   },
   {
    "duration": 2,
    "start_time": "2022-05-07T05:57:35.814Z"
   },
   {
    "duration": 141,
    "start_time": "2022-05-07T05:57:35.819Z"
   },
   {
    "duration": 128,
    "start_time": "2022-05-07T05:57:35.962Z"
   },
   {
    "duration": 6,
    "start_time": "2022-05-07T05:57:36.092Z"
   },
   {
    "duration": 7,
    "start_time": "2022-05-07T05:57:36.100Z"
   },
   {
    "duration": 6,
    "start_time": "2022-05-07T05:57:36.109Z"
   },
   {
    "duration": 15,
    "start_time": "2022-05-07T05:57:36.117Z"
   },
   {
    "duration": 4,
    "start_time": "2022-05-07T05:58:56.155Z"
   },
   {
    "duration": 2,
    "start_time": "2022-05-07T05:59:56.289Z"
   },
   {
    "duration": 203,
    "start_time": "2022-05-07T05:59:56.294Z"
   },
   {
    "duration": 210,
    "start_time": "2022-05-07T05:59:56.500Z"
   },
   {
    "duration": 8,
    "start_time": "2022-05-07T05:59:56.713Z"
   },
   {
    "duration": 3,
    "start_time": "2022-05-07T05:59:56.724Z"
   },
   {
    "duration": 19,
    "start_time": "2022-05-07T05:59:56.729Z"
   },
   {
    "duration": 18,
    "start_time": "2022-05-07T05:59:56.750Z"
   },
   {
    "duration": 2,
    "start_time": "2022-05-07T06:06:56.909Z"
   },
   {
    "duration": 137,
    "start_time": "2022-05-07T06:06:56.913Z"
   },
   {
    "duration": 128,
    "start_time": "2022-05-07T06:06:57.052Z"
   },
   {
    "duration": 6,
    "start_time": "2022-05-07T06:06:57.182Z"
   },
   {
    "duration": 5,
    "start_time": "2022-05-07T06:06:57.190Z"
   },
   {
    "duration": 6,
    "start_time": "2022-05-07T06:06:57.197Z"
   },
   {
    "duration": 46,
    "start_time": "2022-05-07T06:06:57.204Z"
   },
   {
    "duration": 3,
    "start_time": "2022-05-07T06:07:25.610Z"
   },
   {
    "duration": 142,
    "start_time": "2022-05-07T06:07:25.614Z"
   },
   {
    "duration": 121,
    "start_time": "2022-05-07T06:07:25.757Z"
   },
   {
    "duration": 6,
    "start_time": "2022-05-07T06:07:25.879Z"
   },
   {
    "duration": 6,
    "start_time": "2022-05-07T06:07:25.887Z"
   },
   {
    "duration": 6,
    "start_time": "2022-05-07T06:07:25.894Z"
   },
   {
    "duration": 13,
    "start_time": "2022-05-07T06:07:25.902Z"
   },
   {
    "duration": 2,
    "start_time": "2022-05-07T06:08:17.329Z"
   },
   {
    "duration": 833,
    "start_time": "2022-05-07T06:08:17.333Z"
   },
   {
    "duration": 136,
    "start_time": "2022-05-07T06:08:18.167Z"
   },
   {
    "duration": 6,
    "start_time": "2022-05-07T06:08:18.305Z"
   },
   {
    "duration": 5,
    "start_time": "2022-05-07T06:08:18.313Z"
   },
   {
    "duration": 6,
    "start_time": "2022-05-07T06:08:18.320Z"
   },
   {
    "duration": 3,
    "start_time": "2022-05-07T06:08:18.348Z"
   },
   {
    "duration": 3,
    "start_time": "2022-05-07T06:08:39.073Z"
   },
   {
    "duration": 144,
    "start_time": "2022-05-07T06:08:39.078Z"
   },
   {
    "duration": 119,
    "start_time": "2022-05-07T06:08:39.224Z"
   },
   {
    "duration": 6,
    "start_time": "2022-05-07T06:08:39.348Z"
   },
   {
    "duration": 4,
    "start_time": "2022-05-07T06:08:39.356Z"
   },
   {
    "duration": 7,
    "start_time": "2022-05-07T06:08:39.362Z"
   },
   {
    "duration": 4,
    "start_time": "2022-05-07T06:08:39.370Z"
   },
   {
    "duration": 2,
    "start_time": "2022-05-07T06:08:54.485Z"
   },
   {
    "duration": 141,
    "start_time": "2022-05-07T06:08:54.489Z"
   },
   {
    "duration": 124,
    "start_time": "2022-05-07T06:08:54.631Z"
   },
   {
    "duration": 6,
    "start_time": "2022-05-07T06:08:54.756Z"
   },
   {
    "duration": 3,
    "start_time": "2022-05-07T06:08:54.765Z"
   },
   {
    "duration": 6,
    "start_time": "2022-05-07T06:08:54.770Z"
   },
   {
    "duration": 15,
    "start_time": "2022-05-07T06:08:54.777Z"
   },
   {
    "duration": 3,
    "start_time": "2022-05-07T06:09:32.960Z"
   },
   {
    "duration": 140,
    "start_time": "2022-05-07T06:09:32.965Z"
   },
   {
    "duration": 130,
    "start_time": "2022-05-07T06:09:33.107Z"
   },
   {
    "duration": 10,
    "start_time": "2022-05-07T06:09:33.239Z"
   },
   {
    "duration": 4,
    "start_time": "2022-05-07T06:09:33.251Z"
   },
   {
    "duration": 6,
    "start_time": "2022-05-07T06:09:33.256Z"
   },
   {
    "duration": 16,
    "start_time": "2022-05-07T06:09:33.263Z"
   },
   {
    "duration": 3,
    "start_time": "2022-05-07T06:09:55.478Z"
   },
   {
    "duration": 138,
    "start_time": "2022-05-07T06:09:55.483Z"
   },
   {
    "duration": 120,
    "start_time": "2022-05-07T06:09:55.623Z"
   },
   {
    "duration": 6,
    "start_time": "2022-05-07T06:09:55.747Z"
   },
   {
    "duration": 5,
    "start_time": "2022-05-07T06:09:55.755Z"
   },
   {
    "duration": 5,
    "start_time": "2022-05-07T06:09:55.761Z"
   },
   {
    "duration": 13,
    "start_time": "2022-05-07T06:09:55.768Z"
   },
   {
    "duration": 4,
    "start_time": "2022-05-07T06:09:55.784Z"
   },
   {
    "duration": 3,
    "start_time": "2022-05-07T06:28:46.220Z"
   },
   {
    "duration": 136,
    "start_time": "2022-05-07T06:28:46.225Z"
   },
   {
    "duration": 125,
    "start_time": "2022-05-07T06:28:46.363Z"
   },
   {
    "duration": 7,
    "start_time": "2022-05-07T06:28:46.490Z"
   },
   {
    "duration": 3,
    "start_time": "2022-05-07T06:28:46.499Z"
   },
   {
    "duration": 6,
    "start_time": "2022-05-07T06:28:46.503Z"
   },
   {
    "duration": 8,
    "start_time": "2022-05-07T06:28:46.510Z"
   },
   {
    "duration": 2,
    "start_time": "2022-05-07T06:29:25.017Z"
   },
   {
    "duration": 146,
    "start_time": "2022-05-07T06:29:25.021Z"
   },
   {
    "duration": 126,
    "start_time": "2022-05-07T06:29:25.169Z"
   },
   {
    "duration": 5,
    "start_time": "2022-05-07T06:29:25.297Z"
   },
   {
    "duration": 4,
    "start_time": "2022-05-07T06:29:25.304Z"
   },
   {
    "duration": 6,
    "start_time": "2022-05-07T06:29:25.310Z"
   },
   {
    "duration": 6,
    "start_time": "2022-05-07T06:29:25.317Z"
   },
   {
    "duration": 2,
    "start_time": "2022-05-07T06:30:07.891Z"
   },
   {
    "duration": 140,
    "start_time": "2022-05-07T06:30:07.895Z"
   },
   {
    "duration": 124,
    "start_time": "2022-05-07T06:30:08.037Z"
   },
   {
    "duration": 6,
    "start_time": "2022-05-07T06:30:08.163Z"
   },
   {
    "duration": 6,
    "start_time": "2022-05-07T06:30:08.170Z"
   },
   {
    "duration": 7,
    "start_time": "2022-05-07T06:30:08.177Z"
   },
   {
    "duration": 7,
    "start_time": "2022-05-07T06:30:08.185Z"
   },
   {
    "duration": 3,
    "start_time": "2022-05-07T06:30:27.983Z"
   },
   {
    "duration": 140,
    "start_time": "2022-05-07T06:30:27.987Z"
   },
   {
    "duration": 118,
    "start_time": "2022-05-07T06:30:28.129Z"
   },
   {
    "duration": 6,
    "start_time": "2022-05-07T06:30:28.249Z"
   },
   {
    "duration": 4,
    "start_time": "2022-05-07T06:30:28.256Z"
   },
   {
    "duration": 8,
    "start_time": "2022-05-07T06:30:28.261Z"
   },
   {
    "duration": 5,
    "start_time": "2022-05-07T06:30:28.270Z"
   },
   {
    "duration": 7,
    "start_time": "2022-05-07T06:30:28.276Z"
   },
   {
    "duration": 3,
    "start_time": "2022-05-07T06:31:34.120Z"
   },
   {
    "duration": 201,
    "start_time": "2022-05-07T06:31:34.125Z"
   },
   {
    "duration": 219,
    "start_time": "2022-05-07T06:31:34.329Z"
   },
   {
    "duration": 7,
    "start_time": "2022-05-07T06:31:34.551Z"
   },
   {
    "duration": 4,
    "start_time": "2022-05-07T06:31:34.561Z"
   },
   {
    "duration": 7,
    "start_time": "2022-05-07T06:31:34.566Z"
   },
   {
    "duration": 5,
    "start_time": "2022-05-07T06:31:34.574Z"
   },
   {
    "duration": 2,
    "start_time": "2022-05-07T06:31:49.528Z"
   },
   {
    "duration": 201,
    "start_time": "2022-05-07T06:31:49.533Z"
   },
   {
    "duration": 204,
    "start_time": "2022-05-07T06:31:49.736Z"
   },
   {
    "duration": 7,
    "start_time": "2022-05-07T06:31:49.947Z"
   },
   {
    "duration": 4,
    "start_time": "2022-05-07T06:31:49.956Z"
   },
   {
    "duration": 6,
    "start_time": "2022-05-07T06:31:49.961Z"
   },
   {
    "duration": 4,
    "start_time": "2022-05-07T06:31:49.969Z"
   },
   {
    "duration": 5,
    "start_time": "2022-05-07T06:31:49.975Z"
   },
   {
    "duration": 3,
    "start_time": "2022-05-07T06:32:22.392Z"
   },
   {
    "duration": 141,
    "start_time": "2022-05-07T06:32:22.397Z"
   },
   {
    "duration": 128,
    "start_time": "2022-05-07T06:32:22.540Z"
   },
   {
    "duration": 6,
    "start_time": "2022-05-07T06:32:22.670Z"
   },
   {
    "duration": 3,
    "start_time": "2022-05-07T06:32:22.678Z"
   },
   {
    "duration": 7,
    "start_time": "2022-05-07T06:32:22.683Z"
   },
   {
    "duration": 7,
    "start_time": "2022-05-07T06:32:22.691Z"
   },
   {
    "duration": 2,
    "start_time": "2022-05-07T06:32:55.612Z"
   },
   {
    "duration": 146,
    "start_time": "2022-05-07T06:32:55.616Z"
   },
   {
    "duration": 126,
    "start_time": "2022-05-07T06:32:55.763Z"
   },
   {
    "duration": 6,
    "start_time": "2022-05-07T06:32:55.890Z"
   },
   {
    "duration": 3,
    "start_time": "2022-05-07T06:32:55.898Z"
   },
   {
    "duration": 5,
    "start_time": "2022-05-07T06:32:55.903Z"
   },
   {
    "duration": 2,
    "start_time": "2022-05-07T06:33:24.517Z"
   },
   {
    "duration": 199,
    "start_time": "2022-05-07T06:33:24.522Z"
   },
   {
    "duration": 204,
    "start_time": "2022-05-07T06:33:24.723Z"
   },
   {
    "duration": 8,
    "start_time": "2022-05-07T06:33:24.929Z"
   },
   {
    "duration": 2,
    "start_time": "2022-05-07T06:33:24.947Z"
   },
   {
    "duration": 7,
    "start_time": "2022-05-07T06:33:24.951Z"
   },
   {
    "duration": 5,
    "start_time": "2022-05-07T06:33:24.960Z"
   },
   {
    "duration": 5,
    "start_time": "2022-05-07T06:33:24.967Z"
   },
   {
    "duration": 3,
    "start_time": "2022-05-07T06:33:48.010Z"
   },
   {
    "duration": 204,
    "start_time": "2022-05-07T06:33:48.015Z"
   },
   {
    "duration": 206,
    "start_time": "2022-05-07T06:33:48.222Z"
   },
   {
    "duration": 7,
    "start_time": "2022-05-07T06:33:48.430Z"
   },
   {
    "duration": 3,
    "start_time": "2022-05-07T06:33:48.446Z"
   },
   {
    "duration": 6,
    "start_time": "2022-05-07T06:33:48.451Z"
   },
   {
    "duration": 17,
    "start_time": "2022-05-07T06:33:48.459Z"
   },
   {
    "duration": 9,
    "start_time": "2022-05-07T06:33:48.478Z"
   },
   {
    "duration": 3,
    "start_time": "2022-05-07T06:38:04.588Z"
   },
   {
    "duration": 134,
    "start_time": "2022-05-07T06:38:04.593Z"
   },
   {
    "duration": 128,
    "start_time": "2022-05-07T06:38:04.729Z"
   },
   {
    "duration": 6,
    "start_time": "2022-05-07T06:38:04.858Z"
   },
   {
    "duration": 5,
    "start_time": "2022-05-07T06:38:04.866Z"
   },
   {
    "duration": 8,
    "start_time": "2022-05-07T06:38:04.872Z"
   },
   {
    "duration": 14,
    "start_time": "2022-05-07T06:38:04.881Z"
   },
   {
    "duration": 5,
    "start_time": "2022-05-07T06:38:04.896Z"
   },
   {
    "duration": 3,
    "start_time": "2022-05-07T06:53:29.120Z"
   },
   {
    "duration": 144,
    "start_time": "2022-05-07T06:53:29.126Z"
   },
   {
    "duration": 124,
    "start_time": "2022-05-07T06:53:29.272Z"
   },
   {
    "duration": 7,
    "start_time": "2022-05-07T06:53:29.398Z"
   },
   {
    "duration": 6,
    "start_time": "2022-05-07T06:53:29.407Z"
   },
   {
    "duration": 6,
    "start_time": "2022-05-07T06:53:29.414Z"
   },
   {
    "duration": 28,
    "start_time": "2022-05-07T06:53:29.422Z"
   },
   {
    "duration": 6,
    "start_time": "2022-05-07T06:53:29.452Z"
   },
   {
    "duration": 25,
    "start_time": "2022-05-07T06:53:29.460Z"
   },
   {
    "duration": 3,
    "start_time": "2022-05-07T06:53:58.983Z"
   },
   {
    "duration": 137,
    "start_time": "2022-05-07T06:53:58.988Z"
   },
   {
    "duration": 121,
    "start_time": "2022-05-07T06:53:59.127Z"
   },
   {
    "duration": 6,
    "start_time": "2022-05-07T06:53:59.250Z"
   },
   {
    "duration": 4,
    "start_time": "2022-05-07T06:53:59.258Z"
   },
   {
    "duration": 6,
    "start_time": "2022-05-07T06:53:59.263Z"
   },
   {
    "duration": 13,
    "start_time": "2022-05-07T06:53:59.270Z"
   },
   {
    "duration": 6,
    "start_time": "2022-05-07T06:53:59.285Z"
   },
   {
    "duration": 59,
    "start_time": "2022-05-07T06:53:59.292Z"
   },
   {
    "duration": 3,
    "start_time": "2022-05-07T06:54:45.952Z"
   },
   {
    "duration": 137,
    "start_time": "2022-05-07T06:54:45.956Z"
   },
   {
    "duration": 119,
    "start_time": "2022-05-07T06:54:46.095Z"
   },
   {
    "duration": 6,
    "start_time": "2022-05-07T06:54:46.215Z"
   },
   {
    "duration": 4,
    "start_time": "2022-05-07T06:54:46.223Z"
   },
   {
    "duration": 20,
    "start_time": "2022-05-07T06:54:46.228Z"
   },
   {
    "duration": 13,
    "start_time": "2022-05-07T06:54:46.250Z"
   },
   {
    "duration": 8,
    "start_time": "2022-05-07T06:54:46.265Z"
   },
   {
    "duration": 33,
    "start_time": "2022-05-07T06:54:46.274Z"
   },
   {
    "duration": 3,
    "start_time": "2022-05-07T06:55:18.326Z"
   },
   {
    "duration": 147,
    "start_time": "2022-05-07T06:55:18.331Z"
   },
   {
    "duration": 195,
    "start_time": "2022-05-07T06:55:18.480Z"
   },
   {
    "duration": 8,
    "start_time": "2022-05-07T06:55:18.677Z"
   },
   {
    "duration": 3,
    "start_time": "2022-05-07T06:55:18.688Z"
   },
   {
    "duration": 5,
    "start_time": "2022-05-07T06:55:18.693Z"
   },
   {
    "duration": 13,
    "start_time": "2022-05-07T06:55:18.700Z"
   },
   {
    "duration": 33,
    "start_time": "2022-05-07T06:55:18.714Z"
   },
   {
    "duration": 24,
    "start_time": "2022-05-07T06:55:18.749Z"
   },
   {
    "duration": 3,
    "start_time": "2022-05-07T07:05:30.402Z"
   },
   {
    "duration": 155,
    "start_time": "2022-05-07T07:05:30.407Z"
   },
   {
    "duration": 120,
    "start_time": "2022-05-07T07:05:30.565Z"
   },
   {
    "duration": 7,
    "start_time": "2022-05-07T07:05:30.687Z"
   },
   {
    "duration": 5,
    "start_time": "2022-05-07T07:05:30.696Z"
   },
   {
    "duration": 6,
    "start_time": "2022-05-07T07:05:30.703Z"
   },
   {
    "duration": 15,
    "start_time": "2022-05-07T07:05:30.711Z"
   },
   {
    "duration": 25,
    "start_time": "2022-05-07T07:05:30.728Z"
   },
   {
    "duration": 33,
    "start_time": "2022-05-07T07:05:30.755Z"
   },
   {
    "duration": 38,
    "start_time": "2022-05-07T07:05:30.790Z"
   },
   {
    "duration": 408,
    "start_time": "2022-05-07T16:11:16.798Z"
   },
   {
    "duration": 140,
    "start_time": "2022-05-07T16:11:17.208Z"
   },
   {
    "duration": 122,
    "start_time": "2022-05-07T16:11:17.349Z"
   },
   {
    "duration": 6,
    "start_time": "2022-05-07T16:11:17.473Z"
   },
   {
    "duration": 6,
    "start_time": "2022-05-07T16:11:17.482Z"
   },
   {
    "duration": 6,
    "start_time": "2022-05-07T16:11:17.489Z"
   },
   {
    "duration": 30,
    "start_time": "2022-05-07T16:11:17.497Z"
   },
   {
    "duration": 8,
    "start_time": "2022-05-07T16:11:17.529Z"
   },
   {
    "duration": 24,
    "start_time": "2022-05-07T16:11:17.539Z"
   },
   {
    "duration": 25,
    "start_time": "2022-05-07T16:11:17.564Z"
   },
   {
    "duration": 3,
    "start_time": "2022-05-07T16:12:19.318Z"
   },
   {
    "duration": 135,
    "start_time": "2022-05-07T16:12:19.323Z"
   },
   {
    "duration": 121,
    "start_time": "2022-05-07T16:12:19.459Z"
   },
   {
    "duration": 5,
    "start_time": "2022-05-07T16:12:19.583Z"
   },
   {
    "duration": 4,
    "start_time": "2022-05-07T16:12:19.590Z"
   },
   {
    "duration": 6,
    "start_time": "2022-05-07T16:12:19.596Z"
   },
   {
    "duration": 27,
    "start_time": "2022-05-07T16:12:19.603Z"
   },
   {
    "duration": 6,
    "start_time": "2022-05-07T16:12:19.631Z"
   },
   {
    "duration": 24,
    "start_time": "2022-05-07T16:12:19.639Z"
   },
   {
    "duration": 26,
    "start_time": "2022-05-07T16:12:19.666Z"
   },
   {
    "duration": 2,
    "start_time": "2022-05-07T16:13:00.273Z"
   },
   {
    "duration": 141,
    "start_time": "2022-05-07T16:13:00.277Z"
   },
   {
    "duration": 118,
    "start_time": "2022-05-07T16:13:00.420Z"
   },
   {
    "duration": 7,
    "start_time": "2022-05-07T16:13:00.540Z"
   },
   {
    "duration": 8,
    "start_time": "2022-05-07T16:13:00.550Z"
   },
   {
    "duration": 6,
    "start_time": "2022-05-07T16:13:00.559Z"
   },
   {
    "duration": 21,
    "start_time": "2022-05-07T16:13:00.567Z"
   },
   {
    "duration": 9,
    "start_time": "2022-05-07T16:13:00.590Z"
   },
   {
    "duration": 40,
    "start_time": "2022-05-07T16:13:00.600Z"
   },
   {
    "duration": 24,
    "start_time": "2022-05-07T16:13:00.642Z"
   },
   {
    "duration": 2,
    "start_time": "2022-05-07T16:13:46.657Z"
   },
   {
    "duration": 134,
    "start_time": "2022-05-07T16:13:46.661Z"
   },
   {
    "duration": 115,
    "start_time": "2022-05-07T16:13:46.797Z"
   },
   {
    "duration": 6,
    "start_time": "2022-05-07T16:13:46.914Z"
   },
   {
    "duration": 2,
    "start_time": "2022-05-07T16:13:46.924Z"
   },
   {
    "duration": 6,
    "start_time": "2022-05-07T16:13:46.928Z"
   },
   {
    "duration": 14,
    "start_time": "2022-05-07T16:13:46.935Z"
   },
   {
    "duration": 6,
    "start_time": "2022-05-07T16:13:46.950Z"
   },
   {
    "duration": 22,
    "start_time": "2022-05-07T16:13:46.958Z"
   },
   {
    "duration": 15,
    "start_time": "2022-05-07T16:13:46.981Z"
   },
   {
    "duration": 2,
    "start_time": "2022-05-07T16:14:54.975Z"
   },
   {
    "duration": 141,
    "start_time": "2022-05-07T16:14:54.979Z"
   },
   {
    "duration": 124,
    "start_time": "2022-05-07T16:14:55.124Z"
   },
   {
    "duration": 6,
    "start_time": "2022-05-07T16:14:55.249Z"
   },
   {
    "duration": 5,
    "start_time": "2022-05-07T16:14:55.257Z"
   },
   {
    "duration": 6,
    "start_time": "2022-05-07T16:14:55.263Z"
   },
   {
    "duration": 13,
    "start_time": "2022-05-07T16:14:55.271Z"
   },
   {
    "duration": 6,
    "start_time": "2022-05-07T16:14:55.285Z"
   },
   {
    "duration": 44,
    "start_time": "2022-05-07T16:14:55.292Z"
   },
   {
    "duration": 120,
    "start_time": "2022-05-07T16:14:55.337Z"
   },
   {
    "duration": 2,
    "start_time": "2022-05-07T16:15:16.048Z"
   },
   {
    "duration": 124,
    "start_time": "2022-05-07T16:15:16.052Z"
   },
   {
    "duration": 111,
    "start_time": "2022-05-07T16:15:16.178Z"
   },
   {
    "duration": 6,
    "start_time": "2022-05-07T16:15:16.291Z"
   },
   {
    "duration": 5,
    "start_time": "2022-05-07T16:15:16.298Z"
   },
   {
    "duration": 18,
    "start_time": "2022-05-07T16:15:16.305Z"
   },
   {
    "duration": 14,
    "start_time": "2022-05-07T16:15:16.325Z"
   },
   {
    "duration": 5,
    "start_time": "2022-05-07T16:15:16.340Z"
   },
   {
    "duration": 22,
    "start_time": "2022-05-07T16:15:16.348Z"
   },
   {
    "duration": 19,
    "start_time": "2022-05-07T16:15:16.371Z"
   },
   {
    "duration": 2,
    "start_time": "2022-05-07T18:12:15.698Z"
   },
   {
    "duration": 149,
    "start_time": "2022-05-07T18:12:15.702Z"
   },
   {
    "duration": 133,
    "start_time": "2022-05-07T18:12:15.853Z"
   },
   {
    "duration": 6,
    "start_time": "2022-05-07T18:12:15.988Z"
   },
   {
    "duration": 4,
    "start_time": "2022-05-07T18:12:15.997Z"
   },
   {
    "duration": 21,
    "start_time": "2022-05-07T18:12:16.003Z"
   },
   {
    "duration": 17,
    "start_time": "2022-05-07T18:12:16.026Z"
   },
   {
    "duration": 21,
    "start_time": "2022-05-07T18:12:16.045Z"
   },
   {
    "duration": 32,
    "start_time": "2022-05-07T18:12:16.068Z"
   },
   {
    "duration": 1903,
    "start_time": "2022-05-07T18:12:16.102Z"
   },
   {
    "duration": 2,
    "start_time": "2022-05-07T18:15:04.223Z"
   },
   {
    "duration": 139,
    "start_time": "2022-05-07T18:15:04.228Z"
   },
   {
    "duration": 125,
    "start_time": "2022-05-07T18:15:04.369Z"
   },
   {
    "duration": 6,
    "start_time": "2022-05-07T18:15:04.496Z"
   },
   {
    "duration": 18,
    "start_time": "2022-05-07T18:15:04.505Z"
   },
   {
    "duration": 7,
    "start_time": "2022-05-07T18:15:04.525Z"
   },
   {
    "duration": 17,
    "start_time": "2022-05-07T18:15:04.533Z"
   },
   {
    "duration": 7,
    "start_time": "2022-05-07T18:15:04.551Z"
   },
   {
    "duration": 25,
    "start_time": "2022-05-07T18:15:04.559Z"
   },
   {
    "duration": 1984,
    "start_time": "2022-05-07T18:15:04.586Z"
   },
   {
    "duration": 3,
    "start_time": "2022-05-07T18:15:37.379Z"
   },
   {
    "duration": 142,
    "start_time": "2022-05-07T18:15:37.384Z"
   },
   {
    "duration": 117,
    "start_time": "2022-05-07T18:15:37.528Z"
   },
   {
    "duration": 6,
    "start_time": "2022-05-07T18:15:37.647Z"
   },
   {
    "duration": 4,
    "start_time": "2022-05-07T18:15:37.655Z"
   },
   {
    "duration": 6,
    "start_time": "2022-05-07T18:15:37.661Z"
   },
   {
    "duration": 15,
    "start_time": "2022-05-07T18:15:37.668Z"
   },
   {
    "duration": 7,
    "start_time": "2022-05-07T18:15:37.684Z"
   },
   {
    "duration": 49,
    "start_time": "2022-05-07T18:15:37.692Z"
   },
   {
    "duration": 1794,
    "start_time": "2022-05-07T18:15:37.742Z"
   },
   {
    "duration": 3,
    "start_time": "2022-05-07T18:18:54.572Z"
   },
   {
    "duration": 129,
    "start_time": "2022-05-07T18:18:54.577Z"
   },
   {
    "duration": 108,
    "start_time": "2022-05-07T18:18:54.708Z"
   },
   {
    "duration": 6,
    "start_time": "2022-05-07T18:18:54.823Z"
   },
   {
    "duration": 5,
    "start_time": "2022-05-07T18:18:54.831Z"
   },
   {
    "duration": 6,
    "start_time": "2022-05-07T18:18:54.837Z"
   },
   {
    "duration": 13,
    "start_time": "2022-05-07T18:18:54.845Z"
   },
   {
    "duration": 5,
    "start_time": "2022-05-07T18:18:54.860Z"
   },
   {
    "duration": 24,
    "start_time": "2022-05-07T18:18:54.867Z"
   },
   {
    "duration": 1892,
    "start_time": "2022-05-07T18:18:54.893Z"
   },
   {
    "duration": 2,
    "start_time": "2022-05-07T18:19:14.633Z"
   },
   {
    "duration": 128,
    "start_time": "2022-05-07T18:19:14.637Z"
   },
   {
    "duration": 113,
    "start_time": "2022-05-07T18:19:14.766Z"
   },
   {
    "duration": 6,
    "start_time": "2022-05-07T18:19:14.881Z"
   },
   {
    "duration": 7,
    "start_time": "2022-05-07T18:19:14.889Z"
   },
   {
    "duration": 6,
    "start_time": "2022-05-07T18:19:14.898Z"
   },
   {
    "duration": 30,
    "start_time": "2022-05-07T18:19:14.905Z"
   },
   {
    "duration": 6,
    "start_time": "2022-05-07T18:19:14.936Z"
   },
   {
    "duration": 23,
    "start_time": "2022-05-07T18:19:14.945Z"
   },
   {
    "duration": 1799,
    "start_time": "2022-05-07T18:19:14.969Z"
   },
   {
    "duration": 2,
    "start_time": "2022-05-07T18:36:18.271Z"
   },
   {
    "duration": 155,
    "start_time": "2022-05-07T18:36:18.276Z"
   },
   {
    "duration": 117,
    "start_time": "2022-05-07T18:36:18.433Z"
   },
   {
    "duration": 7,
    "start_time": "2022-05-07T18:36:18.552Z"
   },
   {
    "duration": 5,
    "start_time": "2022-05-07T18:36:18.561Z"
   },
   {
    "duration": 6,
    "start_time": "2022-05-07T18:36:18.567Z"
   },
   {
    "duration": 15,
    "start_time": "2022-05-07T18:36:18.574Z"
   },
   {
    "duration": 6,
    "start_time": "2022-05-07T18:36:18.590Z"
   },
   {
    "duration": 53,
    "start_time": "2022-05-07T18:36:18.597Z"
   },
   {
    "duration": 25,
    "start_time": "2022-05-07T18:36:18.651Z"
   },
   {
    "duration": 3,
    "start_time": "2022-05-07T18:37:44.763Z"
   },
   {
    "duration": 144,
    "start_time": "2022-05-07T18:37:44.769Z"
   },
   {
    "duration": 125,
    "start_time": "2022-05-07T18:37:44.915Z"
   },
   {
    "duration": 6,
    "start_time": "2022-05-07T18:37:45.042Z"
   },
   {
    "duration": 9,
    "start_time": "2022-05-07T18:37:45.051Z"
   },
   {
    "duration": 10,
    "start_time": "2022-05-07T18:37:45.062Z"
   },
   {
    "duration": 15,
    "start_time": "2022-05-07T18:37:45.073Z"
   },
   {
    "duration": 5,
    "start_time": "2022-05-07T18:37:45.089Z"
   },
   {
    "duration": 50,
    "start_time": "2022-05-07T18:37:45.095Z"
   },
   {
    "duration": 26,
    "start_time": "2022-05-07T18:37:45.147Z"
   },
   {
    "duration": 3,
    "start_time": "2022-05-07T18:39:06.056Z"
   },
   {
    "duration": 177,
    "start_time": "2022-05-07T18:39:06.061Z"
   },
   {
    "duration": 178,
    "start_time": "2022-05-07T18:39:06.240Z"
   },
   {
    "duration": 8,
    "start_time": "2022-05-07T18:39:06.420Z"
   },
   {
    "duration": 5,
    "start_time": "2022-05-07T18:39:06.430Z"
   },
   {
    "duration": 7,
    "start_time": "2022-05-07T18:39:06.436Z"
   },
   {
    "duration": 20,
    "start_time": "2022-05-07T18:39:06.445Z"
   },
   {
    "duration": 7,
    "start_time": "2022-05-07T18:39:06.467Z"
   },
   {
    "duration": 58,
    "start_time": "2022-05-07T18:39:06.476Z"
   },
   {
    "duration": 133,
    "start_time": "2022-05-07T18:39:06.536Z"
   },
   {
    "duration": 2,
    "start_time": "2022-05-07T18:39:25.860Z"
   },
   {
    "duration": 135,
    "start_time": "2022-05-07T18:39:25.864Z"
   },
   {
    "duration": 112,
    "start_time": "2022-05-07T18:39:26.001Z"
   },
   {
    "duration": 6,
    "start_time": "2022-05-07T18:39:26.123Z"
   },
   {
    "duration": 4,
    "start_time": "2022-05-07T18:39:26.131Z"
   },
   {
    "duration": 8,
    "start_time": "2022-05-07T18:39:26.137Z"
   },
   {
    "duration": 14,
    "start_time": "2022-05-07T18:39:26.146Z"
   },
   {
    "duration": 8,
    "start_time": "2022-05-07T18:39:26.162Z"
   },
   {
    "duration": 53,
    "start_time": "2022-05-07T18:39:26.171Z"
   },
   {
    "duration": 124,
    "start_time": "2022-05-07T18:39:26.226Z"
   },
   {
    "duration": 2,
    "start_time": "2022-05-07T18:40:03.754Z"
   },
   {
    "duration": 139,
    "start_time": "2022-05-07T18:40:03.758Z"
   },
   {
    "duration": 130,
    "start_time": "2022-05-07T18:40:03.899Z"
   },
   {
    "duration": 6,
    "start_time": "2022-05-07T18:40:04.031Z"
   },
   {
    "duration": 6,
    "start_time": "2022-05-07T18:40:04.039Z"
   },
   {
    "duration": 7,
    "start_time": "2022-05-07T18:40:04.046Z"
   },
   {
    "duration": 15,
    "start_time": "2022-05-07T18:40:04.055Z"
   },
   {
    "duration": 6,
    "start_time": "2022-05-07T18:40:04.072Z"
   },
   {
    "duration": 55,
    "start_time": "2022-05-07T18:40:04.080Z"
   },
   {
    "duration": 28,
    "start_time": "2022-05-07T18:40:04.137Z"
   },
   {
    "duration": 2,
    "start_time": "2022-05-07T18:40:24.757Z"
   },
   {
    "duration": 134,
    "start_time": "2022-05-07T18:40:24.761Z"
   },
   {
    "duration": 118,
    "start_time": "2022-05-07T18:40:24.896Z"
   },
   {
    "duration": 9,
    "start_time": "2022-05-07T18:40:25.016Z"
   },
   {
    "duration": 6,
    "start_time": "2022-05-07T18:40:25.027Z"
   },
   {
    "duration": 9,
    "start_time": "2022-05-07T18:40:25.034Z"
   },
   {
    "duration": 16,
    "start_time": "2022-05-07T18:40:25.045Z"
   },
   {
    "duration": 6,
    "start_time": "2022-05-07T18:40:25.063Z"
   },
   {
    "duration": 30,
    "start_time": "2022-05-07T18:40:25.071Z"
   },
   {
    "duration": 52,
    "start_time": "2022-05-07T18:40:25.102Z"
   },
   {
    "duration": 3,
    "start_time": "2022-05-07T18:41:15.079Z"
   },
   {
    "duration": 151,
    "start_time": "2022-05-07T18:41:15.084Z"
   },
   {
    "duration": 118,
    "start_time": "2022-05-07T18:41:15.236Z"
   },
   {
    "duration": 7,
    "start_time": "2022-05-07T18:41:15.355Z"
   },
   {
    "duration": 10,
    "start_time": "2022-05-07T18:41:15.364Z"
   },
   {
    "duration": 8,
    "start_time": "2022-05-07T18:41:15.375Z"
   },
   {
    "duration": 27,
    "start_time": "2022-05-07T18:41:15.384Z"
   },
   {
    "duration": 4,
    "start_time": "2022-05-07T18:41:15.424Z"
   },
   {
    "duration": 25,
    "start_time": "2022-05-07T18:41:15.430Z"
   },
   {
    "duration": 118,
    "start_time": "2022-05-07T18:41:15.457Z"
   },
   {
    "duration": 3,
    "start_time": "2022-05-07T18:41:46.117Z"
   },
   {
    "duration": 132,
    "start_time": "2022-05-07T18:41:46.252Z"
   },
   {
    "duration": 117,
    "start_time": "2022-05-07T18:41:46.386Z"
   },
   {
    "duration": 5,
    "start_time": "2022-05-07T18:41:46.505Z"
   },
   {
    "duration": 3,
    "start_time": "2022-05-07T18:41:46.523Z"
   },
   {
    "duration": 7,
    "start_time": "2022-05-07T18:41:46.528Z"
   },
   {
    "duration": 13,
    "start_time": "2022-05-07T18:41:46.537Z"
   },
   {
    "duration": 9,
    "start_time": "2022-05-07T18:41:46.552Z"
   },
   {
    "duration": 23,
    "start_time": "2022-05-07T18:41:46.563Z"
   },
   {
    "duration": 50,
    "start_time": "2022-05-07T18:41:46.589Z"
   },
   {
    "duration": 3,
    "start_time": "2022-05-07T18:43:54.478Z"
   },
   {
    "duration": 131,
    "start_time": "2022-05-07T18:43:54.483Z"
   },
   {
    "duration": 116,
    "start_time": "2022-05-07T18:43:54.616Z"
   },
   {
    "duration": 6,
    "start_time": "2022-05-07T18:43:54.735Z"
   },
   {
    "duration": 6,
    "start_time": "2022-05-07T18:43:54.742Z"
   },
   {
    "duration": 6,
    "start_time": "2022-05-07T18:43:54.750Z"
   },
   {
    "duration": 14,
    "start_time": "2022-05-07T18:43:54.757Z"
   },
   {
    "duration": 7,
    "start_time": "2022-05-07T18:43:54.773Z"
   },
   {
    "duration": 51,
    "start_time": "2022-05-07T18:43:54.782Z"
   },
   {
    "duration": 24,
    "start_time": "2022-05-07T18:43:54.836Z"
   },
   {
    "duration": 21,
    "start_time": "2022-05-07T18:43:54.862Z"
   },
   {
    "duration": 2,
    "start_time": "2022-05-07T18:48:32.394Z"
   },
   {
    "duration": 130,
    "start_time": "2022-05-07T18:48:32.398Z"
   },
   {
    "duration": 111,
    "start_time": "2022-05-07T18:48:32.530Z"
   },
   {
    "duration": 7,
    "start_time": "2022-05-07T18:48:32.642Z"
   },
   {
    "duration": 6,
    "start_time": "2022-05-07T18:48:32.651Z"
   },
   {
    "duration": 6,
    "start_time": "2022-05-07T18:48:32.658Z"
   },
   {
    "duration": 16,
    "start_time": "2022-05-07T18:48:32.665Z"
   },
   {
    "duration": 6,
    "start_time": "2022-05-07T18:48:32.683Z"
   },
   {
    "duration": 44,
    "start_time": "2022-05-07T18:48:32.690Z"
   },
   {
    "duration": 22,
    "start_time": "2022-05-07T18:48:32.736Z"
   },
   {
    "duration": 22,
    "start_time": "2022-05-07T18:48:32.760Z"
   },
   {
    "duration": 123,
    "start_time": "2022-05-07T18:48:32.784Z"
   },
   {
    "duration": 429,
    "start_time": "2022-05-08T03:21:09.102Z"
   },
   {
    "duration": 171,
    "start_time": "2022-05-08T03:21:09.533Z"
   },
   {
    "duration": 145,
    "start_time": "2022-05-08T03:21:09.706Z"
   },
   {
    "duration": 7,
    "start_time": "2022-05-08T03:21:09.853Z"
   },
   {
    "duration": 4,
    "start_time": "2022-05-08T03:21:09.862Z"
   },
   {
    "duration": 7,
    "start_time": "2022-05-08T03:21:09.867Z"
   },
   {
    "duration": 15,
    "start_time": "2022-05-08T03:21:09.875Z"
   },
   {
    "duration": 33,
    "start_time": "2022-05-08T03:21:09.891Z"
   },
   {
    "duration": 27,
    "start_time": "2022-05-08T03:21:09.925Z"
   },
   {
    "duration": 27,
    "start_time": "2022-05-08T03:21:09.953Z"
   },
   {
    "duration": 45,
    "start_time": "2022-05-08T03:21:09.982Z"
   },
   {
    "duration": 69,
    "start_time": "2022-05-08T03:21:10.029Z"
   },
   {
    "duration": 88,
    "start_time": "2022-05-08T03:21:10.100Z"
   },
   {
    "duration": 2,
    "start_time": "2022-05-08T03:21:23.139Z"
   },
   {
    "duration": 162,
    "start_time": "2022-05-08T03:21:23.143Z"
   },
   {
    "duration": 128,
    "start_time": "2022-05-08T03:21:23.307Z"
   },
   {
    "duration": 6,
    "start_time": "2022-05-08T03:21:23.437Z"
   },
   {
    "duration": 19,
    "start_time": "2022-05-08T03:21:23.445Z"
   },
   {
    "duration": 11,
    "start_time": "2022-05-08T03:21:23.465Z"
   },
   {
    "duration": 19,
    "start_time": "2022-05-08T03:21:23.478Z"
   },
   {
    "duration": 7,
    "start_time": "2022-05-08T03:21:23.499Z"
   },
   {
    "duration": 37,
    "start_time": "2022-05-08T03:21:23.507Z"
   },
   {
    "duration": 44,
    "start_time": "2022-05-08T03:21:23.545Z"
   },
   {
    "duration": 25,
    "start_time": "2022-05-08T03:21:23.591Z"
   },
   {
    "duration": 77,
    "start_time": "2022-05-08T03:21:23.618Z"
   },
   {
    "duration": 77,
    "start_time": "2022-05-08T03:21:23.696Z"
   },
   {
    "duration": 3,
    "start_time": "2022-05-08T03:23:02.720Z"
   },
   {
    "duration": 153,
    "start_time": "2022-05-08T03:23:02.725Z"
   },
   {
    "duration": 127,
    "start_time": "2022-05-08T03:23:02.879Z"
   },
   {
    "duration": 6,
    "start_time": "2022-05-08T03:23:03.008Z"
   },
   {
    "duration": 8,
    "start_time": "2022-05-08T03:23:03.016Z"
   },
   {
    "duration": 7,
    "start_time": "2022-05-08T03:23:03.026Z"
   },
   {
    "duration": 16,
    "start_time": "2022-05-08T03:23:03.034Z"
   },
   {
    "duration": 6,
    "start_time": "2022-05-08T03:23:03.051Z"
   },
   {
    "duration": 28,
    "start_time": "2022-05-08T03:23:03.059Z"
   },
   {
    "duration": 50,
    "start_time": "2022-05-08T03:23:03.089Z"
   },
   {
    "duration": 26,
    "start_time": "2022-05-08T03:23:03.140Z"
   },
   {
    "duration": 81,
    "start_time": "2022-05-08T03:23:03.168Z"
   },
   {
    "duration": 79,
    "start_time": "2022-05-08T03:23:03.252Z"
   },
   {
    "duration": 3,
    "start_time": "2022-05-08T03:23:24.816Z"
   },
   {
    "duration": 154,
    "start_time": "2022-05-08T03:23:24.821Z"
   },
   {
    "duration": 123,
    "start_time": "2022-05-08T03:23:24.977Z"
   },
   {
    "duration": 6,
    "start_time": "2022-05-08T03:23:25.101Z"
   },
   {
    "duration": 3,
    "start_time": "2022-05-08T03:23:25.109Z"
   },
   {
    "duration": 4,
    "start_time": "2022-05-08T03:23:25.123Z"
   },
   {
    "duration": 14,
    "start_time": "2022-05-08T03:23:25.128Z"
   },
   {
    "duration": 7,
    "start_time": "2022-05-08T03:23:25.143Z"
   },
   {
    "duration": 27,
    "start_time": "2022-05-08T03:23:25.151Z"
   },
   {
    "duration": 56,
    "start_time": "2022-05-08T03:23:25.179Z"
   },
   {
    "duration": 24,
    "start_time": "2022-05-08T03:23:25.236Z"
   },
   {
    "duration": 70,
    "start_time": "2022-05-08T03:23:25.261Z"
   },
   {
    "duration": 64,
    "start_time": "2022-05-08T03:23:25.333Z"
   },
   {
    "duration": 3,
    "start_time": "2022-05-08T03:31:40.297Z"
   },
   {
    "duration": 149,
    "start_time": "2022-05-08T03:31:40.301Z"
   },
   {
    "duration": 124,
    "start_time": "2022-05-08T03:31:40.452Z"
   },
   {
    "duration": 6,
    "start_time": "2022-05-08T03:31:40.578Z"
   },
   {
    "duration": 4,
    "start_time": "2022-05-08T03:31:40.586Z"
   },
   {
    "duration": 5,
    "start_time": "2022-05-08T03:31:40.592Z"
   },
   {
    "duration": 31,
    "start_time": "2022-05-08T03:31:40.598Z"
   },
   {
    "duration": 5,
    "start_time": "2022-05-08T03:31:40.631Z"
   },
   {
    "duration": 27,
    "start_time": "2022-05-08T03:31:40.638Z"
   },
   {
    "duration": 25,
    "start_time": "2022-05-08T03:31:40.667Z"
   },
   {
    "duration": 25,
    "start_time": "2022-05-08T03:31:40.722Z"
   },
   {
    "duration": 80,
    "start_time": "2022-05-08T03:31:40.748Z"
   },
   {
    "duration": 74,
    "start_time": "2022-05-08T03:31:40.829Z"
   },
   {
    "duration": 65,
    "start_time": "2022-05-08T03:31:40.904Z"
   },
   {
    "duration": 3,
    "start_time": "2022-05-08T03:54:26.950Z"
   },
   {
    "duration": 155,
    "start_time": "2022-05-08T03:54:26.954Z"
   },
   {
    "duration": 120,
    "start_time": "2022-05-08T03:54:27.110Z"
   },
   {
    "duration": 5,
    "start_time": "2022-05-08T03:54:27.232Z"
   },
   {
    "duration": 3,
    "start_time": "2022-05-08T03:54:27.240Z"
   },
   {
    "duration": 6,
    "start_time": "2022-05-08T03:54:27.245Z"
   },
   {
    "duration": 14,
    "start_time": "2022-05-08T03:54:27.252Z"
   },
   {
    "duration": 6,
    "start_time": "2022-05-08T03:54:27.268Z"
   },
   {
    "duration": 51,
    "start_time": "2022-05-08T03:54:27.276Z"
   },
   {
    "duration": 23,
    "start_time": "2022-05-08T03:54:27.329Z"
   },
   {
    "duration": 25,
    "start_time": "2022-05-08T03:54:27.353Z"
   },
   {
    "duration": 84,
    "start_time": "2022-05-08T03:54:27.380Z"
   },
   {
    "duration": 78,
    "start_time": "2022-05-08T03:54:27.465Z"
   },
   {
    "duration": 51,
    "start_time": "2022-05-08T03:54:27.546Z"
   },
   {
    "duration": 59,
    "start_time": "2022-05-08T03:54:27.598Z"
   },
   {
    "duration": 2,
    "start_time": "2022-05-08T03:55:37.269Z"
   },
   {
    "duration": 151,
    "start_time": "2022-05-08T03:55:37.273Z"
   },
   {
    "duration": 129,
    "start_time": "2022-05-08T03:55:37.426Z"
   },
   {
    "duration": 6,
    "start_time": "2022-05-08T03:55:37.556Z"
   },
   {
    "duration": 4,
    "start_time": "2022-05-08T03:55:37.565Z"
   },
   {
    "duration": 5,
    "start_time": "2022-05-08T03:55:37.571Z"
   },
   {
    "duration": 15,
    "start_time": "2022-05-08T03:55:37.578Z"
   },
   {
    "duration": 28,
    "start_time": "2022-05-08T03:55:37.595Z"
   },
   {
    "duration": 25,
    "start_time": "2022-05-08T03:55:37.625Z"
   },
   {
    "duration": 26,
    "start_time": "2022-05-08T03:55:37.651Z"
   },
   {
    "duration": 49,
    "start_time": "2022-05-08T03:55:37.678Z"
   },
   {
    "duration": 62,
    "start_time": "2022-05-08T03:55:37.729Z"
   },
   {
    "duration": 84,
    "start_time": "2022-05-08T03:55:37.793Z"
   },
   {
    "duration": 66,
    "start_time": "2022-05-08T03:55:37.879Z"
   },
   {
    "duration": 49,
    "start_time": "2022-05-08T03:55:37.946Z"
   },
   {
    "duration": 3,
    "start_time": "2022-05-08T03:56:44.277Z"
   },
   {
    "duration": 156,
    "start_time": "2022-05-08T03:56:44.282Z"
   },
   {
    "duration": 136,
    "start_time": "2022-05-08T03:56:44.440Z"
   },
   {
    "duration": 6,
    "start_time": "2022-05-08T03:56:44.578Z"
   },
   {
    "duration": 4,
    "start_time": "2022-05-08T03:56:44.586Z"
   },
   {
    "duration": 7,
    "start_time": "2022-05-08T03:56:44.591Z"
   },
   {
    "duration": 32,
    "start_time": "2022-05-08T03:56:44.599Z"
   },
   {
    "duration": 5,
    "start_time": "2022-05-08T03:56:44.633Z"
   },
   {
    "duration": 26,
    "start_time": "2022-05-08T03:56:44.640Z"
   },
   {
    "duration": 27,
    "start_time": "2022-05-08T03:56:44.668Z"
   },
   {
    "duration": 45,
    "start_time": "2022-05-08T03:56:44.698Z"
   },
   {
    "duration": 71,
    "start_time": "2022-05-08T03:56:44.745Z"
   },
   {
    "duration": 67,
    "start_time": "2022-05-08T03:56:44.823Z"
   },
   {
    "duration": 68,
    "start_time": "2022-05-08T03:56:44.892Z"
   },
   {
    "duration": 61,
    "start_time": "2022-05-08T03:56:44.962Z"
   },
   {
    "duration": 3,
    "start_time": "2022-05-08T03:57:28.914Z"
   },
   {
    "duration": 151,
    "start_time": "2022-05-08T03:57:28.919Z"
   },
   {
    "duration": 136,
    "start_time": "2022-05-08T03:57:29.072Z"
   },
   {
    "duration": 14,
    "start_time": "2022-05-08T03:57:29.210Z"
   },
   {
    "duration": 3,
    "start_time": "2022-05-08T03:57:29.226Z"
   },
   {
    "duration": 7,
    "start_time": "2022-05-08T03:57:29.230Z"
   },
   {
    "duration": 14,
    "start_time": "2022-05-08T03:57:29.238Z"
   },
   {
    "duration": 5,
    "start_time": "2022-05-08T03:57:29.254Z"
   },
   {
    "duration": 29,
    "start_time": "2022-05-08T03:57:29.260Z"
   },
   {
    "duration": 26,
    "start_time": "2022-05-08T03:57:29.323Z"
   },
   {
    "duration": 27,
    "start_time": "2022-05-08T03:57:29.351Z"
   },
   {
    "duration": 107,
    "start_time": "2022-05-08T03:57:29.380Z"
   },
   {
    "duration": 82,
    "start_time": "2022-05-08T03:57:29.488Z"
   },
   {
    "duration": 59,
    "start_time": "2022-05-08T03:57:29.572Z"
   },
   {
    "duration": 53,
    "start_time": "2022-05-08T03:57:29.632Z"
   },
   {
    "duration": 3,
    "start_time": "2022-05-08T03:58:24.895Z"
   },
   {
    "duration": 152,
    "start_time": "2022-05-08T03:58:24.900Z"
   },
   {
    "duration": 130,
    "start_time": "2022-05-08T03:58:25.054Z"
   },
   {
    "duration": 7,
    "start_time": "2022-05-08T03:58:25.186Z"
   },
   {
    "duration": 3,
    "start_time": "2022-05-08T03:58:25.196Z"
   },
   {
    "duration": 24,
    "start_time": "2022-05-08T03:58:25.200Z"
   },
   {
    "duration": 16,
    "start_time": "2022-05-08T03:58:25.226Z"
   },
   {
    "duration": 5,
    "start_time": "2022-05-08T03:58:25.244Z"
   },
   {
    "duration": 27,
    "start_time": "2022-05-08T03:58:25.251Z"
   },
   {
    "duration": 52,
    "start_time": "2022-05-08T03:58:25.280Z"
   },
   {
    "duration": 24,
    "start_time": "2022-05-08T03:58:25.335Z"
   },
   {
    "duration": 82,
    "start_time": "2022-05-08T03:58:25.361Z"
   },
   {
    "duration": 84,
    "start_time": "2022-05-08T03:58:25.445Z"
   },
   {
    "duration": 55,
    "start_time": "2022-05-08T03:58:25.532Z"
   },
   {
    "duration": 7,
    "start_time": "2022-05-08T03:58:25.589Z"
   },
   {
    "duration": 2,
    "start_time": "2022-05-08T03:58:53.631Z"
   },
   {
    "duration": 159,
    "start_time": "2022-05-08T03:58:53.636Z"
   },
   {
    "duration": 130,
    "start_time": "2022-05-08T03:58:53.797Z"
   },
   {
    "duration": 7,
    "start_time": "2022-05-08T03:58:53.929Z"
   },
   {
    "duration": 3,
    "start_time": "2022-05-08T03:58:53.939Z"
   },
   {
    "duration": 8,
    "start_time": "2022-05-08T03:58:53.944Z"
   },
   {
    "duration": 14,
    "start_time": "2022-05-08T03:58:53.954Z"
   },
   {
    "duration": 5,
    "start_time": "2022-05-08T03:58:53.970Z"
   },
   {
    "duration": 62,
    "start_time": "2022-05-08T03:58:53.977Z"
   },
   {
    "duration": 24,
    "start_time": "2022-05-08T03:58:54.041Z"
   },
   {
    "duration": 26,
    "start_time": "2022-05-08T03:58:54.067Z"
   },
   {
    "duration": 89,
    "start_time": "2022-05-08T03:58:54.095Z"
   },
   {
    "duration": 98,
    "start_time": "2022-05-08T03:58:54.186Z"
   },
   {
    "duration": 65,
    "start_time": "2022-05-08T03:58:54.288Z"
   },
   {
    "duration": 51,
    "start_time": "2022-05-08T03:58:54.355Z"
   },
   {
    "duration": 3,
    "start_time": "2022-05-08T03:59:29.373Z"
   },
   {
    "duration": 158,
    "start_time": "2022-05-08T03:59:29.378Z"
   },
   {
    "duration": 142,
    "start_time": "2022-05-08T03:59:29.537Z"
   },
   {
    "duration": 7,
    "start_time": "2022-05-08T03:59:29.681Z"
   },
   {
    "duration": 4,
    "start_time": "2022-05-08T03:59:29.691Z"
   },
   {
    "duration": 26,
    "start_time": "2022-05-08T03:59:29.697Z"
   },
   {
    "duration": 14,
    "start_time": "2022-05-08T03:59:29.725Z"
   },
   {
    "duration": 5,
    "start_time": "2022-05-08T03:59:29.742Z"
   },
   {
    "duration": 28,
    "start_time": "2022-05-08T03:59:29.749Z"
   },
   {
    "duration": 56,
    "start_time": "2022-05-08T03:59:29.779Z"
   },
   {
    "duration": 27,
    "start_time": "2022-05-08T03:59:29.836Z"
   },
   {
    "duration": 82,
    "start_time": "2022-05-08T03:59:29.865Z"
   },
   {
    "duration": 89,
    "start_time": "2022-05-08T03:59:29.949Z"
   },
   {
    "duration": 53,
    "start_time": "2022-05-08T03:59:30.040Z"
   },
   {
    "duration": 63,
    "start_time": "2022-05-08T03:59:30.095Z"
   },
   {
    "duration": 2,
    "start_time": "2022-05-08T04:00:33.109Z"
   },
   {
    "duration": 147,
    "start_time": "2022-05-08T04:00:33.113Z"
   },
   {
    "duration": 133,
    "start_time": "2022-05-08T04:00:33.262Z"
   },
   {
    "duration": 6,
    "start_time": "2022-05-08T04:00:33.397Z"
   },
   {
    "duration": 18,
    "start_time": "2022-05-08T04:00:33.405Z"
   },
   {
    "duration": 4,
    "start_time": "2022-05-08T04:00:33.424Z"
   },
   {
    "duration": 13,
    "start_time": "2022-05-08T04:00:33.430Z"
   },
   {
    "duration": 9,
    "start_time": "2022-05-08T04:00:33.445Z"
   },
   {
    "duration": 24,
    "start_time": "2022-05-08T04:00:33.456Z"
   },
   {
    "duration": 43,
    "start_time": "2022-05-08T04:00:33.483Z"
   },
   {
    "duration": 25,
    "start_time": "2022-05-08T04:00:33.528Z"
   },
   {
    "duration": 75,
    "start_time": "2022-05-08T04:00:33.554Z"
   },
   {
    "duration": 68,
    "start_time": "2022-05-08T04:00:33.631Z"
   },
   {
    "duration": 71,
    "start_time": "2022-05-08T04:00:33.701Z"
   },
   {
    "duration": 7,
    "start_time": "2022-05-08T04:00:33.773Z"
   },
   {
    "duration": 2,
    "start_time": "2022-05-08T04:03:25.257Z"
   },
   {
    "duration": 147,
    "start_time": "2022-05-08T04:03:25.261Z"
   },
   {
    "duration": 121,
    "start_time": "2022-05-08T04:03:25.410Z"
   },
   {
    "duration": 5,
    "start_time": "2022-05-08T04:03:25.533Z"
   },
   {
    "duration": 4,
    "start_time": "2022-05-08T04:03:25.541Z"
   },
   {
    "duration": 7,
    "start_time": "2022-05-08T04:03:25.546Z"
   },
   {
    "duration": 14,
    "start_time": "2022-05-08T04:03:25.555Z"
   },
   {
    "duration": 5,
    "start_time": "2022-05-08T04:03:25.571Z"
   },
   {
    "duration": 54,
    "start_time": "2022-05-08T04:03:25.578Z"
   },
   {
    "duration": 59,
    "start_time": "2022-05-08T04:03:25.634Z"
   },
   {
    "duration": 41,
    "start_time": "2022-05-08T04:03:25.695Z"
   },
   {
    "duration": 58,
    "start_time": "2022-05-08T04:03:25.738Z"
   },
   {
    "duration": 85,
    "start_time": "2022-05-08T04:03:25.798Z"
   },
   {
    "duration": 62,
    "start_time": "2022-05-08T04:03:25.886Z"
   },
   {
    "duration": 74,
    "start_time": "2022-05-08T04:03:25.950Z"
   },
   {
    "duration": 2,
    "start_time": "2022-05-08T04:22:55.090Z"
   },
   {
    "duration": 157,
    "start_time": "2022-05-08T04:22:55.094Z"
   },
   {
    "duration": 130,
    "start_time": "2022-05-08T04:22:55.253Z"
   },
   {
    "duration": 7,
    "start_time": "2022-05-08T04:22:55.385Z"
   },
   {
    "duration": 26,
    "start_time": "2022-05-08T04:22:55.394Z"
   },
   {
    "duration": 28,
    "start_time": "2022-05-08T04:22:55.421Z"
   },
   {
    "duration": 21,
    "start_time": "2022-05-08T04:22:55.450Z"
   },
   {
    "duration": 26,
    "start_time": "2022-05-08T04:22:55.473Z"
   },
   {
    "duration": 40,
    "start_time": "2022-05-08T04:22:55.501Z"
   },
   {
    "duration": 39,
    "start_time": "2022-05-08T04:22:55.542Z"
   },
   {
    "duration": 26,
    "start_time": "2022-05-08T04:22:55.583Z"
   },
   {
    "duration": 66,
    "start_time": "2022-05-08T04:22:55.610Z"
   },
   {
    "duration": 76,
    "start_time": "2022-05-08T04:22:55.678Z"
   },
   {
    "duration": 57,
    "start_time": "2022-05-08T04:22:55.756Z"
   },
   {
    "duration": 8,
    "start_time": "2022-05-08T04:22:55.823Z"
   },
   {
    "duration": 3,
    "start_time": "2022-05-08T04:23:11.103Z"
   },
   {
    "duration": 171,
    "start_time": "2022-05-08T04:23:11.107Z"
   },
   {
    "duration": 158,
    "start_time": "2022-05-08T04:23:11.280Z"
   },
   {
    "duration": 8,
    "start_time": "2022-05-08T04:23:11.440Z"
   },
   {
    "duration": 4,
    "start_time": "2022-05-08T04:23:11.452Z"
   },
   {
    "duration": 8,
    "start_time": "2022-05-08T04:23:11.458Z"
   },
   {
    "duration": 18,
    "start_time": "2022-05-08T04:23:11.469Z"
   },
   {
    "duration": 35,
    "start_time": "2022-05-08T04:23:11.489Z"
   },
   {
    "duration": 29,
    "start_time": "2022-05-08T04:23:11.527Z"
   },
   {
    "duration": 29,
    "start_time": "2022-05-08T04:23:11.558Z"
   },
   {
    "duration": 28,
    "start_time": "2022-05-08T04:23:11.622Z"
   },
   {
    "duration": 80,
    "start_time": "2022-05-08T04:23:11.652Z"
   },
   {
    "duration": 73,
    "start_time": "2022-05-08T04:23:11.734Z"
   },
   {
    "duration": 69,
    "start_time": "2022-05-08T04:23:11.809Z"
   },
   {
    "duration": 9,
    "start_time": "2022-05-08T04:23:11.879Z"
   },
   {
    "duration": 3,
    "start_time": "2022-05-08T04:23:30.826Z"
   },
   {
    "duration": 170,
    "start_time": "2022-05-08T04:23:30.831Z"
   },
   {
    "duration": 131,
    "start_time": "2022-05-08T04:23:31.003Z"
   },
   {
    "duration": 6,
    "start_time": "2022-05-08T04:23:31.136Z"
   },
   {
    "duration": 17,
    "start_time": "2022-05-08T04:23:31.145Z"
   },
   {
    "duration": 18,
    "start_time": "2022-05-08T04:23:31.164Z"
   },
   {
    "duration": 21,
    "start_time": "2022-05-08T04:23:31.183Z"
   },
   {
    "duration": 18,
    "start_time": "2022-05-08T04:23:31.206Z"
   },
   {
    "duration": 30,
    "start_time": "2022-05-08T04:23:31.226Z"
   },
   {
    "duration": 46,
    "start_time": "2022-05-08T04:23:31.258Z"
   },
   {
    "duration": 30,
    "start_time": "2022-05-08T04:23:31.305Z"
   },
   {
    "duration": 95,
    "start_time": "2022-05-08T04:23:31.337Z"
   },
   {
    "duration": 64,
    "start_time": "2022-05-08T04:23:31.434Z"
   },
   {
    "duration": 59,
    "start_time": "2022-05-08T04:23:31.501Z"
   },
   {
    "duration": 8,
    "start_time": "2022-05-08T04:23:31.562Z"
   },
   {
    "duration": 3,
    "start_time": "2022-05-08T04:27:43.349Z"
   },
   {
    "duration": 166,
    "start_time": "2022-05-08T04:27:43.354Z"
   },
   {
    "duration": 125,
    "start_time": "2022-05-08T04:27:43.522Z"
   },
   {
    "duration": 6,
    "start_time": "2022-05-08T04:27:43.649Z"
   },
   {
    "duration": 12,
    "start_time": "2022-05-08T04:27:43.658Z"
   },
   {
    "duration": 19,
    "start_time": "2022-05-08T04:27:43.672Z"
   },
   {
    "duration": 29,
    "start_time": "2022-05-08T04:27:43.693Z"
   },
   {
    "duration": 16,
    "start_time": "2022-05-08T04:27:43.724Z"
   },
   {
    "duration": 39,
    "start_time": "2022-05-08T04:27:43.742Z"
   },
   {
    "duration": 34,
    "start_time": "2022-05-08T04:27:43.782Z"
   },
   {
    "duration": 26,
    "start_time": "2022-05-08T04:27:43.817Z"
   },
   {
    "duration": 75,
    "start_time": "2022-05-08T04:27:43.844Z"
   },
   {
    "duration": 71,
    "start_time": "2022-05-08T04:27:43.920Z"
   },
   {
    "duration": 68,
    "start_time": "2022-05-08T04:27:43.994Z"
   },
   {
    "duration": 8,
    "start_time": "2022-05-08T04:27:44.064Z"
   },
   {
    "duration": 2,
    "start_time": "2022-05-08T04:29:51.779Z"
   },
   {
    "duration": 149,
    "start_time": "2022-05-08T04:29:51.784Z"
   },
   {
    "duration": 128,
    "start_time": "2022-05-08T04:29:51.935Z"
   },
   {
    "duration": 8,
    "start_time": "2022-05-08T04:29:52.065Z"
   },
   {
    "duration": 5,
    "start_time": "2022-05-08T04:29:52.076Z"
   },
   {
    "duration": 6,
    "start_time": "2022-05-08T04:29:52.083Z"
   },
   {
    "duration": 36,
    "start_time": "2022-05-08T04:29:52.090Z"
   },
   {
    "duration": 8,
    "start_time": "2022-05-08T04:29:52.128Z"
   },
   {
    "duration": 30,
    "start_time": "2022-05-08T04:29:52.137Z"
   },
   {
    "duration": 23,
    "start_time": "2022-05-08T04:29:52.169Z"
   },
   {
    "duration": 40,
    "start_time": "2022-05-08T04:29:52.194Z"
   },
   {
    "duration": 56,
    "start_time": "2022-05-08T04:29:52.235Z"
   },
   {
    "duration": 86,
    "start_time": "2022-05-08T04:29:52.293Z"
   },
   {
    "duration": 65,
    "start_time": "2022-05-08T04:29:52.381Z"
   },
   {
    "duration": 48,
    "start_time": "2022-05-08T04:29:52.447Z"
   },
   {
    "duration": 3,
    "start_time": "2022-05-08T04:30:15.845Z"
   },
   {
    "duration": 160,
    "start_time": "2022-05-08T04:30:15.850Z"
   },
   {
    "duration": 132,
    "start_time": "2022-05-08T04:30:16.012Z"
   },
   {
    "duration": 7,
    "start_time": "2022-05-08T04:30:16.146Z"
   },
   {
    "duration": 3,
    "start_time": "2022-05-08T04:30:16.156Z"
   },
   {
    "duration": 6,
    "start_time": "2022-05-08T04:30:16.161Z"
   },
   {
    "duration": 16,
    "start_time": "2022-05-08T04:30:16.169Z"
   },
   {
    "duration": 5,
    "start_time": "2022-05-08T04:30:16.187Z"
   },
   {
    "duration": 26,
    "start_time": "2022-05-08T04:30:16.223Z"
   },
   {
    "duration": 24,
    "start_time": "2022-05-08T04:30:16.251Z"
   },
   {
    "duration": 55,
    "start_time": "2022-05-08T04:30:16.277Z"
   },
   {
    "duration": 63,
    "start_time": "2022-05-08T04:30:16.334Z"
   },
   {
    "duration": 85,
    "start_time": "2022-05-08T04:30:16.398Z"
   },
   {
    "duration": 65,
    "start_time": "2022-05-08T04:30:16.485Z"
   },
   {
    "duration": 8,
    "start_time": "2022-05-08T04:30:16.552Z"
   },
   {
    "duration": 3,
    "start_time": "2022-05-08T04:31:27.938Z"
   },
   {
    "duration": 165,
    "start_time": "2022-05-08T04:31:27.943Z"
   },
   {
    "duration": 132,
    "start_time": "2022-05-08T04:31:28.110Z"
   },
   {
    "duration": 7,
    "start_time": "2022-05-08T04:31:28.243Z"
   },
   {
    "duration": 5,
    "start_time": "2022-05-08T04:31:28.252Z"
   },
   {
    "duration": 9,
    "start_time": "2022-05-08T04:31:28.258Z"
   },
   {
    "duration": 16,
    "start_time": "2022-05-08T04:31:28.268Z"
   },
   {
    "duration": 4,
    "start_time": "2022-05-08T04:31:28.286Z"
   },
   {
    "duration": 53,
    "start_time": "2022-05-08T04:31:28.292Z"
   },
   {
    "duration": 29,
    "start_time": "2022-05-08T04:31:28.346Z"
   },
   {
    "duration": 26,
    "start_time": "2022-05-08T04:31:28.376Z"
   },
   {
    "duration": 59,
    "start_time": "2022-05-08T04:31:28.422Z"
   },
   {
    "duration": 91,
    "start_time": "2022-05-08T04:31:28.482Z"
   },
   {
    "duration": 67,
    "start_time": "2022-05-08T04:31:28.576Z"
   },
   {
    "duration": 50,
    "start_time": "2022-05-08T04:31:28.645Z"
   },
   {
    "duration": 3,
    "start_time": "2022-05-08T04:37:42.243Z"
   },
   {
    "duration": 154,
    "start_time": "2022-05-08T04:37:42.248Z"
   },
   {
    "duration": 147,
    "start_time": "2022-05-08T04:37:42.404Z"
   },
   {
    "duration": 7,
    "start_time": "2022-05-08T04:37:42.554Z"
   },
   {
    "duration": 4,
    "start_time": "2022-05-08T04:37:42.563Z"
   },
   {
    "duration": 6,
    "start_time": "2022-05-08T04:37:42.568Z"
   },
   {
    "duration": 18,
    "start_time": "2022-05-08T04:37:42.576Z"
   },
   {
    "duration": 29,
    "start_time": "2022-05-08T04:37:42.595Z"
   },
   {
    "duration": 24,
    "start_time": "2022-05-08T04:37:42.626Z"
   },
   {
    "duration": 25,
    "start_time": "2022-05-08T04:37:42.653Z"
   },
   {
    "duration": 48,
    "start_time": "2022-05-08T04:37:42.680Z"
   },
   {
    "duration": 105,
    "start_time": "2022-05-08T04:37:42.730Z"
   },
   {
    "duration": 73,
    "start_time": "2022-05-08T04:37:42.837Z"
   },
   {
    "duration": 62,
    "start_time": "2022-05-08T04:37:42.911Z"
   },
   {
    "duration": 8,
    "start_time": "2022-05-08T04:37:42.974Z"
   },
   {
    "duration": 3,
    "start_time": "2022-05-08T04:44:07.886Z"
   },
   {
    "duration": 153,
    "start_time": "2022-05-08T04:44:07.891Z"
   },
   {
    "duration": 136,
    "start_time": "2022-05-08T04:44:08.046Z"
   },
   {
    "duration": 6,
    "start_time": "2022-05-08T04:44:08.184Z"
   },
   {
    "duration": 4,
    "start_time": "2022-05-08T04:44:08.192Z"
   },
   {
    "duration": 6,
    "start_time": "2022-05-08T04:44:08.197Z"
   },
   {
    "duration": 31,
    "start_time": "2022-05-08T04:44:08.205Z"
   },
   {
    "duration": 6,
    "start_time": "2022-05-08T04:44:08.237Z"
   },
   {
    "duration": 26,
    "start_time": "2022-05-08T04:44:08.245Z"
   },
   {
    "duration": 51,
    "start_time": "2022-05-08T04:44:08.273Z"
   },
   {
    "duration": 27,
    "start_time": "2022-05-08T04:44:08.325Z"
   },
   {
    "duration": 78,
    "start_time": "2022-05-08T04:44:08.353Z"
   },
   {
    "duration": 72,
    "start_time": "2022-05-08T04:44:08.433Z"
   },
   {
    "duration": 69,
    "start_time": "2022-05-08T04:44:08.507Z"
   },
   {
    "duration": 8,
    "start_time": "2022-05-08T04:44:08.577Z"
   },
   {
    "duration": 2,
    "start_time": "2022-05-08T04:44:24.059Z"
   },
   {
    "duration": 156,
    "start_time": "2022-05-08T04:44:24.063Z"
   },
   {
    "duration": 132,
    "start_time": "2022-05-08T04:44:24.221Z"
   },
   {
    "duration": 6,
    "start_time": "2022-05-08T04:44:24.355Z"
   },
   {
    "duration": 23,
    "start_time": "2022-05-08T04:44:24.363Z"
   },
   {
    "duration": 23,
    "start_time": "2022-05-08T04:44:24.387Z"
   },
   {
    "duration": 24,
    "start_time": "2022-05-08T04:44:24.412Z"
   },
   {
    "duration": 24,
    "start_time": "2022-05-08T04:44:24.437Z"
   },
   {
    "duration": 38,
    "start_time": "2022-05-08T04:44:24.463Z"
   },
   {
    "duration": 44,
    "start_time": "2022-05-08T04:44:24.502Z"
   },
   {
    "duration": 39,
    "start_time": "2022-05-08T04:44:24.548Z"
   },
   {
    "duration": 76,
    "start_time": "2022-05-08T04:44:24.588Z"
   },
   {
    "duration": 79,
    "start_time": "2022-05-08T04:44:24.666Z"
   },
   {
    "duration": 58,
    "start_time": "2022-05-08T04:44:24.747Z"
   },
   {
    "duration": 21,
    "start_time": "2022-05-08T04:44:24.807Z"
   },
   {
    "duration": 3,
    "start_time": "2022-05-08T04:52:15.937Z"
   },
   {
    "duration": 189,
    "start_time": "2022-05-08T04:52:15.941Z"
   },
   {
    "duration": 155,
    "start_time": "2022-05-08T04:52:16.132Z"
   },
   {
    "duration": 7,
    "start_time": "2022-05-08T04:52:16.289Z"
   },
   {
    "duration": 23,
    "start_time": "2022-05-08T04:52:16.298Z"
   },
   {
    "duration": 19,
    "start_time": "2022-05-08T04:52:16.323Z"
   },
   {
    "duration": 23,
    "start_time": "2022-05-08T04:52:16.344Z"
   },
   {
    "duration": 21,
    "start_time": "2022-05-08T04:52:16.371Z"
   },
   {
    "duration": 45,
    "start_time": "2022-05-08T04:52:16.394Z"
   },
   {
    "duration": 51,
    "start_time": "2022-05-08T04:52:16.441Z"
   },
   {
    "duration": 30,
    "start_time": "2022-05-08T04:52:16.494Z"
   },
   {
    "duration": 73,
    "start_time": "2022-05-08T04:52:16.526Z"
   },
   {
    "duration": 73,
    "start_time": "2022-05-08T04:52:16.600Z"
   },
   {
    "duration": 67,
    "start_time": "2022-05-08T04:52:16.675Z"
   },
   {
    "duration": 52,
    "start_time": "2022-05-08T04:52:16.744Z"
   },
   {
    "duration": 3,
    "start_time": "2022-05-08T04:57:26.414Z"
   },
   {
    "duration": 146,
    "start_time": "2022-05-08T04:57:26.419Z"
   },
   {
    "duration": 121,
    "start_time": "2022-05-08T04:57:26.567Z"
   },
   {
    "duration": 6,
    "start_time": "2022-05-08T04:57:26.689Z"
   },
   {
    "duration": 5,
    "start_time": "2022-05-08T04:57:26.697Z"
   },
   {
    "duration": 21,
    "start_time": "2022-05-08T04:57:26.703Z"
   },
   {
    "duration": 14,
    "start_time": "2022-05-08T04:57:26.726Z"
   },
   {
    "duration": 8,
    "start_time": "2022-05-08T04:57:26.742Z"
   },
   {
    "duration": 28,
    "start_time": "2022-05-08T04:57:26.751Z"
   },
   {
    "duration": 42,
    "start_time": "2022-05-08T04:57:26.781Z"
   },
   {
    "duration": 24,
    "start_time": "2022-05-08T04:57:26.825Z"
   },
   {
    "duration": 75,
    "start_time": "2022-05-08T04:57:26.851Z"
   },
   {
    "duration": 68,
    "start_time": "2022-05-08T04:57:26.928Z"
   },
   {
    "duration": 71,
    "start_time": "2022-05-08T04:57:26.999Z"
   },
   {
    "duration": 53,
    "start_time": "2022-05-08T04:57:27.072Z"
   },
   {
    "duration": 2,
    "start_time": "2022-05-08T04:57:58.789Z"
   },
   {
    "duration": 152,
    "start_time": "2022-05-08T04:57:58.793Z"
   },
   {
    "duration": 128,
    "start_time": "2022-05-08T04:57:58.947Z"
   },
   {
    "duration": 6,
    "start_time": "2022-05-08T04:57:59.077Z"
   },
   {
    "duration": 9,
    "start_time": "2022-05-08T04:57:59.085Z"
   },
   {
    "duration": 7,
    "start_time": "2022-05-08T04:57:59.095Z"
   },
   {
    "duration": 30,
    "start_time": "2022-05-08T04:57:59.104Z"
   },
   {
    "duration": 5,
    "start_time": "2022-05-08T04:57:59.136Z"
   },
   {
    "duration": 27,
    "start_time": "2022-05-08T04:57:59.143Z"
   },
   {
    "duration": 51,
    "start_time": "2022-05-08T04:57:59.173Z"
   },
   {
    "duration": 25,
    "start_time": "2022-05-08T04:57:59.226Z"
   },
   {
    "duration": 72,
    "start_time": "2022-05-08T04:57:59.253Z"
   },
   {
    "duration": 67,
    "start_time": "2022-05-08T04:57:59.327Z"
   },
   {
    "duration": 74,
    "start_time": "2022-05-08T04:57:59.396Z"
   },
   {
    "duration": 55,
    "start_time": "2022-05-08T04:57:59.472Z"
   },
   {
    "duration": 3,
    "start_time": "2022-05-08T04:58:38.294Z"
   },
   {
    "duration": 149,
    "start_time": "2022-05-08T04:58:38.299Z"
   },
   {
    "duration": 129,
    "start_time": "2022-05-08T04:58:38.450Z"
   },
   {
    "duration": 7,
    "start_time": "2022-05-08T04:58:38.581Z"
   },
   {
    "duration": 3,
    "start_time": "2022-05-08T04:58:38.591Z"
   },
   {
    "duration": 28,
    "start_time": "2022-05-08T04:58:38.596Z"
   },
   {
    "duration": 15,
    "start_time": "2022-05-08T04:58:38.626Z"
   },
   {
    "duration": 6,
    "start_time": "2022-05-08T04:58:38.643Z"
   },
   {
    "duration": 28,
    "start_time": "2022-05-08T04:58:38.651Z"
   },
   {
    "duration": 54,
    "start_time": "2022-05-08T04:58:38.681Z"
   },
   {
    "duration": 27,
    "start_time": "2022-05-08T04:58:38.737Z"
   },
   {
    "duration": 77,
    "start_time": "2022-05-08T04:58:38.766Z"
   },
   {
    "duration": 66,
    "start_time": "2022-05-08T04:58:38.844Z"
   },
   {
    "duration": 51,
    "start_time": "2022-05-08T04:58:38.922Z"
   },
   {
    "duration": 61,
    "start_time": "2022-05-08T04:58:38.975Z"
   },
   {
    "duration": 3,
    "start_time": "2022-05-08T05:00:27.627Z"
   },
   {
    "duration": 147,
    "start_time": "2022-05-08T05:00:27.632Z"
   },
   {
    "duration": 129,
    "start_time": "2022-05-08T05:00:27.780Z"
   },
   {
    "duration": 6,
    "start_time": "2022-05-08T05:00:27.911Z"
   },
   {
    "duration": 2,
    "start_time": "2022-05-08T05:00:27.924Z"
   },
   {
    "duration": 7,
    "start_time": "2022-05-08T05:00:27.928Z"
   },
   {
    "duration": 14,
    "start_time": "2022-05-08T05:00:27.937Z"
   },
   {
    "duration": 7,
    "start_time": "2022-05-08T05:00:27.953Z"
   },
   {
    "duration": 30,
    "start_time": "2022-05-08T05:00:27.962Z"
   },
   {
    "duration": 44,
    "start_time": "2022-05-08T05:00:27.994Z"
   },
   {
    "duration": 25,
    "start_time": "2022-05-08T05:00:28.040Z"
   },
   {
    "duration": 80,
    "start_time": "2022-05-08T05:00:28.067Z"
   },
   {
    "duration": 79,
    "start_time": "2022-05-08T05:00:28.148Z"
   },
   {
    "duration": 57,
    "start_time": "2022-05-08T05:00:28.230Z"
   },
   {
    "duration": 63,
    "start_time": "2022-05-08T05:00:28.289Z"
   },
   {
    "duration": 3,
    "start_time": "2022-05-08T05:31:33.329Z"
   },
   {
    "duration": 158,
    "start_time": "2022-05-08T05:31:33.334Z"
   },
   {
    "duration": 126,
    "start_time": "2022-05-08T05:31:33.494Z"
   },
   {
    "duration": 7,
    "start_time": "2022-05-08T05:31:33.621Z"
   },
   {
    "duration": 4,
    "start_time": "2022-05-08T05:31:33.630Z"
   },
   {
    "duration": 5,
    "start_time": "2022-05-08T05:31:33.635Z"
   },
   {
    "duration": 16,
    "start_time": "2022-05-08T05:31:33.642Z"
   },
   {
    "duration": 7,
    "start_time": "2022-05-08T05:31:33.660Z"
   },
   {
    "duration": 28,
    "start_time": "2022-05-08T05:31:33.668Z"
   },
   {
    "duration": 23,
    "start_time": "2022-05-08T05:31:33.722Z"
   },
   {
    "duration": 25,
    "start_time": "2022-05-08T05:31:33.748Z"
   },
   {
    "duration": 82,
    "start_time": "2022-05-08T05:31:33.774Z"
   },
   {
    "duration": 73,
    "start_time": "2022-05-08T05:31:33.858Z"
   },
   {
    "duration": 50,
    "start_time": "2022-05-08T05:31:33.933Z"
   },
   {
    "duration": 7,
    "start_time": "2022-05-08T05:31:33.985Z"
   },
   {
    "duration": 2,
    "start_time": "2022-05-08T05:32:02.613Z"
   },
   {
    "duration": 169,
    "start_time": "2022-05-08T05:32:02.617Z"
   },
   {
    "duration": 125,
    "start_time": "2022-05-08T05:32:02.788Z"
   },
   {
    "duration": 13,
    "start_time": "2022-05-08T05:32:02.914Z"
   },
   {
    "duration": 5,
    "start_time": "2022-05-08T05:32:02.929Z"
   },
   {
    "duration": 12,
    "start_time": "2022-05-08T05:32:02.936Z"
   },
   {
    "duration": 28,
    "start_time": "2022-05-08T05:32:02.950Z"
   },
   {
    "duration": 29,
    "start_time": "2022-05-08T05:32:02.980Z"
   },
   {
    "duration": 48,
    "start_time": "2022-05-08T05:32:03.011Z"
   },
   {
    "duration": 25,
    "start_time": "2022-05-08T05:32:03.061Z"
   },
   {
    "duration": 26,
    "start_time": "2022-05-08T05:32:03.088Z"
   },
   {
    "duration": 61,
    "start_time": "2022-05-08T05:32:03.124Z"
   },
   {
    "duration": 94,
    "start_time": "2022-05-08T05:32:03.187Z"
   },
   {
    "duration": 66,
    "start_time": "2022-05-08T05:32:03.284Z"
   },
   {
    "duration": 9,
    "start_time": "2022-05-08T05:32:03.352Z"
   },
   {
    "duration": 3,
    "start_time": "2022-05-08T05:32:20.208Z"
   },
   {
    "duration": 158,
    "start_time": "2022-05-08T05:32:20.214Z"
   },
   {
    "duration": 145,
    "start_time": "2022-05-08T05:32:20.374Z"
   },
   {
    "duration": 7,
    "start_time": "2022-05-08T05:32:20.523Z"
   },
   {
    "duration": 3,
    "start_time": "2022-05-08T05:32:20.533Z"
   },
   {
    "duration": 9,
    "start_time": "2022-05-08T05:32:20.539Z"
   },
   {
    "duration": 15,
    "start_time": "2022-05-08T05:32:20.550Z"
   },
   {
    "duration": 5,
    "start_time": "2022-05-08T05:32:20.567Z"
   },
   {
    "duration": 69,
    "start_time": "2022-05-08T05:32:20.574Z"
   },
   {
    "duration": 27,
    "start_time": "2022-05-08T05:32:20.645Z"
   },
   {
    "duration": 27,
    "start_time": "2022-05-08T05:32:20.674Z"
   },
   {
    "duration": 80,
    "start_time": "2022-05-08T05:32:20.703Z"
   },
   {
    "duration": 96,
    "start_time": "2022-05-08T05:32:20.785Z"
   },
   {
    "duration": 65,
    "start_time": "2022-05-08T05:32:20.884Z"
   },
   {
    "duration": 8,
    "start_time": "2022-05-08T05:32:20.951Z"
   },
   {
    "duration": 3,
    "start_time": "2022-05-08T05:32:49.220Z"
   },
   {
    "duration": 153,
    "start_time": "2022-05-08T05:32:49.226Z"
   },
   {
    "duration": 142,
    "start_time": "2022-05-08T05:32:49.381Z"
   },
   {
    "duration": 7,
    "start_time": "2022-05-08T05:32:49.525Z"
   },
   {
    "duration": 3,
    "start_time": "2022-05-08T05:32:49.536Z"
   },
   {
    "duration": 9,
    "start_time": "2022-05-08T05:32:49.541Z"
   },
   {
    "duration": 16,
    "start_time": "2022-05-08T05:32:49.552Z"
   },
   {
    "duration": 13,
    "start_time": "2022-05-08T05:32:49.571Z"
   },
   {
    "duration": 57,
    "start_time": "2022-05-08T05:32:49.586Z"
   },
   {
    "duration": 24,
    "start_time": "2022-05-08T05:32:49.645Z"
   },
   {
    "duration": 26,
    "start_time": "2022-05-08T05:32:49.671Z"
   },
   {
    "duration": 85,
    "start_time": "2022-05-08T05:32:49.699Z"
   },
   {
    "duration": 90,
    "start_time": "2022-05-08T05:32:49.787Z"
   },
   {
    "duration": 68,
    "start_time": "2022-05-08T05:32:49.879Z"
   },
   {
    "duration": 8,
    "start_time": "2022-05-08T05:32:49.949Z"
   },
   {
    "duration": 3,
    "start_time": "2022-05-08T05:33:05.072Z"
   },
   {
    "duration": 166,
    "start_time": "2022-05-08T05:33:05.078Z"
   },
   {
    "duration": 149,
    "start_time": "2022-05-08T05:33:05.246Z"
   },
   {
    "duration": 6,
    "start_time": "2022-05-08T05:33:05.399Z"
   },
   {
    "duration": 3,
    "start_time": "2022-05-08T05:33:05.423Z"
   },
   {
    "duration": 6,
    "start_time": "2022-05-08T05:33:05.428Z"
   },
   {
    "duration": 16,
    "start_time": "2022-05-08T05:33:05.436Z"
   },
   {
    "duration": 5,
    "start_time": "2022-05-08T05:33:05.454Z"
   },
   {
    "duration": 62,
    "start_time": "2022-05-08T05:33:05.461Z"
   },
   {
    "duration": 26,
    "start_time": "2022-05-08T05:33:05.526Z"
   },
   {
    "duration": 28,
    "start_time": "2022-05-08T05:33:05.554Z"
   },
   {
    "duration": 123,
    "start_time": "2022-05-08T05:33:05.584Z"
   },
   {
    "duration": 81,
    "start_time": "2022-05-08T05:33:05.709Z"
   },
   {
    "duration": 65,
    "start_time": "2022-05-08T05:33:05.792Z"
   },
   {
    "duration": 8,
    "start_time": "2022-05-08T05:33:05.859Z"
   },
   {
    "duration": 3,
    "start_time": "2022-05-08T05:34:05.015Z"
   },
   {
    "duration": 158,
    "start_time": "2022-05-08T05:34:05.020Z"
   },
   {
    "duration": 143,
    "start_time": "2022-05-08T05:34:05.180Z"
   },
   {
    "duration": 7,
    "start_time": "2022-05-08T05:34:05.326Z"
   },
   {
    "duration": 6,
    "start_time": "2022-05-08T05:34:05.336Z"
   },
   {
    "duration": 6,
    "start_time": "2022-05-08T05:34:05.344Z"
   },
   {
    "duration": 15,
    "start_time": "2022-05-08T05:34:05.352Z"
   },
   {
    "duration": 14,
    "start_time": "2022-05-08T05:34:05.369Z"
   },
   {
    "duration": 54,
    "start_time": "2022-05-08T05:34:05.384Z"
   },
   {
    "duration": 29,
    "start_time": "2022-05-08T05:34:05.440Z"
   },
   {
    "duration": 27,
    "start_time": "2022-05-08T05:34:05.471Z"
   },
   {
    "duration": 81,
    "start_time": "2022-05-08T05:34:05.500Z"
   },
   {
    "duration": 90,
    "start_time": "2022-05-08T05:34:05.584Z"
   },
   {
    "duration": 66,
    "start_time": "2022-05-08T05:34:05.677Z"
   },
   {
    "duration": 8,
    "start_time": "2022-05-08T05:34:05.745Z"
   },
   {
    "duration": 2,
    "start_time": "2022-05-08T05:34:41.934Z"
   },
   {
    "duration": 151,
    "start_time": "2022-05-08T05:34:41.938Z"
   },
   {
    "duration": 120,
    "start_time": "2022-05-08T05:34:42.091Z"
   },
   {
    "duration": 13,
    "start_time": "2022-05-08T05:34:42.213Z"
   },
   {
    "duration": 7,
    "start_time": "2022-05-08T05:34:42.229Z"
   },
   {
    "duration": 22,
    "start_time": "2022-05-08T05:34:42.238Z"
   },
   {
    "duration": 25,
    "start_time": "2022-05-08T05:34:42.261Z"
   },
   {
    "duration": 15,
    "start_time": "2022-05-08T05:34:42.288Z"
   },
   {
    "duration": 31,
    "start_time": "2022-05-08T05:34:42.304Z"
   },
   {
    "duration": 32,
    "start_time": "2022-05-08T05:34:42.337Z"
   },
   {
    "duration": 26,
    "start_time": "2022-05-08T05:34:42.371Z"
   },
   {
    "duration": 73,
    "start_time": "2022-05-08T05:34:42.399Z"
   },
   {
    "duration": 74,
    "start_time": "2022-05-08T05:34:42.474Z"
   },
   {
    "duration": 50,
    "start_time": "2022-05-08T05:34:42.550Z"
   },
   {
    "duration": 24,
    "start_time": "2022-05-08T05:34:42.602Z"
   },
   {
    "duration": 4,
    "start_time": "2022-05-08T05:35:03.592Z"
   },
   {
    "duration": 160,
    "start_time": "2022-05-08T05:35:03.599Z"
   },
   {
    "duration": 144,
    "start_time": "2022-05-08T05:35:03.761Z"
   },
   {
    "duration": 7,
    "start_time": "2022-05-08T05:35:03.906Z"
   },
   {
    "duration": 2,
    "start_time": "2022-05-08T05:35:03.923Z"
   },
   {
    "duration": 8,
    "start_time": "2022-05-08T05:35:03.927Z"
   },
   {
    "duration": 14,
    "start_time": "2022-05-08T05:35:03.936Z"
   },
   {
    "duration": 5,
    "start_time": "2022-05-08T05:35:03.952Z"
   },
   {
    "duration": 28,
    "start_time": "2022-05-08T05:35:03.959Z"
   },
   {
    "duration": 57,
    "start_time": "2022-05-08T05:35:03.988Z"
   },
   {
    "duration": 26,
    "start_time": "2022-05-08T05:35:04.047Z"
   },
   {
    "duration": 80,
    "start_time": "2022-05-08T05:35:04.074Z"
   },
   {
    "duration": 81,
    "start_time": "2022-05-08T05:35:04.155Z"
   },
   {
    "duration": 55,
    "start_time": "2022-05-08T05:35:04.238Z"
   },
   {
    "duration": 1027,
    "start_time": "2022-05-08T05:35:04.295Z"
   },
   {
    "duration": 3,
    "start_time": "2022-05-08T05:35:21.012Z"
   },
   {
    "duration": 174,
    "start_time": "2022-05-08T05:35:21.017Z"
   },
   {
    "duration": 130,
    "start_time": "2022-05-08T05:35:21.194Z"
   },
   {
    "duration": 7,
    "start_time": "2022-05-08T05:35:21.326Z"
   },
   {
    "duration": 21,
    "start_time": "2022-05-08T05:35:21.335Z"
   },
   {
    "duration": 19,
    "start_time": "2022-05-08T05:35:21.358Z"
   },
   {
    "duration": 28,
    "start_time": "2022-05-08T05:35:21.378Z"
   },
   {
    "duration": 17,
    "start_time": "2022-05-08T05:35:21.407Z"
   },
   {
    "duration": 36,
    "start_time": "2022-05-08T05:35:21.426Z"
   },
   {
    "duration": 40,
    "start_time": "2022-05-08T05:35:21.463Z"
   },
   {
    "duration": 33,
    "start_time": "2022-05-08T05:35:21.505Z"
   },
   {
    "duration": 59,
    "start_time": "2022-05-08T05:35:21.539Z"
   },
   {
    "duration": 78,
    "start_time": "2022-05-08T05:35:21.599Z"
   },
   {
    "duration": 72,
    "start_time": "2022-05-08T05:35:21.679Z"
   },
   {
    "duration": 7,
    "start_time": "2022-05-08T05:35:21.753Z"
   },
   {
    "duration": 2,
    "start_time": "2022-05-08T05:35:49.222Z"
   },
   {
    "duration": 155,
    "start_time": "2022-05-08T05:35:49.226Z"
   },
   {
    "duration": 131,
    "start_time": "2022-05-08T05:35:49.382Z"
   },
   {
    "duration": 10,
    "start_time": "2022-05-08T05:35:49.514Z"
   },
   {
    "duration": 6,
    "start_time": "2022-05-08T05:35:49.526Z"
   },
   {
    "duration": 6,
    "start_time": "2022-05-08T05:35:49.534Z"
   },
   {
    "duration": 15,
    "start_time": "2022-05-08T05:35:49.542Z"
   },
   {
    "duration": 9,
    "start_time": "2022-05-08T05:35:49.559Z"
   },
   {
    "duration": 26,
    "start_time": "2022-05-08T05:35:49.570Z"
   },
   {
    "duration": 48,
    "start_time": "2022-05-08T05:35:49.598Z"
   },
   {
    "duration": 28,
    "start_time": "2022-05-08T05:35:49.647Z"
   },
   {
    "duration": 84,
    "start_time": "2022-05-08T05:35:49.677Z"
   },
   {
    "duration": 80,
    "start_time": "2022-05-08T05:35:49.763Z"
   },
   {
    "duration": 58,
    "start_time": "2022-05-08T05:35:49.846Z"
   },
   {
    "duration": 60,
    "start_time": "2022-05-08T05:35:49.906Z"
   },
   {
    "duration": 3,
    "start_time": "2022-05-08T05:55:16.089Z"
   },
   {
    "duration": 167,
    "start_time": "2022-05-08T05:55:16.095Z"
   },
   {
    "duration": 154,
    "start_time": "2022-05-08T05:55:16.264Z"
   },
   {
    "duration": 8,
    "start_time": "2022-05-08T05:55:16.420Z"
   },
   {
    "duration": 7,
    "start_time": "2022-05-08T05:55:16.431Z"
   },
   {
    "duration": 8,
    "start_time": "2022-05-08T05:55:16.440Z"
   },
   {
    "duration": 16,
    "start_time": "2022-05-08T05:55:16.450Z"
   },
   {
    "duration": 9,
    "start_time": "2022-05-08T05:55:16.468Z"
   },
   {
    "duration": 64,
    "start_time": "2022-05-08T05:55:16.478Z"
   },
   {
    "duration": 41,
    "start_time": "2022-05-08T05:55:16.544Z"
   },
   {
    "duration": 59,
    "start_time": "2022-05-08T05:55:16.589Z"
   },
   {
    "duration": 123,
    "start_time": "2022-05-08T05:55:16.651Z"
   },
   {
    "duration": 130,
    "start_time": "2022-05-08T05:55:16.776Z"
   },
   {
    "duration": 102,
    "start_time": "2022-05-08T05:55:16.909Z"
   },
   {
    "duration": 85,
    "start_time": "2022-05-08T05:55:17.023Z"
   },
   {
    "duration": 21,
    "start_time": "2022-05-08T05:55:17.111Z"
   },
   {
    "duration": 3,
    "start_time": "2022-05-08T06:03:34.633Z"
   },
   {
    "duration": 167,
    "start_time": "2022-05-08T06:03:34.638Z"
   },
   {
    "duration": 118,
    "start_time": "2022-05-08T06:03:34.808Z"
   },
   {
    "duration": 7,
    "start_time": "2022-05-08T06:03:34.927Z"
   },
   {
    "duration": 4,
    "start_time": "2022-05-08T06:03:34.936Z"
   },
   {
    "duration": 6,
    "start_time": "2022-05-08T06:03:34.941Z"
   },
   {
    "duration": 14,
    "start_time": "2022-05-08T06:03:34.948Z"
   },
   {
    "duration": 5,
    "start_time": "2022-05-08T06:03:34.963Z"
   },
   {
    "duration": 58,
    "start_time": "2022-05-08T06:03:34.970Z"
   },
   {
    "duration": 24,
    "start_time": "2022-05-08T06:03:35.030Z"
   },
   {
    "duration": 25,
    "start_time": "2022-05-08T06:03:35.055Z"
   },
   {
    "duration": 77,
    "start_time": "2022-05-08T06:03:35.082Z"
   },
   {
    "duration": 72,
    "start_time": "2022-05-08T06:03:35.161Z"
   },
   {
    "duration": 52,
    "start_time": "2022-05-08T06:03:35.235Z"
   },
   {
    "duration": 65,
    "start_time": "2022-05-08T06:03:35.289Z"
   },
   {
    "duration": 7,
    "start_time": "2022-05-08T06:03:35.356Z"
   },
   {
    "duration": 3,
    "start_time": "2022-05-08T06:04:31.728Z"
   },
   {
    "duration": 149,
    "start_time": "2022-05-08T06:04:31.733Z"
   },
   {
    "duration": 134,
    "start_time": "2022-05-08T06:04:31.884Z"
   },
   {
    "duration": 6,
    "start_time": "2022-05-08T06:04:32.019Z"
   },
   {
    "duration": 4,
    "start_time": "2022-05-08T06:04:32.028Z"
   },
   {
    "duration": 7,
    "start_time": "2022-05-08T06:04:32.033Z"
   },
   {
    "duration": 16,
    "start_time": "2022-05-08T06:04:32.041Z"
   },
   {
    "duration": 7,
    "start_time": "2022-05-08T06:04:32.059Z"
   },
   {
    "duration": 55,
    "start_time": "2022-05-08T06:04:32.067Z"
   },
   {
    "duration": 37,
    "start_time": "2022-05-08T06:04:32.125Z"
   },
   {
    "duration": 61,
    "start_time": "2022-05-08T06:04:32.164Z"
   },
   {
    "duration": 106,
    "start_time": "2022-05-08T06:04:32.227Z"
   },
   {
    "duration": 120,
    "start_time": "2022-05-08T06:04:32.335Z"
   },
   {
    "duration": 103,
    "start_time": "2022-05-08T06:04:32.459Z"
   },
   {
    "duration": 90,
    "start_time": "2022-05-08T06:04:32.564Z"
   },
   {
    "duration": 32,
    "start_time": "2022-05-08T06:04:32.656Z"
   },
   {
    "duration": 2,
    "start_time": "2022-05-08T06:06:34.515Z"
   },
   {
    "duration": 167,
    "start_time": "2022-05-08T06:06:34.519Z"
   },
   {
    "duration": 130,
    "start_time": "2022-05-08T06:06:34.687Z"
   },
   {
    "duration": 7,
    "start_time": "2022-05-08T06:06:34.823Z"
   },
   {
    "duration": 12,
    "start_time": "2022-05-08T06:06:34.832Z"
   },
   {
    "duration": 8,
    "start_time": "2022-05-08T06:06:34.845Z"
   },
   {
    "duration": 23,
    "start_time": "2022-05-08T06:06:34.854Z"
   },
   {
    "duration": 5,
    "start_time": "2022-05-08T06:06:34.879Z"
   },
   {
    "duration": 49,
    "start_time": "2022-05-08T06:06:34.885Z"
   },
   {
    "duration": 32,
    "start_time": "2022-05-08T06:06:34.935Z"
   },
   {
    "duration": 26,
    "start_time": "2022-05-08T06:06:34.968Z"
   },
   {
    "duration": 70,
    "start_time": "2022-05-08T06:06:34.995Z"
   },
   {
    "duration": 78,
    "start_time": "2022-05-08T06:06:35.066Z"
   },
   {
    "duration": 57,
    "start_time": "2022-05-08T06:06:35.147Z"
   },
   {
    "duration": 63,
    "start_time": "2022-05-08T06:06:35.205Z"
   },
   {
    "duration": 12,
    "start_time": "2022-05-08T06:06:35.269Z"
   },
   {
    "duration": 3,
    "start_time": "2022-05-08T06:07:09.714Z"
   },
   {
    "duration": 156,
    "start_time": "2022-05-08T06:07:09.719Z"
   },
   {
    "duration": 135,
    "start_time": "2022-05-08T06:07:09.877Z"
   },
   {
    "duration": 14,
    "start_time": "2022-05-08T06:07:10.014Z"
   },
   {
    "duration": 4,
    "start_time": "2022-05-08T06:07:10.031Z"
   },
   {
    "duration": 8,
    "start_time": "2022-05-08T06:07:10.037Z"
   },
   {
    "duration": 16,
    "start_time": "2022-05-08T06:07:10.047Z"
   },
   {
    "duration": 6,
    "start_time": "2022-05-08T06:07:10.065Z"
   },
   {
    "duration": 60,
    "start_time": "2022-05-08T06:07:10.073Z"
   },
   {
    "duration": 26,
    "start_time": "2022-05-08T06:07:10.135Z"
   },
   {
    "duration": 27,
    "start_time": "2022-05-08T06:07:10.163Z"
   },
   {
    "duration": 88,
    "start_time": "2022-05-08T06:07:10.192Z"
   },
   {
    "duration": 89,
    "start_time": "2022-05-08T06:07:10.282Z"
   },
   {
    "duration": 69,
    "start_time": "2022-05-08T06:07:10.374Z"
   },
   {
    "duration": 51,
    "start_time": "2022-05-08T06:07:10.445Z"
   },
   {
    "duration": 34,
    "start_time": "2022-05-08T06:07:10.498Z"
   },
   {
    "duration": 3,
    "start_time": "2022-05-08T06:08:50.810Z"
   },
   {
    "duration": 161,
    "start_time": "2022-05-08T06:08:50.815Z"
   },
   {
    "duration": 134,
    "start_time": "2022-05-08T06:08:50.978Z"
   },
   {
    "duration": 13,
    "start_time": "2022-05-08T06:08:51.115Z"
   },
   {
    "duration": 18,
    "start_time": "2022-05-08T06:08:51.130Z"
   },
   {
    "duration": 9,
    "start_time": "2022-05-08T06:08:51.149Z"
   },
   {
    "duration": 25,
    "start_time": "2022-05-08T06:08:51.160Z"
   },
   {
    "duration": 15,
    "start_time": "2022-05-08T06:08:51.187Z"
   },
   {
    "duration": 48,
    "start_time": "2022-05-08T06:08:51.205Z"
   },
   {
    "duration": 37,
    "start_time": "2022-05-08T06:08:51.255Z"
   },
   {
    "duration": 28,
    "start_time": "2022-05-08T06:08:51.295Z"
   },
   {
    "duration": 64,
    "start_time": "2022-05-08T06:08:51.325Z"
   },
   {
    "duration": 80,
    "start_time": "2022-05-08T06:08:51.391Z"
   },
   {
    "duration": 72,
    "start_time": "2022-05-08T06:08:51.475Z"
   },
   {
    "duration": 91,
    "start_time": "2022-05-08T06:08:51.549Z"
   },
   {
    "duration": 33,
    "start_time": "2022-05-08T06:08:51.642Z"
   },
   {
    "duration": 3,
    "start_time": "2022-05-08T06:09:37.411Z"
   },
   {
    "duration": 150,
    "start_time": "2022-05-08T06:09:37.417Z"
   },
   {
    "duration": 219,
    "start_time": "2022-05-08T06:09:37.569Z"
   },
   {
    "duration": 8,
    "start_time": "2022-05-08T06:09:37.791Z"
   },
   {
    "duration": 4,
    "start_time": "2022-05-08T06:09:37.802Z"
   },
   {
    "duration": 5,
    "start_time": "2022-05-08T06:09:37.823Z"
   },
   {
    "duration": 22,
    "start_time": "2022-05-08T06:09:37.831Z"
   },
   {
    "duration": 4,
    "start_time": "2022-05-08T06:09:37.857Z"
   },
   {
    "duration": 70,
    "start_time": "2022-05-08T06:09:37.863Z"
   },
   {
    "duration": 29,
    "start_time": "2022-05-08T06:09:37.935Z"
   },
   {
    "duration": 25,
    "start_time": "2022-05-08T06:09:37.966Z"
   },
   {
    "duration": 85,
    "start_time": "2022-05-08T06:09:37.992Z"
   },
   {
    "duration": 88,
    "start_time": "2022-05-08T06:09:38.079Z"
   },
   {
    "duration": 71,
    "start_time": "2022-05-08T06:09:38.171Z"
   },
   {
    "duration": 51,
    "start_time": "2022-05-08T06:09:38.244Z"
   },
   {
    "duration": 33,
    "start_time": "2022-05-08T06:09:38.297Z"
   },
   {
    "duration": 3,
    "start_time": "2022-05-08T06:10:42.811Z"
   },
   {
    "duration": 169,
    "start_time": "2022-05-08T06:10:42.816Z"
   },
   {
    "duration": 221,
    "start_time": "2022-05-08T06:10:42.987Z"
   },
   {
    "duration": 17,
    "start_time": "2022-05-08T06:10:43.210Z"
   },
   {
    "duration": 17,
    "start_time": "2022-05-08T06:10:43.230Z"
   },
   {
    "duration": 12,
    "start_time": "2022-05-08T06:10:43.249Z"
   },
   {
    "duration": 34,
    "start_time": "2022-05-08T06:10:43.263Z"
   },
   {
    "duration": 18,
    "start_time": "2022-05-08T06:10:43.299Z"
   },
   {
    "duration": 58,
    "start_time": "2022-05-08T06:10:43.319Z"
   },
   {
    "duration": 34,
    "start_time": "2022-05-08T06:10:43.379Z"
   },
   {
    "duration": 24,
    "start_time": "2022-05-08T06:10:43.415Z"
   },
   {
    "duration": 71,
    "start_time": "2022-05-08T06:10:43.440Z"
   },
   {
    "duration": 67,
    "start_time": "2022-05-08T06:10:43.513Z"
   },
   {
    "duration": 65,
    "start_time": "2022-05-08T06:10:43.583Z"
   },
   {
    "duration": 50,
    "start_time": "2022-05-08T06:10:43.649Z"
   },
   {
    "duration": 32,
    "start_time": "2022-05-08T06:10:43.701Z"
   },
   {
    "duration": 85,
    "start_time": "2022-05-08T06:10:43.735Z"
   },
   {
    "duration": 2,
    "start_time": "2022-05-08T06:12:16.831Z"
   },
   {
    "duration": 183,
    "start_time": "2022-05-08T06:12:16.836Z"
   },
   {
    "duration": 151,
    "start_time": "2022-05-08T06:12:17.021Z"
   },
   {
    "duration": 7,
    "start_time": "2022-05-08T06:12:17.174Z"
   },
   {
    "duration": 10,
    "start_time": "2022-05-08T06:12:17.183Z"
   },
   {
    "duration": 8,
    "start_time": "2022-05-08T06:12:17.195Z"
   },
   {
    "duration": 28,
    "start_time": "2022-05-08T06:12:17.205Z"
   },
   {
    "duration": 4,
    "start_time": "2022-05-08T06:12:17.235Z"
   },
   {
    "duration": 26,
    "start_time": "2022-05-08T06:12:17.242Z"
   },
   {
    "duration": 59,
    "start_time": "2022-05-08T06:12:17.270Z"
   },
   {
    "duration": 26,
    "start_time": "2022-05-08T06:12:17.331Z"
   },
   {
    "duration": 77,
    "start_time": "2022-05-08T06:12:17.359Z"
   },
   {
    "duration": 84,
    "start_time": "2022-05-08T06:12:17.438Z"
   },
   {
    "duration": 59,
    "start_time": "2022-05-08T06:12:17.524Z"
   },
   {
    "duration": 66,
    "start_time": "2022-05-08T06:12:17.585Z"
   },
   {
    "duration": 16,
    "start_time": "2022-05-08T06:12:17.653Z"
   },
   {
    "duration": 85,
    "start_time": "2022-05-08T06:12:17.671Z"
   },
   {
    "duration": 67,
    "start_time": "2022-05-08T06:12:17.757Z"
   },
   {
    "duration": 3,
    "start_time": "2022-05-08T06:14:33.405Z"
   },
   {
    "duration": 156,
    "start_time": "2022-05-08T06:14:33.410Z"
   },
   {
    "duration": 141,
    "start_time": "2022-05-08T06:14:33.568Z"
   },
   {
    "duration": 11,
    "start_time": "2022-05-08T06:14:33.711Z"
   },
   {
    "duration": 5,
    "start_time": "2022-05-08T06:14:33.725Z"
   },
   {
    "duration": 12,
    "start_time": "2022-05-08T06:14:33.732Z"
   },
   {
    "duration": 15,
    "start_time": "2022-05-08T06:14:33.745Z"
   },
   {
    "duration": 6,
    "start_time": "2022-05-08T06:14:33.762Z"
   },
   {
    "duration": 28,
    "start_time": "2022-05-08T06:14:33.770Z"
   },
   {
    "duration": 25,
    "start_time": "2022-05-08T06:14:33.823Z"
   },
   {
    "duration": 26,
    "start_time": "2022-05-08T06:14:33.850Z"
   },
   {
    "duration": 82,
    "start_time": "2022-05-08T06:14:33.878Z"
   },
   {
    "duration": 75,
    "start_time": "2022-05-08T06:14:33.962Z"
   },
   {
    "duration": 60,
    "start_time": "2022-05-08T06:14:34.039Z"
   },
   {
    "duration": 62,
    "start_time": "2022-05-08T06:14:34.101Z"
   },
   {
    "duration": 16,
    "start_time": "2022-05-08T06:14:34.164Z"
   },
   {
    "duration": 88,
    "start_time": "2022-05-08T06:14:34.182Z"
   },
   {
    "duration": 6,
    "start_time": "2022-05-08T06:14:34.272Z"
   },
   {
    "duration": 3,
    "start_time": "2022-05-08T06:15:13.201Z"
   },
   {
    "duration": 162,
    "start_time": "2022-05-08T06:15:13.206Z"
   },
   {
    "duration": 146,
    "start_time": "2022-05-08T06:15:13.370Z"
   },
   {
    "duration": 8,
    "start_time": "2022-05-08T06:15:13.518Z"
   },
   {
    "duration": 7,
    "start_time": "2022-05-08T06:15:13.528Z"
   },
   {
    "duration": 7,
    "start_time": "2022-05-08T06:15:13.537Z"
   },
   {
    "duration": 16,
    "start_time": "2022-05-08T06:15:13.546Z"
   },
   {
    "duration": 5,
    "start_time": "2022-05-08T06:15:13.564Z"
   },
   {
    "duration": 56,
    "start_time": "2022-05-08T06:15:13.571Z"
   },
   {
    "duration": 26,
    "start_time": "2022-05-08T06:15:13.629Z"
   },
   {
    "duration": 27,
    "start_time": "2022-05-08T06:15:13.657Z"
   },
   {
    "duration": 89,
    "start_time": "2022-05-08T06:15:13.686Z"
   },
   {
    "duration": 82,
    "start_time": "2022-05-08T06:15:13.777Z"
   },
   {
    "duration": 68,
    "start_time": "2022-05-08T06:15:13.862Z"
   },
   {
    "duration": 51,
    "start_time": "2022-05-08T06:15:13.932Z"
   },
   {
    "duration": 39,
    "start_time": "2022-05-08T06:15:13.985Z"
   },
   {
    "duration": 71,
    "start_time": "2022-05-08T06:15:14.026Z"
   },
   {
    "duration": 73,
    "start_time": "2022-05-08T06:15:14.099Z"
   },
   {
    "duration": 360,
    "start_time": "2022-05-09T06:34:17.124Z"
   },
   {
    "duration": 145,
    "start_time": "2022-05-09T06:34:17.486Z"
   },
   {
    "duration": 132,
    "start_time": "2022-05-09T06:34:17.633Z"
   },
   {
    "duration": 10,
    "start_time": "2022-05-09T06:34:17.767Z"
   },
   {
    "duration": 15,
    "start_time": "2022-05-09T06:34:17.779Z"
   },
   {
    "duration": 13,
    "start_time": "2022-05-09T06:34:17.795Z"
   },
   {
    "duration": 24,
    "start_time": "2022-05-09T06:34:17.810Z"
   },
   {
    "duration": 7,
    "start_time": "2022-05-09T06:34:17.836Z"
   },
   {
    "duration": 29,
    "start_time": "2022-05-09T06:34:17.844Z"
   },
   {
    "duration": 26,
    "start_time": "2022-05-09T06:34:17.875Z"
   },
   {
    "duration": 25,
    "start_time": "2022-05-09T06:34:17.902Z"
   },
   {
    "duration": 86,
    "start_time": "2022-05-09T06:34:17.929Z"
   },
   {
    "duration": 80,
    "start_time": "2022-05-09T06:34:18.016Z"
   },
   {
    "duration": 57,
    "start_time": "2022-05-09T06:34:18.099Z"
   },
   {
    "duration": 61,
    "start_time": "2022-05-09T06:34:18.157Z"
   },
   {
    "duration": 14,
    "start_time": "2022-05-09T06:34:18.220Z"
   },
   {
    "duration": 93,
    "start_time": "2022-05-09T06:34:18.236Z"
   },
   {
    "duration": 67,
    "start_time": "2022-05-09T06:34:18.331Z"
   },
   {
    "duration": 77,
    "start_time": "2022-05-09T06:34:18.399Z"
   },
   {
    "duration": 3,
    "start_time": "2022-05-09T06:34:48.086Z"
   },
   {
    "duration": 154,
    "start_time": "2022-05-09T06:34:48.091Z"
   },
   {
    "duration": 120,
    "start_time": "2022-05-09T06:34:48.247Z"
   },
   {
    "duration": 6,
    "start_time": "2022-05-09T06:34:48.374Z"
   },
   {
    "duration": 5,
    "start_time": "2022-05-09T06:34:48.382Z"
   },
   {
    "duration": 8,
    "start_time": "2022-05-09T06:34:48.389Z"
   },
   {
    "duration": 13,
    "start_time": "2022-05-09T06:34:48.399Z"
   },
   {
    "duration": 5,
    "start_time": "2022-05-09T06:34:48.414Z"
   },
   {
    "duration": 27,
    "start_time": "2022-05-09T06:34:48.420Z"
   },
   {
    "duration": 45,
    "start_time": "2022-05-09T06:34:48.449Z"
   },
   {
    "duration": 23,
    "start_time": "2022-05-09T06:34:48.497Z"
   },
   {
    "duration": 78,
    "start_time": "2022-05-09T06:34:48.522Z"
   },
   {
    "duration": 74,
    "start_time": "2022-05-09T06:34:48.601Z"
   },
   {
    "duration": 52,
    "start_time": "2022-05-09T06:34:48.677Z"
   },
   {
    "duration": 62,
    "start_time": "2022-05-09T06:34:48.731Z"
   },
   {
    "duration": 14,
    "start_time": "2022-05-09T06:34:48.795Z"
   },
   {
    "duration": 76,
    "start_time": "2022-05-09T06:34:48.811Z"
   },
   {
    "duration": 52,
    "start_time": "2022-05-09T06:34:48.889Z"
   },
   {
    "duration": 3,
    "start_time": "2022-05-09T06:34:48.943Z"
   },
   {
    "duration": 3,
    "start_time": "2022-05-09T06:35:49.859Z"
   },
   {
    "duration": 140,
    "start_time": "2022-05-09T06:35:49.864Z"
   },
   {
    "duration": 132,
    "start_time": "2022-05-09T06:35:50.006Z"
   },
   {
    "duration": 6,
    "start_time": "2022-05-09T06:35:50.140Z"
   },
   {
    "duration": 4,
    "start_time": "2022-05-09T06:35:50.148Z"
   },
   {
    "duration": 20,
    "start_time": "2022-05-09T06:35:50.154Z"
   },
   {
    "duration": 15,
    "start_time": "2022-05-09T06:35:50.175Z"
   },
   {
    "duration": 8,
    "start_time": "2022-05-09T06:35:50.192Z"
   },
   {
    "duration": 26,
    "start_time": "2022-05-09T06:35:50.202Z"
   },
   {
    "duration": 23,
    "start_time": "2022-05-09T06:35:50.230Z"
   },
   {
    "duration": 41,
    "start_time": "2022-05-09T06:35:50.255Z"
   },
   {
    "duration": 81,
    "start_time": "2022-05-09T06:35:50.298Z"
   },
   {
    "duration": 64,
    "start_time": "2022-05-09T06:35:50.381Z"
   },
   {
    "duration": 66,
    "start_time": "2022-05-09T06:35:50.446Z"
   },
   {
    "duration": 47,
    "start_time": "2022-05-09T06:35:50.514Z"
   },
   {
    "duration": 14,
    "start_time": "2022-05-09T06:35:50.573Z"
   },
   {
    "duration": 65,
    "start_time": "2022-05-09T06:35:50.588Z"
   },
   {
    "duration": 70,
    "start_time": "2022-05-09T06:35:50.654Z"
   },
   {
    "duration": 7,
    "start_time": "2022-05-09T06:35:50.726Z"
   },
   {
    "duration": 2,
    "start_time": "2022-05-09T06:36:15.709Z"
   },
   {
    "duration": 157,
    "start_time": "2022-05-09T06:36:15.712Z"
   },
   {
    "duration": 115,
    "start_time": "2022-05-09T06:36:15.871Z"
   },
   {
    "duration": 6,
    "start_time": "2022-05-09T06:36:15.988Z"
   },
   {
    "duration": 9,
    "start_time": "2022-05-09T06:36:15.995Z"
   },
   {
    "duration": 8,
    "start_time": "2022-05-09T06:36:16.006Z"
   },
   {
    "duration": 15,
    "start_time": "2022-05-09T06:36:16.016Z"
   },
   {
    "duration": 9,
    "start_time": "2022-05-09T06:36:16.033Z"
   },
   {
    "duration": 44,
    "start_time": "2022-05-09T06:36:16.045Z"
   },
   {
    "duration": 42,
    "start_time": "2022-05-09T06:36:16.090Z"
   },
   {
    "duration": 27,
    "start_time": "2022-05-09T06:36:16.134Z"
   },
   {
    "duration": 66,
    "start_time": "2022-05-09T06:36:16.162Z"
   },
   {
    "duration": 80,
    "start_time": "2022-05-09T06:36:16.230Z"
   },
   {
    "duration": 67,
    "start_time": "2022-05-09T06:36:16.313Z"
   },
   {
    "duration": 52,
    "start_time": "2022-05-09T06:36:16.382Z"
   },
   {
    "duration": 38,
    "start_time": "2022-05-09T06:36:16.436Z"
   },
   {
    "duration": 68,
    "start_time": "2022-05-09T06:36:16.476Z"
   },
   {
    "duration": 76,
    "start_time": "2022-05-09T06:36:16.546Z"
   },
   {
    "duration": 48,
    "start_time": "2022-05-09T06:36:16.625Z"
   },
   {
    "duration": 3,
    "start_time": "2022-05-09T06:38:44.941Z"
   },
   {
    "duration": 166,
    "start_time": "2022-05-09T06:38:44.946Z"
   },
   {
    "duration": 134,
    "start_time": "2022-05-09T06:38:45.114Z"
   },
   {
    "duration": 6,
    "start_time": "2022-05-09T06:38:45.251Z"
   },
   {
    "duration": 19,
    "start_time": "2022-05-09T06:38:45.259Z"
   },
   {
    "duration": 7,
    "start_time": "2022-05-09T06:38:45.279Z"
   },
   {
    "duration": 15,
    "start_time": "2022-05-09T06:38:45.288Z"
   },
   {
    "duration": 7,
    "start_time": "2022-05-09T06:38:45.304Z"
   },
   {
    "duration": 27,
    "start_time": "2022-05-09T06:38:45.312Z"
   },
   {
    "duration": 44,
    "start_time": "2022-05-09T06:38:45.342Z"
   },
   {
    "duration": 24,
    "start_time": "2022-05-09T06:38:45.388Z"
   },
   {
    "duration": 68,
    "start_time": "2022-05-09T06:38:45.414Z"
   },
   {
    "duration": 68,
    "start_time": "2022-05-09T06:38:45.484Z"
   },
   {
    "duration": 70,
    "start_time": "2022-05-09T06:38:45.554Z"
   },
   {
    "duration": 58,
    "start_time": "2022-05-09T06:38:45.625Z"
   },
   {
    "duration": 15,
    "start_time": "2022-05-09T06:38:45.684Z"
   },
   {
    "duration": 80,
    "start_time": "2022-05-09T06:38:45.701Z"
   },
   {
    "duration": 49,
    "start_time": "2022-05-09T06:38:45.783Z"
   },
   {
    "duration": 881,
    "start_time": "2022-05-09T06:38:45.834Z"
   },
   {
    "duration": 3,
    "start_time": "2022-05-09T06:45:21.188Z"
   },
   {
    "duration": 151,
    "start_time": "2022-05-09T06:45:21.193Z"
   },
   {
    "duration": 118,
    "start_time": "2022-05-09T06:45:21.346Z"
   },
   {
    "duration": 6,
    "start_time": "2022-05-09T06:45:21.474Z"
   },
   {
    "duration": 4,
    "start_time": "2022-05-09T06:45:21.483Z"
   },
   {
    "duration": 8,
    "start_time": "2022-05-09T06:45:21.489Z"
   },
   {
    "duration": 36,
    "start_time": "2022-05-09T06:45:21.499Z"
   },
   {
    "duration": 8,
    "start_time": "2022-05-09T06:45:21.536Z"
   },
   {
    "duration": 27,
    "start_time": "2022-05-09T06:45:21.546Z"
   },
   {
    "duration": 23,
    "start_time": "2022-05-09T06:45:21.575Z"
   },
   {
    "duration": 24,
    "start_time": "2022-05-09T06:45:21.600Z"
   },
   {
    "duration": 80,
    "start_time": "2022-05-09T06:45:21.625Z"
   },
   {
    "duration": 74,
    "start_time": "2022-05-09T06:45:21.706Z"
   },
   {
    "duration": 52,
    "start_time": "2022-05-09T06:45:21.783Z"
   },
   {
    "duration": 64,
    "start_time": "2022-05-09T06:45:21.837Z"
   },
   {
    "duration": 14,
    "start_time": "2022-05-09T06:45:21.903Z"
   },
   {
    "duration": 80,
    "start_time": "2022-05-09T06:45:21.919Z"
   },
   {
    "duration": 54,
    "start_time": "2022-05-09T06:45:22.001Z"
   },
   {
    "duration": 882,
    "start_time": "2022-05-09T06:45:22.056Z"
   },
   {
    "duration": 8,
    "start_time": "2022-05-09T06:45:22.939Z"
   },
   {
    "duration": 3,
    "start_time": "2022-05-09T06:45:55.554Z"
   },
   {
    "duration": 149,
    "start_time": "2022-05-09T06:45:55.559Z"
   },
   {
    "duration": 121,
    "start_time": "2022-05-09T06:45:55.710Z"
   },
   {
    "duration": 6,
    "start_time": "2022-05-09T06:45:55.832Z"
   },
   {
    "duration": 9,
    "start_time": "2022-05-09T06:45:55.841Z"
   },
   {
    "duration": 8,
    "start_time": "2022-05-09T06:45:55.851Z"
   },
   {
    "duration": 13,
    "start_time": "2022-05-09T06:45:55.874Z"
   },
   {
    "duration": 8,
    "start_time": "2022-05-09T06:45:55.888Z"
   },
   {
    "duration": 29,
    "start_time": "2022-05-09T06:45:55.898Z"
   },
   {
    "duration": 31,
    "start_time": "2022-05-09T06:45:55.929Z"
   },
   {
    "duration": 35,
    "start_time": "2022-05-09T06:45:55.962Z"
   },
   {
    "duration": 78,
    "start_time": "2022-05-09T06:45:55.998Z"
   },
   {
    "duration": 74,
    "start_time": "2022-05-09T06:45:56.079Z"
   },
   {
    "duration": 73,
    "start_time": "2022-05-09T06:45:56.155Z"
   },
   {
    "duration": 60,
    "start_time": "2022-05-09T06:45:56.229Z"
   },
   {
    "duration": 15,
    "start_time": "2022-05-09T06:45:56.290Z"
   },
   {
    "duration": 83,
    "start_time": "2022-05-09T06:45:56.306Z"
   },
   {
    "duration": 55,
    "start_time": "2022-05-09T06:45:56.391Z"
   },
   {
    "duration": 837,
    "start_time": "2022-05-09T06:45:56.448Z"
   },
   {
    "duration": 8,
    "start_time": "2022-05-09T06:45:57.287Z"
   },
   {
    "duration": 3,
    "start_time": "2022-05-09T06:47:01.396Z"
   },
   {
    "duration": 158,
    "start_time": "2022-05-09T06:47:01.401Z"
   },
   {
    "duration": 140,
    "start_time": "2022-05-09T06:47:01.561Z"
   },
   {
    "duration": 7,
    "start_time": "2022-05-09T06:47:01.703Z"
   },
   {
    "duration": 6,
    "start_time": "2022-05-09T06:47:01.712Z"
   },
   {
    "duration": 10,
    "start_time": "2022-05-09T06:47:01.720Z"
   },
   {
    "duration": 19,
    "start_time": "2022-05-09T06:47:01.731Z"
   },
   {
    "duration": 23,
    "start_time": "2022-05-09T06:47:01.752Z"
   },
   {
    "duration": 31,
    "start_time": "2022-05-09T06:47:01.777Z"
   },
   {
    "duration": 27,
    "start_time": "2022-05-09T06:47:01.810Z"
   },
   {
    "duration": 42,
    "start_time": "2022-05-09T06:47:01.839Z"
   },
   {
    "duration": 71,
    "start_time": "2022-05-09T06:47:01.882Z"
   },
   {
    "duration": 89,
    "start_time": "2022-05-09T06:47:01.955Z"
   },
   {
    "duration": 73,
    "start_time": "2022-05-09T06:47:02.047Z"
   },
   {
    "duration": 58,
    "start_time": "2022-05-09T06:47:02.122Z"
   },
   {
    "duration": 15,
    "start_time": "2022-05-09T06:47:02.182Z"
   },
   {
    "duration": 87,
    "start_time": "2022-05-09T06:47:02.199Z"
   },
   {
    "duration": 60,
    "start_time": "2022-05-09T06:47:02.288Z"
   },
   {
    "duration": 899,
    "start_time": "2022-05-09T06:47:02.350Z"
   },
   {
    "duration": 15,
    "start_time": "2022-05-09T06:47:03.251Z"
   },
   {
    "duration": 3,
    "start_time": "2022-05-09T06:47:58.943Z"
   },
   {
    "duration": 148,
    "start_time": "2022-05-09T06:47:58.948Z"
   },
   {
    "duration": 123,
    "start_time": "2022-05-09T06:47:59.098Z"
   },
   {
    "duration": 6,
    "start_time": "2022-05-09T06:47:59.223Z"
   },
   {
    "duration": 4,
    "start_time": "2022-05-09T06:47:59.231Z"
   },
   {
    "duration": 6,
    "start_time": "2022-05-09T06:47:59.237Z"
   },
   {
    "duration": 30,
    "start_time": "2022-05-09T06:47:59.245Z"
   },
   {
    "duration": 9,
    "start_time": "2022-05-09T06:47:59.277Z"
   },
   {
    "duration": 36,
    "start_time": "2022-05-09T06:47:59.288Z"
   },
   {
    "duration": 25,
    "start_time": "2022-05-09T06:47:59.326Z"
   },
   {
    "duration": 29,
    "start_time": "2022-05-09T06:47:59.353Z"
   },
   {
    "duration": 65,
    "start_time": "2022-05-09T06:47:59.384Z"
   },
   {
    "duration": 83,
    "start_time": "2022-05-09T06:47:59.451Z"
   },
   {
    "duration": 65,
    "start_time": "2022-05-09T06:47:59.537Z"
   },
   {
    "duration": 47,
    "start_time": "2022-05-09T06:47:59.604Z"
   },
   {
    "duration": 28,
    "start_time": "2022-05-09T06:47:59.653Z"
   },
   {
    "duration": 64,
    "start_time": "2022-05-09T06:47:59.682Z"
   },
   {
    "duration": 70,
    "start_time": "2022-05-09T06:47:59.748Z"
   },
   {
    "duration": 862,
    "start_time": "2022-05-09T06:47:59.819Z"
   },
   {
    "duration": 17,
    "start_time": "2022-05-09T06:48:00.682Z"
   },
   {
    "duration": 2,
    "start_time": "2022-05-09T06:48:41.269Z"
   },
   {
    "duration": 144,
    "start_time": "2022-05-09T06:48:41.273Z"
   },
   {
    "duration": 122,
    "start_time": "2022-05-09T06:48:41.419Z"
   },
   {
    "duration": 6,
    "start_time": "2022-05-09T06:48:41.542Z"
   },
   {
    "duration": 4,
    "start_time": "2022-05-09T06:48:41.551Z"
   },
   {
    "duration": 17,
    "start_time": "2022-05-09T06:48:41.557Z"
   },
   {
    "duration": 16,
    "start_time": "2022-05-09T06:48:41.575Z"
   },
   {
    "duration": 7,
    "start_time": "2022-05-09T06:48:41.593Z"
   },
   {
    "duration": 27,
    "start_time": "2022-05-09T06:48:41.601Z"
   },
   {
    "duration": 45,
    "start_time": "2022-05-09T06:48:41.630Z"
   },
   {
    "duration": 24,
    "start_time": "2022-05-09T06:48:41.676Z"
   },
   {
    "duration": 56,
    "start_time": "2022-05-09T06:48:41.702Z"
   },
   {
    "duration": 64,
    "start_time": "2022-05-09T06:48:41.773Z"
   },
   {
    "duration": 70,
    "start_time": "2022-05-09T06:48:41.839Z"
   },
   {
    "duration": 46,
    "start_time": "2022-05-09T06:48:41.910Z"
   },
   {
    "duration": 28,
    "start_time": "2022-05-09T06:48:41.957Z"
   },
   {
    "duration": 64,
    "start_time": "2022-05-09T06:48:41.987Z"
   },
   {
    "duration": 72,
    "start_time": "2022-05-09T06:48:42.052Z"
   },
   {
    "duration": 952,
    "start_time": "2022-05-09T06:48:42.126Z"
   },
   {
    "duration": 15,
    "start_time": "2022-05-09T06:48:43.080Z"
   },
   {
    "duration": 2,
    "start_time": "2022-05-09T06:49:37.302Z"
   },
   {
    "duration": 149,
    "start_time": "2022-05-09T06:49:37.306Z"
   },
   {
    "duration": 117,
    "start_time": "2022-05-09T06:49:37.457Z"
   },
   {
    "duration": 6,
    "start_time": "2022-05-09T06:49:37.576Z"
   },
   {
    "duration": 6,
    "start_time": "2022-05-09T06:49:37.584Z"
   },
   {
    "duration": 7,
    "start_time": "2022-05-09T06:49:37.591Z"
   },
   {
    "duration": 15,
    "start_time": "2022-05-09T06:49:37.600Z"
   },
   {
    "duration": 5,
    "start_time": "2022-05-09T06:49:37.617Z"
   },
   {
    "duration": 26,
    "start_time": "2022-05-09T06:49:37.624Z"
   },
   {
    "duration": 36,
    "start_time": "2022-05-09T06:49:37.674Z"
   },
   {
    "duration": 24,
    "start_time": "2022-05-09T06:49:37.714Z"
   },
   {
    "duration": 74,
    "start_time": "2022-05-09T06:49:37.740Z"
   },
   {
    "duration": 81,
    "start_time": "2022-05-09T06:49:37.816Z"
   },
   {
    "duration": 56,
    "start_time": "2022-05-09T06:49:37.899Z"
   },
   {
    "duration": 59,
    "start_time": "2022-05-09T06:49:37.957Z"
   },
   {
    "duration": 16,
    "start_time": "2022-05-09T06:49:38.017Z"
   },
   {
    "duration": 84,
    "start_time": "2022-05-09T06:49:38.035Z"
   },
   {
    "duration": 64,
    "start_time": "2022-05-09T06:49:38.121Z"
   },
   {
    "duration": 901,
    "start_time": "2022-05-09T06:49:38.187Z"
   },
   {
    "duration": 15,
    "start_time": "2022-05-09T06:49:39.089Z"
   },
   {
    "duration": 3,
    "start_time": "2022-05-09T06:50:17.632Z"
   },
   {
    "duration": 156,
    "start_time": "2022-05-09T06:50:17.636Z"
   },
   {
    "duration": 123,
    "start_time": "2022-05-09T06:50:17.794Z"
   },
   {
    "duration": 6,
    "start_time": "2022-05-09T06:50:17.919Z"
   },
   {
    "duration": 5,
    "start_time": "2022-05-09T06:50:17.927Z"
   },
   {
    "duration": 7,
    "start_time": "2022-05-09T06:50:17.934Z"
   },
   {
    "duration": 33,
    "start_time": "2022-05-09T06:50:17.943Z"
   },
   {
    "duration": 6,
    "start_time": "2022-05-09T06:50:17.978Z"
   },
   {
    "duration": 27,
    "start_time": "2022-05-09T06:50:17.985Z"
   },
   {
    "duration": 23,
    "start_time": "2022-05-09T06:50:18.014Z"
   },
   {
    "duration": 40,
    "start_time": "2022-05-09T06:50:18.039Z"
   },
   {
    "duration": 62,
    "start_time": "2022-05-09T06:50:18.081Z"
   },
   {
    "duration": 118,
    "start_time": "2022-05-09T06:50:18.144Z"
   },
   {
    "duration": 58,
    "start_time": "2022-05-09T06:50:18.264Z"
   },
   {
    "duration": 64,
    "start_time": "2022-05-09T06:50:18.324Z"
   },
   {
    "duration": 14,
    "start_time": "2022-05-09T06:50:18.390Z"
   },
   {
    "duration": 80,
    "start_time": "2022-05-09T06:50:18.406Z"
   },
   {
    "duration": 54,
    "start_time": "2022-05-09T06:50:18.488Z"
   },
   {
    "duration": 845,
    "start_time": "2022-05-09T06:50:18.544Z"
   },
   {
    "duration": 17,
    "start_time": "2022-05-09T06:50:19.391Z"
   },
   {
    "duration": 2,
    "start_time": "2022-05-09T06:53:52.161Z"
   },
   {
    "duration": 143,
    "start_time": "2022-05-09T06:53:52.165Z"
   },
   {
    "duration": 117,
    "start_time": "2022-05-09T06:53:52.310Z"
   },
   {
    "duration": 6,
    "start_time": "2022-05-09T06:53:52.428Z"
   },
   {
    "duration": 4,
    "start_time": "2022-05-09T06:53:52.436Z"
   },
   {
    "duration": 6,
    "start_time": "2022-05-09T06:53:52.441Z"
   },
   {
    "duration": 31,
    "start_time": "2022-05-09T06:53:52.449Z"
   },
   {
    "duration": 5,
    "start_time": "2022-05-09T06:53:52.482Z"
   },
   {
    "duration": 27,
    "start_time": "2022-05-09T06:53:52.489Z"
   },
   {
    "duration": 22,
    "start_time": "2022-05-09T06:53:52.517Z"
   },
   {
    "duration": 41,
    "start_time": "2022-05-09T06:53:52.541Z"
   },
   {
    "duration": 62,
    "start_time": "2022-05-09T06:53:52.583Z"
   },
   {
    "duration": 86,
    "start_time": "2022-05-09T06:53:52.647Z"
   },
   {
    "duration": 73,
    "start_time": "2022-05-09T06:53:52.735Z"
   },
   {
    "duration": 48,
    "start_time": "2022-05-09T06:53:52.809Z"
   },
   {
    "duration": 25,
    "start_time": "2022-05-09T06:53:52.858Z"
   },
   {
    "duration": 64,
    "start_time": "2022-05-09T06:53:52.885Z"
   },
   {
    "duration": 68,
    "start_time": "2022-05-09T06:53:52.950Z"
   },
   {
    "duration": 874,
    "start_time": "2022-05-09T06:53:53.020Z"
   },
   {
    "duration": 9,
    "start_time": "2022-05-09T06:53:53.895Z"
   },
   {
    "duration": 3,
    "start_time": "2022-05-09T06:54:40.471Z"
   },
   {
    "duration": 149,
    "start_time": "2022-05-09T06:54:40.475Z"
   },
   {
    "duration": 129,
    "start_time": "2022-05-09T06:54:40.626Z"
   },
   {
    "duration": 18,
    "start_time": "2022-05-09T06:54:40.756Z"
   },
   {
    "duration": 5,
    "start_time": "2022-05-09T06:54:40.776Z"
   },
   {
    "duration": 6,
    "start_time": "2022-05-09T06:54:40.783Z"
   },
   {
    "duration": 15,
    "start_time": "2022-05-09T06:54:40.790Z"
   },
   {
    "duration": 11,
    "start_time": "2022-05-09T06:54:40.807Z"
   },
   {
    "duration": 28,
    "start_time": "2022-05-09T06:54:40.819Z"
   },
   {
    "duration": 40,
    "start_time": "2022-05-09T06:54:40.849Z"
   },
   {
    "duration": 24,
    "start_time": "2022-05-09T06:54:40.891Z"
   },
   {
    "duration": 84,
    "start_time": "2022-05-09T06:54:40.917Z"
   },
   {
    "duration": 83,
    "start_time": "2022-05-09T06:54:41.002Z"
   },
   {
    "duration": 58,
    "start_time": "2022-05-09T06:54:41.087Z"
   },
   {
    "duration": 66,
    "start_time": "2022-05-09T06:54:41.146Z"
   },
   {
    "duration": 15,
    "start_time": "2022-05-09T06:54:41.213Z"
   },
   {
    "duration": 97,
    "start_time": "2022-05-09T06:54:41.229Z"
   },
   {
    "duration": 71,
    "start_time": "2022-05-09T06:54:41.328Z"
   },
   {
    "duration": 846,
    "start_time": "2022-05-09T06:54:41.401Z"
   },
   {
    "duration": 9,
    "start_time": "2022-05-09T06:54:42.249Z"
   },
   {
    "duration": 3,
    "start_time": "2022-05-09T06:55:08.462Z"
   },
   {
    "duration": 146,
    "start_time": "2022-05-09T06:55:08.467Z"
   },
   {
    "duration": 124,
    "start_time": "2022-05-09T06:55:08.615Z"
   },
   {
    "duration": 6,
    "start_time": "2022-05-09T06:55:08.741Z"
   },
   {
    "duration": 6,
    "start_time": "2022-05-09T06:55:08.748Z"
   },
   {
    "duration": 19,
    "start_time": "2022-05-09T06:55:08.755Z"
   },
   {
    "duration": 14,
    "start_time": "2022-05-09T06:55:08.776Z"
   },
   {
    "duration": 6,
    "start_time": "2022-05-09T06:55:08.792Z"
   },
   {
    "duration": 27,
    "start_time": "2022-05-09T06:55:08.800Z"
   },
   {
    "duration": 47,
    "start_time": "2022-05-09T06:55:08.829Z"
   },
   {
    "duration": 26,
    "start_time": "2022-05-09T06:55:08.877Z"
   },
   {
    "duration": 77,
    "start_time": "2022-05-09T06:55:08.904Z"
   },
   {
    "duration": 73,
    "start_time": "2022-05-09T06:55:08.982Z"
   },
   {
    "duration": 71,
    "start_time": "2022-05-09T06:55:09.057Z"
   },
   {
    "duration": 61,
    "start_time": "2022-05-09T06:55:09.129Z"
   },
   {
    "duration": 14,
    "start_time": "2022-05-09T06:55:09.192Z"
   },
   {
    "duration": 90,
    "start_time": "2022-05-09T06:55:09.208Z"
   },
   {
    "duration": 58,
    "start_time": "2022-05-09T06:55:09.299Z"
   },
   {
    "duration": 872,
    "start_time": "2022-05-09T06:55:09.358Z"
   },
   {
    "duration": 11,
    "start_time": "2022-05-09T06:55:10.231Z"
   },
   {
    "duration": 3,
    "start_time": "2022-05-09T06:55:44.035Z"
   },
   {
    "duration": 141,
    "start_time": "2022-05-09T06:55:44.040Z"
   },
   {
    "duration": 120,
    "start_time": "2022-05-09T06:55:44.183Z"
   },
   {
    "duration": 5,
    "start_time": "2022-05-09T06:55:44.305Z"
   },
   {
    "duration": 8,
    "start_time": "2022-05-09T06:55:44.312Z"
   },
   {
    "duration": 7,
    "start_time": "2022-05-09T06:55:44.321Z"
   },
   {
    "duration": 18,
    "start_time": "2022-05-09T06:55:44.329Z"
   },
   {
    "duration": 6,
    "start_time": "2022-05-09T06:55:44.349Z"
   },
   {
    "duration": 24,
    "start_time": "2022-05-09T06:55:44.372Z"
   },
   {
    "duration": 25,
    "start_time": "2022-05-09T06:55:44.397Z"
   },
   {
    "duration": 23,
    "start_time": "2022-05-09T06:55:44.423Z"
   },
   {
    "duration": 79,
    "start_time": "2022-05-09T06:55:44.448Z"
   },
   {
    "duration": 81,
    "start_time": "2022-05-09T06:55:44.529Z"
   },
   {
    "duration": 66,
    "start_time": "2022-05-09T06:55:44.611Z"
   },
   {
    "duration": 47,
    "start_time": "2022-05-09T06:55:44.679Z"
   },
   {
    "duration": 14,
    "start_time": "2022-05-09T06:55:44.727Z"
   },
   {
    "duration": 85,
    "start_time": "2022-05-09T06:55:44.743Z"
   },
   {
    "duration": 69,
    "start_time": "2022-05-09T06:55:44.829Z"
   },
   {
    "duration": 843,
    "start_time": "2022-05-09T06:55:44.900Z"
   },
   {
    "duration": 237,
    "start_time": "2022-05-09T06:55:45.745Z"
   },
   {
    "duration": 2,
    "start_time": "2022-05-09T06:58:54.788Z"
   },
   {
    "duration": 137,
    "start_time": "2022-05-09T06:58:54.792Z"
   },
   {
    "duration": 121,
    "start_time": "2022-05-09T06:58:54.932Z"
   },
   {
    "duration": 6,
    "start_time": "2022-05-09T06:58:55.054Z"
   },
   {
    "duration": 3,
    "start_time": "2022-05-09T06:58:55.072Z"
   },
   {
    "duration": 6,
    "start_time": "2022-05-09T06:58:55.077Z"
   },
   {
    "duration": 15,
    "start_time": "2022-05-09T06:58:55.085Z"
   },
   {
    "duration": 5,
    "start_time": "2022-05-09T06:58:55.102Z"
   },
   {
    "duration": 27,
    "start_time": "2022-05-09T06:58:55.109Z"
   },
   {
    "duration": 43,
    "start_time": "2022-05-09T06:58:55.138Z"
   },
   {
    "duration": 24,
    "start_time": "2022-05-09T06:58:55.183Z"
   },
   {
    "duration": 74,
    "start_time": "2022-05-09T06:58:55.209Z"
   },
   {
    "duration": 68,
    "start_time": "2022-05-09T06:58:55.285Z"
   },
   {
    "duration": 65,
    "start_time": "2022-05-09T06:58:55.355Z"
   },
   {
    "duration": 59,
    "start_time": "2022-05-09T06:58:55.422Z"
   },
   {
    "duration": 15,
    "start_time": "2022-05-09T06:58:55.483Z"
   },
   {
    "duration": 83,
    "start_time": "2022-05-09T06:58:55.499Z"
   },
   {
    "duration": 53,
    "start_time": "2022-05-09T06:58:55.584Z"
   },
   {
    "duration": 874,
    "start_time": "2022-05-09T06:58:55.638Z"
   },
   {
    "duration": 295,
    "start_time": "2022-05-09T06:58:56.514Z"
   },
   {
    "duration": 3,
    "start_time": "2022-05-09T06:59:28.750Z"
   },
   {
    "duration": 145,
    "start_time": "2022-05-09T06:59:28.754Z"
   },
   {
    "duration": 133,
    "start_time": "2022-05-09T06:59:28.901Z"
   },
   {
    "duration": 6,
    "start_time": "2022-05-09T06:59:29.036Z"
   },
   {
    "duration": 5,
    "start_time": "2022-05-09T06:59:29.044Z"
   },
   {
    "duration": 8,
    "start_time": "2022-05-09T06:59:29.050Z"
   },
   {
    "duration": 26,
    "start_time": "2022-05-09T06:59:29.059Z"
   },
   {
    "duration": 6,
    "start_time": "2022-05-09T06:59:29.086Z"
   },
   {
    "duration": 27,
    "start_time": "2022-05-09T06:59:29.094Z"
   },
   {
    "duration": 24,
    "start_time": "2022-05-09T06:59:29.123Z"
   },
   {
    "duration": 25,
    "start_time": "2022-05-09T06:59:29.172Z"
   },
   {
    "duration": 57,
    "start_time": "2022-05-09T06:59:29.199Z"
   },
   {
    "duration": 79,
    "start_time": "2022-05-09T06:59:29.258Z"
   },
   {
    "duration": 69,
    "start_time": "2022-05-09T06:59:29.340Z"
   },
   {
    "duration": 46,
    "start_time": "2022-05-09T06:59:29.410Z"
   },
   {
    "duration": 26,
    "start_time": "2022-05-09T06:59:29.458Z"
   },
   {
    "duration": 65,
    "start_time": "2022-05-09T06:59:29.486Z"
   },
   {
    "duration": 72,
    "start_time": "2022-05-09T06:59:29.553Z"
   },
   {
    "duration": 916,
    "start_time": "2022-05-09T06:59:29.627Z"
   },
   {
    "duration": 53,
    "start_time": "2022-05-09T06:59:30.545Z"
   },
   {
    "duration": 2,
    "start_time": "2022-05-09T07:01:17.167Z"
   },
   {
    "duration": 155,
    "start_time": "2022-05-09T07:01:17.172Z"
   },
   {
    "duration": 120,
    "start_time": "2022-05-09T07:01:17.329Z"
   },
   {
    "duration": 6,
    "start_time": "2022-05-09T07:01:17.450Z"
   },
   {
    "duration": 7,
    "start_time": "2022-05-09T07:01:17.458Z"
   },
   {
    "duration": 5,
    "start_time": "2022-05-09T07:01:17.473Z"
   },
   {
    "duration": 18,
    "start_time": "2022-05-09T07:01:17.479Z"
   },
   {
    "duration": 12,
    "start_time": "2022-05-09T07:01:17.499Z"
   },
   {
    "duration": 27,
    "start_time": "2022-05-09T07:01:17.513Z"
   },
   {
    "duration": 40,
    "start_time": "2022-05-09T07:01:17.542Z"
   },
   {
    "duration": 24,
    "start_time": "2022-05-09T07:01:17.584Z"
   },
   {
    "duration": 73,
    "start_time": "2022-05-09T07:01:17.609Z"
   },
   {
    "duration": 67,
    "start_time": "2022-05-09T07:01:17.684Z"
   },
   {
    "duration": 67,
    "start_time": "2022-05-09T07:01:17.754Z"
   },
   {
    "duration": 62,
    "start_time": "2022-05-09T07:01:17.823Z"
   },
   {
    "duration": 15,
    "start_time": "2022-05-09T07:01:17.886Z"
   },
   {
    "duration": 83,
    "start_time": "2022-05-09T07:01:17.902Z"
   },
   {
    "duration": 59,
    "start_time": "2022-05-09T07:01:17.987Z"
   },
   {
    "duration": 914,
    "start_time": "2022-05-09T07:01:18.047Z"
   },
   {
    "duration": 57,
    "start_time": "2022-05-09T07:01:18.963Z"
   },
   {
    "duration": 3,
    "start_time": "2022-05-09T07:02:45.670Z"
   },
   {
    "duration": 146,
    "start_time": "2022-05-09T07:02:45.675Z"
   },
   {
    "duration": 127,
    "start_time": "2022-05-09T07:02:45.823Z"
   },
   {
    "duration": 6,
    "start_time": "2022-05-09T07:02:45.952Z"
   },
   {
    "duration": 14,
    "start_time": "2022-05-09T07:02:45.960Z"
   },
   {
    "duration": 7,
    "start_time": "2022-05-09T07:02:45.976Z"
   },
   {
    "duration": 15,
    "start_time": "2022-05-09T07:02:45.984Z"
   },
   {
    "duration": 7,
    "start_time": "2022-05-09T07:02:46.000Z"
   },
   {
    "duration": 27,
    "start_time": "2022-05-09T07:02:46.009Z"
   },
   {
    "duration": 49,
    "start_time": "2022-05-09T07:02:46.037Z"
   },
   {
    "duration": 25,
    "start_time": "2022-05-09T07:02:46.088Z"
   },
   {
    "duration": 75,
    "start_time": "2022-05-09T07:02:46.115Z"
   },
   {
    "duration": 67,
    "start_time": "2022-05-09T07:02:46.191Z"
   },
   {
    "duration": 54,
    "start_time": "2022-05-09T07:02:46.272Z"
   },
   {
    "duration": 64,
    "start_time": "2022-05-09T07:02:46.327Z"
   },
   {
    "duration": 15,
    "start_time": "2022-05-09T07:02:46.392Z"
   },
   {
    "duration": 83,
    "start_time": "2022-05-09T07:02:46.409Z"
   },
   {
    "duration": 59,
    "start_time": "2022-05-09T07:02:46.493Z"
   },
   {
    "duration": 880,
    "start_time": "2022-05-09T07:02:46.553Z"
   },
   {
    "duration": 307,
    "start_time": "2022-05-09T07:02:47.434Z"
   },
   {
    "duration": 3,
    "start_time": "2022-05-09T07:03:43.927Z"
   },
   {
    "duration": 141,
    "start_time": "2022-05-09T07:03:43.932Z"
   },
   {
    "duration": 129,
    "start_time": "2022-05-09T07:03:44.075Z"
   },
   {
    "duration": 6,
    "start_time": "2022-05-09T07:03:44.206Z"
   },
   {
    "duration": 7,
    "start_time": "2022-05-09T07:03:44.215Z"
   },
   {
    "duration": 9,
    "start_time": "2022-05-09T07:03:44.224Z"
   },
   {
    "duration": 17,
    "start_time": "2022-05-09T07:03:44.234Z"
   },
   {
    "duration": 5,
    "start_time": "2022-05-09T07:03:44.272Z"
   },
   {
    "duration": 29,
    "start_time": "2022-05-09T07:03:44.279Z"
   },
   {
    "duration": 23,
    "start_time": "2022-05-09T07:03:44.310Z"
   },
   {
    "duration": 42,
    "start_time": "2022-05-09T07:03:44.335Z"
   },
   {
    "duration": 63,
    "start_time": "2022-05-09T07:03:44.378Z"
   },
   {
    "duration": 97,
    "start_time": "2022-05-09T07:03:44.443Z"
   },
   {
    "duration": 77,
    "start_time": "2022-05-09T07:03:44.543Z"
   },
   {
    "duration": 54,
    "start_time": "2022-05-09T07:03:44.622Z"
   },
   {
    "duration": 16,
    "start_time": "2022-05-09T07:03:44.677Z"
   },
   {
    "duration": 87,
    "start_time": "2022-05-09T07:03:44.694Z"
   },
   {
    "duration": 57,
    "start_time": "2022-05-09T07:03:44.783Z"
   },
   {
    "duration": 877,
    "start_time": "2022-05-09T07:03:44.842Z"
   },
   {
    "duration": 289,
    "start_time": "2022-05-09T07:03:45.720Z"
   },
   {
    "duration": 2,
    "start_time": "2022-05-09T07:04:19.141Z"
   },
   {
    "duration": 145,
    "start_time": "2022-05-09T07:04:19.145Z"
   },
   {
    "duration": 120,
    "start_time": "2022-05-09T07:04:19.292Z"
   },
   {
    "duration": 6,
    "start_time": "2022-05-09T07:04:19.413Z"
   },
   {
    "duration": 9,
    "start_time": "2022-05-09T07:04:19.421Z"
   },
   {
    "duration": 8,
    "start_time": "2022-05-09T07:04:19.431Z"
   },
   {
    "duration": 18,
    "start_time": "2022-05-09T07:04:19.440Z"
   },
   {
    "duration": 4,
    "start_time": "2022-05-09T07:04:19.473Z"
   },
   {
    "duration": 28,
    "start_time": "2022-05-09T07:04:19.479Z"
   },
   {
    "duration": 23,
    "start_time": "2022-05-09T07:04:19.509Z"
   },
   {
    "duration": 45,
    "start_time": "2022-05-09T07:04:19.534Z"
   },
   {
    "duration": 56,
    "start_time": "2022-05-09T07:04:19.581Z"
   },
   {
    "duration": 87,
    "start_time": "2022-05-09T07:04:19.639Z"
   },
   {
    "duration": 63,
    "start_time": "2022-05-09T07:04:19.729Z"
   },
   {
    "duration": 48,
    "start_time": "2022-05-09T07:04:19.794Z"
   },
   {
    "duration": 31,
    "start_time": "2022-05-09T07:04:19.843Z"
   },
   {
    "duration": 68,
    "start_time": "2022-05-09T07:04:19.875Z"
   },
   {
    "duration": 76,
    "start_time": "2022-05-09T07:04:19.945Z"
   },
   {
    "duration": 850,
    "start_time": "2022-05-09T07:04:20.022Z"
   },
   {
    "duration": 278,
    "start_time": "2022-05-09T07:04:20.874Z"
   },
   {
    "duration": 3,
    "start_time": "2022-05-09T07:14:43.550Z"
   },
   {
    "duration": 166,
    "start_time": "2022-05-09T07:14:43.554Z"
   },
   {
    "duration": 139,
    "start_time": "2022-05-09T07:14:43.722Z"
   },
   {
    "duration": 11,
    "start_time": "2022-05-09T07:14:43.863Z"
   },
   {
    "duration": 5,
    "start_time": "2022-05-09T07:14:43.875Z"
   },
   {
    "duration": 7,
    "start_time": "2022-05-09T07:14:43.881Z"
   },
   {
    "duration": 14,
    "start_time": "2022-05-09T07:14:43.889Z"
   },
   {
    "duration": 5,
    "start_time": "2022-05-09T07:14:43.904Z"
   },
   {
    "duration": 27,
    "start_time": "2022-05-09T07:14:43.911Z"
   },
   {
    "duration": 42,
    "start_time": "2022-05-09T07:14:43.940Z"
   },
   {
    "duration": 23,
    "start_time": "2022-05-09T07:14:43.984Z"
   },
   {
    "duration": 77,
    "start_time": "2022-05-09T07:14:44.009Z"
   },
   {
    "duration": 85,
    "start_time": "2022-05-09T07:14:44.088Z"
   },
   {
    "duration": 56,
    "start_time": "2022-05-09T07:14:44.175Z"
   },
   {
    "duration": 65,
    "start_time": "2022-05-09T07:14:44.233Z"
   },
   {
    "duration": 15,
    "start_time": "2022-05-09T07:14:44.300Z"
   },
   {
    "duration": 83,
    "start_time": "2022-05-09T07:14:44.317Z"
   },
   {
    "duration": 53,
    "start_time": "2022-05-09T07:14:44.402Z"
   },
   {
    "duration": 865,
    "start_time": "2022-05-09T07:14:44.457Z"
   },
   {
    "duration": 242,
    "start_time": "2022-05-09T07:14:45.324Z"
   },
   {
    "duration": 3,
    "start_time": "2022-05-09T07:17:19.032Z"
   },
   {
    "duration": 150,
    "start_time": "2022-05-09T07:17:19.037Z"
   },
   {
    "duration": 122,
    "start_time": "2022-05-09T07:17:19.189Z"
   },
   {
    "duration": 6,
    "start_time": "2022-05-09T07:17:19.312Z"
   },
   {
    "duration": 5,
    "start_time": "2022-05-09T07:17:19.320Z"
   },
   {
    "duration": 6,
    "start_time": "2022-05-09T07:17:19.326Z"
   },
   {
    "duration": 14,
    "start_time": "2022-05-09T07:17:19.334Z"
   },
   {
    "duration": 27,
    "start_time": "2022-05-09T07:17:19.350Z"
   },
   {
    "duration": 26,
    "start_time": "2022-05-09T07:17:19.379Z"
   },
   {
    "duration": 21,
    "start_time": "2022-05-09T07:17:19.408Z"
   },
   {
    "duration": 44,
    "start_time": "2022-05-09T07:17:19.431Z"
   },
   {
    "duration": 60,
    "start_time": "2022-05-09T07:17:19.477Z"
   },
   {
    "duration": 88,
    "start_time": "2022-05-09T07:17:19.539Z"
   },
   {
    "duration": 60,
    "start_time": "2022-05-09T07:17:19.628Z"
   },
   {
    "duration": 48,
    "start_time": "2022-05-09T07:17:19.690Z"
   },
   {
    "duration": 35,
    "start_time": "2022-05-09T07:17:19.739Z"
   },
   {
    "duration": 69,
    "start_time": "2022-05-09T07:17:19.775Z"
   },
   {
    "duration": 77,
    "start_time": "2022-05-09T07:17:19.846Z"
   },
   {
    "duration": 874,
    "start_time": "2022-05-09T07:17:19.924Z"
   },
   {
    "duration": 6,
    "start_time": "2022-05-09T07:17:20.800Z"
   },
   {
    "duration": 2,
    "start_time": "2022-05-09T07:18:07.697Z"
   },
   {
    "duration": 140,
    "start_time": "2022-05-09T07:18:07.702Z"
   },
   {
    "duration": 119,
    "start_time": "2022-05-09T07:18:07.843Z"
   },
   {
    "duration": 11,
    "start_time": "2022-05-09T07:18:07.963Z"
   },
   {
    "duration": 5,
    "start_time": "2022-05-09T07:18:07.976Z"
   },
   {
    "duration": 7,
    "start_time": "2022-05-09T07:18:07.982Z"
   },
   {
    "duration": 17,
    "start_time": "2022-05-09T07:18:07.991Z"
   },
   {
    "duration": 12,
    "start_time": "2022-05-09T07:18:08.010Z"
   },
   {
    "duration": 36,
    "start_time": "2022-05-09T07:18:08.024Z"
   },
   {
    "duration": 31,
    "start_time": "2022-05-09T07:18:08.062Z"
   },
   {
    "duration": 24,
    "start_time": "2022-05-09T07:18:08.094Z"
   },
   {
    "duration": 81,
    "start_time": "2022-05-09T07:18:08.120Z"
   },
   {
    "duration": 73,
    "start_time": "2022-05-09T07:18:08.203Z"
   },
   {
    "duration": 55,
    "start_time": "2022-05-09T07:18:08.277Z"
   },
   {
    "duration": 65,
    "start_time": "2022-05-09T07:18:08.334Z"
   },
   {
    "duration": 15,
    "start_time": "2022-05-09T07:18:08.400Z"
   },
   {
    "duration": 85,
    "start_time": "2022-05-09T07:18:08.417Z"
   },
   {
    "duration": 54,
    "start_time": "2022-05-09T07:18:08.503Z"
   },
   {
    "duration": 872,
    "start_time": "2022-05-09T07:18:08.558Z"
   },
   {
    "duration": 12,
    "start_time": "2022-05-09T07:18:09.432Z"
   },
   {
    "duration": 2,
    "start_time": "2022-05-09T07:18:46.372Z"
   },
   {
    "duration": 161,
    "start_time": "2022-05-09T07:18:46.378Z"
   },
   {
    "duration": 126,
    "start_time": "2022-05-09T07:18:46.542Z"
   },
   {
    "duration": 6,
    "start_time": "2022-05-09T07:18:46.674Z"
   },
   {
    "duration": 8,
    "start_time": "2022-05-09T07:18:46.681Z"
   },
   {
    "duration": 6,
    "start_time": "2022-05-09T07:18:46.692Z"
   },
   {
    "duration": 15,
    "start_time": "2022-05-09T07:18:46.700Z"
   },
   {
    "duration": 7,
    "start_time": "2022-05-09T07:18:46.717Z"
   },
   {
    "duration": 24,
    "start_time": "2022-05-09T07:18:46.726Z"
   },
   {
    "duration": 42,
    "start_time": "2022-05-09T07:18:46.751Z"
   },
   {
    "duration": 24,
    "start_time": "2022-05-09T07:18:46.795Z"
   },
   {
    "duration": 73,
    "start_time": "2022-05-09T07:18:46.821Z"
   },
   {
    "duration": 64,
    "start_time": "2022-05-09T07:18:46.896Z"
   },
   {
    "duration": 55,
    "start_time": "2022-05-09T07:18:46.973Z"
   },
   {
    "duration": 63,
    "start_time": "2022-05-09T07:18:47.030Z"
   },
   {
    "duration": 14,
    "start_time": "2022-05-09T07:18:47.095Z"
   },
   {
    "duration": 80,
    "start_time": "2022-05-09T07:18:47.110Z"
   },
   {
    "duration": 54,
    "start_time": "2022-05-09T07:18:47.191Z"
   },
   {
    "duration": 861,
    "start_time": "2022-05-09T07:18:47.246Z"
   },
   {
    "duration": 12,
    "start_time": "2022-05-09T07:18:48.109Z"
   },
   {
    "duration": 2,
    "start_time": "2022-05-09T07:19:14.564Z"
   },
   {
    "duration": 162,
    "start_time": "2022-05-09T07:19:14.568Z"
   },
   {
    "duration": 121,
    "start_time": "2022-05-09T07:19:14.731Z"
   },
   {
    "duration": 5,
    "start_time": "2022-05-09T07:19:14.854Z"
   },
   {
    "duration": 2,
    "start_time": "2022-05-09T07:19:14.873Z"
   },
   {
    "duration": 14,
    "start_time": "2022-05-09T07:19:14.876Z"
   },
   {
    "duration": 15,
    "start_time": "2022-05-09T07:19:14.891Z"
   },
   {
    "duration": 7,
    "start_time": "2022-05-09T07:19:14.907Z"
   },
   {
    "duration": 27,
    "start_time": "2022-05-09T07:19:14.915Z"
   },
   {
    "duration": 34,
    "start_time": "2022-05-09T07:19:14.943Z"
   },
   {
    "duration": 26,
    "start_time": "2022-05-09T07:19:14.979Z"
   },
   {
    "duration": 82,
    "start_time": "2022-05-09T07:19:15.007Z"
   },
   {
    "duration": 70,
    "start_time": "2022-05-09T07:19:15.092Z"
   },
   {
    "duration": 66,
    "start_time": "2022-05-09T07:19:15.174Z"
   },
   {
    "duration": 60,
    "start_time": "2022-05-09T07:19:15.241Z"
   },
   {
    "duration": 14,
    "start_time": "2022-05-09T07:19:15.302Z"
   },
   {
    "duration": 76,
    "start_time": "2022-05-09T07:19:15.318Z"
   },
   {
    "duration": 54,
    "start_time": "2022-05-09T07:19:15.395Z"
   },
   {
    "duration": 907,
    "start_time": "2022-05-09T07:19:15.450Z"
   },
   {
    "duration": 8,
    "start_time": "2022-05-09T07:19:16.359Z"
   },
   {
    "duration": 3,
    "start_time": "2022-05-09T07:19:45.405Z"
   },
   {
    "duration": 153,
    "start_time": "2022-05-09T07:19:45.410Z"
   },
   {
    "duration": 120,
    "start_time": "2022-05-09T07:19:45.565Z"
   },
   {
    "duration": 7,
    "start_time": "2022-05-09T07:19:45.687Z"
   },
   {
    "duration": 4,
    "start_time": "2022-05-09T07:19:45.697Z"
   },
   {
    "duration": 6,
    "start_time": "2022-05-09T07:19:45.702Z"
   },
   {
    "duration": 13,
    "start_time": "2022-05-09T07:19:45.710Z"
   },
   {
    "duration": 6,
    "start_time": "2022-05-09T07:19:45.725Z"
   },
   {
    "duration": 53,
    "start_time": "2022-05-09T07:19:45.733Z"
   },
   {
    "duration": 23,
    "start_time": "2022-05-09T07:19:45.788Z"
   },
   {
    "duration": 24,
    "start_time": "2022-05-09T07:19:45.814Z"
   },
   {
    "duration": 84,
    "start_time": "2022-05-09T07:19:45.840Z"
   },
   {
    "duration": 83,
    "start_time": "2022-05-09T07:19:45.926Z"
   },
   {
    "duration": 66,
    "start_time": "2022-05-09T07:19:46.012Z"
   },
   {
    "duration": 49,
    "start_time": "2022-05-09T07:19:46.080Z"
   },
   {
    "duration": 16,
    "start_time": "2022-05-09T07:19:46.131Z"
   },
   {
    "duration": 91,
    "start_time": "2022-05-09T07:19:46.149Z"
   },
   {
    "duration": 78,
    "start_time": "2022-05-09T07:19:46.243Z"
   },
   {
    "duration": 866,
    "start_time": "2022-05-09T07:19:46.323Z"
   },
   {
    "duration": 14,
    "start_time": "2022-05-09T07:19:47.191Z"
   },
   {
    "duration": 3,
    "start_time": "2022-05-09T07:20:13.815Z"
   },
   {
    "duration": 142,
    "start_time": "2022-05-09T07:20:13.821Z"
   },
   {
    "duration": 120,
    "start_time": "2022-05-09T07:20:13.965Z"
   },
   {
    "duration": 6,
    "start_time": "2022-05-09T07:20:14.087Z"
   },
   {
    "duration": 8,
    "start_time": "2022-05-09T07:20:14.095Z"
   },
   {
    "duration": 6,
    "start_time": "2022-05-09T07:20:14.105Z"
   },
   {
    "duration": 14,
    "start_time": "2022-05-09T07:20:14.113Z"
   },
   {
    "duration": 7,
    "start_time": "2022-05-09T07:20:14.129Z"
   },
   {
    "duration": 50,
    "start_time": "2022-05-09T07:20:14.139Z"
   },
   {
    "duration": 24,
    "start_time": "2022-05-09T07:20:14.192Z"
   },
   {
    "duration": 25,
    "start_time": "2022-05-09T07:20:14.218Z"
   },
   {
    "duration": 79,
    "start_time": "2022-05-09T07:20:14.245Z"
   },
   {
    "duration": 87,
    "start_time": "2022-05-09T07:20:14.326Z"
   },
   {
    "duration": 68,
    "start_time": "2022-05-09T07:20:14.415Z"
   },
   {
    "duration": 49,
    "start_time": "2022-05-09T07:20:14.485Z"
   },
   {
    "duration": 15,
    "start_time": "2022-05-09T07:20:14.536Z"
   },
   {
    "duration": 70,
    "start_time": "2022-05-09T07:20:14.574Z"
   },
   {
    "duration": 75,
    "start_time": "2022-05-09T07:20:14.646Z"
   },
   {
    "duration": 907,
    "start_time": "2022-05-09T07:20:14.723Z"
   },
   {
    "duration": 11,
    "start_time": "2022-05-09T07:20:15.632Z"
   },
   {
    "duration": 3,
    "start_time": "2022-05-09T07:37:01.989Z"
   },
   {
    "duration": 169,
    "start_time": "2022-05-09T07:37:01.994Z"
   },
   {
    "duration": 127,
    "start_time": "2022-05-09T07:37:02.165Z"
   },
   {
    "duration": 6,
    "start_time": "2022-05-09T07:37:02.294Z"
   },
   {
    "duration": 11,
    "start_time": "2022-05-09T07:37:02.302Z"
   },
   {
    "duration": 9,
    "start_time": "2022-05-09T07:37:02.315Z"
   },
   {
    "duration": 15,
    "start_time": "2022-05-09T07:37:02.326Z"
   },
   {
    "duration": 12,
    "start_time": "2022-05-09T07:37:02.343Z"
   },
   {
    "duration": 38,
    "start_time": "2022-05-09T07:37:02.357Z"
   },
   {
    "duration": 22,
    "start_time": "2022-05-09T07:37:02.399Z"
   },
   {
    "duration": 25,
    "start_time": "2022-05-09T07:37:02.423Z"
   },
   {
    "duration": 63,
    "start_time": "2022-05-09T07:37:02.474Z"
   },
   {
    "duration": 96,
    "start_time": "2022-05-09T07:37:02.540Z"
   },
   {
    "duration": 74,
    "start_time": "2022-05-09T07:37:02.638Z"
   },
   {
    "duration": 60,
    "start_time": "2022-05-09T07:37:02.714Z"
   },
   {
    "duration": 15,
    "start_time": "2022-05-09T07:37:02.776Z"
   },
   {
    "duration": 82,
    "start_time": "2022-05-09T07:37:02.793Z"
   },
   {
    "duration": 62,
    "start_time": "2022-05-09T07:37:02.877Z"
   },
   {
    "duration": 912,
    "start_time": "2022-05-09T07:37:02.940Z"
   },
   {
    "duration": 8,
    "start_time": "2022-05-09T07:37:03.854Z"
   },
   {
    "duration": 3,
    "start_time": "2022-05-09T07:37:55.179Z"
   },
   {
    "duration": 153,
    "start_time": "2022-05-09T07:37:55.184Z"
   },
   {
    "duration": 135,
    "start_time": "2022-05-09T07:37:55.339Z"
   },
   {
    "duration": 7,
    "start_time": "2022-05-09T07:37:55.476Z"
   },
   {
    "duration": 6,
    "start_time": "2022-05-09T07:37:55.484Z"
   },
   {
    "duration": 8,
    "start_time": "2022-05-09T07:37:55.491Z"
   },
   {
    "duration": 17,
    "start_time": "2022-05-09T07:37:55.500Z"
   },
   {
    "duration": 6,
    "start_time": "2022-05-09T07:37:55.518Z"
   },
   {
    "duration": 48,
    "start_time": "2022-05-09T07:37:55.526Z"
   },
   {
    "duration": 25,
    "start_time": "2022-05-09T07:37:55.577Z"
   },
   {
    "duration": 25,
    "start_time": "2022-05-09T07:37:55.604Z"
   },
   {
    "duration": 100,
    "start_time": "2022-05-09T07:37:55.631Z"
   },
   {
    "duration": 87,
    "start_time": "2022-05-09T07:37:55.733Z"
   },
   {
    "duration": 72,
    "start_time": "2022-05-09T07:37:55.824Z"
   },
   {
    "duration": 49,
    "start_time": "2022-05-09T07:37:55.899Z"
   },
   {
    "duration": 33,
    "start_time": "2022-05-09T07:37:55.950Z"
   },
   {
    "duration": 70,
    "start_time": "2022-05-09T07:37:55.985Z"
   },
   {
    "duration": 74,
    "start_time": "2022-05-09T07:37:56.057Z"
   },
   {
    "duration": 932,
    "start_time": "2022-05-09T07:37:56.133Z"
   },
   {
    "duration": 269,
    "start_time": "2022-05-09T07:37:57.067Z"
   },
   {
    "duration": 2,
    "start_time": "2022-05-09T07:38:44.368Z"
   },
   {
    "duration": 146,
    "start_time": "2022-05-09T07:38:44.372Z"
   },
   {
    "duration": 125,
    "start_time": "2022-05-09T07:38:44.520Z"
   },
   {
    "duration": 6,
    "start_time": "2022-05-09T07:38:44.647Z"
   },
   {
    "duration": 17,
    "start_time": "2022-05-09T07:38:44.656Z"
   },
   {
    "duration": 4,
    "start_time": "2022-05-09T07:38:44.675Z"
   },
   {
    "duration": 14,
    "start_time": "2022-05-09T07:38:44.681Z"
   },
   {
    "duration": 6,
    "start_time": "2022-05-09T07:38:44.697Z"
   },
   {
    "duration": 25,
    "start_time": "2022-05-09T07:38:44.705Z"
   },
   {
    "duration": 53,
    "start_time": "2022-05-09T07:38:44.732Z"
   },
   {
    "duration": 26,
    "start_time": "2022-05-09T07:38:44.786Z"
   },
   {
    "duration": 76,
    "start_time": "2022-05-09T07:38:44.814Z"
   },
   {
    "duration": 66,
    "start_time": "2022-05-09T07:38:44.893Z"
   },
   {
    "duration": 61,
    "start_time": "2022-05-09T07:38:44.972Z"
   },
   {
    "duration": 71,
    "start_time": "2022-05-09T07:38:45.035Z"
   },
   {
    "duration": 16,
    "start_time": "2022-05-09T07:38:45.108Z"
   },
   {
    "duration": 94,
    "start_time": "2022-05-09T07:38:45.126Z"
   },
   {
    "duration": 67,
    "start_time": "2022-05-09T07:38:45.222Z"
   },
   {
    "duration": 930,
    "start_time": "2022-05-09T07:38:45.292Z"
   },
   {
    "duration": 9,
    "start_time": "2022-05-09T07:38:46.224Z"
   },
   {
    "duration": 3,
    "start_time": "2022-05-09T07:39:35.626Z"
   },
   {
    "duration": 146,
    "start_time": "2022-05-09T07:39:35.631Z"
   },
   {
    "duration": 133,
    "start_time": "2022-05-09T07:39:35.779Z"
   },
   {
    "duration": 6,
    "start_time": "2022-05-09T07:39:35.914Z"
   },
   {
    "duration": 7,
    "start_time": "2022-05-09T07:39:35.921Z"
   },
   {
    "duration": 8,
    "start_time": "2022-05-09T07:39:35.930Z"
   },
   {
    "duration": 20,
    "start_time": "2022-05-09T07:39:35.939Z"
   },
   {
    "duration": 14,
    "start_time": "2022-05-09T07:39:35.961Z"
   },
   {
    "duration": 30,
    "start_time": "2022-05-09T07:39:35.978Z"
   },
   {
    "duration": 25,
    "start_time": "2022-05-09T07:39:36.010Z"
   },
   {
    "duration": 41,
    "start_time": "2022-05-09T07:39:36.037Z"
   },
   {
    "duration": 57,
    "start_time": "2022-05-09T07:39:36.080Z"
   },
   {
    "duration": 96,
    "start_time": "2022-05-09T07:39:36.140Z"
   },
   {
    "duration": 70,
    "start_time": "2022-05-09T07:39:36.238Z"
   },
   {
    "duration": 49,
    "start_time": "2022-05-09T07:39:36.310Z"
   },
   {
    "duration": 17,
    "start_time": "2022-05-09T07:39:36.372Z"
   },
   {
    "duration": 63,
    "start_time": "2022-05-09T07:39:36.391Z"
   },
   {
    "duration": 54,
    "start_time": "2022-05-09T07:39:36.474Z"
   },
   {
    "duration": 965,
    "start_time": "2022-05-09T07:39:36.530Z"
   },
   {
    "duration": 4,
    "start_time": "2022-05-09T07:39:37.498Z"
   },
   {
    "duration": 2,
    "start_time": "2022-05-09T07:40:25.153Z"
   },
   {
    "duration": 142,
    "start_time": "2022-05-09T07:40:25.157Z"
   },
   {
    "duration": 123,
    "start_time": "2022-05-09T07:40:25.301Z"
   },
   {
    "duration": 6,
    "start_time": "2022-05-09T07:40:25.426Z"
   },
   {
    "duration": 13,
    "start_time": "2022-05-09T07:40:25.434Z"
   },
   {
    "duration": 16,
    "start_time": "2022-05-09T07:40:25.449Z"
   },
   {
    "duration": 16,
    "start_time": "2022-05-09T07:40:25.467Z"
   },
   {
    "duration": 6,
    "start_time": "2022-05-09T07:40:25.485Z"
   },
   {
    "duration": 28,
    "start_time": "2022-05-09T07:40:25.493Z"
   },
   {
    "duration": 23,
    "start_time": "2022-05-09T07:40:25.522Z"
   },
   {
    "duration": 37,
    "start_time": "2022-05-09T07:40:25.546Z"
   },
   {
    "duration": 57,
    "start_time": "2022-05-09T07:40:25.585Z"
   },
   {
    "duration": 88,
    "start_time": "2022-05-09T07:40:25.643Z"
   },
   {
    "duration": 64,
    "start_time": "2022-05-09T07:40:25.733Z"
   },
   {
    "duration": 52,
    "start_time": "2022-05-09T07:40:25.798Z"
   },
   {
    "duration": 29,
    "start_time": "2022-05-09T07:40:25.851Z"
   },
   {
    "duration": 70,
    "start_time": "2022-05-09T07:40:25.882Z"
   },
   {
    "duration": 80,
    "start_time": "2022-05-09T07:40:25.954Z"
   },
   {
    "duration": 971,
    "start_time": "2022-05-09T07:40:26.036Z"
   },
   {
    "duration": 3,
    "start_time": "2022-05-09T07:40:27.009Z"
   },
   {
    "duration": 2,
    "start_time": "2022-05-09T07:41:05.696Z"
   },
   {
    "duration": 143,
    "start_time": "2022-05-09T07:41:05.700Z"
   },
   {
    "duration": 124,
    "start_time": "2022-05-09T07:41:05.845Z"
   },
   {
    "duration": 6,
    "start_time": "2022-05-09T07:41:05.971Z"
   },
   {
    "duration": 10,
    "start_time": "2022-05-09T07:41:05.979Z"
   },
   {
    "duration": 10,
    "start_time": "2022-05-09T07:41:05.991Z"
   },
   {
    "duration": 17,
    "start_time": "2022-05-09T07:41:06.002Z"
   },
   {
    "duration": 5,
    "start_time": "2022-05-09T07:41:06.021Z"
   },
   {
    "duration": 26,
    "start_time": "2022-05-09T07:41:06.028Z"
   },
   {
    "duration": 38,
    "start_time": "2022-05-09T07:41:06.056Z"
   },
   {
    "duration": 25,
    "start_time": "2022-05-09T07:41:06.095Z"
   },
   {
    "duration": 78,
    "start_time": "2022-05-09T07:41:06.121Z"
   },
   {
    "duration": 74,
    "start_time": "2022-05-09T07:41:06.201Z"
   },
   {
    "duration": 56,
    "start_time": "2022-05-09T07:41:06.278Z"
   },
   {
    "duration": 65,
    "start_time": "2022-05-09T07:41:06.335Z"
   },
   {
    "duration": 15,
    "start_time": "2022-05-09T07:41:06.401Z"
   },
   {
    "duration": 83,
    "start_time": "2022-05-09T07:41:06.418Z"
   },
   {
    "duration": 50,
    "start_time": "2022-05-09T07:41:06.503Z"
   },
   {
    "duration": 937,
    "start_time": "2022-05-09T07:41:06.555Z"
   },
   {
    "duration": 4,
    "start_time": "2022-05-09T07:41:07.494Z"
   },
   {
    "duration": 3,
    "start_time": "2022-05-09T07:41:48.824Z"
   },
   {
    "duration": 149,
    "start_time": "2022-05-09T07:41:48.828Z"
   },
   {
    "duration": 123,
    "start_time": "2022-05-09T07:41:48.979Z"
   },
   {
    "duration": 6,
    "start_time": "2022-05-09T07:41:49.104Z"
   },
   {
    "duration": 5,
    "start_time": "2022-05-09T07:41:49.112Z"
   },
   {
    "duration": 8,
    "start_time": "2022-05-09T07:41:49.119Z"
   },
   {
    "duration": 15,
    "start_time": "2022-05-09T07:41:49.128Z"
   },
   {
    "duration": 10,
    "start_time": "2022-05-09T07:41:49.145Z"
   },
   {
    "duration": 24,
    "start_time": "2022-05-09T07:41:49.174Z"
   },
   {
    "duration": 22,
    "start_time": "2022-05-09T07:41:49.200Z"
   },
   {
    "duration": 50,
    "start_time": "2022-05-09T07:41:49.224Z"
   },
   {
    "duration": 58,
    "start_time": "2022-05-09T07:41:49.276Z"
   },
   {
    "duration": 85,
    "start_time": "2022-05-09T07:41:49.336Z"
   },
   {
    "duration": 60,
    "start_time": "2022-05-09T07:41:49.423Z"
   },
   {
    "duration": 48,
    "start_time": "2022-05-09T07:41:49.484Z"
   },
   {
    "duration": 14,
    "start_time": "2022-05-09T07:41:49.533Z"
   },
   {
    "duration": 83,
    "start_time": "2022-05-09T07:41:49.549Z"
   },
   {
    "duration": 74,
    "start_time": "2022-05-09T07:41:49.633Z"
   },
   {
    "duration": 926,
    "start_time": "2022-05-09T07:41:49.708Z"
   },
   {
    "duration": 9,
    "start_time": "2022-05-09T07:41:50.636Z"
   },
   {
    "duration": 2,
    "start_time": "2022-05-09T07:42:14.613Z"
   },
   {
    "duration": 150,
    "start_time": "2022-05-09T07:42:14.617Z"
   },
   {
    "duration": 117,
    "start_time": "2022-05-09T07:42:14.769Z"
   },
   {
    "duration": 7,
    "start_time": "2022-05-09T07:42:14.888Z"
   },
   {
    "duration": 8,
    "start_time": "2022-05-09T07:42:14.897Z"
   },
   {
    "duration": 8,
    "start_time": "2022-05-09T07:42:14.906Z"
   },
   {
    "duration": 14,
    "start_time": "2022-05-09T07:42:14.915Z"
   },
   {
    "duration": 6,
    "start_time": "2022-05-09T07:42:14.931Z"
   },
   {
    "duration": 52,
    "start_time": "2022-05-09T07:42:14.939Z"
   },
   {
    "duration": 43,
    "start_time": "2022-05-09T07:42:14.993Z"
   },
   {
    "duration": 29,
    "start_time": "2022-05-09T07:42:15.038Z"
   },
   {
    "duration": 62,
    "start_time": "2022-05-09T07:42:15.069Z"
   },
   {
    "duration": 90,
    "start_time": "2022-05-09T07:42:15.132Z"
   },
   {
    "duration": 67,
    "start_time": "2022-05-09T07:42:15.225Z"
   },
   {
    "duration": 49,
    "start_time": "2022-05-09T07:42:15.294Z"
   },
   {
    "duration": 34,
    "start_time": "2022-05-09T07:42:15.344Z"
   },
   {
    "duration": 71,
    "start_time": "2022-05-09T07:42:15.380Z"
   },
   {
    "duration": 77,
    "start_time": "2022-05-09T07:42:15.453Z"
   },
   {
    "duration": 937,
    "start_time": "2022-05-09T07:42:15.532Z"
   },
   {
    "duration": 250,
    "start_time": "2022-05-09T07:42:16.472Z"
   },
   {
    "duration": 2,
    "start_time": "2022-05-09T07:43:14.118Z"
   },
   {
    "duration": 147,
    "start_time": "2022-05-09T07:43:14.123Z"
   },
   {
    "duration": 119,
    "start_time": "2022-05-09T07:43:14.272Z"
   },
   {
    "duration": 5,
    "start_time": "2022-05-09T07:43:14.394Z"
   },
   {
    "duration": 4,
    "start_time": "2022-05-09T07:43:14.402Z"
   },
   {
    "duration": 6,
    "start_time": "2022-05-09T07:43:14.408Z"
   },
   {
    "duration": 16,
    "start_time": "2022-05-09T07:43:14.415Z"
   },
   {
    "duration": 21,
    "start_time": "2022-05-09T07:43:14.432Z"
   },
   {
    "duration": 38,
    "start_time": "2022-05-09T07:43:14.455Z"
   },
   {
    "duration": 25,
    "start_time": "2022-05-09T07:43:14.495Z"
   },
   {
    "duration": 25,
    "start_time": "2022-05-09T07:43:14.522Z"
   },
   {
    "duration": 83,
    "start_time": "2022-05-09T07:43:14.549Z"
   },
   {
    "duration": 85,
    "start_time": "2022-05-09T07:43:14.633Z"
   },
   {
    "duration": 66,
    "start_time": "2022-05-09T07:43:14.721Z"
   },
   {
    "duration": 50,
    "start_time": "2022-05-09T07:43:14.789Z"
   },
   {
    "duration": 33,
    "start_time": "2022-05-09T07:43:14.840Z"
   },
   {
    "duration": 71,
    "start_time": "2022-05-09T07:43:14.875Z"
   },
   {
    "duration": 87,
    "start_time": "2022-05-09T07:43:14.947Z"
   },
   {
    "duration": 920,
    "start_time": "2022-05-09T07:43:15.035Z"
   },
   {
    "duration": 95,
    "start_time": "2022-05-09T07:43:15.956Z"
   },
   {
    "duration": 3,
    "start_time": "2022-05-09T07:43:31.810Z"
   },
   {
    "duration": 158,
    "start_time": "2022-05-09T07:43:31.815Z"
   },
   {
    "duration": 128,
    "start_time": "2022-05-09T07:43:31.975Z"
   },
   {
    "duration": 6,
    "start_time": "2022-05-09T07:43:32.106Z"
   },
   {
    "duration": 18,
    "start_time": "2022-05-09T07:43:32.114Z"
   },
   {
    "duration": 22,
    "start_time": "2022-05-09T07:43:32.133Z"
   },
   {
    "duration": 18,
    "start_time": "2022-05-09T07:43:32.156Z"
   },
   {
    "duration": 10,
    "start_time": "2022-05-09T07:43:32.176Z"
   },
   {
    "duration": 32,
    "start_time": "2022-05-09T07:43:32.188Z"
   },
   {
    "duration": 23,
    "start_time": "2022-05-09T07:43:32.223Z"
   },
   {
    "duration": 29,
    "start_time": "2022-05-09T07:43:32.248Z"
   },
   {
    "duration": 66,
    "start_time": "2022-05-09T07:43:32.279Z"
   },
   {
    "duration": 88,
    "start_time": "2022-05-09T07:43:32.347Z"
   },
   {
    "duration": 69,
    "start_time": "2022-05-09T07:43:32.437Z"
   },
   {
    "duration": 49,
    "start_time": "2022-05-09T07:43:32.507Z"
   },
   {
    "duration": 28,
    "start_time": "2022-05-09T07:43:32.558Z"
   },
   {
    "duration": 70,
    "start_time": "2022-05-09T07:43:32.588Z"
   },
   {
    "duration": 68,
    "start_time": "2022-05-09T07:43:32.674Z"
   },
   {
    "duration": 939,
    "start_time": "2022-05-09T07:43:32.743Z"
   },
   {
    "duration": 121,
    "start_time": "2022-05-09T07:43:33.683Z"
   },
   {
    "duration": 3,
    "start_time": "2022-05-09T07:43:53.566Z"
   },
   {
    "duration": 160,
    "start_time": "2022-05-09T07:43:53.571Z"
   },
   {
    "duration": 130,
    "start_time": "2022-05-09T07:43:53.733Z"
   },
   {
    "duration": 11,
    "start_time": "2022-05-09T07:43:53.866Z"
   },
   {
    "duration": 6,
    "start_time": "2022-05-09T07:43:53.878Z"
   },
   {
    "duration": 9,
    "start_time": "2022-05-09T07:43:53.885Z"
   },
   {
    "duration": 17,
    "start_time": "2022-05-09T07:43:53.896Z"
   },
   {
    "duration": 7,
    "start_time": "2022-05-09T07:43:53.915Z"
   },
   {
    "duration": 25,
    "start_time": "2022-05-09T07:43:53.925Z"
   },
   {
    "duration": 44,
    "start_time": "2022-05-09T07:43:53.953Z"
   },
   {
    "duration": 24,
    "start_time": "2022-05-09T07:43:53.999Z"
   },
   {
    "duration": 89,
    "start_time": "2022-05-09T07:43:54.025Z"
   },
   {
    "duration": 85,
    "start_time": "2022-05-09T07:43:54.116Z"
   },
   {
    "duration": 59,
    "start_time": "2022-05-09T07:43:54.203Z"
   },
   {
    "duration": 49,
    "start_time": "2022-05-09T07:43:54.274Z"
   },
   {
    "duration": 15,
    "start_time": "2022-05-09T07:43:54.325Z"
   },
   {
    "duration": 88,
    "start_time": "2022-05-09T07:43:54.341Z"
   },
   {
    "duration": 80,
    "start_time": "2022-05-09T07:43:54.431Z"
   },
   {
    "duration": 910,
    "start_time": "2022-05-09T07:43:54.513Z"
   },
   {
    "duration": 251,
    "start_time": "2022-05-09T07:43:55.425Z"
   },
   {
    "duration": 4,
    "start_time": "2022-05-09T07:45:42.946Z"
   },
   {
    "duration": 167,
    "start_time": "2022-05-09T07:45:42.952Z"
   },
   {
    "duration": 128,
    "start_time": "2022-05-09T07:45:43.121Z"
   },
   {
    "duration": 7,
    "start_time": "2022-05-09T07:45:43.251Z"
   },
   {
    "duration": 8,
    "start_time": "2022-05-09T07:45:43.259Z"
   },
   {
    "duration": 4,
    "start_time": "2022-05-09T07:45:43.273Z"
   },
   {
    "duration": 19,
    "start_time": "2022-05-09T07:45:43.279Z"
   },
   {
    "duration": 11,
    "start_time": "2022-05-09T07:45:43.299Z"
   },
   {
    "duration": 32,
    "start_time": "2022-05-09T07:45:43.312Z"
   },
   {
    "duration": 36,
    "start_time": "2022-05-09T07:45:43.348Z"
   },
   {
    "duration": 32,
    "start_time": "2022-05-09T07:45:43.386Z"
   },
   {
    "duration": 70,
    "start_time": "2022-05-09T07:45:43.420Z"
   },
   {
    "duration": 85,
    "start_time": "2022-05-09T07:45:43.493Z"
   },
   {
    "duration": 58,
    "start_time": "2022-05-09T07:45:43.580Z"
   },
   {
    "duration": 64,
    "start_time": "2022-05-09T07:45:43.640Z"
   },
   {
    "duration": 16,
    "start_time": "2022-05-09T07:45:43.706Z"
   },
   {
    "duration": 92,
    "start_time": "2022-05-09T07:45:43.724Z"
   },
   {
    "duration": 71,
    "start_time": "2022-05-09T07:45:43.818Z"
   },
   {
    "duration": 889,
    "start_time": "2022-05-09T07:45:43.891Z"
   },
   {
    "duration": 8,
    "start_time": "2022-05-09T07:45:44.782Z"
   },
   {
    "duration": 2,
    "start_time": "2022-05-09T07:46:58.900Z"
   },
   {
    "duration": 147,
    "start_time": "2022-05-09T07:46:58.904Z"
   },
   {
    "duration": 125,
    "start_time": "2022-05-09T07:46:59.053Z"
   },
   {
    "duration": 7,
    "start_time": "2022-05-09T07:46:59.179Z"
   },
   {
    "duration": 4,
    "start_time": "2022-05-09T07:46:59.187Z"
   },
   {
    "duration": 6,
    "start_time": "2022-05-09T07:46:59.193Z"
   },
   {
    "duration": 15,
    "start_time": "2022-05-09T07:46:59.200Z"
   },
   {
    "duration": 7,
    "start_time": "2022-05-09T07:46:59.216Z"
   },
   {
    "duration": 50,
    "start_time": "2022-05-09T07:46:59.225Z"
   },
   {
    "duration": 24,
    "start_time": "2022-05-09T07:46:59.277Z"
   },
   {
    "duration": 25,
    "start_time": "2022-05-09T07:46:59.303Z"
   },
   {
    "duration": 84,
    "start_time": "2022-05-09T07:46:59.329Z"
   },
   {
    "duration": 78,
    "start_time": "2022-05-09T07:46:59.414Z"
   },
   {
    "duration": 64,
    "start_time": "2022-05-09T07:46:59.493Z"
   },
   {
    "duration": 73,
    "start_time": "2022-05-09T07:46:59.559Z"
   },
   {
    "duration": 15,
    "start_time": "2022-05-09T07:46:59.633Z"
   },
   {
    "duration": 86,
    "start_time": "2022-05-09T07:46:59.650Z"
   },
   {
    "duration": 75,
    "start_time": "2022-05-09T07:46:59.738Z"
   },
   {
    "duration": 905,
    "start_time": "2022-05-09T07:46:59.814Z"
   },
   {
    "duration": 252,
    "start_time": "2022-05-09T07:47:00.721Z"
   },
   {
    "duration": 2,
    "start_time": "2022-05-09T08:05:29.759Z"
   },
   {
    "duration": 155,
    "start_time": "2022-05-09T08:05:29.765Z"
   },
   {
    "duration": 133,
    "start_time": "2022-05-09T08:05:29.922Z"
   },
   {
    "duration": 6,
    "start_time": "2022-05-09T08:05:30.057Z"
   },
   {
    "duration": 6,
    "start_time": "2022-05-09T08:05:30.073Z"
   },
   {
    "duration": 6,
    "start_time": "2022-05-09T08:05:30.081Z"
   },
   {
    "duration": 16,
    "start_time": "2022-05-09T08:05:30.089Z"
   },
   {
    "duration": 10,
    "start_time": "2022-05-09T08:05:30.107Z"
   },
   {
    "duration": 31,
    "start_time": "2022-05-09T08:05:30.119Z"
   },
   {
    "duration": 41,
    "start_time": "2022-05-09T08:05:30.152Z"
   },
   {
    "duration": 27,
    "start_time": "2022-05-09T08:05:30.194Z"
   },
   {
    "duration": 80,
    "start_time": "2022-05-09T08:05:30.223Z"
   },
   {
    "duration": 79,
    "start_time": "2022-05-09T08:05:30.305Z"
   },
   {
    "duration": 57,
    "start_time": "2022-05-09T08:05:30.386Z"
   },
   {
    "duration": 61,
    "start_time": "2022-05-09T08:05:30.446Z"
   },
   {
    "duration": 15,
    "start_time": "2022-05-09T08:05:30.509Z"
   },
   {
    "duration": 86,
    "start_time": "2022-05-09T08:05:30.526Z"
   },
   {
    "duration": 66,
    "start_time": "2022-05-09T08:05:30.613Z"
   },
   {
    "duration": 887,
    "start_time": "2022-05-09T08:05:30.680Z"
   },
   {
    "duration": 255,
    "start_time": "2022-05-09T08:05:31.572Z"
   },
   {
    "duration": 2,
    "start_time": "2022-05-09T08:06:16.475Z"
   },
   {
    "duration": 152,
    "start_time": "2022-05-09T08:06:16.479Z"
   },
   {
    "duration": 126,
    "start_time": "2022-05-09T08:06:16.633Z"
   },
   {
    "duration": 12,
    "start_time": "2022-05-09T08:06:16.761Z"
   },
   {
    "duration": 5,
    "start_time": "2022-05-09T08:06:16.775Z"
   },
   {
    "duration": 10,
    "start_time": "2022-05-09T08:06:16.781Z"
   },
   {
    "duration": 23,
    "start_time": "2022-05-09T08:06:16.793Z"
   },
   {
    "duration": 8,
    "start_time": "2022-05-09T08:06:16.818Z"
   },
   {
    "duration": 28,
    "start_time": "2022-05-09T08:06:16.828Z"
   },
   {
    "duration": 28,
    "start_time": "2022-05-09T08:06:16.859Z"
   },
   {
    "duration": 23,
    "start_time": "2022-05-09T08:06:16.889Z"
   },
   {
    "duration": 77,
    "start_time": "2022-05-09T08:06:16.914Z"
   },
   {
    "duration": 73,
    "start_time": "2022-05-09T08:06:16.992Z"
   },
   {
    "duration": 56,
    "start_time": "2022-05-09T08:06:17.074Z"
   },
   {
    "duration": 61,
    "start_time": "2022-05-09T08:06:17.132Z"
   },
   {
    "duration": 14,
    "start_time": "2022-05-09T08:06:17.194Z"
   },
   {
    "duration": 86,
    "start_time": "2022-05-09T08:06:17.210Z"
   },
   {
    "duration": 55,
    "start_time": "2022-05-09T08:06:17.298Z"
   },
   {
    "duration": 887,
    "start_time": "2022-05-09T08:06:17.355Z"
   },
   {
    "duration": 248,
    "start_time": "2022-05-09T08:06:18.243Z"
   },
   {
    "duration": 344,
    "start_time": "2022-05-10T04:22:55.439Z"
   },
   {
    "duration": 144,
    "start_time": "2022-05-10T04:22:55.785Z"
   },
   {
    "duration": 125,
    "start_time": "2022-05-10T04:22:55.930Z"
   },
   {
    "duration": 7,
    "start_time": "2022-05-10T04:22:56.057Z"
   },
   {
    "duration": 4,
    "start_time": "2022-05-10T04:22:56.065Z"
   },
   {
    "duration": 6,
    "start_time": "2022-05-10T04:22:56.071Z"
   },
   {
    "duration": 34,
    "start_time": "2022-05-10T04:22:56.079Z"
   },
   {
    "duration": 6,
    "start_time": "2022-05-10T04:22:56.114Z"
   },
   {
    "duration": 39,
    "start_time": "2022-05-10T04:22:56.121Z"
   },
   {
    "duration": 51,
    "start_time": "2022-05-10T04:22:56.163Z"
   },
   {
    "duration": 37,
    "start_time": "2022-05-10T04:22:56.216Z"
   },
   {
    "duration": 97,
    "start_time": "2022-05-10T04:22:56.255Z"
   },
   {
    "duration": 114,
    "start_time": "2022-05-10T04:22:56.354Z"
   },
   {
    "duration": 87,
    "start_time": "2022-05-10T04:22:56.470Z"
   },
   {
    "duration": 86,
    "start_time": "2022-05-10T04:22:56.559Z"
   },
   {
    "duration": 20,
    "start_time": "2022-05-10T04:22:56.647Z"
   },
   {
    "duration": 110,
    "start_time": "2022-05-10T04:22:56.668Z"
   },
   {
    "duration": 93,
    "start_time": "2022-05-10T04:22:56.780Z"
   },
   {
    "duration": 1109,
    "start_time": "2022-05-10T04:22:56.875Z"
   },
   {
    "duration": 96,
    "start_time": "2022-05-10T04:22:57.986Z"
   },
   {
    "duration": 3,
    "start_time": "2022-05-10T04:23:38.492Z"
   },
   {
    "duration": 197,
    "start_time": "2022-05-10T04:23:38.497Z"
   },
   {
    "duration": 190,
    "start_time": "2022-05-10T04:23:38.697Z"
   },
   {
    "duration": 12,
    "start_time": "2022-05-10T04:23:38.889Z"
   },
   {
    "duration": 8,
    "start_time": "2022-05-10T04:23:38.904Z"
   },
   {
    "duration": 12,
    "start_time": "2022-05-10T04:23:38.913Z"
   },
   {
    "duration": 18,
    "start_time": "2022-05-10T04:23:38.926Z"
   },
   {
    "duration": 8,
    "start_time": "2022-05-10T04:23:38.945Z"
   },
   {
    "duration": 54,
    "start_time": "2022-05-10T04:23:38.954Z"
   },
   {
    "duration": 33,
    "start_time": "2022-05-10T04:23:39.009Z"
   },
   {
    "duration": 37,
    "start_time": "2022-05-10T04:23:39.045Z"
   },
   {
    "duration": 101,
    "start_time": "2022-05-10T04:23:39.084Z"
   },
   {
    "duration": 108,
    "start_time": "2022-05-10T04:23:39.187Z"
   },
   {
    "duration": 79,
    "start_time": "2022-05-10T04:23:39.300Z"
   },
   {
    "duration": 85,
    "start_time": "2022-05-10T04:23:39.381Z"
   },
   {
    "duration": 18,
    "start_time": "2022-05-10T04:23:39.467Z"
   },
   {
    "duration": 62,
    "start_time": "2022-05-10T04:23:39.500Z"
   },
   {
    "duration": 96,
    "start_time": "2022-05-10T04:23:39.564Z"
   },
   {
    "duration": 1139,
    "start_time": "2022-05-10T04:23:39.661Z"
   },
   {
    "duration": 305,
    "start_time": "2022-05-10T04:23:40.802Z"
   },
   {
    "duration": 2,
    "start_time": "2022-05-10T04:24:14.395Z"
   },
   {
    "duration": 136,
    "start_time": "2022-05-10T04:24:14.399Z"
   },
   {
    "duration": 109,
    "start_time": "2022-05-10T04:24:14.537Z"
   },
   {
    "duration": 6,
    "start_time": "2022-05-10T04:24:14.647Z"
   },
   {
    "duration": 8,
    "start_time": "2022-05-10T04:24:14.655Z"
   },
   {
    "duration": 14,
    "start_time": "2022-05-10T04:24:14.664Z"
   },
   {
    "duration": 23,
    "start_time": "2022-05-10T04:24:14.679Z"
   },
   {
    "duration": 7,
    "start_time": "2022-05-10T04:24:14.703Z"
   },
   {
    "duration": 27,
    "start_time": "2022-05-10T04:24:14.712Z"
   },
   {
    "duration": 24,
    "start_time": "2022-05-10T04:24:14.740Z"
   },
   {
    "duration": 34,
    "start_time": "2022-05-10T04:24:14.767Z"
   },
   {
    "duration": 56,
    "start_time": "2022-05-10T04:24:14.802Z"
   },
   {
    "duration": 76,
    "start_time": "2022-05-10T04:24:14.859Z"
   },
   {
    "duration": 50,
    "start_time": "2022-05-10T04:24:14.937Z"
   },
   {
    "duration": 47,
    "start_time": "2022-05-10T04:24:15.000Z"
   },
   {
    "duration": 13,
    "start_time": "2022-05-10T04:24:15.049Z"
   },
   {
    "duration": 80,
    "start_time": "2022-05-10T04:24:15.064Z"
   },
   {
    "duration": 62,
    "start_time": "2022-05-10T04:24:15.146Z"
   },
   {
    "duration": 835,
    "start_time": "2022-05-10T04:24:15.209Z"
   },
   {
    "duration": 9,
    "start_time": "2022-05-10T04:24:16.046Z"
   },
   {
    "duration": 3,
    "start_time": "2022-05-10T04:24:40.122Z"
   },
   {
    "duration": 136,
    "start_time": "2022-05-10T04:24:40.127Z"
   },
   {
    "duration": 111,
    "start_time": "2022-05-10T04:24:40.265Z"
   },
   {
    "duration": 5,
    "start_time": "2022-05-10T04:24:40.378Z"
   },
   {
    "duration": 4,
    "start_time": "2022-05-10T04:24:40.386Z"
   },
   {
    "duration": 8,
    "start_time": "2022-05-10T04:24:40.400Z"
   },
   {
    "duration": 14,
    "start_time": "2022-05-10T04:24:40.410Z"
   },
   {
    "duration": 5,
    "start_time": "2022-05-10T04:24:40.426Z"
   },
   {
    "duration": 25,
    "start_time": "2022-05-10T04:24:40.432Z"
   },
   {
    "duration": 42,
    "start_time": "2022-05-10T04:24:40.459Z"
   },
   {
    "duration": 22,
    "start_time": "2022-05-10T04:24:40.503Z"
   },
   {
    "duration": 54,
    "start_time": "2022-05-10T04:24:40.527Z"
   },
   {
    "duration": 65,
    "start_time": "2022-05-10T04:24:40.599Z"
   },
   {
    "duration": 64,
    "start_time": "2022-05-10T04:24:40.668Z"
   },
   {
    "duration": 44,
    "start_time": "2022-05-10T04:24:40.734Z"
   },
   {
    "duration": 28,
    "start_time": "2022-05-10T04:24:40.779Z"
   },
   {
    "duration": 63,
    "start_time": "2022-05-10T04:24:40.809Z"
   },
   {
    "duration": 68,
    "start_time": "2022-05-10T04:24:40.874Z"
   },
   {
    "duration": 849,
    "start_time": "2022-05-10T04:24:40.943Z"
   },
   {
    "duration": 236,
    "start_time": "2022-05-10T04:24:41.793Z"
   },
   {
    "duration": 2,
    "start_time": "2022-05-10T06:05:22.965Z"
   },
   {
    "duration": 141,
    "start_time": "2022-05-10T06:05:22.969Z"
   },
   {
    "duration": 127,
    "start_time": "2022-05-10T06:05:23.112Z"
   },
   {
    "duration": 6,
    "start_time": "2022-05-10T06:05:23.241Z"
   },
   {
    "duration": 4,
    "start_time": "2022-05-10T06:05:23.249Z"
   },
   {
    "duration": 6,
    "start_time": "2022-05-10T06:05:23.255Z"
   },
   {
    "duration": 16,
    "start_time": "2022-05-10T06:05:23.263Z"
   },
   {
    "duration": 5,
    "start_time": "2022-05-10T06:05:23.300Z"
   },
   {
    "duration": 25,
    "start_time": "2022-05-10T06:05:23.306Z"
   },
   {
    "duration": 21,
    "start_time": "2022-05-10T06:05:23.354Z"
   },
   {
    "duration": 27,
    "start_time": "2022-05-10T06:05:23.377Z"
   },
   {
    "duration": 57,
    "start_time": "2022-05-10T06:05:23.406Z"
   },
   {
    "duration": 98,
    "start_time": "2022-05-10T06:05:23.465Z"
   },
   {
    "duration": 67,
    "start_time": "2022-05-10T06:05:23.565Z"
   },
   {
    "duration": 45,
    "start_time": "2022-05-10T06:05:23.633Z"
   },
   {
    "duration": 20,
    "start_time": "2022-05-10T06:05:23.680Z"
   },
   {
    "duration": 67,
    "start_time": "2022-05-10T06:05:23.702Z"
   },
   {
    "duration": 61,
    "start_time": "2022-05-10T06:05:23.771Z"
   },
   {
    "duration": 342,
    "start_time": "2022-05-10T06:05:23.834Z"
   },
   {
    "duration": 2,
    "start_time": "2022-05-10T06:06:23.184Z"
   },
   {
    "duration": 152,
    "start_time": "2022-05-10T06:06:23.188Z"
   },
   {
    "duration": 118,
    "start_time": "2022-05-10T06:06:23.342Z"
   },
   {
    "duration": 5,
    "start_time": "2022-05-10T06:06:23.462Z"
   },
   {
    "duration": 8,
    "start_time": "2022-05-10T06:06:23.469Z"
   },
   {
    "duration": 9,
    "start_time": "2022-05-10T06:06:23.479Z"
   },
   {
    "duration": 13,
    "start_time": "2022-05-10T06:06:23.500Z"
   },
   {
    "duration": 5,
    "start_time": "2022-05-10T06:06:23.515Z"
   },
   {
    "duration": 28,
    "start_time": "2022-05-10T06:06:23.521Z"
   },
   {
    "duration": 23,
    "start_time": "2022-05-10T06:06:23.551Z"
   },
   {
    "duration": 44,
    "start_time": "2022-05-10T06:06:23.577Z"
   },
   {
    "duration": 55,
    "start_time": "2022-05-10T06:06:23.623Z"
   },
   {
    "duration": 83,
    "start_time": "2022-05-10T06:06:23.680Z"
   },
   {
    "duration": 69,
    "start_time": "2022-05-10T06:06:23.764Z"
   },
   {
    "duration": 82,
    "start_time": "2022-05-10T06:06:23.835Z"
   },
   {
    "duration": 22,
    "start_time": "2022-05-10T06:06:23.919Z"
   },
   {
    "duration": 122,
    "start_time": "2022-05-10T06:06:23.943Z"
   },
   {
    "duration": 93,
    "start_time": "2022-05-10T06:06:24.067Z"
   },
   {
    "duration": 1330,
    "start_time": "2022-05-10T06:06:24.162Z"
   },
   {
    "duration": 3,
    "start_time": "2022-05-10T06:06:55.620Z"
   },
   {
    "duration": 146,
    "start_time": "2022-05-10T06:06:55.625Z"
   },
   {
    "duration": 135,
    "start_time": "2022-05-10T06:06:55.772Z"
   },
   {
    "duration": 8,
    "start_time": "2022-05-10T06:06:55.908Z"
   },
   {
    "duration": 5,
    "start_time": "2022-05-10T06:06:55.918Z"
   },
   {
    "duration": 6,
    "start_time": "2022-05-10T06:06:55.924Z"
   },
   {
    "duration": 14,
    "start_time": "2022-05-10T06:06:55.932Z"
   },
   {
    "duration": 11,
    "start_time": "2022-05-10T06:06:55.947Z"
   },
   {
    "duration": 45,
    "start_time": "2022-05-10T06:06:55.959Z"
   },
   {
    "duration": 20,
    "start_time": "2022-05-10T06:06:56.006Z"
   },
   {
    "duration": 23,
    "start_time": "2022-05-10T06:06:56.027Z"
   },
   {
    "duration": 83,
    "start_time": "2022-05-10T06:06:56.051Z"
   },
   {
    "duration": 83,
    "start_time": "2022-05-10T06:06:56.135Z"
   },
   {
    "duration": 51,
    "start_time": "2022-05-10T06:06:56.220Z"
   },
   {
    "duration": 58,
    "start_time": "2022-05-10T06:06:56.273Z"
   },
   {
    "duration": 14,
    "start_time": "2022-05-10T06:06:56.333Z"
   },
   {
    "duration": 88,
    "start_time": "2022-05-10T06:06:56.348Z"
   },
   {
    "duration": 67,
    "start_time": "2022-05-10T06:06:56.438Z"
   },
   {
    "duration": 222,
    "start_time": "2022-05-10T06:06:56.506Z"
   },
   {
    "duration": 2,
    "start_time": "2022-05-10T06:07:47.596Z"
   },
   {
    "duration": 219,
    "start_time": "2022-05-10T06:07:47.601Z"
   },
   {
    "duration": 204,
    "start_time": "2022-05-10T06:07:47.822Z"
   },
   {
    "duration": 8,
    "start_time": "2022-05-10T06:07:48.028Z"
   },
   {
    "duration": 7,
    "start_time": "2022-05-10T06:07:48.038Z"
   },
   {
    "duration": 7,
    "start_time": "2022-05-10T06:07:48.047Z"
   },
   {
    "duration": 22,
    "start_time": "2022-05-10T06:07:48.055Z"
   },
   {
    "duration": 22,
    "start_time": "2022-05-10T06:07:48.079Z"
   },
   {
    "duration": 37,
    "start_time": "2022-05-10T06:07:48.103Z"
   },
   {
    "duration": 35,
    "start_time": "2022-05-10T06:07:48.142Z"
   },
   {
    "duration": 55,
    "start_time": "2022-05-10T06:07:48.179Z"
   },
   {
    "duration": 65,
    "start_time": "2022-05-10T06:07:48.236Z"
   },
   {
    "duration": 64,
    "start_time": "2022-05-10T06:07:48.303Z"
   },
   {
    "duration": 69,
    "start_time": "2022-05-10T06:07:48.368Z"
   },
   {
    "duration": 47,
    "start_time": "2022-05-10T06:07:48.438Z"
   },
   {
    "duration": 24,
    "start_time": "2022-05-10T06:07:48.486Z"
   },
   {
    "duration": 64,
    "start_time": "2022-05-10T06:07:48.512Z"
   },
   {
    "duration": 71,
    "start_time": "2022-05-10T06:07:48.578Z"
   },
   {
    "duration": 821,
    "start_time": "2022-05-10T06:07:48.651Z"
   },
   {
    "duration": 4,
    "start_time": "2022-05-10T06:08:40.327Z"
   },
   {
    "duration": 161,
    "start_time": "2022-05-10T06:08:40.333Z"
   },
   {
    "duration": 117,
    "start_time": "2022-05-10T06:08:40.495Z"
   },
   {
    "duration": 5,
    "start_time": "2022-05-10T06:08:40.614Z"
   },
   {
    "duration": 12,
    "start_time": "2022-05-10T06:08:40.621Z"
   },
   {
    "duration": 9,
    "start_time": "2022-05-10T06:08:40.635Z"
   },
   {
    "duration": 22,
    "start_time": "2022-05-10T06:08:40.645Z"
   },
   {
    "duration": 19,
    "start_time": "2022-05-10T06:08:40.668Z"
   },
   {
    "duration": 28,
    "start_time": "2022-05-10T06:08:40.688Z"
   },
   {
    "duration": 38,
    "start_time": "2022-05-10T06:08:40.718Z"
   },
   {
    "duration": 23,
    "start_time": "2022-05-10T06:08:40.757Z"
   },
   {
    "duration": 62,
    "start_time": "2022-05-10T06:08:40.781Z"
   },
   {
    "duration": 110,
    "start_time": "2022-05-10T06:08:40.845Z"
   },
   {
    "duration": 59,
    "start_time": "2022-05-10T06:08:40.956Z"
   },
   {
    "duration": 43,
    "start_time": "2022-05-10T06:08:41.016Z"
   },
   {
    "duration": 22,
    "start_time": "2022-05-10T06:08:41.061Z"
   },
   {
    "duration": 118,
    "start_time": "2022-05-10T06:08:41.085Z"
   },
   {
    "duration": 85,
    "start_time": "2022-05-10T06:08:41.205Z"
   },
   {
    "duration": 1325,
    "start_time": "2022-05-10T06:08:41.301Z"
   },
   {
    "duration": 2,
    "start_time": "2022-05-10T06:10:46.926Z"
   },
   {
    "duration": 152,
    "start_time": "2022-05-10T06:10:46.930Z"
   },
   {
    "duration": 122,
    "start_time": "2022-05-10T06:10:47.084Z"
   },
   {
    "duration": 5,
    "start_time": "2022-05-10T06:10:47.208Z"
   },
   {
    "duration": 6,
    "start_time": "2022-05-10T06:10:47.215Z"
   },
   {
    "duration": 9,
    "start_time": "2022-05-10T06:10:47.222Z"
   },
   {
    "duration": 15,
    "start_time": "2022-05-10T06:10:47.232Z"
   },
   {
    "duration": 5,
    "start_time": "2022-05-10T06:10:47.249Z"
   },
   {
    "duration": 46,
    "start_time": "2022-05-10T06:10:47.255Z"
   },
   {
    "duration": 33,
    "start_time": "2022-05-10T06:10:47.303Z"
   },
   {
    "duration": 24,
    "start_time": "2022-05-10T06:10:47.338Z"
   },
   {
    "duration": 107,
    "start_time": "2022-05-10T06:10:47.364Z"
   },
   {
    "duration": 82,
    "start_time": "2022-05-10T06:10:47.475Z"
   },
   {
    "duration": 61,
    "start_time": "2022-05-10T06:10:47.559Z"
   },
   {
    "duration": 47,
    "start_time": "2022-05-10T06:10:47.622Z"
   },
   {
    "duration": 31,
    "start_time": "2022-05-10T06:10:47.671Z"
   },
   {
    "duration": 66,
    "start_time": "2022-05-10T06:10:47.704Z"
   },
   {
    "duration": 64,
    "start_time": "2022-05-10T06:10:47.771Z"
   },
   {
    "duration": 871,
    "start_time": "2022-05-10T06:10:47.836Z"
   },
   {
    "duration": 11,
    "start_time": "2022-05-10T06:10:48.708Z"
   },
   {
    "duration": 3,
    "start_time": "2022-05-10T06:11:21.511Z"
   },
   {
    "duration": 148,
    "start_time": "2022-05-10T06:11:21.516Z"
   },
   {
    "duration": 131,
    "start_time": "2022-05-10T06:11:21.670Z"
   },
   {
    "duration": 6,
    "start_time": "2022-05-10T06:11:21.803Z"
   },
   {
    "duration": 6,
    "start_time": "2022-05-10T06:11:21.811Z"
   },
   {
    "duration": 6,
    "start_time": "2022-05-10T06:11:21.819Z"
   },
   {
    "duration": 14,
    "start_time": "2022-05-10T06:11:21.826Z"
   },
   {
    "duration": 6,
    "start_time": "2022-05-10T06:11:21.841Z"
   },
   {
    "duration": 25,
    "start_time": "2022-05-10T06:11:21.848Z"
   },
   {
    "duration": 22,
    "start_time": "2022-05-10T06:11:21.899Z"
   },
   {
    "duration": 22,
    "start_time": "2022-05-10T06:11:21.923Z"
   },
   {
    "duration": 74,
    "start_time": "2022-05-10T06:11:21.947Z"
   },
   {
    "duration": 79,
    "start_time": "2022-05-10T06:11:22.022Z"
   },
   {
    "duration": 52,
    "start_time": "2022-05-10T06:11:22.103Z"
   },
   {
    "duration": 69,
    "start_time": "2022-05-10T06:11:22.157Z"
   },
   {
    "duration": 15,
    "start_time": "2022-05-10T06:11:22.227Z"
   },
   {
    "duration": 74,
    "start_time": "2022-05-10T06:11:22.243Z"
   },
   {
    "duration": 54,
    "start_time": "2022-05-10T06:11:22.319Z"
   },
   {
    "duration": 909,
    "start_time": "2022-05-10T06:11:22.375Z"
   },
   {
    "duration": 21,
    "start_time": "2022-05-10T06:11:23.286Z"
   },
   {
    "duration": 3,
    "start_time": "2022-05-10T06:11:43.802Z"
   },
   {
    "duration": 141,
    "start_time": "2022-05-10T06:11:43.807Z"
   },
   {
    "duration": 115,
    "start_time": "2022-05-10T06:11:43.950Z"
   },
   {
    "duration": 6,
    "start_time": "2022-05-10T06:11:44.066Z"
   },
   {
    "duration": 4,
    "start_time": "2022-05-10T06:11:44.074Z"
   },
   {
    "duration": 22,
    "start_time": "2022-05-10T06:11:44.079Z"
   },
   {
    "duration": 12,
    "start_time": "2022-05-10T06:11:44.102Z"
   },
   {
    "duration": 6,
    "start_time": "2022-05-10T06:11:44.116Z"
   },
   {
    "duration": 25,
    "start_time": "2022-05-10T06:11:44.123Z"
   },
   {
    "duration": 22,
    "start_time": "2022-05-10T06:11:44.150Z"
   },
   {
    "duration": 48,
    "start_time": "2022-05-10T06:11:44.175Z"
   },
   {
    "duration": 53,
    "start_time": "2022-05-10T06:11:44.224Z"
   },
   {
    "duration": 82,
    "start_time": "2022-05-10T06:11:44.279Z"
   },
   {
    "duration": 62,
    "start_time": "2022-05-10T06:11:44.362Z"
   },
   {
    "duration": 44,
    "start_time": "2022-05-10T06:11:44.425Z"
   },
   {
    "duration": 31,
    "start_time": "2022-05-10T06:11:44.470Z"
   },
   {
    "duration": 60,
    "start_time": "2022-05-10T06:11:44.502Z"
   },
   {
    "duration": 67,
    "start_time": "2022-05-10T06:11:44.564Z"
   },
   {
    "duration": 831,
    "start_time": "2022-05-10T06:11:44.633Z"
   },
   {
    "duration": 10,
    "start_time": "2022-05-10T06:11:45.465Z"
   },
   {
    "duration": 3,
    "start_time": "2022-05-10T06:12:39.652Z"
   },
   {
    "duration": 151,
    "start_time": "2022-05-10T06:12:39.657Z"
   },
   {
    "duration": 118,
    "start_time": "2022-05-10T06:12:39.809Z"
   },
   {
    "duration": 5,
    "start_time": "2022-05-10T06:12:39.929Z"
   },
   {
    "duration": 4,
    "start_time": "2022-05-10T06:12:39.937Z"
   },
   {
    "duration": 7,
    "start_time": "2022-05-10T06:12:39.942Z"
   },
   {
    "duration": 13,
    "start_time": "2022-05-10T06:12:39.950Z"
   },
   {
    "duration": 5,
    "start_time": "2022-05-10T06:12:39.965Z"
   },
   {
    "duration": 24,
    "start_time": "2022-05-10T06:12:39.999Z"
   },
   {
    "duration": 22,
    "start_time": "2022-05-10T06:12:40.024Z"
   },
   {
    "duration": 23,
    "start_time": "2022-05-10T06:12:40.047Z"
   },
   {
    "duration": 85,
    "start_time": "2022-05-10T06:12:40.072Z"
   },
   {
    "duration": 86,
    "start_time": "2022-05-10T06:12:40.158Z"
   },
   {
    "duration": 61,
    "start_time": "2022-05-10T06:12:40.246Z"
   },
   {
    "duration": 47,
    "start_time": "2022-05-10T06:12:40.308Z"
   },
   {
    "duration": 14,
    "start_time": "2022-05-10T06:12:40.356Z"
   },
   {
    "duration": 85,
    "start_time": "2022-05-10T06:12:40.372Z"
   },
   {
    "duration": 66,
    "start_time": "2022-05-10T06:12:40.459Z"
   },
   {
    "duration": 836,
    "start_time": "2022-05-10T06:12:40.526Z"
   },
   {
    "duration": 27,
    "start_time": "2022-05-10T06:12:41.363Z"
   },
   {
    "duration": 3,
    "start_time": "2022-05-10T06:13:15.394Z"
   },
   {
    "duration": 153,
    "start_time": "2022-05-10T06:13:15.399Z"
   },
   {
    "duration": 122,
    "start_time": "2022-05-10T06:13:15.553Z"
   },
   {
    "duration": 5,
    "start_time": "2022-05-10T06:13:15.677Z"
   },
   {
    "duration": 17,
    "start_time": "2022-05-10T06:13:15.684Z"
   },
   {
    "duration": 6,
    "start_time": "2022-05-10T06:13:15.702Z"
   },
   {
    "duration": 13,
    "start_time": "2022-05-10T06:13:15.710Z"
   },
   {
    "duration": 5,
    "start_time": "2022-05-10T06:13:15.724Z"
   },
   {
    "duration": 26,
    "start_time": "2022-05-10T06:13:15.730Z"
   },
   {
    "duration": 43,
    "start_time": "2022-05-10T06:13:15.758Z"
   },
   {
    "duration": 25,
    "start_time": "2022-05-10T06:13:15.804Z"
   },
   {
    "duration": 74,
    "start_time": "2022-05-10T06:13:15.831Z"
   },
   {
    "duration": 66,
    "start_time": "2022-05-10T06:13:15.906Z"
   },
   {
    "duration": 65,
    "start_time": "2022-05-10T06:13:15.973Z"
   },
   {
    "duration": 48,
    "start_time": "2022-05-10T06:13:16.040Z"
   },
   {
    "duration": 15,
    "start_time": "2022-05-10T06:13:16.100Z"
   },
   {
    "duration": 84,
    "start_time": "2022-05-10T06:13:16.117Z"
   },
   {
    "duration": 55,
    "start_time": "2022-05-10T06:13:16.203Z"
   },
   {
    "duration": 848,
    "start_time": "2022-05-10T06:13:16.260Z"
   },
   {
    "duration": 191,
    "start_time": "2022-05-10T06:13:17.110Z"
   },
   {
    "duration": 2,
    "start_time": "2022-05-10T06:13:35.591Z"
   },
   {
    "duration": 145,
    "start_time": "2022-05-10T06:13:35.595Z"
   },
   {
    "duration": 122,
    "start_time": "2022-05-10T06:13:35.742Z"
   },
   {
    "duration": 7,
    "start_time": "2022-05-10T06:13:35.866Z"
   },
   {
    "duration": 4,
    "start_time": "2022-05-10T06:13:35.875Z"
   },
   {
    "duration": 6,
    "start_time": "2022-05-10T06:13:35.881Z"
   },
   {
    "duration": 24,
    "start_time": "2022-05-10T06:13:35.889Z"
   },
   {
    "duration": 7,
    "start_time": "2022-05-10T06:13:35.915Z"
   },
   {
    "duration": 40,
    "start_time": "2022-05-10T06:13:35.924Z"
   },
   {
    "duration": 49,
    "start_time": "2022-05-10T06:13:35.966Z"
   },
   {
    "duration": 41,
    "start_time": "2022-05-10T06:13:36.017Z"
   },
   {
    "duration": 108,
    "start_time": "2022-05-10T06:13:36.060Z"
   },
   {
    "duration": 120,
    "start_time": "2022-05-10T06:13:36.171Z"
   },
   {
    "duration": 90,
    "start_time": "2022-05-10T06:13:36.295Z"
   },
   {
    "duration": 91,
    "start_time": "2022-05-10T06:13:36.387Z"
   },
   {
    "duration": 28,
    "start_time": "2022-05-10T06:13:36.480Z"
   },
   {
    "duration": 64,
    "start_time": "2022-05-10T06:13:36.510Z"
   },
   {
    "duration": 66,
    "start_time": "2022-05-10T06:13:36.575Z"
   },
   {
    "duration": 821,
    "start_time": "2022-05-10T06:13:36.643Z"
   },
   {
    "duration": 10,
    "start_time": "2022-05-10T06:13:37.465Z"
   },
   {
    "duration": 3,
    "start_time": "2022-05-10T06:15:36.779Z"
   },
   {
    "duration": 157,
    "start_time": "2022-05-10T06:15:36.783Z"
   },
   {
    "duration": 117,
    "start_time": "2022-05-10T06:15:36.942Z"
   },
   {
    "duration": 6,
    "start_time": "2022-05-10T06:15:37.060Z"
   },
   {
    "duration": 26,
    "start_time": "2022-05-10T06:15:37.068Z"
   },
   {
    "duration": 7,
    "start_time": "2022-05-10T06:15:37.095Z"
   },
   {
    "duration": 23,
    "start_time": "2022-05-10T06:15:37.104Z"
   },
   {
    "duration": 21,
    "start_time": "2022-05-10T06:15:37.128Z"
   },
   {
    "duration": 31,
    "start_time": "2022-05-10T06:15:37.151Z"
   },
   {
    "duration": 22,
    "start_time": "2022-05-10T06:15:37.184Z"
   },
   {
    "duration": 34,
    "start_time": "2022-05-10T06:15:37.208Z"
   },
   {
    "duration": 66,
    "start_time": "2022-05-10T06:15:37.243Z"
   },
   {
    "duration": 71,
    "start_time": "2022-05-10T06:15:37.312Z"
   },
   {
    "duration": 63,
    "start_time": "2022-05-10T06:15:37.385Z"
   },
   {
    "duration": 59,
    "start_time": "2022-05-10T06:15:37.450Z"
   },
   {
    "duration": 14,
    "start_time": "2022-05-10T06:15:37.511Z"
   },
   {
    "duration": 79,
    "start_time": "2022-05-10T06:15:37.527Z"
   },
   {
    "duration": 53,
    "start_time": "2022-05-10T06:15:37.608Z"
   },
   {
    "duration": 808,
    "start_time": "2022-05-10T06:15:37.663Z"
   },
   {
    "duration": 11,
    "start_time": "2022-05-10T06:15:38.472Z"
   },
   {
    "duration": 2,
    "start_time": "2022-05-10T06:16:12.057Z"
   },
   {
    "duration": 150,
    "start_time": "2022-05-10T06:16:12.062Z"
   },
   {
    "duration": 127,
    "start_time": "2022-05-10T06:16:12.214Z"
   },
   {
    "duration": 6,
    "start_time": "2022-05-10T06:16:12.343Z"
   },
   {
    "duration": 11,
    "start_time": "2022-05-10T06:16:12.352Z"
   },
   {
    "duration": 7,
    "start_time": "2022-05-10T06:16:12.364Z"
   },
   {
    "duration": 27,
    "start_time": "2022-05-10T06:16:12.373Z"
   },
   {
    "duration": 4,
    "start_time": "2022-05-10T06:16:12.402Z"
   },
   {
    "duration": 24,
    "start_time": "2022-05-10T06:16:12.407Z"
   },
   {
    "duration": 20,
    "start_time": "2022-05-10T06:16:12.433Z"
   },
   {
    "duration": 48,
    "start_time": "2022-05-10T06:16:12.455Z"
   },
   {
    "duration": 57,
    "start_time": "2022-05-10T06:16:12.504Z"
   },
   {
    "duration": 80,
    "start_time": "2022-05-10T06:16:12.563Z"
   },
   {
    "duration": 67,
    "start_time": "2022-05-10T06:16:12.646Z"
   },
   {
    "duration": 45,
    "start_time": "2022-05-10T06:16:12.715Z"
   },
   {
    "duration": 14,
    "start_time": "2022-05-10T06:16:12.761Z"
   },
   {
    "duration": 81,
    "start_time": "2022-05-10T06:16:12.776Z"
   },
   {
    "duration": 66,
    "start_time": "2022-05-10T06:16:12.859Z"
   },
   {
    "duration": 16,
    "start_time": "2022-05-10T06:16:12.927Z"
   },
   {
    "duration": 2,
    "start_time": "2022-05-10T06:17:38.312Z"
   },
   {
    "duration": 226,
    "start_time": "2022-05-10T06:17:38.317Z"
   },
   {
    "duration": 205,
    "start_time": "2022-05-10T06:17:38.545Z"
   },
   {
    "duration": 8,
    "start_time": "2022-05-10T06:17:38.752Z"
   },
   {
    "duration": 6,
    "start_time": "2022-05-10T06:17:38.763Z"
   },
   {
    "duration": 8,
    "start_time": "2022-05-10T06:17:38.770Z"
   },
   {
    "duration": 29,
    "start_time": "2022-05-10T06:17:38.779Z"
   },
   {
    "duration": 5,
    "start_time": "2022-05-10T06:17:38.810Z"
   },
   {
    "duration": 45,
    "start_time": "2022-05-10T06:17:38.817Z"
   },
   {
    "duration": 53,
    "start_time": "2022-05-10T06:17:38.863Z"
   },
   {
    "duration": 43,
    "start_time": "2022-05-10T06:17:38.918Z"
   },
   {
    "duration": 112,
    "start_time": "2022-05-10T06:17:38.963Z"
   },
   {
    "duration": 126,
    "start_time": "2022-05-10T06:17:39.077Z"
   },
   {
    "duration": 95,
    "start_time": "2022-05-10T06:17:39.206Z"
   },
   {
    "duration": 78,
    "start_time": "2022-05-10T06:17:39.303Z"
   },
   {
    "duration": 33,
    "start_time": "2022-05-10T06:17:39.383Z"
   },
   {
    "duration": 66,
    "start_time": "2022-05-10T06:17:39.417Z"
   },
   {
    "duration": 63,
    "start_time": "2022-05-10T06:17:39.485Z"
   },
   {
    "duration": 229,
    "start_time": "2022-05-10T06:17:39.550Z"
   },
   {
    "duration": 3,
    "start_time": "2022-05-10T06:17:58.515Z"
   },
   {
    "duration": 148,
    "start_time": "2022-05-10T06:17:58.520Z"
   },
   {
    "duration": 118,
    "start_time": "2022-05-10T06:17:58.670Z"
   },
   {
    "duration": 11,
    "start_time": "2022-05-10T06:17:58.790Z"
   },
   {
    "duration": 5,
    "start_time": "2022-05-10T06:17:58.802Z"
   },
   {
    "duration": 5,
    "start_time": "2022-05-10T06:17:58.810Z"
   },
   {
    "duration": 23,
    "start_time": "2022-05-10T06:17:58.817Z"
   },
   {
    "duration": 9,
    "start_time": "2022-05-10T06:17:58.842Z"
   },
   {
    "duration": 25,
    "start_time": "2022-05-10T06:17:58.853Z"
   },
   {
    "duration": 41,
    "start_time": "2022-05-10T06:17:58.881Z"
   },
   {
    "duration": 23,
    "start_time": "2022-05-10T06:17:58.924Z"
   },
   {
    "duration": 87,
    "start_time": "2022-05-10T06:17:58.949Z"
   },
   {
    "duration": 80,
    "start_time": "2022-05-10T06:17:59.037Z"
   },
   {
    "duration": 54,
    "start_time": "2022-05-10T06:17:59.119Z"
   },
   {
    "duration": 63,
    "start_time": "2022-05-10T06:17:59.174Z"
   },
   {
    "duration": 14,
    "start_time": "2022-05-10T06:17:59.239Z"
   },
   {
    "duration": 82,
    "start_time": "2022-05-10T06:17:59.255Z"
   },
   {
    "duration": 62,
    "start_time": "2022-05-10T06:17:59.339Z"
   },
   {
    "duration": 812,
    "start_time": "2022-05-10T06:17:59.403Z"
   },
   {
    "duration": 3,
    "start_time": "2022-05-10T06:19:18.412Z"
   },
   {
    "duration": 149,
    "start_time": "2022-05-10T06:19:18.417Z"
   },
   {
    "duration": 124,
    "start_time": "2022-05-10T06:19:18.568Z"
   },
   {
    "duration": 6,
    "start_time": "2022-05-10T06:19:18.700Z"
   },
   {
    "duration": 4,
    "start_time": "2022-05-10T06:19:18.708Z"
   },
   {
    "duration": 6,
    "start_time": "2022-05-10T06:19:18.714Z"
   },
   {
    "duration": 14,
    "start_time": "2022-05-10T06:19:18.722Z"
   },
   {
    "duration": 9,
    "start_time": "2022-05-10T06:19:18.738Z"
   },
   {
    "duration": 28,
    "start_time": "2022-05-10T06:19:18.749Z"
   },
   {
    "duration": 43,
    "start_time": "2022-05-10T06:19:18.779Z"
   },
   {
    "duration": 24,
    "start_time": "2022-05-10T06:19:18.824Z"
   },
   {
    "duration": 79,
    "start_time": "2022-05-10T06:19:18.850Z"
   },
   {
    "duration": 80,
    "start_time": "2022-05-10T06:19:18.931Z"
   },
   {
    "duration": 51,
    "start_time": "2022-05-10T06:19:19.013Z"
   },
   {
    "duration": 62,
    "start_time": "2022-05-10T06:19:19.066Z"
   },
   {
    "duration": 15,
    "start_time": "2022-05-10T06:19:19.129Z"
   },
   {
    "duration": 73,
    "start_time": "2022-05-10T06:19:19.146Z"
   },
   {
    "duration": 50,
    "start_time": "2022-05-10T06:19:19.221Z"
   },
   {
    "duration": 8,
    "start_time": "2022-05-10T06:19:19.273Z"
   },
   {
    "duration": 3,
    "start_time": "2022-05-10T06:19:37.111Z"
   },
   {
    "duration": 139,
    "start_time": "2022-05-10T06:19:37.116Z"
   },
   {
    "duration": 119,
    "start_time": "2022-05-10T06:19:37.257Z"
   },
   {
    "duration": 6,
    "start_time": "2022-05-10T06:19:37.378Z"
   },
   {
    "duration": 6,
    "start_time": "2022-05-10T06:19:37.386Z"
   },
   {
    "duration": 4,
    "start_time": "2022-05-10T06:19:37.399Z"
   },
   {
    "duration": 13,
    "start_time": "2022-05-10T06:19:37.405Z"
   },
   {
    "duration": 5,
    "start_time": "2022-05-10T06:19:37.419Z"
   },
   {
    "duration": 23,
    "start_time": "2022-05-10T06:19:37.426Z"
   },
   {
    "duration": 21,
    "start_time": "2022-05-10T06:19:37.451Z"
   },
   {
    "duration": 47,
    "start_time": "2022-05-10T06:19:37.473Z"
   },
   {
    "duration": 52,
    "start_time": "2022-05-10T06:19:37.521Z"
   },
   {
    "duration": 82,
    "start_time": "2022-05-10T06:19:37.575Z"
   },
   {
    "duration": 58,
    "start_time": "2022-05-10T06:19:37.659Z"
   },
   {
    "duration": 45,
    "start_time": "2022-05-10T06:19:37.719Z"
   },
   {
    "duration": 14,
    "start_time": "2022-05-10T06:19:37.765Z"
   },
   {
    "duration": 62,
    "start_time": "2022-05-10T06:19:37.800Z"
   },
   {
    "duration": 66,
    "start_time": "2022-05-10T06:19:37.864Z"
   },
   {
    "duration": 10,
    "start_time": "2022-05-10T06:19:37.932Z"
   },
   {
    "duration": 2,
    "start_time": "2022-05-10T06:25:08.565Z"
   },
   {
    "duration": 3,
    "start_time": "2022-05-10T06:38:27.403Z"
   },
   {
    "duration": 149,
    "start_time": "2022-05-10T06:38:27.408Z"
   },
   {
    "duration": 116,
    "start_time": "2022-05-10T06:38:27.559Z"
   },
   {
    "duration": 5,
    "start_time": "2022-05-10T06:38:27.677Z"
   },
   {
    "duration": 10,
    "start_time": "2022-05-10T06:38:27.683Z"
   },
   {
    "duration": 8,
    "start_time": "2022-05-10T06:38:27.694Z"
   },
   {
    "duration": 13,
    "start_time": "2022-05-10T06:38:27.703Z"
   },
   {
    "duration": 8,
    "start_time": "2022-05-10T06:38:27.718Z"
   },
   {
    "duration": 27,
    "start_time": "2022-05-10T06:38:27.727Z"
   },
   {
    "duration": 48,
    "start_time": "2022-05-10T06:38:27.757Z"
   },
   {
    "duration": 40,
    "start_time": "2022-05-10T06:38:27.807Z"
   },
   {
    "duration": 70,
    "start_time": "2022-05-10T06:38:27.849Z"
   },
   {
    "duration": 68,
    "start_time": "2022-05-10T06:38:27.920Z"
   },
   {
    "duration": 52,
    "start_time": "2022-05-10T06:38:28.002Z"
   },
   {
    "duration": 55,
    "start_time": "2022-05-10T06:38:28.056Z"
   },
   {
    "duration": 15,
    "start_time": "2022-05-10T06:38:28.112Z"
   },
   {
    "duration": 81,
    "start_time": "2022-05-10T06:38:28.129Z"
   },
   {
    "duration": 58,
    "start_time": "2022-05-10T06:38:28.211Z"
   },
   {
    "duration": 29,
    "start_time": "2022-05-10T06:38:28.271Z"
   },
   {
    "duration": 13,
    "start_time": "2022-05-10T06:38:28.302Z"
   },
   {
    "duration": 3,
    "start_time": "2022-05-10T06:38:28.317Z"
   },
   {
    "duration": 22,
    "start_time": "2022-05-10T06:38:28.322Z"
   },
   {
    "duration": 2,
    "start_time": "2022-05-10T06:40:16.565Z"
   },
   {
    "duration": 165,
    "start_time": "2022-05-10T06:40:16.569Z"
   },
   {
    "duration": 125,
    "start_time": "2022-05-10T06:40:16.736Z"
   },
   {
    "duration": 6,
    "start_time": "2022-05-10T06:40:16.863Z"
   },
   {
    "duration": 6,
    "start_time": "2022-05-10T06:40:16.871Z"
   },
   {
    "duration": 22,
    "start_time": "2022-05-10T06:40:16.879Z"
   },
   {
    "duration": 14,
    "start_time": "2022-05-10T06:40:16.903Z"
   },
   {
    "duration": 6,
    "start_time": "2022-05-10T06:40:16.919Z"
   },
   {
    "duration": 47,
    "start_time": "2022-05-10T06:40:16.927Z"
   },
   {
    "duration": 59,
    "start_time": "2022-05-10T06:40:16.976Z"
   },
   {
    "duration": 43,
    "start_time": "2022-05-10T06:40:17.037Z"
   },
   {
    "duration": 114,
    "start_time": "2022-05-10T06:40:17.082Z"
   },
   {
    "duration": 72,
    "start_time": "2022-05-10T06:40:17.201Z"
   },
   {
    "duration": 78,
    "start_time": "2022-05-10T06:40:17.276Z"
   },
   {
    "duration": 57,
    "start_time": "2022-05-10T06:40:17.356Z"
   },
   {
    "duration": 16,
    "start_time": "2022-05-10T06:40:17.415Z"
   },
   {
    "duration": 86,
    "start_time": "2022-05-10T06:40:17.432Z"
   },
   {
    "duration": 54,
    "start_time": "2022-05-10T06:40:17.520Z"
   },
   {
    "duration": 28,
    "start_time": "2022-05-10T06:40:17.576Z"
   },
   {
    "duration": 13,
    "start_time": "2022-05-10T06:40:17.606Z"
   },
   {
    "duration": 4,
    "start_time": "2022-05-10T06:40:17.621Z"
   },
   {
    "duration": 29,
    "start_time": "2022-05-10T06:40:17.626Z"
   },
   {
    "duration": 15,
    "start_time": "2022-05-10T06:40:17.657Z"
   },
   {
    "duration": 13,
    "start_time": "2022-05-10T06:41:25.207Z"
   },
   {
    "duration": 3,
    "start_time": "2022-05-10T06:41:43.188Z"
   },
   {
    "duration": 168,
    "start_time": "2022-05-10T06:41:43.194Z"
   },
   {
    "duration": 128,
    "start_time": "2022-05-10T06:41:43.364Z"
   },
   {
    "duration": 10,
    "start_time": "2022-05-10T06:41:43.495Z"
   },
   {
    "duration": 6,
    "start_time": "2022-05-10T06:41:43.507Z"
   },
   {
    "duration": 7,
    "start_time": "2022-05-10T06:41:43.515Z"
   },
   {
    "duration": 20,
    "start_time": "2022-05-10T06:41:43.524Z"
   },
   {
    "duration": 8,
    "start_time": "2022-05-10T06:41:43.546Z"
   },
   {
    "duration": 50,
    "start_time": "2022-05-10T06:41:43.556Z"
   },
   {
    "duration": 23,
    "start_time": "2022-05-10T06:41:43.608Z"
   },
   {
    "duration": 23,
    "start_time": "2022-05-10T06:41:43.632Z"
   },
   {
    "duration": 83,
    "start_time": "2022-05-10T06:41:43.657Z"
   },
   {
    "duration": 75,
    "start_time": "2022-05-10T06:41:43.741Z"
   },
   {
    "duration": 53,
    "start_time": "2022-05-10T06:41:43.818Z"
   },
   {
    "duration": 64,
    "start_time": "2022-05-10T06:41:43.873Z"
   },
   {
    "duration": 15,
    "start_time": "2022-05-10T06:41:43.939Z"
   },
   {
    "duration": 88,
    "start_time": "2022-05-10T06:41:43.956Z"
   },
   {
    "duration": 65,
    "start_time": "2022-05-10T06:41:44.046Z"
   },
   {
    "duration": 11,
    "start_time": "2022-05-10T06:41:44.112Z"
   },
   {
    "duration": 16,
    "start_time": "2022-05-10T06:41:44.126Z"
   },
   {
    "duration": 2,
    "start_time": "2022-05-10T06:41:44.144Z"
   },
   {
    "duration": 24,
    "start_time": "2022-05-10T06:41:44.148Z"
   },
   {
    "duration": 35,
    "start_time": "2022-05-10T06:41:44.174Z"
   },
   {
    "duration": 3,
    "start_time": "2022-05-10T06:42:23.946Z"
   },
   {
    "duration": 228,
    "start_time": "2022-05-10T06:42:23.951Z"
   },
   {
    "duration": 214,
    "start_time": "2022-05-10T06:42:24.181Z"
   },
   {
    "duration": 8,
    "start_time": "2022-05-10T06:42:24.401Z"
   },
   {
    "duration": 7,
    "start_time": "2022-05-10T06:42:24.411Z"
   },
   {
    "duration": 25,
    "start_time": "2022-05-10T06:42:24.419Z"
   },
   {
    "duration": 38,
    "start_time": "2022-05-10T06:42:24.446Z"
   },
   {
    "duration": 16,
    "start_time": "2022-05-10T06:42:24.486Z"
   },
   {
    "duration": 52,
    "start_time": "2022-05-10T06:42:24.506Z"
   },
   {
    "duration": 45,
    "start_time": "2022-05-10T06:42:24.560Z"
   },
   {
    "duration": 27,
    "start_time": "2022-05-10T06:42:24.606Z"
   },
   {
    "duration": 116,
    "start_time": "2022-05-10T06:42:24.635Z"
   },
   {
    "duration": 76,
    "start_time": "2022-05-10T06:42:24.753Z"
   },
   {
    "duration": 95,
    "start_time": "2022-05-10T06:42:24.832Z"
   },
   {
    "duration": 86,
    "start_time": "2022-05-10T06:42:24.929Z"
   },
   {
    "duration": 22,
    "start_time": "2022-05-10T06:42:25.016Z"
   },
   {
    "duration": 131,
    "start_time": "2022-05-10T06:42:25.040Z"
   },
   {
    "duration": 98,
    "start_time": "2022-05-10T06:42:25.173Z"
   },
   {
    "duration": 27,
    "start_time": "2022-05-10T06:42:25.273Z"
   },
   {
    "duration": 16,
    "start_time": "2022-05-10T06:42:25.302Z"
   },
   {
    "duration": 6,
    "start_time": "2022-05-10T06:42:25.321Z"
   },
   {
    "duration": 40,
    "start_time": "2022-05-10T06:42:25.329Z"
   },
   {
    "duration": 33,
    "start_time": "2022-05-10T06:42:25.371Z"
   },
   {
    "duration": 3,
    "start_time": "2022-05-10T06:43:54.495Z"
   },
   {
    "duration": 143,
    "start_time": "2022-05-10T06:43:54.501Z"
   },
   {
    "duration": 125,
    "start_time": "2022-05-10T06:43:54.646Z"
   },
   {
    "duration": 6,
    "start_time": "2022-05-10T06:43:54.773Z"
   },
   {
    "duration": 9,
    "start_time": "2022-05-10T06:43:54.781Z"
   },
   {
    "duration": 4,
    "start_time": "2022-05-10T06:43:54.799Z"
   },
   {
    "duration": 15,
    "start_time": "2022-05-10T06:43:54.805Z"
   },
   {
    "duration": 9,
    "start_time": "2022-05-10T06:43:54.821Z"
   },
   {
    "duration": 29,
    "start_time": "2022-05-10T06:43:54.831Z"
   },
   {
    "duration": 43,
    "start_time": "2022-05-10T06:43:54.861Z"
   },
   {
    "duration": 24,
    "start_time": "2022-05-10T06:43:54.906Z"
   },
   {
    "duration": 69,
    "start_time": "2022-05-10T06:43:54.932Z"
   },
   {
    "duration": 66,
    "start_time": "2022-05-10T06:43:55.003Z"
   },
   {
    "duration": 67,
    "start_time": "2022-05-10T06:43:55.073Z"
   },
   {
    "duration": 62,
    "start_time": "2022-05-10T06:43:55.142Z"
   },
   {
    "duration": 16,
    "start_time": "2022-05-10T06:43:55.206Z"
   },
   {
    "duration": 78,
    "start_time": "2022-05-10T06:43:55.224Z"
   },
   {
    "duration": 98,
    "start_time": "2022-05-10T06:43:55.304Z"
   },
   {
    "duration": 18,
    "start_time": "2022-05-10T06:43:55.404Z"
   },
   {
    "duration": 16,
    "start_time": "2022-05-10T06:43:55.424Z"
   },
   {
    "duration": 3,
    "start_time": "2022-05-10T06:43:55.442Z"
   },
   {
    "duration": 24,
    "start_time": "2022-05-10T06:43:55.447Z"
   },
   {
    "duration": 38,
    "start_time": "2022-05-10T06:43:55.473Z"
   },
   {
    "duration": 18,
    "start_time": "2022-05-10T06:43:55.512Z"
   },
   {
    "duration": 3,
    "start_time": "2022-05-10T06:44:53.001Z"
   },
   {
    "duration": 215,
    "start_time": "2022-05-10T06:44:53.007Z"
   },
   {
    "duration": 143,
    "start_time": "2022-05-10T06:44:53.225Z"
   },
   {
    "duration": 6,
    "start_time": "2022-05-10T06:44:53.370Z"
   },
   {
    "duration": 4,
    "start_time": "2022-05-10T06:44:53.378Z"
   },
   {
    "duration": 18,
    "start_time": "2022-05-10T06:44:53.383Z"
   },
   {
    "duration": 14,
    "start_time": "2022-05-10T06:44:53.402Z"
   },
   {
    "duration": 6,
    "start_time": "2022-05-10T06:44:53.417Z"
   },
   {
    "duration": 28,
    "start_time": "2022-05-10T06:44:53.424Z"
   },
   {
    "duration": 62,
    "start_time": "2022-05-10T06:44:53.454Z"
   },
   {
    "duration": 37,
    "start_time": "2022-05-10T06:44:53.518Z"
   },
   {
    "duration": 110,
    "start_time": "2022-05-10T06:44:53.556Z"
   },
   {
    "duration": 127,
    "start_time": "2022-05-10T06:44:53.668Z"
   },
   {
    "duration": 50,
    "start_time": "2022-05-10T06:44:53.800Z"
   },
   {
    "duration": 61,
    "start_time": "2022-05-10T06:44:53.852Z"
   },
   {
    "duration": 16,
    "start_time": "2022-05-10T06:44:53.915Z"
   },
   {
    "duration": 85,
    "start_time": "2022-05-10T06:44:53.932Z"
   },
   {
    "duration": 51,
    "start_time": "2022-05-10T06:44:54.018Z"
   },
   {
    "duration": 11,
    "start_time": "2022-05-10T06:44:54.070Z"
   },
   {
    "duration": 11,
    "start_time": "2022-05-10T06:44:54.100Z"
   },
   {
    "duration": 3,
    "start_time": "2022-05-10T06:44:54.112Z"
   },
   {
    "duration": 29,
    "start_time": "2022-05-10T06:44:54.117Z"
   },
   {
    "duration": 14,
    "start_time": "2022-05-10T06:44:54.148Z"
   },
   {
    "duration": 47,
    "start_time": "2022-05-10T06:44:54.163Z"
   },
   {
    "duration": 18,
    "start_time": "2022-05-10T06:44:54.211Z"
   },
   {
    "duration": 18,
    "start_time": "2022-05-10T06:45:52.654Z"
   },
   {
    "duration": 16,
    "start_time": "2022-05-10T06:45:52.674Z"
   },
   {
    "duration": 16,
    "start_time": "2022-05-10T06:45:52.691Z"
   },
   {
    "duration": 15,
    "start_time": "2022-05-10T06:45:52.709Z"
   },
   {
    "duration": 3,
    "start_time": "2022-05-10T06:45:52.725Z"
   },
   {
    "duration": 9,
    "start_time": "2022-05-10T06:45:52.729Z"
   },
   {
    "duration": 6,
    "start_time": "2022-05-10T06:45:52.739Z"
   },
   {
    "duration": 9,
    "start_time": "2022-05-10T06:45:52.746Z"
   },
   {
    "duration": 5,
    "start_time": "2022-05-10T06:45:52.756Z"
   },
   {
    "duration": 204,
    "start_time": "2022-05-10T06:45:52.763Z"
   },
   {
    "duration": 0,
    "start_time": "2022-05-10T06:45:52.968Z"
   },
   {
    "duration": 0,
    "start_time": "2022-05-10T06:45:52.970Z"
   },
   {
    "duration": 0,
    "start_time": "2022-05-10T06:45:52.971Z"
   },
   {
    "duration": 0,
    "start_time": "2022-05-10T06:45:52.972Z"
   },
   {
    "duration": 0,
    "start_time": "2022-05-10T06:45:52.972Z"
   },
   {
    "duration": 0,
    "start_time": "2022-05-10T06:45:52.973Z"
   },
   {
    "duration": 0,
    "start_time": "2022-05-10T06:45:52.974Z"
   },
   {
    "duration": 0,
    "start_time": "2022-05-10T06:45:52.975Z"
   },
   {
    "duration": 2,
    "start_time": "2022-05-10T06:48:50.340Z"
   },
   {
    "duration": 186,
    "start_time": "2022-05-10T06:48:50.344Z"
   },
   {
    "duration": 117,
    "start_time": "2022-05-10T06:48:50.532Z"
   },
   {
    "duration": 6,
    "start_time": "2022-05-10T06:48:50.651Z"
   },
   {
    "duration": 22,
    "start_time": "2022-05-10T06:48:50.659Z"
   },
   {
    "duration": 14,
    "start_time": "2022-05-10T06:48:50.683Z"
   },
   {
    "duration": 17,
    "start_time": "2022-05-10T06:48:50.698Z"
   },
   {
    "duration": 8,
    "start_time": "2022-05-10T06:48:50.717Z"
   },
   {
    "duration": 26,
    "start_time": "2022-05-10T06:48:50.727Z"
   },
   {
    "duration": 22,
    "start_time": "2022-05-10T06:48:50.754Z"
   },
   {
    "duration": 27,
    "start_time": "2022-05-10T06:48:50.777Z"
   },
   {
    "duration": 101,
    "start_time": "2022-05-10T06:48:50.806Z"
   },
   {
    "duration": 104,
    "start_time": "2022-05-10T06:48:50.910Z"
   },
   {
    "duration": 93,
    "start_time": "2022-05-10T06:48:51.018Z"
   },
   {
    "duration": 88,
    "start_time": "2022-05-10T06:48:51.113Z"
   },
   {
    "duration": 23,
    "start_time": "2022-05-10T06:48:51.203Z"
   },
   {
    "duration": 117,
    "start_time": "2022-05-10T06:48:51.229Z"
   },
   {
    "duration": 93,
    "start_time": "2022-05-10T06:48:51.348Z"
   },
   {
    "duration": 18,
    "start_time": "2022-05-10T06:48:51.443Z"
   },
   {
    "duration": 19,
    "start_time": "2022-05-10T06:48:51.462Z"
   },
   {
    "duration": 3,
    "start_time": "2022-05-10T06:48:51.501Z"
   },
   {
    "duration": 31,
    "start_time": "2022-05-10T06:48:51.506Z"
   },
   {
    "duration": 19,
    "start_time": "2022-05-10T06:48:51.538Z"
   },
   {
    "duration": 18,
    "start_time": "2022-05-10T06:48:51.559Z"
   },
   {
    "duration": 17,
    "start_time": "2022-05-10T06:48:51.601Z"
   },
   {
    "duration": 23,
    "start_time": "2022-05-10T06:48:51.620Z"
   },
   {
    "duration": 17,
    "start_time": "2022-05-10T06:48:51.644Z"
   },
   {
    "duration": 2,
    "start_time": "2022-05-10T06:56:40.324Z"
   },
   {
    "duration": 140,
    "start_time": "2022-05-10T06:56:40.328Z"
   },
   {
    "duration": 116,
    "start_time": "2022-05-10T06:56:40.470Z"
   },
   {
    "duration": 15,
    "start_time": "2022-05-10T06:56:40.588Z"
   },
   {
    "duration": 7,
    "start_time": "2022-05-10T06:56:40.604Z"
   },
   {
    "duration": 7,
    "start_time": "2022-05-10T06:56:40.613Z"
   },
   {
    "duration": 15,
    "start_time": "2022-05-10T06:56:40.622Z"
   },
   {
    "duration": 7,
    "start_time": "2022-05-10T06:56:40.640Z"
   },
   {
    "duration": 26,
    "start_time": "2022-05-10T06:56:40.648Z"
   },
   {
    "duration": 38,
    "start_time": "2022-05-10T06:56:40.675Z"
   },
   {
    "duration": 23,
    "start_time": "2022-05-10T06:56:40.714Z"
   },
   {
    "duration": 67,
    "start_time": "2022-05-10T06:56:40.738Z"
   },
   {
    "duration": 65,
    "start_time": "2022-05-10T06:56:40.806Z"
   },
   {
    "duration": 63,
    "start_time": "2022-05-10T06:56:40.873Z"
   },
   {
    "duration": 44,
    "start_time": "2022-05-10T06:56:40.937Z"
   },
   {
    "duration": 28,
    "start_time": "2022-05-10T06:56:40.982Z"
   },
   {
    "duration": 61,
    "start_time": "2022-05-10T06:56:41.012Z"
   },
   {
    "duration": 68,
    "start_time": "2022-05-10T06:56:41.075Z"
   },
   {
    "duration": 11,
    "start_time": "2022-05-10T06:56:41.145Z"
   },
   {
    "duration": 11,
    "start_time": "2022-05-10T06:56:41.159Z"
   },
   {
    "duration": 3,
    "start_time": "2022-05-10T06:56:41.171Z"
   },
   {
    "duration": 40,
    "start_time": "2022-05-10T06:56:41.176Z"
   },
   {
    "duration": 3,
    "start_time": "2022-05-10T07:00:43.478Z"
   },
   {
    "duration": 199,
    "start_time": "2022-05-10T07:00:43.484Z"
   },
   {
    "duration": 129,
    "start_time": "2022-05-10T07:00:43.686Z"
   },
   {
    "duration": 6,
    "start_time": "2022-05-10T07:00:43.817Z"
   },
   {
    "duration": 25,
    "start_time": "2022-05-10T07:00:43.825Z"
   },
   {
    "duration": 11,
    "start_time": "2022-05-10T07:00:43.852Z"
   },
   {
    "duration": 19,
    "start_time": "2022-05-10T07:00:43.865Z"
   },
   {
    "duration": 15,
    "start_time": "2022-05-10T07:00:43.885Z"
   },
   {
    "duration": 34,
    "start_time": "2022-05-10T07:00:43.901Z"
   },
   {
    "duration": 23,
    "start_time": "2022-05-10T07:00:43.937Z"
   },
   {
    "duration": 42,
    "start_time": "2022-05-10T07:00:43.962Z"
   },
   {
    "duration": 99,
    "start_time": "2022-05-10T07:00:44.006Z"
   },
   {
    "duration": 108,
    "start_time": "2022-05-10T07:00:44.107Z"
   },
   {
    "duration": 99,
    "start_time": "2022-05-10T07:00:44.217Z"
   },
   {
    "duration": 82,
    "start_time": "2022-05-10T07:00:44.318Z"
   },
   {
    "duration": 15,
    "start_time": "2022-05-10T07:00:44.402Z"
   },
   {
    "duration": 82,
    "start_time": "2022-05-10T07:00:44.419Z"
   },
   {
    "duration": 56,
    "start_time": "2022-05-10T07:00:44.503Z"
   },
   {
    "duration": 11,
    "start_time": "2022-05-10T07:00:44.561Z"
   },
   {
    "duration": 34,
    "start_time": "2022-05-10T07:00:44.574Z"
   },
   {
    "duration": 3,
    "start_time": "2022-05-10T07:00:44.610Z"
   },
   {
    "duration": 30,
    "start_time": "2022-05-10T07:00:44.615Z"
   },
   {
    "duration": 18,
    "start_time": "2022-05-10T07:00:44.647Z"
   },
   {
    "duration": 40,
    "start_time": "2022-05-10T07:00:44.666Z"
   },
   {
    "duration": 25,
    "start_time": "2022-05-10T07:00:44.710Z"
   },
   {
    "duration": 195,
    "start_time": "2022-05-10T07:00:44.736Z"
   },
   {
    "duration": 0,
    "start_time": "2022-05-10T07:00:44.932Z"
   },
   {
    "duration": 3,
    "start_time": "2022-05-10T07:01:21.093Z"
   },
   {
    "duration": 150,
    "start_time": "2022-05-10T07:01:21.099Z"
   },
   {
    "duration": 122,
    "start_time": "2022-05-10T07:01:21.251Z"
   },
   {
    "duration": 7,
    "start_time": "2022-05-10T07:01:21.375Z"
   },
   {
    "duration": 17,
    "start_time": "2022-05-10T07:01:21.384Z"
   },
   {
    "duration": 9,
    "start_time": "2022-05-10T07:01:21.402Z"
   },
   {
    "duration": 15,
    "start_time": "2022-05-10T07:01:21.413Z"
   },
   {
    "duration": 7,
    "start_time": "2022-05-10T07:01:21.429Z"
   },
   {
    "duration": 30,
    "start_time": "2022-05-10T07:01:21.437Z"
   },
   {
    "duration": 56,
    "start_time": "2022-05-10T07:01:21.469Z"
   },
   {
    "duration": 40,
    "start_time": "2022-05-10T07:01:21.527Z"
   },
   {
    "duration": 75,
    "start_time": "2022-05-10T07:01:21.569Z"
   },
   {
    "duration": 76,
    "start_time": "2022-05-10T07:01:21.646Z"
   },
   {
    "duration": 52,
    "start_time": "2022-05-10T07:01:21.724Z"
   },
   {
    "duration": 64,
    "start_time": "2022-05-10T07:01:21.777Z"
   },
   {
    "duration": 14,
    "start_time": "2022-05-10T07:01:21.843Z"
   },
   {
    "duration": 87,
    "start_time": "2022-05-10T07:01:21.859Z"
   },
   {
    "duration": 93,
    "start_time": "2022-05-10T07:01:21.948Z"
   },
   {
    "duration": 68,
    "start_time": "2022-05-10T07:01:22.042Z"
   },
   {
    "duration": 10,
    "start_time": "2022-05-10T07:01:22.112Z"
   },
   {
    "duration": 2,
    "start_time": "2022-05-10T07:01:22.124Z"
   },
   {
    "duration": 26,
    "start_time": "2022-05-10T07:01:22.128Z"
   },
   {
    "duration": 18,
    "start_time": "2022-05-10T07:01:22.155Z"
   },
   {
    "duration": 29,
    "start_time": "2022-05-10T07:01:22.175Z"
   },
   {
    "duration": 17,
    "start_time": "2022-05-10T07:01:22.206Z"
   },
   {
    "duration": 19,
    "start_time": "2022-05-10T07:01:22.225Z"
   },
   {
    "duration": 19,
    "start_time": "2022-05-10T07:01:22.246Z"
   },
   {
    "duration": 3,
    "start_time": "2022-05-10T07:09:12.087Z"
   },
   {
    "duration": 229,
    "start_time": "2022-05-10T07:09:12.093Z"
   },
   {
    "duration": 220,
    "start_time": "2022-05-10T07:09:12.324Z"
   },
   {
    "duration": 7,
    "start_time": "2022-05-10T07:09:12.547Z"
   },
   {
    "duration": 13,
    "start_time": "2022-05-10T07:09:12.556Z"
   },
   {
    "duration": 9,
    "start_time": "2022-05-10T07:09:12.571Z"
   },
   {
    "duration": 28,
    "start_time": "2022-05-10T07:09:12.582Z"
   },
   {
    "duration": 5,
    "start_time": "2022-05-10T07:09:12.611Z"
   },
   {
    "duration": 33,
    "start_time": "2022-05-10T07:09:12.618Z"
   },
   {
    "duration": 32,
    "start_time": "2022-05-10T07:09:12.654Z"
   },
   {
    "duration": 51,
    "start_time": "2022-05-10T07:09:12.688Z"
   },
   {
    "duration": 114,
    "start_time": "2022-05-10T07:09:12.741Z"
   },
   {
    "duration": 82,
    "start_time": "2022-05-10T07:09:12.858Z"
   },
   {
    "duration": 64,
    "start_time": "2022-05-10T07:09:12.942Z"
   },
   {
    "duration": 49,
    "start_time": "2022-05-10T07:09:13.008Z"
   },
   {
    "duration": 19,
    "start_time": "2022-05-10T07:09:13.058Z"
   },
   {
    "duration": 83,
    "start_time": "2022-05-10T07:09:13.079Z"
   },
   {
    "duration": 62,
    "start_time": "2022-05-10T07:09:13.163Z"
   },
   {
    "duration": 11,
    "start_time": "2022-05-10T07:09:13.227Z"
   },
   {
    "duration": 11,
    "start_time": "2022-05-10T07:09:13.240Z"
   },
   {
    "duration": 3,
    "start_time": "2022-05-10T07:09:13.252Z"
   },
   {
    "duration": 64,
    "start_time": "2022-05-10T07:09:13.256Z"
   },
   {
    "duration": 17,
    "start_time": "2022-05-10T07:09:13.321Z"
   },
   {
    "duration": 3,
    "start_time": "2022-05-10T07:10:04.014Z"
   },
   {
    "duration": 231,
    "start_time": "2022-05-10T07:10:04.018Z"
   },
   {
    "duration": 227,
    "start_time": "2022-05-10T07:10:04.251Z"
   },
   {
    "duration": 7,
    "start_time": "2022-05-10T07:10:04.480Z"
   },
   {
    "duration": 2,
    "start_time": "2022-05-10T07:10:04.502Z"
   },
   {
    "duration": 6,
    "start_time": "2022-05-10T07:10:04.506Z"
   },
   {
    "duration": 19,
    "start_time": "2022-05-10T07:10:04.514Z"
   },
   {
    "duration": 5,
    "start_time": "2022-05-10T07:10:04.535Z"
   },
   {
    "duration": 26,
    "start_time": "2022-05-10T07:10:04.541Z"
   },
   {
    "duration": 46,
    "start_time": "2022-05-10T07:10:04.569Z"
   },
   {
    "duration": 23,
    "start_time": "2022-05-10T07:10:04.616Z"
   },
   {
    "duration": 70,
    "start_time": "2022-05-10T07:10:04.641Z"
   },
   {
    "duration": 68,
    "start_time": "2022-05-10T07:10:04.713Z"
   },
   {
    "duration": 67,
    "start_time": "2022-05-10T07:10:04.784Z"
   },
   {
    "duration": 57,
    "start_time": "2022-05-10T07:10:04.853Z"
   },
   {
    "duration": 15,
    "start_time": "2022-05-10T07:10:04.911Z"
   },
   {
    "duration": 79,
    "start_time": "2022-05-10T07:10:04.927Z"
   },
   {
    "duration": 56,
    "start_time": "2022-05-10T07:10:05.007Z"
   },
   {
    "duration": 11,
    "start_time": "2022-05-10T07:10:05.065Z"
   },
   {
    "duration": 32,
    "start_time": "2022-05-10T07:10:05.078Z"
   },
   {
    "duration": 3,
    "start_time": "2022-05-10T07:10:05.111Z"
   },
   {
    "duration": 46,
    "start_time": "2022-05-10T07:10:05.115Z"
   },
   {
    "duration": 3,
    "start_time": "2022-05-10T07:12:10.743Z"
   },
   {
    "duration": 213,
    "start_time": "2022-05-10T07:12:10.748Z"
   },
   {
    "duration": 210,
    "start_time": "2022-05-10T07:12:10.963Z"
   },
   {
    "duration": 8,
    "start_time": "2022-05-10T07:12:11.176Z"
   },
   {
    "duration": 5,
    "start_time": "2022-05-10T07:12:11.186Z"
   },
   {
    "duration": 5,
    "start_time": "2022-05-10T07:12:11.199Z"
   },
   {
    "duration": 19,
    "start_time": "2022-05-10T07:12:11.206Z"
   },
   {
    "duration": 5,
    "start_time": "2022-05-10T07:12:11.227Z"
   },
   {
    "duration": 66,
    "start_time": "2022-05-10T07:12:11.234Z"
   },
   {
    "duration": 35,
    "start_time": "2022-05-10T07:12:11.304Z"
   },
   {
    "duration": 61,
    "start_time": "2022-05-10T07:12:11.341Z"
   },
   {
    "duration": 61,
    "start_time": "2022-05-10T07:12:11.404Z"
   },
   {
    "duration": 85,
    "start_time": "2022-05-10T07:12:11.466Z"
   },
   {
    "duration": 70,
    "start_time": "2022-05-10T07:12:11.554Z"
   },
   {
    "duration": 49,
    "start_time": "2022-05-10T07:12:11.626Z"
   },
   {
    "duration": 33,
    "start_time": "2022-05-10T07:12:11.677Z"
   },
   {
    "duration": 64,
    "start_time": "2022-05-10T07:12:11.711Z"
   },
   {
    "duration": 64,
    "start_time": "2022-05-10T07:12:11.777Z"
   },
   {
    "duration": 13,
    "start_time": "2022-05-10T07:12:11.843Z"
   },
   {
    "duration": 11,
    "start_time": "2022-05-10T07:12:11.858Z"
   },
   {
    "duration": 29,
    "start_time": "2022-05-10T07:12:11.871Z"
   },
   {
    "duration": 36,
    "start_time": "2022-05-10T07:12:11.902Z"
   },
   {
    "duration": 2,
    "start_time": "2022-05-10T07:13:48.540Z"
   },
   {
    "duration": 137,
    "start_time": "2022-05-10T07:13:48.544Z"
   },
   {
    "duration": 125,
    "start_time": "2022-05-10T07:13:48.683Z"
   },
   {
    "duration": 6,
    "start_time": "2022-05-10T07:13:48.810Z"
   },
   {
    "duration": 6,
    "start_time": "2022-05-10T07:13:48.818Z"
   },
   {
    "duration": 7,
    "start_time": "2022-05-10T07:13:48.826Z"
   },
   {
    "duration": 15,
    "start_time": "2022-05-10T07:13:48.835Z"
   },
   {
    "duration": 9,
    "start_time": "2022-05-10T07:13:48.852Z"
   },
   {
    "duration": 42,
    "start_time": "2022-05-10T07:13:48.862Z"
   },
   {
    "duration": 24,
    "start_time": "2022-05-10T07:13:48.907Z"
   },
   {
    "duration": 25,
    "start_time": "2022-05-10T07:13:48.933Z"
   },
   {
    "duration": 86,
    "start_time": "2022-05-10T07:13:48.960Z"
   },
   {
    "duration": 74,
    "start_time": "2022-05-10T07:13:49.048Z"
   },
   {
    "duration": 49,
    "start_time": "2022-05-10T07:13:49.125Z"
   },
   {
    "duration": 61,
    "start_time": "2022-05-10T07:13:49.176Z"
   },
   {
    "duration": 19,
    "start_time": "2022-05-10T07:13:49.239Z"
   },
   {
    "duration": 110,
    "start_time": "2022-05-10T07:13:49.260Z"
   },
   {
    "duration": 86,
    "start_time": "2022-05-10T07:13:49.372Z"
   },
   {
    "duration": 17,
    "start_time": "2022-05-10T07:13:49.460Z"
   },
   {
    "duration": 28,
    "start_time": "2022-05-10T07:13:49.479Z"
   },
   {
    "duration": 3,
    "start_time": "2022-05-10T07:13:49.509Z"
   },
   {
    "duration": 39,
    "start_time": "2022-05-10T07:13:49.514Z"
   },
   {
    "duration": 46,
    "start_time": "2022-05-10T07:13:49.555Z"
   },
   {
    "duration": 49,
    "start_time": "2022-05-10T07:13:49.603Z"
   },
   {
    "duration": 58,
    "start_time": "2022-05-10T07:13:49.655Z"
   },
   {
    "duration": 60,
    "start_time": "2022-05-10T07:13:49.715Z"
   },
   {
    "duration": 49,
    "start_time": "2022-05-10T07:13:49.777Z"
   },
   {
    "duration": 12,
    "start_time": "2022-05-10T07:59:11.147Z"
   },
   {
    "duration": 10,
    "start_time": "2022-05-10T08:01:12.973Z"
   },
   {
    "duration": 3,
    "start_time": "2022-05-10T08:08:29.112Z"
   },
   {
    "duration": 144,
    "start_time": "2022-05-10T08:08:29.118Z"
   },
   {
    "duration": 121,
    "start_time": "2022-05-10T08:08:29.264Z"
   },
   {
    "duration": 19,
    "start_time": "2022-05-10T08:08:29.387Z"
   },
   {
    "duration": 23,
    "start_time": "2022-05-10T08:08:29.408Z"
   },
   {
    "duration": 5,
    "start_time": "2022-05-10T08:08:29.433Z"
   },
   {
    "duration": 14,
    "start_time": "2022-05-10T08:08:29.440Z"
   },
   {
    "duration": 8,
    "start_time": "2022-05-10T08:08:29.456Z"
   },
   {
    "duration": 28,
    "start_time": "2022-05-10T08:08:29.466Z"
   },
   {
    "duration": 29,
    "start_time": "2022-05-10T08:08:29.496Z"
   },
   {
    "duration": 23,
    "start_time": "2022-05-10T08:08:29.526Z"
   },
   {
    "duration": 71,
    "start_time": "2022-05-10T08:08:29.550Z"
   },
   {
    "duration": 59,
    "start_time": "2022-05-10T08:08:29.623Z"
   },
   {
    "duration": 54,
    "start_time": "2022-05-10T08:08:29.701Z"
   },
   {
    "duration": 55,
    "start_time": "2022-05-10T08:08:29.756Z"
   },
   {
    "duration": 15,
    "start_time": "2022-05-10T08:08:29.814Z"
   },
   {
    "duration": 58,
    "start_time": "2022-05-10T08:08:29.830Z"
   },
   {
    "duration": 62,
    "start_time": "2022-05-10T08:08:29.889Z"
   },
   {
    "duration": 10,
    "start_time": "2022-05-10T08:08:29.953Z"
   },
   {
    "duration": 15,
    "start_time": "2022-05-10T08:08:29.964Z"
   },
   {
    "duration": 22,
    "start_time": "2022-05-10T08:08:29.980Z"
   },
   {
    "duration": 56,
    "start_time": "2022-05-10T08:08:30.007Z"
   },
   {
    "duration": 25,
    "start_time": "2022-05-10T08:08:30.064Z"
   },
   {
    "duration": 46,
    "start_time": "2022-05-10T08:08:30.090Z"
   },
   {
    "duration": 30,
    "start_time": "2022-05-10T08:08:30.139Z"
   },
   {
    "duration": 60,
    "start_time": "2022-05-10T08:08:30.170Z"
   },
   {
    "duration": 27,
    "start_time": "2022-05-10T08:08:30.232Z"
   },
   {
    "duration": 11,
    "start_time": "2022-05-10T08:08:30.261Z"
   },
   {
    "duration": 2,
    "start_time": "2022-05-10T08:09:33.080Z"
   },
   {
    "duration": 158,
    "start_time": "2022-05-10T08:09:33.084Z"
   },
   {
    "duration": 132,
    "start_time": "2022-05-10T08:09:33.244Z"
   },
   {
    "duration": 7,
    "start_time": "2022-05-10T08:09:33.378Z"
   },
   {
    "duration": 15,
    "start_time": "2022-05-10T08:09:33.386Z"
   },
   {
    "duration": 8,
    "start_time": "2022-05-10T08:09:33.402Z"
   },
   {
    "duration": 14,
    "start_time": "2022-05-10T08:09:33.411Z"
   },
   {
    "duration": 7,
    "start_time": "2022-05-10T08:09:33.426Z"
   },
   {
    "duration": 25,
    "start_time": "2022-05-10T08:09:33.436Z"
   },
   {
    "duration": 45,
    "start_time": "2022-05-10T08:09:33.462Z"
   },
   {
    "duration": 23,
    "start_time": "2022-05-10T08:09:33.509Z"
   },
   {
    "duration": 70,
    "start_time": "2022-05-10T08:09:33.534Z"
   },
   {
    "duration": 63,
    "start_time": "2022-05-10T08:09:33.605Z"
   },
   {
    "duration": 67,
    "start_time": "2022-05-10T08:09:33.670Z"
   },
   {
    "duration": 45,
    "start_time": "2022-05-10T08:09:33.738Z"
   },
   {
    "duration": 26,
    "start_time": "2022-05-10T08:09:33.785Z"
   },
   {
    "duration": 60,
    "start_time": "2022-05-10T08:09:33.812Z"
   },
   {
    "duration": 73,
    "start_time": "2022-05-10T08:09:33.873Z"
   },
   {
    "duration": 10,
    "start_time": "2022-05-10T08:09:33.948Z"
   },
   {
    "duration": 10,
    "start_time": "2022-05-10T08:09:33.960Z"
   },
   {
    "duration": 2,
    "start_time": "2022-05-10T08:09:33.972Z"
   },
   {
    "duration": 59,
    "start_time": "2022-05-10T08:09:33.975Z"
   },
   {
    "duration": 24,
    "start_time": "2022-05-10T08:09:34.036Z"
   },
   {
    "duration": 55,
    "start_time": "2022-05-10T08:09:34.063Z"
   },
   {
    "duration": 27,
    "start_time": "2022-05-10T08:09:34.120Z"
   },
   {
    "duration": 54,
    "start_time": "2022-05-10T08:09:34.148Z"
   },
   {
    "duration": 26,
    "start_time": "2022-05-10T08:09:34.203Z"
   },
   {
    "duration": 8,
    "start_time": "2022-05-10T08:09:34.231Z"
   },
   {
    "duration": 3,
    "start_time": "2022-05-10T08:09:57.612Z"
   },
   {
    "duration": 136,
    "start_time": "2022-05-10T08:09:57.617Z"
   },
   {
    "duration": 129,
    "start_time": "2022-05-10T08:09:57.755Z"
   },
   {
    "duration": 6,
    "start_time": "2022-05-10T08:09:57.885Z"
   },
   {
    "duration": 3,
    "start_time": "2022-05-10T08:09:57.903Z"
   },
   {
    "duration": 18,
    "start_time": "2022-05-10T08:09:57.909Z"
   },
   {
    "duration": 15,
    "start_time": "2022-05-10T08:09:57.928Z"
   },
   {
    "duration": 7,
    "start_time": "2022-05-10T08:09:57.944Z"
   },
   {
    "duration": 25,
    "start_time": "2022-05-10T08:09:57.952Z"
   },
   {
    "duration": 44,
    "start_time": "2022-05-10T08:09:57.979Z"
   },
   {
    "duration": 22,
    "start_time": "2022-05-10T08:09:58.025Z"
   },
   {
    "duration": 71,
    "start_time": "2022-05-10T08:09:58.048Z"
   },
   {
    "duration": 112,
    "start_time": "2022-05-10T08:09:58.121Z"
   },
   {
    "duration": 68,
    "start_time": "2022-05-10T08:09:58.237Z"
   },
   {
    "duration": 55,
    "start_time": "2022-05-10T08:09:58.307Z"
   },
   {
    "duration": 15,
    "start_time": "2022-05-10T08:09:58.364Z"
   },
   {
    "duration": 67,
    "start_time": "2022-05-10T08:09:58.400Z"
   },
   {
    "duration": 101,
    "start_time": "2022-05-10T08:09:58.469Z"
   },
   {
    "duration": 39,
    "start_time": "2022-05-10T08:09:58.573Z"
   },
   {
    "duration": 14,
    "start_time": "2022-05-10T08:09:58.613Z"
   },
   {
    "duration": 3,
    "start_time": "2022-05-10T08:09:58.629Z"
   },
   {
    "duration": 40,
    "start_time": "2022-05-10T08:09:58.635Z"
   },
   {
    "duration": 49,
    "start_time": "2022-05-10T08:09:58.677Z"
   },
   {
    "duration": 30,
    "start_time": "2022-05-10T08:09:58.728Z"
   },
   {
    "duration": 45,
    "start_time": "2022-05-10T08:09:58.760Z"
   },
   {
    "duration": 62,
    "start_time": "2022-05-10T08:09:58.807Z"
   },
   {
    "duration": 56,
    "start_time": "2022-05-10T08:09:58.870Z"
   },
   {
    "duration": 8,
    "start_time": "2022-05-10T08:09:58.928Z"
   },
   {
    "duration": 153,
    "start_time": "2022-05-11T06:35:09.745Z"
   },
   {
    "duration": 3,
    "start_time": "2022-05-11T06:35:39.067Z"
   },
   {
    "duration": 45,
    "start_time": "2022-05-11T06:36:34.659Z"
   },
   {
    "duration": 410,
    "start_time": "2022-05-11T06:37:01.561Z"
   },
   {
    "duration": 200,
    "start_time": "2022-05-11T06:37:01.972Z"
   },
   {
    "duration": 132,
    "start_time": "2022-05-11T06:37:02.174Z"
   },
   {
    "duration": 7,
    "start_time": "2022-05-11T06:37:02.307Z"
   },
   {
    "duration": 16,
    "start_time": "2022-05-11T06:37:02.316Z"
   },
   {
    "duration": 13,
    "start_time": "2022-05-11T06:37:02.333Z"
   },
   {
    "duration": 19,
    "start_time": "2022-05-11T06:37:02.348Z"
   },
   {
    "duration": 10,
    "start_time": "2022-05-11T06:37:02.368Z"
   },
   {
    "duration": 62,
    "start_time": "2022-05-11T06:37:02.379Z"
   },
   {
    "duration": 25,
    "start_time": "2022-05-11T06:37:02.443Z"
   },
   {
    "duration": 26,
    "start_time": "2022-05-11T06:37:02.470Z"
   },
   {
    "duration": 83,
    "start_time": "2022-05-11T06:37:02.498Z"
   },
   {
    "duration": 84,
    "start_time": "2022-05-11T06:37:02.583Z"
   },
   {
    "duration": 60,
    "start_time": "2022-05-11T06:37:02.670Z"
   },
   {
    "duration": 64,
    "start_time": "2022-05-11T06:37:02.731Z"
   },
   {
    "duration": 16,
    "start_time": "2022-05-11T06:37:02.797Z"
   },
   {
    "duration": 103,
    "start_time": "2022-05-11T06:37:02.814Z"
   },
   {
    "duration": 68,
    "start_time": "2022-05-11T06:37:02.919Z"
   },
   {
    "duration": 12,
    "start_time": "2022-05-11T06:37:02.989Z"
   },
   {
    "duration": 25,
    "start_time": "2022-05-11T06:37:03.002Z"
   },
   {
    "duration": 3,
    "start_time": "2022-05-11T06:37:20.636Z"
   },
   {
    "duration": 163,
    "start_time": "2022-05-11T06:37:20.641Z"
   },
   {
    "duration": 131,
    "start_time": "2022-05-11T06:37:20.806Z"
   },
   {
    "duration": 17,
    "start_time": "2022-05-11T06:37:20.939Z"
   },
   {
    "duration": 18,
    "start_time": "2022-05-11T06:37:20.958Z"
   },
   {
    "duration": 9,
    "start_time": "2022-05-11T06:37:20.978Z"
   },
   {
    "duration": 16,
    "start_time": "2022-05-11T06:37:20.988Z"
   },
   {
    "duration": 8,
    "start_time": "2022-05-11T06:37:21.005Z"
   },
   {
    "duration": 29,
    "start_time": "2022-05-11T06:37:21.015Z"
   },
   {
    "duration": 31,
    "start_time": "2022-05-11T06:37:21.045Z"
   },
   {
    "duration": 26,
    "start_time": "2022-05-11T06:37:21.077Z"
   },
   {
    "duration": 74,
    "start_time": "2022-05-11T06:37:21.105Z"
   },
   {
    "duration": 74,
    "start_time": "2022-05-11T06:37:21.181Z"
   },
   {
    "duration": 55,
    "start_time": "2022-05-11T06:37:21.258Z"
   },
   {
    "duration": 65,
    "start_time": "2022-05-11T06:37:21.315Z"
   },
   {
    "duration": 16,
    "start_time": "2022-05-11T06:37:21.382Z"
   },
   {
    "duration": 86,
    "start_time": "2022-05-11T06:37:21.399Z"
   },
   {
    "duration": 69,
    "start_time": "2022-05-11T06:37:21.487Z"
   },
   {
    "duration": 13,
    "start_time": "2022-05-11T06:37:21.558Z"
   },
   {
    "duration": 12,
    "start_time": "2022-05-11T06:37:21.572Z"
   },
   {
    "duration": 30,
    "start_time": "2022-05-11T06:37:21.586Z"
   },
   {
    "duration": 0,
    "start_time": "2022-05-11T06:37:21.618Z"
   },
   {
    "duration": 2,
    "start_time": "2022-05-11T06:38:06.658Z"
   },
   {
    "duration": 156,
    "start_time": "2022-05-11T06:38:06.665Z"
   },
   {
    "duration": 132,
    "start_time": "2022-05-11T06:38:06.823Z"
   },
   {
    "duration": 7,
    "start_time": "2022-05-11T06:38:06.957Z"
   },
   {
    "duration": 4,
    "start_time": "2022-05-11T06:38:06.967Z"
   },
   {
    "duration": 9,
    "start_time": "2022-05-11T06:38:06.972Z"
   },
   {
    "duration": 14,
    "start_time": "2022-05-11T06:38:06.983Z"
   },
   {
    "duration": 9,
    "start_time": "2022-05-11T06:38:06.999Z"
   },
   {
    "duration": 51,
    "start_time": "2022-05-11T06:38:07.010Z"
   },
   {
    "duration": 23,
    "start_time": "2022-05-11T06:38:07.063Z"
   },
   {
    "duration": 29,
    "start_time": "2022-05-11T06:38:07.089Z"
   },
   {
    "duration": 83,
    "start_time": "2022-05-11T06:38:07.120Z"
   },
   {
    "duration": 85,
    "start_time": "2022-05-11T06:38:07.205Z"
   },
   {
    "duration": 64,
    "start_time": "2022-05-11T06:38:07.291Z"
   },
   {
    "duration": 47,
    "start_time": "2022-05-11T06:38:07.357Z"
   },
   {
    "duration": 16,
    "start_time": "2022-05-11T06:38:07.406Z"
   },
   {
    "duration": 89,
    "start_time": "2022-05-11T06:38:07.423Z"
   },
   {
    "duration": 71,
    "start_time": "2022-05-11T06:38:07.513Z"
   },
   {
    "duration": 12,
    "start_time": "2022-05-11T06:38:07.586Z"
   },
   {
    "duration": 12,
    "start_time": "2022-05-11T06:38:07.600Z"
   },
   {
    "duration": 7,
    "start_time": "2022-05-11T06:38:07.614Z"
   },
   {
    "duration": 0,
    "start_time": "2022-05-11T06:38:07.623Z"
   },
   {
    "duration": 0,
    "start_time": "2022-05-11T06:38:07.624Z"
   },
   {
    "duration": 2,
    "start_time": "2022-05-11T06:38:27.342Z"
   },
   {
    "duration": 150,
    "start_time": "2022-05-11T06:38:27.346Z"
   },
   {
    "duration": 126,
    "start_time": "2022-05-11T06:38:27.497Z"
   },
   {
    "duration": 6,
    "start_time": "2022-05-11T06:38:27.624Z"
   },
   {
    "duration": 6,
    "start_time": "2022-05-11T06:38:27.632Z"
   },
   {
    "duration": 16,
    "start_time": "2022-05-11T06:38:27.639Z"
   },
   {
    "duration": 14,
    "start_time": "2022-05-11T06:38:27.656Z"
   },
   {
    "duration": 6,
    "start_time": "2022-05-11T06:38:27.672Z"
   },
   {
    "duration": 27,
    "start_time": "2022-05-11T06:38:27.679Z"
   },
   {
    "duration": 48,
    "start_time": "2022-05-11T06:38:27.708Z"
   },
   {
    "duration": 26,
    "start_time": "2022-05-11T06:38:27.757Z"
   },
   {
    "duration": 71,
    "start_time": "2022-05-11T06:38:27.785Z"
   },
   {
    "duration": 70,
    "start_time": "2022-05-11T06:38:27.857Z"
   },
   {
    "duration": 67,
    "start_time": "2022-05-11T06:38:27.929Z"
   },
   {
    "duration": 62,
    "start_time": "2022-05-11T06:38:27.997Z"
   },
   {
    "duration": 16,
    "start_time": "2022-05-11T06:38:28.061Z"
   },
   {
    "duration": 88,
    "start_time": "2022-05-11T06:38:28.079Z"
   },
   {
    "duration": 54,
    "start_time": "2022-05-11T06:38:28.169Z"
   },
   {
    "duration": 34,
    "start_time": "2022-05-11T06:38:28.225Z"
   },
   {
    "duration": 13,
    "start_time": "2022-05-11T06:38:28.261Z"
   },
   {
    "duration": 9,
    "start_time": "2022-05-11T06:38:28.275Z"
   },
   {
    "duration": 0,
    "start_time": "2022-05-11T06:38:28.285Z"
   },
   {
    "duration": 0,
    "start_time": "2022-05-11T06:38:28.287Z"
   },
   {
    "duration": 2,
    "start_time": "2022-05-11T06:41:18.605Z"
   },
   {
    "duration": 157,
    "start_time": "2022-05-11T06:41:18.609Z"
   },
   {
    "duration": 134,
    "start_time": "2022-05-11T06:41:18.768Z"
   },
   {
    "duration": 7,
    "start_time": "2022-05-11T06:41:18.904Z"
   },
   {
    "duration": 7,
    "start_time": "2022-05-11T06:41:18.913Z"
   },
   {
    "duration": 11,
    "start_time": "2022-05-11T06:41:18.922Z"
   },
   {
    "duration": 27,
    "start_time": "2022-05-11T06:41:18.935Z"
   },
   {
    "duration": 8,
    "start_time": "2022-05-11T06:41:18.964Z"
   },
   {
    "duration": 30,
    "start_time": "2022-05-11T06:41:18.974Z"
   },
   {
    "duration": 27,
    "start_time": "2022-05-11T06:41:19.006Z"
   },
   {
    "duration": 38,
    "start_time": "2022-05-11T06:41:19.035Z"
   },
   {
    "duration": 66,
    "start_time": "2022-05-11T06:41:19.075Z"
   },
   {
    "duration": 77,
    "start_time": "2022-05-11T06:41:19.154Z"
   },
   {
    "duration": 72,
    "start_time": "2022-05-11T06:41:19.233Z"
   },
   {
    "duration": 61,
    "start_time": "2022-05-11T06:41:19.307Z"
   },
   {
    "duration": 15,
    "start_time": "2022-05-11T06:41:19.370Z"
   },
   {
    "duration": 84,
    "start_time": "2022-05-11T06:41:19.387Z"
   },
   {
    "duration": 58,
    "start_time": "2022-05-11T06:41:19.473Z"
   },
   {
    "duration": 30,
    "start_time": "2022-05-11T06:41:19.532Z"
   },
   {
    "duration": 12,
    "start_time": "2022-05-11T06:41:19.563Z"
   },
   {
    "duration": 3,
    "start_time": "2022-05-11T06:41:19.577Z"
   },
   {
    "duration": 7,
    "start_time": "2022-05-11T06:41:19.581Z"
   },
   {
    "duration": 19,
    "start_time": "2022-05-11T06:41:19.590Z"
   },
   {
    "duration": 17,
    "start_time": "2022-05-11T06:42:22.072Z"
   },
   {
    "duration": 3,
    "start_time": "2022-05-11T06:42:33.324Z"
   },
   {
    "duration": 157,
    "start_time": "2022-05-11T06:42:33.328Z"
   },
   {
    "duration": 126,
    "start_time": "2022-05-11T06:42:33.487Z"
   },
   {
    "duration": 6,
    "start_time": "2022-05-11T06:42:33.614Z"
   },
   {
    "duration": 7,
    "start_time": "2022-05-11T06:42:33.622Z"
   },
   {
    "duration": 9,
    "start_time": "2022-05-11T06:42:33.630Z"
   },
   {
    "duration": 26,
    "start_time": "2022-05-11T06:42:33.640Z"
   },
   {
    "duration": 6,
    "start_time": "2022-05-11T06:42:33.668Z"
   },
   {
    "duration": 32,
    "start_time": "2022-05-11T06:42:33.675Z"
   },
   {
    "duration": 49,
    "start_time": "2022-05-11T06:42:33.709Z"
   },
   {
    "duration": 43,
    "start_time": "2022-05-11T06:42:33.760Z"
   },
   {
    "duration": 78,
    "start_time": "2022-05-11T06:42:33.805Z"
   },
   {
    "duration": 78,
    "start_time": "2022-05-11T06:42:33.884Z"
   },
   {
    "duration": 76,
    "start_time": "2022-05-11T06:42:33.963Z"
   },
   {
    "duration": 61,
    "start_time": "2022-05-11T06:42:34.040Z"
   },
   {
    "duration": 15,
    "start_time": "2022-05-11T06:42:34.103Z"
   },
   {
    "duration": 92,
    "start_time": "2022-05-11T06:42:34.119Z"
   },
   {
    "duration": 70,
    "start_time": "2022-05-11T06:42:34.213Z"
   },
   {
    "duration": 13,
    "start_time": "2022-05-11T06:42:34.285Z"
   },
   {
    "duration": 11,
    "start_time": "2022-05-11T06:42:34.300Z"
   },
   {
    "duration": 3,
    "start_time": "2022-05-11T06:42:34.313Z"
   },
   {
    "duration": 14,
    "start_time": "2022-05-11T06:42:34.317Z"
   },
   {
    "duration": 37,
    "start_time": "2022-05-11T06:42:34.333Z"
   },
   {
    "duration": 3,
    "start_time": "2022-05-11T06:42:54.675Z"
   },
   {
    "duration": 162,
    "start_time": "2022-05-11T06:42:54.679Z"
   },
   {
    "duration": 130,
    "start_time": "2022-05-11T06:42:54.842Z"
   },
   {
    "duration": 6,
    "start_time": "2022-05-11T06:42:54.974Z"
   },
   {
    "duration": 22,
    "start_time": "2022-05-11T06:42:54.981Z"
   },
   {
    "duration": 22,
    "start_time": "2022-05-11T06:42:55.005Z"
   },
   {
    "duration": 31,
    "start_time": "2022-05-11T06:42:55.029Z"
   },
   {
    "duration": 15,
    "start_time": "2022-05-11T06:42:55.062Z"
   },
   {
    "duration": 36,
    "start_time": "2022-05-11T06:42:55.078Z"
   },
   {
    "duration": 42,
    "start_time": "2022-05-11T06:42:55.117Z"
   },
   {
    "duration": 35,
    "start_time": "2022-05-11T06:42:55.161Z"
   },
   {
    "duration": 74,
    "start_time": "2022-05-11T06:42:55.198Z"
   },
   {
    "duration": 84,
    "start_time": "2022-05-11T06:42:55.274Z"
   },
   {
    "duration": 71,
    "start_time": "2022-05-11T06:42:55.360Z"
   },
   {
    "duration": 67,
    "start_time": "2022-05-11T06:42:55.433Z"
   },
   {
    "duration": 16,
    "start_time": "2022-05-11T06:42:55.502Z"
   },
   {
    "duration": 95,
    "start_time": "2022-05-11T06:42:55.520Z"
   },
   {
    "duration": 85,
    "start_time": "2022-05-11T06:42:55.617Z"
   },
   {
    "duration": 18,
    "start_time": "2022-05-11T06:42:55.703Z"
   },
   {
    "duration": 32,
    "start_time": "2022-05-11T06:42:55.723Z"
   },
   {
    "duration": 3,
    "start_time": "2022-05-11T06:42:55.758Z"
   },
   {
    "duration": 235,
    "start_time": "2022-05-11T06:42:55.763Z"
   },
   {
    "duration": 4090,
    "start_time": "2022-05-11T06:42:56.000Z"
   },
   {
    "duration": 3,
    "start_time": "2022-05-11T06:44:00.727Z"
   },
   {
    "duration": 187,
    "start_time": "2022-05-11T06:44:00.733Z"
   },
   {
    "duration": 144,
    "start_time": "2022-05-11T06:44:00.922Z"
   },
   {
    "duration": 6,
    "start_time": "2022-05-11T06:44:01.068Z"
   },
   {
    "duration": 11,
    "start_time": "2022-05-11T06:44:01.077Z"
   },
   {
    "duration": 24,
    "start_time": "2022-05-11T06:44:01.090Z"
   },
   {
    "duration": 41,
    "start_time": "2022-05-11T06:44:01.116Z"
   },
   {
    "duration": 14,
    "start_time": "2022-05-11T06:44:01.159Z"
   },
   {
    "duration": 51,
    "start_time": "2022-05-11T06:44:01.175Z"
   },
   {
    "duration": 36,
    "start_time": "2022-05-11T06:44:01.228Z"
   },
   {
    "duration": 37,
    "start_time": "2022-05-11T06:44:01.266Z"
   },
   {
    "duration": 124,
    "start_time": "2022-05-11T06:44:01.305Z"
   },
   {
    "duration": 69,
    "start_time": "2022-05-11T06:44:01.431Z"
   },
   {
    "duration": 68,
    "start_time": "2022-05-11T06:44:01.504Z"
   },
   {
    "duration": 49,
    "start_time": "2022-05-11T06:44:01.574Z"
   },
   {
    "duration": 39,
    "start_time": "2022-05-11T06:44:01.625Z"
   },
   {
    "duration": 87,
    "start_time": "2022-05-11T06:44:01.665Z"
   },
   {
    "duration": 57,
    "start_time": "2022-05-11T06:44:01.754Z"
   },
   {
    "duration": 63,
    "start_time": "2022-05-11T06:44:01.813Z"
   },
   {
    "duration": 39,
    "start_time": "2022-05-11T06:44:01.878Z"
   },
   {
    "duration": 54,
    "start_time": "2022-05-11T06:44:01.919Z"
   },
   {
    "duration": 210,
    "start_time": "2022-05-11T06:44:01.975Z"
   },
   {
    "duration": 3029,
    "start_time": "2022-05-11T06:44:02.187Z"
   },
   {
    "duration": 2,
    "start_time": "2022-05-11T06:46:33.780Z"
   },
   {
    "duration": 157,
    "start_time": "2022-05-11T06:46:33.785Z"
   },
   {
    "duration": 140,
    "start_time": "2022-05-11T06:46:33.944Z"
   },
   {
    "duration": 7,
    "start_time": "2022-05-11T06:46:34.086Z"
   },
   {
    "duration": 5,
    "start_time": "2022-05-11T06:46:34.095Z"
   },
   {
    "duration": 8,
    "start_time": "2022-05-11T06:46:34.102Z"
   },
   {
    "duration": 14,
    "start_time": "2022-05-11T06:46:34.112Z"
   },
   {
    "duration": 27,
    "start_time": "2022-05-11T06:46:34.129Z"
   },
   {
    "duration": 26,
    "start_time": "2022-05-11T06:46:34.158Z"
   },
   {
    "duration": 23,
    "start_time": "2022-05-11T06:46:34.186Z"
   },
   {
    "duration": 46,
    "start_time": "2022-05-11T06:46:34.212Z"
   },
   {
    "duration": 59,
    "start_time": "2022-05-11T06:46:34.260Z"
   },
   {
    "duration": 87,
    "start_time": "2022-05-11T06:46:34.321Z"
   },
   {
    "duration": 63,
    "start_time": "2022-05-11T06:46:34.410Z"
   },
   {
    "duration": 52,
    "start_time": "2022-05-11T06:46:34.475Z"
   },
   {
    "duration": 34,
    "start_time": "2022-05-11T06:46:34.529Z"
   },
   {
    "duration": 67,
    "start_time": "2022-05-11T06:46:34.564Z"
   },
   {
    "duration": 69,
    "start_time": "2022-05-11T06:46:34.633Z"
   },
   {
    "duration": 11,
    "start_time": "2022-05-11T06:46:34.704Z"
   },
   {
    "duration": 11,
    "start_time": "2022-05-11T06:46:34.716Z"
   },
   {
    "duration": 3,
    "start_time": "2022-05-11T06:46:34.728Z"
   },
   {
    "duration": 24,
    "start_time": "2022-05-11T06:46:34.732Z"
   },
   {
    "duration": 20,
    "start_time": "2022-05-11T06:46:34.758Z"
   },
   {
    "duration": 3,
    "start_time": "2022-05-11T06:49:58.476Z"
   },
   {
    "duration": 166,
    "start_time": "2022-05-11T06:49:58.481Z"
   },
   {
    "duration": 133,
    "start_time": "2022-05-11T06:49:58.649Z"
   },
   {
    "duration": 6,
    "start_time": "2022-05-11T06:49:58.784Z"
   },
   {
    "duration": 8,
    "start_time": "2022-05-11T06:49:58.792Z"
   },
   {
    "duration": 27,
    "start_time": "2022-05-11T06:49:58.802Z"
   },
   {
    "duration": 27,
    "start_time": "2022-05-11T06:49:58.831Z"
   },
   {
    "duration": 21,
    "start_time": "2022-05-11T06:49:58.859Z"
   },
   {
    "duration": 42,
    "start_time": "2022-05-11T06:49:58.881Z"
   },
   {
    "duration": 27,
    "start_time": "2022-05-11T06:49:58.924Z"
   },
   {
    "duration": 27,
    "start_time": "2022-05-11T06:49:58.952Z"
   },
   {
    "duration": 69,
    "start_time": "2022-05-11T06:49:58.980Z"
   },
   {
    "duration": 70,
    "start_time": "2022-05-11T06:49:59.054Z"
   },
   {
    "duration": 71,
    "start_time": "2022-05-11T06:49:59.127Z"
   },
   {
    "duration": 58,
    "start_time": "2022-05-11T06:49:59.200Z"
   },
   {
    "duration": 16,
    "start_time": "2022-05-11T06:49:59.260Z"
   },
   {
    "duration": 84,
    "start_time": "2022-05-11T06:49:59.278Z"
   },
   {
    "duration": 54,
    "start_time": "2022-05-11T06:49:59.364Z"
   },
   {
    "duration": 13,
    "start_time": "2022-05-11T06:49:59.419Z"
   },
   {
    "duration": 31,
    "start_time": "2022-05-11T06:49:59.433Z"
   },
   {
    "duration": 3,
    "start_time": "2022-05-11T06:49:59.465Z"
   },
   {
    "duration": 8,
    "start_time": "2022-05-11T06:49:59.469Z"
   },
   {
    "duration": 22,
    "start_time": "2022-05-11T06:49:59.478Z"
   },
   {
    "duration": 15,
    "start_time": "2022-05-11T06:49:59.501Z"
   },
   {
    "duration": 2,
    "start_time": "2022-05-11T06:51:02.971Z"
   },
   {
    "duration": 145,
    "start_time": "2022-05-11T06:51:02.975Z"
   },
   {
    "duration": 118,
    "start_time": "2022-05-11T06:51:03.122Z"
   },
   {
    "duration": 15,
    "start_time": "2022-05-11T06:51:03.242Z"
   },
   {
    "duration": 19,
    "start_time": "2022-05-11T06:51:03.258Z"
   },
   {
    "duration": 25,
    "start_time": "2022-05-11T06:51:03.278Z"
   },
   {
    "duration": 46,
    "start_time": "2022-05-11T06:51:03.305Z"
   },
   {
    "duration": 11,
    "start_time": "2022-05-11T06:51:03.353Z"
   },
   {
    "duration": 29,
    "start_time": "2022-05-11T06:51:03.367Z"
   },
   {
    "duration": 69,
    "start_time": "2022-05-11T06:51:03.398Z"
   },
   {
    "duration": 27,
    "start_time": "2022-05-11T06:51:03.468Z"
   },
   {
    "duration": 70,
    "start_time": "2022-05-11T06:51:03.496Z"
   },
   {
    "duration": 68,
    "start_time": "2022-05-11T06:51:03.568Z"
   },
   {
    "duration": 68,
    "start_time": "2022-05-11T06:51:03.638Z"
   },
   {
    "duration": 61,
    "start_time": "2022-05-11T06:51:03.708Z"
   },
   {
    "duration": 14,
    "start_time": "2022-05-11T06:51:03.771Z"
   },
   {
    "duration": 80,
    "start_time": "2022-05-11T06:51:03.787Z"
   },
   {
    "duration": 56,
    "start_time": "2022-05-11T06:51:03.869Z"
   },
   {
    "duration": 28,
    "start_time": "2022-05-11T06:51:03.927Z"
   },
   {
    "duration": 12,
    "start_time": "2022-05-11T06:51:03.957Z"
   },
   {
    "duration": 3,
    "start_time": "2022-05-11T06:51:03.971Z"
   },
   {
    "duration": 15,
    "start_time": "2022-05-11T06:51:03.976Z"
   },
   {
    "duration": 20,
    "start_time": "2022-05-11T06:51:03.993Z"
   },
   {
    "duration": 15,
    "start_time": "2022-05-11T06:51:04.016Z"
   },
   {
    "duration": 35,
    "start_time": "2022-05-11T06:51:04.033Z"
   },
   {
    "duration": 2,
    "start_time": "2022-05-11T06:51:56.184Z"
   },
   {
    "duration": 141,
    "start_time": "2022-05-11T06:51:56.188Z"
   },
   {
    "duration": 124,
    "start_time": "2022-05-11T06:51:56.331Z"
   },
   {
    "duration": 7,
    "start_time": "2022-05-11T06:51:56.457Z"
   },
   {
    "duration": 7,
    "start_time": "2022-05-11T06:51:56.467Z"
   },
   {
    "duration": 25,
    "start_time": "2022-05-11T06:51:56.476Z"
   },
   {
    "duration": 44,
    "start_time": "2022-05-11T06:51:56.503Z"
   },
   {
    "duration": 13,
    "start_time": "2022-05-11T06:51:56.549Z"
   },
   {
    "duration": 48,
    "start_time": "2022-05-11T06:51:56.564Z"
   },
   {
    "duration": 46,
    "start_time": "2022-05-11T06:51:56.614Z"
   },
   {
    "duration": 26,
    "start_time": "2022-05-11T06:51:56.663Z"
   },
   {
    "duration": 174,
    "start_time": "2022-05-11T06:51:56.691Z"
   },
   {
    "duration": 66,
    "start_time": "2022-05-11T06:51:56.868Z"
   },
   {
    "duration": 70,
    "start_time": "2022-05-11T06:51:56.936Z"
   },
   {
    "duration": 61,
    "start_time": "2022-05-11T06:51:57.008Z"
   },
   {
    "duration": 16,
    "start_time": "2022-05-11T06:51:57.070Z"
   },
   {
    "duration": 81,
    "start_time": "2022-05-11T06:51:57.088Z"
   },
   {
    "duration": 54,
    "start_time": "2022-05-11T06:51:57.170Z"
   },
   {
    "duration": 12,
    "start_time": "2022-05-11T06:51:57.225Z"
   },
   {
    "duration": 25,
    "start_time": "2022-05-11T06:51:57.238Z"
   },
   {
    "duration": 3,
    "start_time": "2022-05-11T06:51:57.264Z"
   },
   {
    "duration": 8,
    "start_time": "2022-05-11T06:51:57.268Z"
   },
   {
    "duration": 20,
    "start_time": "2022-05-11T06:51:57.277Z"
   },
   {
    "duration": 14,
    "start_time": "2022-05-11T06:51:57.298Z"
   },
   {
    "duration": 49,
    "start_time": "2022-05-11T06:51:57.314Z"
   },
   {
    "duration": 16,
    "start_time": "2022-05-11T06:51:57.364Z"
   },
   {
    "duration": 3,
    "start_time": "2022-05-11T06:52:46.890Z"
   },
   {
    "duration": 157,
    "start_time": "2022-05-11T06:52:46.895Z"
   },
   {
    "duration": 130,
    "start_time": "2022-05-11T06:52:47.054Z"
   },
   {
    "duration": 6,
    "start_time": "2022-05-11T06:52:47.186Z"
   },
   {
    "duration": 4,
    "start_time": "2022-05-11T06:52:47.194Z"
   },
   {
    "duration": 8,
    "start_time": "2022-05-11T06:52:47.199Z"
   },
   {
    "duration": 16,
    "start_time": "2022-05-11T06:52:47.208Z"
   },
   {
    "duration": 9,
    "start_time": "2022-05-11T06:52:47.225Z"
   },
   {
    "duration": 41,
    "start_time": "2022-05-11T06:52:47.236Z"
   },
   {
    "duration": 23,
    "start_time": "2022-05-11T06:52:47.279Z"
   },
   {
    "duration": 25,
    "start_time": "2022-05-11T06:52:47.305Z"
   },
   {
    "duration": 75,
    "start_time": "2022-05-11T06:52:47.332Z"
   },
   {
    "duration": 81,
    "start_time": "2022-05-11T06:52:47.409Z"
   },
   {
    "duration": 63,
    "start_time": "2022-05-11T06:52:47.492Z"
   },
   {
    "duration": 49,
    "start_time": "2022-05-11T06:52:47.557Z"
   },
   {
    "duration": 16,
    "start_time": "2022-05-11T06:52:47.608Z"
   },
   {
    "duration": 90,
    "start_time": "2022-05-11T06:52:47.626Z"
   },
   {
    "duration": 70,
    "start_time": "2022-05-11T06:52:47.718Z"
   },
   {
    "duration": 12,
    "start_time": "2022-05-11T06:52:47.790Z"
   },
   {
    "duration": 13,
    "start_time": "2022-05-11T06:52:47.803Z"
   },
   {
    "duration": 10,
    "start_time": "2022-05-11T06:52:47.817Z"
   },
   {
    "duration": 26,
    "start_time": "2022-05-11T06:52:47.829Z"
   },
   {
    "duration": 20,
    "start_time": "2022-05-11T06:52:47.857Z"
   },
   {
    "duration": 16,
    "start_time": "2022-05-11T06:52:47.879Z"
   },
   {
    "duration": 16,
    "start_time": "2022-05-11T06:52:47.897Z"
   },
   {
    "duration": 43,
    "start_time": "2022-05-11T06:52:47.915Z"
   },
   {
    "duration": 16,
    "start_time": "2022-05-11T06:52:47.960Z"
   },
   {
    "duration": 3,
    "start_time": "2022-05-11T06:53:13.830Z"
   },
   {
    "duration": 145,
    "start_time": "2022-05-11T06:53:13.835Z"
   },
   {
    "duration": 123,
    "start_time": "2022-05-11T06:53:13.982Z"
   },
   {
    "duration": 6,
    "start_time": "2022-05-11T06:53:14.107Z"
   },
   {
    "duration": 4,
    "start_time": "2022-05-11T06:53:14.116Z"
   },
   {
    "duration": 7,
    "start_time": "2022-05-11T06:53:14.121Z"
   },
   {
    "duration": 29,
    "start_time": "2022-05-11T06:53:14.129Z"
   },
   {
    "duration": 8,
    "start_time": "2022-05-11T06:53:14.160Z"
   },
   {
    "duration": 29,
    "start_time": "2022-05-11T06:53:14.170Z"
   },
   {
    "duration": 22,
    "start_time": "2022-05-11T06:53:14.200Z"
   },
   {
    "duration": 45,
    "start_time": "2022-05-11T06:53:14.224Z"
   },
   {
    "duration": 112,
    "start_time": "2022-05-11T06:53:14.271Z"
   },
   {
    "duration": 116,
    "start_time": "2022-05-11T06:53:14.385Z"
   },
   {
    "duration": 65,
    "start_time": "2022-05-11T06:53:14.504Z"
   },
   {
    "duration": 52,
    "start_time": "2022-05-11T06:53:14.570Z"
   },
   {
    "duration": 33,
    "start_time": "2022-05-11T06:53:14.624Z"
   },
   {
    "duration": 76,
    "start_time": "2022-05-11T06:53:14.659Z"
   },
   {
    "duration": 71,
    "start_time": "2022-05-11T06:53:14.736Z"
   },
   {
    "duration": 12,
    "start_time": "2022-05-11T06:53:14.808Z"
   },
   {
    "duration": 33,
    "start_time": "2022-05-11T06:53:14.822Z"
   },
   {
    "duration": 3,
    "start_time": "2022-05-11T06:53:14.856Z"
   },
   {
    "duration": 10,
    "start_time": "2022-05-11T06:53:14.860Z"
   },
   {
    "duration": 18,
    "start_time": "2022-05-11T06:53:14.872Z"
   },
   {
    "duration": 12,
    "start_time": "2022-05-11T06:53:14.892Z"
   },
   {
    "duration": 13,
    "start_time": "2022-05-11T06:53:14.906Z"
   },
   {
    "duration": 37,
    "start_time": "2022-05-11T06:53:14.920Z"
   },
   {
    "duration": 16,
    "start_time": "2022-05-11T06:53:14.958Z"
   },
   {
    "duration": 12,
    "start_time": "2022-05-11T06:53:14.976Z"
   },
   {
    "duration": 2,
    "start_time": "2022-05-11T06:54:24.432Z"
   },
   {
    "duration": 169,
    "start_time": "2022-05-11T06:54:24.436Z"
   },
   {
    "duration": 126,
    "start_time": "2022-05-11T06:54:24.606Z"
   },
   {
    "duration": 6,
    "start_time": "2022-05-11T06:54:24.734Z"
   },
   {
    "duration": 13,
    "start_time": "2022-05-11T06:54:24.741Z"
   },
   {
    "duration": 26,
    "start_time": "2022-05-11T06:54:24.755Z"
   },
   {
    "duration": 27,
    "start_time": "2022-05-11T06:54:24.782Z"
   },
   {
    "duration": 23,
    "start_time": "2022-05-11T06:54:24.810Z"
   },
   {
    "duration": 44,
    "start_time": "2022-05-11T06:54:24.834Z"
   },
   {
    "duration": 33,
    "start_time": "2022-05-11T06:54:24.879Z"
   },
   {
    "duration": 32,
    "start_time": "2022-05-11T06:54:24.913Z"
   },
   {
    "duration": 59,
    "start_time": "2022-05-11T06:54:24.947Z"
   },
   {
    "duration": 78,
    "start_time": "2022-05-11T06:54:25.008Z"
   },
   {
    "duration": 51,
    "start_time": "2022-05-11T06:54:25.089Z"
   },
   {
    "duration": 55,
    "start_time": "2022-05-11T06:54:25.142Z"
   },
   {
    "duration": 17,
    "start_time": "2022-05-11T06:54:25.199Z"
   },
   {
    "duration": 82,
    "start_time": "2022-05-11T06:54:25.218Z"
   },
   {
    "duration": 65,
    "start_time": "2022-05-11T06:54:25.302Z"
   },
   {
    "duration": 12,
    "start_time": "2022-05-11T06:54:25.369Z"
   },
   {
    "duration": 28,
    "start_time": "2022-05-11T06:54:25.383Z"
   },
   {
    "duration": 18,
    "start_time": "2022-05-11T06:54:25.413Z"
   },
   {
    "duration": 35,
    "start_time": "2022-05-11T06:54:25.432Z"
   },
   {
    "duration": 26,
    "start_time": "2022-05-11T06:54:25.469Z"
   },
   {
    "duration": 20,
    "start_time": "2022-05-11T06:54:25.497Z"
   },
   {
    "duration": 17,
    "start_time": "2022-05-11T06:54:25.519Z"
   },
   {
    "duration": 13,
    "start_time": "2022-05-11T06:54:25.537Z"
   },
   {
    "duration": 15,
    "start_time": "2022-05-11T06:54:25.551Z"
   },
   {
    "duration": 12,
    "start_time": "2022-05-11T06:54:25.568Z"
   },
   {
    "duration": 9,
    "start_time": "2022-05-11T06:54:25.582Z"
   },
   {
    "duration": 2,
    "start_time": "2022-05-11T06:55:45.888Z"
   },
   {
    "duration": 152,
    "start_time": "2022-05-11T06:55:45.893Z"
   },
   {
    "duration": 127,
    "start_time": "2022-05-11T06:55:46.047Z"
   },
   {
    "duration": 6,
    "start_time": "2022-05-11T06:55:46.176Z"
   },
   {
    "duration": 22,
    "start_time": "2022-05-11T06:55:46.184Z"
   },
   {
    "duration": 6,
    "start_time": "2022-05-11T06:55:46.208Z"
   },
   {
    "duration": 19,
    "start_time": "2022-05-11T06:55:46.216Z"
   },
   {
    "duration": 22,
    "start_time": "2022-05-11T06:55:46.237Z"
   },
   {
    "duration": 31,
    "start_time": "2022-05-11T06:55:46.261Z"
   },
   {
    "duration": 22,
    "start_time": "2022-05-11T06:55:46.294Z"
   },
   {
    "duration": 37,
    "start_time": "2022-05-11T06:55:46.318Z"
   },
   {
    "duration": 57,
    "start_time": "2022-05-11T06:55:46.357Z"
   },
   {
    "duration": 116,
    "start_time": "2022-05-11T06:55:46.416Z"
   },
   {
    "duration": 72,
    "start_time": "2022-05-11T06:55:46.535Z"
   },
   {
    "duration": 61,
    "start_time": "2022-05-11T06:55:46.608Z"
   },
   {
    "duration": 15,
    "start_time": "2022-05-11T06:55:46.671Z"
   },
   {
    "duration": 85,
    "start_time": "2022-05-11T06:55:46.688Z"
   },
   {
    "duration": 56,
    "start_time": "2022-05-11T06:55:46.775Z"
   },
   {
    "duration": 23,
    "start_time": "2022-05-11T06:55:46.832Z"
   },
   {
    "duration": 12,
    "start_time": "2022-05-11T06:55:46.857Z"
   },
   {
    "duration": 2,
    "start_time": "2022-05-11T06:55:46.871Z"
   },
   {
    "duration": 20,
    "start_time": "2022-05-11T06:55:46.875Z"
   },
   {
    "duration": 23,
    "start_time": "2022-05-11T06:55:46.896Z"
   },
   {
    "duration": 14,
    "start_time": "2022-05-11T06:55:46.921Z"
   },
   {
    "duration": 31,
    "start_time": "2022-05-11T06:55:46.937Z"
   },
   {
    "duration": 13,
    "start_time": "2022-05-11T06:55:46.969Z"
   },
   {
    "duration": 16,
    "start_time": "2022-05-11T06:55:46.984Z"
   },
   {
    "duration": 13,
    "start_time": "2022-05-11T06:55:47.002Z"
   },
   {
    "duration": 39,
    "start_time": "2022-05-11T06:55:47.017Z"
   },
   {
    "duration": 3,
    "start_time": "2022-05-11T07:02:09.597Z"
   },
   {
    "duration": 153,
    "start_time": "2022-05-11T07:02:09.602Z"
   },
   {
    "duration": 134,
    "start_time": "2022-05-11T07:02:09.757Z"
   },
   {
    "duration": 7,
    "start_time": "2022-05-11T07:02:09.894Z"
   },
   {
    "duration": 7,
    "start_time": "2022-05-11T07:02:09.902Z"
   },
   {
    "duration": 10,
    "start_time": "2022-05-11T07:02:09.911Z"
   },
   {
    "duration": 15,
    "start_time": "2022-05-11T07:02:09.923Z"
   },
   {
    "duration": 5,
    "start_time": "2022-05-11T07:02:09.954Z"
   },
   {
    "duration": 45,
    "start_time": "2022-05-11T07:02:09.960Z"
   },
   {
    "duration": 115,
    "start_time": "2022-05-11T07:02:10.009Z"
   },
   {
    "duration": 25,
    "start_time": "2022-05-11T07:02:10.125Z"
   },
   {
    "duration": 62,
    "start_time": "2022-05-11T07:02:10.152Z"
   },
   {
    "duration": 83,
    "start_time": "2022-05-11T07:02:10.215Z"
   },
   {
    "duration": 64,
    "start_time": "2022-05-11T07:02:10.300Z"
   },
   {
    "duration": 50,
    "start_time": "2022-05-11T07:02:10.366Z"
   },
   {
    "duration": 15,
    "start_time": "2022-05-11T07:02:10.417Z"
   },
   {
    "duration": 91,
    "start_time": "2022-05-11T07:02:10.433Z"
   },
   {
    "duration": 77,
    "start_time": "2022-05-11T07:02:10.525Z"
   },
   {
    "duration": 12,
    "start_time": "2022-05-11T07:02:10.603Z"
   },
   {
    "duration": 15,
    "start_time": "2022-05-11T07:02:10.616Z"
   },
   {
    "duration": 4,
    "start_time": "2022-05-11T07:02:10.632Z"
   },
   {
    "duration": 3,
    "start_time": "2022-05-11T07:02:10.655Z"
   },
   {
    "duration": 28,
    "start_time": "2022-05-11T07:02:10.659Z"
   },
   {
    "duration": 15,
    "start_time": "2022-05-11T07:02:10.689Z"
   },
   {
    "duration": 15,
    "start_time": "2022-05-11T07:02:10.707Z"
   },
   {
    "duration": 36,
    "start_time": "2022-05-11T07:02:10.724Z"
   },
   {
    "duration": 19,
    "start_time": "2022-05-11T07:02:10.762Z"
   },
   {
    "duration": 16,
    "start_time": "2022-05-11T07:02:10.786Z"
   },
   {
    "duration": 10,
    "start_time": "2022-05-11T07:02:10.804Z"
   },
   {
    "duration": 2,
    "start_time": "2022-05-11T07:03:06.078Z"
   },
   {
    "duration": 160,
    "start_time": "2022-05-11T07:03:06.083Z"
   },
   {
    "duration": 131,
    "start_time": "2022-05-11T07:03:06.245Z"
   },
   {
    "duration": 7,
    "start_time": "2022-05-11T07:03:06.377Z"
   },
   {
    "duration": 3,
    "start_time": "2022-05-11T07:03:06.387Z"
   },
   {
    "duration": 9,
    "start_time": "2022-05-11T07:03:06.391Z"
   },
   {
    "duration": 19,
    "start_time": "2022-05-11T07:03:06.402Z"
   },
   {
    "duration": 8,
    "start_time": "2022-05-11T07:03:06.423Z"
   },
   {
    "duration": 28,
    "start_time": "2022-05-11T07:03:06.454Z"
   },
   {
    "duration": 25,
    "start_time": "2022-05-11T07:03:06.484Z"
   },
   {
    "duration": 51,
    "start_time": "2022-05-11T07:03:06.511Z"
   },
   {
    "duration": 67,
    "start_time": "2022-05-11T07:03:06.564Z"
   },
   {
    "duration": 93,
    "start_time": "2022-05-11T07:03:06.635Z"
   },
   {
    "duration": 74,
    "start_time": "2022-05-11T07:03:06.731Z"
   },
   {
    "duration": 69,
    "start_time": "2022-05-11T07:03:06.807Z"
   },
   {
    "duration": 16,
    "start_time": "2022-05-11T07:03:06.878Z"
   },
   {
    "duration": 89,
    "start_time": "2022-05-11T07:03:06.896Z"
   },
   {
    "duration": 71,
    "start_time": "2022-05-11T07:03:06.987Z"
   },
   {
    "duration": 13,
    "start_time": "2022-05-11T07:03:07.060Z"
   },
   {
    "duration": 13,
    "start_time": "2022-05-11T07:03:07.076Z"
   },
   {
    "duration": 3,
    "start_time": "2022-05-11T07:03:07.091Z"
   },
   {
    "duration": 12,
    "start_time": "2022-05-11T07:03:07.096Z"
   },
   {
    "duration": 47,
    "start_time": "2022-05-11T07:03:07.110Z"
   },
   {
    "duration": 17,
    "start_time": "2022-05-11T07:03:07.159Z"
   },
   {
    "duration": 16,
    "start_time": "2022-05-11T07:03:07.178Z"
   },
   {
    "duration": 16,
    "start_time": "2022-05-11T07:03:07.196Z"
   },
   {
    "duration": 51,
    "start_time": "2022-05-11T07:03:07.214Z"
   },
   {
    "duration": 16,
    "start_time": "2022-05-11T07:03:07.268Z"
   },
   {
    "duration": 11,
    "start_time": "2022-05-11T07:03:07.286Z"
   },
   {
    "duration": 3,
    "start_time": "2022-05-11T07:05:45.867Z"
   },
   {
    "duration": 174,
    "start_time": "2022-05-11T07:05:45.873Z"
   },
   {
    "duration": 150,
    "start_time": "2022-05-11T07:05:46.049Z"
   },
   {
    "duration": 7,
    "start_time": "2022-05-11T07:05:46.201Z"
   },
   {
    "duration": 29,
    "start_time": "2022-05-11T07:05:46.211Z"
   },
   {
    "duration": 20,
    "start_time": "2022-05-11T07:05:46.242Z"
   },
   {
    "duration": 27,
    "start_time": "2022-05-11T07:05:46.264Z"
   },
   {
    "duration": 21,
    "start_time": "2022-05-11T07:05:46.293Z"
   },
   {
    "duration": 46,
    "start_time": "2022-05-11T07:05:46.316Z"
   },
   {
    "duration": 34,
    "start_time": "2022-05-11T07:05:46.364Z"
   },
   {
    "duration": 28,
    "start_time": "2022-05-11T07:05:46.401Z"
   },
   {
    "duration": 78,
    "start_time": "2022-05-11T07:05:46.432Z"
   },
   {
    "duration": 93,
    "start_time": "2022-05-11T07:05:46.513Z"
   },
   {
    "duration": 80,
    "start_time": "2022-05-11T07:05:46.610Z"
   },
   {
    "duration": 66,
    "start_time": "2022-05-11T07:05:46.692Z"
   },
   {
    "duration": 16,
    "start_time": "2022-05-11T07:05:46.759Z"
   },
   {
    "duration": 87,
    "start_time": "2022-05-11T07:05:46.776Z"
   },
   {
    "duration": 62,
    "start_time": "2022-05-11T07:05:46.865Z"
   },
   {
    "duration": 25,
    "start_time": "2022-05-11T07:05:46.929Z"
   },
   {
    "duration": 15,
    "start_time": "2022-05-11T07:05:46.956Z"
   },
   {
    "duration": 18,
    "start_time": "2022-05-11T07:05:46.973Z"
   },
   {
    "duration": 45,
    "start_time": "2022-05-11T07:05:46.992Z"
   },
   {
    "duration": 58,
    "start_time": "2022-05-11T07:05:47.039Z"
   },
   {
    "duration": 35,
    "start_time": "2022-05-11T07:05:47.099Z"
   },
   {
    "duration": 42,
    "start_time": "2022-05-11T07:05:47.136Z"
   },
   {
    "duration": 46,
    "start_time": "2022-05-11T07:05:47.179Z"
   },
   {
    "duration": 40,
    "start_time": "2022-05-11T07:05:47.227Z"
   },
   {
    "duration": 17,
    "start_time": "2022-05-11T07:05:47.269Z"
   },
   {
    "duration": 9,
    "start_time": "2022-05-11T07:05:47.288Z"
   },
   {
    "duration": 3,
    "start_time": "2022-05-11T07:15:31.638Z"
   },
   {
    "duration": 213,
    "start_time": "2022-05-11T07:15:31.644Z"
   },
   {
    "duration": 150,
    "start_time": "2022-05-11T07:15:31.859Z"
   },
   {
    "duration": 6,
    "start_time": "2022-05-11T07:15:32.012Z"
   },
   {
    "duration": 21,
    "start_time": "2022-05-11T07:15:32.021Z"
   },
   {
    "duration": 17,
    "start_time": "2022-05-11T07:15:32.044Z"
   },
   {
    "duration": 19,
    "start_time": "2022-05-11T07:15:32.063Z"
   },
   {
    "duration": 21,
    "start_time": "2022-05-11T07:15:32.084Z"
   },
   {
    "duration": 37,
    "start_time": "2022-05-11T07:15:32.107Z"
   },
   {
    "duration": 39,
    "start_time": "2022-05-11T07:15:32.146Z"
   },
   {
    "duration": 27,
    "start_time": "2022-05-11T07:15:32.186Z"
   },
   {
    "duration": 85,
    "start_time": "2022-05-11T07:15:32.214Z"
   },
   {
    "duration": 88,
    "start_time": "2022-05-11T07:15:32.301Z"
   },
   {
    "duration": 88,
    "start_time": "2022-05-11T07:15:32.393Z"
   },
   {
    "duration": 55,
    "start_time": "2022-05-11T07:15:32.483Z"
   },
   {
    "duration": 18,
    "start_time": "2022-05-11T07:15:32.554Z"
   },
   {
    "duration": 91,
    "start_time": "2022-05-11T07:15:32.574Z"
   },
   {
    "duration": 60,
    "start_time": "2022-05-11T07:15:32.667Z"
   },
   {
    "duration": 25,
    "start_time": "2022-05-11T07:15:32.729Z"
   },
   {
    "duration": 14,
    "start_time": "2022-05-11T07:15:32.756Z"
   },
   {
    "duration": 218,
    "start_time": "2022-05-11T07:15:32.772Z"
   },
   {
    "duration": 25,
    "start_time": "2022-05-11T07:15:32.992Z"
   },
   {
    "duration": 30,
    "start_time": "2022-05-11T07:15:33.019Z"
   },
   {
    "duration": 19,
    "start_time": "2022-05-11T07:15:33.050Z"
   },
   {
    "duration": 24,
    "start_time": "2022-05-11T07:15:33.070Z"
   },
   {
    "duration": 23,
    "start_time": "2022-05-11T07:15:33.096Z"
   },
   {
    "duration": 20,
    "start_time": "2022-05-11T07:15:33.120Z"
   },
   {
    "duration": 15,
    "start_time": "2022-05-11T07:15:33.142Z"
   },
   {
    "duration": 9,
    "start_time": "2022-05-11T07:15:33.159Z"
   },
   {
    "duration": 3,
    "start_time": "2022-05-11T07:16:59.647Z"
   },
   {
    "duration": 175,
    "start_time": "2022-05-11T07:16:59.652Z"
   },
   {
    "duration": 130,
    "start_time": "2022-05-11T07:16:59.829Z"
   },
   {
    "duration": 6,
    "start_time": "2022-05-11T07:16:59.961Z"
   },
   {
    "duration": 28,
    "start_time": "2022-05-11T07:16:59.968Z"
   },
   {
    "duration": 26,
    "start_time": "2022-05-11T07:16:59.998Z"
   },
   {
    "duration": 58,
    "start_time": "2022-05-11T07:17:00.025Z"
   },
   {
    "duration": 44,
    "start_time": "2022-05-11T07:17:00.084Z"
   },
   {
    "duration": 47,
    "start_time": "2022-05-11T07:17:00.132Z"
   },
   {
    "duration": 51,
    "start_time": "2022-05-11T07:17:00.181Z"
   },
   {
    "duration": 51,
    "start_time": "2022-05-11T07:17:00.234Z"
   },
   {
    "duration": 102,
    "start_time": "2022-05-11T07:17:00.287Z"
   },
   {
    "duration": 91,
    "start_time": "2022-05-11T07:17:00.391Z"
   },
   {
    "duration": 77,
    "start_time": "2022-05-11T07:17:00.483Z"
   },
   {
    "duration": 54,
    "start_time": "2022-05-11T07:17:00.562Z"
   },
   {
    "duration": 16,
    "start_time": "2022-05-11T07:17:00.617Z"
   },
   {
    "duration": 107,
    "start_time": "2022-05-11T07:17:00.655Z"
   },
   {
    "duration": 82,
    "start_time": "2022-05-11T07:17:00.764Z"
   },
   {
    "duration": 41,
    "start_time": "2022-05-11T07:17:00.848Z"
   },
   {
    "duration": 109,
    "start_time": "2022-05-11T07:17:00.891Z"
   },
   {
    "duration": 91,
    "start_time": "2022-05-11T07:17:01.002Z"
   },
   {
    "duration": 67,
    "start_time": "2022-05-11T07:17:01.095Z"
   },
   {
    "duration": 50,
    "start_time": "2022-05-11T07:17:01.164Z"
   },
   {
    "duration": 40,
    "start_time": "2022-05-11T07:17:01.217Z"
   },
   {
    "duration": 41,
    "start_time": "2022-05-11T07:17:01.259Z"
   },
   {
    "duration": 35,
    "start_time": "2022-05-11T07:17:01.302Z"
   },
   {
    "duration": 68,
    "start_time": "2022-05-11T07:17:01.339Z"
   },
   {
    "duration": 74,
    "start_time": "2022-05-11T07:17:01.408Z"
   },
   {
    "duration": 29,
    "start_time": "2022-05-11T07:17:01.484Z"
   },
   {
    "duration": 135,
    "start_time": "2022-05-11T07:18:20.138Z"
   },
   {
    "duration": 3,
    "start_time": "2022-05-11T07:35:11.836Z"
   },
   {
    "duration": 162,
    "start_time": "2022-05-11T07:35:11.841Z"
   },
   {
    "duration": 150,
    "start_time": "2022-05-11T07:35:12.004Z"
   },
   {
    "duration": 7,
    "start_time": "2022-05-11T07:35:12.156Z"
   },
   {
    "duration": 13,
    "start_time": "2022-05-11T07:35:12.166Z"
   },
   {
    "duration": 14,
    "start_time": "2022-05-11T07:35:12.181Z"
   },
   {
    "duration": 25,
    "start_time": "2022-05-11T07:35:12.196Z"
   },
   {
    "duration": 8,
    "start_time": "2022-05-11T07:35:12.223Z"
   },
   {
    "duration": 50,
    "start_time": "2022-05-11T07:35:12.232Z"
   },
   {
    "duration": 24,
    "start_time": "2022-05-11T07:35:12.283Z"
   },
   {
    "duration": 37,
    "start_time": "2022-05-11T07:35:12.308Z"
   },
   {
    "duration": 76,
    "start_time": "2022-05-11T07:35:12.347Z"
   },
   {
    "duration": 93,
    "start_time": "2022-05-11T07:35:12.425Z"
   },
   {
    "duration": 76,
    "start_time": "2022-05-11T07:35:12.522Z"
   },
   {
    "duration": 62,
    "start_time": "2022-05-11T07:35:12.600Z"
   },
   {
    "duration": 16,
    "start_time": "2022-05-11T07:35:12.663Z"
   },
   {
    "duration": 93,
    "start_time": "2022-05-11T07:35:12.680Z"
   },
   {
    "duration": 62,
    "start_time": "2022-05-11T07:35:12.774Z"
   },
   {
    "duration": 26,
    "start_time": "2022-05-11T07:35:12.838Z"
   },
   {
    "duration": 15,
    "start_time": "2022-05-11T07:35:12.865Z"
   },
   {
    "duration": 3,
    "start_time": "2022-05-11T07:35:12.882Z"
   },
   {
    "duration": 10,
    "start_time": "2022-05-11T07:35:12.887Z"
   },
   {
    "duration": 23,
    "start_time": "2022-05-11T07:35:12.899Z"
   },
   {
    "duration": 37,
    "start_time": "2022-05-11T07:35:12.924Z"
   },
   {
    "duration": 25,
    "start_time": "2022-05-11T07:35:12.963Z"
   },
   {
    "duration": 15,
    "start_time": "2022-05-11T07:35:12.990Z"
   },
   {
    "duration": 19,
    "start_time": "2022-05-11T07:35:13.007Z"
   },
   {
    "duration": 42,
    "start_time": "2022-05-11T07:35:13.028Z"
   },
   {
    "duration": 7,
    "start_time": "2022-05-11T07:35:13.072Z"
   },
   {
    "duration": 32,
    "start_time": "2022-05-11T07:35:13.082Z"
   },
   {
    "duration": 3,
    "start_time": "2022-05-11T07:37:06.817Z"
   },
   {
    "duration": 250,
    "start_time": "2022-05-11T07:37:06.823Z"
   },
   {
    "duration": 152,
    "start_time": "2022-05-11T07:37:07.076Z"
   },
   {
    "duration": 20,
    "start_time": "2022-05-11T07:37:07.230Z"
   },
   {
    "duration": 6,
    "start_time": "2022-05-11T07:37:07.252Z"
   },
   {
    "duration": 10,
    "start_time": "2022-05-11T07:37:07.260Z"
   },
   {
    "duration": 17,
    "start_time": "2022-05-11T07:37:07.271Z"
   },
   {
    "duration": 7,
    "start_time": "2022-05-11T07:37:07.290Z"
   },
   {
    "duration": 28,
    "start_time": "2022-05-11T07:37:07.299Z"
   },
   {
    "duration": 27,
    "start_time": "2022-05-11T07:37:07.354Z"
   },
   {
    "duration": 26,
    "start_time": "2022-05-11T07:37:07.383Z"
   },
   {
    "duration": 98,
    "start_time": "2022-05-11T07:37:07.411Z"
   },
   {
    "duration": 96,
    "start_time": "2022-05-11T07:37:07.512Z"
   },
   {
    "duration": 83,
    "start_time": "2022-05-11T07:37:07.612Z"
   },
   {
    "duration": 63,
    "start_time": "2022-05-11T07:37:07.697Z"
   },
   {
    "duration": 24,
    "start_time": "2022-05-11T07:37:07.762Z"
   },
   {
    "duration": 109,
    "start_time": "2022-05-11T07:37:07.788Z"
   },
   {
    "duration": 86,
    "start_time": "2022-05-11T07:37:07.899Z"
   },
   {
    "duration": 13,
    "start_time": "2022-05-11T07:37:07.987Z"
   },
   {
    "duration": 14,
    "start_time": "2022-05-11T07:37:08.002Z"
   },
   {
    "duration": 3,
    "start_time": "2022-05-11T07:37:08.018Z"
   },
   {
    "duration": 35,
    "start_time": "2022-05-11T07:37:08.024Z"
   },
   {
    "duration": 24,
    "start_time": "2022-05-11T07:37:08.061Z"
   },
   {
    "duration": 21,
    "start_time": "2022-05-11T07:37:08.088Z"
   },
   {
    "duration": 26,
    "start_time": "2022-05-11T07:37:08.111Z"
   },
   {
    "duration": 23,
    "start_time": "2022-05-11T07:37:08.156Z"
   },
   {
    "duration": 19,
    "start_time": "2022-05-11T07:37:08.182Z"
   },
   {
    "duration": 16,
    "start_time": "2022-05-11T07:37:08.203Z"
   },
   {
    "duration": 35,
    "start_time": "2022-05-11T07:37:08.221Z"
   },
   {
    "duration": 40,
    "start_time": "2022-05-11T07:37:08.258Z"
   },
   {
    "duration": 31,
    "start_time": "2022-05-11T07:37:08.301Z"
   },
   {
    "duration": 167,
    "start_time": "2022-05-11T07:49:57.830Z"
   },
   {
    "duration": 139,
    "start_time": "2022-05-11T07:50:14.875Z"
   },
   {
    "duration": 2,
    "start_time": "2022-05-11T08:09:32.138Z"
   },
   {
    "duration": 174,
    "start_time": "2022-05-11T08:09:32.143Z"
   },
   {
    "duration": 131,
    "start_time": "2022-05-11T08:09:32.320Z"
   },
   {
    "duration": 7,
    "start_time": "2022-05-11T08:09:32.455Z"
   },
   {
    "duration": 18,
    "start_time": "2022-05-11T08:09:32.464Z"
   },
   {
    "duration": 28,
    "start_time": "2022-05-11T08:09:32.484Z"
   },
   {
    "duration": 27,
    "start_time": "2022-05-11T08:09:32.514Z"
   },
   {
    "duration": 10,
    "start_time": "2022-05-11T08:09:32.543Z"
   },
   {
    "duration": 28,
    "start_time": "2022-05-11T08:09:32.555Z"
   },
   {
    "duration": 26,
    "start_time": "2022-05-11T08:09:32.585Z"
   },
   {
    "duration": 50,
    "start_time": "2022-05-11T08:09:32.612Z"
   },
   {
    "duration": 98,
    "start_time": "2022-05-11T08:09:32.663Z"
   },
   {
    "duration": 122,
    "start_time": "2022-05-11T08:09:32.763Z"
   },
   {
    "duration": 96,
    "start_time": "2022-05-11T08:09:32.888Z"
   },
   {
    "duration": 51,
    "start_time": "2022-05-11T08:09:32.986Z"
   },
   {
    "duration": 29,
    "start_time": "2022-05-11T08:09:33.039Z"
   },
   {
    "duration": 93,
    "start_time": "2022-05-11T08:09:33.069Z"
   },
   {
    "duration": 60,
    "start_time": "2022-05-11T08:09:33.164Z"
   },
   {
    "duration": 30,
    "start_time": "2022-05-11T08:09:33.226Z"
   },
   {
    "duration": 14,
    "start_time": "2022-05-11T08:09:33.258Z"
   },
   {
    "duration": 3,
    "start_time": "2022-05-11T08:09:33.274Z"
   },
   {
    "duration": 10,
    "start_time": "2022-05-11T08:09:33.279Z"
   },
   {
    "duration": 20,
    "start_time": "2022-05-11T08:09:33.291Z"
   },
   {
    "duration": 50,
    "start_time": "2022-05-11T08:09:33.313Z"
   },
   {
    "duration": 15,
    "start_time": "2022-05-11T08:09:33.365Z"
   },
   {
    "duration": 15,
    "start_time": "2022-05-11T08:09:33.381Z"
   },
   {
    "duration": 20,
    "start_time": "2022-05-11T08:09:33.398Z"
   },
   {
    "duration": 44,
    "start_time": "2022-05-11T08:09:33.420Z"
   },
   {
    "duration": 8,
    "start_time": "2022-05-11T08:09:33.466Z"
   },
   {
    "duration": 23,
    "start_time": "2022-05-11T08:09:33.476Z"
   },
   {
    "duration": 21,
    "start_time": "2022-05-11T08:09:33.501Z"
   },
   {
    "duration": 132,
    "start_time": "2022-05-11T08:09:33.523Z"
   },
   {
    "duration": 3,
    "start_time": "2022-05-11T08:13:45.062Z"
   },
   {
    "duration": 184,
    "start_time": "2022-05-11T08:13:45.067Z"
   },
   {
    "duration": 230,
    "start_time": "2022-05-11T08:13:45.255Z"
   },
   {
    "duration": 9,
    "start_time": "2022-05-11T08:13:45.487Z"
   },
   {
    "duration": 19,
    "start_time": "2022-05-11T08:13:45.499Z"
   },
   {
    "duration": 14,
    "start_time": "2022-05-11T08:13:45.520Z"
   },
   {
    "duration": 40,
    "start_time": "2022-05-11T08:13:45.536Z"
   },
   {
    "duration": 12,
    "start_time": "2022-05-11T08:13:45.578Z"
   },
   {
    "duration": 41,
    "start_time": "2022-05-11T08:13:45.592Z"
   },
   {
    "duration": 56,
    "start_time": "2022-05-11T08:13:45.636Z"
   },
   {
    "duration": 48,
    "start_time": "2022-05-11T08:13:45.695Z"
   },
   {
    "duration": 146,
    "start_time": "2022-05-11T08:13:45.746Z"
   },
   {
    "duration": 87,
    "start_time": "2022-05-11T08:13:45.894Z"
   },
   {
    "duration": 80,
    "start_time": "2022-05-11T08:13:45.984Z"
   },
   {
    "duration": 103,
    "start_time": "2022-05-11T08:13:46.066Z"
   },
   {
    "duration": 25,
    "start_time": "2022-05-11T08:13:46.171Z"
   },
   {
    "duration": 176,
    "start_time": "2022-05-11T08:13:46.198Z"
   },
   {
    "duration": 108,
    "start_time": "2022-05-11T08:13:46.376Z"
   },
   {
    "duration": 20,
    "start_time": "2022-05-11T08:13:46.486Z"
   },
   {
    "duration": 21,
    "start_time": "2022-05-11T08:13:46.508Z"
   },
   {
    "duration": 25,
    "start_time": "2022-05-11T08:13:46.532Z"
   },
   {
    "duration": 4,
    "start_time": "2022-05-11T08:13:46.560Z"
   },
   {
    "duration": 34,
    "start_time": "2022-05-11T08:13:46.567Z"
   },
   {
    "duration": 57,
    "start_time": "2022-05-11T08:13:46.604Z"
   },
   {
    "duration": 18,
    "start_time": "2022-05-11T08:13:46.663Z"
   },
   {
    "duration": 17,
    "start_time": "2022-05-11T08:13:46.683Z"
   },
   {
    "duration": 20,
    "start_time": "2022-05-11T08:13:46.702Z"
   },
   {
    "duration": 52,
    "start_time": "2022-05-11T08:13:46.724Z"
   },
   {
    "duration": 7,
    "start_time": "2022-05-11T08:13:46.778Z"
   },
   {
    "duration": 24,
    "start_time": "2022-05-11T08:13:46.788Z"
   },
   {
    "duration": 54,
    "start_time": "2022-05-11T08:13:46.815Z"
   },
   {
    "duration": 160,
    "start_time": "2022-05-11T08:13:46.872Z"
   },
   {
    "duration": 169,
    "start_time": "2022-05-11T08:14:05.430Z"
   },
   {
    "duration": 245,
    "start_time": "2022-05-11T08:14:26.692Z"
   },
   {
    "duration": 3,
    "start_time": "2022-05-11T08:26:36.415Z"
   },
   {
    "duration": 271,
    "start_time": "2022-05-11T08:26:36.420Z"
   },
   {
    "duration": 246,
    "start_time": "2022-05-11T08:26:36.694Z"
   },
   {
    "duration": 13,
    "start_time": "2022-05-11T08:26:36.943Z"
   },
   {
    "duration": 30,
    "start_time": "2022-05-11T08:26:36.958Z"
   },
   {
    "duration": 36,
    "start_time": "2022-05-11T08:26:36.990Z"
   },
   {
    "duration": 28,
    "start_time": "2022-05-11T08:26:37.027Z"
   },
   {
    "duration": 22,
    "start_time": "2022-05-11T08:26:37.057Z"
   },
   {
    "duration": 46,
    "start_time": "2022-05-11T08:26:37.081Z"
   },
   {
    "duration": 48,
    "start_time": "2022-05-11T08:26:37.131Z"
   },
   {
    "duration": 47,
    "start_time": "2022-05-11T08:26:37.183Z"
   },
   {
    "duration": 157,
    "start_time": "2022-05-11T08:26:37.233Z"
   },
   {
    "duration": 141,
    "start_time": "2022-05-11T08:26:37.393Z"
   },
   {
    "duration": 70,
    "start_time": "2022-05-11T08:26:37.536Z"
   },
   {
    "duration": 61,
    "start_time": "2022-05-11T08:26:37.608Z"
   },
   {
    "duration": 16,
    "start_time": "2022-05-11T08:26:37.671Z"
   },
   {
    "duration": 97,
    "start_time": "2022-05-11T08:26:37.689Z"
   },
   {
    "duration": 73,
    "start_time": "2022-05-11T08:26:37.788Z"
   },
   {
    "duration": 15,
    "start_time": "2022-05-11T08:26:37.863Z"
   },
   {
    "duration": 20,
    "start_time": "2022-05-11T08:26:37.880Z"
   },
   {
    "duration": 20,
    "start_time": "2022-05-11T08:26:37.902Z"
   },
   {
    "duration": 32,
    "start_time": "2022-05-11T08:26:37.924Z"
   },
   {
    "duration": 46,
    "start_time": "2022-05-11T08:26:37.959Z"
   },
   {
    "duration": 32,
    "start_time": "2022-05-11T08:26:38.008Z"
   },
   {
    "duration": 20,
    "start_time": "2022-05-11T08:26:38.041Z"
   },
   {
    "duration": 16,
    "start_time": "2022-05-11T08:26:38.062Z"
   },
   {
    "duration": 42,
    "start_time": "2022-05-11T08:26:38.080Z"
   },
   {
    "duration": 19,
    "start_time": "2022-05-11T08:26:38.125Z"
   },
   {
    "duration": 18,
    "start_time": "2022-05-11T08:26:38.146Z"
   },
   {
    "duration": 56,
    "start_time": "2022-05-11T08:26:38.166Z"
   },
   {
    "duration": 35,
    "start_time": "2022-05-11T08:26:38.223Z"
   },
   {
    "duration": 133,
    "start_time": "2022-05-11T08:26:38.260Z"
   },
   {
    "duration": 3,
    "start_time": "2022-05-11T08:38:46.910Z"
   },
   {
    "duration": 236,
    "start_time": "2022-05-11T08:38:46.915Z"
   },
   {
    "duration": 176,
    "start_time": "2022-05-11T08:38:47.153Z"
   },
   {
    "duration": 9,
    "start_time": "2022-05-11T08:38:47.332Z"
   },
   {
    "duration": 5,
    "start_time": "2022-05-11T08:38:47.355Z"
   },
   {
    "duration": 39,
    "start_time": "2022-05-11T08:38:47.362Z"
   },
   {
    "duration": 28,
    "start_time": "2022-05-11T08:38:47.404Z"
   },
   {
    "duration": 8,
    "start_time": "2022-05-11T08:38:47.434Z"
   },
   {
    "duration": 60,
    "start_time": "2022-05-11T08:38:47.444Z"
   },
   {
    "duration": 28,
    "start_time": "2022-05-11T08:38:47.506Z"
   },
   {
    "duration": 33,
    "start_time": "2022-05-11T08:38:47.536Z"
   },
   {
    "duration": 98,
    "start_time": "2022-05-11T08:38:47.571Z"
   },
   {
    "duration": 118,
    "start_time": "2022-05-11T08:38:47.672Z"
   },
   {
    "duration": 76,
    "start_time": "2022-05-11T08:38:47.793Z"
   },
   {
    "duration": 67,
    "start_time": "2022-05-11T08:38:47.871Z"
   },
   {
    "duration": 40,
    "start_time": "2022-05-11T08:38:47.940Z"
   },
   {
    "duration": 150,
    "start_time": "2022-05-11T08:38:47.982Z"
   },
   {
    "duration": 119,
    "start_time": "2022-05-11T08:38:48.134Z"
   },
   {
    "duration": 25,
    "start_time": "2022-05-11T08:38:48.258Z"
   },
   {
    "duration": 38,
    "start_time": "2022-05-11T08:38:48.285Z"
   },
   {
    "duration": 3,
    "start_time": "2022-05-11T08:38:48.325Z"
   },
   {
    "duration": 10,
    "start_time": "2022-05-11T08:38:48.330Z"
   },
   {
    "duration": 33,
    "start_time": "2022-05-11T08:38:48.342Z"
   },
   {
    "duration": 56,
    "start_time": "2022-05-11T08:38:48.378Z"
   },
   {
    "duration": 30,
    "start_time": "2022-05-11T08:38:48.436Z"
   },
   {
    "duration": 52,
    "start_time": "2022-05-11T08:38:48.468Z"
   },
   {
    "duration": 33,
    "start_time": "2022-05-11T08:38:48.522Z"
   },
   {
    "duration": 45,
    "start_time": "2022-05-11T08:38:48.557Z"
   },
   {
    "duration": 7,
    "start_time": "2022-05-11T08:38:48.604Z"
   },
   {
    "duration": 41,
    "start_time": "2022-05-11T08:38:48.613Z"
   },
   {
    "duration": 58,
    "start_time": "2022-05-11T08:38:48.656Z"
   },
   {
    "duration": 285,
    "start_time": "2022-05-11T08:38:48.716Z"
   },
   {
    "duration": 0,
    "start_time": "2022-05-11T08:38:49.003Z"
   },
   {
    "duration": 3,
    "start_time": "2022-05-11T08:39:04.897Z"
   },
   {
    "duration": 189,
    "start_time": "2022-05-11T08:39:04.902Z"
   },
   {
    "duration": 143,
    "start_time": "2022-05-11T08:39:05.093Z"
   },
   {
    "duration": 7,
    "start_time": "2022-05-11T08:39:05.239Z"
   },
   {
    "duration": 3,
    "start_time": "2022-05-11T08:39:05.255Z"
   },
   {
    "duration": 26,
    "start_time": "2022-05-11T08:39:05.259Z"
   },
   {
    "duration": 19,
    "start_time": "2022-05-11T08:39:05.288Z"
   },
   {
    "duration": 8,
    "start_time": "2022-05-11T08:39:05.309Z"
   },
   {
    "duration": 29,
    "start_time": "2022-05-11T08:39:05.319Z"
   },
   {
    "duration": 32,
    "start_time": "2022-05-11T08:39:05.356Z"
   },
   {
    "duration": 29,
    "start_time": "2022-05-11T08:39:05.390Z"
   },
   {
    "duration": 119,
    "start_time": "2022-05-11T08:39:05.422Z"
   },
   {
    "duration": 137,
    "start_time": "2022-05-11T08:39:05.543Z"
   },
   {
    "duration": 63,
    "start_time": "2022-05-11T08:39:05.682Z"
   },
   {
    "duration": 63,
    "start_time": "2022-05-11T08:39:05.755Z"
   },
   {
    "duration": 36,
    "start_time": "2022-05-11T08:39:05.819Z"
   },
   {
    "duration": 85,
    "start_time": "2022-05-11T08:39:05.856Z"
   },
   {
    "duration": 108,
    "start_time": "2022-05-11T08:39:05.955Z"
   },
   {
    "duration": 15,
    "start_time": "2022-05-11T08:39:06.069Z"
   },
   {
    "duration": 12,
    "start_time": "2022-05-11T08:39:06.086Z"
   },
   {
    "duration": 3,
    "start_time": "2022-05-11T08:39:06.100Z"
   },
   {
    "duration": 7,
    "start_time": "2022-05-11T08:39:06.105Z"
   },
   {
    "duration": 52,
    "start_time": "2022-05-11T08:39:06.114Z"
   },
   {
    "duration": 15,
    "start_time": "2022-05-11T08:39:06.168Z"
   },
   {
    "duration": 22,
    "start_time": "2022-05-11T08:39:06.185Z"
   },
   {
    "duration": 19,
    "start_time": "2022-05-11T08:39:06.209Z"
   },
   {
    "duration": 51,
    "start_time": "2022-05-11T08:39:06.230Z"
   },
   {
    "duration": 14,
    "start_time": "2022-05-11T08:39:06.287Z"
   },
   {
    "duration": 7,
    "start_time": "2022-05-11T08:39:06.303Z"
   },
   {
    "duration": 59,
    "start_time": "2022-05-11T08:39:06.312Z"
   },
   {
    "duration": 20,
    "start_time": "2022-05-11T08:39:06.375Z"
   },
   {
    "duration": 158,
    "start_time": "2022-05-11T08:39:06.397Z"
   },
   {
    "duration": 0,
    "start_time": "2022-05-11T08:39:06.557Z"
   },
   {
    "duration": 4,
    "start_time": "2022-05-11T08:43:37.872Z"
   },
   {
    "duration": 180,
    "start_time": "2022-05-11T08:43:37.878Z"
   },
   {
    "duration": 167,
    "start_time": "2022-05-11T08:43:38.061Z"
   },
   {
    "duration": 8,
    "start_time": "2022-05-11T08:43:38.230Z"
   },
   {
    "duration": 3,
    "start_time": "2022-05-11T08:43:38.255Z"
   },
   {
    "duration": 27,
    "start_time": "2022-05-11T08:43:38.260Z"
   },
   {
    "duration": 22,
    "start_time": "2022-05-11T08:43:38.289Z"
   },
   {
    "duration": 15,
    "start_time": "2022-05-11T08:43:38.314Z"
   },
   {
    "duration": 58,
    "start_time": "2022-05-11T08:43:38.331Z"
   },
   {
    "duration": 42,
    "start_time": "2022-05-11T08:43:38.393Z"
   },
   {
    "duration": 40,
    "start_time": "2022-05-11T08:43:38.437Z"
   },
   {
    "duration": 127,
    "start_time": "2022-05-11T08:43:38.479Z"
   },
   {
    "duration": 145,
    "start_time": "2022-05-11T08:43:38.608Z"
   },
   {
    "duration": 72,
    "start_time": "2022-05-11T08:43:38.755Z"
   },
   {
    "duration": 81,
    "start_time": "2022-05-11T08:43:38.829Z"
   },
   {
    "duration": 18,
    "start_time": "2022-05-11T08:43:38.912Z"
   },
   {
    "duration": 104,
    "start_time": "2022-05-11T08:43:38.932Z"
   },
   {
    "duration": 83,
    "start_time": "2022-05-11T08:43:39.038Z"
   },
   {
    "duration": 33,
    "start_time": "2022-05-11T08:43:39.123Z"
   },
   {
    "duration": 21,
    "start_time": "2022-05-11T08:43:39.159Z"
   },
   {
    "duration": 15,
    "start_time": "2022-05-11T08:43:39.183Z"
   },
   {
    "duration": 13,
    "start_time": "2022-05-11T08:43:39.200Z"
   },
   {
    "duration": 35,
    "start_time": "2022-05-11T08:43:39.215Z"
   },
   {
    "duration": 42,
    "start_time": "2022-05-11T08:43:39.252Z"
   },
   {
    "duration": 17,
    "start_time": "2022-05-11T08:43:39.297Z"
   },
   {
    "duration": 21,
    "start_time": "2022-05-11T08:43:39.316Z"
   },
   {
    "duration": 28,
    "start_time": "2022-05-11T08:43:39.340Z"
   },
   {
    "duration": 20,
    "start_time": "2022-05-11T08:43:39.372Z"
   },
   {
    "duration": 34,
    "start_time": "2022-05-11T08:43:39.394Z"
   },
   {
    "duration": 35,
    "start_time": "2022-05-11T08:43:39.430Z"
   },
   {
    "duration": 28,
    "start_time": "2022-05-11T08:43:39.467Z"
   },
   {
    "duration": 142,
    "start_time": "2022-05-11T08:43:39.497Z"
   },
   {
    "duration": 0,
    "start_time": "2022-05-11T08:43:39.641Z"
   },
   {
    "duration": 4,
    "start_time": "2022-05-11T08:45:05.482Z"
   },
   {
    "duration": 253,
    "start_time": "2022-05-11T08:45:05.489Z"
   },
   {
    "duration": 232,
    "start_time": "2022-05-11T08:45:05.746Z"
   },
   {
    "duration": 10,
    "start_time": "2022-05-11T08:45:05.981Z"
   },
   {
    "duration": 11,
    "start_time": "2022-05-11T08:45:05.993Z"
   },
   {
    "duration": 21,
    "start_time": "2022-05-11T08:45:06.006Z"
   },
   {
    "duration": 34,
    "start_time": "2022-05-11T08:45:06.029Z"
   },
   {
    "duration": 22,
    "start_time": "2022-05-11T08:45:06.065Z"
   },
   {
    "duration": 57,
    "start_time": "2022-05-11T08:45:06.090Z"
   },
   {
    "duration": 73,
    "start_time": "2022-05-11T08:45:06.150Z"
   },
   {
    "duration": 49,
    "start_time": "2022-05-11T08:45:06.226Z"
   },
   {
    "duration": 112,
    "start_time": "2022-05-11T08:45:06.278Z"
   },
   {
    "duration": 133,
    "start_time": "2022-05-11T08:45:06.392Z"
   },
   {
    "duration": 90,
    "start_time": "2022-05-11T08:45:06.528Z"
   },
   {
    "duration": 92,
    "start_time": "2022-05-11T08:45:06.620Z"
   },
   {
    "duration": 20,
    "start_time": "2022-05-11T08:45:06.714Z"
   },
   {
    "duration": 103,
    "start_time": "2022-05-11T08:45:06.736Z"
   },
   {
    "duration": 128,
    "start_time": "2022-05-11T08:45:06.841Z"
   },
   {
    "duration": 18,
    "start_time": "2022-05-11T08:45:06.971Z"
   },
   {
    "duration": 17,
    "start_time": "2022-05-11T08:45:06.991Z"
   },
   {
    "duration": 3,
    "start_time": "2022-05-11T08:45:07.010Z"
   },
   {
    "duration": 10,
    "start_time": "2022-05-11T08:45:07.015Z"
   },
   {
    "duration": 54,
    "start_time": "2022-05-11T08:45:07.028Z"
   },
   {
    "duration": 19,
    "start_time": "2022-05-11T08:45:07.084Z"
   },
   {
    "duration": 21,
    "start_time": "2022-05-11T08:45:07.106Z"
   },
   {
    "duration": 47,
    "start_time": "2022-05-11T08:45:07.129Z"
   },
   {
    "duration": 35,
    "start_time": "2022-05-11T08:45:07.178Z"
   },
   {
    "duration": 24,
    "start_time": "2022-05-11T08:45:07.215Z"
   },
   {
    "duration": 41,
    "start_time": "2022-05-11T08:45:07.241Z"
   },
   {
    "duration": 27,
    "start_time": "2022-05-11T08:45:07.284Z"
   },
   {
    "duration": 28,
    "start_time": "2022-05-11T08:45:07.313Z"
   },
   {
    "duration": 174,
    "start_time": "2022-05-11T08:45:07.344Z"
   },
   {
    "duration": 0,
    "start_time": "2022-05-11T08:45:07.521Z"
   },
   {
    "duration": 3,
    "start_time": "2022-05-11T08:46:03.625Z"
   },
   {
    "duration": 243,
    "start_time": "2022-05-11T08:46:03.630Z"
   },
   {
    "duration": 147,
    "start_time": "2022-05-11T08:46:03.876Z"
   },
   {
    "duration": 7,
    "start_time": "2022-05-11T08:46:04.025Z"
   },
   {
    "duration": 24,
    "start_time": "2022-05-11T08:46:04.034Z"
   },
   {
    "duration": 25,
    "start_time": "2022-05-11T08:46:04.062Z"
   },
   {
    "duration": 17,
    "start_time": "2022-05-11T08:46:04.089Z"
   },
   {
    "duration": 7,
    "start_time": "2022-05-11T08:46:04.108Z"
   },
   {
    "duration": 32,
    "start_time": "2022-05-11T08:46:04.117Z"
   },
   {
    "duration": 39,
    "start_time": "2022-05-11T08:46:04.151Z"
   },
   {
    "duration": 48,
    "start_time": "2022-05-11T08:46:04.192Z"
   },
   {
    "duration": 78,
    "start_time": "2022-05-11T08:46:04.242Z"
   },
   {
    "duration": 101,
    "start_time": "2022-05-11T08:46:04.322Z"
   },
   {
    "duration": 83,
    "start_time": "2022-05-11T08:46:04.427Z"
   },
   {
    "duration": 80,
    "start_time": "2022-05-11T08:46:04.512Z"
   },
   {
    "duration": 15,
    "start_time": "2022-05-11T08:46:04.594Z"
   },
   {
    "duration": 105,
    "start_time": "2022-05-11T08:46:04.611Z"
   },
   {
    "duration": 85,
    "start_time": "2022-05-11T08:46:04.717Z"
   },
   {
    "duration": 15,
    "start_time": "2022-05-11T08:46:04.804Z"
   },
   {
    "duration": 13,
    "start_time": "2022-05-11T08:46:04.821Z"
   },
   {
    "duration": 5,
    "start_time": "2022-05-11T08:46:04.857Z"
   },
   {
    "duration": 11,
    "start_time": "2022-05-11T08:46:04.864Z"
   },
   {
    "duration": 41,
    "start_time": "2022-05-11T08:46:04.877Z"
   },
   {
    "duration": 16,
    "start_time": "2022-05-11T08:46:04.920Z"
   },
   {
    "duration": 33,
    "start_time": "2022-05-11T08:46:04.938Z"
   },
   {
    "duration": 27,
    "start_time": "2022-05-11T08:46:04.973Z"
   },
   {
    "duration": 20,
    "start_time": "2022-05-11T08:46:05.002Z"
   },
   {
    "duration": 42,
    "start_time": "2022-05-11T08:46:05.024Z"
   },
   {
    "duration": 14,
    "start_time": "2022-05-11T08:46:05.068Z"
   },
   {
    "duration": 41,
    "start_time": "2022-05-11T08:46:05.084Z"
   },
   {
    "duration": 20,
    "start_time": "2022-05-11T08:46:05.127Z"
   },
   {
    "duration": 173,
    "start_time": "2022-05-11T08:46:05.156Z"
   },
   {
    "duration": 0,
    "start_time": "2022-05-11T08:46:05.331Z"
   },
   {
    "duration": 3,
    "start_time": "2022-05-11T08:55:14.816Z"
   },
   {
    "duration": 263,
    "start_time": "2022-05-11T08:55:14.821Z"
   },
   {
    "duration": 158,
    "start_time": "2022-05-11T08:55:15.087Z"
   },
   {
    "duration": 17,
    "start_time": "2022-05-11T08:55:15.247Z"
   },
   {
    "duration": 26,
    "start_time": "2022-05-11T08:55:15.267Z"
   },
   {
    "duration": 23,
    "start_time": "2022-05-11T08:55:15.295Z"
   },
   {
    "duration": 31,
    "start_time": "2022-05-11T08:55:15.321Z"
   },
   {
    "duration": 31,
    "start_time": "2022-05-11T08:55:15.353Z"
   },
   {
    "duration": 86,
    "start_time": "2022-05-11T08:55:15.386Z"
   },
   {
    "duration": 46,
    "start_time": "2022-05-11T08:55:15.475Z"
   },
   {
    "duration": 45,
    "start_time": "2022-05-11T08:55:15.522Z"
   },
   {
    "duration": 80,
    "start_time": "2022-05-11T08:55:15.570Z"
   },
   {
    "duration": 81,
    "start_time": "2022-05-11T08:55:15.653Z"
   },
   {
    "duration": 79,
    "start_time": "2022-05-11T08:55:15.735Z"
   },
   {
    "duration": 75,
    "start_time": "2022-05-11T08:55:15.816Z"
   },
   {
    "duration": 17,
    "start_time": "2022-05-11T08:55:15.893Z"
   },
   {
    "duration": 100,
    "start_time": "2022-05-11T08:55:15.911Z"
   },
   {
    "duration": 81,
    "start_time": "2022-05-11T08:55:16.014Z"
   },
   {
    "duration": 13,
    "start_time": "2022-05-11T08:55:16.097Z"
   },
   {
    "duration": 13,
    "start_time": "2022-05-11T08:55:16.112Z"
   },
   {
    "duration": 5,
    "start_time": "2022-05-11T08:55:16.127Z"
   },
   {
    "duration": 15,
    "start_time": "2022-05-11T08:55:16.157Z"
   },
   {
    "duration": 23,
    "start_time": "2022-05-11T08:55:16.174Z"
   },
   {
    "duration": 16,
    "start_time": "2022-05-11T08:55:16.198Z"
   },
   {
    "duration": 16,
    "start_time": "2022-05-11T08:55:16.216Z"
   },
   {
    "duration": 40,
    "start_time": "2022-05-11T08:55:16.234Z"
   },
   {
    "duration": 27,
    "start_time": "2022-05-11T08:55:16.277Z"
   },
   {
    "duration": 16,
    "start_time": "2022-05-11T08:55:16.306Z"
   },
   {
    "duration": 7,
    "start_time": "2022-05-11T08:55:16.324Z"
   },
   {
    "duration": 45,
    "start_time": "2022-05-11T08:55:16.333Z"
   },
   {
    "duration": 22,
    "start_time": "2022-05-11T08:55:16.380Z"
   },
   {
    "duration": 137,
    "start_time": "2022-05-11T08:55:16.403Z"
   },
   {
    "duration": 0,
    "start_time": "2022-05-11T08:55:16.542Z"
   },
   {
    "duration": 4,
    "start_time": "2022-05-11T08:55:23.098Z"
   },
   {
    "duration": 3,
    "start_time": "2022-05-11T08:55:40.032Z"
   },
   {
    "duration": 183,
    "start_time": "2022-05-11T08:55:40.037Z"
   },
   {
    "duration": 159,
    "start_time": "2022-05-11T08:55:40.222Z"
   },
   {
    "duration": 7,
    "start_time": "2022-05-11T08:55:40.384Z"
   },
   {
    "duration": 13,
    "start_time": "2022-05-11T08:55:40.393Z"
   },
   {
    "duration": 10,
    "start_time": "2022-05-11T08:55:40.408Z"
   },
   {
    "duration": 24,
    "start_time": "2022-05-11T08:55:40.420Z"
   },
   {
    "duration": 5,
    "start_time": "2022-05-11T08:55:40.454Z"
   },
   {
    "duration": 39,
    "start_time": "2022-05-11T08:55:40.464Z"
   },
   {
    "duration": 35,
    "start_time": "2022-05-11T08:55:40.504Z"
   },
   {
    "duration": 42,
    "start_time": "2022-05-11T08:55:40.541Z"
   },
   {
    "duration": 83,
    "start_time": "2022-05-11T08:55:40.585Z"
   },
   {
    "duration": 92,
    "start_time": "2022-05-11T08:55:40.670Z"
   },
   {
    "duration": 67,
    "start_time": "2022-05-11T08:55:40.764Z"
   },
   {
    "duration": 80,
    "start_time": "2022-05-11T08:55:40.833Z"
   },
   {
    "duration": 19,
    "start_time": "2022-05-11T08:55:40.915Z"
   },
   {
    "duration": 158,
    "start_time": "2022-05-11T08:55:40.935Z"
   },
   {
    "duration": 123,
    "start_time": "2022-05-11T08:55:41.095Z"
   },
   {
    "duration": 20,
    "start_time": "2022-05-11T08:55:41.220Z"
   },
   {
    "duration": 23,
    "start_time": "2022-05-11T08:55:41.254Z"
   },
   {
    "duration": 3,
    "start_time": "2022-05-11T08:55:41.280Z"
   },
   {
    "duration": 8,
    "start_time": "2022-05-11T08:55:41.285Z"
   },
   {
    "duration": 21,
    "start_time": "2022-05-11T08:55:41.295Z"
   },
   {
    "duration": 47,
    "start_time": "2022-05-11T08:55:41.321Z"
   },
   {
    "duration": 18,
    "start_time": "2022-05-11T08:55:41.370Z"
   },
   {
    "duration": 15,
    "start_time": "2022-05-11T08:55:41.390Z"
   },
   {
    "duration": 19,
    "start_time": "2022-05-11T08:55:41.407Z"
   },
   {
    "duration": 49,
    "start_time": "2022-05-11T08:55:41.428Z"
   },
   {
    "duration": 10,
    "start_time": "2022-05-11T08:55:41.479Z"
   },
   {
    "duration": 34,
    "start_time": "2022-05-11T08:55:41.492Z"
   },
   {
    "duration": 51,
    "start_time": "2022-05-11T08:55:41.528Z"
   },
   {
    "duration": 135,
    "start_time": "2022-05-11T08:55:41.581Z"
   },
   {
    "duration": 0,
    "start_time": "2022-05-11T08:55:41.718Z"
   },
   {
    "duration": 3,
    "start_time": "2022-05-11T08:57:27.390Z"
   },
   {
    "duration": 292,
    "start_time": "2022-05-11T08:57:27.396Z"
   },
   {
    "duration": 161,
    "start_time": "2022-05-11T08:57:27.691Z"
   },
   {
    "duration": 13,
    "start_time": "2022-05-11T08:57:27.854Z"
   },
   {
    "duration": 40,
    "start_time": "2022-05-11T08:57:27.870Z"
   },
   {
    "duration": 27,
    "start_time": "2022-05-11T08:57:27.912Z"
   },
   {
    "duration": 60,
    "start_time": "2022-05-11T08:57:27.942Z"
   },
   {
    "duration": 27,
    "start_time": "2022-05-11T08:57:28.004Z"
   },
   {
    "duration": 69,
    "start_time": "2022-05-11T08:57:28.033Z"
   },
   {
    "duration": 38,
    "start_time": "2022-05-11T08:57:28.104Z"
   },
   {
    "duration": 57,
    "start_time": "2022-05-11T08:57:28.144Z"
   },
   {
    "duration": 105,
    "start_time": "2022-05-11T08:57:28.203Z"
   },
   {
    "duration": 101,
    "start_time": "2022-05-11T08:57:28.310Z"
   },
   {
    "duration": 100,
    "start_time": "2022-05-11T08:57:28.414Z"
   },
   {
    "duration": 71,
    "start_time": "2022-05-11T08:57:28.517Z"
   },
   {
    "duration": 23,
    "start_time": "2022-05-11T08:57:28.590Z"
   },
   {
    "duration": 110,
    "start_time": "2022-05-11T08:57:28.614Z"
   },
   {
    "duration": 92,
    "start_time": "2022-05-11T08:57:28.726Z"
   },
   {
    "duration": 13,
    "start_time": "2022-05-11T08:57:28.820Z"
   },
   {
    "duration": 65,
    "start_time": "2022-05-11T08:57:28.835Z"
   },
   {
    "duration": 16,
    "start_time": "2022-05-11T08:57:28.902Z"
   },
   {
    "duration": 67,
    "start_time": "2022-05-11T08:57:28.920Z"
   },
   {
    "duration": 41,
    "start_time": "2022-05-11T08:57:28.989Z"
   },
   {
    "duration": 38,
    "start_time": "2022-05-11T08:57:29.032Z"
   },
   {
    "duration": 43,
    "start_time": "2022-05-11T08:57:29.072Z"
   },
   {
    "duration": 19,
    "start_time": "2022-05-11T08:57:29.118Z"
   },
   {
    "duration": 43,
    "start_time": "2022-05-11T08:57:29.139Z"
   },
   {
    "duration": 41,
    "start_time": "2022-05-11T08:57:29.184Z"
   },
   {
    "duration": 36,
    "start_time": "2022-05-11T08:57:29.227Z"
   },
   {
    "duration": 66,
    "start_time": "2022-05-11T08:57:29.266Z"
   },
   {
    "duration": 36,
    "start_time": "2022-05-11T08:57:29.334Z"
   },
   {
    "duration": 168,
    "start_time": "2022-05-11T08:57:29.373Z"
   },
   {
    "duration": 0,
    "start_time": "2022-05-11T08:57:29.543Z"
   },
   {
    "duration": 3,
    "start_time": "2022-05-11T08:58:27.441Z"
   },
   {
    "duration": 253,
    "start_time": "2022-05-11T08:58:27.447Z"
   },
   {
    "duration": 176,
    "start_time": "2022-05-11T08:58:27.702Z"
   },
   {
    "duration": 13,
    "start_time": "2022-05-11T08:58:27.882Z"
   },
   {
    "duration": 28,
    "start_time": "2022-05-11T08:58:27.903Z"
   },
   {
    "duration": 22,
    "start_time": "2022-05-11T08:58:27.934Z"
   },
   {
    "duration": 62,
    "start_time": "2022-05-11T08:58:27.958Z"
   },
   {
    "duration": 16,
    "start_time": "2022-05-11T08:58:28.023Z"
   },
   {
    "duration": 61,
    "start_time": "2022-05-11T08:58:28.042Z"
   },
   {
    "duration": 48,
    "start_time": "2022-05-11T08:58:28.105Z"
   },
   {
    "duration": 44,
    "start_time": "2022-05-11T08:58:28.169Z"
   },
   {
    "duration": 105,
    "start_time": "2022-05-11T08:58:28.215Z"
   },
   {
    "duration": 96,
    "start_time": "2022-05-11T08:58:28.323Z"
   },
   {
    "duration": 102,
    "start_time": "2022-05-11T08:58:28.422Z"
   },
   {
    "duration": 84,
    "start_time": "2022-05-11T08:58:28.525Z"
   },
   {
    "duration": 16,
    "start_time": "2022-05-11T08:58:28.611Z"
   },
   {
    "duration": 114,
    "start_time": "2022-05-11T08:58:28.628Z"
   },
   {
    "duration": 87,
    "start_time": "2022-05-11T08:58:28.743Z"
   },
   {
    "duration": 24,
    "start_time": "2022-05-11T08:58:28.832Z"
   },
   {
    "duration": 40,
    "start_time": "2022-05-11T08:58:28.860Z"
   },
   {
    "duration": 30,
    "start_time": "2022-05-11T08:58:28.902Z"
   },
   {
    "duration": 16,
    "start_time": "2022-05-11T08:58:28.935Z"
   },
   {
    "duration": 75,
    "start_time": "2022-05-11T08:58:28.953Z"
   },
   {
    "duration": 38,
    "start_time": "2022-05-11T08:58:29.030Z"
   },
   {
    "duration": 20,
    "start_time": "2022-05-11T08:58:29.070Z"
   },
   {
    "duration": 42,
    "start_time": "2022-05-11T08:58:29.092Z"
   },
   {
    "duration": 18,
    "start_time": "2022-05-11T08:58:29.137Z"
   },
   {
    "duration": 69,
    "start_time": "2022-05-11T08:58:29.157Z"
   },
   {
    "duration": 8,
    "start_time": "2022-05-11T08:58:29.229Z"
   },
   {
    "duration": 52,
    "start_time": "2022-05-11T08:58:29.239Z"
   },
   {
    "duration": 51,
    "start_time": "2022-05-11T08:58:29.293Z"
   },
   {
    "duration": 178,
    "start_time": "2022-05-11T08:58:29.346Z"
   },
   {
    "duration": 0,
    "start_time": "2022-05-11T08:58:29.526Z"
   },
   {
    "duration": 3,
    "start_time": "2022-05-11T09:09:15.944Z"
   },
   {
    "duration": 258,
    "start_time": "2022-05-11T09:09:15.949Z"
   },
   {
    "duration": 166,
    "start_time": "2022-05-11T09:09:16.210Z"
   },
   {
    "duration": 9,
    "start_time": "2022-05-11T09:09:16.379Z"
   },
   {
    "duration": 32,
    "start_time": "2022-05-11T09:09:16.390Z"
   },
   {
    "duration": 13,
    "start_time": "2022-05-11T09:09:16.425Z"
   },
   {
    "duration": 71,
    "start_time": "2022-05-11T09:09:16.440Z"
   },
   {
    "duration": 18,
    "start_time": "2022-05-11T09:09:16.514Z"
   },
   {
    "duration": 51,
    "start_time": "2022-05-11T09:09:16.535Z"
   },
   {
    "duration": 29,
    "start_time": "2022-05-11T09:09:16.588Z"
   },
   {
    "duration": 45,
    "start_time": "2022-05-11T09:09:16.619Z"
   },
   {
    "duration": 108,
    "start_time": "2022-05-11T09:09:16.666Z"
   },
   {
    "duration": 132,
    "start_time": "2022-05-11T09:09:16.776Z"
   },
   {
    "duration": 74,
    "start_time": "2022-05-11T09:09:16.910Z"
   },
   {
    "duration": 71,
    "start_time": "2022-05-11T09:09:16.986Z"
   },
   {
    "duration": 21,
    "start_time": "2022-05-11T09:09:17.063Z"
   },
   {
    "duration": 135,
    "start_time": "2022-05-11T09:09:17.086Z"
   },
   {
    "duration": 100,
    "start_time": "2022-05-11T09:09:17.232Z"
   },
   {
    "duration": 26,
    "start_time": "2022-05-11T09:09:17.334Z"
   },
   {
    "duration": 19,
    "start_time": "2022-05-11T09:09:17.365Z"
   },
   {
    "duration": 12,
    "start_time": "2022-05-11T09:09:17.387Z"
   },
   {
    "duration": 25,
    "start_time": "2022-05-11T09:09:17.402Z"
   },
   {
    "duration": 43,
    "start_time": "2022-05-11T09:09:17.429Z"
   },
   {
    "duration": 40,
    "start_time": "2022-05-11T09:09:17.477Z"
   },
   {
    "duration": 23,
    "start_time": "2022-05-11T09:09:17.519Z"
   },
   {
    "duration": 31,
    "start_time": "2022-05-11T09:09:17.545Z"
   },
   {
    "duration": 38,
    "start_time": "2022-05-11T09:09:17.578Z"
   },
   {
    "duration": 24,
    "start_time": "2022-05-11T09:09:17.618Z"
   },
   {
    "duration": 16,
    "start_time": "2022-05-11T09:09:17.645Z"
   },
   {
    "duration": 46,
    "start_time": "2022-05-11T09:09:17.666Z"
   },
   {
    "duration": 43,
    "start_time": "2022-05-11T09:09:17.714Z"
   },
   {
    "duration": 190,
    "start_time": "2022-05-11T09:09:17.759Z"
   },
   {
    "duration": 0,
    "start_time": "2022-05-11T09:09:17.951Z"
   },
   {
    "duration": 544,
    "start_time": "2022-05-11T16:22:09.849Z"
   },
   {
    "duration": 683,
    "start_time": "2022-05-11T16:22:10.395Z"
   },
   {
    "duration": 192,
    "start_time": "2022-05-11T16:22:11.080Z"
   },
   {
    "duration": 11,
    "start_time": "2022-05-11T16:22:11.274Z"
   },
   {
    "duration": 6,
    "start_time": "2022-05-11T16:22:11.296Z"
   },
   {
    "duration": 12,
    "start_time": "2022-05-11T16:22:11.305Z"
   },
   {
    "duration": 32,
    "start_time": "2022-05-11T16:22:11.320Z"
   },
   {
    "duration": 10,
    "start_time": "2022-05-11T16:22:11.355Z"
   },
   {
    "duration": 33,
    "start_time": "2022-05-11T16:22:11.394Z"
   },
   {
    "duration": 63,
    "start_time": "2022-05-11T16:22:11.429Z"
   },
   {
    "duration": 33,
    "start_time": "2022-05-11T16:22:11.495Z"
   },
   {
    "duration": 106,
    "start_time": "2022-05-11T16:22:11.530Z"
   },
   {
    "duration": 161,
    "start_time": "2022-05-11T16:22:11.638Z"
   },
   {
    "duration": 102,
    "start_time": "2022-05-11T16:22:11.803Z"
   },
   {
    "duration": 68,
    "start_time": "2022-05-11T16:22:11.907Z"
   },
   {
    "duration": 29,
    "start_time": "2022-05-11T16:22:11.993Z"
   },
   {
    "duration": 165,
    "start_time": "2022-05-11T16:22:12.025Z"
   },
   {
    "duration": 82,
    "start_time": "2022-05-11T16:22:12.193Z"
   },
   {
    "duration": 32,
    "start_time": "2022-05-11T16:22:12.277Z"
   },
   {
    "duration": 21,
    "start_time": "2022-05-11T16:22:12.312Z"
   },
   {
    "duration": 4,
    "start_time": "2022-05-11T16:22:12.336Z"
   },
   {
    "duration": 51,
    "start_time": "2022-05-11T16:22:12.342Z"
   },
   {
    "duration": 38,
    "start_time": "2022-05-11T16:22:12.396Z"
   },
   {
    "duration": 22,
    "start_time": "2022-05-11T16:22:12.436Z"
   },
   {
    "duration": 52,
    "start_time": "2022-05-11T16:22:12.461Z"
   },
   {
    "duration": 23,
    "start_time": "2022-05-11T16:22:12.516Z"
   },
   {
    "duration": 30,
    "start_time": "2022-05-11T16:22:12.541Z"
   },
   {
    "duration": 39,
    "start_time": "2022-05-11T16:22:12.573Z"
   },
   {
    "duration": 11,
    "start_time": "2022-05-11T16:22:12.614Z"
   },
   {
    "duration": 78,
    "start_time": "2022-05-11T16:22:12.627Z"
   },
   {
    "duration": 42,
    "start_time": "2022-05-11T16:22:12.708Z"
   },
   {
    "duration": 204,
    "start_time": "2022-05-11T16:22:12.753Z"
   },
   {
    "duration": 0,
    "start_time": "2022-05-11T16:22:12.960Z"
   },
   {
    "duration": 4,
    "start_time": "2022-05-11T16:22:39.988Z"
   },
   {
    "duration": 422,
    "start_time": "2022-05-11T16:22:39.994Z"
   },
   {
    "duration": 190,
    "start_time": "2022-05-11T16:22:40.419Z"
   },
   {
    "duration": 9,
    "start_time": "2022-05-11T16:22:40.611Z"
   },
   {
    "duration": 5,
    "start_time": "2022-05-11T16:22:40.624Z"
   },
   {
    "duration": 8,
    "start_time": "2022-05-11T16:22:40.632Z"
   },
   {
    "duration": 63,
    "start_time": "2022-05-11T16:22:40.643Z"
   },
   {
    "duration": 11,
    "start_time": "2022-05-11T16:22:40.709Z"
   },
   {
    "duration": 75,
    "start_time": "2022-05-11T16:22:40.722Z"
   },
   {
    "duration": 35,
    "start_time": "2022-05-11T16:22:40.799Z"
   },
   {
    "duration": 62,
    "start_time": "2022-05-11T16:22:40.835Z"
   },
   {
    "duration": 127,
    "start_time": "2022-05-11T16:22:40.900Z"
   },
   {
    "duration": 144,
    "start_time": "2022-05-11T16:22:41.030Z"
   },
   {
    "duration": 92,
    "start_time": "2022-05-11T16:22:41.179Z"
   },
   {
    "duration": 78,
    "start_time": "2022-05-11T16:22:41.273Z"
   },
   {
    "duration": 46,
    "start_time": "2022-05-11T16:22:41.353Z"
   },
   {
    "duration": 155,
    "start_time": "2022-05-11T16:22:41.402Z"
   },
   {
    "duration": 119,
    "start_time": "2022-05-11T16:22:41.560Z"
   },
   {
    "duration": 27,
    "start_time": "2022-05-11T16:22:41.681Z"
   },
   {
    "duration": 16,
    "start_time": "2022-05-11T16:22:41.710Z"
   },
   {
    "duration": 4,
    "start_time": "2022-05-11T16:22:41.728Z"
   },
   {
    "duration": 7,
    "start_time": "2022-05-11T16:22:41.735Z"
   },
   {
    "duration": 59,
    "start_time": "2022-05-11T16:22:41.745Z"
   },
   {
    "duration": 18,
    "start_time": "2022-05-11T16:22:41.806Z"
   },
   {
    "duration": 18,
    "start_time": "2022-05-11T16:22:41.827Z"
   },
   {
    "duration": 53,
    "start_time": "2022-05-11T16:22:41.848Z"
   },
   {
    "duration": 24,
    "start_time": "2022-05-11T16:22:41.904Z"
   },
   {
    "duration": 25,
    "start_time": "2022-05-11T16:22:41.930Z"
   },
   {
    "duration": 42,
    "start_time": "2022-05-11T16:22:41.958Z"
   },
   {
    "duration": 43,
    "start_time": "2022-05-11T16:22:42.002Z"
   },
   {
    "duration": 52,
    "start_time": "2022-05-11T16:22:42.047Z"
   },
   {
    "duration": 231,
    "start_time": "2022-05-11T16:22:42.102Z"
   },
   {
    "duration": 0,
    "start_time": "2022-05-11T16:22:42.336Z"
   },
   {
    "duration": 3,
    "start_time": "2022-05-11T16:23:23.098Z"
   },
   {
    "duration": 203,
    "start_time": "2022-05-11T16:23:23.104Z"
   },
   {
    "duration": 184,
    "start_time": "2022-05-11T16:23:23.309Z"
   },
   {
    "duration": 9,
    "start_time": "2022-05-11T16:23:23.495Z"
   },
   {
    "duration": 22,
    "start_time": "2022-05-11T16:23:23.507Z"
   },
   {
    "duration": 13,
    "start_time": "2022-05-11T16:23:23.531Z"
   },
   {
    "duration": 54,
    "start_time": "2022-05-11T16:23:23.547Z"
   },
   {
    "duration": 9,
    "start_time": "2022-05-11T16:23:23.604Z"
   },
   {
    "duration": 56,
    "start_time": "2022-05-11T16:23:23.616Z"
   },
   {
    "duration": 33,
    "start_time": "2022-05-11T16:23:23.694Z"
   },
   {
    "duration": 34,
    "start_time": "2022-05-11T16:23:23.729Z"
   },
   {
    "duration": 109,
    "start_time": "2022-05-11T16:23:23.765Z"
   },
   {
    "duration": 122,
    "start_time": "2022-05-11T16:23:23.878Z"
   },
   {
    "duration": 97,
    "start_time": "2022-05-11T16:23:24.002Z"
   },
   {
    "duration": 66,
    "start_time": "2022-05-11T16:23:24.101Z"
   },
   {
    "duration": 21,
    "start_time": "2022-05-11T16:23:24.193Z"
   },
   {
    "duration": 117,
    "start_time": "2022-05-11T16:23:24.217Z"
   },
   {
    "duration": 98,
    "start_time": "2022-05-11T16:23:24.337Z"
   },
   {
    "duration": 16,
    "start_time": "2022-05-11T16:23:24.437Z"
   },
   {
    "duration": 42,
    "start_time": "2022-05-11T16:23:24.456Z"
   },
   {
    "duration": 4,
    "start_time": "2022-05-11T16:23:24.501Z"
   },
   {
    "duration": 10,
    "start_time": "2022-05-11T16:23:24.507Z"
   },
   {
    "duration": 33,
    "start_time": "2022-05-11T16:23:24.519Z"
   },
   {
    "duration": 51,
    "start_time": "2022-05-11T16:23:24.557Z"
   },
   {
    "duration": 19,
    "start_time": "2022-05-11T16:23:24.611Z"
   },
   {
    "duration": 18,
    "start_time": "2022-05-11T16:23:24.632Z"
   },
   {
    "duration": 56,
    "start_time": "2022-05-11T16:23:24.652Z"
   },
   {
    "duration": 21,
    "start_time": "2022-05-11T16:23:24.711Z"
   },
   {
    "duration": 11,
    "start_time": "2022-05-11T16:23:24.734Z"
   },
   {
    "duration": 71,
    "start_time": "2022-05-11T16:23:24.748Z"
   },
   {
    "duration": 30,
    "start_time": "2022-05-11T16:23:24.821Z"
   },
   {
    "duration": 221,
    "start_time": "2022-05-11T16:23:24.854Z"
   },
   {
    "duration": 0,
    "start_time": "2022-05-11T16:23:25.079Z"
   },
   {
    "duration": 0,
    "start_time": "2022-05-11T16:23:25.081Z"
   },
   {
    "duration": 3,
    "start_time": "2022-05-11T16:24:32.945Z"
   },
   {
    "duration": 186,
    "start_time": "2022-05-11T16:24:32.950Z"
   },
   {
    "duration": 177,
    "start_time": "2022-05-11T16:24:33.138Z"
   },
   {
    "duration": 9,
    "start_time": "2022-05-11T16:24:33.318Z"
   },
   {
    "duration": 9,
    "start_time": "2022-05-11T16:24:33.329Z"
   },
   {
    "duration": 10,
    "start_time": "2022-05-11T16:24:33.340Z"
   },
   {
    "duration": 47,
    "start_time": "2022-05-11T16:24:33.352Z"
   },
   {
    "duration": 9,
    "start_time": "2022-05-11T16:24:33.401Z"
   },
   {
    "duration": 39,
    "start_time": "2022-05-11T16:24:33.412Z"
   },
   {
    "duration": 55,
    "start_time": "2022-05-11T16:24:33.455Z"
   },
   {
    "duration": 34,
    "start_time": "2022-05-11T16:24:33.512Z"
   },
   {
    "duration": 137,
    "start_time": "2022-05-11T16:24:33.548Z"
   },
   {
    "duration": 140,
    "start_time": "2022-05-11T16:24:33.687Z"
   },
   {
    "duration": 106,
    "start_time": "2022-05-11T16:24:33.830Z"
   },
   {
    "duration": 76,
    "start_time": "2022-05-11T16:24:33.938Z"
   },
   {
    "duration": 22,
    "start_time": "2022-05-11T16:24:34.016Z"
   },
   {
    "duration": 125,
    "start_time": "2022-05-11T16:24:34.040Z"
   },
   {
    "duration": 103,
    "start_time": "2022-05-11T16:24:34.169Z"
   },
   {
    "duration": 31,
    "start_time": "2022-05-11T16:24:34.274Z"
   },
   {
    "duration": 17,
    "start_time": "2022-05-11T16:24:34.308Z"
   },
   {
    "duration": 4,
    "start_time": "2022-05-11T16:24:34.327Z"
   },
   {
    "duration": 8,
    "start_time": "2022-05-11T16:24:34.333Z"
   },
   {
    "duration": 60,
    "start_time": "2022-05-11T16:24:34.344Z"
   },
   {
    "duration": 21,
    "start_time": "2022-05-11T16:24:34.407Z"
   },
   {
    "duration": 19,
    "start_time": "2022-05-11T16:24:34.431Z"
   },
   {
    "duration": 53,
    "start_time": "2022-05-11T16:24:34.453Z"
   },
   {
    "duration": 23,
    "start_time": "2022-05-11T16:24:34.508Z"
   },
   {
    "duration": 20,
    "start_time": "2022-05-11T16:24:34.533Z"
   },
   {
    "duration": 46,
    "start_time": "2022-05-11T16:24:34.555Z"
   },
   {
    "duration": 32,
    "start_time": "2022-05-11T16:24:34.603Z"
   },
   {
    "duration": 55,
    "start_time": "2022-05-11T16:24:34.638Z"
   },
   {
    "duration": 236,
    "start_time": "2022-05-11T16:24:34.697Z"
   },
   {
    "duration": 0,
    "start_time": "2022-05-11T16:24:34.935Z"
   },
   {
    "duration": 0,
    "start_time": "2022-05-11T16:24:34.937Z"
   },
   {
    "duration": 4,
    "start_time": "2022-05-11T17:31:43.853Z"
   },
   {
    "duration": 233,
    "start_time": "2022-05-11T17:31:43.861Z"
   },
   {
    "duration": 201,
    "start_time": "2022-05-11T17:31:44.096Z"
   },
   {
    "duration": 13,
    "start_time": "2022-05-11T17:31:44.300Z"
   },
   {
    "duration": 16,
    "start_time": "2022-05-11T17:31:44.318Z"
   },
   {
    "duration": 8,
    "start_time": "2022-05-11T17:31:44.337Z"
   },
   {
    "duration": 21,
    "start_time": "2022-05-11T17:31:44.347Z"
   },
   {
    "duration": 20,
    "start_time": "2022-05-11T17:31:44.401Z"
   },
   {
    "duration": 34,
    "start_time": "2022-05-11T17:31:44.424Z"
   },
   {
    "duration": 49,
    "start_time": "2022-05-11T17:31:44.461Z"
   },
   {
    "duration": 42,
    "start_time": "2022-05-11T17:31:44.513Z"
   },
   {
    "duration": 120,
    "start_time": "2022-05-11T17:31:44.557Z"
   },
   {
    "duration": 135,
    "start_time": "2022-05-11T17:31:44.681Z"
   },
   {
    "duration": 110,
    "start_time": "2022-05-11T17:31:44.818Z"
   },
   {
    "duration": 79,
    "start_time": "2022-05-11T17:31:44.930Z"
   },
   {
    "duration": 30,
    "start_time": "2022-05-11T17:31:45.012Z"
   },
   {
    "duration": 150,
    "start_time": "2022-05-11T17:31:45.044Z"
   },
   {
    "duration": 121,
    "start_time": "2022-05-11T17:31:45.197Z"
   },
   {
    "duration": 20,
    "start_time": "2022-05-11T17:31:45.322Z"
   },
   {
    "duration": 20,
    "start_time": "2022-05-11T17:31:45.345Z"
   },
   {
    "duration": 12,
    "start_time": "2022-05-11T17:31:45.392Z"
   },
   {
    "duration": 17,
    "start_time": "2022-05-11T17:31:45.406Z"
   },
   {
    "duration": 28,
    "start_time": "2022-05-11T17:31:45.426Z"
   },
   {
    "duration": 21,
    "start_time": "2022-05-11T17:31:45.457Z"
   },
   {
    "duration": 29,
    "start_time": "2022-05-11T17:31:45.500Z"
   },
   {
    "duration": 19,
    "start_time": "2022-05-11T17:31:45.532Z"
   },
   {
    "duration": 48,
    "start_time": "2022-05-11T17:31:45.554Z"
   },
   {
    "duration": 29,
    "start_time": "2022-05-11T17:31:45.605Z"
   },
   {
    "duration": 9,
    "start_time": "2022-05-11T17:31:45.636Z"
   },
   {
    "duration": 65,
    "start_time": "2022-05-11T17:31:45.646Z"
   },
   {
    "duration": 33,
    "start_time": "2022-05-11T17:31:45.713Z"
   },
   {
    "duration": 224,
    "start_time": "2022-05-11T17:31:45.749Z"
   },
   {
    "duration": 0,
    "start_time": "2022-05-11T17:31:45.975Z"
   },
   {
    "duration": 0,
    "start_time": "2022-05-11T17:31:45.977Z"
   },
   {
    "duration": 4,
    "start_time": "2022-05-11T17:31:59.367Z"
   },
   {
    "duration": 251,
    "start_time": "2022-05-11T17:31:59.374Z"
   },
   {
    "duration": 198,
    "start_time": "2022-05-11T17:31:59.629Z"
   },
   {
    "duration": 12,
    "start_time": "2022-05-11T17:31:59.831Z"
   },
   {
    "duration": 5,
    "start_time": "2022-05-11T17:31:59.847Z"
   },
   {
    "duration": 9,
    "start_time": "2022-05-11T17:31:59.854Z"
   },
   {
    "duration": 23,
    "start_time": "2022-05-11T17:31:59.899Z"
   },
   {
    "duration": 5,
    "start_time": "2022-05-11T17:31:59.925Z"
   },
   {
    "duration": 66,
    "start_time": "2022-05-11T17:31:59.933Z"
   },
   {
    "duration": 38,
    "start_time": "2022-05-11T17:32:00.015Z"
   },
   {
    "duration": 40,
    "start_time": "2022-05-11T17:32:00.057Z"
   },
   {
    "duration": 137,
    "start_time": "2022-05-11T17:32:00.102Z"
   },
   {
    "duration": 198,
    "start_time": "2022-05-11T17:32:00.242Z"
   },
   {
    "duration": 113,
    "start_time": "2022-05-11T17:32:00.443Z"
   },
   {
    "duration": 95,
    "start_time": "2022-05-11T17:32:00.558Z"
   },
   {
    "duration": 44,
    "start_time": "2022-05-11T17:32:00.655Z"
   },
   {
    "duration": 134,
    "start_time": "2022-05-11T17:32:00.702Z"
   },
   {
    "duration": 119,
    "start_time": "2022-05-11T17:32:00.838Z"
   },
   {
    "duration": 33,
    "start_time": "2022-05-11T17:32:00.960Z"
   },
   {
    "duration": 29,
    "start_time": "2022-05-11T17:32:00.996Z"
   },
   {
    "duration": 21,
    "start_time": "2022-05-11T17:32:01.029Z"
   },
   {
    "duration": 37,
    "start_time": "2022-05-11T17:32:01.052Z"
   },
   {
    "duration": 65,
    "start_time": "2022-05-11T17:32:01.091Z"
   },
   {
    "duration": 22,
    "start_time": "2022-05-11T17:32:01.159Z"
   },
   {
    "duration": 22,
    "start_time": "2022-05-11T17:32:01.183Z"
   },
   {
    "duration": 39,
    "start_time": "2022-05-11T17:32:01.210Z"
   },
   {
    "duration": 23,
    "start_time": "2022-05-11T17:32:01.252Z"
   },
   {
    "duration": 33,
    "start_time": "2022-05-11T17:32:01.277Z"
   },
   {
    "duration": 21,
    "start_time": "2022-05-11T17:32:01.316Z"
   },
   {
    "duration": 37,
    "start_time": "2022-05-11T17:32:01.339Z"
   },
   {
    "duration": 55,
    "start_time": "2022-05-11T17:32:01.378Z"
   },
   {
    "duration": 224,
    "start_time": "2022-05-11T17:32:01.435Z"
   },
   {
    "duration": 0,
    "start_time": "2022-05-11T17:32:01.661Z"
   },
   {
    "duration": 0,
    "start_time": "2022-05-11T17:32:01.663Z"
   },
   {
    "duration": 0,
    "start_time": "2022-05-11T17:32:01.665Z"
   },
   {
    "duration": 3,
    "start_time": "2022-05-11T17:32:26.496Z"
   },
   {
    "duration": 239,
    "start_time": "2022-05-11T17:32:26.502Z"
   },
   {
    "duration": 214,
    "start_time": "2022-05-11T17:32:26.743Z"
   },
   {
    "duration": 10,
    "start_time": "2022-05-11T17:32:26.959Z"
   },
   {
    "duration": 22,
    "start_time": "2022-05-11T17:32:26.972Z"
   },
   {
    "duration": 10,
    "start_time": "2022-05-11T17:32:26.997Z"
   },
   {
    "duration": 32,
    "start_time": "2022-05-11T17:32:27.010Z"
   },
   {
    "duration": 5,
    "start_time": "2022-05-11T17:32:27.044Z"
   },
   {
    "duration": 78,
    "start_time": "2022-05-11T17:32:27.051Z"
   },
   {
    "duration": 46,
    "start_time": "2022-05-11T17:32:27.132Z"
   },
   {
    "duration": 54,
    "start_time": "2022-05-11T17:32:27.181Z"
   },
   {
    "duration": 129,
    "start_time": "2022-05-11T17:32:27.238Z"
   },
   {
    "duration": 146,
    "start_time": "2022-05-11T17:32:27.370Z"
   },
   {
    "duration": 105,
    "start_time": "2022-05-11T17:32:27.519Z"
   },
   {
    "duration": 80,
    "start_time": "2022-05-11T17:32:27.626Z"
   },
   {
    "duration": 28,
    "start_time": "2022-05-11T17:32:27.710Z"
   },
   {
    "duration": 136,
    "start_time": "2022-05-11T17:32:27.741Z"
   },
   {
    "duration": 95,
    "start_time": "2022-05-11T17:32:27.880Z"
   },
   {
    "duration": 32,
    "start_time": "2022-05-11T17:32:27.977Z"
   },
   {
    "duration": 27,
    "start_time": "2022-05-11T17:32:28.012Z"
   },
   {
    "duration": 4,
    "start_time": "2022-05-11T17:32:28.042Z"
   },
   {
    "duration": 10,
    "start_time": "2022-05-11T17:32:28.048Z"
   },
   {
    "duration": 62,
    "start_time": "2022-05-11T17:32:28.061Z"
   },
   {
    "duration": 21,
    "start_time": "2022-05-11T17:32:28.126Z"
   },
   {
    "duration": 19,
    "start_time": "2022-05-11T17:32:28.149Z"
   },
   {
    "duration": 51,
    "start_time": "2022-05-11T17:32:28.171Z"
   },
   {
    "duration": 23,
    "start_time": "2022-05-11T17:32:28.225Z"
   },
   {
    "duration": 47,
    "start_time": "2022-05-11T17:32:28.250Z"
   },
   {
    "duration": 12,
    "start_time": "2022-05-11T17:32:28.302Z"
   },
   {
    "duration": 44,
    "start_time": "2022-05-11T17:32:28.316Z"
   },
   {
    "duration": 50,
    "start_time": "2022-05-11T17:32:28.362Z"
   },
   {
    "duration": 226,
    "start_time": "2022-05-11T17:32:28.415Z"
   },
   {
    "duration": 0,
    "start_time": "2022-05-11T17:32:28.644Z"
   },
   {
    "duration": 0,
    "start_time": "2022-05-11T17:32:28.646Z"
   },
   {
    "duration": 4,
    "start_time": "2022-05-11T17:33:03.729Z"
   },
   {
    "duration": 271,
    "start_time": "2022-05-11T17:33:03.736Z"
   },
   {
    "duration": 337,
    "start_time": "2022-05-11T17:33:04.010Z"
   },
   {
    "duration": 11,
    "start_time": "2022-05-11T17:33:04.350Z"
   },
   {
    "duration": 4,
    "start_time": "2022-05-11T17:33:04.365Z"
   },
   {
    "duration": 34,
    "start_time": "2022-05-11T17:33:04.392Z"
   },
   {
    "duration": 35,
    "start_time": "2022-05-11T17:33:04.428Z"
   },
   {
    "duration": 24,
    "start_time": "2022-05-11T17:33:04.466Z"
   },
   {
    "duration": 58,
    "start_time": "2022-05-11T17:33:04.504Z"
   },
   {
    "duration": 64,
    "start_time": "2022-05-11T17:33:04.564Z"
   },
   {
    "duration": 46,
    "start_time": "2022-05-11T17:33:04.630Z"
   },
   {
    "duration": 103,
    "start_time": "2022-05-11T17:33:04.679Z"
   },
   {
    "duration": 135,
    "start_time": "2022-05-11T17:33:04.784Z"
   },
   {
    "duration": 103,
    "start_time": "2022-05-11T17:33:04.923Z"
   },
   {
    "duration": 81,
    "start_time": "2022-05-11T17:33:05.028Z"
   },
   {
    "duration": 28,
    "start_time": "2022-05-11T17:33:05.111Z"
   },
   {
    "duration": 142,
    "start_time": "2022-05-11T17:33:05.142Z"
   },
   {
    "duration": 106,
    "start_time": "2022-05-11T17:33:05.293Z"
   },
   {
    "duration": 24,
    "start_time": "2022-05-11T17:33:05.402Z"
   },
   {
    "duration": 27,
    "start_time": "2022-05-11T17:33:05.429Z"
   },
   {
    "duration": 4,
    "start_time": "2022-05-11T17:33:05.458Z"
   },
   {
    "duration": 58,
    "start_time": "2022-05-11T17:33:05.464Z"
   },
   {
    "duration": 40,
    "start_time": "2022-05-11T17:33:05.526Z"
   },
   {
    "duration": 25,
    "start_time": "2022-05-11T17:33:05.568Z"
   },
   {
    "duration": 41,
    "start_time": "2022-05-11T17:33:05.596Z"
   },
   {
    "duration": 19,
    "start_time": "2022-05-11T17:33:05.640Z"
   },
   {
    "duration": 34,
    "start_time": "2022-05-11T17:33:05.662Z"
   },
   {
    "duration": 26,
    "start_time": "2022-05-11T17:33:05.704Z"
   },
   {
    "duration": 9,
    "start_time": "2022-05-11T17:33:05.733Z"
   },
   {
    "duration": 67,
    "start_time": "2022-05-11T17:33:05.745Z"
   },
   {
    "duration": 40,
    "start_time": "2022-05-11T17:33:05.814Z"
   },
   {
    "duration": 229,
    "start_time": "2022-05-11T17:33:05.857Z"
   },
   {
    "duration": 0,
    "start_time": "2022-05-11T17:33:06.089Z"
   },
   {
    "duration": 0,
    "start_time": "2022-05-11T17:33:06.091Z"
   },
   {
    "duration": 3,
    "start_time": "2022-05-11T17:33:25.181Z"
   },
   {
    "duration": 229,
    "start_time": "2022-05-11T17:33:25.187Z"
   },
   {
    "duration": 249,
    "start_time": "2022-05-11T17:33:25.419Z"
   },
   {
    "duration": 9,
    "start_time": "2022-05-11T17:33:25.671Z"
   },
   {
    "duration": 9,
    "start_time": "2022-05-11T17:33:25.699Z"
   },
   {
    "duration": 9,
    "start_time": "2022-05-11T17:33:25.710Z"
   },
   {
    "duration": 22,
    "start_time": "2022-05-11T17:33:25.721Z"
   },
   {
    "duration": 11,
    "start_time": "2022-05-11T17:33:25.745Z"
   },
   {
    "duration": 61,
    "start_time": "2022-05-11T17:33:25.758Z"
   },
   {
    "duration": 33,
    "start_time": "2022-05-11T17:33:25.821Z"
   },
   {
    "duration": 56,
    "start_time": "2022-05-11T17:33:25.856Z"
   },
   {
    "duration": 102,
    "start_time": "2022-05-11T17:33:25.915Z"
   },
   {
    "duration": 111,
    "start_time": "2022-05-11T17:33:26.019Z"
   },
   {
    "duration": 97,
    "start_time": "2022-05-11T17:33:26.135Z"
   },
   {
    "duration": 119,
    "start_time": "2022-05-11T17:33:26.235Z"
   },
   {
    "duration": 40,
    "start_time": "2022-05-11T17:33:26.356Z"
   },
   {
    "duration": 124,
    "start_time": "2022-05-11T17:33:26.398Z"
   },
   {
    "duration": 108,
    "start_time": "2022-05-11T17:33:26.524Z"
   },
   {
    "duration": 17,
    "start_time": "2022-05-11T17:33:26.634Z"
   },
   {
    "duration": 42,
    "start_time": "2022-05-11T17:33:26.653Z"
   },
   {
    "duration": 4,
    "start_time": "2022-05-11T17:33:26.697Z"
   },
   {
    "duration": 18,
    "start_time": "2022-05-11T17:33:26.704Z"
   },
   {
    "duration": 28,
    "start_time": "2022-05-11T17:33:26.724Z"
   },
   {
    "duration": 38,
    "start_time": "2022-05-11T17:33:26.755Z"
   },
   {
    "duration": 25,
    "start_time": "2022-05-11T17:33:26.795Z"
   },
   {
    "duration": 27,
    "start_time": "2022-05-11T17:33:26.822Z"
   },
   {
    "duration": 56,
    "start_time": "2022-05-11T17:33:26.851Z"
   },
   {
    "duration": 21,
    "start_time": "2022-05-11T17:33:26.909Z"
   },
   {
    "duration": 10,
    "start_time": "2022-05-11T17:33:26.933Z"
   },
   {
    "duration": 77,
    "start_time": "2022-05-11T17:33:26.945Z"
   },
   {
    "duration": 38,
    "start_time": "2022-05-11T17:33:27.025Z"
   },
   {
    "duration": 206,
    "start_time": "2022-05-11T17:33:27.067Z"
   },
   {
    "duration": 0,
    "start_time": "2022-05-11T17:33:27.276Z"
   },
   {
    "duration": 0,
    "start_time": "2022-05-11T17:33:27.278Z"
   },
   {
    "duration": 7,
    "start_time": "2022-05-11T17:33:59.502Z"
   },
   {
    "duration": 295,
    "start_time": "2022-05-11T17:33:59.512Z"
   },
   {
    "duration": 183,
    "start_time": "2022-05-11T17:33:59.810Z"
   },
   {
    "duration": 23,
    "start_time": "2022-05-11T17:33:59.996Z"
   },
   {
    "duration": 7,
    "start_time": "2022-05-11T17:34:00.022Z"
   },
   {
    "duration": 11,
    "start_time": "2022-05-11T17:34:00.031Z"
   },
   {
    "duration": 25,
    "start_time": "2022-05-11T17:34:00.044Z"
   },
   {
    "duration": 25,
    "start_time": "2022-05-11T17:34:00.071Z"
   },
   {
    "duration": 47,
    "start_time": "2022-05-11T17:34:00.102Z"
   },
   {
    "duration": 48,
    "start_time": "2022-05-11T17:34:00.153Z"
   },
   {
    "duration": 39,
    "start_time": "2022-05-11T17:34:00.203Z"
   },
   {
    "duration": 118,
    "start_time": "2022-05-11T17:34:00.245Z"
   },
   {
    "duration": 133,
    "start_time": "2022-05-11T17:34:00.365Z"
   },
   {
    "duration": 110,
    "start_time": "2022-05-11T17:34:00.500Z"
   },
   {
    "duration": 83,
    "start_time": "2022-05-11T17:34:00.612Z"
   },
   {
    "duration": 26,
    "start_time": "2022-05-11T17:34:00.698Z"
   },
   {
    "duration": 139,
    "start_time": "2022-05-11T17:34:00.726Z"
   },
   {
    "duration": 107,
    "start_time": "2022-05-11T17:34:00.867Z"
   },
   {
    "duration": 35,
    "start_time": "2022-05-11T17:34:00.976Z"
   },
   {
    "duration": 17,
    "start_time": "2022-05-11T17:34:01.014Z"
   },
   {
    "duration": 4,
    "start_time": "2022-05-11T17:34:01.033Z"
   },
   {
    "duration": 15,
    "start_time": "2022-05-11T17:34:01.040Z"
   },
   {
    "duration": 56,
    "start_time": "2022-05-11T17:34:01.057Z"
   },
   {
    "duration": 21,
    "start_time": "2022-05-11T17:34:01.115Z"
   },
   {
    "duration": 20,
    "start_time": "2022-05-11T17:34:01.138Z"
   },
   {
    "duration": 44,
    "start_time": "2022-05-11T17:34:01.160Z"
   },
   {
    "duration": 24,
    "start_time": "2022-05-11T17:34:01.208Z"
   },
   {
    "duration": 20,
    "start_time": "2022-05-11T17:34:01.237Z"
   },
   {
    "duration": 50,
    "start_time": "2022-05-11T17:34:01.259Z"
   },
   {
    "duration": 45,
    "start_time": "2022-05-11T17:34:01.312Z"
   },
   {
    "duration": 58,
    "start_time": "2022-05-11T17:34:01.360Z"
   },
   {
    "duration": 1309,
    "start_time": "2022-05-11T17:34:01.421Z"
   },
   {
    "duration": 0,
    "start_time": "2022-05-11T17:34:02.733Z"
   },
   {
    "duration": 0,
    "start_time": "2022-05-11T17:34:02.734Z"
   },
   {
    "duration": 3,
    "start_time": "2022-05-11T17:38:19.948Z"
   },
   {
    "duration": 214,
    "start_time": "2022-05-11T17:38:19.955Z"
   },
   {
    "duration": 192,
    "start_time": "2022-05-11T17:38:20.171Z"
   },
   {
    "duration": 13,
    "start_time": "2022-05-11T17:38:20.366Z"
   },
   {
    "duration": 16,
    "start_time": "2022-05-11T17:38:20.382Z"
   },
   {
    "duration": 10,
    "start_time": "2022-05-11T17:38:20.400Z"
   },
   {
    "duration": 39,
    "start_time": "2022-05-11T17:38:20.413Z"
   },
   {
    "duration": 7,
    "start_time": "2022-05-11T17:38:20.455Z"
   },
   {
    "duration": 82,
    "start_time": "2022-05-11T17:38:20.465Z"
   },
   {
    "duration": 68,
    "start_time": "2022-05-11T17:38:20.551Z"
   },
   {
    "duration": 33,
    "start_time": "2022-05-11T17:38:20.621Z"
   },
   {
    "duration": 123,
    "start_time": "2022-05-11T17:38:20.657Z"
   },
   {
    "duration": 119,
    "start_time": "2022-05-11T17:38:20.782Z"
   },
   {
    "duration": 104,
    "start_time": "2022-05-11T17:38:20.907Z"
   },
   {
    "duration": 65,
    "start_time": "2022-05-11T17:38:21.013Z"
   },
   {
    "duration": 34,
    "start_time": "2022-05-11T17:38:21.080Z"
   },
   {
    "duration": 125,
    "start_time": "2022-05-11T17:38:21.117Z"
   },
   {
    "duration": 131,
    "start_time": "2022-05-11T17:38:21.245Z"
   },
   {
    "duration": 28,
    "start_time": "2022-05-11T17:38:21.378Z"
   },
   {
    "duration": 23,
    "start_time": "2022-05-11T17:38:21.409Z"
   },
   {
    "duration": 4,
    "start_time": "2022-05-11T17:38:21.435Z"
   },
   {
    "duration": 7,
    "start_time": "2022-05-11T17:38:21.442Z"
   },
   {
    "duration": 64,
    "start_time": "2022-05-11T17:38:21.452Z"
   },
   {
    "duration": 28,
    "start_time": "2022-05-11T17:38:21.519Z"
   },
   {
    "duration": 58,
    "start_time": "2022-05-11T17:38:21.550Z"
   },
   {
    "duration": 17,
    "start_time": "2022-05-11T17:38:21.610Z"
   },
   {
    "duration": 20,
    "start_time": "2022-05-11T17:38:21.630Z"
   },
   {
    "duration": 55,
    "start_time": "2022-05-11T17:38:21.652Z"
   },
   {
    "duration": 9,
    "start_time": "2022-05-11T17:38:21.710Z"
   },
   {
    "duration": 48,
    "start_time": "2022-05-11T17:38:21.721Z"
   },
   {
    "duration": 33,
    "start_time": "2022-05-11T17:38:21.793Z"
   },
   {
    "duration": 224,
    "start_time": "2022-05-11T17:38:21.829Z"
   },
   {
    "duration": 0,
    "start_time": "2022-05-11T17:38:22.055Z"
   },
   {
    "duration": 4,
    "start_time": "2022-05-11T17:39:20.073Z"
   },
   {
    "duration": 216,
    "start_time": "2022-05-11T17:39:20.079Z"
   },
   {
    "duration": 194,
    "start_time": "2022-05-11T17:39:20.300Z"
   },
   {
    "duration": 12,
    "start_time": "2022-05-11T17:39:20.497Z"
   },
   {
    "duration": 5,
    "start_time": "2022-05-11T17:39:20.514Z"
   },
   {
    "duration": 16,
    "start_time": "2022-05-11T17:39:20.521Z"
   },
   {
    "duration": 23,
    "start_time": "2022-05-11T17:39:20.539Z"
   },
   {
    "duration": 11,
    "start_time": "2022-05-11T17:39:20.593Z"
   },
   {
    "duration": 66,
    "start_time": "2022-05-11T17:39:20.607Z"
   },
   {
    "duration": 51,
    "start_time": "2022-05-11T17:39:20.675Z"
   },
   {
    "duration": 33,
    "start_time": "2022-05-11T17:39:20.728Z"
   },
   {
    "duration": 111,
    "start_time": "2022-05-11T17:39:20.763Z"
   },
   {
    "duration": 119,
    "start_time": "2022-05-11T17:39:20.876Z"
   },
   {
    "duration": 107,
    "start_time": "2022-05-11T17:39:21.000Z"
   },
   {
    "duration": 72,
    "start_time": "2022-05-11T17:39:21.110Z"
   },
   {
    "duration": 27,
    "start_time": "2022-05-11T17:39:21.193Z"
   },
   {
    "duration": 124,
    "start_time": "2022-05-11T17:39:21.222Z"
   },
   {
    "duration": 104,
    "start_time": "2022-05-11T17:39:21.349Z"
   },
   {
    "duration": 19,
    "start_time": "2022-05-11T17:39:21.456Z"
   },
   {
    "duration": 23,
    "start_time": "2022-05-11T17:39:21.492Z"
   },
   {
    "duration": 5,
    "start_time": "2022-05-11T17:39:21.518Z"
   },
   {
    "duration": 12,
    "start_time": "2022-05-11T17:39:21.525Z"
   },
   {
    "duration": 27,
    "start_time": "2022-05-11T17:39:21.539Z"
   },
   {
    "duration": 24,
    "start_time": "2022-05-11T17:39:21.597Z"
   },
   {
    "duration": 21,
    "start_time": "2022-05-11T17:39:21.624Z"
   },
   {
    "duration": 52,
    "start_time": "2022-05-11T17:39:21.647Z"
   },
   {
    "duration": 27,
    "start_time": "2022-05-11T17:39:21.705Z"
   },
   {
    "duration": 22,
    "start_time": "2022-05-11T17:39:21.735Z"
   },
   {
    "duration": 33,
    "start_time": "2022-05-11T17:39:21.760Z"
   },
   {
    "duration": 46,
    "start_time": "2022-05-11T17:39:21.795Z"
   },
   {
    "duration": 29,
    "start_time": "2022-05-11T17:39:21.844Z"
   },
   {
    "duration": 251,
    "start_time": "2022-05-11T17:39:21.875Z"
   },
   {
    "duration": 0,
    "start_time": "2022-05-11T17:39:22.128Z"
   },
   {
    "duration": 0,
    "start_time": "2022-05-11T17:39:22.131Z"
   },
   {
    "duration": 4,
    "start_time": "2022-05-11T17:43:57.893Z"
   },
   {
    "duration": 240,
    "start_time": "2022-05-11T17:43:57.899Z"
   },
   {
    "duration": 190,
    "start_time": "2022-05-11T17:43:58.141Z"
   },
   {
    "duration": 10,
    "start_time": "2022-05-11T17:43:58.333Z"
   },
   {
    "duration": 7,
    "start_time": "2022-05-11T17:43:58.346Z"
   },
   {
    "duration": 9,
    "start_time": "2022-05-11T17:43:58.355Z"
   },
   {
    "duration": 48,
    "start_time": "2022-05-11T17:43:58.366Z"
   },
   {
    "duration": 6,
    "start_time": "2022-05-11T17:43:58.416Z"
   },
   {
    "duration": 33,
    "start_time": "2022-05-11T17:43:58.424Z"
   },
   {
    "duration": 72,
    "start_time": "2022-05-11T17:43:58.460Z"
   },
   {
    "duration": 65,
    "start_time": "2022-05-11T17:43:58.535Z"
   },
   {
    "duration": 83,
    "start_time": "2022-05-11T17:43:58.604Z"
   },
   {
    "duration": 106,
    "start_time": "2022-05-11T17:43:58.696Z"
   },
   {
    "duration": 98,
    "start_time": "2022-05-11T17:43:58.807Z"
   },
   {
    "duration": 68,
    "start_time": "2022-05-11T17:43:58.910Z"
   },
   {
    "duration": 39,
    "start_time": "2022-05-11T17:43:58.980Z"
   },
   {
    "duration": 115,
    "start_time": "2022-05-11T17:43:59.021Z"
   },
   {
    "duration": 100,
    "start_time": "2022-05-11T17:43:59.138Z"
   },
   {
    "duration": 18,
    "start_time": "2022-05-11T17:43:59.242Z"
   },
   {
    "duration": 37,
    "start_time": "2022-05-11T17:43:59.263Z"
   },
   {
    "duration": 7,
    "start_time": "2022-05-11T17:43:59.302Z"
   },
   {
    "duration": 10,
    "start_time": "2022-05-11T17:43:59.313Z"
   },
   {
    "duration": 23,
    "start_time": "2022-05-11T17:43:59.325Z"
   },
   {
    "duration": 49,
    "start_time": "2022-05-11T17:43:59.350Z"
   },
   {
    "duration": 24,
    "start_time": "2022-05-11T17:43:59.401Z"
   },
   {
    "duration": 18,
    "start_time": "2022-05-11T17:43:59.427Z"
   },
   {
    "duration": 55,
    "start_time": "2022-05-11T17:43:59.447Z"
   },
   {
    "duration": 21,
    "start_time": "2022-05-11T17:43:59.505Z"
   },
   {
    "duration": 9,
    "start_time": "2022-05-11T17:43:59.529Z"
   },
   {
    "duration": 63,
    "start_time": "2022-05-11T17:43:59.541Z"
   },
   {
    "duration": 30,
    "start_time": "2022-05-11T17:43:59.606Z"
   },
   {
    "duration": 205,
    "start_time": "2022-05-11T17:43:59.638Z"
   },
   {
    "duration": 0,
    "start_time": "2022-05-11T17:43:59.845Z"
   },
   {
    "duration": 0,
    "start_time": "2022-05-11T17:43:59.847Z"
   },
   {
    "duration": 5,
    "start_time": "2022-05-11T17:47:09.713Z"
   },
   {
    "duration": 216,
    "start_time": "2022-05-11T17:47:09.721Z"
   },
   {
    "duration": 206,
    "start_time": "2022-05-11T17:47:09.939Z"
   },
   {
    "duration": 9,
    "start_time": "2022-05-11T17:47:10.148Z"
   },
   {
    "duration": 5,
    "start_time": "2022-05-11T17:47:10.161Z"
   },
   {
    "duration": 35,
    "start_time": "2022-05-11T17:47:10.169Z"
   },
   {
    "duration": 41,
    "start_time": "2022-05-11T17:47:10.206Z"
   },
   {
    "duration": 10,
    "start_time": "2022-05-11T17:47:10.250Z"
   },
   {
    "duration": 47,
    "start_time": "2022-05-11T17:47:10.263Z"
   },
   {
    "duration": 40,
    "start_time": "2022-05-11T17:47:10.313Z"
   },
   {
    "duration": 65,
    "start_time": "2022-05-11T17:47:10.356Z"
   },
   {
    "duration": 148,
    "start_time": "2022-05-11T17:47:10.424Z"
   },
   {
    "duration": 161,
    "start_time": "2022-05-11T17:47:10.575Z"
   },
   {
    "duration": 132,
    "start_time": "2022-05-11T17:47:10.742Z"
   },
   {
    "duration": 86,
    "start_time": "2022-05-11T17:47:10.877Z"
   },
   {
    "duration": 38,
    "start_time": "2022-05-11T17:47:10.965Z"
   },
   {
    "duration": 120,
    "start_time": "2022-05-11T17:47:11.006Z"
   },
   {
    "duration": 99,
    "start_time": "2022-05-11T17:47:11.129Z"
   },
   {
    "duration": 16,
    "start_time": "2022-05-11T17:47:11.231Z"
   },
   {
    "duration": 17,
    "start_time": "2022-05-11T17:47:11.250Z"
   },
   {
    "duration": 6,
    "start_time": "2022-05-11T17:47:11.298Z"
   },
   {
    "duration": 23,
    "start_time": "2022-05-11T17:47:11.308Z"
   },
   {
    "duration": 28,
    "start_time": "2022-05-11T17:47:11.333Z"
   },
   {
    "duration": 22,
    "start_time": "2022-05-11T17:47:11.364Z"
   },
   {
    "duration": 25,
    "start_time": "2022-05-11T17:47:11.395Z"
   },
   {
    "duration": 20,
    "start_time": "2022-05-11T17:47:11.422Z"
   },
   {
    "duration": 54,
    "start_time": "2022-05-11T17:47:11.444Z"
   },
   {
    "duration": 24,
    "start_time": "2022-05-11T17:47:11.501Z"
   },
   {
    "duration": 9,
    "start_time": "2022-05-11T17:47:11.528Z"
   },
   {
    "duration": 60,
    "start_time": "2022-05-11T17:47:11.539Z"
   },
   {
    "duration": 34,
    "start_time": "2022-05-11T17:47:11.601Z"
   },
   {
    "duration": 241,
    "start_time": "2022-05-11T17:47:11.637Z"
   },
   {
    "duration": 0,
    "start_time": "2022-05-11T17:47:11.881Z"
   },
   {
    "duration": 0,
    "start_time": "2022-05-11T17:47:11.882Z"
   },
   {
    "duration": 0,
    "start_time": "2022-05-11T17:47:11.885Z"
   },
   {
    "duration": 4,
    "start_time": "2022-05-11T17:48:10.216Z"
   },
   {
    "duration": 213,
    "start_time": "2022-05-11T17:48:10.224Z"
   },
   {
    "duration": 193,
    "start_time": "2022-05-11T17:48:10.440Z"
   },
   {
    "duration": 12,
    "start_time": "2022-05-11T17:48:10.636Z"
   },
   {
    "duration": 5,
    "start_time": "2022-05-11T17:48:10.653Z"
   },
   {
    "duration": 34,
    "start_time": "2022-05-11T17:48:10.661Z"
   },
   {
    "duration": 23,
    "start_time": "2022-05-11T17:48:10.698Z"
   },
   {
    "duration": 8,
    "start_time": "2022-05-11T17:48:10.723Z"
   },
   {
    "duration": 71,
    "start_time": "2022-05-11T17:48:10.734Z"
   },
   {
    "duration": 46,
    "start_time": "2022-05-11T17:48:10.808Z"
   },
   {
    "duration": 44,
    "start_time": "2022-05-11T17:48:10.856Z"
   },
   {
    "duration": 115,
    "start_time": "2022-05-11T17:48:10.907Z"
   },
   {
    "duration": 123,
    "start_time": "2022-05-11T17:48:11.024Z"
   },
   {
    "duration": 98,
    "start_time": "2022-05-11T17:48:11.152Z"
   },
   {
    "duration": 77,
    "start_time": "2022-05-11T17:48:11.252Z"
   },
   {
    "duration": 22,
    "start_time": "2022-05-11T17:48:11.331Z"
   },
   {
    "duration": 137,
    "start_time": "2022-05-11T17:48:11.355Z"
   },
   {
    "duration": 100,
    "start_time": "2022-05-11T17:48:11.494Z"
   },
   {
    "duration": 20,
    "start_time": "2022-05-11T17:48:11.599Z"
   },
   {
    "duration": 15,
    "start_time": "2022-05-11T17:48:11.621Z"
   },
   {
    "duration": 4,
    "start_time": "2022-05-11T17:48:11.639Z"
   },
   {
    "duration": 8,
    "start_time": "2022-05-11T17:48:11.646Z"
   },
   {
    "duration": 60,
    "start_time": "2022-05-11T17:48:11.657Z"
   },
   {
    "duration": 26,
    "start_time": "2022-05-11T17:48:11.720Z"
   },
   {
    "duration": 55,
    "start_time": "2022-05-11T17:48:11.749Z"
   },
   {
    "duration": 19,
    "start_time": "2022-05-11T17:48:11.809Z"
   },
   {
    "duration": 22,
    "start_time": "2022-05-11T17:48:11.830Z"
   },
   {
    "duration": 46,
    "start_time": "2022-05-11T17:48:11.854Z"
   },
   {
    "duration": 13,
    "start_time": "2022-05-11T17:48:11.903Z"
   },
   {
    "duration": 32,
    "start_time": "2022-05-11T17:48:11.918Z"
   },
   {
    "duration": 62,
    "start_time": "2022-05-11T17:48:11.952Z"
   },
   {
    "duration": 237,
    "start_time": "2022-05-11T17:48:12.017Z"
   },
   {
    "duration": 0,
    "start_time": "2022-05-11T17:48:12.256Z"
   },
   {
    "duration": 0,
    "start_time": "2022-05-11T17:48:12.258Z"
   },
   {
    "duration": 0,
    "start_time": "2022-05-11T17:48:12.259Z"
   },
   {
    "duration": 4,
    "start_time": "2022-05-11T17:48:38.126Z"
   },
   {
    "duration": 220,
    "start_time": "2022-05-11T17:48:38.133Z"
   },
   {
    "duration": 221,
    "start_time": "2022-05-11T17:48:38.355Z"
   },
   {
    "duration": 25,
    "start_time": "2022-05-11T17:48:38.579Z"
   },
   {
    "duration": 10,
    "start_time": "2022-05-11T17:48:38.606Z"
   },
   {
    "duration": 8,
    "start_time": "2022-05-11T17:48:38.618Z"
   },
   {
    "duration": 26,
    "start_time": "2022-05-11T17:48:38.628Z"
   },
   {
    "duration": 12,
    "start_time": "2022-05-11T17:48:38.656Z"
   },
   {
    "duration": 61,
    "start_time": "2022-05-11T17:48:38.671Z"
   },
   {
    "duration": 35,
    "start_time": "2022-05-11T17:48:38.738Z"
   },
   {
    "duration": 38,
    "start_time": "2022-05-11T17:48:38.794Z"
   },
   {
    "duration": 147,
    "start_time": "2022-05-11T17:48:38.834Z"
   },
   {
    "duration": 173,
    "start_time": "2022-05-11T17:48:38.983Z"
   },
   {
    "duration": 136,
    "start_time": "2022-05-11T17:48:39.158Z"
   },
   {
    "duration": 113,
    "start_time": "2022-05-11T17:48:39.297Z"
   },
   {
    "duration": 31,
    "start_time": "2022-05-11T17:48:39.412Z"
   },
   {
    "duration": 173,
    "start_time": "2022-05-11T17:48:39.445Z"
   },
   {
    "duration": 125,
    "start_time": "2022-05-11T17:48:39.620Z"
   },
   {
    "duration": 23,
    "start_time": "2022-05-11T17:48:39.747Z"
   },
   {
    "duration": 42,
    "start_time": "2022-05-11T17:48:39.772Z"
   },
   {
    "duration": 4,
    "start_time": "2022-05-11T17:48:39.816Z"
   },
   {
    "duration": 13,
    "start_time": "2022-05-11T17:48:39.823Z"
   },
   {
    "duration": 27,
    "start_time": "2022-05-11T17:48:39.838Z"
   },
   {
    "duration": 42,
    "start_time": "2022-05-11T17:48:39.868Z"
   },
   {
    "duration": 21,
    "start_time": "2022-05-11T17:48:39.913Z"
   },
   {
    "duration": 24,
    "start_time": "2022-05-11T17:48:39.936Z"
   },
   {
    "duration": 57,
    "start_time": "2022-05-11T17:48:39.963Z"
   },
   {
    "duration": 21,
    "start_time": "2022-05-11T17:48:40.025Z"
   },
   {
    "duration": 11,
    "start_time": "2022-05-11T17:48:40.049Z"
   },
   {
    "duration": 42,
    "start_time": "2022-05-11T17:48:40.095Z"
   },
   {
    "duration": 27,
    "start_time": "2022-05-11T17:48:40.139Z"
   },
   {
    "duration": 209,
    "start_time": "2022-05-11T17:48:40.169Z"
   },
   {
    "duration": 0,
    "start_time": "2022-05-11T17:48:40.380Z"
   },
   {
    "duration": 0,
    "start_time": "2022-05-11T17:48:40.381Z"
   },
   {
    "duration": 0,
    "start_time": "2022-05-11T17:48:40.383Z"
   },
   {
    "duration": 4,
    "start_time": "2022-05-11T17:59:43.059Z"
   },
   {
    "duration": 896,
    "start_time": "2022-05-11T17:59:43.066Z"
   },
   {
    "duration": 202,
    "start_time": "2022-05-11T17:59:43.964Z"
   },
   {
    "duration": 9,
    "start_time": "2022-05-11T17:59:44.168Z"
   },
   {
    "duration": 20,
    "start_time": "2022-05-11T17:59:44.181Z"
   },
   {
    "duration": 29,
    "start_time": "2022-05-11T17:59:44.203Z"
   },
   {
    "duration": 22,
    "start_time": "2022-05-11T17:59:44.234Z"
   },
   {
    "duration": 8,
    "start_time": "2022-05-11T17:59:44.259Z"
   },
   {
    "duration": 73,
    "start_time": "2022-05-11T17:59:44.269Z"
   },
   {
    "duration": 33,
    "start_time": "2022-05-11T17:59:44.345Z"
   },
   {
    "duration": 64,
    "start_time": "2022-05-11T17:59:44.380Z"
   },
   {
    "duration": 121,
    "start_time": "2022-05-11T17:59:44.447Z"
   },
   {
    "duration": 157,
    "start_time": "2022-05-11T17:59:44.571Z"
   },
   {
    "duration": 108,
    "start_time": "2022-05-11T17:59:44.733Z"
   },
   {
    "duration": 87,
    "start_time": "2022-05-11T17:59:44.843Z"
   },
   {
    "duration": 24,
    "start_time": "2022-05-11T17:59:44.932Z"
   },
   {
    "duration": 154,
    "start_time": "2022-05-11T17:59:44.960Z"
   },
   {
    "duration": 114,
    "start_time": "2022-05-11T17:59:45.116Z"
   },
   {
    "duration": 18,
    "start_time": "2022-05-11T17:59:45.232Z"
   },
   {
    "duration": 17,
    "start_time": "2022-05-11T17:59:45.252Z"
   },
   {
    "duration": 4,
    "start_time": "2022-05-11T17:59:45.294Z"
   },
   {
    "duration": 28,
    "start_time": "2022-05-11T17:59:45.301Z"
   },
   {
    "duration": 29,
    "start_time": "2022-05-11T17:59:45.332Z"
   },
   {
    "duration": 19,
    "start_time": "2022-05-11T17:59:45.364Z"
   },
   {
    "duration": 30,
    "start_time": "2022-05-11T17:59:45.399Z"
   },
   {
    "duration": 21,
    "start_time": "2022-05-11T17:59:45.431Z"
   },
   {
    "duration": 45,
    "start_time": "2022-05-11T17:59:45.454Z"
   },
   {
    "duration": 29,
    "start_time": "2022-05-11T17:59:45.502Z"
   },
   {
    "duration": 9,
    "start_time": "2022-05-11T17:59:45.533Z"
   },
   {
    "duration": 66,
    "start_time": "2022-05-11T17:59:45.544Z"
   },
   {
    "duration": 30,
    "start_time": "2022-05-11T17:59:45.613Z"
   },
   {
    "duration": 231,
    "start_time": "2022-05-11T17:59:45.646Z"
   },
   {
    "duration": 0,
    "start_time": "2022-05-11T17:59:45.879Z"
   },
   {
    "duration": 0,
    "start_time": "2022-05-11T17:59:45.881Z"
   },
   {
    "duration": 0,
    "start_time": "2022-05-11T17:59:45.883Z"
   },
   {
    "duration": 4,
    "start_time": "2022-05-11T18:00:02.819Z"
   },
   {
    "duration": 841,
    "start_time": "2022-05-11T18:00:02.825Z"
   },
   {
    "duration": 209,
    "start_time": "2022-05-11T18:00:03.670Z"
   },
   {
    "duration": 15,
    "start_time": "2022-05-11T18:00:03.882Z"
   },
   {
    "duration": 22,
    "start_time": "2022-05-11T18:00:03.902Z"
   },
   {
    "duration": 28,
    "start_time": "2022-05-11T18:00:03.927Z"
   },
   {
    "duration": 52,
    "start_time": "2022-05-11T18:00:03.957Z"
   },
   {
    "duration": 32,
    "start_time": "2022-05-11T18:00:04.012Z"
   },
   {
    "duration": 39,
    "start_time": "2022-05-11T18:00:04.046Z"
   },
   {
    "duration": 53,
    "start_time": "2022-05-11T18:00:04.088Z"
   },
   {
    "duration": 38,
    "start_time": "2022-05-11T18:00:04.143Z"
   },
   {
    "duration": 118,
    "start_time": "2022-05-11T18:00:04.183Z"
   },
   {
    "duration": 142,
    "start_time": "2022-05-11T18:00:04.304Z"
   },
   {
    "duration": 114,
    "start_time": "2022-05-11T18:00:04.450Z"
   },
   {
    "duration": 93,
    "start_time": "2022-05-11T18:00:04.567Z"
   },
   {
    "duration": 49,
    "start_time": "2022-05-11T18:00:04.662Z"
   },
   {
    "duration": 114,
    "start_time": "2022-05-11T18:00:04.717Z"
   },
   {
    "duration": 99,
    "start_time": "2022-05-11T18:00:04.833Z"
   },
   {
    "duration": 17,
    "start_time": "2022-05-11T18:00:04.934Z"
   },
   {
    "duration": 19,
    "start_time": "2022-05-11T18:00:04.953Z"
   },
   {
    "duration": 9,
    "start_time": "2022-05-11T18:00:04.997Z"
   },
   {
    "duration": 19,
    "start_time": "2022-05-11T18:00:05.009Z"
   },
   {
    "duration": 26,
    "start_time": "2022-05-11T18:00:05.030Z"
   },
   {
    "duration": 46,
    "start_time": "2022-05-11T18:00:05.058Z"
   },
   {
    "duration": 22,
    "start_time": "2022-05-11T18:00:05.112Z"
   },
   {
    "duration": 20,
    "start_time": "2022-05-11T18:00:05.136Z"
   },
   {
    "duration": 49,
    "start_time": "2022-05-11T18:00:05.159Z"
   },
   {
    "duration": 25,
    "start_time": "2022-05-11T18:00:05.211Z"
   },
   {
    "duration": 9,
    "start_time": "2022-05-11T18:00:05.239Z"
   },
   {
    "duration": 70,
    "start_time": "2022-05-11T18:00:05.251Z"
   },
   {
    "duration": 30,
    "start_time": "2022-05-11T18:00:05.324Z"
   },
   {
    "duration": 331,
    "start_time": "2022-05-11T18:00:05.356Z"
   },
   {
    "duration": 0,
    "start_time": "2022-05-11T18:00:05.690Z"
   },
   {
    "duration": 0,
    "start_time": "2022-05-11T18:00:05.692Z"
   },
   {
    "duration": 0,
    "start_time": "2022-05-11T18:00:05.693Z"
   },
   {
    "duration": 587,
    "start_time": "2022-05-11T18:15:48.435Z"
   },
   {
    "duration": 1064,
    "start_time": "2022-05-11T18:15:49.025Z"
   },
   {
    "duration": 190,
    "start_time": "2022-05-11T18:15:50.091Z"
   },
   {
    "duration": 9,
    "start_time": "2022-05-11T18:15:50.292Z"
   },
   {
    "duration": 18,
    "start_time": "2022-05-11T18:15:50.304Z"
   },
   {
    "duration": 9,
    "start_time": "2022-05-11T18:15:50.324Z"
   },
   {
    "duration": 21,
    "start_time": "2022-05-11T18:15:50.335Z"
   },
   {
    "duration": 7,
    "start_time": "2022-05-11T18:15:50.358Z"
   },
   {
    "duration": 44,
    "start_time": "2022-05-11T18:15:50.393Z"
   },
   {
    "duration": 35,
    "start_time": "2022-05-11T18:15:50.442Z"
   },
   {
    "duration": 48,
    "start_time": "2022-05-11T18:15:50.494Z"
   },
   {
    "duration": 112,
    "start_time": "2022-05-11T18:15:50.544Z"
   },
   {
    "duration": 120,
    "start_time": "2022-05-11T18:15:50.658Z"
   },
   {
    "duration": 87,
    "start_time": "2022-05-11T18:15:50.780Z"
   },
   {
    "duration": 89,
    "start_time": "2022-05-11T18:15:50.870Z"
   },
   {
    "duration": 47,
    "start_time": "2022-05-11T18:15:50.961Z"
   },
   {
    "duration": 137,
    "start_time": "2022-05-11T18:15:51.010Z"
   },
   {
    "duration": 95,
    "start_time": "2022-05-11T18:15:51.149Z"
   },
   {
    "duration": 15,
    "start_time": "2022-05-11T18:15:51.246Z"
   },
   {
    "duration": 30,
    "start_time": "2022-05-11T18:15:51.263Z"
   },
   {
    "duration": 5,
    "start_time": "2022-05-11T18:15:51.296Z"
   },
   {
    "duration": 12,
    "start_time": "2022-05-11T18:15:51.308Z"
   },
   {
    "duration": 23,
    "start_time": "2022-05-11T18:15:51.323Z"
   },
   {
    "duration": 58,
    "start_time": "2022-05-11T18:15:51.349Z"
   },
   {
    "duration": 17,
    "start_time": "2022-05-11T18:15:51.409Z"
   },
   {
    "duration": 16,
    "start_time": "2022-05-11T18:15:51.428Z"
   },
   {
    "duration": 54,
    "start_time": "2022-05-11T18:15:51.446Z"
   },
   {
    "duration": 19,
    "start_time": "2022-05-11T18:15:51.508Z"
   },
   {
    "duration": 9,
    "start_time": "2022-05-11T18:15:51.529Z"
   },
   {
    "duration": 60,
    "start_time": "2022-05-11T18:15:51.539Z"
   },
   {
    "duration": 29,
    "start_time": "2022-05-11T18:15:51.603Z"
   },
   {
    "duration": 214,
    "start_time": "2022-05-11T18:15:51.635Z"
   },
   {
    "duration": 0,
    "start_time": "2022-05-11T18:15:51.852Z"
   },
   {
    "duration": 1,
    "start_time": "2022-05-11T18:15:51.853Z"
   },
   {
    "duration": 0,
    "start_time": "2022-05-11T18:15:51.856Z"
   },
   {
    "duration": 0,
    "start_time": "2022-05-11T18:15:51.858Z"
   },
   {
    "duration": 0,
    "start_time": "2022-05-11T18:15:51.860Z"
   },
   {
    "duration": 0,
    "start_time": "2022-05-11T18:15:51.862Z"
   },
   {
    "duration": 4,
    "start_time": "2022-05-11T18:16:59.223Z"
   },
   {
    "duration": 214,
    "start_time": "2022-05-11T18:16:59.232Z"
   },
   {
    "duration": 190,
    "start_time": "2022-05-11T18:16:59.448Z"
   },
   {
    "duration": 9,
    "start_time": "2022-05-11T18:16:59.640Z"
   },
   {
    "duration": 5,
    "start_time": "2022-05-11T18:16:59.652Z"
   },
   {
    "duration": 8,
    "start_time": "2022-05-11T18:16:59.659Z"
   },
   {
    "duration": 27,
    "start_time": "2022-05-11T18:16:59.695Z"
   },
   {
    "duration": 5,
    "start_time": "2022-05-11T18:16:59.725Z"
   },
   {
    "duration": 61,
    "start_time": "2022-05-11T18:16:59.732Z"
   },
   {
    "duration": 40,
    "start_time": "2022-05-11T18:16:59.797Z"
   },
   {
    "duration": 56,
    "start_time": "2022-05-11T18:16:59.839Z"
   },
   {
    "duration": 97,
    "start_time": "2022-05-11T18:16:59.898Z"
   },
   {
    "duration": 132,
    "start_time": "2022-05-11T18:16:59.998Z"
   },
   {
    "duration": 97,
    "start_time": "2022-05-11T18:17:00.134Z"
   },
   {
    "duration": 86,
    "start_time": "2022-05-11T18:17:00.234Z"
   },
   {
    "duration": 24,
    "start_time": "2022-05-11T18:17:00.322Z"
   },
   {
    "duration": 149,
    "start_time": "2022-05-11T18:17:00.349Z"
   },
   {
    "duration": 115,
    "start_time": "2022-05-11T18:17:00.501Z"
   },
   {
    "duration": 24,
    "start_time": "2022-05-11T18:17:00.619Z"
   },
   {
    "duration": 27,
    "start_time": "2022-05-11T18:17:00.646Z"
   },
   {
    "duration": 41,
    "start_time": "2022-05-11T18:17:00.675Z"
   },
   {
    "duration": 19,
    "start_time": "2022-05-11T18:17:00.719Z"
   },
   {
    "duration": 29,
    "start_time": "2022-05-11T18:17:00.740Z"
   },
   {
    "duration": 37,
    "start_time": "2022-05-11T18:17:00.771Z"
   },
   {
    "duration": 32,
    "start_time": "2022-05-11T18:17:00.811Z"
   },
   {
    "duration": 27,
    "start_time": "2022-05-11T18:17:00.845Z"
   },
   {
    "duration": 37,
    "start_time": "2022-05-11T18:17:00.874Z"
   },
   {
    "duration": 58,
    "start_time": "2022-05-11T18:17:00.914Z"
   },
   {
    "duration": 10,
    "start_time": "2022-05-11T18:17:00.974Z"
   },
   {
    "duration": 55,
    "start_time": "2022-05-11T18:17:00.987Z"
   },
   {
    "duration": 32,
    "start_time": "2022-05-11T18:17:01.045Z"
   },
   {
    "duration": 241,
    "start_time": "2022-05-11T18:17:01.080Z"
   },
   {
    "duration": 0,
    "start_time": "2022-05-11T18:17:01.324Z"
   },
   {
    "duration": 0,
    "start_time": "2022-05-11T18:17:01.326Z"
   },
   {
    "duration": 0,
    "start_time": "2022-05-11T18:17:01.328Z"
   },
   {
    "duration": 0,
    "start_time": "2022-05-11T18:17:01.330Z"
   },
   {
    "duration": 0,
    "start_time": "2022-05-11T18:17:01.332Z"
   },
   {
    "duration": 0,
    "start_time": "2022-05-11T18:17:01.334Z"
   },
   {
    "duration": 3,
    "start_time": "2022-05-11T18:18:19.847Z"
   },
   {
    "duration": 227,
    "start_time": "2022-05-11T18:18:19.853Z"
   },
   {
    "duration": 180,
    "start_time": "2022-05-11T18:18:20.084Z"
   },
   {
    "duration": 9,
    "start_time": "2022-05-11T18:18:20.267Z"
   },
   {
    "duration": 4,
    "start_time": "2022-05-11T18:18:20.295Z"
   },
   {
    "duration": 18,
    "start_time": "2022-05-11T18:18:20.303Z"
   },
   {
    "duration": 28,
    "start_time": "2022-05-11T18:18:20.324Z"
   },
   {
    "duration": 15,
    "start_time": "2022-05-11T18:18:20.354Z"
   },
   {
    "duration": 59,
    "start_time": "2022-05-11T18:18:20.371Z"
   },
   {
    "duration": 39,
    "start_time": "2022-05-11T18:18:20.432Z"
   },
   {
    "duration": 62,
    "start_time": "2022-05-11T18:18:20.475Z"
   },
   {
    "duration": 112,
    "start_time": "2022-05-11T18:18:20.539Z"
   },
   {
    "duration": 124,
    "start_time": "2022-05-11T18:18:20.653Z"
   },
   {
    "duration": 92,
    "start_time": "2022-05-11T18:18:20.780Z"
   },
   {
    "duration": 84,
    "start_time": "2022-05-11T18:18:20.875Z"
   },
   {
    "duration": 47,
    "start_time": "2022-05-11T18:18:20.961Z"
   },
   {
    "duration": 127,
    "start_time": "2022-05-11T18:18:21.011Z"
   },
   {
    "duration": 92,
    "start_time": "2022-05-11T18:18:21.140Z"
   },
   {
    "duration": 17,
    "start_time": "2022-05-11T18:18:21.233Z"
   },
   {
    "duration": 15,
    "start_time": "2022-05-11T18:18:21.252Z"
   },
   {
    "duration": 26,
    "start_time": "2022-05-11T18:18:21.268Z"
   },
   {
    "duration": 10,
    "start_time": "2022-05-11T18:18:21.299Z"
   },
   {
    "duration": 34,
    "start_time": "2022-05-11T18:18:21.312Z"
   },
   {
    "duration": 51,
    "start_time": "2022-05-11T18:18:21.349Z"
   },
   {
    "duration": 26,
    "start_time": "2022-05-11T18:18:21.404Z"
   },
   {
    "duration": 24,
    "start_time": "2022-05-11T18:18:21.433Z"
   },
   {
    "duration": 58,
    "start_time": "2022-05-11T18:18:21.460Z"
   },
   {
    "duration": 24,
    "start_time": "2022-05-11T18:18:21.521Z"
   },
   {
    "duration": 8,
    "start_time": "2022-05-11T18:18:21.550Z"
   },
   {
    "duration": 69,
    "start_time": "2022-05-11T18:18:21.561Z"
   },
   {
    "duration": 26,
    "start_time": "2022-05-11T18:18:21.632Z"
   },
   {
    "duration": 201,
    "start_time": "2022-05-11T18:18:21.661Z"
   },
   {
    "duration": 0,
    "start_time": "2022-05-11T18:18:21.864Z"
   },
   {
    "duration": 0,
    "start_time": "2022-05-11T18:18:21.866Z"
   },
   {
    "duration": 0,
    "start_time": "2022-05-11T18:18:21.868Z"
   },
   {
    "duration": 0,
    "start_time": "2022-05-11T18:18:21.869Z"
   },
   {
    "duration": 0,
    "start_time": "2022-05-11T18:18:21.871Z"
   },
   {
    "duration": 0,
    "start_time": "2022-05-11T18:18:21.873Z"
   },
   {
    "duration": 4,
    "start_time": "2022-05-11T18:18:46.757Z"
   },
   {
    "duration": 312,
    "start_time": "2022-05-11T18:18:46.767Z"
   },
   {
    "duration": 209,
    "start_time": "2022-05-11T18:18:47.083Z"
   },
   {
    "duration": 13,
    "start_time": "2022-05-11T18:18:47.295Z"
   },
   {
    "duration": 8,
    "start_time": "2022-05-11T18:18:47.313Z"
   },
   {
    "duration": 14,
    "start_time": "2022-05-11T18:18:47.324Z"
   },
   {
    "duration": 23,
    "start_time": "2022-05-11T18:18:47.340Z"
   },
   {
    "duration": 9,
    "start_time": "2022-05-11T18:18:47.394Z"
   },
   {
    "duration": 60,
    "start_time": "2022-05-11T18:18:47.406Z"
   },
   {
    "duration": 68,
    "start_time": "2022-05-11T18:18:47.470Z"
   },
   {
    "duration": 69,
    "start_time": "2022-05-11T18:18:47.541Z"
   },
   {
    "duration": 149,
    "start_time": "2022-05-11T18:18:47.613Z"
   },
   {
    "duration": 130,
    "start_time": "2022-05-11T18:18:47.765Z"
   },
   {
    "duration": 107,
    "start_time": "2022-05-11T18:18:47.900Z"
   },
   {
    "duration": 68,
    "start_time": "2022-05-11T18:18:48.009Z"
   },
   {
    "duration": 24,
    "start_time": "2022-05-11T18:18:48.093Z"
   },
   {
    "duration": 121,
    "start_time": "2022-05-11T18:18:48.120Z"
   },
   {
    "duration": 111,
    "start_time": "2022-05-11T18:18:48.244Z"
   },
   {
    "duration": 36,
    "start_time": "2022-05-11T18:18:48.357Z"
   },
   {
    "duration": 25,
    "start_time": "2022-05-11T18:18:48.396Z"
   },
   {
    "duration": 5,
    "start_time": "2022-05-11T18:18:48.424Z"
   },
   {
    "duration": 13,
    "start_time": "2022-05-11T18:18:48.432Z"
   },
   {
    "duration": 61,
    "start_time": "2022-05-11T18:18:48.448Z"
   },
   {
    "duration": 29,
    "start_time": "2022-05-11T18:18:48.512Z"
   },
   {
    "duration": 58,
    "start_time": "2022-05-11T18:18:48.545Z"
   },
   {
    "duration": 25,
    "start_time": "2022-05-11T18:18:48.606Z"
   },
   {
    "duration": 55,
    "start_time": "2022-05-11T18:18:48.639Z"
   },
   {
    "duration": 21,
    "start_time": "2022-05-11T18:18:48.698Z"
   },
   {
    "duration": 12,
    "start_time": "2022-05-11T18:18:48.722Z"
   },
   {
    "duration": 76,
    "start_time": "2022-05-11T18:18:48.737Z"
   },
   {
    "duration": 31,
    "start_time": "2022-05-11T18:18:48.816Z"
   },
   {
    "duration": 207,
    "start_time": "2022-05-11T18:18:48.850Z"
   },
   {
    "duration": 0,
    "start_time": "2022-05-11T18:18:49.060Z"
   },
   {
    "duration": 0,
    "start_time": "2022-05-11T18:18:49.062Z"
   },
   {
    "duration": 0,
    "start_time": "2022-05-11T18:18:49.063Z"
   },
   {
    "duration": 0,
    "start_time": "2022-05-11T18:18:49.066Z"
   },
   {
    "duration": 0,
    "start_time": "2022-05-11T18:18:49.068Z"
   },
   {
    "duration": 0,
    "start_time": "2022-05-11T18:18:49.070Z"
   },
   {
    "duration": 0,
    "start_time": "2022-05-11T18:18:49.071Z"
   },
   {
    "duration": 3,
    "start_time": "2022-05-11T18:31:30.237Z"
   },
   {
    "duration": 211,
    "start_time": "2022-05-11T18:31:30.242Z"
   },
   {
    "duration": 202,
    "start_time": "2022-05-11T18:31:30.456Z"
   },
   {
    "duration": 9,
    "start_time": "2022-05-11T18:31:30.661Z"
   },
   {
    "duration": 19,
    "start_time": "2022-05-11T18:31:30.674Z"
   },
   {
    "duration": 22,
    "start_time": "2022-05-11T18:31:30.695Z"
   },
   {
    "duration": 47,
    "start_time": "2022-05-11T18:31:30.719Z"
   },
   {
    "duration": 41,
    "start_time": "2022-05-11T18:31:30.768Z"
   },
   {
    "duration": 41,
    "start_time": "2022-05-11T18:31:30.811Z"
   },
   {
    "duration": 67,
    "start_time": "2022-05-11T18:31:30.854Z"
   },
   {
    "duration": 48,
    "start_time": "2022-05-11T18:31:30.926Z"
   },
   {
    "duration": 93,
    "start_time": "2022-05-11T18:31:30.976Z"
   },
   {
    "duration": 117,
    "start_time": "2022-05-11T18:31:31.071Z"
   },
   {
    "duration": 81,
    "start_time": "2022-05-11T18:31:31.194Z"
   },
   {
    "duration": 79,
    "start_time": "2022-05-11T18:31:31.277Z"
   },
   {
    "duration": 41,
    "start_time": "2022-05-11T18:31:31.358Z"
   },
   {
    "duration": 110,
    "start_time": "2022-05-11T18:31:31.401Z"
   },
   {
    "duration": 93,
    "start_time": "2022-05-11T18:31:31.513Z"
   },
   {
    "duration": 16,
    "start_time": "2022-05-11T18:31:31.608Z"
   },
   {
    "duration": 29,
    "start_time": "2022-05-11T18:31:31.627Z"
   },
   {
    "duration": 5,
    "start_time": "2022-05-11T18:31:31.658Z"
   },
   {
    "duration": 28,
    "start_time": "2022-05-11T18:31:31.665Z"
   },
   {
    "duration": 25,
    "start_time": "2022-05-11T18:31:31.696Z"
   },
   {
    "duration": 19,
    "start_time": "2022-05-11T18:31:31.723Z"
   },
   {
    "duration": 18,
    "start_time": "2022-05-11T18:31:31.744Z"
   },
   {
    "duration": 41,
    "start_time": "2022-05-11T18:31:31.764Z"
   },
   {
    "duration": 19,
    "start_time": "2022-05-11T18:31:31.808Z"
   },
   {
    "duration": 18,
    "start_time": "2022-05-11T18:31:31.830Z"
   },
   {
    "duration": 9,
    "start_time": "2022-05-11T18:31:31.893Z"
   },
   {
    "duration": 39,
    "start_time": "2022-05-11T18:31:31.904Z"
   },
   {
    "duration": 49,
    "start_time": "2022-05-11T18:31:31.945Z"
   },
   {
    "duration": 481,
    "start_time": "2022-05-11T18:31:31.996Z"
   },
   {
    "duration": 0,
    "start_time": "2022-05-11T18:31:32.479Z"
   },
   {
    "duration": 0,
    "start_time": "2022-05-11T18:31:32.480Z"
   },
   {
    "duration": 3,
    "start_time": "2022-05-11T18:31:49.877Z"
   },
   {
    "duration": 194,
    "start_time": "2022-05-11T18:31:49.904Z"
   },
   {
    "duration": 174,
    "start_time": "2022-05-11T18:31:50.101Z"
   },
   {
    "duration": 8,
    "start_time": "2022-05-11T18:31:50.277Z"
   },
   {
    "duration": 3,
    "start_time": "2022-05-11T18:31:50.295Z"
   },
   {
    "duration": 10,
    "start_time": "2022-05-11T18:31:50.300Z"
   },
   {
    "duration": 26,
    "start_time": "2022-05-11T18:31:50.312Z"
   },
   {
    "duration": 7,
    "start_time": "2022-05-11T18:31:50.341Z"
   },
   {
    "duration": 87,
    "start_time": "2022-05-11T18:31:50.350Z"
   },
   {
    "duration": 56,
    "start_time": "2022-05-11T18:31:50.439Z"
   },
   {
    "duration": 50,
    "start_time": "2022-05-11T18:31:50.500Z"
   },
   {
    "duration": 137,
    "start_time": "2022-05-11T18:31:50.552Z"
   },
   {
    "duration": 144,
    "start_time": "2022-05-11T18:31:50.692Z"
   },
   {
    "duration": 118,
    "start_time": "2022-05-11T18:31:50.838Z"
   },
   {
    "duration": 105,
    "start_time": "2022-05-11T18:31:50.958Z"
   },
   {
    "duration": 36,
    "start_time": "2022-05-11T18:31:51.065Z"
   },
   {
    "duration": 143,
    "start_time": "2022-05-11T18:31:51.104Z"
   },
   {
    "duration": 108,
    "start_time": "2022-05-11T18:31:51.250Z"
   },
   {
    "duration": 16,
    "start_time": "2022-05-11T18:31:51.360Z"
   },
   {
    "duration": 30,
    "start_time": "2022-05-11T18:31:51.378Z"
   },
   {
    "duration": 5,
    "start_time": "2022-05-11T18:31:51.410Z"
   },
   {
    "duration": 9,
    "start_time": "2022-05-11T18:31:51.418Z"
   },
   {
    "duration": 23,
    "start_time": "2022-05-11T18:31:51.429Z"
   },
   {
    "duration": 54,
    "start_time": "2022-05-11T18:31:51.454Z"
   },
   {
    "duration": 19,
    "start_time": "2022-05-11T18:31:51.510Z"
   },
   {
    "duration": 17,
    "start_time": "2022-05-11T18:31:51.531Z"
   },
   {
    "duration": 53,
    "start_time": "2022-05-11T18:31:51.550Z"
   },
   {
    "duration": 18,
    "start_time": "2022-05-11T18:31:51.605Z"
   },
   {
    "duration": 9,
    "start_time": "2022-05-11T18:31:51.627Z"
   },
   {
    "duration": 57,
    "start_time": "2022-05-11T18:31:51.638Z"
   },
   {
    "duration": 28,
    "start_time": "2022-05-11T18:31:51.698Z"
   },
   {
    "duration": 198,
    "start_time": "2022-05-11T18:31:51.728Z"
   },
   {
    "duration": 0,
    "start_time": "2022-05-11T18:31:51.928Z"
   },
   {
    "duration": 0,
    "start_time": "2022-05-11T18:31:51.930Z"
   },
   {
    "duration": 0,
    "start_time": "2022-05-11T18:31:51.931Z"
   },
   {
    "duration": 0,
    "start_time": "2022-05-11T18:31:51.932Z"
   },
   {
    "duration": 0,
    "start_time": "2022-05-11T18:31:51.934Z"
   },
   {
    "duration": 0,
    "start_time": "2022-05-11T18:31:51.937Z"
   },
   {
    "duration": 0,
    "start_time": "2022-05-11T18:31:51.938Z"
   },
   {
    "duration": 3,
    "start_time": "2022-05-11T18:33:05.786Z"
   },
   {
    "duration": 224,
    "start_time": "2022-05-11T18:33:05.792Z"
   },
   {
    "duration": 176,
    "start_time": "2022-05-11T18:33:06.018Z"
   },
   {
    "duration": 9,
    "start_time": "2022-05-11T18:33:06.198Z"
   },
   {
    "duration": 5,
    "start_time": "2022-05-11T18:33:06.210Z"
   },
   {
    "duration": 7,
    "start_time": "2022-05-11T18:33:06.218Z"
   },
   {
    "duration": 21,
    "start_time": "2022-05-11T18:33:06.228Z"
   },
   {
    "duration": 7,
    "start_time": "2022-05-11T18:33:06.293Z"
   },
   {
    "duration": 34,
    "start_time": "2022-05-11T18:33:06.302Z"
   },
   {
    "duration": 62,
    "start_time": "2022-05-11T18:33:06.340Z"
   },
   {
    "duration": 33,
    "start_time": "2022-05-11T18:33:06.404Z"
   },
   {
    "duration": 110,
    "start_time": "2022-05-11T18:33:06.439Z"
   },
   {
    "duration": 199,
    "start_time": "2022-05-11T18:33:06.551Z"
   },
   {
    "duration": 140,
    "start_time": "2022-05-11T18:33:06.753Z"
   },
   {
    "duration": 116,
    "start_time": "2022-05-11T18:33:06.896Z"
   },
   {
    "duration": 32,
    "start_time": "2022-05-11T18:33:07.014Z"
   },
   {
    "duration": 179,
    "start_time": "2022-05-11T18:33:07.048Z"
   },
   {
    "duration": 137,
    "start_time": "2022-05-11T18:33:07.230Z"
   },
   {
    "duration": 38,
    "start_time": "2022-05-11T18:33:07.370Z"
   },
   {
    "duration": 18,
    "start_time": "2022-05-11T18:33:07.410Z"
   },
   {
    "duration": 5,
    "start_time": "2022-05-11T18:33:07.430Z"
   },
   {
    "duration": 12,
    "start_time": "2022-05-11T18:33:07.437Z"
   },
   {
    "duration": 49,
    "start_time": "2022-05-11T18:33:07.451Z"
   },
   {
    "duration": 19,
    "start_time": "2022-05-11T18:33:07.502Z"
   },
   {
    "duration": 23,
    "start_time": "2022-05-11T18:33:07.523Z"
   },
   {
    "duration": 54,
    "start_time": "2022-05-11T18:33:07.548Z"
   },
   {
    "duration": 29,
    "start_time": "2022-05-11T18:33:07.605Z"
   },
   {
    "duration": 22,
    "start_time": "2022-05-11T18:33:07.640Z"
   },
   {
    "duration": 34,
    "start_time": "2022-05-11T18:33:07.664Z"
   },
   {
    "duration": 33,
    "start_time": "2022-05-11T18:33:07.700Z"
   },
   {
    "duration": 61,
    "start_time": "2022-05-11T18:33:07.736Z"
   },
   {
    "duration": 399,
    "start_time": "2022-05-11T18:33:07.799Z"
   },
   {
    "duration": 0,
    "start_time": "2022-05-11T18:33:08.201Z"
   },
   {
    "duration": 0,
    "start_time": "2022-05-11T18:33:08.202Z"
   },
   {
    "duration": 0,
    "start_time": "2022-05-11T18:33:08.203Z"
   },
   {
    "duration": 0,
    "start_time": "2022-05-11T18:33:08.205Z"
   },
   {
    "duration": 0,
    "start_time": "2022-05-11T18:33:08.206Z"
   },
   {
    "duration": 0,
    "start_time": "2022-05-11T18:33:08.208Z"
   },
   {
    "duration": 0,
    "start_time": "2022-05-11T18:33:08.209Z"
   },
   {
    "duration": 5,
    "start_time": "2022-05-11T18:35:01.747Z"
   },
   {
    "duration": 316,
    "start_time": "2022-05-11T18:35:01.755Z"
   },
   {
    "duration": 310,
    "start_time": "2022-05-11T18:35:02.074Z"
   },
   {
    "duration": 13,
    "start_time": "2022-05-11T18:35:02.394Z"
   },
   {
    "duration": 18,
    "start_time": "2022-05-11T18:35:02.410Z"
   },
   {
    "duration": 25,
    "start_time": "2022-05-11T18:35:02.431Z"
   },
   {
    "duration": 29,
    "start_time": "2022-05-11T18:35:02.458Z"
   },
   {
    "duration": 11,
    "start_time": "2022-05-11T18:35:02.492Z"
   },
   {
    "duration": 65,
    "start_time": "2022-05-11T18:35:02.506Z"
   },
   {
    "duration": 46,
    "start_time": "2022-05-11T18:35:02.574Z"
   },
   {
    "duration": 36,
    "start_time": "2022-05-11T18:35:02.622Z"
   },
   {
    "duration": 162,
    "start_time": "2022-05-11T18:35:02.661Z"
   },
   {
    "duration": 119,
    "start_time": "2022-05-11T18:35:02.825Z"
   },
   {
    "duration": 99,
    "start_time": "2022-05-11T18:35:02.951Z"
   },
   {
    "duration": 78,
    "start_time": "2022-05-11T18:35:03.053Z"
   },
   {
    "duration": 23,
    "start_time": "2022-05-11T18:35:03.133Z"
   },
   {
    "duration": 126,
    "start_time": "2022-05-11T18:35:03.158Z"
   },
   {
    "duration": 83,
    "start_time": "2022-05-11T18:35:03.292Z"
   },
   {
    "duration": 31,
    "start_time": "2022-05-11T18:35:03.378Z"
   },
   {
    "duration": 21,
    "start_time": "2022-05-11T18:35:03.412Z"
   },
   {
    "duration": 4,
    "start_time": "2022-05-11T18:35:03.435Z"
   },
   {
    "duration": 7,
    "start_time": "2022-05-11T18:35:03.441Z"
   },
   {
    "duration": 63,
    "start_time": "2022-05-11T18:35:03.450Z"
   },
   {
    "duration": 22,
    "start_time": "2022-05-11T18:35:03.515Z"
   },
   {
    "duration": 19,
    "start_time": "2022-05-11T18:35:03.539Z"
   },
   {
    "duration": 28,
    "start_time": "2022-05-11T18:35:03.592Z"
   },
   {
    "duration": 31,
    "start_time": "2022-05-11T18:35:03.624Z"
   },
   {
    "duration": 44,
    "start_time": "2022-05-11T18:35:03.657Z"
   },
   {
    "duration": 10,
    "start_time": "2022-05-11T18:35:03.703Z"
   },
   {
    "duration": 41,
    "start_time": "2022-05-11T18:35:03.715Z"
   },
   {
    "duration": 54,
    "start_time": "2022-05-11T18:35:03.758Z"
   },
   {
    "duration": 931,
    "start_time": "2022-05-11T18:35:03.815Z"
   },
   {
    "duration": 0,
    "start_time": "2022-05-11T18:35:04.749Z"
   },
   {
    "duration": 0,
    "start_time": "2022-05-11T18:35:04.751Z"
   },
   {
    "duration": 0,
    "start_time": "2022-05-11T18:35:04.753Z"
   },
   {
    "duration": 4,
    "start_time": "2022-05-11T18:35:25.197Z"
   },
   {
    "duration": 233,
    "start_time": "2022-05-11T18:35:25.204Z"
   },
   {
    "duration": 247,
    "start_time": "2022-05-11T18:35:25.442Z"
   },
   {
    "duration": 13,
    "start_time": "2022-05-11T18:35:25.694Z"
   },
   {
    "duration": 6,
    "start_time": "2022-05-11T18:35:25.712Z"
   },
   {
    "duration": 14,
    "start_time": "2022-05-11T18:35:25.721Z"
   },
   {
    "duration": 56,
    "start_time": "2022-05-11T18:35:25.739Z"
   },
   {
    "duration": 13,
    "start_time": "2022-05-11T18:35:25.798Z"
   },
   {
    "duration": 64,
    "start_time": "2022-05-11T18:35:25.816Z"
   },
   {
    "duration": 39,
    "start_time": "2022-05-11T18:35:25.894Z"
   },
   {
    "duration": 66,
    "start_time": "2022-05-11T18:35:25.936Z"
   },
   {
    "duration": 110,
    "start_time": "2022-05-11T18:35:26.007Z"
   },
   {
    "duration": 124,
    "start_time": "2022-05-11T18:35:26.119Z"
   },
   {
    "duration": 100,
    "start_time": "2022-05-11T18:35:26.248Z"
   },
   {
    "duration": 82,
    "start_time": "2022-05-11T18:35:26.350Z"
   },
   {
    "duration": 22,
    "start_time": "2022-05-11T18:35:26.435Z"
   },
   {
    "duration": 125,
    "start_time": "2022-05-11T18:35:26.460Z"
   },
   {
    "duration": 131,
    "start_time": "2022-05-11T18:35:26.593Z"
   },
   {
    "duration": 19,
    "start_time": "2022-05-11T18:35:26.727Z"
   },
   {
    "duration": 21,
    "start_time": "2022-05-11T18:35:26.749Z"
   },
   {
    "duration": 5,
    "start_time": "2022-05-11T18:35:26.794Z"
   },
   {
    "duration": 13,
    "start_time": "2022-05-11T18:35:26.801Z"
   },
   {
    "duration": 36,
    "start_time": "2022-05-11T18:35:26.817Z"
   },
   {
    "duration": 50,
    "start_time": "2022-05-11T18:35:26.855Z"
   },
   {
    "duration": 26,
    "start_time": "2022-05-11T18:35:26.907Z"
   },
   {
    "duration": 24,
    "start_time": "2022-05-11T18:35:26.936Z"
   },
   {
    "duration": 57,
    "start_time": "2022-05-11T18:35:26.963Z"
   },
   {
    "duration": 24,
    "start_time": "2022-05-11T18:35:27.023Z"
   },
   {
    "duration": 10,
    "start_time": "2022-05-11T18:35:27.050Z"
   },
   {
    "duration": 38,
    "start_time": "2022-05-11T18:35:27.093Z"
   },
   {
    "duration": 62,
    "start_time": "2022-05-11T18:35:27.134Z"
   },
   {
    "duration": 456,
    "start_time": "2022-05-11T18:35:27.199Z"
   },
   {
    "duration": 0,
    "start_time": "2022-05-11T18:35:27.658Z"
   },
   {
    "duration": 4,
    "start_time": "2022-05-11T18:35:47.880Z"
   },
   {
    "duration": 292,
    "start_time": "2022-05-11T18:35:47.886Z"
   },
   {
    "duration": 170,
    "start_time": "2022-05-11T18:35:48.182Z"
   },
   {
    "duration": 8,
    "start_time": "2022-05-11T18:35:48.354Z"
   },
   {
    "duration": 7,
    "start_time": "2022-05-11T18:35:48.365Z"
   },
   {
    "duration": 6,
    "start_time": "2022-05-11T18:35:48.393Z"
   },
   {
    "duration": 28,
    "start_time": "2022-05-11T18:35:48.401Z"
   },
   {
    "duration": 11,
    "start_time": "2022-05-11T18:35:48.432Z"
   },
   {
    "duration": 70,
    "start_time": "2022-05-11T18:35:48.446Z"
   },
   {
    "duration": 35,
    "start_time": "2022-05-11T18:35:48.519Z"
   },
   {
    "duration": 72,
    "start_time": "2022-05-11T18:35:48.559Z"
   },
   {
    "duration": 138,
    "start_time": "2022-05-11T18:35:48.633Z"
   },
   {
    "duration": 148,
    "start_time": "2022-05-11T18:35:48.773Z"
   },
   {
    "duration": 120,
    "start_time": "2022-05-11T18:35:48.923Z"
   },
   {
    "duration": 120,
    "start_time": "2022-05-11T18:35:49.047Z"
   },
   {
    "duration": 39,
    "start_time": "2022-05-11T18:35:49.170Z"
   },
   {
    "duration": 112,
    "start_time": "2022-05-11T18:35:49.212Z"
   },
   {
    "duration": 90,
    "start_time": "2022-05-11T18:35:49.327Z"
   },
   {
    "duration": 16,
    "start_time": "2022-05-11T18:35:49.419Z"
   },
   {
    "duration": 23,
    "start_time": "2022-05-11T18:35:49.437Z"
   },
   {
    "duration": 34,
    "start_time": "2022-05-11T18:35:49.463Z"
   },
   {
    "duration": 5,
    "start_time": "2022-05-11T18:35:49.500Z"
   },
   {
    "duration": 39,
    "start_time": "2022-05-11T18:35:49.508Z"
   },
   {
    "duration": 23,
    "start_time": "2022-05-11T18:35:49.550Z"
   },
   {
    "duration": 26,
    "start_time": "2022-05-11T18:35:49.593Z"
   },
   {
    "duration": 30,
    "start_time": "2022-05-11T18:35:49.621Z"
   },
   {
    "duration": 43,
    "start_time": "2022-05-11T18:35:49.653Z"
   },
   {
    "duration": 24,
    "start_time": "2022-05-11T18:35:49.698Z"
   },
   {
    "duration": 9,
    "start_time": "2022-05-11T18:35:49.726Z"
   },
   {
    "duration": 69,
    "start_time": "2022-05-11T18:35:49.737Z"
   },
   {
    "duration": 33,
    "start_time": "2022-05-11T18:35:49.808Z"
   },
   {
    "duration": 329,
    "start_time": "2022-05-11T18:35:49.844Z"
   },
   {
    "duration": 0,
    "start_time": "2022-05-11T18:35:50.175Z"
   },
   {
    "duration": 3,
    "start_time": "2022-05-11T18:38:42.336Z"
   },
   {
    "duration": 200,
    "start_time": "2022-05-11T18:38:42.342Z"
   },
   {
    "duration": 264,
    "start_time": "2022-05-11T18:38:42.544Z"
   },
   {
    "duration": 11,
    "start_time": "2022-05-11T18:38:42.810Z"
   },
   {
    "duration": 4,
    "start_time": "2022-05-11T18:39:00.877Z"
   },
   {
    "duration": 297,
    "start_time": "2022-05-11T18:39:00.884Z"
   },
   {
    "duration": 286,
    "start_time": "2022-05-11T18:39:01.183Z"
   },
   {
    "duration": 21,
    "start_time": "2022-05-11T18:39:01.471Z"
   },
   {
    "duration": 4,
    "start_time": "2022-05-11T18:41:18.819Z"
   },
   {
    "duration": 213,
    "start_time": "2022-05-11T18:41:18.825Z"
   },
   {
    "duration": 196,
    "start_time": "2022-05-11T18:41:19.041Z"
   },
   {
    "duration": 9,
    "start_time": "2022-05-11T18:41:19.239Z"
   },
   {
    "duration": 8,
    "start_time": "2022-05-11T18:41:19.251Z"
   },
   {
    "duration": 36,
    "start_time": "2022-05-11T18:41:19.261Z"
   },
   {
    "duration": 24,
    "start_time": "2022-05-11T18:41:19.300Z"
   },
   {
    "duration": 7,
    "start_time": "2022-05-11T18:41:19.326Z"
   },
   {
    "duration": 85,
    "start_time": "2022-05-11T18:41:19.335Z"
   },
   {
    "duration": 52,
    "start_time": "2022-05-11T18:41:19.423Z"
   },
   {
    "duration": 44,
    "start_time": "2022-05-11T18:41:19.477Z"
   },
   {
    "duration": 102,
    "start_time": "2022-05-11T18:41:19.524Z"
   },
   {
    "duration": 122,
    "start_time": "2022-05-11T18:41:19.628Z"
   },
   {
    "duration": 103,
    "start_time": "2022-05-11T18:41:19.754Z"
   },
   {
    "duration": 86,
    "start_time": "2022-05-11T18:41:19.860Z"
   },
   {
    "duration": 21,
    "start_time": "2022-05-11T18:41:19.948Z"
   },
   {
    "duration": 168,
    "start_time": "2022-05-11T18:41:19.972Z"
   },
   {
    "duration": 103,
    "start_time": "2022-05-11T18:41:20.142Z"
   },
   {
    "duration": 15,
    "start_time": "2022-05-11T18:41:20.248Z"
   },
   {
    "duration": 42,
    "start_time": "2022-05-11T18:41:20.265Z"
   },
   {
    "duration": 11,
    "start_time": "2022-05-11T18:41:20.309Z"
   },
   {
    "duration": 29,
    "start_time": "2022-05-11T18:41:20.322Z"
   },
   {
    "duration": 54,
    "start_time": "2022-05-11T18:41:20.354Z"
   },
   {
    "duration": 29,
    "start_time": "2022-05-11T18:41:20.410Z"
   },
   {
    "duration": 29,
    "start_time": "2022-05-11T18:41:20.442Z"
   },
   {
    "duration": 40,
    "start_time": "2022-05-11T18:41:20.474Z"
   },
   {
    "duration": 35,
    "start_time": "2022-05-11T18:41:20.516Z"
   },
   {
    "duration": 25,
    "start_time": "2022-05-11T18:41:20.553Z"
   },
   {
    "duration": 11,
    "start_time": "2022-05-11T18:41:20.598Z"
   },
   {
    "duration": 49,
    "start_time": "2022-05-11T18:41:20.611Z"
   },
   {
    "duration": 38,
    "start_time": "2022-05-11T18:41:20.663Z"
   },
   {
    "duration": 202,
    "start_time": "2022-05-11T18:41:20.703Z"
   },
   {
    "duration": 0,
    "start_time": "2022-05-11T18:41:20.907Z"
   },
   {
    "duration": 4,
    "start_time": "2022-05-11T18:41:44.263Z"
   },
   {
    "duration": 218,
    "start_time": "2022-05-11T18:41:44.269Z"
   },
   {
    "duration": 184,
    "start_time": "2022-05-11T18:41:44.489Z"
   },
   {
    "duration": 22,
    "start_time": "2022-05-11T18:41:44.675Z"
   },
   {
    "duration": 13,
    "start_time": "2022-05-11T18:41:44.703Z"
   },
   {
    "duration": 10,
    "start_time": "2022-05-11T18:41:44.721Z"
   },
   {
    "duration": 24,
    "start_time": "2022-05-11T18:41:44.734Z"
   },
   {
    "duration": 12,
    "start_time": "2022-05-11T18:41:44.761Z"
   },
   {
    "duration": 52,
    "start_time": "2022-05-11T18:41:44.775Z"
   },
   {
    "duration": 35,
    "start_time": "2022-05-11T18:41:44.829Z"
   },
   {
    "duration": 61,
    "start_time": "2022-05-11T18:41:44.868Z"
   },
   {
    "duration": 112,
    "start_time": "2022-05-11T18:41:44.932Z"
   },
   {
    "duration": 123,
    "start_time": "2022-05-11T18:41:45.046Z"
   },
   {
    "duration": 97,
    "start_time": "2022-05-11T18:41:45.171Z"
   },
   {
    "duration": 82,
    "start_time": "2022-05-11T18:41:45.270Z"
   },
   {
    "duration": 46,
    "start_time": "2022-05-11T18:41:45.354Z"
   },
   {
    "duration": 116,
    "start_time": "2022-05-11T18:41:45.403Z"
   },
   {
    "duration": 99,
    "start_time": "2022-05-11T18:41:45.521Z"
   },
   {
    "duration": 16,
    "start_time": "2022-05-11T18:41:45.622Z"
   },
   {
    "duration": 16,
    "start_time": "2022-05-11T18:41:45.641Z"
   },
   {
    "duration": 4,
    "start_time": "2022-05-11T18:41:45.659Z"
   },
   {
    "duration": 32,
    "start_time": "2022-05-11T18:41:45.665Z"
   },
   {
    "duration": 32,
    "start_time": "2022-05-11T18:41:45.704Z"
   },
   {
    "duration": 22,
    "start_time": "2022-05-11T18:41:45.739Z"
   },
   {
    "duration": 50,
    "start_time": "2022-05-11T18:41:45.763Z"
   },
   {
    "duration": 22,
    "start_time": "2022-05-11T18:41:45.815Z"
   },
   {
    "duration": 21,
    "start_time": "2022-05-11T18:41:45.839Z"
   },
   {
    "duration": 47,
    "start_time": "2022-05-11T18:41:45.862Z"
   },
   {
    "duration": 10,
    "start_time": "2022-05-11T18:41:45.915Z"
   },
   {
    "duration": 35,
    "start_time": "2022-05-11T18:41:45.927Z"
   },
   {
    "duration": 34,
    "start_time": "2022-05-11T18:41:45.994Z"
   },
   {
    "duration": 209,
    "start_time": "2022-05-11T18:41:46.030Z"
   },
   {
    "duration": 0,
    "start_time": "2022-05-11T18:41:46.241Z"
   },
   {
    "duration": 5,
    "start_time": "2022-05-11T18:49:06.632Z"
   },
   {
    "duration": 322,
    "start_time": "2022-05-11T18:49:06.641Z"
   },
   {
    "duration": 322,
    "start_time": "2022-05-11T18:49:06.967Z"
   },
   {
    "duration": 16,
    "start_time": "2022-05-11T18:49:07.295Z"
   },
   {
    "duration": 16,
    "start_time": "2022-05-11T18:49:07.317Z"
   },
   {
    "duration": 20,
    "start_time": "2022-05-11T18:49:07.336Z"
   },
   {
    "duration": 42,
    "start_time": "2022-05-11T18:49:07.359Z"
   },
   {
    "duration": 16,
    "start_time": "2022-05-11T18:49:07.404Z"
   },
   {
    "duration": 60,
    "start_time": "2022-05-11T18:49:07.423Z"
   },
   {
    "duration": 57,
    "start_time": "2022-05-11T18:49:07.486Z"
   },
   {
    "duration": 62,
    "start_time": "2022-05-11T18:49:07.549Z"
   },
   {
    "duration": 154,
    "start_time": "2022-05-11T18:49:07.615Z"
   },
   {
    "duration": 175,
    "start_time": "2022-05-11T18:49:07.772Z"
   },
   {
    "duration": 150,
    "start_time": "2022-05-11T18:49:07.950Z"
   },
   {
    "duration": 122,
    "start_time": "2022-05-11T18:49:08.103Z"
   },
   {
    "duration": 32,
    "start_time": "2022-05-11T18:49:08.228Z"
   },
   {
    "duration": 202,
    "start_time": "2022-05-11T18:49:08.263Z"
   },
   {
    "duration": 144,
    "start_time": "2022-05-11T18:49:08.468Z"
   },
   {
    "duration": 23,
    "start_time": "2022-05-11T18:49:08.614Z"
   },
   {
    "duration": 24,
    "start_time": "2022-05-11T18:49:08.640Z"
   },
   {
    "duration": 27,
    "start_time": "2022-05-11T18:49:08.667Z"
   },
   {
    "duration": 24,
    "start_time": "2022-05-11T18:49:08.697Z"
   },
   {
    "duration": 45,
    "start_time": "2022-05-11T18:49:08.724Z"
   },
   {
    "duration": 33,
    "start_time": "2022-05-11T18:49:08.772Z"
   },
   {
    "duration": 33,
    "start_time": "2022-05-11T18:49:08.807Z"
   },
   {
    "duration": 54,
    "start_time": "2022-05-11T18:49:08.843Z"
   },
   {
    "duration": 36,
    "start_time": "2022-05-11T18:49:08.900Z"
   },
   {
    "duration": 54,
    "start_time": "2022-05-11T18:49:08.939Z"
   },
   {
    "duration": 17,
    "start_time": "2022-05-11T18:49:09.000Z"
   },
   {
    "duration": 57,
    "start_time": "2022-05-11T18:49:09.020Z"
   },
   {
    "duration": 54,
    "start_time": "2022-05-11T18:49:09.095Z"
   },
   {
    "duration": 214,
    "start_time": "2022-05-11T18:49:09.152Z"
   },
   {
    "duration": 0,
    "start_time": "2022-05-11T18:49:09.369Z"
   },
   {
    "duration": 0,
    "start_time": "2022-05-11T18:49:09.371Z"
   },
   {
    "duration": 0,
    "start_time": "2022-05-11T18:49:09.373Z"
   },
   {
    "duration": 0,
    "start_time": "2022-05-11T18:49:09.374Z"
   },
   {
    "duration": 0,
    "start_time": "2022-05-11T18:49:09.376Z"
   },
   {
    "duration": 0,
    "start_time": "2022-05-11T18:49:09.378Z"
   },
   {
    "duration": 0,
    "start_time": "2022-05-11T18:49:09.380Z"
   },
   {
    "duration": 5,
    "start_time": "2022-05-11T18:50:57.234Z"
   },
   {
    "duration": 320,
    "start_time": "2022-05-11T18:50:57.243Z"
   },
   {
    "duration": 295,
    "start_time": "2022-05-11T18:50:57.566Z"
   },
   {
    "duration": 10,
    "start_time": "2022-05-11T18:50:57.864Z"
   },
   {
    "duration": 19,
    "start_time": "2022-05-11T18:50:57.876Z"
   },
   {
    "duration": 10,
    "start_time": "2022-05-11T18:50:57.899Z"
   },
   {
    "duration": 39,
    "start_time": "2022-05-11T18:50:57.916Z"
   },
   {
    "duration": 41,
    "start_time": "2022-05-11T18:50:57.958Z"
   },
   {
    "duration": 71,
    "start_time": "2022-05-11T18:50:58.004Z"
   },
   {
    "duration": 56,
    "start_time": "2022-05-11T18:50:58.077Z"
   },
   {
    "duration": 35,
    "start_time": "2022-05-11T18:50:58.136Z"
   },
   {
    "duration": 142,
    "start_time": "2022-05-11T18:50:58.174Z"
   },
   {
    "duration": 163,
    "start_time": "2022-05-11T18:50:58.319Z"
   },
   {
    "duration": 123,
    "start_time": "2022-05-11T18:50:58.485Z"
   },
   {
    "duration": 122,
    "start_time": "2022-05-11T18:50:58.611Z"
   },
   {
    "duration": 32,
    "start_time": "2022-05-11T18:50:58.735Z"
   },
   {
    "duration": 175,
    "start_time": "2022-05-11T18:50:58.769Z"
   },
   {
    "duration": 126,
    "start_time": "2022-05-11T18:50:58.947Z"
   },
   {
    "duration": 36,
    "start_time": "2022-05-11T18:50:59.075Z"
   },
   {
    "duration": 39,
    "start_time": "2022-05-11T18:50:59.114Z"
   },
   {
    "duration": 4,
    "start_time": "2022-05-11T18:50:59.156Z"
   },
   {
    "duration": 7,
    "start_time": "2022-05-11T18:50:59.163Z"
   },
   {
    "duration": 57,
    "start_time": "2022-05-11T18:50:59.173Z"
   },
   {
    "duration": 28,
    "start_time": "2022-05-11T18:50:59.237Z"
   },
   {
    "duration": 32,
    "start_time": "2022-05-11T18:50:59.292Z"
   },
   {
    "duration": 73,
    "start_time": "2022-05-11T18:50:59.326Z"
   },
   {
    "duration": 28,
    "start_time": "2022-05-11T18:50:59.401Z"
   },
   {
    "duration": 72,
    "start_time": "2022-05-11T18:50:59.431Z"
   },
   {
    "duration": 28,
    "start_time": "2022-05-11T18:50:59.506Z"
   },
   {
    "duration": 39,
    "start_time": "2022-05-11T18:50:59.537Z"
   },
   {
    "duration": 36,
    "start_time": "2022-05-11T18:50:59.578Z"
   },
   {
    "duration": 691,
    "start_time": "2022-05-11T18:50:59.618Z"
   },
   {
    "duration": 0,
    "start_time": "2022-05-11T18:51:00.313Z"
   },
   {
    "duration": 0,
    "start_time": "2022-05-11T18:51:00.314Z"
   },
   {
    "duration": 0,
    "start_time": "2022-05-11T18:51:00.318Z"
   },
   {
    "duration": 0,
    "start_time": "2022-05-11T18:51:00.320Z"
   },
   {
    "duration": 0,
    "start_time": "2022-05-11T18:51:00.323Z"
   },
   {
    "duration": 0,
    "start_time": "2022-05-11T18:51:00.325Z"
   },
   {
    "duration": 0,
    "start_time": "2022-05-11T18:51:00.328Z"
   },
   {
    "duration": 4,
    "start_time": "2022-05-11T18:55:06.923Z"
   },
   {
    "duration": 302,
    "start_time": "2022-05-11T18:55:06.930Z"
   },
   {
    "duration": 293,
    "start_time": "2022-05-11T18:55:07.237Z"
   },
   {
    "duration": 16,
    "start_time": "2022-05-11T18:55:07.532Z"
   },
   {
    "duration": 9,
    "start_time": "2022-05-11T18:55:07.553Z"
   },
   {
    "duration": 14,
    "start_time": "2022-05-11T18:55:07.565Z"
   },
   {
    "duration": 54,
    "start_time": "2022-05-11T18:55:07.600Z"
   },
   {
    "duration": 12,
    "start_time": "2022-05-11T18:55:07.657Z"
   },
   {
    "duration": 59,
    "start_time": "2022-05-11T18:55:07.672Z"
   },
   {
    "duration": 42,
    "start_time": "2022-05-11T18:55:07.735Z"
   },
   {
    "duration": 52,
    "start_time": "2022-05-11T18:55:07.779Z"
   },
   {
    "duration": 117,
    "start_time": "2022-05-11T18:55:07.835Z"
   },
   {
    "duration": 169,
    "start_time": "2022-05-11T18:55:07.955Z"
   },
   {
    "duration": 135,
    "start_time": "2022-05-11T18:55:08.129Z"
   },
   {
    "duration": 114,
    "start_time": "2022-05-11T18:55:08.267Z"
   },
   {
    "duration": 33,
    "start_time": "2022-05-11T18:55:08.384Z"
   },
   {
    "duration": 152,
    "start_time": "2022-05-11T18:55:08.419Z"
   },
   {
    "duration": 124,
    "start_time": "2022-05-11T18:55:08.575Z"
   },
   {
    "duration": 26,
    "start_time": "2022-05-11T18:55:08.701Z"
   },
   {
    "duration": 37,
    "start_time": "2022-05-11T18:55:08.735Z"
   },
   {
    "duration": 4,
    "start_time": "2022-05-11T18:55:08.776Z"
   },
   {
    "duration": 45,
    "start_time": "2022-05-11T18:55:08.783Z"
   },
   {
    "duration": 41,
    "start_time": "2022-05-11T18:55:08.832Z"
   },
   {
    "duration": 30,
    "start_time": "2022-05-11T18:55:08.878Z"
   },
   {
    "duration": 56,
    "start_time": "2022-05-11T18:55:08.911Z"
   },
   {
    "duration": 35,
    "start_time": "2022-05-11T18:55:08.970Z"
   },
   {
    "duration": 55,
    "start_time": "2022-05-11T18:55:09.009Z"
   },
   {
    "duration": 35,
    "start_time": "2022-05-11T18:55:09.069Z"
   },
   {
    "duration": 34,
    "start_time": "2022-05-11T18:55:09.108Z"
   },
   {
    "duration": 51,
    "start_time": "2022-05-11T18:55:09.145Z"
   },
   {
    "duration": 37,
    "start_time": "2022-05-11T18:55:09.200Z"
   },
   {
    "duration": 327,
    "start_time": "2022-05-11T18:55:09.240Z"
   },
   {
    "duration": 0,
    "start_time": "2022-05-11T18:55:09.570Z"
   },
   {
    "duration": 0,
    "start_time": "2022-05-11T18:55:09.572Z"
   },
   {
    "duration": 0,
    "start_time": "2022-05-11T18:55:09.574Z"
   },
   {
    "duration": 4,
    "start_time": "2022-05-11T18:55:42.067Z"
   },
   {
    "duration": 238,
    "start_time": "2022-05-11T18:55:42.075Z"
   },
   {
    "duration": 191,
    "start_time": "2022-05-11T18:55:42.318Z"
   },
   {
    "duration": 12,
    "start_time": "2022-05-11T18:55:42.512Z"
   },
   {
    "duration": 9,
    "start_time": "2022-05-11T18:55:42.526Z"
   },
   {
    "duration": 14,
    "start_time": "2022-05-11T18:55:42.538Z"
   },
   {
    "duration": 53,
    "start_time": "2022-05-11T18:55:42.554Z"
   },
   {
    "duration": 23,
    "start_time": "2022-05-11T18:55:42.612Z"
   },
   {
    "duration": 43,
    "start_time": "2022-05-11T18:55:42.639Z"
   },
   {
    "duration": 42,
    "start_time": "2022-05-11T18:55:42.686Z"
   },
   {
    "duration": 34,
    "start_time": "2022-05-11T18:55:42.731Z"
   },
   {
    "duration": 150,
    "start_time": "2022-05-11T18:55:42.768Z"
   },
   {
    "duration": 155,
    "start_time": "2022-05-11T18:55:42.922Z"
   },
   {
    "duration": 118,
    "start_time": "2022-05-11T18:55:43.079Z"
   },
   {
    "duration": 79,
    "start_time": "2022-05-11T18:55:43.199Z"
   },
   {
    "duration": 36,
    "start_time": "2022-05-11T18:55:43.281Z"
   },
   {
    "duration": 162,
    "start_time": "2022-05-11T18:55:43.319Z"
   },
   {
    "duration": 111,
    "start_time": "2022-05-11T18:55:43.483Z"
   },
   {
    "duration": 23,
    "start_time": "2022-05-11T18:55:43.597Z"
   },
   {
    "duration": 24,
    "start_time": "2022-05-11T18:55:43.622Z"
   },
   {
    "duration": 4,
    "start_time": "2022-05-11T18:55:43.649Z"
   },
   {
    "duration": 43,
    "start_time": "2022-05-11T18:55:43.656Z"
   },
   {
    "duration": 53,
    "start_time": "2022-05-11T18:55:43.702Z"
   },
   {
    "duration": 24,
    "start_time": "2022-05-11T18:55:43.762Z"
   },
   {
    "duration": 33,
    "start_time": "2022-05-11T18:55:43.788Z"
   },
   {
    "duration": 33,
    "start_time": "2022-05-11T18:55:43.828Z"
   },
   {
    "duration": 37,
    "start_time": "2022-05-11T18:55:43.864Z"
   },
   {
    "duration": 28,
    "start_time": "2022-05-11T18:55:43.904Z"
   },
   {
    "duration": 12,
    "start_time": "2022-05-11T18:55:43.935Z"
   },
   {
    "duration": 65,
    "start_time": "2022-05-11T18:55:43.950Z"
   },
   {
    "duration": 33,
    "start_time": "2022-05-11T18:55:44.018Z"
   },
   {
    "duration": 257,
    "start_time": "2022-05-11T18:55:44.057Z"
   },
   {
    "duration": 1,
    "start_time": "2022-05-11T18:55:44.316Z"
   },
   {
    "duration": 0,
    "start_time": "2022-05-11T18:55:44.318Z"
   },
   {
    "duration": 0,
    "start_time": "2022-05-11T18:55:44.321Z"
   },
   {
    "duration": 4,
    "start_time": "2022-05-11T18:55:53.219Z"
   },
   {
    "duration": 283,
    "start_time": "2022-05-11T18:55:53.226Z"
   },
   {
    "duration": 282,
    "start_time": "2022-05-11T18:55:53.512Z"
   },
   {
    "duration": 17,
    "start_time": "2022-05-11T18:55:53.796Z"
   },
   {
    "duration": 5,
    "start_time": "2022-05-11T18:55:53.824Z"
   },
   {
    "duration": 27,
    "start_time": "2022-05-11T18:55:53.831Z"
   },
   {
    "duration": 41,
    "start_time": "2022-05-11T18:55:53.861Z"
   },
   {
    "duration": 22,
    "start_time": "2022-05-11T18:55:53.905Z"
   },
   {
    "duration": 44,
    "start_time": "2022-05-11T18:55:53.930Z"
   },
   {
    "duration": 52,
    "start_time": "2022-05-11T18:55:53.976Z"
   },
   {
    "duration": 36,
    "start_time": "2022-05-11T18:55:54.031Z"
   },
   {
    "duration": 127,
    "start_time": "2022-05-11T18:55:54.070Z"
   },
   {
    "duration": 131,
    "start_time": "2022-05-11T18:55:54.199Z"
   },
   {
    "duration": 99,
    "start_time": "2022-05-11T18:55:54.335Z"
   },
   {
    "duration": 91,
    "start_time": "2022-05-11T18:55:54.437Z"
   },
   {
    "duration": 27,
    "start_time": "2022-05-11T18:55:54.530Z"
   },
   {
    "duration": 175,
    "start_time": "2022-05-11T18:55:54.560Z"
   },
   {
    "duration": 130,
    "start_time": "2022-05-11T18:55:54.738Z"
   },
   {
    "duration": 35,
    "start_time": "2022-05-11T18:55:54.870Z"
   },
   {
    "duration": 22,
    "start_time": "2022-05-11T18:55:54.909Z"
   },
   {
    "duration": 4,
    "start_time": "2022-05-11T18:55:54.934Z"
   },
   {
    "duration": 14,
    "start_time": "2022-05-11T18:55:54.940Z"
   },
   {
    "duration": 58,
    "start_time": "2022-05-11T18:55:54.956Z"
   },
   {
    "duration": 35,
    "start_time": "2022-05-11T18:55:55.020Z"
   },
   {
    "duration": 20,
    "start_time": "2022-05-11T18:55:55.057Z"
   },
   {
    "duration": 30,
    "start_time": "2022-05-11T18:55:55.095Z"
   },
   {
    "duration": 26,
    "start_time": "2022-05-11T18:55:55.128Z"
   },
   {
    "duration": 39,
    "start_time": "2022-05-11T18:55:55.156Z"
   },
   {
    "duration": 13,
    "start_time": "2022-05-11T18:55:55.197Z"
   },
   {
    "duration": 42,
    "start_time": "2022-05-11T18:55:55.213Z"
   },
   {
    "duration": 62,
    "start_time": "2022-05-11T18:55:55.258Z"
   },
   {
    "duration": 258,
    "start_time": "2022-05-11T18:55:55.323Z"
   },
   {
    "duration": 0,
    "start_time": "2022-05-11T18:55:55.584Z"
   },
   {
    "duration": 0,
    "start_time": "2022-05-11T18:55:55.586Z"
   },
   {
    "duration": 0,
    "start_time": "2022-05-11T18:55:55.588Z"
   },
   {
    "duration": 4,
    "start_time": "2022-05-11T18:56:57.854Z"
   },
   {
    "duration": 265,
    "start_time": "2022-05-11T18:56:57.869Z"
   },
   {
    "duration": 304,
    "start_time": "2022-05-11T18:56:58.137Z"
   },
   {
    "duration": 14,
    "start_time": "2022-05-11T18:56:58.444Z"
   },
   {
    "duration": 10,
    "start_time": "2022-05-11T18:56:58.462Z"
   },
   {
    "duration": 6,
    "start_time": "2022-05-11T18:56:58.495Z"
   },
   {
    "duration": 30,
    "start_time": "2022-05-11T18:56:58.504Z"
   },
   {
    "duration": 23,
    "start_time": "2022-05-11T18:56:58.536Z"
   },
   {
    "duration": 77,
    "start_time": "2022-05-11T18:56:58.562Z"
   },
   {
    "duration": 69,
    "start_time": "2022-05-11T18:56:58.642Z"
   },
   {
    "duration": 103,
    "start_time": "2022-05-11T18:56:58.717Z"
   },
   {
    "duration": 150,
    "start_time": "2022-05-11T18:56:58.823Z"
   },
   {
    "duration": 171,
    "start_time": "2022-05-11T18:56:58.975Z"
   },
   {
    "duration": 131,
    "start_time": "2022-05-11T18:56:59.149Z"
   },
   {
    "duration": 113,
    "start_time": "2022-05-11T18:56:59.282Z"
   },
   {
    "duration": 32,
    "start_time": "2022-05-11T18:56:59.397Z"
   },
   {
    "duration": 171,
    "start_time": "2022-05-11T18:56:59.432Z"
   },
   {
    "duration": 143,
    "start_time": "2022-05-11T18:56:59.605Z"
   },
   {
    "duration": 24,
    "start_time": "2022-05-11T18:56:59.751Z"
   },
   {
    "duration": 30,
    "start_time": "2022-05-11T18:56:59.778Z"
   },
   {
    "duration": 4,
    "start_time": "2022-05-11T18:56:59.811Z"
   },
   {
    "duration": 20,
    "start_time": "2022-05-11T18:56:59.817Z"
   },
   {
    "duration": 37,
    "start_time": "2022-05-11T18:56:59.840Z"
   },
   {
    "duration": 28,
    "start_time": "2022-05-11T18:56:59.883Z"
   },
   {
    "duration": 31,
    "start_time": "2022-05-11T18:56:59.914Z"
   },
   {
    "duration": 27,
    "start_time": "2022-05-11T18:56:59.948Z"
   },
   {
    "duration": 44,
    "start_time": "2022-05-11T18:56:59.978Z"
   },
   {
    "duration": 29,
    "start_time": "2022-05-11T18:57:00.026Z"
   },
   {
    "duration": 13,
    "start_time": "2022-05-11T18:57:00.061Z"
   },
   {
    "duration": 58,
    "start_time": "2022-05-11T18:57:00.078Z"
   },
   {
    "duration": 85,
    "start_time": "2022-05-11T18:57:00.139Z"
   },
   {
    "duration": 221,
    "start_time": "2022-05-11T18:57:00.228Z"
   },
   {
    "duration": 0,
    "start_time": "2022-05-11T18:57:00.453Z"
   },
   {
    "duration": 0,
    "start_time": "2022-05-11T18:57:00.454Z"
   },
   {
    "duration": 0,
    "start_time": "2022-05-11T18:57:00.457Z"
   },
   {
    "duration": 4,
    "start_time": "2022-05-11T18:57:29.074Z"
   },
   {
    "duration": 1796,
    "start_time": "2022-05-11T18:57:29.081Z"
   },
   {
    "duration": 323,
    "start_time": "2022-05-11T18:57:30.880Z"
   },
   {
    "duration": 14,
    "start_time": "2022-05-11T18:57:31.206Z"
   },
   {
    "duration": 8,
    "start_time": "2022-05-11T18:57:31.225Z"
   },
   {
    "duration": 18,
    "start_time": "2022-05-11T18:57:31.237Z"
   },
   {
    "duration": 56,
    "start_time": "2022-05-11T18:57:31.259Z"
   },
   {
    "duration": 13,
    "start_time": "2022-05-11T18:57:31.318Z"
   },
   {
    "duration": 76,
    "start_time": "2022-05-11T18:57:31.334Z"
   },
   {
    "duration": 63,
    "start_time": "2022-05-11T18:57:31.412Z"
   },
   {
    "duration": 67,
    "start_time": "2022-05-11T18:57:31.478Z"
   },
   {
    "duration": 172,
    "start_time": "2022-05-11T18:57:31.548Z"
   },
   {
    "duration": 187,
    "start_time": "2022-05-11T18:57:31.724Z"
   },
   {
    "duration": 159,
    "start_time": "2022-05-11T18:57:31.918Z"
   },
   {
    "duration": 124,
    "start_time": "2022-05-11T18:57:32.080Z"
   },
   {
    "duration": 32,
    "start_time": "2022-05-11T18:57:32.207Z"
   },
   {
    "duration": 185,
    "start_time": "2022-05-11T18:57:32.242Z"
   },
   {
    "duration": 118,
    "start_time": "2022-05-11T18:57:32.430Z"
   },
   {
    "duration": 24,
    "start_time": "2022-05-11T18:57:32.551Z"
   },
   {
    "duration": 36,
    "start_time": "2022-05-11T18:57:32.577Z"
   },
   {
    "duration": 5,
    "start_time": "2022-05-11T18:57:32.615Z"
   },
   {
    "duration": 27,
    "start_time": "2022-05-11T18:57:32.623Z"
   },
   {
    "duration": 50,
    "start_time": "2022-05-11T18:57:32.653Z"
   },
   {
    "duration": 26,
    "start_time": "2022-05-11T18:57:32.706Z"
   },
   {
    "duration": 60,
    "start_time": "2022-05-11T18:57:32.735Z"
   },
   {
    "duration": 35,
    "start_time": "2022-05-11T18:57:32.799Z"
   },
   {
    "duration": 43,
    "start_time": "2022-05-11T18:57:32.840Z"
   },
   {
    "duration": 41,
    "start_time": "2022-05-11T18:57:32.886Z"
   },
   {
    "duration": 14,
    "start_time": "2022-05-11T18:57:32.929Z"
   },
   {
    "duration": 64,
    "start_time": "2022-05-11T18:57:32.946Z"
   },
   {
    "duration": 41,
    "start_time": "2022-05-11T18:57:33.014Z"
   },
   {
    "duration": 241,
    "start_time": "2022-05-11T18:57:33.059Z"
   },
   {
    "duration": 0,
    "start_time": "2022-05-11T18:57:33.303Z"
   },
   {
    "duration": 0,
    "start_time": "2022-05-11T18:57:33.305Z"
   },
   {
    "duration": 1,
    "start_time": "2022-05-11T18:57:33.306Z"
   },
   {
    "duration": 9,
    "start_time": "2022-05-11T18:58:33.268Z"
   },
   {
    "duration": 310,
    "start_time": "2022-05-11T18:58:33.280Z"
   },
   {
    "duration": 314,
    "start_time": "2022-05-11T18:58:33.596Z"
   },
   {
    "duration": 14,
    "start_time": "2022-05-11T18:58:33.914Z"
   },
   {
    "duration": 15,
    "start_time": "2022-05-11T18:58:33.931Z"
   },
   {
    "duration": 16,
    "start_time": "2022-05-11T18:58:33.949Z"
   },
   {
    "duration": 39,
    "start_time": "2022-05-11T18:58:33.968Z"
   },
   {
    "duration": 16,
    "start_time": "2022-05-11T18:58:34.009Z"
   },
   {
    "duration": 71,
    "start_time": "2022-05-11T18:58:34.028Z"
   },
   {
    "duration": 49,
    "start_time": "2022-05-11T18:58:34.105Z"
   },
   {
    "duration": 70,
    "start_time": "2022-05-11T18:58:34.157Z"
   },
   {
    "duration": 156,
    "start_time": "2022-05-11T18:58:34.230Z"
   },
   {
    "duration": 166,
    "start_time": "2022-05-11T18:58:34.394Z"
   },
   {
    "duration": 145,
    "start_time": "2022-05-11T18:58:34.563Z"
   },
   {
    "duration": 120,
    "start_time": "2022-05-11T18:58:34.711Z"
   },
   {
    "duration": 30,
    "start_time": "2022-05-11T18:58:34.834Z"
   },
   {
    "duration": 305,
    "start_time": "2022-05-11T18:58:34.867Z"
   },
   {
    "duration": 197,
    "start_time": "2022-05-11T18:58:35.175Z"
   },
   {
    "duration": 25,
    "start_time": "2022-05-11T18:58:35.375Z"
   },
   {
    "duration": 37,
    "start_time": "2022-05-11T18:58:35.403Z"
   },
   {
    "duration": 4,
    "start_time": "2022-05-11T18:58:35.443Z"
   },
   {
    "duration": 15,
    "start_time": "2022-05-11T18:58:35.450Z"
   },
   {
    "duration": 56,
    "start_time": "2022-05-11T18:58:35.468Z"
   },
   {
    "duration": 32,
    "start_time": "2022-05-11T18:58:35.527Z"
   },
   {
    "duration": 46,
    "start_time": "2022-05-11T18:58:35.562Z"
   },
   {
    "duration": 31,
    "start_time": "2022-05-11T18:58:35.612Z"
   },
   {
    "duration": 55,
    "start_time": "2022-05-11T18:58:35.646Z"
   },
   {
    "duration": 31,
    "start_time": "2022-05-11T18:58:35.708Z"
   },
   {
    "duration": 11,
    "start_time": "2022-05-11T18:58:35.742Z"
   },
   {
    "duration": 72,
    "start_time": "2022-05-11T18:58:35.756Z"
   },
   {
    "duration": 39,
    "start_time": "2022-05-11T18:58:35.832Z"
   },
   {
    "duration": 227,
    "start_time": "2022-05-11T18:58:35.894Z"
   },
   {
    "duration": 0,
    "start_time": "2022-05-11T18:58:36.126Z"
   },
   {
    "duration": 0,
    "start_time": "2022-05-11T18:58:36.136Z"
   },
   {
    "duration": 4,
    "start_time": "2022-05-11T19:00:13.719Z"
   },
   {
    "duration": 334,
    "start_time": "2022-05-11T19:00:13.726Z"
   },
   {
    "duration": 320,
    "start_time": "2022-05-11T19:00:14.063Z"
   },
   {
    "duration": 15,
    "start_time": "2022-05-11T19:00:14.397Z"
   },
   {
    "duration": 27,
    "start_time": "2022-05-11T19:00:14.414Z"
   },
   {
    "duration": 9,
    "start_time": "2022-05-11T19:00:14.444Z"
   },
   {
    "duration": 26,
    "start_time": "2022-05-11T19:00:14.455Z"
   },
   {
    "duration": 7,
    "start_time": "2022-05-11T19:00:14.492Z"
   },
   {
    "duration": 61,
    "start_time": "2022-05-11T19:00:14.503Z"
   },
   {
    "duration": 44,
    "start_time": "2022-05-11T19:00:14.568Z"
   },
   {
    "duration": 44,
    "start_time": "2022-05-11T19:00:14.615Z"
   },
   {
    "duration": 175,
    "start_time": "2022-05-11T19:00:14.662Z"
   },
   {
    "duration": 182,
    "start_time": "2022-05-11T19:00:14.839Z"
   },
   {
    "duration": 132,
    "start_time": "2022-05-11T19:00:15.024Z"
   },
   {
    "duration": 119,
    "start_time": "2022-05-11T19:00:15.159Z"
   },
   {
    "duration": 41,
    "start_time": "2022-05-11T19:00:15.281Z"
   },
   {
    "duration": 191,
    "start_time": "2022-05-11T19:00:15.328Z"
   },
   {
    "duration": 141,
    "start_time": "2022-05-11T19:00:15.522Z"
   },
   {
    "duration": 33,
    "start_time": "2022-05-11T19:00:15.667Z"
   },
   {
    "duration": 17,
    "start_time": "2022-05-11T19:00:15.703Z"
   },
   {
    "duration": 4,
    "start_time": "2022-05-11T19:00:15.723Z"
   },
   {
    "duration": 13,
    "start_time": "2022-05-11T19:00:15.730Z"
   },
   {
    "duration": 70,
    "start_time": "2022-05-11T19:00:15.745Z"
   },
   {
    "duration": 39,
    "start_time": "2022-05-11T19:00:15.819Z"
   },
   {
    "duration": 43,
    "start_time": "2022-05-11T19:00:15.866Z"
   },
   {
    "duration": 54,
    "start_time": "2022-05-11T19:00:15.918Z"
   },
   {
    "duration": 38,
    "start_time": "2022-05-11T19:00:15.974Z"
   },
   {
    "duration": 43,
    "start_time": "2022-05-11T19:00:16.023Z"
   },
   {
    "duration": 14,
    "start_time": "2022-05-11T19:00:16.070Z"
   },
   {
    "duration": 84,
    "start_time": "2022-05-11T19:00:16.094Z"
   },
   {
    "duration": 52,
    "start_time": "2022-05-11T19:00:16.181Z"
   },
   {
    "duration": 299,
    "start_time": "2022-05-11T19:00:16.236Z"
   },
   {
    "duration": 0,
    "start_time": "2022-05-11T19:00:16.538Z"
   },
   {
    "duration": 0,
    "start_time": "2022-05-11T19:00:16.539Z"
   },
   {
    "duration": 5,
    "start_time": "2022-05-11T19:00:40.203Z"
   },
   {
    "duration": 333,
    "start_time": "2022-05-11T19:00:40.210Z"
   },
   {
    "duration": 309,
    "start_time": "2022-05-11T19:00:40.546Z"
   },
   {
    "duration": 13,
    "start_time": "2022-05-11T19:00:40.858Z"
   },
   {
    "duration": 17,
    "start_time": "2022-05-11T19:00:40.892Z"
   },
   {
    "duration": 12,
    "start_time": "2022-05-11T19:00:40.912Z"
   },
   {
    "duration": 38,
    "start_time": "2022-05-11T19:00:40.927Z"
   },
   {
    "duration": 7,
    "start_time": "2022-05-11T19:00:40.968Z"
   },
   {
    "duration": 66,
    "start_time": "2022-05-11T19:00:40.978Z"
   },
   {
    "duration": 62,
    "start_time": "2022-05-11T19:00:41.047Z"
   },
   {
    "duration": 58,
    "start_time": "2022-05-11T19:00:41.112Z"
   },
   {
    "duration": 173,
    "start_time": "2022-05-11T19:00:41.173Z"
   },
   {
    "duration": 149,
    "start_time": "2022-05-11T19:00:41.350Z"
   },
   {
    "duration": 132,
    "start_time": "2022-05-11T19:00:41.505Z"
   },
   {
    "duration": 112,
    "start_time": "2022-05-11T19:00:41.642Z"
   },
   {
    "duration": 34,
    "start_time": "2022-05-11T19:00:41.761Z"
   },
   {
    "duration": 165,
    "start_time": "2022-05-11T19:00:41.798Z"
   },
   {
    "duration": 153,
    "start_time": "2022-05-11T19:00:41.966Z"
   },
   {
    "duration": 32,
    "start_time": "2022-05-11T19:00:42.123Z"
   },
   {
    "duration": 36,
    "start_time": "2022-05-11T19:00:42.160Z"
   },
   {
    "duration": 39,
    "start_time": "2022-05-11T19:00:42.199Z"
   },
   {
    "duration": 8,
    "start_time": "2022-05-11T19:00:42.243Z"
   },
   {
    "duration": 60,
    "start_time": "2022-05-11T19:00:42.254Z"
   },
   {
    "duration": 26,
    "start_time": "2022-05-11T19:00:42.317Z"
   },
   {
    "duration": 34,
    "start_time": "2022-05-11T19:00:42.346Z"
   },
   {
    "duration": 44,
    "start_time": "2022-05-11T19:00:42.393Z"
   },
   {
    "duration": 25,
    "start_time": "2022-05-11T19:00:42.441Z"
   },
   {
    "duration": 50,
    "start_time": "2022-05-11T19:00:42.469Z"
   },
   {
    "duration": 13,
    "start_time": "2022-05-11T19:00:42.522Z"
   },
   {
    "duration": 66,
    "start_time": "2022-05-11T19:00:42.538Z"
   },
   {
    "duration": 52,
    "start_time": "2022-05-11T19:00:42.607Z"
   },
   {
    "duration": 276,
    "start_time": "2022-05-11T19:00:42.662Z"
   },
   {
    "duration": 0,
    "start_time": "2022-05-11T19:00:42.943Z"
   },
   {
    "duration": 0,
    "start_time": "2022-05-11T19:00:42.944Z"
   },
   {
    "duration": 5,
    "start_time": "2022-05-11T19:02:14.030Z"
   },
   {
    "duration": 240,
    "start_time": "2022-05-11T19:02:14.038Z"
   },
   {
    "duration": 303,
    "start_time": "2022-05-11T19:02:14.280Z"
   },
   {
    "duration": 12,
    "start_time": "2022-05-11T19:02:14.594Z"
   },
   {
    "duration": 24,
    "start_time": "2022-05-11T19:02:14.609Z"
   },
   {
    "duration": 17,
    "start_time": "2022-05-11T19:02:14.636Z"
   },
   {
    "duration": 43,
    "start_time": "2022-05-11T19:02:14.655Z"
   },
   {
    "duration": 21,
    "start_time": "2022-05-11T19:02:14.700Z"
   },
   {
    "duration": 47,
    "start_time": "2022-05-11T19:02:14.726Z"
   },
   {
    "duration": 53,
    "start_time": "2022-05-11T19:02:14.775Z"
   },
   {
    "duration": 36,
    "start_time": "2022-05-11T19:02:14.830Z"
   },
   {
    "duration": 138,
    "start_time": "2022-05-11T19:02:14.892Z"
   },
   {
    "duration": 132,
    "start_time": "2022-05-11T19:02:15.032Z"
   },
   {
    "duration": 109,
    "start_time": "2022-05-11T19:02:15.166Z"
   },
   {
    "duration": 116,
    "start_time": "2022-05-11T19:02:15.277Z"
   },
   {
    "duration": 34,
    "start_time": "2022-05-11T19:02:15.396Z"
   },
   {
    "duration": 200,
    "start_time": "2022-05-11T19:02:15.433Z"
   },
   {
    "duration": 112,
    "start_time": "2022-05-11T19:02:15.635Z"
   },
   {
    "duration": 18,
    "start_time": "2022-05-11T19:02:15.750Z"
   },
   {
    "duration": 38,
    "start_time": "2022-05-11T19:02:15.771Z"
   },
   {
    "duration": 13,
    "start_time": "2022-05-11T19:02:15.812Z"
   },
   {
    "duration": 15,
    "start_time": "2022-05-11T19:02:15.828Z"
   },
   {
    "duration": 26,
    "start_time": "2022-05-11T19:02:15.845Z"
   },
   {
    "duration": 30,
    "start_time": "2022-05-11T19:02:15.896Z"
   },
   {
    "duration": 18,
    "start_time": "2022-05-11T19:02:15.928Z"
   },
   {
    "duration": 44,
    "start_time": "2022-05-11T19:02:15.949Z"
   },
   {
    "duration": 31,
    "start_time": "2022-05-11T19:02:15.997Z"
   },
   {
    "duration": 21,
    "start_time": "2022-05-11T19:02:16.031Z"
   },
   {
    "duration": 10,
    "start_time": "2022-05-11T19:02:16.055Z"
   },
   {
    "duration": 42,
    "start_time": "2022-05-11T19:02:16.099Z"
   },
   {
    "duration": 60,
    "start_time": "2022-05-11T19:02:16.144Z"
   },
   {
    "duration": 257,
    "start_time": "2022-05-11T19:02:16.208Z"
   },
   {
    "duration": 0,
    "start_time": "2022-05-11T19:02:16.467Z"
   },
   {
    "duration": 0,
    "start_time": "2022-05-11T19:02:16.470Z"
   },
   {
    "duration": 4,
    "start_time": "2022-05-11T19:04:08.327Z"
   },
   {
    "duration": 281,
    "start_time": "2022-05-11T19:04:08.335Z"
   },
   {
    "duration": 224,
    "start_time": "2022-05-11T19:04:08.619Z"
   },
   {
    "duration": 14,
    "start_time": "2022-05-11T19:04:08.847Z"
   },
   {
    "duration": 26,
    "start_time": "2022-05-11T19:04:08.866Z"
   },
   {
    "duration": 10,
    "start_time": "2022-05-11T19:04:08.896Z"
   },
   {
    "duration": 44,
    "start_time": "2022-05-11T19:04:08.911Z"
   },
   {
    "duration": 11,
    "start_time": "2022-05-11T19:04:08.961Z"
   },
   {
    "duration": 61,
    "start_time": "2022-05-11T19:04:08.976Z"
   },
   {
    "duration": 64,
    "start_time": "2022-05-11T19:04:09.040Z"
   },
   {
    "duration": 52,
    "start_time": "2022-05-11T19:04:09.107Z"
   },
   {
    "duration": 150,
    "start_time": "2022-05-11T19:04:09.163Z"
   },
   {
    "duration": 185,
    "start_time": "2022-05-11T19:04:09.321Z"
   },
   {
    "duration": 132,
    "start_time": "2022-05-11T19:04:09.509Z"
   },
   {
    "duration": 80,
    "start_time": "2022-05-11T19:04:09.643Z"
   },
   {
    "duration": 26,
    "start_time": "2022-05-11T19:04:09.727Z"
   },
   {
    "duration": 138,
    "start_time": "2022-05-11T19:04:09.756Z"
   },
   {
    "duration": 135,
    "start_time": "2022-05-11T19:04:09.897Z"
   },
   {
    "duration": 20,
    "start_time": "2022-05-11T19:04:10.035Z"
   },
   {
    "duration": 49,
    "start_time": "2022-05-11T19:04:10.058Z"
   },
   {
    "duration": 7,
    "start_time": "2022-05-11T19:04:10.109Z"
   },
   {
    "duration": 12,
    "start_time": "2022-05-11T19:04:10.118Z"
   },
   {
    "duration": 31,
    "start_time": "2022-05-11T19:04:10.133Z"
   },
   {
    "duration": 48,
    "start_time": "2022-05-11T19:04:10.166Z"
   },
   {
    "duration": 32,
    "start_time": "2022-05-11T19:04:10.219Z"
   },
   {
    "duration": 42,
    "start_time": "2022-05-11T19:04:10.256Z"
   },
   {
    "duration": 27,
    "start_time": "2022-05-11T19:04:10.302Z"
   },
   {
    "duration": 24,
    "start_time": "2022-05-11T19:04:10.332Z"
   },
   {
    "duration": 46,
    "start_time": "2022-05-11T19:04:10.358Z"
   },
   {
    "duration": 55,
    "start_time": "2022-05-11T19:04:10.406Z"
   },
   {
    "duration": 50,
    "start_time": "2022-05-11T19:04:10.464Z"
   },
   {
    "duration": 264,
    "start_time": "2022-05-11T19:04:10.517Z"
   },
   {
    "duration": 0,
    "start_time": "2022-05-11T19:04:10.783Z"
   },
   {
    "duration": 0,
    "start_time": "2022-05-11T19:04:10.786Z"
   },
   {
    "duration": 0,
    "start_time": "2022-05-11T19:04:10.789Z"
   },
   {
    "duration": 4,
    "start_time": "2022-05-11T19:09:03.966Z"
   },
   {
    "duration": 307,
    "start_time": "2022-05-11T19:09:03.973Z"
   },
   {
    "duration": 297,
    "start_time": "2022-05-11T19:09:04.283Z"
   },
   {
    "duration": 23,
    "start_time": "2022-05-11T19:09:04.582Z"
   },
   {
    "duration": 13,
    "start_time": "2022-05-11T19:09:04.609Z"
   },
   {
    "duration": 32,
    "start_time": "2022-05-11T19:09:04.625Z"
   },
   {
    "duration": 32,
    "start_time": "2022-05-11T19:09:04.660Z"
   },
   {
    "duration": 18,
    "start_time": "2022-05-11T19:09:04.695Z"
   },
   {
    "duration": 55,
    "start_time": "2022-05-11T19:09:04.720Z"
   },
   {
    "duration": 56,
    "start_time": "2022-05-11T19:09:04.792Z"
   },
   {
    "duration": 71,
    "start_time": "2022-05-11T19:09:04.851Z"
   },
   {
    "duration": 152,
    "start_time": "2022-05-11T19:09:04.925Z"
   },
   {
    "duration": 157,
    "start_time": "2022-05-11T19:09:05.081Z"
   },
   {
    "duration": 96,
    "start_time": "2022-05-11T19:09:05.242Z"
   },
   {
    "duration": 79,
    "start_time": "2022-05-11T19:09:05.341Z"
   },
   {
    "duration": 27,
    "start_time": "2022-05-11T19:09:05.423Z"
   },
   {
    "duration": 128,
    "start_time": "2022-05-11T19:09:05.452Z"
   },
   {
    "duration": 91,
    "start_time": "2022-05-11T19:09:05.583Z"
   },
   {
    "duration": 32,
    "start_time": "2022-05-11T19:09:05.677Z"
   },
   {
    "duration": 23,
    "start_time": "2022-05-11T19:09:05.712Z"
   },
   {
    "duration": 5,
    "start_time": "2022-05-11T19:09:05.737Z"
   },
   {
    "duration": 26,
    "start_time": "2022-05-11T19:09:05.745Z"
   },
   {
    "duration": 41,
    "start_time": "2022-05-11T19:09:05.774Z"
   },
   {
    "duration": 23,
    "start_time": "2022-05-11T19:09:05.819Z"
   },
   {
    "duration": 54,
    "start_time": "2022-05-11T19:09:05.845Z"
   },
   {
    "duration": 23,
    "start_time": "2022-05-11T19:09:05.901Z"
   },
   {
    "duration": 32,
    "start_time": "2022-05-11T19:09:05.927Z"
   },
   {
    "duration": 53,
    "start_time": "2022-05-11T19:09:05.962Z"
   },
   {
    "duration": 13,
    "start_time": "2022-05-11T19:09:06.018Z"
   },
   {
    "duration": 59,
    "start_time": "2022-05-11T19:09:06.034Z"
   },
   {
    "duration": 35,
    "start_time": "2022-05-11T19:09:06.097Z"
   },
   {
    "duration": 216,
    "start_time": "2022-05-11T19:09:06.135Z"
   },
   {
    "duration": 0,
    "start_time": "2022-05-11T19:09:06.354Z"
   },
   {
    "duration": 0,
    "start_time": "2022-05-11T19:09:06.355Z"
   },
   {
    "duration": 4,
    "start_time": "2022-05-11T19:09:21.742Z"
   },
   {
    "duration": 339,
    "start_time": "2022-05-11T19:09:21.749Z"
   },
   {
    "duration": 319,
    "start_time": "2022-05-11T19:09:22.091Z"
   },
   {
    "duration": 13,
    "start_time": "2022-05-11T19:09:22.415Z"
   },
   {
    "duration": 6,
    "start_time": "2022-05-11T19:09:22.430Z"
   },
   {
    "duration": 16,
    "start_time": "2022-05-11T19:09:22.439Z"
   },
   {
    "duration": 61,
    "start_time": "2022-05-11T19:09:22.458Z"
   },
   {
    "duration": 7,
    "start_time": "2022-05-11T19:09:22.522Z"
   },
   {
    "duration": 86,
    "start_time": "2022-05-11T19:09:22.536Z"
   },
   {
    "duration": 54,
    "start_time": "2022-05-11T19:09:22.626Z"
   },
   {
    "duration": 69,
    "start_time": "2022-05-11T19:09:22.694Z"
   },
   {
    "duration": 156,
    "start_time": "2022-05-11T19:09:22.767Z"
   },
   {
    "duration": 178,
    "start_time": "2022-05-11T19:09:22.927Z"
   },
   {
    "duration": 147,
    "start_time": "2022-05-11T19:09:23.108Z"
   },
   {
    "duration": 125,
    "start_time": "2022-05-11T19:09:23.258Z"
   },
   {
    "duration": 43,
    "start_time": "2022-05-11T19:09:23.386Z"
   },
   {
    "duration": 159,
    "start_time": "2022-05-11T19:09:23.435Z"
   },
   {
    "duration": 139,
    "start_time": "2022-05-11T19:09:23.597Z"
   },
   {
    "duration": 27,
    "start_time": "2022-05-11T19:09:23.739Z"
   },
   {
    "duration": 43,
    "start_time": "2022-05-11T19:09:23.769Z"
   },
   {
    "duration": 5,
    "start_time": "2022-05-11T19:09:23.815Z"
   },
   {
    "duration": 26,
    "start_time": "2022-05-11T19:09:23.823Z"
   },
   {
    "duration": 47,
    "start_time": "2022-05-11T19:09:23.852Z"
   },
   {
    "duration": 34,
    "start_time": "2022-05-11T19:09:23.905Z"
   },
   {
    "duration": 29,
    "start_time": "2022-05-11T19:09:23.942Z"
   },
   {
    "duration": 30,
    "start_time": "2022-05-11T19:09:23.994Z"
   },
   {
    "duration": 34,
    "start_time": "2022-05-11T19:09:24.030Z"
   },
   {
    "duration": 62,
    "start_time": "2022-05-11T19:09:24.067Z"
   },
   {
    "duration": 20,
    "start_time": "2022-05-11T19:09:24.132Z"
   },
   {
    "duration": 68,
    "start_time": "2022-05-11T19:09:24.155Z"
   },
   {
    "duration": 43,
    "start_time": "2022-05-11T19:09:24.226Z"
   },
   {
    "duration": 305,
    "start_time": "2022-05-11T19:09:24.272Z"
   },
   {
    "duration": 0,
    "start_time": "2022-05-11T19:09:24.580Z"
   },
   {
    "duration": 0,
    "start_time": "2022-05-11T19:09:24.582Z"
   },
   {
    "duration": 4,
    "start_time": "2022-05-11T19:09:44.035Z"
   },
   {
    "duration": 286,
    "start_time": "2022-05-11T19:09:44.042Z"
   },
   {
    "duration": 295,
    "start_time": "2022-05-11T19:09:44.331Z"
   },
   {
    "duration": 12,
    "start_time": "2022-05-11T19:09:44.630Z"
   },
   {
    "duration": 6,
    "start_time": "2022-05-11T19:09:44.645Z"
   },
   {
    "duration": 13,
    "start_time": "2022-05-11T19:09:44.655Z"
   },
   {
    "duration": 57,
    "start_time": "2022-05-11T19:09:44.671Z"
   },
   {
    "duration": 7,
    "start_time": "2022-05-11T19:09:44.730Z"
   },
   {
    "duration": 62,
    "start_time": "2022-05-11T19:09:44.739Z"
   },
   {
    "duration": 44,
    "start_time": "2022-05-11T19:09:44.806Z"
   },
   {
    "duration": 59,
    "start_time": "2022-05-11T19:09:44.853Z"
   },
   {
    "duration": 124,
    "start_time": "2022-05-11T19:09:44.916Z"
   },
   {
    "duration": 168,
    "start_time": "2022-05-11T19:09:45.042Z"
   },
   {
    "duration": 140,
    "start_time": "2022-05-11T19:09:45.213Z"
   },
   {
    "duration": 108,
    "start_time": "2022-05-11T19:09:45.355Z"
   },
   {
    "duration": 34,
    "start_time": "2022-05-11T19:09:45.465Z"
   },
   {
    "duration": 139,
    "start_time": "2022-05-11T19:09:45.502Z"
   },
   {
    "duration": 140,
    "start_time": "2022-05-11T19:09:45.644Z"
   },
   {
    "duration": 23,
    "start_time": "2022-05-11T19:09:45.793Z"
   },
   {
    "duration": 35,
    "start_time": "2022-05-11T19:09:45.818Z"
   },
   {
    "duration": 4,
    "start_time": "2022-05-11T19:09:45.855Z"
   },
   {
    "duration": 11,
    "start_time": "2022-05-11T19:09:45.861Z"
   },
   {
    "duration": 29,
    "start_time": "2022-05-11T19:09:45.896Z"
   },
   {
    "duration": 25,
    "start_time": "2022-05-11T19:09:45.928Z"
   },
   {
    "duration": 62,
    "start_time": "2022-05-11T19:09:45.956Z"
   },
   {
    "duration": 27,
    "start_time": "2022-05-11T19:09:46.021Z"
   },
   {
    "duration": 53,
    "start_time": "2022-05-11T19:09:46.051Z"
   },
   {
    "duration": 25,
    "start_time": "2022-05-11T19:09:46.124Z"
   },
   {
    "duration": 10,
    "start_time": "2022-05-11T19:09:46.151Z"
   },
   {
    "duration": 67,
    "start_time": "2022-05-11T19:09:46.164Z"
   },
   {
    "duration": 29,
    "start_time": "2022-05-11T19:09:46.236Z"
   },
   {
    "duration": 268,
    "start_time": "2022-05-11T19:09:46.268Z"
   },
   {
    "duration": 0,
    "start_time": "2022-05-11T19:09:46.538Z"
   },
   {
    "duration": 0,
    "start_time": "2022-05-11T19:09:46.540Z"
   },
   {
    "duration": 4,
    "start_time": "2022-05-11T19:11:16.917Z"
   },
   {
    "duration": 303,
    "start_time": "2022-05-11T19:11:16.924Z"
   },
   {
    "duration": 308,
    "start_time": "2022-05-11T19:11:17.229Z"
   },
   {
    "duration": 11,
    "start_time": "2022-05-11T19:11:17.539Z"
   },
   {
    "duration": 11,
    "start_time": "2022-05-11T19:11:17.554Z"
   },
   {
    "duration": 28,
    "start_time": "2022-05-11T19:11:17.567Z"
   },
   {
    "duration": 29,
    "start_time": "2022-05-11T19:11:17.598Z"
   },
   {
    "duration": 6,
    "start_time": "2022-05-11T19:11:17.630Z"
   },
   {
    "duration": 91,
    "start_time": "2022-05-11T19:11:17.638Z"
   },
   {
    "duration": 47,
    "start_time": "2022-05-11T19:11:17.732Z"
   },
   {
    "duration": 44,
    "start_time": "2022-05-11T19:11:17.794Z"
   },
   {
    "duration": 141,
    "start_time": "2022-05-11T19:11:17.841Z"
   },
   {
    "duration": 176,
    "start_time": "2022-05-11T19:11:17.985Z"
   },
   {
    "duration": 108,
    "start_time": "2022-05-11T19:11:18.166Z"
   },
   {
    "duration": 91,
    "start_time": "2022-05-11T19:11:18.276Z"
   },
   {
    "duration": 42,
    "start_time": "2022-05-11T19:11:18.370Z"
   },
   {
    "duration": 140,
    "start_time": "2022-05-11T19:11:18.415Z"
   },
   {
    "duration": 130,
    "start_time": "2022-05-11T19:11:18.558Z"
   },
   {
    "duration": 26,
    "start_time": "2022-05-11T19:11:18.693Z"
   },
   {
    "duration": 17,
    "start_time": "2022-05-11T19:11:18.721Z"
   },
   {
    "duration": 4,
    "start_time": "2022-05-11T19:11:18.741Z"
   },
   {
    "duration": 9,
    "start_time": "2022-05-11T19:11:18.748Z"
   },
   {
    "duration": 26,
    "start_time": "2022-05-11T19:11:18.794Z"
   },
   {
    "duration": 37,
    "start_time": "2022-05-11T19:11:18.822Z"
   },
   {
    "duration": 48,
    "start_time": "2022-05-11T19:11:18.862Z"
   },
   {
    "duration": 29,
    "start_time": "2022-05-11T19:11:18.914Z"
   },
   {
    "duration": 53,
    "start_time": "2022-05-11T19:11:18.946Z"
   },
   {
    "duration": 32,
    "start_time": "2022-05-11T19:11:19.002Z"
   },
   {
    "duration": 12,
    "start_time": "2022-05-11T19:11:19.037Z"
   },
   {
    "duration": 81,
    "start_time": "2022-05-11T19:11:19.052Z"
   },
   {
    "duration": 39,
    "start_time": "2022-05-11T19:11:19.136Z"
   },
   {
    "duration": 269,
    "start_time": "2022-05-11T19:11:19.179Z"
   },
   {
    "duration": 0,
    "start_time": "2022-05-11T19:11:19.451Z"
   },
   {
    "duration": 0,
    "start_time": "2022-05-11T19:11:19.453Z"
   },
   {
    "duration": 9,
    "start_time": "2022-05-11T19:12:09.401Z"
   },
   {
    "duration": 304,
    "start_time": "2022-05-11T19:12:09.413Z"
   },
   {
    "duration": 257,
    "start_time": "2022-05-11T19:12:09.727Z"
   },
   {
    "duration": 20,
    "start_time": "2022-05-11T19:12:09.987Z"
   },
   {
    "duration": 7,
    "start_time": "2022-05-11T19:12:10.011Z"
   },
   {
    "duration": 26,
    "start_time": "2022-05-11T19:12:10.024Z"
   },
   {
    "duration": 45,
    "start_time": "2022-05-11T19:12:10.053Z"
   },
   {
    "duration": 27,
    "start_time": "2022-05-11T19:12:10.103Z"
   },
   {
    "duration": 65,
    "start_time": "2022-05-11T19:12:10.133Z"
   },
   {
    "duration": 52,
    "start_time": "2022-05-11T19:12:10.207Z"
   },
   {
    "duration": 50,
    "start_time": "2022-05-11T19:12:10.262Z"
   },
   {
    "duration": 150,
    "start_time": "2022-05-11T19:12:10.316Z"
   },
   {
    "duration": 171,
    "start_time": "2022-05-11T19:12:10.469Z"
   },
   {
    "duration": 150,
    "start_time": "2022-05-11T19:12:10.643Z"
   },
   {
    "duration": 86,
    "start_time": "2022-05-11T19:12:10.795Z"
   },
   {
    "duration": 29,
    "start_time": "2022-05-11T19:12:10.897Z"
   },
   {
    "duration": 172,
    "start_time": "2022-05-11T19:12:10.928Z"
   },
   {
    "duration": 110,
    "start_time": "2022-05-11T19:12:11.104Z"
   },
   {
    "duration": 21,
    "start_time": "2022-05-11T19:12:11.216Z"
   },
   {
    "duration": 23,
    "start_time": "2022-05-11T19:12:11.240Z"
   },
   {
    "duration": 33,
    "start_time": "2022-05-11T19:12:11.266Z"
   },
   {
    "duration": 36,
    "start_time": "2022-05-11T19:12:11.308Z"
   },
   {
    "duration": 36,
    "start_time": "2022-05-11T19:12:11.347Z"
   },
   {
    "duration": 37,
    "start_time": "2022-05-11T19:12:11.387Z"
   },
   {
    "duration": 28,
    "start_time": "2022-05-11T19:12:11.427Z"
   },
   {
    "duration": 41,
    "start_time": "2022-05-11T19:12:11.459Z"
   },
   {
    "duration": 30,
    "start_time": "2022-05-11T19:12:11.503Z"
   },
   {
    "duration": 30,
    "start_time": "2022-05-11T19:12:11.539Z"
   },
   {
    "duration": 35,
    "start_time": "2022-05-11T19:12:11.572Z"
   },
   {
    "duration": 44,
    "start_time": "2022-05-11T19:12:11.610Z"
   },
   {
    "duration": 68,
    "start_time": "2022-05-11T19:12:11.657Z"
   },
   {
    "duration": 226,
    "start_time": "2022-05-11T19:12:11.727Z"
   },
   {
    "duration": 0,
    "start_time": "2022-05-11T19:12:11.955Z"
   },
   {
    "duration": 0,
    "start_time": "2022-05-11T19:12:11.958Z"
   },
   {
    "duration": 5,
    "start_time": "2022-05-11T19:13:13.015Z"
   },
   {
    "duration": 287,
    "start_time": "2022-05-11T19:13:13.023Z"
   },
   {
    "duration": 203,
    "start_time": "2022-05-11T19:13:13.313Z"
   },
   {
    "duration": 18,
    "start_time": "2022-05-11T19:13:13.518Z"
   },
   {
    "duration": 3,
    "start_time": "2022-05-11T19:13:13.542Z"
   },
   {
    "duration": 16,
    "start_time": "2022-05-11T19:13:13.548Z"
   },
   {
    "duration": 43,
    "start_time": "2022-05-11T19:13:13.567Z"
   },
   {
    "duration": 22,
    "start_time": "2022-05-11T19:13:13.613Z"
   },
   {
    "duration": 39,
    "start_time": "2022-05-11T19:13:13.638Z"
   },
   {
    "duration": 49,
    "start_time": "2022-05-11T19:13:13.679Z"
   },
   {
    "duration": 35,
    "start_time": "2022-05-11T19:13:13.731Z"
   },
   {
    "duration": 161,
    "start_time": "2022-05-11T19:13:13.768Z"
   },
   {
    "duration": 127,
    "start_time": "2022-05-11T19:13:13.932Z"
   },
   {
    "duration": 106,
    "start_time": "2022-05-11T19:13:14.065Z"
   },
   {
    "duration": 113,
    "start_time": "2022-05-11T19:13:14.173Z"
   },
   {
    "duration": 28,
    "start_time": "2022-05-11T19:13:14.289Z"
   },
   {
    "duration": 173,
    "start_time": "2022-05-11T19:13:14.320Z"
   },
   {
    "duration": 140,
    "start_time": "2022-05-11T19:13:14.495Z"
   },
   {
    "duration": 25,
    "start_time": "2022-05-11T19:13:14.638Z"
   },
   {
    "duration": 43,
    "start_time": "2022-05-11T19:13:14.665Z"
   },
   {
    "duration": 4,
    "start_time": "2022-05-11T19:13:14.711Z"
   },
   {
    "duration": 21,
    "start_time": "2022-05-11T19:13:14.718Z"
   },
   {
    "duration": 34,
    "start_time": "2022-05-11T19:13:14.743Z"
   },
   {
    "duration": 34,
    "start_time": "2022-05-11T19:13:14.780Z"
   },
   {
    "duration": 25,
    "start_time": "2022-05-11T19:13:14.817Z"
   },
   {
    "duration": 60,
    "start_time": "2022-05-11T19:13:14.845Z"
   },
   {
    "duration": 28,
    "start_time": "2022-05-11T19:13:14.908Z"
   },
   {
    "duration": 32,
    "start_time": "2022-05-11T19:13:14.939Z"
   },
   {
    "duration": 33,
    "start_time": "2022-05-11T19:13:14.974Z"
   },
   {
    "duration": 75,
    "start_time": "2022-05-11T19:13:15.010Z"
   },
   {
    "duration": 40,
    "start_time": "2022-05-11T19:13:15.088Z"
   },
   {
    "duration": 271,
    "start_time": "2022-05-11T19:13:15.130Z"
   },
   {
    "duration": 0,
    "start_time": "2022-05-11T19:13:15.404Z"
   },
   {
    "duration": 0,
    "start_time": "2022-05-11T19:13:15.409Z"
   },
   {
    "duration": 4,
    "start_time": "2022-05-11T19:13:27.772Z"
   },
   {
    "duration": 256,
    "start_time": "2022-05-11T19:13:27.779Z"
   },
   {
    "duration": 217,
    "start_time": "2022-05-11T19:13:28.037Z"
   },
   {
    "duration": 10,
    "start_time": "2022-05-11T19:13:28.256Z"
   },
   {
    "duration": 6,
    "start_time": "2022-05-11T19:13:28.269Z"
   },
   {
    "duration": 14,
    "start_time": "2022-05-11T19:13:28.300Z"
   },
   {
    "duration": 38,
    "start_time": "2022-05-11T19:13:28.318Z"
   },
   {
    "duration": 7,
    "start_time": "2022-05-11T19:13:28.358Z"
   },
   {
    "duration": 64,
    "start_time": "2022-05-11T19:13:28.367Z"
   },
   {
    "duration": 67,
    "start_time": "2022-05-11T19:13:28.434Z"
   },
   {
    "duration": 51,
    "start_time": "2022-05-11T19:13:28.507Z"
   },
   {
    "duration": 118,
    "start_time": "2022-05-11T19:13:28.561Z"
   },
   {
    "duration": 142,
    "start_time": "2022-05-11T19:13:28.681Z"
   },
   {
    "duration": 107,
    "start_time": "2022-05-11T19:13:28.829Z"
   },
   {
    "duration": 89,
    "start_time": "2022-05-11T19:13:28.940Z"
   },
   {
    "duration": 23,
    "start_time": "2022-05-11T19:13:29.032Z"
   },
   {
    "duration": 147,
    "start_time": "2022-05-11T19:13:29.057Z"
   },
   {
    "duration": 99,
    "start_time": "2022-05-11T19:13:29.212Z"
   },
   {
    "duration": 29,
    "start_time": "2022-05-11T19:13:29.314Z"
   },
   {
    "duration": 23,
    "start_time": "2022-05-11T19:13:29.345Z"
   },
   {
    "duration": 28,
    "start_time": "2022-05-11T19:13:29.370Z"
   },
   {
    "duration": 30,
    "start_time": "2022-05-11T19:13:29.405Z"
   },
   {
    "duration": 32,
    "start_time": "2022-05-11T19:13:29.438Z"
   },
   {
    "duration": 28,
    "start_time": "2022-05-11T19:13:29.473Z"
   },
   {
    "duration": 30,
    "start_time": "2022-05-11T19:13:29.503Z"
   },
   {
    "duration": 28,
    "start_time": "2022-05-11T19:13:29.535Z"
   },
   {
    "duration": 43,
    "start_time": "2022-05-11T19:13:29.566Z"
   },
   {
    "duration": 21,
    "start_time": "2022-05-11T19:13:29.612Z"
   },
   {
    "duration": 12,
    "start_time": "2022-05-11T19:13:29.636Z"
   },
   {
    "duration": 84,
    "start_time": "2022-05-11T19:13:29.650Z"
   },
   {
    "duration": 28,
    "start_time": "2022-05-11T19:13:29.737Z"
   },
   {
    "duration": 710,
    "start_time": "2022-05-11T19:13:29.768Z"
   },
   {
    "duration": 0,
    "start_time": "2022-05-11T19:13:30.480Z"
   },
   {
    "duration": 0,
    "start_time": "2022-05-11T19:13:30.482Z"
   },
   {
    "duration": 4,
    "start_time": "2022-05-11T19:13:44.626Z"
   },
   {
    "duration": 231,
    "start_time": "2022-05-11T19:13:44.634Z"
   },
   {
    "duration": 209,
    "start_time": "2022-05-11T19:13:44.867Z"
   },
   {
    "duration": 26,
    "start_time": "2022-05-11T19:13:45.080Z"
   },
   {
    "duration": 30,
    "start_time": "2022-05-11T19:13:45.108Z"
   },
   {
    "duration": 15,
    "start_time": "2022-05-11T19:13:45.141Z"
   },
   {
    "duration": 30,
    "start_time": "2022-05-11T19:13:45.158Z"
   },
   {
    "duration": 18,
    "start_time": "2022-05-11T19:13:45.191Z"
   },
   {
    "duration": 73,
    "start_time": "2022-05-11T19:13:45.213Z"
   },
   {
    "duration": 56,
    "start_time": "2022-05-11T19:13:45.289Z"
   },
   {
    "duration": 35,
    "start_time": "2022-05-11T19:13:45.347Z"
   },
   {
    "duration": 127,
    "start_time": "2022-05-11T19:13:45.395Z"
   },
   {
    "duration": 116,
    "start_time": "2022-05-11T19:13:45.524Z"
   },
   {
    "duration": 97,
    "start_time": "2022-05-11T19:13:45.643Z"
   },
   {
    "duration": 89,
    "start_time": "2022-05-11T19:13:45.742Z"
   },
   {
    "duration": 22,
    "start_time": "2022-05-11T19:13:45.834Z"
   },
   {
    "duration": 170,
    "start_time": "2022-05-11T19:13:45.858Z"
   },
   {
    "duration": 134,
    "start_time": "2022-05-11T19:13:46.030Z"
   },
   {
    "duration": 31,
    "start_time": "2022-05-11T19:13:46.167Z"
   },
   {
    "duration": 24,
    "start_time": "2022-05-11T19:13:46.201Z"
   },
   {
    "duration": 6,
    "start_time": "2022-05-11T19:13:46.228Z"
   },
   {
    "duration": 8,
    "start_time": "2022-05-11T19:13:46.237Z"
   },
   {
    "duration": 80,
    "start_time": "2022-05-11T19:13:46.248Z"
   },
   {
    "duration": 20,
    "start_time": "2022-05-11T19:13:46.334Z"
   },
   {
    "duration": 20,
    "start_time": "2022-05-11T19:13:46.357Z"
   },
   {
    "duration": 24,
    "start_time": "2022-05-11T19:13:46.399Z"
   },
   {
    "duration": 26,
    "start_time": "2022-05-11T19:13:46.430Z"
   },
   {
    "duration": 46,
    "start_time": "2022-05-11T19:13:46.458Z"
   },
   {
    "duration": 14,
    "start_time": "2022-05-11T19:13:46.508Z"
   },
   {
    "duration": 38,
    "start_time": "2022-05-11T19:13:46.525Z"
   },
   {
    "duration": 54,
    "start_time": "2022-05-11T19:13:46.565Z"
   },
   {
    "duration": 236,
    "start_time": "2022-05-11T19:13:46.623Z"
   },
   {
    "duration": 0,
    "start_time": "2022-05-11T19:13:46.861Z"
   },
   {
    "duration": 0,
    "start_time": "2022-05-11T19:13:46.863Z"
   },
   {
    "duration": 4,
    "start_time": "2022-05-11T19:14:09.327Z"
   },
   {
    "duration": 241,
    "start_time": "2022-05-11T19:14:09.334Z"
   },
   {
    "duration": 223,
    "start_time": "2022-05-11T19:14:09.578Z"
   },
   {
    "duration": 19,
    "start_time": "2022-05-11T19:14:09.805Z"
   },
   {
    "duration": 12,
    "start_time": "2022-05-11T19:14:09.827Z"
   },
   {
    "duration": 12,
    "start_time": "2022-05-11T19:14:09.842Z"
   },
   {
    "duration": 39,
    "start_time": "2022-05-11T19:14:09.856Z"
   },
   {
    "duration": 40,
    "start_time": "2022-05-11T19:14:09.898Z"
   },
   {
    "duration": 33,
    "start_time": "2022-05-11T19:14:09.943Z"
   },
   {
    "duration": 48,
    "start_time": "2022-05-11T19:14:09.979Z"
   },
   {
    "duration": 44,
    "start_time": "2022-05-11T19:14:10.029Z"
   },
   {
    "duration": 116,
    "start_time": "2022-05-11T19:14:10.075Z"
   },
   {
    "duration": 152,
    "start_time": "2022-05-11T19:14:10.194Z"
   },
   {
    "duration": 111,
    "start_time": "2022-05-11T19:14:10.349Z"
   },
   {
    "duration": 100,
    "start_time": "2022-05-11T19:14:10.463Z"
   },
   {
    "duration": 42,
    "start_time": "2022-05-11T19:14:10.566Z"
   },
   {
    "duration": 133,
    "start_time": "2022-05-11T19:14:10.611Z"
   },
   {
    "duration": 126,
    "start_time": "2022-05-11T19:14:10.746Z"
   },
   {
    "duration": 28,
    "start_time": "2022-05-11T19:14:10.874Z"
   },
   {
    "duration": 29,
    "start_time": "2022-05-11T19:14:10.907Z"
   },
   {
    "duration": 6,
    "start_time": "2022-05-11T19:14:10.938Z"
   },
   {
    "duration": 14,
    "start_time": "2022-05-11T19:14:10.946Z"
   },
   {
    "duration": 67,
    "start_time": "2022-05-11T19:14:10.962Z"
   },
   {
    "duration": 21,
    "start_time": "2022-05-11T19:14:11.037Z"
   },
   {
    "duration": 20,
    "start_time": "2022-05-11T19:14:11.060Z"
   },
   {
    "duration": 46,
    "start_time": "2022-05-11T19:14:11.082Z"
   },
   {
    "duration": 24,
    "start_time": "2022-05-11T19:14:11.130Z"
   },
   {
    "duration": 45,
    "start_time": "2022-05-11T19:14:11.157Z"
   },
   {
    "duration": 16,
    "start_time": "2022-05-11T19:14:11.204Z"
   },
   {
    "duration": 78,
    "start_time": "2022-05-11T19:14:11.224Z"
   },
   {
    "duration": 34,
    "start_time": "2022-05-11T19:14:11.311Z"
   },
   {
    "duration": 259,
    "start_time": "2022-05-11T19:14:11.348Z"
   },
   {
    "duration": 0,
    "start_time": "2022-05-11T19:14:11.610Z"
   },
   {
    "duration": 0,
    "start_time": "2022-05-11T19:14:11.613Z"
   },
   {
    "duration": 0,
    "start_time": "2022-05-11T19:14:11.618Z"
   },
   {
    "duration": 0,
    "start_time": "2022-05-11T19:14:11.620Z"
   },
   {
    "duration": 0,
    "start_time": "2022-05-11T19:14:11.622Z"
   },
   {
    "duration": 0,
    "start_time": "2022-05-11T19:14:11.623Z"
   },
   {
    "duration": 0,
    "start_time": "2022-05-11T19:14:11.625Z"
   },
   {
    "duration": 3,
    "start_time": "2022-05-11T19:14:47.342Z"
   },
   {
    "duration": 249,
    "start_time": "2022-05-11T19:14:47.349Z"
   },
   {
    "duration": 230,
    "start_time": "2022-05-11T19:14:47.602Z"
   },
   {
    "duration": 10,
    "start_time": "2022-05-11T19:14:47.835Z"
   },
   {
    "duration": 10,
    "start_time": "2022-05-11T19:14:47.847Z"
   },
   {
    "duration": 10,
    "start_time": "2022-05-11T19:14:47.859Z"
   },
   {
    "duration": 54,
    "start_time": "2022-05-11T19:14:47.871Z"
   },
   {
    "duration": 18,
    "start_time": "2022-05-11T19:14:47.927Z"
   },
   {
    "duration": 61,
    "start_time": "2022-05-11T19:14:47.948Z"
   },
   {
    "duration": 65,
    "start_time": "2022-05-11T19:14:48.014Z"
   },
   {
    "duration": 56,
    "start_time": "2022-05-11T19:14:48.082Z"
   },
   {
    "duration": 106,
    "start_time": "2022-05-11T19:14:48.141Z"
   },
   {
    "duration": 131,
    "start_time": "2022-05-11T19:14:48.248Z"
   },
   {
    "duration": 111,
    "start_time": "2022-05-11T19:14:48.381Z"
   },
   {
    "duration": 87,
    "start_time": "2022-05-11T19:14:48.497Z"
   },
   {
    "duration": 27,
    "start_time": "2022-05-11T19:14:48.594Z"
   },
   {
    "duration": 133,
    "start_time": "2022-05-11T19:14:48.624Z"
   },
   {
    "duration": 113,
    "start_time": "2022-05-11T19:14:48.760Z"
   },
   {
    "duration": 25,
    "start_time": "2022-05-11T19:14:48.877Z"
   },
   {
    "duration": 45,
    "start_time": "2022-05-11T19:14:48.904Z"
   },
   {
    "duration": 5,
    "start_time": "2022-05-11T19:14:48.951Z"
   },
   {
    "duration": 5,
    "start_time": "2022-05-11T19:14:48.958Z"
   },
   {
    "duration": 48,
    "start_time": "2022-05-11T19:14:48.965Z"
   },
   {
    "duration": 40,
    "start_time": "2022-05-11T19:14:49.015Z"
   },
   {
    "duration": 26,
    "start_time": "2022-05-11T19:14:49.058Z"
   },
   {
    "duration": 32,
    "start_time": "2022-05-11T19:14:49.093Z"
   },
   {
    "duration": 26,
    "start_time": "2022-05-11T19:14:49.128Z"
   },
   {
    "duration": 43,
    "start_time": "2022-05-11T19:14:49.161Z"
   },
   {
    "duration": 12,
    "start_time": "2022-05-11T19:14:49.208Z"
   },
   {
    "duration": 63,
    "start_time": "2022-05-11T19:14:49.223Z"
   },
   {
    "duration": 45,
    "start_time": "2022-05-11T19:14:49.300Z"
   },
   {
    "duration": 233,
    "start_time": "2022-05-11T19:14:49.347Z"
   },
   {
    "duration": 0,
    "start_time": "2022-05-11T19:14:49.582Z"
   },
   {
    "duration": 0,
    "start_time": "2022-05-11T19:14:49.583Z"
   },
   {
    "duration": 0,
    "start_time": "2022-05-11T19:14:49.585Z"
   },
   {
    "duration": 0,
    "start_time": "2022-05-11T19:14:49.586Z"
   },
   {
    "duration": 0,
    "start_time": "2022-05-11T19:14:49.588Z"
   },
   {
    "duration": 0,
    "start_time": "2022-05-11T19:14:49.590Z"
   },
   {
    "duration": 0,
    "start_time": "2022-05-11T19:14:49.592Z"
   },
   {
    "duration": 6,
    "start_time": "2022-05-11T19:15:25.793Z"
   },
   {
    "duration": 274,
    "start_time": "2022-05-11T19:15:25.802Z"
   },
   {
    "duration": 201,
    "start_time": "2022-05-11T19:15:26.079Z"
   },
   {
    "duration": 21,
    "start_time": "2022-05-11T19:15:26.282Z"
   },
   {
    "duration": 34,
    "start_time": "2022-05-11T19:15:26.307Z"
   },
   {
    "duration": 20,
    "start_time": "2022-05-11T19:15:26.343Z"
   },
   {
    "duration": 26,
    "start_time": "2022-05-11T19:15:26.365Z"
   },
   {
    "duration": 42,
    "start_time": "2022-05-11T19:15:26.395Z"
   },
   {
    "duration": 57,
    "start_time": "2022-05-11T19:15:26.440Z"
   },
   {
    "duration": 77,
    "start_time": "2022-05-11T19:15:26.500Z"
   },
   {
    "duration": 52,
    "start_time": "2022-05-11T19:15:26.580Z"
   },
   {
    "duration": 140,
    "start_time": "2022-05-11T19:15:26.635Z"
   },
   {
    "duration": 170,
    "start_time": "2022-05-11T19:15:26.778Z"
   },
   {
    "duration": 129,
    "start_time": "2022-05-11T19:15:26.950Z"
   },
   {
    "duration": 113,
    "start_time": "2022-05-11T19:15:27.082Z"
   },
   {
    "duration": 27,
    "start_time": "2022-05-11T19:15:27.197Z"
   },
   {
    "duration": 143,
    "start_time": "2022-05-11T19:15:27.228Z"
   },
   {
    "duration": 111,
    "start_time": "2022-05-11T19:15:27.374Z"
   },
   {
    "duration": 24,
    "start_time": "2022-05-11T19:15:27.487Z"
   },
   {
    "duration": 28,
    "start_time": "2022-05-11T19:15:27.515Z"
   },
   {
    "duration": 4,
    "start_time": "2022-05-11T19:15:27.546Z"
   },
   {
    "duration": 12,
    "start_time": "2022-05-11T19:15:27.552Z"
   },
   {
    "duration": 55,
    "start_time": "2022-05-11T19:15:27.567Z"
   },
   {
    "duration": 25,
    "start_time": "2022-05-11T19:15:27.624Z"
   },
   {
    "duration": 23,
    "start_time": "2022-05-11T19:15:27.652Z"
   },
   {
    "duration": 28,
    "start_time": "2022-05-11T19:15:27.693Z"
   },
   {
    "duration": 29,
    "start_time": "2022-05-11T19:15:27.724Z"
   },
   {
    "duration": 50,
    "start_time": "2022-05-11T19:15:27.755Z"
   },
   {
    "duration": 22,
    "start_time": "2022-05-11T19:15:27.812Z"
   },
   {
    "duration": 33,
    "start_time": "2022-05-11T19:15:27.836Z"
   },
   {
    "duration": 60,
    "start_time": "2022-05-11T19:15:27.871Z"
   },
   {
    "duration": 442,
    "start_time": "2022-05-11T19:15:27.934Z"
   },
   {
    "duration": 0,
    "start_time": "2022-05-11T19:15:28.379Z"
   },
   {
    "duration": 0,
    "start_time": "2022-05-11T19:15:28.381Z"
   },
   {
    "duration": 3,
    "start_time": "2022-05-11T19:16:40.170Z"
   },
   {
    "duration": 296,
    "start_time": "2022-05-11T19:16:40.176Z"
   },
   {
    "duration": 285,
    "start_time": "2022-05-11T19:16:40.475Z"
   },
   {
    "duration": 12,
    "start_time": "2022-05-11T19:16:40.762Z"
   },
   {
    "duration": 8,
    "start_time": "2022-05-11T19:16:40.793Z"
   },
   {
    "duration": 34,
    "start_time": "2022-05-11T19:16:40.803Z"
   },
   {
    "duration": 22,
    "start_time": "2022-05-11T19:16:40.840Z"
   },
   {
    "duration": 9,
    "start_time": "2022-05-11T19:16:40.865Z"
   },
   {
    "duration": 66,
    "start_time": "2022-05-11T19:16:40.876Z"
   },
   {
    "duration": 33,
    "start_time": "2022-05-11T19:16:40.945Z"
   },
   {
    "duration": 45,
    "start_time": "2022-05-11T19:16:40.980Z"
   },
   {
    "duration": 114,
    "start_time": "2022-05-11T19:16:41.028Z"
   },
   {
    "duration": 146,
    "start_time": "2022-05-11T19:16:41.144Z"
   },
   {
    "duration": 97,
    "start_time": "2022-05-11T19:16:41.298Z"
   },
   {
    "duration": 82,
    "start_time": "2022-05-11T19:16:41.398Z"
   },
   {
    "duration": 44,
    "start_time": "2022-05-11T19:16:41.482Z"
   },
   {
    "duration": 123,
    "start_time": "2022-05-11T19:16:41.529Z"
   },
   {
    "duration": 134,
    "start_time": "2022-05-11T19:16:41.654Z"
   },
   {
    "duration": 28,
    "start_time": "2022-05-11T19:16:41.790Z"
   },
   {
    "duration": 41,
    "start_time": "2022-05-11T19:16:41.821Z"
   },
   {
    "duration": 4,
    "start_time": "2022-05-11T19:16:41.864Z"
   },
   {
    "duration": 7,
    "start_time": "2022-05-11T19:16:41.870Z"
   },
   {
    "duration": 47,
    "start_time": "2022-05-11T19:16:41.879Z"
   },
   {
    "duration": 28,
    "start_time": "2022-05-11T19:16:41.929Z"
   },
   {
    "duration": 39,
    "start_time": "2022-05-11T19:16:41.959Z"
   },
   {
    "duration": 25,
    "start_time": "2022-05-11T19:16:42.002Z"
   },
   {
    "duration": 37,
    "start_time": "2022-05-11T19:16:42.030Z"
   },
   {
    "duration": 49,
    "start_time": "2022-05-11T19:16:42.069Z"
   },
   {
    "duration": 24,
    "start_time": "2022-05-11T19:16:42.120Z"
   },
   {
    "duration": 50,
    "start_time": "2022-05-11T19:16:42.146Z"
   },
   {
    "duration": 34,
    "start_time": "2022-05-11T19:16:42.199Z"
   },
   {
    "duration": 247,
    "start_time": "2022-05-11T19:16:42.236Z"
   },
   {
    "duration": 0,
    "start_time": "2022-05-11T19:16:42.485Z"
   },
   {
    "duration": 0,
    "start_time": "2022-05-11T19:16:42.487Z"
   },
   {
    "duration": 4,
    "start_time": "2022-05-11T19:19:07.034Z"
   },
   {
    "duration": 287,
    "start_time": "2022-05-11T19:19:07.040Z"
   },
   {
    "duration": 271,
    "start_time": "2022-05-11T19:19:07.330Z"
   },
   {
    "duration": 13,
    "start_time": "2022-05-11T19:19:07.605Z"
   },
   {
    "duration": 12,
    "start_time": "2022-05-11T19:19:07.620Z"
   },
   {
    "duration": 7,
    "start_time": "2022-05-11T19:19:07.635Z"
   },
   {
    "duration": 22,
    "start_time": "2022-05-11T19:19:07.645Z"
   },
   {
    "duration": 31,
    "start_time": "2022-05-11T19:19:07.670Z"
   },
   {
    "duration": 65,
    "start_time": "2022-05-11T19:19:07.704Z"
   },
   {
    "duration": 47,
    "start_time": "2022-05-11T19:19:07.774Z"
   },
   {
    "duration": 43,
    "start_time": "2022-05-11T19:19:07.826Z"
   },
   {
    "duration": 130,
    "start_time": "2022-05-11T19:19:07.872Z"
   },
   {
    "duration": 179,
    "start_time": "2022-05-11T19:19:08.006Z"
   },
   {
    "duration": 131,
    "start_time": "2022-05-11T19:19:08.193Z"
   },
   {
    "duration": 86,
    "start_time": "2022-05-11T19:19:08.328Z"
   },
   {
    "duration": 25,
    "start_time": "2022-05-11T19:19:08.421Z"
   },
   {
    "duration": 156,
    "start_time": "2022-05-11T19:19:08.448Z"
   },
   {
    "duration": 96,
    "start_time": "2022-05-11T19:19:08.615Z"
   },
   {
    "duration": 24,
    "start_time": "2022-05-11T19:19:08.713Z"
   },
   {
    "duration": 21,
    "start_time": "2022-05-11T19:19:08.740Z"
   },
   {
    "duration": 3,
    "start_time": "2022-05-11T19:19:08.764Z"
   },
   {
    "duration": 6,
    "start_time": "2022-05-11T19:19:08.793Z"
   },
   {
    "duration": 54,
    "start_time": "2022-05-11T19:19:08.804Z"
   },
   {
    "duration": 23,
    "start_time": "2022-05-11T19:19:08.861Z"
   },
   {
    "duration": 32,
    "start_time": "2022-05-11T19:19:08.886Z"
   },
   {
    "duration": 36,
    "start_time": "2022-05-11T19:19:08.921Z"
   },
   {
    "duration": 29,
    "start_time": "2022-05-11T19:19:08.959Z"
   },
   {
    "duration": 26,
    "start_time": "2022-05-11T19:19:08.994Z"
   },
   {
    "duration": 15,
    "start_time": "2022-05-11T19:19:09.028Z"
   },
   {
    "duration": 53,
    "start_time": "2022-05-11T19:19:09.046Z"
   },
   {
    "duration": 39,
    "start_time": "2022-05-11T19:19:09.101Z"
   },
   {
    "duration": 316,
    "start_time": "2022-05-11T19:19:09.143Z"
   },
   {
    "duration": 0,
    "start_time": "2022-05-11T19:19:09.462Z"
   },
   {
    "duration": 0,
    "start_time": "2022-05-11T19:19:09.464Z"
   },
   {
    "duration": 3,
    "start_time": "2022-05-11T19:19:38.607Z"
   },
   {
    "duration": 247,
    "start_time": "2022-05-11T19:19:38.612Z"
   },
   {
    "duration": 208,
    "start_time": "2022-05-11T19:19:38.862Z"
   },
   {
    "duration": 25,
    "start_time": "2022-05-11T19:19:39.072Z"
   },
   {
    "duration": 6,
    "start_time": "2022-05-11T19:19:39.105Z"
   },
   {
    "duration": 27,
    "start_time": "2022-05-11T19:19:39.114Z"
   },
   {
    "duration": 26,
    "start_time": "2022-05-11T19:19:39.143Z"
   },
   {
    "duration": 7,
    "start_time": "2022-05-11T19:19:39.172Z"
   },
   {
    "duration": 63,
    "start_time": "2022-05-11T19:19:39.181Z"
   },
   {
    "duration": 58,
    "start_time": "2022-05-11T19:19:39.247Z"
   },
   {
    "duration": 49,
    "start_time": "2022-05-11T19:19:39.308Z"
   },
   {
    "duration": 112,
    "start_time": "2022-05-11T19:19:39.359Z"
   },
   {
    "duration": 136,
    "start_time": "2022-05-11T19:19:39.473Z"
   },
   {
    "duration": 84,
    "start_time": "2022-05-11T19:19:39.615Z"
   },
   {
    "duration": 98,
    "start_time": "2022-05-11T19:19:39.701Z"
   },
   {
    "duration": 33,
    "start_time": "2022-05-11T19:19:39.804Z"
   },
   {
    "duration": 116,
    "start_time": "2022-05-11T19:19:39.840Z"
   },
   {
    "duration": 115,
    "start_time": "2022-05-11T19:19:39.958Z"
   },
   {
    "duration": 30,
    "start_time": "2022-05-11T19:19:40.075Z"
   },
   {
    "duration": 22,
    "start_time": "2022-05-11T19:19:40.107Z"
   },
   {
    "duration": 7,
    "start_time": "2022-05-11T19:19:40.132Z"
   },
   {
    "duration": 8,
    "start_time": "2022-05-11T19:19:40.142Z"
   },
   {
    "duration": 30,
    "start_time": "2022-05-11T19:19:40.152Z"
   },
   {
    "duration": 33,
    "start_time": "2022-05-11T19:19:40.196Z"
   },
   {
    "duration": 21,
    "start_time": "2022-05-11T19:19:40.234Z"
   },
   {
    "duration": 46,
    "start_time": "2022-05-11T19:19:40.257Z"
   },
   {
    "duration": 28,
    "start_time": "2022-05-11T19:19:40.308Z"
   },
   {
    "duration": 20,
    "start_time": "2022-05-11T19:19:40.339Z"
   },
   {
    "duration": 9,
    "start_time": "2022-05-11T19:19:40.365Z"
   },
   {
    "duration": 43,
    "start_time": "2022-05-11T19:19:40.393Z"
   },
   {
    "duration": 27,
    "start_time": "2022-05-11T19:19:40.439Z"
   },
   {
    "duration": 254,
    "start_time": "2022-05-11T19:19:40.495Z"
   },
   {
    "duration": 0,
    "start_time": "2022-05-11T19:19:40.751Z"
   },
   {
    "duration": 0,
    "start_time": "2022-05-11T19:19:40.752Z"
   },
   {
    "duration": 11,
    "start_time": "2022-05-11T19:20:04.522Z"
   },
   {
    "duration": 217,
    "start_time": "2022-05-11T19:20:04.537Z"
   },
   {
    "duration": 203,
    "start_time": "2022-05-11T19:20:04.756Z"
   },
   {
    "duration": 9,
    "start_time": "2022-05-11T19:20:04.961Z"
   },
   {
    "duration": 6,
    "start_time": "2022-05-11T19:20:04.996Z"
   },
   {
    "duration": 30,
    "start_time": "2022-05-11T19:20:05.004Z"
   },
   {
    "duration": 22,
    "start_time": "2022-05-11T19:20:05.037Z"
   },
   {
    "duration": 7,
    "start_time": "2022-05-11T19:20:05.061Z"
   },
   {
    "duration": 58,
    "start_time": "2022-05-11T19:20:05.070Z"
   },
   {
    "duration": 41,
    "start_time": "2022-05-11T19:20:05.130Z"
   },
   {
    "duration": 58,
    "start_time": "2022-05-11T19:20:05.174Z"
   },
   {
    "duration": 115,
    "start_time": "2022-05-11T19:20:05.235Z"
   },
   {
    "duration": 121,
    "start_time": "2022-05-11T19:20:05.352Z"
   },
   {
    "duration": 102,
    "start_time": "2022-05-11T19:20:05.479Z"
   },
   {
    "duration": 94,
    "start_time": "2022-05-11T19:20:05.583Z"
   },
   {
    "duration": 39,
    "start_time": "2022-05-11T19:20:05.679Z"
   },
   {
    "duration": 146,
    "start_time": "2022-05-11T19:20:05.721Z"
   },
   {
    "duration": 106,
    "start_time": "2022-05-11T19:20:05.870Z"
   },
   {
    "duration": 26,
    "start_time": "2022-05-11T19:20:05.978Z"
   },
   {
    "duration": 31,
    "start_time": "2022-05-11T19:20:06.006Z"
   },
   {
    "duration": 4,
    "start_time": "2022-05-11T19:20:06.040Z"
   },
   {
    "duration": 8,
    "start_time": "2022-05-11T19:20:06.047Z"
   },
   {
    "duration": 53,
    "start_time": "2022-05-11T19:20:06.057Z"
   },
   {
    "duration": 29,
    "start_time": "2022-05-11T19:20:06.112Z"
   },
   {
    "duration": 26,
    "start_time": "2022-05-11T19:20:06.144Z"
   },
   {
    "duration": 46,
    "start_time": "2022-05-11T19:20:06.172Z"
   },
   {
    "duration": 39,
    "start_time": "2022-05-11T19:20:06.221Z"
   },
   {
    "duration": 31,
    "start_time": "2022-05-11T19:20:06.263Z"
   },
   {
    "duration": 13,
    "start_time": "2022-05-11T19:20:06.301Z"
   },
   {
    "duration": 48,
    "start_time": "2022-05-11T19:20:06.319Z"
   },
   {
    "duration": 42,
    "start_time": "2022-05-11T19:20:06.370Z"
   },
   {
    "duration": 517,
    "start_time": "2022-05-11T19:20:06.418Z"
   },
   {
    "duration": 0,
    "start_time": "2022-05-11T19:20:06.938Z"
   },
   {
    "duration": 0,
    "start_time": "2022-05-11T19:20:06.940Z"
   },
   {
    "duration": 4,
    "start_time": "2022-05-11T19:20:16.524Z"
   },
   {
    "duration": 276,
    "start_time": "2022-05-11T19:20:16.542Z"
   },
   {
    "duration": 235,
    "start_time": "2022-05-11T19:20:16.829Z"
   },
   {
    "duration": 10,
    "start_time": "2022-05-11T19:20:17.066Z"
   },
   {
    "duration": 27,
    "start_time": "2022-05-11T19:20:17.078Z"
   },
   {
    "duration": 22,
    "start_time": "2022-05-11T19:20:17.109Z"
   },
   {
    "duration": 27,
    "start_time": "2022-05-11T19:20:17.133Z"
   },
   {
    "duration": 8,
    "start_time": "2022-05-11T19:20:17.163Z"
   },
   {
    "duration": 58,
    "start_time": "2022-05-11T19:20:17.173Z"
   },
   {
    "duration": 37,
    "start_time": "2022-05-11T19:20:17.234Z"
   },
   {
    "duration": 46,
    "start_time": "2022-05-11T19:20:17.292Z"
   },
   {
    "duration": 120,
    "start_time": "2022-05-11T19:20:17.350Z"
   },
   {
    "duration": 115,
    "start_time": "2022-05-11T19:20:17.472Z"
   },
   {
    "duration": 104,
    "start_time": "2022-05-11T19:20:17.589Z"
   },
   {
    "duration": 108,
    "start_time": "2022-05-11T19:20:17.704Z"
   },
   {
    "duration": 27,
    "start_time": "2022-05-11T19:20:17.815Z"
   },
   {
    "duration": 174,
    "start_time": "2022-05-11T19:20:17.845Z"
   },
   {
    "duration": 98,
    "start_time": "2022-05-11T19:20:18.023Z"
   },
   {
    "duration": 23,
    "start_time": "2022-05-11T19:20:18.123Z"
   },
   {
    "duration": 20,
    "start_time": "2022-05-11T19:20:18.148Z"
   },
   {
    "duration": 31,
    "start_time": "2022-05-11T19:20:18.171Z"
   },
   {
    "duration": 13,
    "start_time": "2022-05-11T19:20:18.204Z"
   },
   {
    "duration": 38,
    "start_time": "2022-05-11T19:20:18.222Z"
   },
   {
    "duration": 18,
    "start_time": "2022-05-11T19:20:18.263Z"
   },
   {
    "duration": 27,
    "start_time": "2022-05-11T19:20:18.283Z"
   },
   {
    "duration": 44,
    "start_time": "2022-05-11T19:20:18.312Z"
   },
   {
    "duration": 22,
    "start_time": "2022-05-11T19:20:18.359Z"
   },
   {
    "duration": 37,
    "start_time": "2022-05-11T19:20:18.384Z"
   },
   {
    "duration": 19,
    "start_time": "2022-05-11T19:20:18.423Z"
   },
   {
    "duration": 64,
    "start_time": "2022-05-11T19:20:18.444Z"
   },
   {
    "duration": 38,
    "start_time": "2022-05-11T19:20:18.511Z"
   },
   {
    "duration": 288,
    "start_time": "2022-05-11T19:20:18.551Z"
   },
   {
    "duration": 0,
    "start_time": "2022-05-11T19:20:18.842Z"
   },
   {
    "duration": 0,
    "start_time": "2022-05-11T19:20:18.843Z"
   },
   {
    "duration": 13,
    "start_time": "2022-05-11T19:20:27.509Z"
   },
   {
    "duration": 280,
    "start_time": "2022-05-11T19:20:27.531Z"
   },
   {
    "duration": 262,
    "start_time": "2022-05-11T19:20:27.813Z"
   },
   {
    "duration": 23,
    "start_time": "2022-05-11T19:20:28.079Z"
   },
   {
    "duration": 22,
    "start_time": "2022-05-11T19:20:28.106Z"
   },
   {
    "duration": 12,
    "start_time": "2022-05-11T19:20:28.130Z"
   },
   {
    "duration": 21,
    "start_time": "2022-05-11T19:20:28.145Z"
   },
   {
    "duration": 9,
    "start_time": "2022-05-11T19:20:28.168Z"
   },
   {
    "duration": 65,
    "start_time": "2022-05-11T19:20:28.179Z"
   },
   {
    "duration": 52,
    "start_time": "2022-05-11T19:20:28.248Z"
   },
   {
    "duration": 44,
    "start_time": "2022-05-11T19:20:28.305Z"
   },
   {
    "duration": 121,
    "start_time": "2022-05-11T19:20:28.352Z"
   },
   {
    "duration": 138,
    "start_time": "2022-05-11T19:20:28.476Z"
   },
   {
    "duration": 93,
    "start_time": "2022-05-11T19:20:28.617Z"
   },
   {
    "duration": 85,
    "start_time": "2022-05-11T19:20:28.712Z"
   },
   {
    "duration": 35,
    "start_time": "2022-05-11T19:20:28.800Z"
   },
   {
    "duration": 120,
    "start_time": "2022-05-11T19:20:28.837Z"
   },
   {
    "duration": 114,
    "start_time": "2022-05-11T19:20:28.959Z"
   },
   {
    "duration": 35,
    "start_time": "2022-05-11T19:20:29.076Z"
   },
   {
    "duration": 22,
    "start_time": "2022-05-11T19:20:29.115Z"
   },
   {
    "duration": 4,
    "start_time": "2022-05-11T19:20:29.139Z"
   },
   {
    "duration": 10,
    "start_time": "2022-05-11T19:20:29.145Z"
   },
   {
    "duration": 47,
    "start_time": "2022-05-11T19:20:29.157Z"
   },
   {
    "duration": 28,
    "start_time": "2022-05-11T19:20:29.206Z"
   },
   {
    "duration": 27,
    "start_time": "2022-05-11T19:20:29.236Z"
   },
   {
    "duration": 41,
    "start_time": "2022-05-11T19:20:29.265Z"
   },
   {
    "duration": 31,
    "start_time": "2022-05-11T19:20:29.309Z"
   },
   {
    "duration": 21,
    "start_time": "2022-05-11T19:20:29.346Z"
   },
   {
    "duration": 16,
    "start_time": "2022-05-11T19:20:29.400Z"
   },
   {
    "duration": 58,
    "start_time": "2022-05-11T19:20:29.419Z"
   },
   {
    "duration": 36,
    "start_time": "2022-05-11T19:20:29.479Z"
   },
   {
    "duration": 257,
    "start_time": "2022-05-11T19:20:29.517Z"
   },
   {
    "duration": 0,
    "start_time": "2022-05-11T19:20:29.776Z"
   },
   {
    "duration": 0,
    "start_time": "2022-05-11T19:20:29.778Z"
   },
   {
    "duration": 3,
    "start_time": "2022-05-11T19:26:33.133Z"
   },
   {
    "duration": 284,
    "start_time": "2022-05-11T19:26:33.139Z"
   },
   {
    "duration": 284,
    "start_time": "2022-05-11T19:26:33.426Z"
   },
   {
    "duration": 14,
    "start_time": "2022-05-11T19:26:33.713Z"
   },
   {
    "duration": 12,
    "start_time": "2022-05-11T19:26:33.735Z"
   },
   {
    "duration": 15,
    "start_time": "2022-05-11T19:26:33.750Z"
   },
   {
    "duration": 42,
    "start_time": "2022-05-11T19:26:33.767Z"
   },
   {
    "duration": 24,
    "start_time": "2022-05-11T19:26:33.818Z"
   },
   {
    "duration": 37,
    "start_time": "2022-05-11T19:26:33.844Z"
   },
   {
    "duration": 43,
    "start_time": "2022-05-11T19:26:33.883Z"
   },
   {
    "duration": 41,
    "start_time": "2022-05-11T19:26:33.928Z"
   },
   {
    "duration": 117,
    "start_time": "2022-05-11T19:26:33.971Z"
   },
   {
    "duration": 125,
    "start_time": "2022-05-11T19:26:34.101Z"
   },
   {
    "duration": 102,
    "start_time": "2022-05-11T19:26:34.231Z"
   },
   {
    "duration": 118,
    "start_time": "2022-05-11T19:26:34.336Z"
   },
   {
    "duration": 42,
    "start_time": "2022-05-11T19:26:34.458Z"
   },
   {
    "duration": 159,
    "start_time": "2022-05-11T19:26:34.503Z"
   },
   {
    "duration": 113,
    "start_time": "2022-05-11T19:26:34.664Z"
   },
   {
    "duration": 21,
    "start_time": "2022-05-11T19:26:34.779Z"
   },
   {
    "duration": 35,
    "start_time": "2022-05-11T19:26:34.811Z"
   },
   {
    "duration": 4,
    "start_time": "2022-05-11T19:26:34.849Z"
   },
   {
    "duration": 9,
    "start_time": "2022-05-11T19:26:34.856Z"
   },
   {
    "duration": 37,
    "start_time": "2022-05-11T19:26:34.867Z"
   },
   {
    "duration": 26,
    "start_time": "2022-05-11T19:26:34.910Z"
   },
   {
    "duration": 29,
    "start_time": "2022-05-11T19:26:34.939Z"
   },
   {
    "duration": 44,
    "start_time": "2022-05-11T19:26:34.970Z"
   },
   {
    "duration": 43,
    "start_time": "2022-05-11T19:26:35.016Z"
   },
   {
    "duration": 23,
    "start_time": "2022-05-11T19:26:35.062Z"
   },
   {
    "duration": 18,
    "start_time": "2022-05-11T19:26:35.087Z"
   },
   {
    "duration": 52,
    "start_time": "2022-05-11T19:26:35.108Z"
   },
   {
    "duration": 36,
    "start_time": "2022-05-11T19:26:35.163Z"
   },
   {
    "duration": 5,
    "start_time": "2022-05-11T19:26:51.893Z"
   },
   {
    "duration": 233,
    "start_time": "2022-05-11T19:26:51.907Z"
   },
   {
    "duration": 224,
    "start_time": "2022-05-11T19:26:52.143Z"
   },
   {
    "duration": 9,
    "start_time": "2022-05-11T19:26:52.369Z"
   },
   {
    "duration": 21,
    "start_time": "2022-05-11T19:26:52.380Z"
   },
   {
    "duration": 26,
    "start_time": "2022-05-11T19:26:52.405Z"
   },
   {
    "duration": 34,
    "start_time": "2022-05-11T19:26:52.435Z"
   },
   {
    "duration": 11,
    "start_time": "2022-05-11T19:26:52.471Z"
   },
   {
    "duration": 48,
    "start_time": "2022-05-11T19:26:52.494Z"
   },
   {
    "duration": 58,
    "start_time": "2022-05-11T19:26:52.544Z"
   },
   {
    "duration": 41,
    "start_time": "2022-05-11T19:26:52.607Z"
   },
   {
    "duration": 118,
    "start_time": "2022-05-11T19:26:52.651Z"
   },
   {
    "duration": 135,
    "start_time": "2022-05-11T19:26:52.772Z"
   },
   {
    "duration": 99,
    "start_time": "2022-05-11T19:26:52.910Z"
   },
   {
    "duration": 109,
    "start_time": "2022-05-11T19:26:53.016Z"
   },
   {
    "duration": 28,
    "start_time": "2022-05-11T19:26:53.130Z"
   },
   {
    "duration": 160,
    "start_time": "2022-05-11T19:26:53.160Z"
   },
   {
    "duration": 97,
    "start_time": "2022-05-11T19:26:53.323Z"
   },
   {
    "duration": 21,
    "start_time": "2022-05-11T19:26:53.422Z"
   },
   {
    "duration": 15,
    "start_time": "2022-05-11T19:26:53.446Z"
   },
   {
    "duration": 35,
    "start_time": "2022-05-11T19:26:53.464Z"
   },
   {
    "duration": 23,
    "start_time": "2022-05-11T19:26:53.508Z"
   },
   {
    "duration": 31,
    "start_time": "2022-05-11T19:26:53.534Z"
   },
   {
    "duration": 18,
    "start_time": "2022-05-11T19:26:53.568Z"
   },
   {
    "duration": 39,
    "start_time": "2022-05-11T19:26:53.589Z"
   },
   {
    "duration": 29,
    "start_time": "2022-05-11T19:26:53.631Z"
   },
   {
    "duration": 49,
    "start_time": "2022-05-11T19:26:53.662Z"
   },
   {
    "duration": 27,
    "start_time": "2022-05-11T19:26:53.714Z"
   },
   {
    "duration": 9,
    "start_time": "2022-05-11T19:26:53.744Z"
   },
   {
    "duration": 71,
    "start_time": "2022-05-11T19:26:53.757Z"
   },
   {
    "duration": 30,
    "start_time": "2022-05-11T19:26:53.830Z"
   },
   {
    "duration": 233,
    "start_time": "2022-05-11T19:26:53.863Z"
   },
   {
    "duration": 0,
    "start_time": "2022-05-11T19:26:54.098Z"
   },
   {
    "duration": 0,
    "start_time": "2022-05-11T19:26:54.106Z"
   },
   {
    "duration": 0,
    "start_time": "2022-05-11T19:26:54.108Z"
   },
   {
    "duration": 256,
    "start_time": "2022-05-11T19:27:10.292Z"
   },
   {
    "duration": 6,
    "start_time": "2022-05-11T19:31:26.471Z"
   },
   {
    "duration": 140,
    "start_time": "2022-05-11T19:31:31.099Z"
   },
   {
    "duration": 4,
    "start_time": "2022-05-11T19:31:52.344Z"
   },
   {
    "duration": 262,
    "start_time": "2022-05-11T19:31:52.352Z"
   },
   {
    "duration": 246,
    "start_time": "2022-05-11T19:31:52.618Z"
   },
   {
    "duration": 10,
    "start_time": "2022-05-11T19:31:52.866Z"
   },
   {
    "duration": 9,
    "start_time": "2022-05-11T19:31:52.879Z"
   },
   {
    "duration": 52,
    "start_time": "2022-05-11T19:31:52.890Z"
   },
   {
    "duration": 27,
    "start_time": "2022-05-11T19:31:52.946Z"
   },
   {
    "duration": 11,
    "start_time": "2022-05-11T19:31:52.975Z"
   },
   {
    "duration": 74,
    "start_time": "2022-05-11T19:31:52.989Z"
   },
   {
    "duration": 46,
    "start_time": "2022-05-11T19:31:53.066Z"
   },
   {
    "duration": 72,
    "start_time": "2022-05-11T19:31:53.114Z"
   },
   {
    "duration": 129,
    "start_time": "2022-05-11T19:31:53.189Z"
   },
   {
    "duration": 135,
    "start_time": "2022-05-11T19:31:53.320Z"
   },
   {
    "duration": 145,
    "start_time": "2022-05-11T19:31:53.461Z"
   },
   {
    "duration": 115,
    "start_time": "2022-05-11T19:31:53.609Z"
   },
   {
    "duration": 33,
    "start_time": "2022-05-11T19:31:53.728Z"
   },
   {
    "duration": 142,
    "start_time": "2022-05-11T19:31:53.764Z"
   },
   {
    "duration": 138,
    "start_time": "2022-05-11T19:31:53.908Z"
   },
   {
    "duration": 20,
    "start_time": "2022-05-11T19:31:54.049Z"
   },
   {
    "duration": 37,
    "start_time": "2022-05-11T19:31:54.072Z"
   },
   {
    "duration": 11,
    "start_time": "2022-05-11T19:31:54.112Z"
   },
   {
    "duration": 35,
    "start_time": "2022-05-11T19:31:54.126Z"
   },
   {
    "duration": 52,
    "start_time": "2022-05-11T19:31:54.164Z"
   },
   {
    "duration": 28,
    "start_time": "2022-05-11T19:31:54.224Z"
   },
   {
    "duration": 29,
    "start_time": "2022-05-11T19:31:54.258Z"
   },
   {
    "duration": 39,
    "start_time": "2022-05-11T19:31:54.292Z"
   },
   {
    "duration": 39,
    "start_time": "2022-05-11T19:31:54.335Z"
   },
   {
    "duration": 42,
    "start_time": "2022-05-11T19:31:54.376Z"
   },
   {
    "duration": 21,
    "start_time": "2022-05-11T19:31:54.422Z"
   },
   {
    "duration": 62,
    "start_time": "2022-05-11T19:31:54.445Z"
   },
   {
    "duration": 46,
    "start_time": "2022-05-11T19:31:54.509Z"
   },
   {
    "duration": 253,
    "start_time": "2022-05-11T19:31:54.558Z"
   },
   {
    "duration": 0,
    "start_time": "2022-05-11T19:31:54.814Z"
   },
   {
    "duration": 0,
    "start_time": "2022-05-11T19:31:54.817Z"
   },
   {
    "duration": 0,
    "start_time": "2022-05-11T19:31:54.819Z"
   },
   {
    "duration": 13,
    "start_time": "2022-05-11T19:32:01.065Z"
   },
   {
    "duration": 16,
    "start_time": "2022-05-11T19:32:25.924Z"
   },
   {
    "duration": 4,
    "start_time": "2022-05-11T19:32:49.314Z"
   },
   {
    "duration": 241,
    "start_time": "2022-05-11T19:32:49.321Z"
   },
   {
    "duration": 266,
    "start_time": "2022-05-11T19:32:49.565Z"
   },
   {
    "duration": 13,
    "start_time": "2022-05-11T19:32:49.834Z"
   },
   {
    "duration": 7,
    "start_time": "2022-05-11T19:32:49.851Z"
   },
   {
    "duration": 8,
    "start_time": "2022-05-11T19:32:49.860Z"
   },
   {
    "duration": 82,
    "start_time": "2022-05-11T19:32:49.871Z"
   },
   {
    "duration": 11,
    "start_time": "2022-05-11T19:32:49.956Z"
   },
   {
    "duration": 56,
    "start_time": "2022-05-11T19:32:49.969Z"
   },
   {
    "duration": 55,
    "start_time": "2022-05-11T19:32:50.027Z"
   },
   {
    "duration": 54,
    "start_time": "2022-05-11T19:32:50.086Z"
   },
   {
    "duration": 99,
    "start_time": "2022-05-11T19:32:50.144Z"
   },
   {
    "duration": 129,
    "start_time": "2022-05-11T19:32:50.245Z"
   },
   {
    "duration": 103,
    "start_time": "2022-05-11T19:32:50.378Z"
   },
   {
    "duration": 83,
    "start_time": "2022-05-11T19:32:50.506Z"
   },
   {
    "duration": 35,
    "start_time": "2022-05-11T19:32:50.600Z"
   },
   {
    "duration": 170,
    "start_time": "2022-05-11T19:32:50.639Z"
   },
   {
    "duration": 133,
    "start_time": "2022-05-11T19:32:50.811Z"
   },
   {
    "duration": 27,
    "start_time": "2022-05-11T19:32:50.947Z"
   },
   {
    "duration": 34,
    "start_time": "2022-05-11T19:32:50.976Z"
   },
   {
    "duration": 33,
    "start_time": "2022-05-11T19:32:51.015Z"
   },
   {
    "duration": 11,
    "start_time": "2022-05-11T19:32:51.050Z"
   },
   {
    "duration": 44,
    "start_time": "2022-05-11T19:32:51.063Z"
   },
   {
    "duration": 38,
    "start_time": "2022-05-11T19:32:51.109Z"
   },
   {
    "duration": 30,
    "start_time": "2022-05-11T19:32:51.150Z"
   },
   {
    "duration": 52,
    "start_time": "2022-05-11T19:32:51.183Z"
   },
   {
    "duration": 40,
    "start_time": "2022-05-11T19:32:51.238Z"
   },
   {
    "duration": 34,
    "start_time": "2022-05-11T19:32:51.281Z"
   },
   {
    "duration": 16,
    "start_time": "2022-05-11T19:32:51.318Z"
   },
   {
    "duration": 60,
    "start_time": "2022-05-11T19:32:51.340Z"
   },
   {
    "duration": 40,
    "start_time": "2022-05-11T19:32:51.403Z"
   },
   {
    "duration": 276,
    "start_time": "2022-05-11T19:32:51.447Z"
   },
   {
    "duration": 0,
    "start_time": "2022-05-11T19:32:51.727Z"
   },
   {
    "duration": 0,
    "start_time": "2022-05-11T19:32:51.729Z"
   },
   {
    "duration": 23,
    "start_time": "2022-05-11T19:33:01.887Z"
   },
   {
    "duration": 4,
    "start_time": "2022-05-11T19:34:08.119Z"
   },
   {
    "duration": 224,
    "start_time": "2022-05-11T19:34:08.126Z"
   },
   {
    "duration": 201,
    "start_time": "2022-05-11T19:34:08.352Z"
   },
   {
    "duration": 10,
    "start_time": "2022-05-11T19:34:08.555Z"
   },
   {
    "duration": 5,
    "start_time": "2022-05-11T19:34:08.568Z"
   },
   {
    "duration": 20,
    "start_time": "2022-05-11T19:34:08.593Z"
   },
   {
    "duration": 33,
    "start_time": "2022-05-11T19:34:08.620Z"
   },
   {
    "duration": 8,
    "start_time": "2022-05-11T19:34:08.655Z"
   },
   {
    "duration": 59,
    "start_time": "2022-05-11T19:34:08.666Z"
   },
   {
    "duration": 36,
    "start_time": "2022-05-11T19:34:08.728Z"
   },
   {
    "duration": 46,
    "start_time": "2022-05-11T19:34:08.766Z"
   },
   {
    "duration": 119,
    "start_time": "2022-05-11T19:34:08.814Z"
   },
   {
    "duration": 106,
    "start_time": "2022-05-11T19:34:08.935Z"
   },
   {
    "duration": 112,
    "start_time": "2022-05-11T19:34:09.045Z"
   },
   {
    "duration": 97,
    "start_time": "2022-05-11T19:34:09.160Z"
   },
   {
    "duration": 35,
    "start_time": "2022-05-11T19:34:09.259Z"
   },
   {
    "duration": 128,
    "start_time": "2022-05-11T19:34:09.296Z"
   },
   {
    "duration": 121,
    "start_time": "2022-05-11T19:34:09.427Z"
   },
   {
    "duration": 23,
    "start_time": "2022-05-11T19:34:09.551Z"
   },
   {
    "duration": 44,
    "start_time": "2022-05-11T19:34:09.577Z"
   },
   {
    "duration": 22,
    "start_time": "2022-05-11T19:34:09.623Z"
   },
   {
    "duration": 19,
    "start_time": "2022-05-11T19:34:09.648Z"
   },
   {
    "duration": 36,
    "start_time": "2022-05-11T19:34:09.670Z"
   },
   {
    "duration": 42,
    "start_time": "2022-05-11T19:34:09.710Z"
   },
   {
    "duration": 24,
    "start_time": "2022-05-11T19:34:09.755Z"
   },
   {
    "duration": 32,
    "start_time": "2022-05-11T19:34:09.781Z"
   },
   {
    "duration": 48,
    "start_time": "2022-05-11T19:34:09.816Z"
   },
   {
    "duration": 23,
    "start_time": "2022-05-11T19:34:09.866Z"
   },
   {
    "duration": 21,
    "start_time": "2022-05-11T19:34:09.891Z"
   },
   {
    "duration": 53,
    "start_time": "2022-05-11T19:34:09.914Z"
   },
   {
    "duration": 30,
    "start_time": "2022-05-11T19:34:09.969Z"
   },
   {
    "duration": 264,
    "start_time": "2022-05-11T19:34:10.001Z"
   },
   {
    "duration": 24,
    "start_time": "2022-05-11T19:34:19.587Z"
   },
   {
    "duration": 12,
    "start_time": "2022-05-11T19:34:42.469Z"
   },
   {
    "duration": 16,
    "start_time": "2022-05-11T19:35:36.989Z"
   },
   {
    "duration": 12,
    "start_time": "2022-05-11T19:38:01.775Z"
   },
   {
    "duration": 3,
    "start_time": "2022-05-11T19:38:57.180Z"
   },
   {
    "duration": 216,
    "start_time": "2022-05-11T19:38:57.185Z"
   },
   {
    "duration": 180,
    "start_time": "2022-05-11T19:38:57.406Z"
   },
   {
    "duration": 12,
    "start_time": "2022-05-11T19:38:57.588Z"
   },
   {
    "duration": 21,
    "start_time": "2022-05-11T19:38:57.606Z"
   },
   {
    "duration": 8,
    "start_time": "2022-05-11T19:38:57.630Z"
   },
   {
    "duration": 20,
    "start_time": "2022-05-11T19:38:57.640Z"
   },
   {
    "duration": 6,
    "start_time": "2022-05-11T19:38:57.663Z"
   },
   {
    "duration": 63,
    "start_time": "2022-05-11T19:38:57.671Z"
   },
   {
    "duration": 31,
    "start_time": "2022-05-11T19:38:57.737Z"
   },
   {
    "duration": 64,
    "start_time": "2022-05-11T19:38:57.770Z"
   },
   {
    "duration": 105,
    "start_time": "2022-05-11T19:38:57.836Z"
   },
   {
    "duration": 117,
    "start_time": "2022-05-11T19:38:57.943Z"
   },
   {
    "duration": 97,
    "start_time": "2022-05-11T19:38:58.064Z"
   },
   {
    "duration": 85,
    "start_time": "2022-05-11T19:38:58.163Z"
   },
   {
    "duration": 22,
    "start_time": "2022-05-11T19:38:58.250Z"
   },
   {
    "duration": 126,
    "start_time": "2022-05-11T19:38:58.274Z"
   },
   {
    "duration": 98,
    "start_time": "2022-05-11T19:38:58.402Z"
   },
   {
    "duration": 23,
    "start_time": "2022-05-11T19:38:58.502Z"
   },
   {
    "duration": 18,
    "start_time": "2022-05-11T19:38:58.527Z"
   },
   {
    "duration": 3,
    "start_time": "2022-05-11T19:38:58.548Z"
   },
   {
    "duration": 6,
    "start_time": "2022-05-11T19:38:58.553Z"
   },
   {
    "duration": 28,
    "start_time": "2022-05-11T19:38:58.599Z"
   },
   {
    "duration": 18,
    "start_time": "2022-05-11T19:38:58.629Z"
   },
   {
    "duration": 17,
    "start_time": "2022-05-11T19:38:58.649Z"
   },
   {
    "duration": 49,
    "start_time": "2022-05-11T19:38:58.668Z"
   },
   {
    "duration": 22,
    "start_time": "2022-05-11T19:38:58.720Z"
   },
   {
    "duration": 18,
    "start_time": "2022-05-11T19:38:58.744Z"
   },
   {
    "duration": 44,
    "start_time": "2022-05-11T19:38:58.764Z"
   },
   {
    "duration": 39,
    "start_time": "2022-05-11T19:38:58.812Z"
   },
   {
    "duration": 27,
    "start_time": "2022-05-11T19:38:58.853Z"
   },
   {
    "duration": 211,
    "start_time": "2022-05-11T19:38:58.896Z"
   },
   {
    "duration": 0,
    "start_time": "2022-05-11T19:38:59.109Z"
   },
   {
    "duration": 0,
    "start_time": "2022-05-11T19:38:59.111Z"
   },
   {
    "duration": 0,
    "start_time": "2022-05-11T19:38:59.113Z"
   },
   {
    "duration": 34,
    "start_time": "2022-05-11T19:39:14.847Z"
   },
   {
    "duration": 4,
    "start_time": "2022-05-11T19:42:28.239Z"
   },
   {
    "duration": 240,
    "start_time": "2022-05-11T19:42:28.247Z"
   },
   {
    "duration": 233,
    "start_time": "2022-05-11T19:42:28.493Z"
   },
   {
    "duration": 12,
    "start_time": "2022-05-11T19:42:28.729Z"
   },
   {
    "duration": 22,
    "start_time": "2022-05-11T19:42:28.743Z"
   },
   {
    "duration": 9,
    "start_time": "2022-05-11T19:42:28.767Z"
   },
   {
    "duration": 56,
    "start_time": "2022-05-11T19:42:28.778Z"
   },
   {
    "duration": 20,
    "start_time": "2022-05-11T19:42:28.836Z"
   },
   {
    "duration": 63,
    "start_time": "2022-05-11T19:42:28.859Z"
   },
   {
    "duration": 63,
    "start_time": "2022-05-11T19:42:28.926Z"
   },
   {
    "duration": 52,
    "start_time": "2022-05-11T19:42:28.991Z"
   },
   {
    "duration": 115,
    "start_time": "2022-05-11T19:42:29.046Z"
   },
   {
    "duration": 131,
    "start_time": "2022-05-11T19:42:29.162Z"
   },
   {
    "duration": 130,
    "start_time": "2022-05-11T19:42:29.297Z"
   },
   {
    "duration": 87,
    "start_time": "2022-05-11T19:42:29.430Z"
   },
   {
    "duration": 36,
    "start_time": "2022-05-11T19:42:29.520Z"
   },
   {
    "duration": 148,
    "start_time": "2022-05-11T19:42:29.559Z"
   },
   {
    "duration": 107,
    "start_time": "2022-05-11T19:42:29.712Z"
   },
   {
    "duration": 23,
    "start_time": "2022-05-11T19:42:29.827Z"
   },
   {
    "duration": 20,
    "start_time": "2022-05-11T19:42:29.852Z"
   },
   {
    "duration": 4,
    "start_time": "2022-05-11T19:42:29.904Z"
   },
   {
    "duration": 37,
    "start_time": "2022-05-11T19:42:29.911Z"
   },
   {
    "duration": 31,
    "start_time": "2022-05-11T19:42:29.950Z"
   },
   {
    "duration": 31,
    "start_time": "2022-05-11T19:42:29.984Z"
   },
   {
    "duration": 47,
    "start_time": "2022-05-11T19:42:30.017Z"
   },
   {
    "duration": 17,
    "start_time": "2022-05-11T19:42:30.066Z"
   },
   {
    "duration": 52,
    "start_time": "2022-05-11T19:42:30.085Z"
   },
   {
    "duration": 23,
    "start_time": "2022-05-11T19:42:30.142Z"
   },
   {
    "duration": 11,
    "start_time": "2022-05-11T19:42:30.167Z"
   },
   {
    "duration": 58,
    "start_time": "2022-05-11T19:42:30.180Z"
   },
   {
    "duration": 57,
    "start_time": "2022-05-11T19:42:30.240Z"
   },
   {
    "duration": 5,
    "start_time": "2022-05-11T19:42:30.303Z"
   },
   {
    "duration": 69,
    "start_time": "2022-05-11T19:42:30.310Z"
   },
   {
    "duration": 71,
    "start_time": "2022-05-11T19:42:30.381Z"
   },
   {
    "duration": 38,
    "start_time": "2022-05-11T19:42:44.839Z"
   },
   {
    "duration": 4,
    "start_time": "2022-05-11T19:42:53.125Z"
   },
   {
    "duration": 228,
    "start_time": "2022-05-11T19:42:53.131Z"
   },
   {
    "duration": 222,
    "start_time": "2022-05-11T19:42:53.362Z"
   },
   {
    "duration": 11,
    "start_time": "2022-05-11T19:42:53.586Z"
   },
   {
    "duration": 34,
    "start_time": "2022-05-11T19:42:53.600Z"
   },
   {
    "duration": 16,
    "start_time": "2022-05-11T19:42:53.637Z"
   },
   {
    "duration": 24,
    "start_time": "2022-05-11T19:42:53.656Z"
   },
   {
    "duration": 13,
    "start_time": "2022-05-11T19:42:53.683Z"
   },
   {
    "duration": 47,
    "start_time": "2022-05-11T19:42:53.699Z"
   },
   {
    "duration": 67,
    "start_time": "2022-05-11T19:42:53.749Z"
   },
   {
    "duration": 42,
    "start_time": "2022-05-11T19:42:53.819Z"
   },
   {
    "duration": 130,
    "start_time": "2022-05-11T19:42:53.864Z"
   },
   {
    "duration": 137,
    "start_time": "2022-05-11T19:42:53.997Z"
   },
   {
    "duration": 109,
    "start_time": "2022-05-11T19:42:54.139Z"
   },
   {
    "duration": 88,
    "start_time": "2022-05-11T19:42:54.251Z"
   },
   {
    "duration": 26,
    "start_time": "2022-05-11T19:42:54.341Z"
   },
   {
    "duration": 154,
    "start_time": "2022-05-11T19:42:54.369Z"
   },
   {
    "duration": 113,
    "start_time": "2022-05-11T19:42:54.525Z"
   },
   {
    "duration": 18,
    "start_time": "2022-05-11T19:42:54.640Z"
   },
   {
    "duration": 44,
    "start_time": "2022-05-11T19:42:54.661Z"
   },
   {
    "duration": 5,
    "start_time": "2022-05-11T19:42:54.710Z"
   },
   {
    "duration": 24,
    "start_time": "2022-05-11T19:42:54.718Z"
   },
   {
    "duration": 34,
    "start_time": "2022-05-11T19:42:54.745Z"
   },
   {
    "duration": 43,
    "start_time": "2022-05-11T19:42:54.782Z"
   },
   {
    "duration": 31,
    "start_time": "2022-05-11T19:42:54.828Z"
   },
   {
    "duration": 39,
    "start_time": "2022-05-11T19:42:54.861Z"
   },
   {
    "duration": 42,
    "start_time": "2022-05-11T19:42:54.903Z"
   },
   {
    "duration": 22,
    "start_time": "2022-05-11T19:42:54.948Z"
   },
   {
    "duration": 38,
    "start_time": "2022-05-11T19:42:54.973Z"
   },
   {
    "duration": 56,
    "start_time": "2022-05-11T19:42:55.014Z"
   },
   {
    "duration": 31,
    "start_time": "2022-05-11T19:42:55.072Z"
   },
   {
    "duration": 6,
    "start_time": "2022-05-11T19:42:55.105Z"
   },
   {
    "duration": 31,
    "start_time": "2022-05-11T19:42:55.113Z"
   },
   {
    "duration": 3,
    "start_time": "2022-05-11T19:43:00.361Z"
   },
   {
    "duration": 263,
    "start_time": "2022-05-11T19:43:00.367Z"
   },
   {
    "duration": 224,
    "start_time": "2022-05-11T19:43:00.632Z"
   },
   {
    "duration": 9,
    "start_time": "2022-05-11T19:43:00.858Z"
   },
   {
    "duration": 31,
    "start_time": "2022-05-11T19:43:00.871Z"
   },
   {
    "duration": 37,
    "start_time": "2022-05-11T19:43:00.909Z"
   },
   {
    "duration": 28,
    "start_time": "2022-05-11T19:43:00.948Z"
   },
   {
    "duration": 14,
    "start_time": "2022-05-11T19:43:00.978Z"
   },
   {
    "duration": 102,
    "start_time": "2022-05-11T19:43:01.004Z"
   },
   {
    "duration": 64,
    "start_time": "2022-05-11T19:43:01.109Z"
   },
   {
    "duration": 97,
    "start_time": "2022-05-11T19:43:01.176Z"
   },
   {
    "duration": 144,
    "start_time": "2022-05-11T19:43:01.276Z"
   },
   {
    "duration": 167,
    "start_time": "2022-05-11T19:43:01.429Z"
   },
   {
    "duration": 115,
    "start_time": "2022-05-11T19:43:01.601Z"
   },
   {
    "duration": 72,
    "start_time": "2022-05-11T19:43:01.719Z"
   },
   {
    "duration": 31,
    "start_time": "2022-05-11T19:43:01.794Z"
   },
   {
    "duration": 144,
    "start_time": "2022-05-11T19:43:01.829Z"
   },
   {
    "duration": 106,
    "start_time": "2022-05-11T19:43:01.976Z"
   },
   {
    "duration": 25,
    "start_time": "2022-05-11T19:43:02.092Z"
   },
   {
    "duration": 49,
    "start_time": "2022-05-11T19:43:02.119Z"
   },
   {
    "duration": 5,
    "start_time": "2022-05-11T19:43:02.171Z"
   },
   {
    "duration": 52,
    "start_time": "2022-05-11T19:43:02.179Z"
   },
   {
    "duration": 24,
    "start_time": "2022-05-11T19:43:02.233Z"
   },
   {
    "duration": 19,
    "start_time": "2022-05-11T19:43:02.260Z"
   },
   {
    "duration": 24,
    "start_time": "2022-05-11T19:43:02.282Z"
   },
   {
    "duration": 40,
    "start_time": "2022-05-11T19:43:02.311Z"
   },
   {
    "duration": 28,
    "start_time": "2022-05-11T19:43:02.354Z"
   },
   {
    "duration": 60,
    "start_time": "2022-05-11T19:43:02.385Z"
   },
   {
    "duration": 12,
    "start_time": "2022-05-11T19:43:02.448Z"
   },
   {
    "duration": 55,
    "start_time": "2022-05-11T19:43:02.463Z"
   },
   {
    "duration": 53,
    "start_time": "2022-05-11T19:43:02.524Z"
   },
   {
    "duration": 5,
    "start_time": "2022-05-11T19:43:02.580Z"
   },
   {
    "duration": 45,
    "start_time": "2022-05-11T19:43:02.587Z"
   },
   {
    "duration": 49,
    "start_time": "2022-05-11T19:43:02.634Z"
   },
   {
    "duration": 4,
    "start_time": "2022-05-11T19:43:12.977Z"
   },
   {
    "duration": 316,
    "start_time": "2022-05-11T19:43:12.989Z"
   },
   {
    "duration": 245,
    "start_time": "2022-05-11T19:43:13.308Z"
   },
   {
    "duration": 17,
    "start_time": "2022-05-11T19:43:13.556Z"
   },
   {
    "duration": 13,
    "start_time": "2022-05-11T19:43:13.576Z"
   },
   {
    "duration": 78,
    "start_time": "2022-05-11T19:43:13.592Z"
   },
   {
    "duration": 38,
    "start_time": "2022-05-11T19:43:13.673Z"
   },
   {
    "duration": 46,
    "start_time": "2022-05-11T19:43:13.721Z"
   },
   {
    "duration": 59,
    "start_time": "2022-05-11T19:43:13.770Z"
   },
   {
    "duration": 70,
    "start_time": "2022-05-11T19:43:13.832Z"
   },
   {
    "duration": 77,
    "start_time": "2022-05-11T19:43:13.905Z"
   },
   {
    "duration": 137,
    "start_time": "2022-05-11T19:43:13.984Z"
   },
   {
    "duration": 134,
    "start_time": "2022-05-11T19:43:14.123Z"
   },
   {
    "duration": 119,
    "start_time": "2022-05-11T19:43:14.262Z"
   },
   {
    "duration": 99,
    "start_time": "2022-05-11T19:43:14.382Z"
   },
   {
    "duration": 42,
    "start_time": "2022-05-11T19:43:14.484Z"
   },
   {
    "duration": 182,
    "start_time": "2022-05-11T19:43:14.529Z"
   },
   {
    "duration": 130,
    "start_time": "2022-05-11T19:43:14.714Z"
   },
   {
    "duration": 26,
    "start_time": "2022-05-11T19:43:14.847Z"
   },
   {
    "duration": 31,
    "start_time": "2022-05-11T19:43:14.900Z"
   },
   {
    "duration": 24,
    "start_time": "2022-05-11T19:43:14.934Z"
   },
   {
    "duration": 12,
    "start_time": "2022-05-11T19:43:14.961Z"
   },
   {
    "duration": 36,
    "start_time": "2022-05-11T19:43:14.976Z"
   },
   {
    "duration": 67,
    "start_time": "2022-05-11T19:43:15.015Z"
   },
   {
    "duration": 32,
    "start_time": "2022-05-11T19:43:15.084Z"
   },
   {
    "duration": 56,
    "start_time": "2022-05-11T19:43:15.119Z"
   },
   {
    "duration": 21,
    "start_time": "2022-05-11T19:43:15.178Z"
   },
   {
    "duration": 33,
    "start_time": "2022-05-11T19:43:15.203Z"
   },
   {
    "duration": 19,
    "start_time": "2022-05-11T19:43:15.240Z"
   },
   {
    "duration": 67,
    "start_time": "2022-05-11T19:43:15.263Z"
   },
   {
    "duration": 41,
    "start_time": "2022-05-11T19:43:15.335Z"
   },
   {
    "duration": 5,
    "start_time": "2022-05-11T19:43:15.380Z"
   },
   {
    "duration": 20,
    "start_time": "2022-05-11T19:43:15.388Z"
   },
   {
    "duration": 111,
    "start_time": "2022-05-11T19:43:15.413Z"
   },
   {
    "duration": 0,
    "start_time": "2022-05-11T19:43:15.527Z"
   },
   {
    "duration": 33,
    "start_time": "2022-05-11T19:43:23.330Z"
   },
   {
    "duration": 4,
    "start_time": "2022-05-11T19:43:56.685Z"
   },
   {
    "duration": 324,
    "start_time": "2022-05-11T19:43:56.692Z"
   },
   {
    "duration": 294,
    "start_time": "2022-05-11T19:43:57.019Z"
   },
   {
    "duration": 15,
    "start_time": "2022-05-11T19:43:57.316Z"
   },
   {
    "duration": 364,
    "start_time": "2022-05-11T19:43:57.334Z"
   },
   {
    "duration": 58,
    "start_time": "2022-05-11T19:43:57.701Z"
   },
   {
    "duration": 34,
    "start_time": "2022-05-11T19:43:57.762Z"
   },
   {
    "duration": 50,
    "start_time": "2022-05-11T19:43:57.799Z"
   },
   {
    "duration": 72,
    "start_time": "2022-05-11T19:43:57.852Z"
   },
   {
    "duration": 56,
    "start_time": "2022-05-11T19:43:57.926Z"
   },
   {
    "duration": 57,
    "start_time": "2022-05-11T19:43:57.984Z"
   },
   {
    "duration": 123,
    "start_time": "2022-05-11T19:43:58.044Z"
   },
   {
    "duration": 156,
    "start_time": "2022-05-11T19:43:58.170Z"
   },
   {
    "duration": 107,
    "start_time": "2022-05-11T19:43:58.337Z"
   },
   {
    "duration": 129,
    "start_time": "2022-05-11T19:43:58.447Z"
   },
   {
    "duration": 30,
    "start_time": "2022-05-11T19:43:58.579Z"
   },
   {
    "duration": 126,
    "start_time": "2022-05-11T19:43:58.612Z"
   },
   {
    "duration": 113,
    "start_time": "2022-05-11T19:43:58.744Z"
   },
   {
    "duration": 17,
    "start_time": "2022-05-11T19:43:58.860Z"
   },
   {
    "duration": 35,
    "start_time": "2022-05-11T19:43:58.879Z"
   },
   {
    "duration": 26,
    "start_time": "2022-05-11T19:43:58.917Z"
   },
   {
    "duration": 7,
    "start_time": "2022-05-11T19:43:58.947Z"
   },
   {
    "duration": 39,
    "start_time": "2022-05-11T19:43:58.958Z"
   },
   {
    "duration": 31,
    "start_time": "2022-05-11T19:43:59.000Z"
   },
   {
    "duration": 35,
    "start_time": "2022-05-11T19:43:59.036Z"
   },
   {
    "duration": 30,
    "start_time": "2022-05-11T19:43:59.074Z"
   },
   {
    "duration": 60,
    "start_time": "2022-05-11T19:43:59.107Z"
   },
   {
    "duration": 20,
    "start_time": "2022-05-11T19:43:59.170Z"
   },
   {
    "duration": 14,
    "start_time": "2022-05-11T19:43:59.196Z"
   },
   {
    "duration": 53,
    "start_time": "2022-05-11T19:43:59.213Z"
   },
   {
    "duration": 38,
    "start_time": "2022-05-11T19:43:59.269Z"
   },
   {
    "duration": 10,
    "start_time": "2022-05-11T19:43:59.317Z"
   },
   {
    "duration": 15,
    "start_time": "2022-05-11T19:43:59.329Z"
   },
   {
    "duration": 57,
    "start_time": "2022-05-11T19:43:59.347Z"
   },
   {
    "duration": 0,
    "start_time": "2022-05-11T19:43:59.413Z"
   },
   {
    "duration": 0,
    "start_time": "2022-05-11T19:43:59.415Z"
   },
   {
    "duration": 0,
    "start_time": "2022-05-11T19:43:59.417Z"
   },
   {
    "duration": 0,
    "start_time": "2022-05-11T19:43:59.418Z"
   },
   {
    "duration": 67,
    "start_time": "2022-05-11T19:44:01.180Z"
   },
   {
    "duration": 4,
    "start_time": "2022-05-11T19:44:52.207Z"
   },
   {
    "duration": 245,
    "start_time": "2022-05-11T19:44:52.216Z"
   },
   {
    "duration": 214,
    "start_time": "2022-05-11T19:44:52.464Z"
   },
   {
    "duration": 24,
    "start_time": "2022-05-11T19:44:52.680Z"
   },
   {
    "duration": 36,
    "start_time": "2022-05-11T19:44:52.709Z"
   },
   {
    "duration": 9,
    "start_time": "2022-05-11T19:44:52.748Z"
   },
   {
    "duration": 37,
    "start_time": "2022-05-11T19:44:52.759Z"
   },
   {
    "duration": 46,
    "start_time": "2022-05-11T19:44:52.799Z"
   },
   {
    "duration": 41,
    "start_time": "2022-05-11T19:44:52.847Z"
   },
   {
    "duration": 76,
    "start_time": "2022-05-11T19:44:52.891Z"
   },
   {
    "duration": 46,
    "start_time": "2022-05-11T19:44:52.969Z"
   },
   {
    "duration": 117,
    "start_time": "2022-05-11T19:44:53.024Z"
   },
   {
    "duration": 125,
    "start_time": "2022-05-11T19:44:53.144Z"
   },
   {
    "duration": 105,
    "start_time": "2022-05-11T19:44:53.275Z"
   },
   {
    "duration": 121,
    "start_time": "2022-05-11T19:44:53.383Z"
   },
   {
    "duration": 42,
    "start_time": "2022-05-11T19:44:53.507Z"
   },
   {
    "duration": 117,
    "start_time": "2022-05-11T19:44:53.551Z"
   },
   {
    "duration": 108,
    "start_time": "2022-05-11T19:44:53.670Z"
   },
   {
    "duration": 26,
    "start_time": "2022-05-11T19:44:53.780Z"
   },
   {
    "duration": 40,
    "start_time": "2022-05-11T19:44:53.808Z"
   },
   {
    "duration": 5,
    "start_time": "2022-05-11T19:44:53.851Z"
   },
   {
    "duration": 8,
    "start_time": "2022-05-11T19:44:53.859Z"
   },
   {
    "duration": 43,
    "start_time": "2022-05-11T19:44:53.870Z"
   },
   {
    "duration": 28,
    "start_time": "2022-05-11T19:44:53.916Z"
   },
   {
    "duration": 21,
    "start_time": "2022-05-11T19:44:53.946Z"
   },
   {
    "duration": 43,
    "start_time": "2022-05-11T19:44:53.969Z"
   },
   {
    "duration": 37,
    "start_time": "2022-05-11T19:44:54.016Z"
   },
   {
    "duration": 20,
    "start_time": "2022-05-11T19:44:54.056Z"
   },
   {
    "duration": 34,
    "start_time": "2022-05-11T19:44:54.078Z"
   },
   {
    "duration": 47,
    "start_time": "2022-05-11T19:44:54.116Z"
   },
   {
    "duration": 35,
    "start_time": "2022-05-11T19:44:54.165Z"
   },
   {
    "duration": 5,
    "start_time": "2022-05-11T19:44:54.202Z"
   },
   {
    "duration": 7,
    "start_time": "2022-05-11T19:45:02.228Z"
   },
   {
    "duration": 234,
    "start_time": "2022-05-11T19:45:02.238Z"
   },
   {
    "duration": 215,
    "start_time": "2022-05-11T19:45:02.474Z"
   },
   {
    "duration": 11,
    "start_time": "2022-05-11T19:45:02.690Z"
   },
   {
    "duration": 42,
    "start_time": "2022-05-11T19:45:02.704Z"
   },
   {
    "duration": 22,
    "start_time": "2022-05-11T19:45:02.748Z"
   },
   {
    "duration": 39,
    "start_time": "2022-05-11T19:45:02.773Z"
   },
   {
    "duration": 35,
    "start_time": "2022-05-11T19:45:02.814Z"
   },
   {
    "duration": 67,
    "start_time": "2022-05-11T19:45:02.852Z"
   },
   {
    "duration": 61,
    "start_time": "2022-05-11T19:45:02.920Z"
   },
   {
    "duration": 44,
    "start_time": "2022-05-11T19:45:02.983Z"
   },
   {
    "duration": 120,
    "start_time": "2022-05-11T19:45:03.029Z"
   },
   {
    "duration": 176,
    "start_time": "2022-05-11T19:45:03.152Z"
   },
   {
    "duration": 102,
    "start_time": "2022-05-11T19:45:03.336Z"
   },
   {
    "duration": 87,
    "start_time": "2022-05-11T19:45:03.441Z"
   },
   {
    "duration": 30,
    "start_time": "2022-05-11T19:45:03.530Z"
   },
   {
    "duration": 153,
    "start_time": "2022-05-11T19:45:03.563Z"
   },
   {
    "duration": 123,
    "start_time": "2022-05-11T19:45:03.719Z"
   },
   {
    "duration": 19,
    "start_time": "2022-05-11T19:45:03.845Z"
   },
   {
    "duration": 31,
    "start_time": "2022-05-11T19:45:03.866Z"
   },
   {
    "duration": 3,
    "start_time": "2022-05-11T19:45:03.904Z"
   },
   {
    "duration": 29,
    "start_time": "2022-05-11T19:45:03.910Z"
   },
   {
    "duration": 38,
    "start_time": "2022-05-11T19:45:03.941Z"
   },
   {
    "duration": 30,
    "start_time": "2022-05-11T19:45:03.982Z"
   },
   {
    "duration": 43,
    "start_time": "2022-05-11T19:45:04.014Z"
   },
   {
    "duration": 19,
    "start_time": "2022-05-11T19:45:04.059Z"
   },
   {
    "duration": 34,
    "start_time": "2022-05-11T19:45:04.080Z"
   },
   {
    "duration": 32,
    "start_time": "2022-05-11T19:45:04.116Z"
   },
   {
    "duration": 10,
    "start_time": "2022-05-11T19:45:04.151Z"
   },
   {
    "duration": 64,
    "start_time": "2022-05-11T19:45:04.163Z"
   },
   {
    "duration": 36,
    "start_time": "2022-05-11T19:45:04.230Z"
   },
   {
    "duration": 4,
    "start_time": "2022-05-11T19:45:04.269Z"
   },
   {
    "duration": 33,
    "start_time": "2022-05-11T19:45:04.275Z"
   },
   {
    "duration": 4,
    "start_time": "2022-05-11T19:45:09.779Z"
   },
   {
    "duration": 248,
    "start_time": "2022-05-11T19:45:09.787Z"
   },
   {
    "duration": 200,
    "start_time": "2022-05-11T19:45:10.038Z"
   },
   {
    "duration": 9,
    "start_time": "2022-05-11T19:45:10.241Z"
   },
   {
    "duration": 11,
    "start_time": "2022-05-11T19:45:10.255Z"
   },
   {
    "duration": 33,
    "start_time": "2022-05-11T19:45:10.268Z"
   },
   {
    "duration": 48,
    "start_time": "2022-05-11T19:45:10.303Z"
   },
   {
    "duration": 11,
    "start_time": "2022-05-11T19:45:10.353Z"
   },
   {
    "duration": 48,
    "start_time": "2022-05-11T19:45:10.366Z"
   },
   {
    "duration": 53,
    "start_time": "2022-05-11T19:45:10.417Z"
   },
   {
    "duration": 36,
    "start_time": "2022-05-11T19:45:10.472Z"
   },
   {
    "duration": 114,
    "start_time": "2022-05-11T19:45:10.510Z"
   },
   {
    "duration": 116,
    "start_time": "2022-05-11T19:45:10.626Z"
   },
   {
    "duration": 108,
    "start_time": "2022-05-11T19:45:10.747Z"
   },
   {
    "duration": 91,
    "start_time": "2022-05-11T19:45:10.858Z"
   },
   {
    "duration": 23,
    "start_time": "2022-05-11T19:45:10.951Z"
   },
   {
    "duration": 140,
    "start_time": "2022-05-11T19:45:10.976Z"
   },
   {
    "duration": 116,
    "start_time": "2022-05-11T19:45:11.119Z"
   },
   {
    "duration": 17,
    "start_time": "2022-05-11T19:45:11.237Z"
   },
   {
    "duration": 16,
    "start_time": "2022-05-11T19:45:11.256Z"
   },
   {
    "duration": 3,
    "start_time": "2022-05-11T19:45:11.274Z"
   },
   {
    "duration": 8,
    "start_time": "2022-05-11T19:45:11.279Z"
   },
   {
    "duration": 29,
    "start_time": "2022-05-11T19:45:11.289Z"
   },
   {
    "duration": 39,
    "start_time": "2022-05-11T19:45:11.321Z"
   },
   {
    "duration": 45,
    "start_time": "2022-05-11T19:45:11.363Z"
   },
   {
    "duration": 30,
    "start_time": "2022-05-11T19:45:11.411Z"
   },
   {
    "duration": 21,
    "start_time": "2022-05-11T19:45:11.443Z"
   },
   {
    "duration": 40,
    "start_time": "2022-05-11T19:45:11.466Z"
   },
   {
    "duration": 36,
    "start_time": "2022-05-11T19:45:11.508Z"
   },
   {
    "duration": 33,
    "start_time": "2022-05-11T19:45:11.546Z"
   },
   {
    "duration": 28,
    "start_time": "2022-05-11T19:45:11.581Z"
   },
   {
    "duration": 6,
    "start_time": "2022-05-11T19:45:11.617Z"
   },
   {
    "duration": 6,
    "start_time": "2022-05-11T19:45:16.453Z"
   },
   {
    "duration": 8,
    "start_time": "2022-05-11T19:45:43.514Z"
   },
   {
    "duration": 247,
    "start_time": "2022-05-11T19:45:43.526Z"
   },
   {
    "duration": 213,
    "start_time": "2022-05-11T19:45:43.775Z"
   },
   {
    "duration": 15,
    "start_time": "2022-05-11T19:45:43.990Z"
   },
   {
    "duration": 30,
    "start_time": "2022-05-11T19:45:44.009Z"
   },
   {
    "duration": 7,
    "start_time": "2022-05-11T19:45:44.042Z"
   },
   {
    "duration": 21,
    "start_time": "2022-05-11T19:45:44.051Z"
   },
   {
    "duration": 8,
    "start_time": "2022-05-11T19:45:44.074Z"
   },
   {
    "duration": 62,
    "start_time": "2022-05-11T19:45:44.084Z"
   },
   {
    "duration": 33,
    "start_time": "2022-05-11T19:45:44.148Z"
   },
   {
    "duration": 51,
    "start_time": "2022-05-11T19:45:44.183Z"
   },
   {
    "duration": 119,
    "start_time": "2022-05-11T19:45:44.238Z"
   },
   {
    "duration": 138,
    "start_time": "2022-05-11T19:45:44.360Z"
   },
   {
    "duration": 89,
    "start_time": "2022-05-11T19:45:44.510Z"
   },
   {
    "duration": 86,
    "start_time": "2022-05-11T19:45:44.602Z"
   },
   {
    "duration": 28,
    "start_time": "2022-05-11T19:45:44.690Z"
   },
   {
    "duration": 126,
    "start_time": "2022-05-11T19:45:44.721Z"
   },
   {
    "duration": 118,
    "start_time": "2022-05-11T19:45:44.849Z"
   },
   {
    "duration": 29,
    "start_time": "2022-05-11T19:45:44.969Z"
   },
   {
    "duration": 26,
    "start_time": "2022-05-11T19:45:45.000Z"
   },
   {
    "duration": 22,
    "start_time": "2022-05-11T19:45:45.029Z"
   },
   {
    "duration": 35,
    "start_time": "2022-05-11T19:45:45.054Z"
   },
   {
    "duration": 68,
    "start_time": "2022-05-11T19:45:45.092Z"
   },
   {
    "duration": 19,
    "start_time": "2022-05-11T19:45:45.163Z"
   },
   {
    "duration": 27,
    "start_time": "2022-05-11T19:45:45.184Z"
   },
   {
    "duration": 26,
    "start_time": "2022-05-11T19:45:45.218Z"
   },
   {
    "duration": 21,
    "start_time": "2022-05-11T19:45:45.246Z"
   },
   {
    "duration": 57,
    "start_time": "2022-05-11T19:45:45.269Z"
   },
   {
    "duration": 13,
    "start_time": "2022-05-11T19:45:45.331Z"
   },
   {
    "duration": 35,
    "start_time": "2022-05-11T19:45:45.346Z"
   },
   {
    "duration": 50,
    "start_time": "2022-05-11T19:45:45.392Z"
   },
   {
    "duration": 5,
    "start_time": "2022-05-11T19:45:45.445Z"
   },
   {
    "duration": 4,
    "start_time": "2022-05-11T19:45:50.126Z"
   },
   {
    "duration": 229,
    "start_time": "2022-05-11T19:45:50.133Z"
   },
   {
    "duration": 217,
    "start_time": "2022-05-11T19:45:50.365Z"
   },
   {
    "duration": 25,
    "start_time": "2022-05-11T19:45:50.585Z"
   },
   {
    "duration": 26,
    "start_time": "2022-05-11T19:45:50.612Z"
   },
   {
    "duration": 17,
    "start_time": "2022-05-11T19:45:50.641Z"
   },
   {
    "duration": 24,
    "start_time": "2022-05-11T19:45:50.660Z"
   },
   {
    "duration": 57,
    "start_time": "2022-05-11T19:45:50.686Z"
   },
   {
    "duration": 49,
    "start_time": "2022-05-11T19:45:50.746Z"
   },
   {
    "duration": 59,
    "start_time": "2022-05-11T19:45:50.797Z"
   },
   {
    "duration": 52,
    "start_time": "2022-05-11T19:45:50.859Z"
   },
   {
    "duration": 150,
    "start_time": "2022-05-11T19:45:50.914Z"
   },
   {
    "duration": 168,
    "start_time": "2022-05-11T19:45:51.066Z"
   },
   {
    "duration": 118,
    "start_time": "2022-05-11T19:45:51.237Z"
   },
   {
    "duration": 90,
    "start_time": "2022-05-11T19:45:51.358Z"
   },
   {
    "duration": 44,
    "start_time": "2022-05-11T19:45:51.452Z"
   },
   {
    "duration": 144,
    "start_time": "2022-05-11T19:45:51.505Z"
   },
   {
    "duration": 116,
    "start_time": "2022-05-11T19:45:51.651Z"
   },
   {
    "duration": 20,
    "start_time": "2022-05-11T19:45:51.778Z"
   },
   {
    "duration": 25,
    "start_time": "2022-05-11T19:45:51.804Z"
   },
   {
    "duration": 18,
    "start_time": "2022-05-11T19:45:51.837Z"
   },
   {
    "duration": 14,
    "start_time": "2022-05-11T19:45:51.857Z"
   },
   {
    "duration": 41,
    "start_time": "2022-05-11T19:45:51.874Z"
   },
   {
    "duration": 45,
    "start_time": "2022-05-11T19:45:51.920Z"
   },
   {
    "duration": 19,
    "start_time": "2022-05-11T19:45:51.968Z"
   },
   {
    "duration": 26,
    "start_time": "2022-05-11T19:45:51.990Z"
   },
   {
    "duration": 37,
    "start_time": "2022-05-11T19:45:52.025Z"
   },
   {
    "duration": 19,
    "start_time": "2022-05-11T19:45:52.064Z"
   },
   {
    "duration": 23,
    "start_time": "2022-05-11T19:45:52.085Z"
   },
   {
    "duration": 68,
    "start_time": "2022-05-11T19:45:52.114Z"
   },
   {
    "duration": 34,
    "start_time": "2022-05-11T19:45:52.185Z"
   },
   {
    "duration": 33,
    "start_time": "2022-05-11T19:45:52.223Z"
   },
   {
    "duration": 4,
    "start_time": "2022-05-11T19:46:01.534Z"
   },
   {
    "duration": 243,
    "start_time": "2022-05-11T19:46:01.541Z"
   },
   {
    "duration": 250,
    "start_time": "2022-05-11T19:46:01.787Z"
   },
   {
    "duration": 11,
    "start_time": "2022-05-11T19:46:02.041Z"
   },
   {
    "duration": 6,
    "start_time": "2022-05-11T19:46:02.056Z"
   },
   {
    "duration": 17,
    "start_time": "2022-05-11T19:46:02.064Z"
   },
   {
    "duration": 59,
    "start_time": "2022-05-11T19:46:02.098Z"
   },
   {
    "duration": 11,
    "start_time": "2022-05-11T19:46:02.160Z"
   },
   {
    "duration": 47,
    "start_time": "2022-05-11T19:46:02.174Z"
   },
   {
    "duration": 65,
    "start_time": "2022-05-11T19:46:02.224Z"
   },
   {
    "duration": 61,
    "start_time": "2022-05-11T19:46:02.292Z"
   },
   {
    "duration": 141,
    "start_time": "2022-05-11T19:46:02.356Z"
   },
   {
    "duration": 146,
    "start_time": "2022-05-11T19:46:02.499Z"
   },
   {
    "duration": 142,
    "start_time": "2022-05-11T19:46:02.652Z"
   },
   {
    "duration": 112,
    "start_time": "2022-05-11T19:46:02.796Z"
   },
   {
    "duration": 37,
    "start_time": "2022-05-11T19:46:02.910Z"
   },
   {
    "duration": 125,
    "start_time": "2022-05-11T19:46:02.950Z"
   },
   {
    "duration": 121,
    "start_time": "2022-05-11T19:46:03.078Z"
   },
   {
    "duration": 23,
    "start_time": "2022-05-11T19:46:03.202Z"
   },
   {
    "duration": 36,
    "start_time": "2022-05-11T19:46:03.228Z"
   },
   {
    "duration": 4,
    "start_time": "2022-05-11T19:46:03.266Z"
   },
   {
    "duration": 29,
    "start_time": "2022-05-11T19:46:03.273Z"
   },
   {
    "duration": 45,
    "start_time": "2022-05-11T19:46:03.305Z"
   },
   {
    "duration": 20,
    "start_time": "2022-05-11T19:46:03.352Z"
   },
   {
    "duration": 29,
    "start_time": "2022-05-11T19:46:03.375Z"
   },
   {
    "duration": 32,
    "start_time": "2022-05-11T19:46:03.406Z"
   },
   {
    "duration": 36,
    "start_time": "2022-05-11T19:46:03.441Z"
   },
   {
    "duration": 35,
    "start_time": "2022-05-11T19:46:03.479Z"
   },
   {
    "duration": 43,
    "start_time": "2022-05-11T19:46:03.517Z"
   },
   {
    "duration": 52,
    "start_time": "2022-05-11T19:46:03.563Z"
   },
   {
    "duration": 37,
    "start_time": "2022-05-11T19:46:03.618Z"
   },
   {
    "duration": 4,
    "start_time": "2022-05-11T19:46:03.658Z"
   },
   {
    "duration": 12,
    "start_time": "2022-05-11T19:46:03.664Z"
   },
   {
    "duration": 4,
    "start_time": "2022-05-11T19:46:52.981Z"
   },
   {
    "duration": 267,
    "start_time": "2022-05-11T19:46:52.987Z"
   },
   {
    "duration": 197,
    "start_time": "2022-05-11T19:46:53.256Z"
   },
   {
    "duration": 10,
    "start_time": "2022-05-11T19:46:53.456Z"
   },
   {
    "duration": 28,
    "start_time": "2022-05-11T19:46:53.470Z"
   },
   {
    "duration": 29,
    "start_time": "2022-05-11T19:46:53.500Z"
   },
   {
    "duration": 34,
    "start_time": "2022-05-11T19:46:53.532Z"
   },
   {
    "duration": 11,
    "start_time": "2022-05-11T19:46:53.569Z"
   },
   {
    "duration": 72,
    "start_time": "2022-05-11T19:46:53.582Z"
   },
   {
    "duration": 41,
    "start_time": "2022-05-11T19:46:53.657Z"
   },
   {
    "duration": 52,
    "start_time": "2022-05-11T19:46:53.700Z"
   },
   {
    "duration": 119,
    "start_time": "2022-05-11T19:46:53.755Z"
   },
   {
    "duration": 153,
    "start_time": "2022-05-11T19:46:53.878Z"
   },
   {
    "duration": 105,
    "start_time": "2022-05-11T19:46:54.041Z"
   },
   {
    "duration": 78,
    "start_time": "2022-05-11T19:46:54.149Z"
   },
   {
    "duration": 23,
    "start_time": "2022-05-11T19:46:54.234Z"
   },
   {
    "duration": 136,
    "start_time": "2022-05-11T19:46:54.259Z"
   },
   {
    "duration": 105,
    "start_time": "2022-05-11T19:46:54.399Z"
   },
   {
    "duration": 26,
    "start_time": "2022-05-11T19:46:54.507Z"
   },
   {
    "duration": 21,
    "start_time": "2022-05-11T19:46:54.536Z"
   },
   {
    "duration": 4,
    "start_time": "2022-05-11T19:46:54.560Z"
   },
   {
    "duration": 70,
    "start_time": "2022-05-11T19:46:54.566Z"
   },
   {
    "duration": 25,
    "start_time": "2022-05-11T19:46:54.638Z"
   },
   {
    "duration": 18,
    "start_time": "2022-05-11T19:46:54.665Z"
   },
   {
    "duration": 30,
    "start_time": "2022-05-11T19:46:54.685Z"
   },
   {
    "duration": 37,
    "start_time": "2022-05-11T19:46:54.724Z"
   },
   {
    "duration": 20,
    "start_time": "2022-05-11T19:46:54.763Z"
   },
   {
    "duration": 31,
    "start_time": "2022-05-11T19:46:54.786Z"
   },
   {
    "duration": 26,
    "start_time": "2022-05-11T19:46:54.820Z"
   },
   {
    "duration": 32,
    "start_time": "2022-05-11T19:46:54.849Z"
   },
   {
    "duration": 52,
    "start_time": "2022-05-11T19:46:54.883Z"
   },
   {
    "duration": 4,
    "start_time": "2022-05-11T19:46:54.937Z"
   },
   {
    "duration": 4,
    "start_time": "2022-05-11T19:46:59.813Z"
   },
   {
    "duration": 244,
    "start_time": "2022-05-11T19:46:59.819Z"
   },
   {
    "duration": 214,
    "start_time": "2022-05-11T19:47:00.066Z"
   },
   {
    "duration": 31,
    "start_time": "2022-05-11T19:47:00.283Z"
   },
   {
    "duration": 24,
    "start_time": "2022-05-11T19:47:00.322Z"
   },
   {
    "duration": 16,
    "start_time": "2022-05-11T19:47:00.349Z"
   },
   {
    "duration": 33,
    "start_time": "2022-05-11T19:47:00.367Z"
   },
   {
    "duration": 40,
    "start_time": "2022-05-11T19:47:00.401Z"
   },
   {
    "duration": 48,
    "start_time": "2022-05-11T19:47:00.443Z"
   },
   {
    "duration": 58,
    "start_time": "2022-05-11T19:47:00.497Z"
   },
   {
    "duration": 43,
    "start_time": "2022-05-11T19:47:00.558Z"
   },
   {
    "duration": 156,
    "start_time": "2022-05-11T19:47:00.604Z"
   },
   {
    "duration": 139,
    "start_time": "2022-05-11T19:47:00.762Z"
   },
   {
    "duration": 102,
    "start_time": "2022-05-11T19:47:00.912Z"
   },
   {
    "duration": 110,
    "start_time": "2022-05-11T19:47:01.021Z"
   },
   {
    "duration": 22,
    "start_time": "2022-05-11T19:47:01.136Z"
   },
   {
    "duration": 153,
    "start_time": "2022-05-11T19:47:01.161Z"
   },
   {
    "duration": 101,
    "start_time": "2022-05-11T19:47:01.318Z"
   },
   {
    "duration": 19,
    "start_time": "2022-05-11T19:47:01.421Z"
   },
   {
    "duration": 40,
    "start_time": "2022-05-11T19:47:01.443Z"
   },
   {
    "duration": 4,
    "start_time": "2022-05-11T19:47:01.485Z"
   },
   {
    "duration": 44,
    "start_time": "2022-05-11T19:47:01.492Z"
   },
   {
    "duration": 27,
    "start_time": "2022-05-11T19:47:01.539Z"
   },
   {
    "duration": 21,
    "start_time": "2022-05-11T19:47:01.568Z"
   },
   {
    "duration": 37,
    "start_time": "2022-05-11T19:47:01.592Z"
   },
   {
    "duration": 23,
    "start_time": "2022-05-11T19:47:01.632Z"
   },
   {
    "duration": 20,
    "start_time": "2022-05-11T19:47:01.657Z"
   },
   {
    "duration": 30,
    "start_time": "2022-05-11T19:47:01.693Z"
   },
   {
    "duration": 15,
    "start_time": "2022-05-11T19:47:01.725Z"
   },
   {
    "duration": 70,
    "start_time": "2022-05-11T19:47:01.743Z"
   },
   {
    "duration": 32,
    "start_time": "2022-05-11T19:47:01.818Z"
   },
   {
    "duration": 5,
    "start_time": "2022-05-11T19:47:01.852Z"
   },
   {
    "duration": 56,
    "start_time": "2022-05-11T19:47:02.286Z"
   },
   {
    "duration": 71,
    "start_time": "2022-05-11T19:52:26.793Z"
   },
   {
    "duration": 88,
    "start_time": "2022-05-11T19:53:02.709Z"
   },
   {
    "duration": 53,
    "start_time": "2022-05-11T19:56:09.484Z"
   },
   {
    "duration": 4,
    "start_time": "2022-05-11T19:56:34.721Z"
   },
   {
    "duration": 289,
    "start_time": "2022-05-11T19:56:34.728Z"
   },
   {
    "duration": 255,
    "start_time": "2022-05-11T19:56:35.021Z"
   },
   {
    "duration": 24,
    "start_time": "2022-05-11T19:56:35.278Z"
   },
   {
    "duration": 40,
    "start_time": "2022-05-11T19:56:35.305Z"
   },
   {
    "duration": 11,
    "start_time": "2022-05-11T19:56:35.347Z"
   },
   {
    "duration": 23,
    "start_time": "2022-05-11T19:56:35.361Z"
   },
   {
    "duration": 33,
    "start_time": "2022-05-11T19:56:35.386Z"
   },
   {
    "duration": 52,
    "start_time": "2022-05-11T19:56:35.423Z"
   },
   {
    "duration": 52,
    "start_time": "2022-05-11T19:56:35.478Z"
   },
   {
    "duration": 60,
    "start_time": "2022-05-11T19:56:35.532Z"
   },
   {
    "duration": 160,
    "start_time": "2022-05-11T19:56:35.596Z"
   },
   {
    "duration": 135,
    "start_time": "2022-05-11T19:56:35.762Z"
   },
   {
    "duration": 106,
    "start_time": "2022-05-11T19:56:35.899Z"
   },
   {
    "duration": 88,
    "start_time": "2022-05-11T19:56:36.007Z"
   },
   {
    "duration": 27,
    "start_time": "2022-05-11T19:56:36.098Z"
   },
   {
    "duration": 134,
    "start_time": "2022-05-11T19:56:36.128Z"
   },
   {
    "duration": 110,
    "start_time": "2022-05-11T19:56:36.264Z"
   },
   {
    "duration": 21,
    "start_time": "2022-05-11T19:56:36.377Z"
   },
   {
    "duration": 19,
    "start_time": "2022-05-11T19:56:36.404Z"
   },
   {
    "duration": 10,
    "start_time": "2022-05-11T19:56:36.426Z"
   },
   {
    "duration": 5,
    "start_time": "2022-05-11T19:56:36.439Z"
   },
   {
    "duration": 58,
    "start_time": "2022-05-11T19:56:36.447Z"
   },
   {
    "duration": 25,
    "start_time": "2022-05-11T19:56:36.507Z"
   },
   {
    "duration": 17,
    "start_time": "2022-05-11T19:56:36.535Z"
   },
   {
    "duration": 51,
    "start_time": "2022-05-11T19:56:36.555Z"
   },
   {
    "duration": 28,
    "start_time": "2022-05-11T19:56:36.609Z"
   },
   {
    "duration": 18,
    "start_time": "2022-05-11T19:56:36.640Z"
   },
   {
    "duration": 9,
    "start_time": "2022-05-11T19:56:36.660Z"
   },
   {
    "duration": 64,
    "start_time": "2022-05-11T19:56:36.672Z"
   },
   {
    "duration": 64,
    "start_time": "2022-05-11T19:56:36.739Z"
   },
   {
    "duration": 12,
    "start_time": "2022-05-11T19:56:36.808Z"
   },
   {
    "duration": 5,
    "start_time": "2022-05-11T19:56:43.648Z"
   },
   {
    "duration": 234,
    "start_time": "2022-05-11T19:56:43.656Z"
   },
   {
    "duration": 228,
    "start_time": "2022-05-11T19:56:43.892Z"
   },
   {
    "duration": 10,
    "start_time": "2022-05-11T19:56:44.123Z"
   },
   {
    "duration": 9,
    "start_time": "2022-05-11T19:56:44.137Z"
   },
   {
    "duration": 9,
    "start_time": "2022-05-11T19:56:44.148Z"
   },
   {
    "duration": 63,
    "start_time": "2022-05-11T19:56:44.160Z"
   },
   {
    "duration": 17,
    "start_time": "2022-05-11T19:56:44.225Z"
   },
   {
    "duration": 58,
    "start_time": "2022-05-11T19:56:44.244Z"
   },
   {
    "duration": 58,
    "start_time": "2022-05-11T19:56:44.307Z"
   },
   {
    "duration": 63,
    "start_time": "2022-05-11T19:56:44.367Z"
   },
   {
    "duration": 111,
    "start_time": "2022-05-11T19:56:44.434Z"
   },
   {
    "duration": 149,
    "start_time": "2022-05-11T19:56:44.547Z"
   },
   {
    "duration": 131,
    "start_time": "2022-05-11T19:56:44.701Z"
   },
   {
    "duration": 91,
    "start_time": "2022-05-11T19:56:44.835Z"
   },
   {
    "duration": 28,
    "start_time": "2022-05-11T19:56:44.931Z"
   },
   {
    "duration": 156,
    "start_time": "2022-05-11T19:56:44.961Z"
   },
   {
    "duration": 113,
    "start_time": "2022-05-11T19:56:45.119Z"
   },
   {
    "duration": 19,
    "start_time": "2022-05-11T19:56:45.234Z"
   },
   {
    "duration": 42,
    "start_time": "2022-05-11T19:56:45.256Z"
   },
   {
    "duration": 6,
    "start_time": "2022-05-11T19:56:45.301Z"
   },
   {
    "duration": 26,
    "start_time": "2022-05-11T19:56:45.313Z"
   },
   {
    "duration": 32,
    "start_time": "2022-05-11T19:56:45.342Z"
   },
   {
    "duration": 33,
    "start_time": "2022-05-11T19:56:45.377Z"
   },
   {
    "duration": 32,
    "start_time": "2022-05-11T19:56:45.414Z"
   },
   {
    "duration": 21,
    "start_time": "2022-05-11T19:56:45.448Z"
   },
   {
    "duration": 48,
    "start_time": "2022-05-11T19:56:45.471Z"
   },
   {
    "duration": 26,
    "start_time": "2022-05-11T19:56:45.528Z"
   },
   {
    "duration": 10,
    "start_time": "2022-05-11T19:56:45.556Z"
   },
   {
    "duration": 52,
    "start_time": "2022-05-11T19:56:45.569Z"
   },
   {
    "duration": 48,
    "start_time": "2022-05-11T19:56:45.623Z"
   },
   {
    "duration": 4,
    "start_time": "2022-05-11T19:56:45.673Z"
   },
   {
    "duration": 15,
    "start_time": "2022-05-11T19:56:45.680Z"
   },
   {
    "duration": 4,
    "start_time": "2022-05-11T19:56:50.909Z"
   },
   {
    "duration": 264,
    "start_time": "2022-05-11T19:56:50.916Z"
   },
   {
    "duration": 232,
    "start_time": "2022-05-11T19:56:51.183Z"
   },
   {
    "duration": 10,
    "start_time": "2022-05-11T19:56:51.422Z"
   },
   {
    "duration": 6,
    "start_time": "2022-05-11T19:56:51.436Z"
   },
   {
    "duration": 9,
    "start_time": "2022-05-11T19:56:51.444Z"
   },
   {
    "duration": 26,
    "start_time": "2022-05-11T19:56:51.455Z"
   },
   {
    "duration": 30,
    "start_time": "2022-05-11T19:56:51.501Z"
   },
   {
    "duration": 38,
    "start_time": "2022-05-11T19:56:51.534Z"
   },
   {
    "duration": 45,
    "start_time": "2022-05-11T19:56:51.574Z"
   },
   {
    "duration": 43,
    "start_time": "2022-05-11T19:56:51.621Z"
   },
   {
    "duration": 112,
    "start_time": "2022-05-11T19:56:51.667Z"
   },
   {
    "duration": 143,
    "start_time": "2022-05-11T19:56:51.782Z"
   },
   {
    "duration": 106,
    "start_time": "2022-05-11T19:56:51.932Z"
   },
   {
    "duration": 104,
    "start_time": "2022-05-11T19:56:52.041Z"
   },
   {
    "duration": 26,
    "start_time": "2022-05-11T19:56:52.148Z"
   },
   {
    "duration": 136,
    "start_time": "2022-05-11T19:56:52.192Z"
   },
   {
    "duration": 118,
    "start_time": "2022-05-11T19:56:52.332Z"
   },
   {
    "duration": 26,
    "start_time": "2022-05-11T19:56:52.453Z"
   },
   {
    "duration": 40,
    "start_time": "2022-05-11T19:56:52.481Z"
   },
   {
    "duration": 14,
    "start_time": "2022-05-11T19:56:52.523Z"
   },
   {
    "duration": 8,
    "start_time": "2022-05-11T19:56:52.540Z"
   },
   {
    "duration": 27,
    "start_time": "2022-05-11T19:56:52.550Z"
   },
   {
    "duration": 30,
    "start_time": "2022-05-11T19:56:52.580Z"
   },
   {
    "duration": 41,
    "start_time": "2022-05-11T19:56:52.613Z"
   },
   {
    "duration": 17,
    "start_time": "2022-05-11T19:56:52.657Z"
   },
   {
    "duration": 39,
    "start_time": "2022-05-11T19:56:52.677Z"
   },
   {
    "duration": 39,
    "start_time": "2022-05-11T19:56:52.718Z"
   },
   {
    "duration": 9,
    "start_time": "2022-05-11T19:56:52.760Z"
   },
   {
    "duration": 53,
    "start_time": "2022-05-11T19:56:52.772Z"
   },
   {
    "duration": 57,
    "start_time": "2022-05-11T19:56:52.828Z"
   },
   {
    "duration": 5,
    "start_time": "2022-05-11T19:56:52.887Z"
   },
   {
    "duration": 54,
    "start_time": "2022-05-11T19:56:52.896Z"
   },
   {
    "duration": 51,
    "start_time": "2022-05-11T19:56:52.953Z"
   },
   {
    "duration": 7,
    "start_time": "2022-05-11T19:57:02.153Z"
   },
   {
    "duration": 4,
    "start_time": "2022-05-11T20:00:01.316Z"
   },
   {
    "duration": 283,
    "start_time": "2022-05-11T20:00:01.323Z"
   },
   {
    "duration": 187,
    "start_time": "2022-05-11T20:00:01.609Z"
   },
   {
    "duration": 12,
    "start_time": "2022-05-11T20:00:01.798Z"
   },
   {
    "duration": 10,
    "start_time": "2022-05-11T20:00:01.813Z"
   },
   {
    "duration": 11,
    "start_time": "2022-05-11T20:00:01.825Z"
   },
   {
    "duration": 30,
    "start_time": "2022-05-11T20:00:01.838Z"
   },
   {
    "duration": 31,
    "start_time": "2022-05-11T20:00:01.871Z"
   },
   {
    "duration": 41,
    "start_time": "2022-05-11T20:00:01.905Z"
   },
   {
    "duration": 61,
    "start_time": "2022-05-11T20:00:01.948Z"
   },
   {
    "duration": 33,
    "start_time": "2022-05-11T20:00:02.012Z"
   },
   {
    "duration": 145,
    "start_time": "2022-05-11T20:00:02.047Z"
   },
   {
    "duration": 114,
    "start_time": "2022-05-11T20:00:02.194Z"
   },
   {
    "duration": 97,
    "start_time": "2022-05-11T20:00:02.310Z"
   },
   {
    "duration": 85,
    "start_time": "2022-05-11T20:00:02.410Z"
   },
   {
    "duration": 25,
    "start_time": "2022-05-11T20:00:02.497Z"
   },
   {
    "duration": 125,
    "start_time": "2022-05-11T20:00:02.524Z"
   },
   {
    "duration": 96,
    "start_time": "2022-05-11T20:00:02.652Z"
   },
   {
    "duration": 15,
    "start_time": "2022-05-11T20:00:02.750Z"
   },
   {
    "duration": 43,
    "start_time": "2022-05-11T20:00:02.767Z"
   },
   {
    "duration": 19,
    "start_time": "2022-05-11T20:00:02.812Z"
   },
   {
    "duration": 26,
    "start_time": "2022-05-11T20:00:02.834Z"
   },
   {
    "duration": 26,
    "start_time": "2022-05-11T20:00:02.862Z"
   },
   {
    "duration": 23,
    "start_time": "2022-05-11T20:00:02.891Z"
   },
   {
    "duration": 23,
    "start_time": "2022-05-11T20:00:02.916Z"
   },
   {
    "duration": 22,
    "start_time": "2022-05-11T20:00:02.941Z"
   },
   {
    "duration": 40,
    "start_time": "2022-05-11T20:00:02.966Z"
   },
   {
    "duration": 19,
    "start_time": "2022-05-11T20:00:03.008Z"
   },
   {
    "duration": 9,
    "start_time": "2022-05-11T20:00:03.031Z"
   },
   {
    "duration": 68,
    "start_time": "2022-05-11T20:00:03.042Z"
   },
   {
    "duration": 27,
    "start_time": "2022-05-11T20:00:03.112Z"
   },
   {
    "duration": 4,
    "start_time": "2022-05-11T20:00:03.141Z"
   },
   {
    "duration": 21,
    "start_time": "2022-05-11T20:00:03.147Z"
   },
   {
    "duration": 29,
    "start_time": "2022-05-11T20:00:07.413Z"
   },
   {
    "duration": 28,
    "start_time": "2022-05-11T20:04:25.730Z"
   },
   {
    "duration": 30,
    "start_time": "2022-05-11T20:05:14.826Z"
   },
   {
    "duration": 34,
    "start_time": "2022-05-11T20:05:50.887Z"
   },
   {
    "duration": 16,
    "start_time": "2022-05-11T20:09:42.242Z"
   },
   {
    "duration": 14,
    "start_time": "2022-05-11T20:11:34.462Z"
   },
   {
    "duration": 16,
    "start_time": "2022-05-11T20:11:49.152Z"
   },
   {
    "duration": 21,
    "start_time": "2022-05-11T20:13:01.126Z"
   },
   {
    "duration": 3,
    "start_time": "2022-05-11T20:14:07.124Z"
   },
   {
    "duration": 226,
    "start_time": "2022-05-11T20:14:07.130Z"
   },
   {
    "duration": 189,
    "start_time": "2022-05-11T20:14:07.358Z"
   },
   {
    "duration": 9,
    "start_time": "2022-05-11T20:14:07.549Z"
   },
   {
    "duration": 6,
    "start_time": "2022-05-11T20:14:07.561Z"
   },
   {
    "duration": 33,
    "start_time": "2022-05-11T20:14:07.569Z"
   },
   {
    "duration": 37,
    "start_time": "2022-05-11T20:14:07.605Z"
   },
   {
    "duration": 8,
    "start_time": "2022-05-11T20:14:07.644Z"
   },
   {
    "duration": 50,
    "start_time": "2022-05-11T20:14:07.655Z"
   },
   {
    "duration": 47,
    "start_time": "2022-05-11T20:14:07.708Z"
   },
   {
    "duration": 47,
    "start_time": "2022-05-11T20:14:07.757Z"
   },
   {
    "duration": 93,
    "start_time": "2022-05-11T20:14:07.807Z"
   },
   {
    "duration": 128,
    "start_time": "2022-05-11T20:14:07.903Z"
   },
   {
    "duration": 93,
    "start_time": "2022-05-11T20:14:08.035Z"
   },
   {
    "duration": 88,
    "start_time": "2022-05-11T20:14:08.130Z"
   },
   {
    "duration": 22,
    "start_time": "2022-05-11T20:14:08.221Z"
   },
   {
    "duration": 142,
    "start_time": "2022-05-11T20:14:08.245Z"
   },
   {
    "duration": 91,
    "start_time": "2022-05-11T20:14:08.389Z"
   },
   {
    "duration": 31,
    "start_time": "2022-05-11T20:14:08.482Z"
   },
   {
    "duration": 23,
    "start_time": "2022-05-11T20:14:08.516Z"
   },
   {
    "duration": 5,
    "start_time": "2022-05-11T20:14:08.542Z"
   },
   {
    "duration": 43,
    "start_time": "2022-05-11T20:14:08.550Z"
   },
   {
    "duration": 43,
    "start_time": "2022-05-11T20:14:08.596Z"
   },
   {
    "duration": 20,
    "start_time": "2022-05-11T20:14:08.641Z"
   },
   {
    "duration": 36,
    "start_time": "2022-05-11T20:14:08.663Z"
   },
   {
    "duration": 32,
    "start_time": "2022-05-11T20:14:08.704Z"
   },
   {
    "duration": 21,
    "start_time": "2022-05-11T20:14:08.738Z"
   },
   {
    "duration": 43,
    "start_time": "2022-05-11T20:14:08.761Z"
   },
   {
    "duration": 17,
    "start_time": "2022-05-11T20:14:08.806Z"
   },
   {
    "duration": 97,
    "start_time": "2022-05-11T20:14:08.825Z"
   },
   {
    "duration": 28,
    "start_time": "2022-05-11T20:14:08.924Z"
   },
   {
    "duration": 4,
    "start_time": "2022-05-11T20:14:08.955Z"
   },
   {
    "duration": 18,
    "start_time": "2022-05-11T20:14:08.961Z"
   },
   {
    "duration": 45,
    "start_time": "2022-05-11T20:14:08.981Z"
   },
   {
    "duration": 16,
    "start_time": "2022-05-11T20:14:09.029Z"
   },
   {
    "duration": 20,
    "start_time": "2022-05-11T20:14:09.047Z"
   },
   {
    "duration": 18,
    "start_time": "2022-05-11T20:14:09.093Z"
   },
   {
    "duration": 6,
    "start_time": "2022-05-11T20:14:20.689Z"
   },
   {
    "duration": 291,
    "start_time": "2022-05-11T20:14:20.699Z"
   },
   {
    "duration": 216,
    "start_time": "2022-05-11T20:14:20.993Z"
   },
   {
    "duration": 13,
    "start_time": "2022-05-11T20:14:21.212Z"
   },
   {
    "duration": 7,
    "start_time": "2022-05-11T20:14:21.229Z"
   },
   {
    "duration": 13,
    "start_time": "2022-05-11T20:14:21.239Z"
   },
   {
    "duration": 49,
    "start_time": "2022-05-11T20:14:21.255Z"
   },
   {
    "duration": 33,
    "start_time": "2022-05-11T20:14:21.306Z"
   },
   {
    "duration": 38,
    "start_time": "2022-05-11T20:14:21.341Z"
   },
   {
    "duration": 59,
    "start_time": "2022-05-11T20:14:21.382Z"
   },
   {
    "duration": 51,
    "start_time": "2022-05-11T20:14:21.443Z"
   },
   {
    "duration": 119,
    "start_time": "2022-05-11T20:14:21.497Z"
   },
   {
    "duration": 140,
    "start_time": "2022-05-11T20:14:21.619Z"
   },
   {
    "duration": 110,
    "start_time": "2022-05-11T20:14:21.764Z"
   },
   {
    "duration": 100,
    "start_time": "2022-05-11T20:14:21.877Z"
   },
   {
    "duration": 34,
    "start_time": "2022-05-11T20:14:21.979Z"
   },
   {
    "duration": 130,
    "start_time": "2022-05-11T20:14:22.016Z"
   },
   {
    "duration": 109,
    "start_time": "2022-05-11T20:14:22.148Z"
   },
   {
    "duration": 37,
    "start_time": "2022-05-11T20:14:22.259Z"
   },
   {
    "duration": 26,
    "start_time": "2022-05-11T20:14:22.299Z"
   },
   {
    "duration": 6,
    "start_time": "2022-05-11T20:14:22.329Z"
   },
   {
    "duration": 5,
    "start_time": "2022-05-11T20:14:22.339Z"
   },
   {
    "duration": 53,
    "start_time": "2022-05-11T20:14:22.346Z"
   },
   {
    "duration": 31,
    "start_time": "2022-05-11T20:14:22.405Z"
   },
   {
    "duration": 28,
    "start_time": "2022-05-11T20:14:22.438Z"
   },
   {
    "duration": 57,
    "start_time": "2022-05-11T20:14:22.470Z"
   },
   {
    "duration": 22,
    "start_time": "2022-05-11T20:14:22.529Z"
   },
   {
    "duration": 40,
    "start_time": "2022-05-11T20:14:22.553Z"
   },
   {
    "duration": 14,
    "start_time": "2022-05-11T20:14:22.596Z"
   },
   {
    "duration": 49,
    "start_time": "2022-05-11T20:14:22.613Z"
   },
   {
    "duration": 59,
    "start_time": "2022-05-11T20:14:22.664Z"
   },
   {
    "duration": 5,
    "start_time": "2022-05-11T20:14:22.726Z"
   },
   {
    "duration": 11,
    "start_time": "2022-05-11T20:14:22.735Z"
   },
   {
    "duration": 52,
    "start_time": "2022-05-11T20:14:22.748Z"
   },
   {
    "duration": 23,
    "start_time": "2022-05-11T20:14:22.802Z"
   },
   {
    "duration": 24,
    "start_time": "2022-05-11T20:14:22.827Z"
   },
   {
    "duration": 46,
    "start_time": "2022-05-11T20:14:22.854Z"
   },
   {
    "duration": 4,
    "start_time": "2022-05-11T20:15:50.815Z"
   },
   {
    "duration": 221,
    "start_time": "2022-05-11T20:15:50.822Z"
   },
   {
    "duration": 203,
    "start_time": "2022-05-11T20:15:51.045Z"
   },
   {
    "duration": 11,
    "start_time": "2022-05-11T20:15:51.252Z"
   },
   {
    "duration": 8,
    "start_time": "2022-05-11T20:15:51.266Z"
   },
   {
    "duration": 8,
    "start_time": "2022-05-11T20:15:51.296Z"
   },
   {
    "duration": 26,
    "start_time": "2022-05-11T20:15:51.307Z"
   },
   {
    "duration": 8,
    "start_time": "2022-05-11T20:15:51.336Z"
   },
   {
    "duration": 71,
    "start_time": "2022-05-11T20:15:51.348Z"
   },
   {
    "duration": 37,
    "start_time": "2022-05-11T20:15:51.422Z"
   },
   {
    "duration": 62,
    "start_time": "2022-05-11T20:15:51.462Z"
   },
   {
    "duration": 107,
    "start_time": "2022-05-11T20:15:51.527Z"
   },
   {
    "duration": 141,
    "start_time": "2022-05-11T20:15:51.637Z"
   },
   {
    "duration": 102,
    "start_time": "2022-05-11T20:15:51.781Z"
   },
   {
    "duration": 73,
    "start_time": "2022-05-11T20:15:51.894Z"
   },
   {
    "duration": 50,
    "start_time": "2022-05-11T20:15:51.969Z"
   },
   {
    "duration": 130,
    "start_time": "2022-05-11T20:15:52.022Z"
   },
   {
    "duration": 111,
    "start_time": "2022-05-11T20:15:52.155Z"
   },
   {
    "duration": 38,
    "start_time": "2022-05-11T20:15:52.269Z"
   },
   {
    "duration": 20,
    "start_time": "2022-05-11T20:15:52.309Z"
   },
   {
    "duration": 4,
    "start_time": "2022-05-11T20:15:52.332Z"
   },
   {
    "duration": 14,
    "start_time": "2022-05-11T20:15:52.338Z"
   },
   {
    "duration": 55,
    "start_time": "2022-05-11T20:15:52.354Z"
   },
   {
    "duration": 21,
    "start_time": "2022-05-11T20:15:52.413Z"
   },
   {
    "duration": 18,
    "start_time": "2022-05-11T20:15:52.436Z"
   },
   {
    "duration": 50,
    "start_time": "2022-05-11T20:15:52.457Z"
   },
   {
    "duration": 30,
    "start_time": "2022-05-11T20:15:52.511Z"
   },
   {
    "duration": 21,
    "start_time": "2022-05-11T20:15:52.544Z"
   },
   {
    "duration": 12,
    "start_time": "2022-05-11T20:15:52.593Z"
   },
   {
    "duration": 48,
    "start_time": "2022-05-11T20:15:52.608Z"
   },
   {
    "duration": 50,
    "start_time": "2022-05-11T20:15:52.658Z"
   },
   {
    "duration": 5,
    "start_time": "2022-05-11T20:15:52.711Z"
   },
   {
    "duration": 15,
    "start_time": "2022-05-11T20:15:52.718Z"
   },
   {
    "duration": 26,
    "start_time": "2022-05-11T20:15:52.735Z"
   },
   {
    "duration": 42,
    "start_time": "2022-05-11T20:15:52.763Z"
   },
   {
    "duration": 24,
    "start_time": "2022-05-11T20:15:52.808Z"
   },
   {
    "duration": 15,
    "start_time": "2022-05-11T20:15:52.835Z"
   },
   {
    "duration": 104,
    "start_time": "2022-05-11T20:15:52.852Z"
   },
   {
    "duration": 16,
    "start_time": "2022-05-11T20:15:52.959Z"
   },
   {
    "duration": 16,
    "start_time": "2022-05-11T20:16:10.950Z"
   },
   {
    "duration": 17,
    "start_time": "2022-05-11T20:17:50.646Z"
   },
   {
    "duration": 17,
    "start_time": "2022-05-11T20:17:55.259Z"
   },
   {
    "duration": 4,
    "start_time": "2022-05-11T20:19:37.439Z"
   },
   {
    "duration": 225,
    "start_time": "2022-05-11T20:19:37.446Z"
   },
   {
    "duration": 172,
    "start_time": "2022-05-11T20:19:37.673Z"
   },
   {
    "duration": 9,
    "start_time": "2022-05-11T20:19:37.847Z"
   },
   {
    "duration": 4,
    "start_time": "2022-05-11T20:19:37.859Z"
   },
   {
    "duration": 28,
    "start_time": "2022-05-11T20:19:37.865Z"
   },
   {
    "duration": 30,
    "start_time": "2022-05-11T20:19:37.895Z"
   },
   {
    "duration": 6,
    "start_time": "2022-05-11T20:19:37.927Z"
   },
   {
    "duration": 36,
    "start_time": "2022-05-11T20:19:37.935Z"
   },
   {
    "duration": 42,
    "start_time": "2022-05-11T20:19:37.993Z"
   },
   {
    "duration": 31,
    "start_time": "2022-05-11T20:19:38.037Z"
   },
   {
    "duration": 101,
    "start_time": "2022-05-11T20:19:38.070Z"
   },
   {
    "duration": 124,
    "start_time": "2022-05-11T20:19:38.176Z"
   },
   {
    "duration": 81,
    "start_time": "2022-05-11T20:19:38.302Z"
   },
   {
    "duration": 74,
    "start_time": "2022-05-11T20:19:38.385Z"
   },
   {
    "duration": 46,
    "start_time": "2022-05-11T20:19:38.461Z"
   },
   {
    "duration": 116,
    "start_time": "2022-05-11T20:19:38.509Z"
   },
   {
    "duration": 95,
    "start_time": "2022-05-11T20:19:38.628Z"
   },
   {
    "duration": 16,
    "start_time": "2022-05-11T20:19:38.725Z"
   },
   {
    "duration": 16,
    "start_time": "2022-05-11T20:19:38.743Z"
   },
   {
    "duration": 4,
    "start_time": "2022-05-11T20:19:38.762Z"
   },
   {
    "duration": 7,
    "start_time": "2022-05-11T20:19:38.794Z"
   },
   {
    "duration": 30,
    "start_time": "2022-05-11T20:19:38.802Z"
   },
   {
    "duration": 20,
    "start_time": "2022-05-11T20:19:38.834Z"
   },
   {
    "duration": 48,
    "start_time": "2022-05-11T20:19:38.856Z"
   },
   {
    "duration": 18,
    "start_time": "2022-05-11T20:19:38.907Z"
   },
   {
    "duration": 20,
    "start_time": "2022-05-11T20:19:38.927Z"
   },
   {
    "duration": 47,
    "start_time": "2022-05-11T20:19:38.949Z"
   },
   {
    "duration": 15,
    "start_time": "2022-05-11T20:19:38.998Z"
   },
   {
    "duration": 32,
    "start_time": "2022-05-11T20:19:39.015Z"
   },
   {
    "duration": 56,
    "start_time": "2022-05-11T20:19:39.049Z"
   },
   {
    "duration": 4,
    "start_time": "2022-05-11T20:19:39.107Z"
   },
   {
    "duration": 10,
    "start_time": "2022-05-11T20:19:39.113Z"
   },
   {
    "duration": 24,
    "start_time": "2022-05-11T20:19:39.125Z"
   },
   {
    "duration": 45,
    "start_time": "2022-05-11T20:19:39.152Z"
   },
   {
    "duration": 23,
    "start_time": "2022-05-11T20:19:39.199Z"
   },
   {
    "duration": 14,
    "start_time": "2022-05-11T20:19:39.226Z"
   },
   {
    "duration": 69,
    "start_time": "2022-05-11T20:19:39.242Z"
   },
   {
    "duration": 0,
    "start_time": "2022-05-11T20:19:39.313Z"
   },
   {
    "duration": 38,
    "start_time": "2022-05-11T20:19:51.219Z"
   },
   {
    "duration": 66,
    "start_time": "2022-05-11T20:20:25.206Z"
   },
   {
    "duration": 3,
    "start_time": "2022-05-11T20:20:33.926Z"
   },
   {
    "duration": 274,
    "start_time": "2022-05-11T20:20:33.932Z"
   },
   {
    "duration": 178,
    "start_time": "2022-05-11T20:20:34.208Z"
   },
   {
    "duration": 10,
    "start_time": "2022-05-11T20:20:34.392Z"
   },
   {
    "duration": 6,
    "start_time": "2022-05-11T20:20:34.406Z"
   },
   {
    "duration": 11,
    "start_time": "2022-05-11T20:20:34.414Z"
   },
   {
    "duration": 24,
    "start_time": "2022-05-11T20:20:34.427Z"
   },
   {
    "duration": 8,
    "start_time": "2022-05-11T20:20:34.454Z"
   },
   {
    "duration": 40,
    "start_time": "2022-05-11T20:20:34.494Z"
   },
   {
    "duration": 73,
    "start_time": "2022-05-11T20:20:34.537Z"
   },
   {
    "duration": 33,
    "start_time": "2022-05-11T20:20:34.612Z"
   },
   {
    "duration": 119,
    "start_time": "2022-05-11T20:20:34.647Z"
   },
   {
    "duration": 124,
    "start_time": "2022-05-11T20:20:34.769Z"
   },
   {
    "duration": 105,
    "start_time": "2022-05-11T20:20:34.899Z"
   },
   {
    "duration": 72,
    "start_time": "2022-05-11T20:20:35.006Z"
   },
   {
    "duration": 35,
    "start_time": "2022-05-11T20:20:35.080Z"
   },
   {
    "duration": 131,
    "start_time": "2022-05-11T20:20:35.118Z"
   },
   {
    "duration": 108,
    "start_time": "2022-05-11T20:20:35.252Z"
   },
   {
    "duration": 18,
    "start_time": "2022-05-11T20:20:35.362Z"
   },
   {
    "duration": 20,
    "start_time": "2022-05-11T20:20:35.393Z"
   },
   {
    "duration": 14,
    "start_time": "2022-05-11T20:20:35.415Z"
   },
   {
    "duration": 6,
    "start_time": "2022-05-11T20:20:35.431Z"
   },
   {
    "duration": 34,
    "start_time": "2022-05-11T20:20:35.440Z"
   },
   {
    "duration": 34,
    "start_time": "2022-05-11T20:20:35.477Z"
   },
   {
    "duration": 20,
    "start_time": "2022-05-11T20:20:35.514Z"
   },
   {
    "duration": 18,
    "start_time": "2022-05-11T20:20:35.536Z"
   },
   {
    "duration": 55,
    "start_time": "2022-05-11T20:20:35.556Z"
   },
   {
    "duration": 23,
    "start_time": "2022-05-11T20:20:35.614Z"
   },
   {
    "duration": 10,
    "start_time": "2022-05-11T20:20:35.640Z"
   },
   {
    "duration": 67,
    "start_time": "2022-05-11T20:20:35.652Z"
   },
   {
    "duration": 30,
    "start_time": "2022-05-11T20:20:35.721Z"
   },
   {
    "duration": 4,
    "start_time": "2022-05-11T20:20:35.754Z"
   },
   {
    "duration": 40,
    "start_time": "2022-05-11T20:20:35.761Z"
   },
   {
    "duration": 57,
    "start_time": "2022-05-11T20:20:35.805Z"
   },
   {
    "duration": 41,
    "start_time": "2022-05-11T20:20:35.864Z"
   },
   {
    "duration": 25,
    "start_time": "2022-05-11T20:20:35.908Z"
   },
   {
    "duration": 14,
    "start_time": "2022-05-11T20:20:35.936Z"
   },
   {
    "duration": 99,
    "start_time": "2022-05-11T20:20:35.952Z"
   },
   {
    "duration": 17,
    "start_time": "2022-05-11T20:20:36.053Z"
   },
   {
    "duration": 17,
    "start_time": "2022-05-11T20:21:16.120Z"
   },
   {
    "duration": 3,
    "start_time": "2022-05-11T20:21:27.766Z"
   },
   {
    "duration": 251,
    "start_time": "2022-05-11T20:21:27.771Z"
   },
   {
    "duration": 207,
    "start_time": "2022-05-11T20:21:28.028Z"
   },
   {
    "duration": 9,
    "start_time": "2022-05-11T20:21:28.238Z"
   },
   {
    "duration": 10,
    "start_time": "2022-05-11T20:21:28.250Z"
   },
   {
    "duration": 10,
    "start_time": "2022-05-11T20:21:28.263Z"
   },
   {
    "duration": 30,
    "start_time": "2022-05-11T20:21:28.298Z"
   },
   {
    "duration": 6,
    "start_time": "2022-05-11T20:21:28.330Z"
   },
   {
    "duration": 55,
    "start_time": "2022-05-11T20:21:28.339Z"
   },
   {
    "duration": 42,
    "start_time": "2022-05-11T20:21:28.400Z"
   },
   {
    "duration": 55,
    "start_time": "2022-05-11T20:21:28.445Z"
   },
   {
    "duration": 117,
    "start_time": "2022-05-11T20:21:28.502Z"
   },
   {
    "duration": 119,
    "start_time": "2022-05-11T20:21:28.627Z"
   },
   {
    "duration": 105,
    "start_time": "2022-05-11T20:21:28.751Z"
   },
   {
    "duration": 98,
    "start_time": "2022-05-11T20:21:28.860Z"
   },
   {
    "duration": 39,
    "start_time": "2022-05-11T20:21:28.960Z"
   },
   {
    "duration": 128,
    "start_time": "2022-05-11T20:21:29.001Z"
   },
   {
    "duration": 100,
    "start_time": "2022-05-11T20:21:29.131Z"
   },
   {
    "duration": 16,
    "start_time": "2022-05-11T20:21:29.233Z"
   },
   {
    "duration": 16,
    "start_time": "2022-05-11T20:21:29.251Z"
   },
   {
    "duration": 5,
    "start_time": "2022-05-11T20:21:29.293Z"
   },
   {
    "duration": 26,
    "start_time": "2022-05-11T20:21:29.300Z"
   },
   {
    "duration": 23,
    "start_time": "2022-05-11T20:21:29.328Z"
   },
   {
    "duration": 19,
    "start_time": "2022-05-11T20:21:29.353Z"
   },
   {
    "duration": 38,
    "start_time": "2022-05-11T20:21:29.374Z"
   },
   {
    "duration": 36,
    "start_time": "2022-05-11T20:21:29.414Z"
   },
   {
    "duration": 22,
    "start_time": "2022-05-11T20:21:29.452Z"
   },
   {
    "duration": 26,
    "start_time": "2022-05-11T20:21:29.493Z"
   },
   {
    "duration": 14,
    "start_time": "2022-05-11T20:21:29.522Z"
   },
   {
    "duration": 31,
    "start_time": "2022-05-11T20:21:29.538Z"
   },
   {
    "duration": 39,
    "start_time": "2022-05-11T20:21:29.596Z"
   },
   {
    "duration": 4,
    "start_time": "2022-05-11T20:21:29.637Z"
   },
   {
    "duration": 10,
    "start_time": "2022-05-11T20:21:29.643Z"
   },
   {
    "duration": 56,
    "start_time": "2022-05-11T20:21:29.655Z"
   },
   {
    "duration": 30,
    "start_time": "2022-05-11T20:21:29.714Z"
   },
   {
    "duration": 20,
    "start_time": "2022-05-11T20:21:29.746Z"
   },
   {
    "duration": 33,
    "start_time": "2022-05-11T20:21:29.768Z"
   },
   {
    "duration": 89,
    "start_time": "2022-05-11T20:21:29.804Z"
   },
   {
    "duration": 27,
    "start_time": "2022-05-11T20:21:29.896Z"
   },
   {
    "duration": 4,
    "start_time": "2022-05-11T20:24:08.303Z"
   },
   {
    "duration": 314,
    "start_time": "2022-05-11T20:24:08.310Z"
   },
   {
    "duration": 178,
    "start_time": "2022-05-11T20:24:08.626Z"
   },
   {
    "duration": 10,
    "start_time": "2022-05-11T20:24:08.806Z"
   },
   {
    "duration": 8,
    "start_time": "2022-05-11T20:24:08.819Z"
   },
   {
    "duration": 8,
    "start_time": "2022-05-11T20:24:08.829Z"
   },
   {
    "duration": 24,
    "start_time": "2022-05-11T20:24:08.839Z"
   },
   {
    "duration": 44,
    "start_time": "2022-05-11T20:24:08.865Z"
   },
   {
    "duration": 35,
    "start_time": "2022-05-11T20:24:08.911Z"
   },
   {
    "duration": 48,
    "start_time": "2022-05-11T20:24:08.948Z"
   },
   {
    "duration": 38,
    "start_time": "2022-05-11T20:24:08.999Z"
   },
   {
    "duration": 108,
    "start_time": "2022-05-11T20:24:09.039Z"
   },
   {
    "duration": 114,
    "start_time": "2022-05-11T20:24:09.149Z"
   },
   {
    "duration": 103,
    "start_time": "2022-05-11T20:24:09.267Z"
   },
   {
    "duration": 86,
    "start_time": "2022-05-11T20:24:09.372Z"
   },
   {
    "duration": 35,
    "start_time": "2022-05-11T20:24:09.460Z"
   },
   {
    "duration": 114,
    "start_time": "2022-05-11T20:24:09.498Z"
   },
   {
    "duration": 93,
    "start_time": "2022-05-11T20:24:09.615Z"
   },
   {
    "duration": 19,
    "start_time": "2022-05-11T20:24:09.711Z"
   },
   {
    "duration": 18,
    "start_time": "2022-05-11T20:24:09.732Z"
   },
   {
    "duration": 4,
    "start_time": "2022-05-11T20:24:09.753Z"
   },
   {
    "duration": 11,
    "start_time": "2022-05-11T20:24:09.792Z"
   },
   {
    "duration": 26,
    "start_time": "2022-05-11T20:24:09.807Z"
   },
   {
    "duration": 19,
    "start_time": "2022-05-11T20:24:09.835Z"
   },
   {
    "duration": 48,
    "start_time": "2022-05-11T20:24:09.856Z"
   },
   {
    "duration": 19,
    "start_time": "2022-05-11T20:24:09.906Z"
   },
   {
    "duration": 21,
    "start_time": "2022-05-11T20:24:09.928Z"
   },
   {
    "duration": 54,
    "start_time": "2022-05-11T20:24:09.951Z"
   },
   {
    "duration": 9,
    "start_time": "2022-05-11T20:24:10.008Z"
   },
   {
    "duration": 36,
    "start_time": "2022-05-11T20:24:10.020Z"
   },
   {
    "duration": 52,
    "start_time": "2022-05-11T20:24:10.058Z"
   },
   {
    "duration": 4,
    "start_time": "2022-05-11T20:24:10.113Z"
   },
   {
    "duration": 12,
    "start_time": "2022-05-11T20:24:10.119Z"
   },
   {
    "duration": 25,
    "start_time": "2022-05-11T20:24:10.133Z"
   },
   {
    "duration": 48,
    "start_time": "2022-05-11T20:24:10.161Z"
   },
   {
    "duration": 22,
    "start_time": "2022-05-11T20:24:10.211Z"
   },
   {
    "duration": 45,
    "start_time": "2022-05-11T20:24:10.235Z"
   },
   {
    "duration": 75,
    "start_time": "2022-05-11T20:24:10.282Z"
   },
   {
    "duration": 16,
    "start_time": "2022-05-11T20:24:10.359Z"
   },
   {
    "duration": 39,
    "start_time": "2022-05-11T20:24:10.393Z"
   },
   {
    "duration": 10,
    "start_time": "2022-05-11T20:24:10.436Z"
   },
   {
    "duration": 3,
    "start_time": "2022-05-11T20:25:58.751Z"
   },
   {
    "duration": 216,
    "start_time": "2022-05-11T20:25:58.757Z"
   },
   {
    "duration": 167,
    "start_time": "2022-05-11T20:25:58.975Z"
   },
   {
    "duration": 9,
    "start_time": "2022-05-11T20:25:59.146Z"
   },
   {
    "duration": 7,
    "start_time": "2022-05-11T20:25:59.158Z"
   },
   {
    "duration": 27,
    "start_time": "2022-05-11T20:25:59.167Z"
   },
   {
    "duration": 21,
    "start_time": "2022-05-11T20:25:59.197Z"
   },
   {
    "duration": 8,
    "start_time": "2022-05-11T20:25:59.221Z"
   },
   {
    "duration": 65,
    "start_time": "2022-05-11T20:25:59.234Z"
   },
   {
    "duration": 35,
    "start_time": "2022-05-11T20:25:59.301Z"
   },
   {
    "duration": 61,
    "start_time": "2022-05-11T20:25:59.339Z"
   },
   {
    "duration": 98,
    "start_time": "2022-05-11T20:25:59.403Z"
   },
   {
    "duration": 111,
    "start_time": "2022-05-11T20:25:59.504Z"
   },
   {
    "duration": 84,
    "start_time": "2022-05-11T20:25:59.617Z"
   },
   {
    "duration": 67,
    "start_time": "2022-05-11T20:25:59.703Z"
   },
   {
    "duration": 38,
    "start_time": "2022-05-11T20:25:59.772Z"
   },
   {
    "duration": 118,
    "start_time": "2022-05-11T20:25:59.813Z"
   },
   {
    "duration": 90,
    "start_time": "2022-05-11T20:25:59.933Z"
   },
   {
    "duration": 17,
    "start_time": "2022-05-11T20:26:00.025Z"
   },
   {
    "duration": 16,
    "start_time": "2022-05-11T20:26:00.044Z"
   },
   {
    "duration": 31,
    "start_time": "2022-05-11T20:26:00.062Z"
   },
   {
    "duration": 4,
    "start_time": "2022-05-11T20:26:00.095Z"
   },
   {
    "duration": 28,
    "start_time": "2022-05-11T20:26:00.101Z"
   },
   {
    "duration": 20,
    "start_time": "2022-05-11T20:26:00.134Z"
   },
   {
    "duration": 47,
    "start_time": "2022-05-11T20:26:00.156Z"
   },
   {
    "duration": 16,
    "start_time": "2022-05-11T20:26:00.205Z"
   },
   {
    "duration": 32,
    "start_time": "2022-05-11T20:26:00.223Z"
   },
   {
    "duration": 40,
    "start_time": "2022-05-11T20:26:00.257Z"
   },
   {
    "duration": 9,
    "start_time": "2022-05-11T20:26:00.300Z"
   },
   {
    "duration": 41,
    "start_time": "2022-05-11T20:26:00.311Z"
   },
   {
    "duration": 47,
    "start_time": "2022-05-11T20:26:00.354Z"
   },
   {
    "duration": 5,
    "start_time": "2022-05-11T20:26:00.403Z"
   },
   {
    "duration": 15,
    "start_time": "2022-05-11T20:26:00.410Z"
   },
   {
    "duration": 44,
    "start_time": "2022-05-11T20:26:00.427Z"
   },
   {
    "duration": 20,
    "start_time": "2022-05-11T20:26:00.474Z"
   },
   {
    "duration": 21,
    "start_time": "2022-05-11T20:26:00.496Z"
   },
   {
    "duration": 15,
    "start_time": "2022-05-11T20:26:00.519Z"
   },
   {
    "duration": 94,
    "start_time": "2022-05-11T20:26:00.536Z"
   },
   {
    "duration": 19,
    "start_time": "2022-05-11T20:26:00.632Z"
   },
   {
    "duration": 52,
    "start_time": "2022-05-11T20:26:00.653Z"
   },
   {
    "duration": 16,
    "start_time": "2022-05-11T20:26:00.707Z"
   },
   {
    "duration": 17,
    "start_time": "2022-05-11T20:26:41.895Z"
   },
   {
    "duration": 4,
    "start_time": "2022-05-11T20:26:51.173Z"
   },
   {
    "duration": 304,
    "start_time": "2022-05-11T20:26:51.181Z"
   },
   {
    "duration": 274,
    "start_time": "2022-05-11T20:26:51.488Z"
   },
   {
    "duration": 12,
    "start_time": "2022-05-11T20:26:51.765Z"
   },
   {
    "duration": 3,
    "start_time": "2022-05-11T20:26:51.793Z"
   },
   {
    "duration": 11,
    "start_time": "2022-05-11T20:26:51.799Z"
   },
   {
    "duration": 20,
    "start_time": "2022-05-11T20:26:51.812Z"
   },
   {
    "duration": 8,
    "start_time": "2022-05-11T20:26:51.834Z"
   },
   {
    "duration": 76,
    "start_time": "2022-05-11T20:26:51.845Z"
   },
   {
    "duration": 34,
    "start_time": "2022-05-11T20:26:51.923Z"
   },
   {
    "duration": 57,
    "start_time": "2022-05-11T20:26:51.959Z"
   },
   {
    "duration": 98,
    "start_time": "2022-05-11T20:26:52.018Z"
   },
   {
    "duration": 113,
    "start_time": "2022-05-11T20:26:52.118Z"
   },
   {
    "duration": 88,
    "start_time": "2022-05-11T20:26:52.236Z"
   },
   {
    "duration": 78,
    "start_time": "2022-05-11T20:26:52.326Z"
   },
   {
    "duration": 22,
    "start_time": "2022-05-11T20:26:52.406Z"
   },
   {
    "duration": 124,
    "start_time": "2022-05-11T20:26:52.430Z"
   },
   {
    "duration": 89,
    "start_time": "2022-05-11T20:26:52.556Z"
   },
   {
    "duration": 15,
    "start_time": "2022-05-11T20:26:52.647Z"
   },
   {
    "duration": 35,
    "start_time": "2022-05-11T20:26:52.665Z"
   },
   {
    "duration": 4,
    "start_time": "2022-05-11T20:26:52.702Z"
   },
   {
    "duration": 5,
    "start_time": "2022-05-11T20:26:52.709Z"
   },
   {
    "duration": 23,
    "start_time": "2022-05-11T20:26:52.716Z"
   },
   {
    "duration": 60,
    "start_time": "2022-05-11T20:26:52.741Z"
   },
   {
    "duration": 18,
    "start_time": "2022-05-11T20:26:52.803Z"
   },
   {
    "duration": 17,
    "start_time": "2022-05-11T20:26:52.823Z"
   },
   {
    "duration": 61,
    "start_time": "2022-05-11T20:26:52.842Z"
   },
   {
    "duration": 18,
    "start_time": "2022-05-11T20:26:52.905Z"
   },
   {
    "duration": 9,
    "start_time": "2022-05-11T20:26:52.925Z"
   },
   {
    "duration": 65,
    "start_time": "2022-05-11T20:26:52.937Z"
   },
   {
    "duration": 31,
    "start_time": "2022-05-11T20:26:53.005Z"
   },
   {
    "duration": 5,
    "start_time": "2022-05-11T20:26:53.038Z"
   },
   {
    "duration": 11,
    "start_time": "2022-05-11T20:26:53.046Z"
   },
   {
    "duration": 54,
    "start_time": "2022-05-11T20:26:53.059Z"
   },
   {
    "duration": 16,
    "start_time": "2022-05-11T20:26:53.116Z"
   },
   {
    "duration": 25,
    "start_time": "2022-05-11T20:26:53.134Z"
   },
   {
    "duration": 42,
    "start_time": "2022-05-11T20:26:53.161Z"
   },
   {
    "duration": 68,
    "start_time": "2022-05-11T20:26:53.205Z"
   },
   {
    "duration": 33,
    "start_time": "2022-05-11T20:26:53.275Z"
   },
   {
    "duration": 25,
    "start_time": "2022-05-11T20:26:53.311Z"
   },
   {
    "duration": 17,
    "start_time": "2022-05-11T20:26:53.342Z"
   },
   {
    "duration": 3,
    "start_time": "2022-05-11T20:27:57.472Z"
   },
   {
    "duration": 9,
    "start_time": "2022-05-11T20:32:18.089Z"
   },
   {
    "duration": 16,
    "start_time": "2022-05-11T20:32:56.568Z"
   },
   {
    "duration": 11,
    "start_time": "2022-05-11T20:33:19.410Z"
   },
   {
    "duration": 17,
    "start_time": "2022-05-11T20:33:38.808Z"
   },
   {
    "duration": 42,
    "start_time": "2022-05-11T20:34:27.773Z"
   },
   {
    "duration": 27,
    "start_time": "2022-05-11T20:37:02.580Z"
   },
   {
    "duration": 459,
    "start_time": "2022-05-11T22:19:27.511Z"
   },
   {
    "duration": 174,
    "start_time": "2022-05-11T22:19:27.972Z"
   },
   {
    "duration": 154,
    "start_time": "2022-05-11T22:19:28.148Z"
   },
   {
    "duration": 12,
    "start_time": "2022-05-11T22:19:28.305Z"
   },
   {
    "duration": 45,
    "start_time": "2022-05-11T22:19:28.319Z"
   },
   {
    "duration": 4,
    "start_time": "2022-05-11T22:19:28.366Z"
   },
   {
    "duration": 20,
    "start_time": "2022-05-11T22:19:28.372Z"
   },
   {
    "duration": 11,
    "start_time": "2022-05-11T22:19:28.394Z"
   },
   {
    "duration": 27,
    "start_time": "2022-05-11T22:19:28.433Z"
   },
   {
    "duration": 27,
    "start_time": "2022-05-11T22:19:28.465Z"
   },
   {
    "duration": 47,
    "start_time": "2022-05-11T22:19:28.493Z"
   },
   {
    "duration": 79,
    "start_time": "2022-05-11T22:19:28.542Z"
   },
   {
    "duration": 93,
    "start_time": "2022-05-11T22:19:28.623Z"
   },
   {
    "duration": 82,
    "start_time": "2022-05-11T22:19:28.718Z"
   },
   {
    "duration": 71,
    "start_time": "2022-05-11T22:19:28.801Z"
   },
   {
    "duration": 22,
    "start_time": "2022-05-11T22:19:28.873Z"
   },
   {
    "duration": 98,
    "start_time": "2022-05-11T22:19:28.897Z"
   },
   {
    "duration": 73,
    "start_time": "2022-05-11T22:19:28.996Z"
   },
   {
    "duration": 13,
    "start_time": "2022-05-11T22:19:29.071Z"
   },
   {
    "duration": 13,
    "start_time": "2022-05-11T22:19:29.086Z"
   },
   {
    "duration": 2,
    "start_time": "2022-05-11T22:19:29.101Z"
   },
   {
    "duration": 30,
    "start_time": "2022-05-11T22:19:29.105Z"
   },
   {
    "duration": 22,
    "start_time": "2022-05-11T22:19:29.137Z"
   },
   {
    "duration": 16,
    "start_time": "2022-05-11T22:19:29.160Z"
   },
   {
    "duration": 16,
    "start_time": "2022-05-11T22:19:29.178Z"
   },
   {
    "duration": 48,
    "start_time": "2022-05-11T22:19:29.196Z"
   },
   {
    "duration": 42,
    "start_time": "2022-05-11T22:19:29.246Z"
   },
   {
    "duration": 17,
    "start_time": "2022-05-11T22:19:29.292Z"
   },
   {
    "duration": 7,
    "start_time": "2022-05-11T22:19:29.310Z"
   },
   {
    "duration": 30,
    "start_time": "2022-05-11T22:19:29.319Z"
   },
   {
    "duration": 22,
    "start_time": "2022-05-11T22:19:29.350Z"
   },
   {
    "duration": 4,
    "start_time": "2022-05-11T22:19:29.373Z"
   },
   {
    "duration": 14,
    "start_time": "2022-05-11T22:19:29.378Z"
   },
   {
    "duration": 41,
    "start_time": "2022-05-11T22:19:29.393Z"
   },
   {
    "duration": 15,
    "start_time": "2022-05-11T22:19:29.436Z"
   },
   {
    "duration": 18,
    "start_time": "2022-05-11T22:19:29.453Z"
   },
   {
    "duration": 13,
    "start_time": "2022-05-11T22:19:29.472Z"
   },
   {
    "duration": 90,
    "start_time": "2022-05-11T22:19:29.487Z"
   },
   {
    "duration": 12,
    "start_time": "2022-05-11T22:19:29.578Z"
   },
   {
    "duration": 42,
    "start_time": "2022-05-11T22:19:29.592Z"
   },
   {
    "duration": 11,
    "start_time": "2022-05-11T22:19:29.636Z"
   },
   {
    "duration": 546,
    "start_time": "2022-05-12T05:55:01.042Z"
   },
   {
    "duration": 236,
    "start_time": "2022-05-12T05:55:01.591Z"
   },
   {
    "duration": 228,
    "start_time": "2022-05-12T05:55:01.832Z"
   },
   {
    "duration": 19,
    "start_time": "2022-05-12T05:55:02.062Z"
   },
   {
    "duration": 70,
    "start_time": "2022-05-12T05:55:02.084Z"
   },
   {
    "duration": 6,
    "start_time": "2022-05-12T05:55:02.157Z"
   },
   {
    "duration": 25,
    "start_time": "2022-05-12T05:55:02.165Z"
   },
   {
    "duration": 36,
    "start_time": "2022-05-12T05:55:02.192Z"
   },
   {
    "duration": 54,
    "start_time": "2022-05-12T05:55:02.232Z"
   },
   {
    "duration": 69,
    "start_time": "2022-05-12T05:55:02.288Z"
   },
   {
    "duration": 3,
    "start_time": "2022-05-12T05:55:42.753Z"
   },
   {
    "duration": 205,
    "start_time": "2022-05-12T05:55:42.759Z"
   },
   {
    "duration": 187,
    "start_time": "2022-05-12T05:55:42.967Z"
   },
   {
    "duration": 16,
    "start_time": "2022-05-12T05:55:43.156Z"
   },
   {
    "duration": 59,
    "start_time": "2022-05-12T05:55:43.176Z"
   },
   {
    "duration": 6,
    "start_time": "2022-05-12T05:55:43.237Z"
   },
   {
    "duration": 25,
    "start_time": "2022-05-12T05:55:43.245Z"
   },
   {
    "duration": 10,
    "start_time": "2022-05-12T05:55:43.273Z"
   },
   {
    "duration": 70,
    "start_time": "2022-05-12T05:55:43.285Z"
   },
   {
    "duration": 38,
    "start_time": "2022-05-12T05:55:43.357Z"
   },
   {
    "duration": 3,
    "start_time": "2022-05-12T06:45:08.766Z"
   },
   {
    "duration": 208,
    "start_time": "2022-05-12T06:45:08.772Z"
   },
   {
    "duration": 181,
    "start_time": "2022-05-12T06:45:08.982Z"
   },
   {
    "duration": 17,
    "start_time": "2022-05-12T06:45:09.165Z"
   },
   {
    "duration": 62,
    "start_time": "2022-05-12T06:45:09.185Z"
   },
   {
    "duration": 12,
    "start_time": "2022-05-12T06:45:09.249Z"
   },
   {
    "duration": 40,
    "start_time": "2022-05-12T06:45:09.263Z"
   },
   {
    "duration": 18,
    "start_time": "2022-05-12T06:45:09.306Z"
   },
   {
    "duration": 46,
    "start_time": "2022-05-12T06:45:09.326Z"
   },
   {
    "duration": 44,
    "start_time": "2022-05-12T06:45:09.374Z"
   },
   {
    "duration": 36,
    "start_time": "2022-05-12T06:45:09.420Z"
   },
   {
    "duration": 118,
    "start_time": "2022-05-12T06:45:09.458Z"
   },
   {
    "duration": 141,
    "start_time": "2022-05-12T06:45:09.579Z"
   },
   {
    "duration": 4,
    "start_time": "2022-05-12T06:45:39.213Z"
   },
   {
    "duration": 213,
    "start_time": "2022-05-12T06:45:39.219Z"
   },
   {
    "duration": 179,
    "start_time": "2022-05-12T06:45:39.434Z"
   },
   {
    "duration": 20,
    "start_time": "2022-05-12T06:45:39.615Z"
   },
   {
    "duration": 88,
    "start_time": "2022-05-12T06:45:39.640Z"
   },
   {
    "duration": 7,
    "start_time": "2022-05-12T06:45:39.730Z"
   },
   {
    "duration": 85,
    "start_time": "2022-05-12T06:45:39.739Z"
   },
   {
    "duration": 124,
    "start_time": "2022-05-12T06:45:39.826Z"
   },
   {
    "duration": 38,
    "start_time": "2022-05-12T06:45:39.952Z"
   },
   {
    "duration": 34,
    "start_time": "2022-05-12T06:45:39.992Z"
   },
   {
    "duration": 43,
    "start_time": "2022-05-12T06:45:40.028Z"
   },
   {
    "duration": 131,
    "start_time": "2022-05-12T06:45:40.074Z"
   },
   {
    "duration": 119,
    "start_time": "2022-05-12T06:45:40.208Z"
   },
   {
    "duration": 4,
    "start_time": "2022-05-12T06:45:59.179Z"
   },
   {
    "duration": 220,
    "start_time": "2022-05-12T06:45:59.188Z"
   },
   {
    "duration": 244,
    "start_time": "2022-05-12T06:45:59.412Z"
   },
   {
    "duration": 24,
    "start_time": "2022-05-12T06:45:59.660Z"
   },
   {
    "duration": 89,
    "start_time": "2022-05-12T06:45:59.688Z"
   },
   {
    "duration": 7,
    "start_time": "2022-05-12T06:45:59.780Z"
   },
   {
    "duration": 52,
    "start_time": "2022-05-12T06:45:59.790Z"
   },
   {
    "duration": 12,
    "start_time": "2022-05-12T06:45:59.845Z"
   },
   {
    "duration": 39,
    "start_time": "2022-05-12T06:45:59.859Z"
   },
   {
    "duration": 36,
    "start_time": "2022-05-12T06:45:59.923Z"
   },
   {
    "duration": 64,
    "start_time": "2022-05-12T06:45:59.961Z"
   },
   {
    "duration": 105,
    "start_time": "2022-05-12T06:46:00.027Z"
   },
   {
    "duration": 123,
    "start_time": "2022-05-12T06:46:00.134Z"
   },
   {
    "duration": 4,
    "start_time": "2022-05-12T06:47:02.306Z"
   },
   {
    "duration": 312,
    "start_time": "2022-05-12T06:47:02.313Z"
   },
   {
    "duration": 353,
    "start_time": "2022-05-12T06:47:02.628Z"
   },
   {
    "duration": 40,
    "start_time": "2022-05-12T06:47:02.984Z"
   },
   {
    "duration": 51,
    "start_time": "2022-05-12T06:47:03.028Z"
   },
   {
    "duration": 14,
    "start_time": "2022-05-12T06:47:03.081Z"
   },
   {
    "duration": 36,
    "start_time": "2022-05-12T06:47:03.097Z"
   },
   {
    "duration": 8,
    "start_time": "2022-05-12T06:47:03.136Z"
   },
   {
    "duration": 39,
    "start_time": "2022-05-12T06:47:03.146Z"
   },
   {
    "duration": 67,
    "start_time": "2022-05-12T06:47:03.187Z"
   },
   {
    "duration": 36,
    "start_time": "2022-05-12T06:47:03.256Z"
   },
   {
    "duration": 135,
    "start_time": "2022-05-12T06:47:03.294Z"
   },
   {
    "duration": 133,
    "start_time": "2022-05-12T06:47:03.432Z"
   },
   {
    "duration": 4,
    "start_time": "2022-05-12T06:47:31.623Z"
   },
   {
    "duration": 220,
    "start_time": "2022-05-12T06:47:31.630Z"
   },
   {
    "duration": 200,
    "start_time": "2022-05-12T06:47:31.853Z"
   },
   {
    "duration": 16,
    "start_time": "2022-05-12T06:47:32.056Z"
   },
   {
    "duration": 70,
    "start_time": "2022-05-12T06:47:32.076Z"
   },
   {
    "duration": 8,
    "start_time": "2022-05-12T06:47:32.150Z"
   },
   {
    "duration": 40,
    "start_time": "2022-05-12T06:47:32.160Z"
   },
   {
    "duration": 28,
    "start_time": "2022-05-12T06:47:32.202Z"
   },
   {
    "duration": 47,
    "start_time": "2022-05-12T06:47:32.232Z"
   },
   {
    "duration": 51,
    "start_time": "2022-05-12T06:47:32.281Z"
   },
   {
    "duration": 36,
    "start_time": "2022-05-12T06:47:32.334Z"
   },
   {
    "duration": 120,
    "start_time": "2022-05-12T06:47:32.372Z"
   },
   {
    "duration": 122,
    "start_time": "2022-05-12T06:47:32.495Z"
   },
   {
    "duration": 4,
    "start_time": "2022-05-12T06:48:01.325Z"
   },
   {
    "duration": 224,
    "start_time": "2022-05-12T06:48:01.332Z"
   },
   {
    "duration": 207,
    "start_time": "2022-05-12T06:48:01.558Z"
   },
   {
    "duration": 17,
    "start_time": "2022-05-12T06:48:01.767Z"
   },
   {
    "duration": 65,
    "start_time": "2022-05-12T06:48:01.789Z"
   },
   {
    "duration": 14,
    "start_time": "2022-05-12T06:48:01.857Z"
   },
   {
    "duration": 31,
    "start_time": "2022-05-12T06:48:01.874Z"
   },
   {
    "duration": 27,
    "start_time": "2022-05-12T06:48:01.908Z"
   },
   {
    "duration": 49,
    "start_time": "2022-05-12T06:48:01.937Z"
   },
   {
    "duration": 54,
    "start_time": "2022-05-12T06:48:01.988Z"
   },
   {
    "duration": 38,
    "start_time": "2022-05-12T06:48:02.045Z"
   },
   {
    "duration": 175,
    "start_time": "2022-05-12T06:48:02.086Z"
   },
   {
    "duration": 209,
    "start_time": "2022-05-12T06:48:02.267Z"
   },
   {
    "duration": 3,
    "start_time": "2022-05-12T06:50:39.811Z"
   },
   {
    "duration": 215,
    "start_time": "2022-05-12T06:50:39.817Z"
   },
   {
    "duration": 191,
    "start_time": "2022-05-12T06:50:40.034Z"
   },
   {
    "duration": 17,
    "start_time": "2022-05-12T06:50:40.228Z"
   },
   {
    "duration": 41,
    "start_time": "2022-05-12T06:50:40.247Z"
   },
   {
    "duration": 5,
    "start_time": "2022-05-12T06:50:40.290Z"
   },
   {
    "duration": 22,
    "start_time": "2022-05-12T06:50:40.325Z"
   },
   {
    "duration": 7,
    "start_time": "2022-05-12T06:50:40.349Z"
   },
   {
    "duration": 72,
    "start_time": "2022-05-12T06:50:40.358Z"
   },
   {
    "duration": 32,
    "start_time": "2022-05-12T06:50:40.434Z"
   },
   {
    "duration": 56,
    "start_time": "2022-05-12T06:50:40.469Z"
   },
   {
    "duration": 104,
    "start_time": "2022-05-12T06:50:40.528Z"
   },
   {
    "duration": 126,
    "start_time": "2022-05-12T06:50:40.634Z"
   },
   {
    "duration": 95,
    "start_time": "2022-05-12T06:50:40.762Z"
   },
   {
    "duration": 127,
    "start_time": "2022-05-12T06:50:40.859Z"
   },
   {
    "duration": 4,
    "start_time": "2022-05-12T06:56:13.345Z"
   },
   {
    "duration": 226,
    "start_time": "2022-05-12T06:56:13.353Z"
   },
   {
    "duration": 198,
    "start_time": "2022-05-12T06:56:13.581Z"
   },
   {
    "duration": 17,
    "start_time": "2022-05-12T06:56:13.784Z"
   },
   {
    "duration": 59,
    "start_time": "2022-05-12T06:56:13.804Z"
   },
   {
    "duration": 7,
    "start_time": "2022-05-12T06:56:13.866Z"
   },
   {
    "duration": 52,
    "start_time": "2022-05-12T06:56:13.876Z"
   },
   {
    "duration": 13,
    "start_time": "2022-05-12T06:56:13.931Z"
   },
   {
    "duration": 41,
    "start_time": "2022-05-12T06:56:13.949Z"
   },
   {
    "duration": 63,
    "start_time": "2022-05-12T06:56:13.993Z"
   },
   {
    "duration": 40,
    "start_time": "2022-05-12T06:56:14.059Z"
   },
   {
    "duration": 109,
    "start_time": "2022-05-12T06:56:14.126Z"
   },
   {
    "duration": 129,
    "start_time": "2022-05-12T06:56:14.238Z"
   },
   {
    "duration": 106,
    "start_time": "2022-05-12T06:56:14.370Z"
   },
   {
    "duration": 137,
    "start_time": "2022-05-12T06:56:14.479Z"
   },
   {
    "duration": 34,
    "start_time": "2022-05-12T06:56:14.619Z"
   },
   {
    "duration": 144,
    "start_time": "2022-05-12T06:56:14.656Z"
   },
   {
    "duration": 102,
    "start_time": "2022-05-12T06:56:14.803Z"
   },
   {
    "duration": 128,
    "start_time": "2022-05-12T06:56:14.908Z"
   },
   {
    "duration": 3,
    "start_time": "2022-05-12T06:57:03.392Z"
   },
   {
    "duration": 217,
    "start_time": "2022-05-12T06:57:03.398Z"
   },
   {
    "duration": 189,
    "start_time": "2022-05-12T06:57:03.617Z"
   },
   {
    "duration": 25,
    "start_time": "2022-05-12T06:57:03.809Z"
   },
   {
    "duration": 41,
    "start_time": "2022-05-12T06:57:03.836Z"
   },
   {
    "duration": 6,
    "start_time": "2022-05-12T06:57:03.879Z"
   },
   {
    "duration": 53,
    "start_time": "2022-05-12T06:57:03.887Z"
   },
   {
    "duration": 10,
    "start_time": "2022-05-12T06:57:03.942Z"
   },
   {
    "duration": 44,
    "start_time": "2022-05-12T06:57:03.955Z"
   },
   {
    "duration": 56,
    "start_time": "2022-05-12T06:57:04.001Z"
   },
   {
    "duration": 38,
    "start_time": "2022-05-12T06:57:04.060Z"
   },
   {
    "duration": 124,
    "start_time": "2022-05-12T06:57:04.100Z"
   },
   {
    "duration": 134,
    "start_time": "2022-05-12T06:57:04.227Z"
   },
   {
    "duration": 100,
    "start_time": "2022-05-12T06:57:04.363Z"
   },
   {
    "duration": 132,
    "start_time": "2022-05-12T06:57:04.465Z"
   },
   {
    "duration": 44,
    "start_time": "2022-05-12T06:57:04.600Z"
   },
   {
    "duration": 121,
    "start_time": "2022-05-12T06:57:04.646Z"
   },
   {
    "duration": 104,
    "start_time": "2022-05-12T06:57:04.769Z"
   },
   {
    "duration": 4,
    "start_time": "2022-05-12T06:57:04.875Z"
   },
   {
    "duration": 4,
    "start_time": "2022-05-12T06:57:42.954Z"
   },
   {
    "duration": 223,
    "start_time": "2022-05-12T06:57:42.961Z"
   },
   {
    "duration": 193,
    "start_time": "2022-05-12T06:57:43.187Z"
   },
   {
    "duration": 17,
    "start_time": "2022-05-12T06:57:43.382Z"
   },
   {
    "duration": 59,
    "start_time": "2022-05-12T06:57:43.402Z"
   },
   {
    "duration": 9,
    "start_time": "2022-05-12T06:57:43.463Z"
   },
   {
    "duration": 29,
    "start_time": "2022-05-12T06:57:43.474Z"
   },
   {
    "duration": 29,
    "start_time": "2022-05-12T06:57:43.505Z"
   },
   {
    "duration": 41,
    "start_time": "2022-05-12T06:57:43.536Z"
   },
   {
    "duration": 52,
    "start_time": "2022-05-12T06:57:43.579Z"
   },
   {
    "duration": 37,
    "start_time": "2022-05-12T06:57:43.633Z"
   },
   {
    "duration": 119,
    "start_time": "2022-05-12T06:57:43.672Z"
   },
   {
    "duration": 147,
    "start_time": "2022-05-12T06:57:43.794Z"
   },
   {
    "duration": 106,
    "start_time": "2022-05-12T06:57:43.943Z"
   },
   {
    "duration": 123,
    "start_time": "2022-05-12T06:57:44.052Z"
   },
   {
    "duration": 49,
    "start_time": "2022-05-12T06:57:44.177Z"
   },
   {
    "duration": 126,
    "start_time": "2022-05-12T06:57:44.228Z"
   },
   {
    "duration": 112,
    "start_time": "2022-05-12T06:57:44.356Z"
   },
   {
    "duration": 17,
    "start_time": "2022-05-12T06:57:44.470Z"
   },
   {
    "duration": 4,
    "start_time": "2022-05-12T06:58:58.954Z"
   },
   {
    "duration": 214,
    "start_time": "2022-05-12T06:58:58.960Z"
   },
   {
    "duration": 198,
    "start_time": "2022-05-12T06:58:59.176Z"
   },
   {
    "duration": 17,
    "start_time": "2022-05-12T06:58:59.377Z"
   },
   {
    "duration": 61,
    "start_time": "2022-05-12T06:58:59.396Z"
   },
   {
    "duration": 5,
    "start_time": "2022-05-12T06:58:59.460Z"
   },
   {
    "duration": 23,
    "start_time": "2022-05-12T06:58:59.467Z"
   },
   {
    "duration": 34,
    "start_time": "2022-05-12T06:58:59.492Z"
   },
   {
    "duration": 49,
    "start_time": "2022-05-12T06:58:59.528Z"
   },
   {
    "duration": 53,
    "start_time": "2022-05-12T06:58:59.581Z"
   },
   {
    "duration": 39,
    "start_time": "2022-05-12T06:58:59.637Z"
   },
   {
    "duration": 122,
    "start_time": "2022-05-12T06:58:59.678Z"
   },
   {
    "duration": 145,
    "start_time": "2022-05-12T06:58:59.803Z"
   },
   {
    "duration": 102,
    "start_time": "2022-05-12T06:58:59.950Z"
   },
   {
    "duration": 126,
    "start_time": "2022-05-12T06:59:00.054Z"
   },
   {
    "duration": 49,
    "start_time": "2022-05-12T06:59:00.182Z"
   },
   {
    "duration": 127,
    "start_time": "2022-05-12T06:59:00.233Z"
   },
   {
    "duration": 106,
    "start_time": "2022-05-12T06:59:00.363Z"
   },
   {
    "duration": 4,
    "start_time": "2022-05-12T06:59:00.472Z"
   },
   {
    "duration": 3,
    "start_time": "2022-05-12T06:59:08.562Z"
   },
   {
    "duration": 223,
    "start_time": "2022-05-12T06:59:08.569Z"
   },
   {
    "duration": 187,
    "start_time": "2022-05-12T06:59:08.795Z"
   },
   {
    "duration": 17,
    "start_time": "2022-05-12T06:59:08.984Z"
   },
   {
    "duration": 58,
    "start_time": "2022-05-12T06:59:09.005Z"
   },
   {
    "duration": 5,
    "start_time": "2022-05-12T06:59:09.065Z"
   },
   {
    "duration": 54,
    "start_time": "2022-05-12T06:59:09.072Z"
   },
   {
    "duration": 10,
    "start_time": "2022-05-12T06:59:09.129Z"
   },
   {
    "duration": 45,
    "start_time": "2022-05-12T06:59:09.141Z"
   },
   {
    "duration": 53,
    "start_time": "2022-05-12T06:59:09.188Z"
   },
   {
    "duration": 38,
    "start_time": "2022-05-12T06:59:09.243Z"
   },
   {
    "duration": 145,
    "start_time": "2022-05-12T06:59:09.283Z"
   },
   {
    "duration": 139,
    "start_time": "2022-05-12T06:59:09.431Z"
   },
   {
    "duration": 99,
    "start_time": "2022-05-12T06:59:09.572Z"
   },
   {
    "duration": 127,
    "start_time": "2022-05-12T06:59:09.673Z"
   },
   {
    "duration": 40,
    "start_time": "2022-05-12T06:59:09.802Z"
   },
   {
    "duration": 126,
    "start_time": "2022-05-12T06:59:09.844Z"
   },
   {
    "duration": 107,
    "start_time": "2022-05-12T06:59:09.972Z"
   },
   {
    "duration": 16,
    "start_time": "2022-05-12T06:59:10.081Z"
   },
   {
    "duration": 3,
    "start_time": "2022-05-12T07:04:47.258Z"
   },
   {
    "duration": 191,
    "start_time": "2022-05-12T07:04:47.263Z"
   },
   {
    "duration": 177,
    "start_time": "2022-05-12T07:04:47.457Z"
   },
   {
    "duration": 16,
    "start_time": "2022-05-12T07:04:47.637Z"
   },
   {
    "duration": 40,
    "start_time": "2022-05-12T07:04:47.658Z"
   },
   {
    "duration": 7,
    "start_time": "2022-05-12T07:04:47.725Z"
   },
   {
    "duration": 23,
    "start_time": "2022-05-12T07:04:47.735Z"
   },
   {
    "duration": 10,
    "start_time": "2022-05-12T07:04:47.760Z"
   },
   {
    "duration": 79,
    "start_time": "2022-05-12T07:04:47.772Z"
   },
   {
    "duration": 36,
    "start_time": "2022-05-12T07:04:47.854Z"
   },
   {
    "duration": 59,
    "start_time": "2022-05-12T07:04:47.893Z"
   },
   {
    "duration": 112,
    "start_time": "2022-05-12T07:04:47.954Z"
   },
   {
    "duration": 133,
    "start_time": "2022-05-12T07:04:48.069Z"
   },
   {
    "duration": 94,
    "start_time": "2022-05-12T07:04:48.206Z"
   },
   {
    "duration": 129,
    "start_time": "2022-05-12T07:04:48.302Z"
   },
   {
    "duration": 29,
    "start_time": "2022-05-12T07:04:48.433Z"
   },
   {
    "duration": 123,
    "start_time": "2022-05-12T07:04:48.464Z"
   },
   {
    "duration": 102,
    "start_time": "2022-05-12T07:04:48.589Z"
   },
   {
    "duration": 16,
    "start_time": "2022-05-12T07:04:48.693Z"
   },
   {
    "duration": 18,
    "start_time": "2022-05-12T07:04:48.723Z"
   },
   {
    "duration": 4,
    "start_time": "2022-05-12T07:04:48.743Z"
   },
   {
    "duration": 15,
    "start_time": "2022-05-12T07:04:48.749Z"
   },
   {
    "duration": 3,
    "start_time": "2022-05-12T07:06:39.267Z"
   },
   {
    "duration": 221,
    "start_time": "2022-05-12T07:06:39.273Z"
   },
   {
    "duration": 198,
    "start_time": "2022-05-12T07:06:39.496Z"
   },
   {
    "duration": 28,
    "start_time": "2022-05-12T07:06:39.697Z"
   },
   {
    "duration": 48,
    "start_time": "2022-05-12T07:06:39.729Z"
   },
   {
    "duration": 8,
    "start_time": "2022-05-12T07:06:39.779Z"
   },
   {
    "duration": 48,
    "start_time": "2022-05-12T07:06:39.789Z"
   },
   {
    "duration": 9,
    "start_time": "2022-05-12T07:06:39.839Z"
   },
   {
    "duration": 42,
    "start_time": "2022-05-12T07:06:39.850Z"
   },
   {
    "duration": 40,
    "start_time": "2022-05-12T07:06:39.925Z"
   },
   {
    "duration": 37,
    "start_time": "2022-05-12T07:06:39.967Z"
   },
   {
    "duration": 169,
    "start_time": "2022-05-12T07:06:40.006Z"
   },
   {
    "duration": 140,
    "start_time": "2022-05-12T07:06:40.177Z"
   },
   {
    "duration": 89,
    "start_time": "2022-05-12T07:06:40.319Z"
   },
   {
    "duration": 141,
    "start_time": "2022-05-12T07:06:40.410Z"
   },
   {
    "duration": 31,
    "start_time": "2022-05-12T07:06:40.554Z"
   },
   {
    "duration": 139,
    "start_time": "2022-05-12T07:06:40.587Z"
   },
   {
    "duration": 101,
    "start_time": "2022-05-12T07:06:40.728Z"
   },
   {
    "duration": 18,
    "start_time": "2022-05-12T07:06:40.831Z"
   },
   {
    "duration": 18,
    "start_time": "2022-05-12T07:06:40.851Z"
   },
   {
    "duration": 4,
    "start_time": "2022-05-12T07:06:40.872Z"
   },
   {
    "duration": 47,
    "start_time": "2022-05-12T07:06:40.878Z"
   },
   {
    "duration": 28,
    "start_time": "2022-05-12T07:06:40.927Z"
   },
   {
    "duration": 21,
    "start_time": "2022-05-12T07:06:40.957Z"
   },
   {
    "duration": 47,
    "start_time": "2022-05-12T07:06:40.980Z"
   },
   {
    "duration": 4,
    "start_time": "2022-05-12T07:07:03.293Z"
   },
   {
    "duration": 219,
    "start_time": "2022-05-12T07:07:03.299Z"
   },
   {
    "duration": 205,
    "start_time": "2022-05-12T07:07:03.521Z"
   },
   {
    "duration": 17,
    "start_time": "2022-05-12T07:07:03.728Z"
   },
   {
    "duration": 58,
    "start_time": "2022-05-12T07:07:03.748Z"
   },
   {
    "duration": 18,
    "start_time": "2022-05-12T07:07:03.808Z"
   },
   {
    "duration": 42,
    "start_time": "2022-05-12T07:07:03.828Z"
   },
   {
    "duration": 25,
    "start_time": "2022-05-12T07:07:03.872Z"
   },
   {
    "duration": 56,
    "start_time": "2022-05-12T07:07:03.899Z"
   },
   {
    "duration": 49,
    "start_time": "2022-05-12T07:07:03.957Z"
   },
   {
    "duration": 43,
    "start_time": "2022-05-12T07:07:04.009Z"
   },
   {
    "duration": 117,
    "start_time": "2022-05-12T07:07:04.055Z"
   },
   {
    "duration": 132,
    "start_time": "2022-05-12T07:07:04.176Z"
   },
   {
    "duration": 92,
    "start_time": "2022-05-12T07:07:04.311Z"
   },
   {
    "duration": 135,
    "start_time": "2022-05-12T07:07:04.405Z"
   },
   {
    "duration": 30,
    "start_time": "2022-05-12T07:07:04.542Z"
   },
   {
    "duration": 133,
    "start_time": "2022-05-12T07:07:04.574Z"
   },
   {
    "duration": 98,
    "start_time": "2022-05-12T07:07:04.709Z"
   },
   {
    "duration": 30,
    "start_time": "2022-05-12T07:07:04.809Z"
   },
   {
    "duration": 18,
    "start_time": "2022-05-12T07:07:04.841Z"
   },
   {
    "duration": 4,
    "start_time": "2022-05-12T07:07:04.862Z"
   },
   {
    "duration": 9,
    "start_time": "2022-05-12T07:07:04.869Z"
   },
   {
    "duration": 60,
    "start_time": "2022-05-12T07:07:04.881Z"
   },
   {
    "duration": 4,
    "start_time": "2022-05-12T07:08:11.467Z"
   },
   {
    "duration": 208,
    "start_time": "2022-05-12T07:08:11.475Z"
   },
   {
    "duration": 198,
    "start_time": "2022-05-12T07:08:11.685Z"
   },
   {
    "duration": 16,
    "start_time": "2022-05-12T07:08:11.885Z"
   },
   {
    "duration": 54,
    "start_time": "2022-05-12T07:08:11.904Z"
   },
   {
    "duration": 6,
    "start_time": "2022-05-12T07:08:11.960Z"
   },
   {
    "duration": 54,
    "start_time": "2022-05-12T07:08:11.969Z"
   },
   {
    "duration": 5,
    "start_time": "2022-05-12T07:08:12.026Z"
   },
   {
    "duration": 40,
    "start_time": "2022-05-12T07:08:12.034Z"
   },
   {
    "duration": 61,
    "start_time": "2022-05-12T07:08:12.077Z"
   },
   {
    "duration": 36,
    "start_time": "2022-05-12T07:08:12.141Z"
   },
   {
    "duration": 123,
    "start_time": "2022-05-12T07:08:12.180Z"
   },
   {
    "duration": 143,
    "start_time": "2022-05-12T07:08:12.307Z"
   },
   {
    "duration": 98,
    "start_time": "2022-05-12T07:08:12.453Z"
   },
   {
    "duration": 128,
    "start_time": "2022-05-12T07:08:12.553Z"
   },
   {
    "duration": 44,
    "start_time": "2022-05-12T07:08:12.684Z"
   },
   {
    "duration": 121,
    "start_time": "2022-05-12T07:08:12.730Z"
   },
   {
    "duration": 101,
    "start_time": "2022-05-12T07:08:12.853Z"
   },
   {
    "duration": 17,
    "start_time": "2022-05-12T07:08:12.957Z"
   },
   {
    "duration": 32,
    "start_time": "2022-05-12T07:08:12.976Z"
   },
   {
    "duration": 15,
    "start_time": "2022-05-12T07:08:13.010Z"
   },
   {
    "duration": 29,
    "start_time": "2022-05-12T07:08:13.027Z"
   },
   {
    "duration": 44,
    "start_time": "2022-05-12T07:08:13.059Z"
   },
   {
    "duration": 21,
    "start_time": "2022-05-12T07:08:13.105Z"
   },
   {
    "duration": 34,
    "start_time": "2022-05-12T07:08:13.128Z"
   },
   {
    "duration": 27,
    "start_time": "2022-05-12T07:08:13.164Z"
   },
   {
    "duration": 25,
    "start_time": "2022-05-12T07:08:13.193Z"
   },
   {
    "duration": 11,
    "start_time": "2022-05-12T07:08:13.220Z"
   },
   {
    "duration": 3,
    "start_time": "2022-05-12T07:08:29.206Z"
   },
   {
    "duration": 217,
    "start_time": "2022-05-12T07:08:29.212Z"
   },
   {
    "duration": 187,
    "start_time": "2022-05-12T07:08:29.431Z"
   },
   {
    "duration": 15,
    "start_time": "2022-05-12T07:08:29.621Z"
   },
   {
    "duration": 48,
    "start_time": "2022-05-12T07:08:29.639Z"
   },
   {
    "duration": 5,
    "start_time": "2022-05-12T07:08:29.689Z"
   },
   {
    "duration": 21,
    "start_time": "2022-05-12T07:08:29.724Z"
   },
   {
    "duration": 11,
    "start_time": "2022-05-12T07:08:29.747Z"
   },
   {
    "duration": 39,
    "start_time": "2022-05-12T07:08:29.760Z"
   },
   {
    "duration": 33,
    "start_time": "2022-05-12T07:08:29.824Z"
   },
   {
    "duration": 38,
    "start_time": "2022-05-12T07:08:29.859Z"
   },
   {
    "duration": 108,
    "start_time": "2022-05-12T07:08:29.925Z"
   },
   {
    "duration": 137,
    "start_time": "2022-05-12T07:08:30.037Z"
   },
   {
    "duration": 106,
    "start_time": "2022-05-12T07:08:30.176Z"
   },
   {
    "duration": 125,
    "start_time": "2022-05-12T07:08:30.284Z"
   },
   {
    "duration": 41,
    "start_time": "2022-05-12T07:08:30.411Z"
   },
   {
    "duration": 136,
    "start_time": "2022-05-12T07:08:30.454Z"
   },
   {
    "duration": 111,
    "start_time": "2022-05-12T07:08:30.592Z"
   },
   {
    "duration": 26,
    "start_time": "2022-05-12T07:08:30.706Z"
   },
   {
    "duration": 25,
    "start_time": "2022-05-12T07:08:30.734Z"
   },
   {
    "duration": 11,
    "start_time": "2022-05-12T07:08:30.761Z"
   },
   {
    "duration": 24,
    "start_time": "2022-05-12T07:08:30.775Z"
   },
   {
    "duration": 39,
    "start_time": "2022-05-12T07:08:30.801Z"
   },
   {
    "duration": 29,
    "start_time": "2022-05-12T07:08:30.842Z"
   },
   {
    "duration": 29,
    "start_time": "2022-05-12T07:08:30.873Z"
   },
   {
    "duration": 34,
    "start_time": "2022-05-12T07:08:30.904Z"
   },
   {
    "duration": 25,
    "start_time": "2022-05-12T07:08:30.941Z"
   },
   {
    "duration": 24,
    "start_time": "2022-05-12T07:08:30.968Z"
   },
   {
    "duration": 4,
    "start_time": "2022-05-12T07:10:59.696Z"
   },
   {
    "duration": 227,
    "start_time": "2022-05-12T07:10:59.703Z"
   },
   {
    "duration": 183,
    "start_time": "2022-05-12T07:10:59.932Z"
   },
   {
    "duration": 21,
    "start_time": "2022-05-12T07:11:00.117Z"
   },
   {
    "duration": 44,
    "start_time": "2022-05-12T07:11:00.142Z"
   },
   {
    "duration": 21,
    "start_time": "2022-05-12T07:11:00.188Z"
   },
   {
    "duration": 22,
    "start_time": "2022-05-12T07:11:00.225Z"
   },
   {
    "duration": 13,
    "start_time": "2022-05-12T07:11:00.249Z"
   },
   {
    "duration": 63,
    "start_time": "2022-05-12T07:11:00.264Z"
   },
   {
    "duration": 34,
    "start_time": "2022-05-12T07:11:00.330Z"
   },
   {
    "duration": 62,
    "start_time": "2022-05-12T07:11:00.366Z"
   },
   {
    "duration": 111,
    "start_time": "2022-05-12T07:11:00.430Z"
   },
   {
    "duration": 136,
    "start_time": "2022-05-12T07:11:00.543Z"
   },
   {
    "duration": 108,
    "start_time": "2022-05-12T07:11:00.684Z"
   },
   {
    "duration": 131,
    "start_time": "2022-05-12T07:11:00.795Z"
   },
   {
    "duration": 35,
    "start_time": "2022-05-12T07:11:00.929Z"
   },
   {
    "duration": 157,
    "start_time": "2022-05-12T07:11:00.967Z"
   },
   {
    "duration": 111,
    "start_time": "2022-05-12T07:11:01.127Z"
   },
   {
    "duration": 17,
    "start_time": "2022-05-12T07:11:01.240Z"
   },
   {
    "duration": 31,
    "start_time": "2022-05-12T07:11:01.259Z"
   },
   {
    "duration": 12,
    "start_time": "2022-05-12T07:11:01.292Z"
   },
   {
    "duration": 25,
    "start_time": "2022-05-12T07:11:01.306Z"
   },
   {
    "duration": 35,
    "start_time": "2022-05-12T07:11:01.333Z"
   },
   {
    "duration": 24,
    "start_time": "2022-05-12T07:11:01.370Z"
   },
   {
    "duration": 44,
    "start_time": "2022-05-12T07:11:01.396Z"
   },
   {
    "duration": 25,
    "start_time": "2022-05-12T07:11:01.442Z"
   },
   {
    "duration": 54,
    "start_time": "2022-05-12T07:11:01.470Z"
   },
   {
    "duration": 25,
    "start_time": "2022-05-12T07:11:01.527Z"
   },
   {
    "duration": 12,
    "start_time": "2022-05-12T07:11:01.555Z"
   },
   {
    "duration": 66,
    "start_time": "2022-05-12T07:11:01.570Z"
   },
   {
    "duration": 4,
    "start_time": "2022-05-12T07:11:32.801Z"
   },
   {
    "duration": 244,
    "start_time": "2022-05-12T07:11:32.807Z"
   },
   {
    "duration": 213,
    "start_time": "2022-05-12T07:11:33.053Z"
   },
   {
    "duration": 18,
    "start_time": "2022-05-12T07:11:33.270Z"
   },
   {
    "duration": 72,
    "start_time": "2022-05-12T07:11:33.290Z"
   },
   {
    "duration": 5,
    "start_time": "2022-05-12T07:11:33.365Z"
   },
   {
    "duration": 24,
    "start_time": "2022-05-12T07:11:33.372Z"
   },
   {
    "duration": 31,
    "start_time": "2022-05-12T07:11:33.398Z"
   },
   {
    "duration": 43,
    "start_time": "2022-05-12T07:11:33.433Z"
   },
   {
    "duration": 58,
    "start_time": "2022-05-12T07:11:33.478Z"
   },
   {
    "duration": 36,
    "start_time": "2022-05-12T07:11:33.538Z"
   },
   {
    "duration": 120,
    "start_time": "2022-05-12T07:11:33.577Z"
   },
   {
    "duration": 138,
    "start_time": "2022-05-12T07:11:33.699Z"
   },
   {
    "duration": 104,
    "start_time": "2022-05-12T07:11:33.840Z"
   },
   {
    "duration": 129,
    "start_time": "2022-05-12T07:11:33.946Z"
   },
   {
    "duration": 52,
    "start_time": "2022-05-12T07:11:34.077Z"
   },
   {
    "duration": 130,
    "start_time": "2022-05-12T07:11:34.131Z"
   },
   {
    "duration": 112,
    "start_time": "2022-05-12T07:11:34.263Z"
   },
   {
    "duration": 17,
    "start_time": "2022-05-12T07:11:34.377Z"
   },
   {
    "duration": 34,
    "start_time": "2022-05-12T07:11:34.396Z"
   },
   {
    "duration": 4,
    "start_time": "2022-05-12T07:11:34.432Z"
   },
   {
    "duration": 8,
    "start_time": "2022-05-12T07:11:34.438Z"
   },
   {
    "duration": 26,
    "start_time": "2022-05-12T07:11:34.448Z"
   },
   {
    "duration": 55,
    "start_time": "2022-05-12T07:11:34.479Z"
   },
   {
    "duration": 21,
    "start_time": "2022-05-12T07:11:34.536Z"
   },
   {
    "duration": 20,
    "start_time": "2022-05-12T07:11:34.559Z"
   },
   {
    "duration": 53,
    "start_time": "2022-05-12T07:11:34.582Z"
   },
   {
    "duration": 22,
    "start_time": "2022-05-12T07:11:34.637Z"
   },
   {
    "duration": 9,
    "start_time": "2022-05-12T07:11:34.661Z"
   },
   {
    "duration": 67,
    "start_time": "2022-05-12T07:11:34.672Z"
   },
   {
    "duration": 5,
    "start_time": "2022-05-12T07:12:03.295Z"
   },
   {
    "duration": 248,
    "start_time": "2022-05-12T07:12:03.303Z"
   },
   {
    "duration": 220,
    "start_time": "2022-05-12T07:12:03.553Z"
   },
   {
    "duration": 18,
    "start_time": "2022-05-12T07:12:03.776Z"
   },
   {
    "duration": 67,
    "start_time": "2022-05-12T07:12:03.798Z"
   },
   {
    "duration": 5,
    "start_time": "2022-05-12T07:12:03.868Z"
   },
   {
    "duration": 51,
    "start_time": "2022-05-12T07:12:03.875Z"
   },
   {
    "duration": 11,
    "start_time": "2022-05-12T07:12:03.929Z"
   },
   {
    "duration": 44,
    "start_time": "2022-05-12T07:12:03.942Z"
   },
   {
    "duration": 59,
    "start_time": "2022-05-12T07:12:03.989Z"
   },
   {
    "duration": 51,
    "start_time": "2022-05-12T07:12:04.051Z"
   },
   {
    "duration": 135,
    "start_time": "2022-05-12T07:12:04.105Z"
   },
   {
    "duration": 135,
    "start_time": "2022-05-12T07:12:04.243Z"
   },
   {
    "duration": 116,
    "start_time": "2022-05-12T07:12:04.383Z"
   },
   {
    "duration": 144,
    "start_time": "2022-05-12T07:12:04.502Z"
   },
   {
    "duration": 34,
    "start_time": "2022-05-12T07:12:04.649Z"
   },
   {
    "duration": 159,
    "start_time": "2022-05-12T07:12:04.686Z"
   },
   {
    "duration": 157,
    "start_time": "2022-05-12T07:12:04.849Z"
   },
   {
    "duration": 31,
    "start_time": "2022-05-12T07:12:05.009Z"
   },
   {
    "duration": 23,
    "start_time": "2022-05-12T07:12:05.043Z"
   },
   {
    "duration": 5,
    "start_time": "2022-05-12T07:12:05.070Z"
   },
   {
    "duration": 47,
    "start_time": "2022-05-12T07:12:05.078Z"
   },
   {
    "duration": 51,
    "start_time": "2022-05-12T07:12:05.128Z"
   },
   {
    "duration": 24,
    "start_time": "2022-05-12T07:12:05.182Z"
   },
   {
    "duration": 41,
    "start_time": "2022-05-12T07:12:05.226Z"
   },
   {
    "duration": 34,
    "start_time": "2022-05-12T07:12:05.270Z"
   },
   {
    "duration": 36,
    "start_time": "2022-05-12T07:12:05.326Z"
   },
   {
    "duration": 71,
    "start_time": "2022-05-12T07:12:05.366Z"
   },
   {
    "duration": 22,
    "start_time": "2022-05-12T07:12:05.442Z"
   },
   {
    "duration": 182,
    "start_time": "2022-05-12T07:12:05.469Z"
   },
   {
    "duration": 3,
    "start_time": "2022-05-12T07:12:35.960Z"
   },
   {
    "duration": 210,
    "start_time": "2022-05-12T07:12:35.967Z"
   },
   {
    "duration": 192,
    "start_time": "2022-05-12T07:12:36.180Z"
   },
   {
    "duration": 16,
    "start_time": "2022-05-12T07:12:36.374Z"
   },
   {
    "duration": 57,
    "start_time": "2022-05-12T07:12:36.393Z"
   },
   {
    "duration": 8,
    "start_time": "2022-05-12T07:12:36.453Z"
   },
   {
    "duration": 29,
    "start_time": "2022-05-12T07:12:36.463Z"
   },
   {
    "duration": 30,
    "start_time": "2022-05-12T07:12:36.494Z"
   },
   {
    "duration": 36,
    "start_time": "2022-05-12T07:12:36.527Z"
   },
   {
    "duration": 42,
    "start_time": "2022-05-12T07:12:36.565Z"
   },
   {
    "duration": 50,
    "start_time": "2022-05-12T07:12:36.609Z"
   },
   {
    "duration": 120,
    "start_time": "2022-05-12T07:12:36.661Z"
   },
   {
    "duration": 123,
    "start_time": "2022-05-12T07:12:36.785Z"
   },
   {
    "duration": 97,
    "start_time": "2022-05-12T07:12:36.910Z"
   },
   {
    "duration": 140,
    "start_time": "2022-05-12T07:12:37.009Z"
   },
   {
    "duration": 31,
    "start_time": "2022-05-12T07:12:37.152Z"
   },
   {
    "duration": 141,
    "start_time": "2022-05-12T07:12:37.186Z"
   },
   {
    "duration": 106,
    "start_time": "2022-05-12T07:12:37.330Z"
   },
   {
    "duration": 19,
    "start_time": "2022-05-12T07:12:37.439Z"
   },
   {
    "duration": 20,
    "start_time": "2022-05-12T07:12:37.461Z"
   },
   {
    "duration": 43,
    "start_time": "2022-05-12T07:12:37.483Z"
   },
   {
    "duration": 6,
    "start_time": "2022-05-12T07:12:37.529Z"
   },
   {
    "duration": 29,
    "start_time": "2022-05-12T07:12:37.537Z"
   },
   {
    "duration": 57,
    "start_time": "2022-05-12T07:12:37.569Z"
   },
   {
    "duration": 23,
    "start_time": "2022-05-12T07:12:37.628Z"
   },
   {
    "duration": 21,
    "start_time": "2022-05-12T07:12:37.653Z"
   },
   {
    "duration": 56,
    "start_time": "2022-05-12T07:12:37.676Z"
   },
   {
    "duration": 22,
    "start_time": "2022-05-12T07:12:37.734Z"
   },
   {
    "duration": 13,
    "start_time": "2022-05-12T07:12:37.758Z"
   },
   {
    "duration": 58,
    "start_time": "2022-05-12T07:12:37.774Z"
   },
   {
    "duration": 3,
    "start_time": "2022-05-12T07:12:56.491Z"
   },
   {
    "duration": 232,
    "start_time": "2022-05-12T07:12:56.498Z"
   },
   {
    "duration": 187,
    "start_time": "2022-05-12T07:12:56.732Z"
   },
   {
    "duration": 16,
    "start_time": "2022-05-12T07:12:56.926Z"
   },
   {
    "duration": 43,
    "start_time": "2022-05-12T07:12:56.945Z"
   },
   {
    "duration": 36,
    "start_time": "2022-05-12T07:12:56.991Z"
   },
   {
    "duration": 22,
    "start_time": "2022-05-12T07:12:57.029Z"
   },
   {
    "duration": 9,
    "start_time": "2022-05-12T07:12:57.054Z"
   },
   {
    "duration": 85,
    "start_time": "2022-05-12T07:12:57.069Z"
   },
   {
    "duration": 70,
    "start_time": "2022-05-12T07:12:57.157Z"
   },
   {
    "duration": 60,
    "start_time": "2022-05-12T07:12:57.229Z"
   },
   {
    "duration": 165,
    "start_time": "2022-05-12T07:12:57.292Z"
   },
   {
    "duration": 194,
    "start_time": "2022-05-12T07:12:57.460Z"
   },
   {
    "duration": 146,
    "start_time": "2022-05-12T07:12:57.657Z"
   },
   {
    "duration": 132,
    "start_time": "2022-05-12T07:12:57.806Z"
   },
   {
    "duration": 30,
    "start_time": "2022-05-12T07:12:57.940Z"
   },
   {
    "duration": 147,
    "start_time": "2022-05-12T07:12:57.973Z"
   },
   {
    "duration": 104,
    "start_time": "2022-05-12T07:12:58.124Z"
   },
   {
    "duration": 17,
    "start_time": "2022-05-12T07:12:58.230Z"
   },
   {
    "duration": 17,
    "start_time": "2022-05-12T07:12:58.249Z"
   },
   {
    "duration": 4,
    "start_time": "2022-05-12T07:12:58.268Z"
   },
   {
    "duration": 51,
    "start_time": "2022-05-12T07:12:58.274Z"
   },
   {
    "duration": 29,
    "start_time": "2022-05-12T07:12:58.327Z"
   },
   {
    "duration": 22,
    "start_time": "2022-05-12T07:12:58.360Z"
   },
   {
    "duration": 53,
    "start_time": "2022-05-12T07:12:58.384Z"
   },
   {
    "duration": 22,
    "start_time": "2022-05-12T07:12:58.440Z"
   },
   {
    "duration": 59,
    "start_time": "2022-05-12T07:12:58.465Z"
   },
   {
    "duration": 21,
    "start_time": "2022-05-12T07:12:58.527Z"
   },
   {
    "duration": 9,
    "start_time": "2022-05-12T07:12:58.551Z"
   },
   {
    "duration": 22,
    "start_time": "2022-05-12T07:12:58.563Z"
   },
   {
    "duration": 4,
    "start_time": "2022-05-12T07:14:01.230Z"
   },
   {
    "duration": 231,
    "start_time": "2022-05-12T07:14:01.236Z"
   },
   {
    "duration": 188,
    "start_time": "2022-05-12T07:14:01.469Z"
   },
   {
    "duration": 16,
    "start_time": "2022-05-12T07:14:01.659Z"
   },
   {
    "duration": 63,
    "start_time": "2022-05-12T07:14:01.678Z"
   },
   {
    "duration": 12,
    "start_time": "2022-05-12T07:14:01.743Z"
   },
   {
    "duration": 30,
    "start_time": "2022-05-12T07:14:01.757Z"
   },
   {
    "duration": 19,
    "start_time": "2022-05-12T07:14:01.790Z"
   },
   {
    "duration": 58,
    "start_time": "2022-05-12T07:14:01.811Z"
   },
   {
    "duration": 42,
    "start_time": "2022-05-12T07:14:01.871Z"
   },
   {
    "duration": 36,
    "start_time": "2022-05-12T07:14:01.927Z"
   },
   {
    "duration": 123,
    "start_time": "2022-05-12T07:14:01.966Z"
   },
   {
    "duration": 137,
    "start_time": "2022-05-12T07:14:02.092Z"
   },
   {
    "duration": 110,
    "start_time": "2022-05-12T07:14:02.232Z"
   },
   {
    "duration": 128,
    "start_time": "2022-05-12T07:14:02.344Z"
   },
   {
    "duration": 32,
    "start_time": "2022-05-12T07:14:02.474Z"
   },
   {
    "duration": 121,
    "start_time": "2022-05-12T07:14:02.524Z"
   },
   {
    "duration": 108,
    "start_time": "2022-05-12T07:14:02.647Z"
   },
   {
    "duration": 17,
    "start_time": "2022-05-12T07:14:02.757Z"
   },
   {
    "duration": 21,
    "start_time": "2022-05-12T07:14:02.776Z"
   },
   {
    "duration": 26,
    "start_time": "2022-05-12T07:14:02.799Z"
   },
   {
    "duration": 15,
    "start_time": "2022-05-12T07:14:02.827Z"
   },
   {
    "duration": 31,
    "start_time": "2022-05-12T07:14:02.844Z"
   },
   {
    "duration": 22,
    "start_time": "2022-05-12T07:14:02.877Z"
   },
   {
    "duration": 43,
    "start_time": "2022-05-12T07:14:02.901Z"
   },
   {
    "duration": 26,
    "start_time": "2022-05-12T07:14:02.947Z"
   },
   {
    "duration": 56,
    "start_time": "2022-05-12T07:14:02.975Z"
   },
   {
    "duration": 24,
    "start_time": "2022-05-12T07:14:03.034Z"
   },
   {
    "duration": 10,
    "start_time": "2022-05-12T07:14:03.064Z"
   },
   {
    "duration": 74,
    "start_time": "2022-05-12T07:14:03.077Z"
   },
   {
    "duration": 4,
    "start_time": "2022-05-12T07:21:30.022Z"
   },
   {
    "duration": 208,
    "start_time": "2022-05-12T07:21:30.029Z"
   },
   {
    "duration": 187,
    "start_time": "2022-05-12T07:21:30.239Z"
   },
   {
    "duration": 16,
    "start_time": "2022-05-12T07:21:30.429Z"
   },
   {
    "duration": 46,
    "start_time": "2022-05-12T07:21:30.448Z"
   },
   {
    "duration": 31,
    "start_time": "2022-05-12T07:21:30.496Z"
   },
   {
    "duration": 22,
    "start_time": "2022-05-12T07:21:30.529Z"
   },
   {
    "duration": 20,
    "start_time": "2022-05-12T07:21:30.553Z"
   },
   {
    "duration": 97,
    "start_time": "2022-05-12T07:21:30.575Z"
   },
   {
    "duration": 4,
    "start_time": "2022-05-12T07:22:20.769Z"
   },
   {
    "duration": 211,
    "start_time": "2022-05-12T07:22:20.776Z"
   },
   {
    "duration": 194,
    "start_time": "2022-05-12T07:22:20.989Z"
   },
   {
    "duration": 16,
    "start_time": "2022-05-12T07:22:21.185Z"
   },
   {
    "duration": 39,
    "start_time": "2022-05-12T07:22:21.224Z"
   },
   {
    "duration": 12,
    "start_time": "2022-05-12T07:22:21.265Z"
   },
   {
    "duration": 49,
    "start_time": "2022-05-12T07:22:21.280Z"
   },
   {
    "duration": 19,
    "start_time": "2022-05-12T07:22:21.331Z"
   },
   {
    "duration": 63,
    "start_time": "2022-05-12T07:22:21.353Z"
   },
   {
    "duration": 4,
    "start_time": "2022-05-12T07:23:14.835Z"
   },
   {
    "duration": 220,
    "start_time": "2022-05-12T07:23:14.842Z"
   },
   {
    "duration": 205,
    "start_time": "2022-05-12T07:23:15.064Z"
   },
   {
    "duration": 17,
    "start_time": "2022-05-12T07:23:15.271Z"
   },
   {
    "duration": 63,
    "start_time": "2022-05-12T07:23:15.292Z"
   },
   {
    "duration": 8,
    "start_time": "2022-05-12T07:23:15.358Z"
   },
   {
    "duration": 25,
    "start_time": "2022-05-12T07:23:15.369Z"
   },
   {
    "duration": 7,
    "start_time": "2022-05-12T07:23:15.424Z"
   },
   {
    "duration": 40,
    "start_time": "2022-05-12T07:23:15.434Z"
   },
   {
    "duration": 65,
    "start_time": "2022-05-12T07:23:15.477Z"
   },
   {
    "duration": 4,
    "start_time": "2022-05-12T07:24:30.899Z"
   },
   {
    "duration": 208,
    "start_time": "2022-05-12T07:24:30.906Z"
   },
   {
    "duration": 194,
    "start_time": "2022-05-12T07:24:31.117Z"
   },
   {
    "duration": 22,
    "start_time": "2022-05-12T07:24:31.314Z"
   },
   {
    "duration": 56,
    "start_time": "2022-05-12T07:24:31.339Z"
   },
   {
    "duration": 6,
    "start_time": "2022-05-12T07:24:31.398Z"
   },
   {
    "duration": 23,
    "start_time": "2022-05-12T07:24:31.425Z"
   },
   {
    "duration": 9,
    "start_time": "2022-05-12T07:24:31.451Z"
   },
   {
    "duration": 63,
    "start_time": "2022-05-12T07:24:31.463Z"
   },
   {
    "duration": 35,
    "start_time": "2022-05-12T07:24:31.530Z"
   },
   {
    "duration": 59,
    "start_time": "2022-05-12T07:24:31.568Z"
   },
   {
    "duration": 3,
    "start_time": "2022-05-12T07:36:06.197Z"
   },
   {
    "duration": 227,
    "start_time": "2022-05-12T07:36:06.203Z"
   },
   {
    "duration": 200,
    "start_time": "2022-05-12T07:36:06.432Z"
   },
   {
    "duration": 16,
    "start_time": "2022-05-12T07:36:06.634Z"
   },
   {
    "duration": 45,
    "start_time": "2022-05-12T07:36:06.653Z"
   },
   {
    "duration": 26,
    "start_time": "2022-05-12T07:36:06.701Z"
   },
   {
    "duration": 22,
    "start_time": "2022-05-12T07:36:06.729Z"
   },
   {
    "duration": 13,
    "start_time": "2022-05-12T07:36:06.754Z"
   },
   {
    "duration": 68,
    "start_time": "2022-05-12T07:36:06.769Z"
   },
   {
    "duration": 39,
    "start_time": "2022-05-12T07:36:06.840Z"
   },
   {
    "duration": 219,
    "start_time": "2022-05-12T07:36:06.882Z"
   },
   {
    "duration": 4,
    "start_time": "2022-05-12T07:37:36.519Z"
   },
   {
    "duration": 216,
    "start_time": "2022-05-12T07:37:36.527Z"
   },
   {
    "duration": 188,
    "start_time": "2022-05-12T07:37:36.745Z"
   },
   {
    "duration": 16,
    "start_time": "2022-05-12T07:37:36.936Z"
   },
   {
    "duration": 43,
    "start_time": "2022-05-12T07:37:36.954Z"
   },
   {
    "duration": 28,
    "start_time": "2022-05-12T07:37:36.999Z"
   },
   {
    "duration": 26,
    "start_time": "2022-05-12T07:37:37.029Z"
   },
   {
    "duration": 8,
    "start_time": "2022-05-12T07:37:37.057Z"
   },
   {
    "duration": 93,
    "start_time": "2022-05-12T07:37:37.068Z"
   },
   {
    "duration": 65,
    "start_time": "2022-05-12T07:37:37.165Z"
   },
   {
    "duration": 7,
    "start_time": "2022-05-12T07:37:37.233Z"
   },
   {
    "duration": 4,
    "start_time": "2022-05-12T07:38:12.875Z"
   },
   {
    "duration": 205,
    "start_time": "2022-05-12T07:38:12.881Z"
   },
   {
    "duration": 190,
    "start_time": "2022-05-12T07:38:13.088Z"
   },
   {
    "duration": 16,
    "start_time": "2022-05-12T07:38:13.281Z"
   },
   {
    "duration": 63,
    "start_time": "2022-05-12T07:38:13.299Z"
   },
   {
    "duration": 6,
    "start_time": "2022-05-12T07:38:13.364Z"
   },
   {
    "duration": 23,
    "start_time": "2022-05-12T07:38:13.372Z"
   },
   {
    "duration": 29,
    "start_time": "2022-05-12T07:38:13.397Z"
   },
   {
    "duration": 41,
    "start_time": "2022-05-12T07:38:13.428Z"
   },
   {
    "duration": 52,
    "start_time": "2022-05-12T07:38:13.474Z"
   },
   {
    "duration": 6,
    "start_time": "2022-05-12T07:38:13.528Z"
   },
   {
    "duration": 3,
    "start_time": "2022-05-12T07:38:33.282Z"
   },
   {
    "duration": 221,
    "start_time": "2022-05-12T07:38:33.289Z"
   },
   {
    "duration": 207,
    "start_time": "2022-05-12T07:38:33.514Z"
   },
   {
    "duration": 17,
    "start_time": "2022-05-12T07:38:33.724Z"
   },
   {
    "duration": 43,
    "start_time": "2022-05-12T07:38:33.746Z"
   },
   {
    "duration": 36,
    "start_time": "2022-05-12T07:38:33.792Z"
   },
   {
    "duration": 52,
    "start_time": "2022-05-12T07:38:33.832Z"
   },
   {
    "duration": 10,
    "start_time": "2022-05-12T07:38:33.888Z"
   },
   {
    "duration": 74,
    "start_time": "2022-05-12T07:38:33.901Z"
   },
   {
    "duration": 66,
    "start_time": "2022-05-12T07:38:33.979Z"
   },
   {
    "duration": 42,
    "start_time": "2022-05-12T07:38:34.048Z"
   },
   {
    "duration": 4,
    "start_time": "2022-05-12T07:39:14.342Z"
   },
   {
    "duration": 206,
    "start_time": "2022-05-12T07:39:14.349Z"
   },
   {
    "duration": 185,
    "start_time": "2022-05-12T07:39:14.558Z"
   },
   {
    "duration": 17,
    "start_time": "2022-05-12T07:39:14.746Z"
   },
   {
    "duration": 59,
    "start_time": "2022-05-12T07:39:14.765Z"
   },
   {
    "duration": 6,
    "start_time": "2022-05-12T07:39:14.827Z"
   },
   {
    "duration": 25,
    "start_time": "2022-05-12T07:39:14.835Z"
   },
   {
    "duration": 11,
    "start_time": "2022-05-12T07:39:14.862Z"
   },
   {
    "duration": 71,
    "start_time": "2022-05-12T07:39:14.876Z"
   },
   {
    "duration": 35,
    "start_time": "2022-05-12T07:39:14.951Z"
   },
   {
    "duration": 38,
    "start_time": "2022-05-12T07:39:14.989Z"
   },
   {
    "duration": 4,
    "start_time": "2022-05-12T07:39:46.812Z"
   },
   {
    "duration": 223,
    "start_time": "2022-05-12T07:39:46.819Z"
   },
   {
    "duration": 192,
    "start_time": "2022-05-12T07:39:47.045Z"
   },
   {
    "duration": 23,
    "start_time": "2022-05-12T07:39:47.240Z"
   },
   {
    "duration": 83,
    "start_time": "2022-05-12T07:39:47.266Z"
   },
   {
    "duration": 7,
    "start_time": "2022-05-12T07:39:47.352Z"
   },
   {
    "duration": 36,
    "start_time": "2022-05-12T07:39:47.362Z"
   },
   {
    "duration": 25,
    "start_time": "2022-05-12T07:39:47.401Z"
   },
   {
    "duration": 44,
    "start_time": "2022-05-12T07:39:47.430Z"
   },
   {
    "duration": 57,
    "start_time": "2022-05-12T07:39:47.476Z"
   },
   {
    "duration": 44,
    "start_time": "2022-05-12T07:39:47.536Z"
   },
   {
    "duration": 4,
    "start_time": "2022-05-12T07:46:05.120Z"
   },
   {
    "duration": 1705,
    "start_time": "2022-05-12T07:46:05.128Z"
   },
   {
    "duration": 195,
    "start_time": "2022-05-12T07:46:06.836Z"
   },
   {
    "duration": 16,
    "start_time": "2022-05-12T07:46:07.034Z"
   },
   {
    "duration": 49,
    "start_time": "2022-05-12T07:46:07.053Z"
   },
   {
    "duration": 20,
    "start_time": "2022-05-12T07:46:07.125Z"
   },
   {
    "duration": 70,
    "start_time": "2022-05-12T07:46:07.148Z"
   },
   {
    "duration": 22,
    "start_time": "2022-05-12T07:46:07.221Z"
   },
   {
    "duration": 47,
    "start_time": "2022-05-12T07:46:07.246Z"
   },
   {
    "duration": 62,
    "start_time": "2022-05-12T07:46:07.295Z"
   },
   {
    "duration": 46,
    "start_time": "2022-05-12T07:46:07.359Z"
   },
   {
    "duration": 3,
    "start_time": "2022-05-12T07:47:21.206Z"
   },
   {
    "duration": 312,
    "start_time": "2022-05-12T07:47:21.212Z"
   },
   {
    "duration": 314,
    "start_time": "2022-05-12T07:47:21.528Z"
   },
   {
    "duration": 24,
    "start_time": "2022-05-12T07:47:21.846Z"
   },
   {
    "duration": 64,
    "start_time": "2022-05-12T07:47:21.873Z"
   },
   {
    "duration": 6,
    "start_time": "2022-05-12T07:47:21.939Z"
   },
   {
    "duration": 22,
    "start_time": "2022-05-12T07:47:21.947Z"
   },
   {
    "duration": 10,
    "start_time": "2022-05-12T07:47:21.972Z"
   },
   {
    "duration": 70,
    "start_time": "2022-05-12T07:47:21.985Z"
   },
   {
    "duration": 72,
    "start_time": "2022-05-12T07:47:22.057Z"
   },
   {
    "duration": 35,
    "start_time": "2022-05-12T07:47:22.133Z"
   },
   {
    "duration": 3,
    "start_time": "2022-05-12T08:05:08.199Z"
   },
   {
    "duration": 201,
    "start_time": "2022-05-12T08:05:08.205Z"
   },
   {
    "duration": 178,
    "start_time": "2022-05-12T08:05:08.409Z"
   },
   {
    "duration": 15,
    "start_time": "2022-05-12T08:05:08.591Z"
   },
   {
    "duration": 40,
    "start_time": "2022-05-12T08:05:08.624Z"
   },
   {
    "duration": 6,
    "start_time": "2022-05-12T08:05:08.666Z"
   },
   {
    "duration": 22,
    "start_time": "2022-05-12T08:05:08.674Z"
   },
   {
    "duration": 30,
    "start_time": "2022-05-12T08:05:08.698Z"
   },
   {
    "duration": 45,
    "start_time": "2022-05-12T08:05:08.731Z"
   },
   {
    "duration": 56,
    "start_time": "2022-05-12T08:05:08.779Z"
   },
   {
    "duration": 34,
    "start_time": "2022-05-12T08:05:08.837Z"
   },
   {
    "duration": 4,
    "start_time": "2022-05-12T08:05:58.978Z"
   },
   {
    "duration": 203,
    "start_time": "2022-05-12T08:05:58.987Z"
   },
   {
    "duration": 193,
    "start_time": "2022-05-12T08:05:59.193Z"
   },
   {
    "duration": 16,
    "start_time": "2022-05-12T08:05:59.388Z"
   },
   {
    "duration": 67,
    "start_time": "2022-05-12T08:05:59.407Z"
   },
   {
    "duration": 24,
    "start_time": "2022-05-12T08:05:59.476Z"
   },
   {
    "duration": 52,
    "start_time": "2022-05-12T08:05:59.503Z"
   },
   {
    "duration": 25,
    "start_time": "2022-05-12T08:05:59.557Z"
   },
   {
    "duration": 50,
    "start_time": "2022-05-12T08:05:59.584Z"
   },
   {
    "duration": 55,
    "start_time": "2022-05-12T08:05:59.637Z"
   },
   {
    "duration": 52,
    "start_time": "2022-05-12T08:05:59.694Z"
   },
   {
    "duration": 3,
    "start_time": "2022-05-12T08:07:00.279Z"
   },
   {
    "duration": 217,
    "start_time": "2022-05-12T08:07:00.285Z"
   },
   {
    "duration": 195,
    "start_time": "2022-05-12T08:07:00.504Z"
   },
   {
    "duration": 23,
    "start_time": "2022-05-12T08:07:00.702Z"
   },
   {
    "duration": 45,
    "start_time": "2022-05-12T08:07:00.727Z"
   },
   {
    "duration": 5,
    "start_time": "2022-05-12T08:07:00.775Z"
   },
   {
    "duration": 45,
    "start_time": "2022-05-12T08:07:00.782Z"
   },
   {
    "duration": 21,
    "start_time": "2022-05-12T08:07:00.829Z"
   },
   {
    "duration": 44,
    "start_time": "2022-05-12T08:07:00.852Z"
   },
   {
    "duration": 45,
    "start_time": "2022-05-12T08:07:00.899Z"
   },
   {
    "duration": 38,
    "start_time": "2022-05-12T08:07:00.946Z"
   },
   {
    "duration": 4,
    "start_time": "2022-05-12T08:07:27.967Z"
   },
   {
    "duration": 406,
    "start_time": "2022-05-12T08:07:27.973Z"
   },
   {
    "duration": 239,
    "start_time": "2022-05-12T08:07:28.381Z"
   },
   {
    "duration": 17,
    "start_time": "2022-05-12T08:07:28.625Z"
   },
   {
    "duration": 44,
    "start_time": "2022-05-12T08:07:28.644Z"
   },
   {
    "duration": 6,
    "start_time": "2022-05-12T08:07:28.690Z"
   },
   {
    "duration": 26,
    "start_time": "2022-05-12T08:07:28.725Z"
   },
   {
    "duration": 11,
    "start_time": "2022-05-12T08:07:28.753Z"
   },
   {
    "duration": 59,
    "start_time": "2022-05-12T08:07:28.767Z"
   },
   {
    "duration": 34,
    "start_time": "2022-05-12T08:07:28.828Z"
   },
   {
    "duration": 67,
    "start_time": "2022-05-12T08:07:28.864Z"
   },
   {
    "duration": 4,
    "start_time": "2022-05-12T08:07:53.726Z"
   },
   {
    "duration": 202,
    "start_time": "2022-05-12T08:07:53.732Z"
   },
   {
    "duration": 185,
    "start_time": "2022-05-12T08:07:53.936Z"
   },
   {
    "duration": 15,
    "start_time": "2022-05-12T08:07:54.125Z"
   },
   {
    "duration": 41,
    "start_time": "2022-05-12T08:07:54.144Z"
   },
   {
    "duration": 6,
    "start_time": "2022-05-12T08:07:54.187Z"
   },
   {
    "duration": 44,
    "start_time": "2022-05-12T08:07:54.195Z"
   },
   {
    "duration": 23,
    "start_time": "2022-05-12T08:07:54.241Z"
   },
   {
    "duration": 40,
    "start_time": "2022-05-12T08:07:54.267Z"
   },
   {
    "duration": 47,
    "start_time": "2022-05-12T08:07:54.310Z"
   },
   {
    "duration": 40,
    "start_time": "2022-05-12T08:07:54.360Z"
   },
   {
    "duration": 3,
    "start_time": "2022-05-12T08:08:50.856Z"
   },
   {
    "duration": 207,
    "start_time": "2022-05-12T08:08:50.862Z"
   },
   {
    "duration": 185,
    "start_time": "2022-05-12T08:08:51.072Z"
   },
   {
    "duration": 14,
    "start_time": "2022-05-12T08:08:51.260Z"
   },
   {
    "duration": 62,
    "start_time": "2022-05-12T08:08:51.277Z"
   },
   {
    "duration": 12,
    "start_time": "2022-05-12T08:08:51.341Z"
   },
   {
    "duration": 31,
    "start_time": "2022-05-12T08:08:51.356Z"
   },
   {
    "duration": 24,
    "start_time": "2022-05-12T08:08:51.389Z"
   },
   {
    "duration": 47,
    "start_time": "2022-05-12T08:08:51.415Z"
   },
   {
    "duration": 51,
    "start_time": "2022-05-12T08:08:51.464Z"
   },
   {
    "duration": 41,
    "start_time": "2022-05-12T08:08:51.518Z"
   },
   {
    "duration": 3,
    "start_time": "2022-05-12T08:09:39.416Z"
   },
   {
    "duration": 201,
    "start_time": "2022-05-12T08:09:39.422Z"
   },
   {
    "duration": 182,
    "start_time": "2022-05-12T08:09:39.626Z"
   },
   {
    "duration": 21,
    "start_time": "2022-05-12T08:09:39.811Z"
   },
   {
    "duration": 41,
    "start_time": "2022-05-12T08:09:39.834Z"
   },
   {
    "duration": 6,
    "start_time": "2022-05-12T08:09:39.878Z"
   },
   {
    "duration": 55,
    "start_time": "2022-05-12T08:09:39.886Z"
   },
   {
    "duration": 7,
    "start_time": "2022-05-12T08:09:39.943Z"
   },
   {
    "duration": 39,
    "start_time": "2022-05-12T08:09:39.952Z"
   },
   {
    "duration": 59,
    "start_time": "2022-05-12T08:09:39.995Z"
   },
   {
    "duration": 37,
    "start_time": "2022-05-12T08:09:40.056Z"
   },
   {
    "duration": 4,
    "start_time": "2022-05-12T08:10:21.231Z"
   },
   {
    "duration": 208,
    "start_time": "2022-05-12T08:10:21.238Z"
   },
   {
    "duration": 193,
    "start_time": "2022-05-12T08:10:21.449Z"
   },
   {
    "duration": 16,
    "start_time": "2022-05-12T08:10:21.645Z"
   },
   {
    "duration": 48,
    "start_time": "2022-05-12T08:10:21.664Z"
   },
   {
    "duration": 5,
    "start_time": "2022-05-12T08:10:21.726Z"
   },
   {
    "duration": 23,
    "start_time": "2022-05-12T08:10:21.734Z"
   },
   {
    "duration": 12,
    "start_time": "2022-05-12T08:10:21.759Z"
   },
   {
    "duration": 70,
    "start_time": "2022-05-12T08:10:21.773Z"
   },
   {
    "duration": 34,
    "start_time": "2022-05-12T08:10:21.846Z"
   },
   {
    "duration": 62,
    "start_time": "2022-05-12T08:10:21.884Z"
   },
   {
    "duration": 4,
    "start_time": "2022-05-12T08:11:13.367Z"
   },
   {
    "duration": 205,
    "start_time": "2022-05-12T08:11:13.375Z"
   },
   {
    "duration": 195,
    "start_time": "2022-05-12T08:11:13.582Z"
   },
   {
    "duration": 16,
    "start_time": "2022-05-12T08:11:13.780Z"
   },
   {
    "duration": 61,
    "start_time": "2022-05-12T08:11:13.798Z"
   },
   {
    "duration": 6,
    "start_time": "2022-05-12T08:11:13.861Z"
   },
   {
    "duration": 23,
    "start_time": "2022-05-12T08:11:13.869Z"
   },
   {
    "duration": 38,
    "start_time": "2022-05-12T08:11:13.894Z"
   },
   {
    "duration": 46,
    "start_time": "2022-05-12T08:11:13.935Z"
   },
   {
    "duration": 52,
    "start_time": "2022-05-12T08:11:13.985Z"
   },
   {
    "duration": 59,
    "start_time": "2022-05-12T08:11:14.040Z"
   },
   {
    "duration": 3,
    "start_time": "2022-05-12T08:11:56.495Z"
   },
   {
    "duration": 199,
    "start_time": "2022-05-12T08:11:56.501Z"
   },
   {
    "duration": 190,
    "start_time": "2022-05-12T08:11:56.702Z"
   },
   {
    "duration": 16,
    "start_time": "2022-05-12T08:11:56.895Z"
   },
   {
    "duration": 49,
    "start_time": "2022-05-12T08:11:56.913Z"
   },
   {
    "duration": 44,
    "start_time": "2022-05-12T08:11:56.965Z"
   },
   {
    "duration": 32,
    "start_time": "2022-05-12T08:11:57.011Z"
   },
   {
    "duration": 26,
    "start_time": "2022-05-12T08:11:57.045Z"
   },
   {
    "duration": 47,
    "start_time": "2022-05-12T08:11:57.074Z"
   },
   {
    "duration": 54,
    "start_time": "2022-05-12T08:11:57.124Z"
   },
   {
    "duration": 39,
    "start_time": "2022-05-12T08:11:57.180Z"
   },
   {
    "duration": 4,
    "start_time": "2022-05-12T08:12:20.370Z"
   },
   {
    "duration": 205,
    "start_time": "2022-05-12T08:12:20.376Z"
   },
   {
    "duration": 183,
    "start_time": "2022-05-12T08:12:20.584Z"
   },
   {
    "duration": 16,
    "start_time": "2022-05-12T08:12:20.770Z"
   },
   {
    "duration": 59,
    "start_time": "2022-05-12T08:12:20.789Z"
   },
   {
    "duration": 6,
    "start_time": "2022-05-12T08:12:20.850Z"
   },
   {
    "duration": 22,
    "start_time": "2022-05-12T08:12:20.858Z"
   },
   {
    "duration": 8,
    "start_time": "2022-05-12T08:12:20.882Z"
   },
   {
    "duration": 67,
    "start_time": "2022-05-12T08:12:20.892Z"
   },
   {
    "duration": 41,
    "start_time": "2022-05-12T08:12:20.962Z"
   },
   {
    "duration": 55,
    "start_time": "2022-05-12T08:12:21.005Z"
   },
   {
    "duration": 4,
    "start_time": "2022-05-12T08:12:51.427Z"
   },
   {
    "duration": 220,
    "start_time": "2022-05-12T08:12:51.434Z"
   },
   {
    "duration": 207,
    "start_time": "2022-05-12T08:12:51.656Z"
   },
   {
    "duration": 17,
    "start_time": "2022-05-12T08:12:51.865Z"
   },
   {
    "duration": 70,
    "start_time": "2022-05-12T08:12:51.886Z"
   },
   {
    "duration": 7,
    "start_time": "2022-05-12T08:12:51.959Z"
   },
   {
    "duration": 23,
    "start_time": "2022-05-12T08:12:51.969Z"
   },
   {
    "duration": 7,
    "start_time": "2022-05-12T08:12:52.025Z"
   },
   {
    "duration": 40,
    "start_time": "2022-05-12T08:12:52.035Z"
   },
   {
    "duration": 60,
    "start_time": "2022-05-12T08:12:52.078Z"
   },
   {
    "duration": 39,
    "start_time": "2022-05-12T08:12:52.141Z"
   },
   {
    "duration": 4,
    "start_time": "2022-05-12T08:13:35.550Z"
   },
   {
    "duration": 233,
    "start_time": "2022-05-12T08:13:35.557Z"
   },
   {
    "duration": 196,
    "start_time": "2022-05-12T08:13:35.793Z"
   },
   {
    "duration": 16,
    "start_time": "2022-05-12T08:13:35.991Z"
   },
   {
    "duration": 42,
    "start_time": "2022-05-12T08:13:36.025Z"
   },
   {
    "duration": 8,
    "start_time": "2022-05-12T08:13:36.069Z"
   },
   {
    "duration": 47,
    "start_time": "2022-05-12T08:13:36.080Z"
   },
   {
    "duration": 10,
    "start_time": "2022-05-12T08:13:36.130Z"
   },
   {
    "duration": 40,
    "start_time": "2022-05-12T08:13:36.142Z"
   },
   {
    "duration": 58,
    "start_time": "2022-05-12T08:13:36.184Z"
   },
   {
    "duration": 39,
    "start_time": "2022-05-12T08:13:36.245Z"
   },
   {
    "duration": 4,
    "start_time": "2022-05-12T08:15:00.702Z"
   },
   {
    "duration": 321,
    "start_time": "2022-05-12T08:15:00.709Z"
   },
   {
    "duration": 346,
    "start_time": "2022-05-12T08:15:01.034Z"
   },
   {
    "duration": 16,
    "start_time": "2022-05-12T08:15:01.384Z"
   },
   {
    "duration": 57,
    "start_time": "2022-05-12T08:15:01.402Z"
   },
   {
    "duration": 14,
    "start_time": "2022-05-12T08:15:01.461Z"
   },
   {
    "duration": 48,
    "start_time": "2022-05-12T08:15:01.478Z"
   },
   {
    "duration": 20,
    "start_time": "2022-05-12T08:15:01.530Z"
   },
   {
    "duration": 41,
    "start_time": "2022-05-12T08:15:01.554Z"
   },
   {
    "duration": 50,
    "start_time": "2022-05-12T08:15:01.597Z"
   },
   {
    "duration": 49,
    "start_time": "2022-05-12T08:15:01.650Z"
   },
   {
    "duration": 3,
    "start_time": "2022-05-12T08:15:26.012Z"
   },
   {
    "duration": 223,
    "start_time": "2022-05-12T08:15:26.018Z"
   },
   {
    "duration": 197,
    "start_time": "2022-05-12T08:15:26.243Z"
   },
   {
    "duration": 16,
    "start_time": "2022-05-12T08:15:26.442Z"
   },
   {
    "duration": 87,
    "start_time": "2022-05-12T08:15:26.461Z"
   },
   {
    "duration": 27,
    "start_time": "2022-05-12T08:15:26.551Z"
   },
   {
    "duration": 53,
    "start_time": "2022-05-12T08:15:26.580Z"
   },
   {
    "duration": 28,
    "start_time": "2022-05-12T08:15:26.635Z"
   },
   {
    "duration": 72,
    "start_time": "2022-05-12T08:15:26.666Z"
   },
   {
    "duration": 51,
    "start_time": "2022-05-12T08:15:26.740Z"
   },
   {
    "duration": 43,
    "start_time": "2022-05-12T08:15:26.794Z"
   },
   {
    "duration": 4,
    "start_time": "2022-05-12T08:15:51.107Z"
   },
   {
    "duration": 207,
    "start_time": "2022-05-12T08:15:51.114Z"
   },
   {
    "duration": 185,
    "start_time": "2022-05-12T08:15:51.323Z"
   },
   {
    "duration": 20,
    "start_time": "2022-05-12T08:15:51.510Z"
   },
   {
    "duration": 55,
    "start_time": "2022-05-12T08:15:51.533Z"
   },
   {
    "duration": 11,
    "start_time": "2022-05-12T08:15:51.590Z"
   },
   {
    "duration": 38,
    "start_time": "2022-05-12T08:15:51.603Z"
   },
   {
    "duration": 13,
    "start_time": "2022-05-12T08:15:51.643Z"
   },
   {
    "duration": 39,
    "start_time": "2022-05-12T08:15:51.658Z"
   },
   {
    "duration": 55,
    "start_time": "2022-05-12T08:15:51.699Z"
   },
   {
    "duration": 38,
    "start_time": "2022-05-12T08:15:51.756Z"
   },
   {
    "duration": 4,
    "start_time": "2022-05-12T08:16:11.027Z"
   },
   {
    "duration": 218,
    "start_time": "2022-05-12T08:16:11.034Z"
   },
   {
    "duration": 184,
    "start_time": "2022-05-12T08:16:11.254Z"
   },
   {
    "duration": 17,
    "start_time": "2022-05-12T08:16:11.440Z"
   },
   {
    "duration": 42,
    "start_time": "2022-05-12T08:16:11.460Z"
   },
   {
    "duration": 6,
    "start_time": "2022-05-12T08:16:11.525Z"
   },
   {
    "duration": 23,
    "start_time": "2022-05-12T08:16:11.534Z"
   },
   {
    "duration": 8,
    "start_time": "2022-05-12T08:16:11.560Z"
   },
   {
    "duration": 69,
    "start_time": "2022-05-12T08:16:11.570Z"
   },
   {
    "duration": 35,
    "start_time": "2022-05-12T08:16:11.642Z"
   },
   {
    "duration": 66,
    "start_time": "2022-05-12T08:16:11.679Z"
   },
   {
    "duration": 3,
    "start_time": "2022-05-12T08:16:34.291Z"
   },
   {
    "duration": 1684,
    "start_time": "2022-05-12T08:16:34.297Z"
   },
   {
    "duration": 473,
    "start_time": "2022-05-12T08:16:35.983Z"
   },
   {
    "duration": 17,
    "start_time": "2022-05-12T08:16:36.458Z"
   },
   {
    "duration": 148,
    "start_time": "2022-05-12T08:16:36.477Z"
   },
   {
    "duration": 8,
    "start_time": "2022-05-12T08:16:36.629Z"
   },
   {
    "duration": 100,
    "start_time": "2022-05-12T08:16:36.640Z"
   },
   {
    "duration": 14,
    "start_time": "2022-05-12T08:16:36.743Z"
   },
   {
    "duration": 98,
    "start_time": "2022-05-12T08:16:36.760Z"
   },
   {
    "duration": 35,
    "start_time": "2022-05-12T08:16:36.860Z"
   },
   {
    "duration": 56,
    "start_time": "2022-05-12T08:16:36.897Z"
   },
   {
    "duration": 198,
    "start_time": "2022-05-12T21:28:09.920Z"
   },
   {
    "duration": 451,
    "start_time": "2022-05-12T21:29:38.676Z"
   },
   {
    "duration": 603,
    "start_time": "2022-05-12T21:29:39.129Z"
   },
   {
    "duration": 231,
    "start_time": "2022-05-12T21:29:39.734Z"
   },
   {
    "duration": 18,
    "start_time": "2022-05-12T21:29:39.968Z"
   },
   {
    "duration": 70,
    "start_time": "2022-05-12T21:29:39.989Z"
   },
   {
    "duration": 5,
    "start_time": "2022-05-12T21:29:40.063Z"
   },
   {
    "duration": 15,
    "start_time": "2022-05-12T21:29:40.070Z"
   },
   {
    "duration": 37,
    "start_time": "2022-05-12T21:29:40.087Z"
   },
   {
    "duration": 47,
    "start_time": "2022-05-12T21:29:40.127Z"
   },
   {
    "duration": 62,
    "start_time": "2022-05-12T21:29:40.177Z"
   },
   {
    "duration": 39,
    "start_time": "2022-05-12T21:29:40.241Z"
   },
   {
    "duration": 69,
    "start_time": "2022-05-12T21:29:40.283Z"
   },
   {
    "duration": 94,
    "start_time": "2022-05-12T21:29:40.354Z"
   },
   {
    "duration": 104,
    "start_time": "2022-05-12T21:29:40.453Z"
   },
   {
    "duration": 77,
    "start_time": "2022-05-12T21:29:40.559Z"
   },
   {
    "duration": 98,
    "start_time": "2022-05-12T21:29:40.638Z"
   },
   {
    "duration": 22,
    "start_time": "2022-05-12T21:29:40.738Z"
   },
   {
    "duration": 90,
    "start_time": "2022-05-12T21:29:40.762Z"
   },
   {
    "duration": 69,
    "start_time": "2022-05-12T21:29:40.854Z"
   },
   {
    "duration": 13,
    "start_time": "2022-05-12T21:29:40.925Z"
   },
   {
    "duration": 13,
    "start_time": "2022-05-12T21:29:40.939Z"
   },
   {
    "duration": 3,
    "start_time": "2022-05-12T21:29:40.954Z"
   },
   {
    "duration": 9,
    "start_time": "2022-05-12T21:29:40.959Z"
   },
   {
    "duration": 21,
    "start_time": "2022-05-12T21:29:40.970Z"
   },
   {
    "duration": 47,
    "start_time": "2022-05-12T21:29:40.993Z"
   },
   {
    "duration": 19,
    "start_time": "2022-05-12T21:29:41.041Z"
   },
   {
    "duration": 15,
    "start_time": "2022-05-12T21:29:41.062Z"
   },
   {
    "duration": 47,
    "start_time": "2022-05-12T21:29:41.079Z"
   },
   {
    "duration": 17,
    "start_time": "2022-05-12T21:29:41.128Z"
   },
   {
    "duration": 6,
    "start_time": "2022-05-12T21:29:41.146Z"
   },
   {
    "duration": 25,
    "start_time": "2022-05-12T21:29:41.154Z"
   },
   {
    "duration": 55,
    "start_time": "2022-05-12T21:29:41.180Z"
   },
   {
    "duration": 4,
    "start_time": "2022-05-12T21:29:41.237Z"
   },
   {
    "duration": 10,
    "start_time": "2022-05-12T21:29:41.243Z"
   },
   {
    "duration": 24,
    "start_time": "2022-05-12T21:29:41.255Z"
   },
   {
    "duration": 17,
    "start_time": "2022-05-12T21:29:41.282Z"
   },
   {
    "duration": 37,
    "start_time": "2022-05-12T21:29:41.301Z"
   },
   {
    "duration": 12,
    "start_time": "2022-05-12T21:29:41.340Z"
   },
   {
    "duration": 79,
    "start_time": "2022-05-12T21:29:41.354Z"
   },
   {
    "duration": 16,
    "start_time": "2022-05-12T21:29:41.435Z"
   },
   {
    "duration": 44,
    "start_time": "2022-05-12T21:29:41.456Z"
   },
   {
    "duration": 27,
    "start_time": "2022-05-12T21:29:41.502Z"
   },
   {
    "duration": 49,
    "start_time": "2022-05-13T05:16:12.633Z"
   },
   {
    "duration": 417,
    "start_time": "2022-05-13T05:16:46.924Z"
   },
   {
    "duration": 625,
    "start_time": "2022-05-13T05:16:47.343Z"
   },
   {
    "duration": 122,
    "start_time": "2022-05-13T05:16:47.970Z"
   },
   {
    "duration": 14,
    "start_time": "2022-05-13T05:16:48.094Z"
   },
   {
    "duration": 28,
    "start_time": "2022-05-13T05:16:48.110Z"
   },
   {
    "duration": 4,
    "start_time": "2022-05-13T05:16:48.139Z"
   },
   {
    "duration": 13,
    "start_time": "2022-05-13T05:16:48.145Z"
   },
   {
    "duration": 5,
    "start_time": "2022-05-13T05:16:48.159Z"
   },
   {
    "duration": 51,
    "start_time": "2022-05-13T05:16:48.165Z"
   },
   {
    "duration": 40,
    "start_time": "2022-05-13T05:16:48.217Z"
   },
   {
    "duration": 37,
    "start_time": "2022-05-13T05:16:48.259Z"
   },
   {
    "duration": 26,
    "start_time": "2022-05-13T05:18:22.782Z"
   },
   {
    "duration": 25,
    "start_time": "2022-05-13T05:19:26.297Z"
   },
   {
    "duration": 27,
    "start_time": "2022-05-13T05:20:33.272Z"
   },
   {
    "duration": 37,
    "start_time": "2022-05-13T05:21:43.008Z"
   },
   {
    "duration": 19,
    "start_time": "2022-05-13T05:23:28.379Z"
   },
   {
    "duration": 24,
    "start_time": "2022-05-13T05:23:35.646Z"
   },
   {
    "duration": 23,
    "start_time": "2022-05-13T05:24:04.263Z"
   },
   {
    "duration": 23,
    "start_time": "2022-05-13T05:24:41.538Z"
   },
   {
    "duration": 20,
    "start_time": "2022-05-13T06:55:58.351Z"
   },
   {
    "duration": 23,
    "start_time": "2022-05-13T06:56:11.787Z"
   },
   {
    "duration": 25,
    "start_time": "2022-05-13T07:08:50.040Z"
   }
  ],
  "colab": {
   "collapsed_sections": [
    "E0vqbgi9ay0H",
    "VUC88oWjTJw2",
    "atZAxtq4_Zcu"
   ],
   "name": "EmptyFinalProject.ipynb\"",
   "provenance": []
  },
  "kernelspec": {
   "display_name": "Python 3 (ipykernel)",
   "language": "python",
   "name": "python3"
  },
  "language_info": {
   "codemirror_mode": {
    "name": "ipython",
    "version": 3
   },
   "file_extension": ".py",
   "mimetype": "text/x-python",
   "name": "python",
   "nbconvert_exporter": "python",
   "pygments_lexer": "ipython3",
   "version": "3.9.7"
  },
  "toc": {
   "base_numbering": 1,
   "nav_menu": {},
   "number_sections": true,
   "sideBar": true,
   "skip_h1_title": true,
   "title_cell": "Table of Contents",
   "title_sidebar": "Contents",
   "toc_cell": false,
   "toc_position": {},
   "toc_section_display": true,
   "toc_window_display": false
  }
 },
 "nbformat": 4,
 "nbformat_minor": 4
}
